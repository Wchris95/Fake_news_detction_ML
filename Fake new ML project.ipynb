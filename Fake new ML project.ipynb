{
 "cells": [
  {
   "cell_type": "code",
   "execution_count": 1,
   "id": "f9d1cff5",
   "metadata": {},
   "outputs": [],
   "source": [
    "import en_core_web_sm\n",
    "nlp = en_core_web_sm.load()"
   ]
  },
  {
   "cell_type": "code",
   "execution_count": 2,
   "id": "e3fbe10e",
   "metadata": {},
   "outputs": [
    {
     "data": {
      "text/html": [
       "<div>\n",
       "<style scoped>\n",
       "    .dataframe tbody tr th:only-of-type {\n",
       "        vertical-align: middle;\n",
       "    }\n",
       "\n",
       "    .dataframe tbody tr th {\n",
       "        vertical-align: top;\n",
       "    }\n",
       "\n",
       "    .dataframe thead th {\n",
       "        text-align: right;\n",
       "    }\n",
       "</style>\n",
       "<table border=\"1\" class=\"dataframe\">\n",
       "  <thead>\n",
       "    <tr style=\"text-align: right;\">\n",
       "      <th></th>\n",
       "      <th>title</th>\n",
       "      <th>text</th>\n",
       "      <th>subject</th>\n",
       "      <th>date</th>\n",
       "    </tr>\n",
       "  </thead>\n",
       "  <tbody>\n",
       "    <tr>\n",
       "      <th>0</th>\n",
       "      <td>As U.S. budget fight looms, Republicans flip t...</td>\n",
       "      <td>WASHINGTON (Reuters) - The head of a conservat...</td>\n",
       "      <td>politicsNews</td>\n",
       "      <td>December 31, 2017</td>\n",
       "    </tr>\n",
       "    <tr>\n",
       "      <th>1</th>\n",
       "      <td>U.S. military to accept transgender recruits o...</td>\n",
       "      <td>WASHINGTON (Reuters) - Transgender people will...</td>\n",
       "      <td>politicsNews</td>\n",
       "      <td>December 29, 2017</td>\n",
       "    </tr>\n",
       "    <tr>\n",
       "      <th>2</th>\n",
       "      <td>Senior U.S. Republican senator: 'Let Mr. Muell...</td>\n",
       "      <td>WASHINGTON (Reuters) - The special counsel inv...</td>\n",
       "      <td>politicsNews</td>\n",
       "      <td>December 31, 2017</td>\n",
       "    </tr>\n",
       "    <tr>\n",
       "      <th>3</th>\n",
       "      <td>FBI Russia probe helped by Australian diplomat...</td>\n",
       "      <td>WASHINGTON (Reuters) - Trump campaign adviser ...</td>\n",
       "      <td>politicsNews</td>\n",
       "      <td>December 30, 2017</td>\n",
       "    </tr>\n",
       "    <tr>\n",
       "      <th>4</th>\n",
       "      <td>Trump wants Postal Service to charge 'much mor...</td>\n",
       "      <td>SEATTLE/WASHINGTON (Reuters) - President Donal...</td>\n",
       "      <td>politicsNews</td>\n",
       "      <td>December 29, 2017</td>\n",
       "    </tr>\n",
       "  </tbody>\n",
       "</table>\n",
       "</div>"
      ],
      "text/plain": [
       "                                               title  \\\n",
       "0  As U.S. budget fight looms, Republicans flip t...   \n",
       "1  U.S. military to accept transgender recruits o...   \n",
       "2  Senior U.S. Republican senator: 'Let Mr. Muell...   \n",
       "3  FBI Russia probe helped by Australian diplomat...   \n",
       "4  Trump wants Postal Service to charge 'much mor...   \n",
       "\n",
       "                                                text       subject  \\\n",
       "0  WASHINGTON (Reuters) - The head of a conservat...  politicsNews   \n",
       "1  WASHINGTON (Reuters) - Transgender people will...  politicsNews   \n",
       "2  WASHINGTON (Reuters) - The special counsel inv...  politicsNews   \n",
       "3  WASHINGTON (Reuters) - Trump campaign adviser ...  politicsNews   \n",
       "4  SEATTLE/WASHINGTON (Reuters) - President Donal...  politicsNews   \n",
       "\n",
       "                 date  \n",
       "0  December 31, 2017   \n",
       "1  December 29, 2017   \n",
       "2  December 31, 2017   \n",
       "3  December 30, 2017   \n",
       "4  December 29, 2017   "
      ]
     },
     "execution_count": 2,
     "metadata": {},
     "output_type": "execute_result"
    }
   ],
   "source": [
    "import pandas as pd\n",
    "\n",
    "df_true = pd.read_csv('True.csv')\n",
    "df_fake = pd.read_csv('Fake.csv')\n",
    "facebook_fake = pd.read_csv('facebook-fact-check.csv')\n",
    "\n",
    "df_true.head()"
   ]
  },
  {
   "cell_type": "code",
   "execution_count": 3,
   "id": "0bd18562",
   "metadata": {},
   "outputs": [
    {
     "data": {
      "text/html": [
       "<div>\n",
       "<style scoped>\n",
       "    .dataframe tbody tr th:only-of-type {\n",
       "        vertical-align: middle;\n",
       "    }\n",
       "\n",
       "    .dataframe tbody tr th {\n",
       "        vertical-align: top;\n",
       "    }\n",
       "\n",
       "    .dataframe thead th {\n",
       "        text-align: right;\n",
       "    }\n",
       "</style>\n",
       "<table border=\"1\" class=\"dataframe\">\n",
       "  <thead>\n",
       "    <tr style=\"text-align: right;\">\n",
       "      <th></th>\n",
       "      <th>title</th>\n",
       "      <th>text</th>\n",
       "      <th>subject</th>\n",
       "      <th>date</th>\n",
       "    </tr>\n",
       "  </thead>\n",
       "  <tbody>\n",
       "    <tr>\n",
       "      <th>0</th>\n",
       "      <td>Donald Trump Sends Out Embarrassing New Year’...</td>\n",
       "      <td>Donald Trump just couldn t wish all Americans ...</td>\n",
       "      <td>News</td>\n",
       "      <td>December 31, 2017</td>\n",
       "    </tr>\n",
       "    <tr>\n",
       "      <th>1</th>\n",
       "      <td>Drunk Bragging Trump Staffer Started Russian ...</td>\n",
       "      <td>House Intelligence Committee Chairman Devin Nu...</td>\n",
       "      <td>News</td>\n",
       "      <td>December 31, 2017</td>\n",
       "    </tr>\n",
       "    <tr>\n",
       "      <th>2</th>\n",
       "      <td>Sheriff David Clarke Becomes An Internet Joke...</td>\n",
       "      <td>On Friday, it was revealed that former Milwauk...</td>\n",
       "      <td>News</td>\n",
       "      <td>December 30, 2017</td>\n",
       "    </tr>\n",
       "    <tr>\n",
       "      <th>3</th>\n",
       "      <td>Trump Is So Obsessed He Even Has Obama’s Name...</td>\n",
       "      <td>On Christmas day, Donald Trump announced that ...</td>\n",
       "      <td>News</td>\n",
       "      <td>December 29, 2017</td>\n",
       "    </tr>\n",
       "    <tr>\n",
       "      <th>4</th>\n",
       "      <td>Pope Francis Just Called Out Donald Trump Dur...</td>\n",
       "      <td>Pope Francis used his annual Christmas Day mes...</td>\n",
       "      <td>News</td>\n",
       "      <td>December 25, 2017</td>\n",
       "    </tr>\n",
       "  </tbody>\n",
       "</table>\n",
       "</div>"
      ],
      "text/plain": [
       "                                               title  \\\n",
       "0   Donald Trump Sends Out Embarrassing New Year’...   \n",
       "1   Drunk Bragging Trump Staffer Started Russian ...   \n",
       "2   Sheriff David Clarke Becomes An Internet Joke...   \n",
       "3   Trump Is So Obsessed He Even Has Obama’s Name...   \n",
       "4   Pope Francis Just Called Out Donald Trump Dur...   \n",
       "\n",
       "                                                text subject  \\\n",
       "0  Donald Trump just couldn t wish all Americans ...    News   \n",
       "1  House Intelligence Committee Chairman Devin Nu...    News   \n",
       "2  On Friday, it was revealed that former Milwauk...    News   \n",
       "3  On Christmas day, Donald Trump announced that ...    News   \n",
       "4  Pope Francis used his annual Christmas Day mes...    News   \n",
       "\n",
       "                date  \n",
       "0  December 31, 2017  \n",
       "1  December 31, 2017  \n",
       "2  December 30, 2017  \n",
       "3  December 29, 2017  \n",
       "4  December 25, 2017  "
      ]
     },
     "execution_count": 3,
     "metadata": {},
     "output_type": "execute_result"
    }
   ],
   "source": [
    "df_fake.head()"
   ]
  },
  {
   "cell_type": "code",
   "execution_count": 4,
   "id": "e31b5903",
   "metadata": {},
   "outputs": [
    {
     "data": {
      "text/html": [
       "<div>\n",
       "<style scoped>\n",
       "    .dataframe tbody tr th:only-of-type {\n",
       "        vertical-align: middle;\n",
       "    }\n",
       "\n",
       "    .dataframe tbody tr th {\n",
       "        vertical-align: top;\n",
       "    }\n",
       "\n",
       "    .dataframe thead th {\n",
       "        text-align: right;\n",
       "    }\n",
       "</style>\n",
       "<table border=\"1\" class=\"dataframe\">\n",
       "  <thead>\n",
       "    <tr style=\"text-align: right;\">\n",
       "      <th></th>\n",
       "      <th>account_id</th>\n",
       "      <th>post_id</th>\n",
       "      <th>Category</th>\n",
       "      <th>Page</th>\n",
       "      <th>Post URL</th>\n",
       "      <th>Date Published</th>\n",
       "      <th>Post Type</th>\n",
       "      <th>Rating</th>\n",
       "      <th>Debate</th>\n",
       "      <th>share_count</th>\n",
       "      <th>reaction_count</th>\n",
       "      <th>comment_count</th>\n",
       "    </tr>\n",
       "  </thead>\n",
       "  <tbody>\n",
       "    <tr>\n",
       "      <th>0</th>\n",
       "      <td>184096565021911</td>\n",
       "      <td>1035057923259100</td>\n",
       "      <td>mainstream</td>\n",
       "      <td>ABC News Politics</td>\n",
       "      <td>https://www.facebook.com/ABCNewsPolitics/posts...</td>\n",
       "      <td>2016-09-19</td>\n",
       "      <td>video</td>\n",
       "      <td>no factual content</td>\n",
       "      <td>NaN</td>\n",
       "      <td>NaN</td>\n",
       "      <td>146.0</td>\n",
       "      <td>15.0</td>\n",
       "    </tr>\n",
       "    <tr>\n",
       "      <th>1</th>\n",
       "      <td>184096565021911</td>\n",
       "      <td>1035269309904628</td>\n",
       "      <td>mainstream</td>\n",
       "      <td>ABC News Politics</td>\n",
       "      <td>https://www.facebook.com/ABCNewsPolitics/posts...</td>\n",
       "      <td>2016-09-19</td>\n",
       "      <td>link</td>\n",
       "      <td>mostly true</td>\n",
       "      <td>NaN</td>\n",
       "      <td>1.0</td>\n",
       "      <td>33.0</td>\n",
       "      <td>34.0</td>\n",
       "    </tr>\n",
       "    <tr>\n",
       "      <th>2</th>\n",
       "      <td>184096565021911</td>\n",
       "      <td>1035305953234297</td>\n",
       "      <td>mainstream</td>\n",
       "      <td>ABC News Politics</td>\n",
       "      <td>https://www.facebook.com/ABCNewsPolitics/posts...</td>\n",
       "      <td>2016-09-19</td>\n",
       "      <td>link</td>\n",
       "      <td>mostly true</td>\n",
       "      <td>NaN</td>\n",
       "      <td>34.0</td>\n",
       "      <td>63.0</td>\n",
       "      <td>27.0</td>\n",
       "    </tr>\n",
       "    <tr>\n",
       "      <th>3</th>\n",
       "      <td>184096565021911</td>\n",
       "      <td>1035322636565962</td>\n",
       "      <td>mainstream</td>\n",
       "      <td>ABC News Politics</td>\n",
       "      <td>https://www.facebook.com/ABCNewsPolitics/posts...</td>\n",
       "      <td>2016-09-19</td>\n",
       "      <td>link</td>\n",
       "      <td>mostly true</td>\n",
       "      <td>NaN</td>\n",
       "      <td>35.0</td>\n",
       "      <td>170.0</td>\n",
       "      <td>86.0</td>\n",
       "    </tr>\n",
       "    <tr>\n",
       "      <th>4</th>\n",
       "      <td>184096565021911</td>\n",
       "      <td>1035352946562931</td>\n",
       "      <td>mainstream</td>\n",
       "      <td>ABC News Politics</td>\n",
       "      <td>https://www.facebook.com/ABCNewsPolitics/posts...</td>\n",
       "      <td>2016-09-19</td>\n",
       "      <td>video</td>\n",
       "      <td>mostly true</td>\n",
       "      <td>NaN</td>\n",
       "      <td>568.0</td>\n",
       "      <td>3188.0</td>\n",
       "      <td>2815.0</td>\n",
       "    </tr>\n",
       "  </tbody>\n",
       "</table>\n",
       "</div>"
      ],
      "text/plain": [
       "        account_id           post_id    Category               Page  \\\n",
       "0  184096565021911  1035057923259100  mainstream  ABC News Politics   \n",
       "1  184096565021911  1035269309904628  mainstream  ABC News Politics   \n",
       "2  184096565021911  1035305953234297  mainstream  ABC News Politics   \n",
       "3  184096565021911  1035322636565962  mainstream  ABC News Politics   \n",
       "4  184096565021911  1035352946562931  mainstream  ABC News Politics   \n",
       "\n",
       "                                            Post URL Date Published Post Type  \\\n",
       "0  https://www.facebook.com/ABCNewsPolitics/posts...     2016-09-19     video   \n",
       "1  https://www.facebook.com/ABCNewsPolitics/posts...     2016-09-19      link   \n",
       "2  https://www.facebook.com/ABCNewsPolitics/posts...     2016-09-19      link   \n",
       "3  https://www.facebook.com/ABCNewsPolitics/posts...     2016-09-19      link   \n",
       "4  https://www.facebook.com/ABCNewsPolitics/posts...     2016-09-19     video   \n",
       "\n",
       "               Rating Debate  share_count  reaction_count  comment_count  \n",
       "0  no factual content    NaN          NaN           146.0           15.0  \n",
       "1         mostly true    NaN          1.0            33.0           34.0  \n",
       "2         mostly true    NaN         34.0            63.0           27.0  \n",
       "3         mostly true    NaN         35.0           170.0           86.0  \n",
       "4         mostly true    NaN        568.0          3188.0         2815.0  "
      ]
     },
     "execution_count": 4,
     "metadata": {},
     "output_type": "execute_result"
    }
   ],
   "source": [
    "facebook_fake.head()"
   ]
  },
  {
   "cell_type": "code",
   "execution_count": 5,
   "id": "196088f9",
   "metadata": {},
   "outputs": [
    {
     "data": {
      "text/plain": [
       "((21417, 4), (23481, 4), (2282, 12))"
      ]
     },
     "execution_count": 5,
     "metadata": {},
     "output_type": "execute_result"
    }
   ],
   "source": [
    "df_true.shape, df_fake.shape,facebook_fake.shape"
   ]
  },
  {
   "cell_type": "code",
   "execution_count": 6,
   "id": "b3b41332",
   "metadata": {},
   "outputs": [],
   "source": [
    "df_true['class']=1\n",
    "df_fake['class']=0"
   ]
  },
  {
   "cell_type": "markdown",
   "id": "2bbb7f8c",
   "metadata": {},
   "source": [
    "We merge our 2 datasets of real news and fake news with a new feature depicting which news is real news and which are fake"
   ]
  },
  {
   "cell_type": "code",
   "execution_count": 7,
   "id": "83e9571d",
   "metadata": {},
   "outputs": [],
   "source": [
    "merged_df = pd.concat([df_true,df_fake])"
   ]
  },
  {
   "cell_type": "code",
   "execution_count": 8,
   "id": "e0588ec8",
   "metadata": {},
   "outputs": [
    {
     "data": {
      "text/html": [
       "<div>\n",
       "<style scoped>\n",
       "    .dataframe tbody tr th:only-of-type {\n",
       "        vertical-align: middle;\n",
       "    }\n",
       "\n",
       "    .dataframe tbody tr th {\n",
       "        vertical-align: top;\n",
       "    }\n",
       "\n",
       "    .dataframe thead th {\n",
       "        text-align: right;\n",
       "    }\n",
       "</style>\n",
       "<table border=\"1\" class=\"dataframe\">\n",
       "  <thead>\n",
       "    <tr style=\"text-align: right;\">\n",
       "      <th></th>\n",
       "      <th>title</th>\n",
       "      <th>text</th>\n",
       "      <th>subject</th>\n",
       "      <th>date</th>\n",
       "      <th>class</th>\n",
       "    </tr>\n",
       "  </thead>\n",
       "  <tbody>\n",
       "    <tr>\n",
       "      <th>0</th>\n",
       "      <td>As U.S. budget fight looms, Republicans flip t...</td>\n",
       "      <td>WASHINGTON (Reuters) - The head of a conservat...</td>\n",
       "      <td>politicsNews</td>\n",
       "      <td>December 31, 2017</td>\n",
       "      <td>1</td>\n",
       "    </tr>\n",
       "    <tr>\n",
       "      <th>1</th>\n",
       "      <td>U.S. military to accept transgender recruits o...</td>\n",
       "      <td>WASHINGTON (Reuters) - Transgender people will...</td>\n",
       "      <td>politicsNews</td>\n",
       "      <td>December 29, 2017</td>\n",
       "      <td>1</td>\n",
       "    </tr>\n",
       "    <tr>\n",
       "      <th>2</th>\n",
       "      <td>Senior U.S. Republican senator: 'Let Mr. Muell...</td>\n",
       "      <td>WASHINGTON (Reuters) - The special counsel inv...</td>\n",
       "      <td>politicsNews</td>\n",
       "      <td>December 31, 2017</td>\n",
       "      <td>1</td>\n",
       "    </tr>\n",
       "    <tr>\n",
       "      <th>3</th>\n",
       "      <td>FBI Russia probe helped by Australian diplomat...</td>\n",
       "      <td>WASHINGTON (Reuters) - Trump campaign adviser ...</td>\n",
       "      <td>politicsNews</td>\n",
       "      <td>December 30, 2017</td>\n",
       "      <td>1</td>\n",
       "    </tr>\n",
       "    <tr>\n",
       "      <th>4</th>\n",
       "      <td>Trump wants Postal Service to charge 'much mor...</td>\n",
       "      <td>SEATTLE/WASHINGTON (Reuters) - President Donal...</td>\n",
       "      <td>politicsNews</td>\n",
       "      <td>December 29, 2017</td>\n",
       "      <td>1</td>\n",
       "    </tr>\n",
       "  </tbody>\n",
       "</table>\n",
       "</div>"
      ],
      "text/plain": [
       "                                               title  \\\n",
       "0  As U.S. budget fight looms, Republicans flip t...   \n",
       "1  U.S. military to accept transgender recruits o...   \n",
       "2  Senior U.S. Republican senator: 'Let Mr. Muell...   \n",
       "3  FBI Russia probe helped by Australian diplomat...   \n",
       "4  Trump wants Postal Service to charge 'much mor...   \n",
       "\n",
       "                                                text       subject  \\\n",
       "0  WASHINGTON (Reuters) - The head of a conservat...  politicsNews   \n",
       "1  WASHINGTON (Reuters) - Transgender people will...  politicsNews   \n",
       "2  WASHINGTON (Reuters) - The special counsel inv...  politicsNews   \n",
       "3  WASHINGTON (Reuters) - Trump campaign adviser ...  politicsNews   \n",
       "4  SEATTLE/WASHINGTON (Reuters) - President Donal...  politicsNews   \n",
       "\n",
       "                 date  class  \n",
       "0  December 31, 2017       1  \n",
       "1  December 29, 2017       1  \n",
       "2  December 31, 2017       1  \n",
       "3  December 30, 2017       1  \n",
       "4  December 29, 2017       1  "
      ]
     },
     "execution_count": 8,
     "metadata": {},
     "output_type": "execute_result"
    }
   ],
   "source": [
    "merged_df.head()"
   ]
  },
  {
   "cell_type": "markdown",
   "id": "11aabe9d",
   "metadata": {},
   "source": [
    "After the merge we want to check the features to see if any contain NaN which can throw our model off below we can see there are no NaN within our dataset"
   ]
  },
  {
   "cell_type": "code",
   "execution_count": 9,
   "id": "6159ff01",
   "metadata": {},
   "outputs": [
    {
     "data": {
      "text/plain": [
       "title      0\n",
       "text       0\n",
       "subject    0\n",
       "date       0\n",
       "class      0\n",
       "dtype: int64"
      ]
     },
     "execution_count": 9,
     "metadata": {},
     "output_type": "execute_result"
    }
   ],
   "source": [
    "merged_df.isna().sum()"
   ]
  },
  {
   "cell_type": "markdown",
   "id": "372b6c63",
   "metadata": {},
   "source": [
    "After the merge we need to check the balance between our dataset between real and fake, because if one is significantly larger than the other we can overfit to our data"
   ]
  },
  {
   "cell_type": "code",
   "execution_count": 10,
   "id": "e976013c",
   "metadata": {},
   "outputs": [
    {
     "name": "stderr",
     "output_type": "stream",
     "text": [
      "/home/chris/anaconda3/envs/freshEnv/lib/python3.8/site-packages/seaborn/_decorators.py:36: FutureWarning: Pass the following variable as a keyword arg: x. From version 0.12, the only valid positional argument will be `data`, and passing other arguments without an explicit keyword will result in an error or misinterpretation.\n",
      "  warnings.warn(\n"
     ]
    },
    {
     "data": {
      "text/plain": [
       "<AxesSubplot:xlabel='class', ylabel='count'>"
      ]
     },
     "execution_count": 10,
     "metadata": {},
     "output_type": "execute_result"
    },
    {
     "data": {
      "image/png": "[encoded data removed]",
      "text/plain": [
       "<Figure size 432x288 with 1 Axes>"
      ]
     },
     "metadata": {
      "needs_background": "light"
     },
     "output_type": "display_data"
    }
   ],
   "source": [
    "import seaborn as sns\n",
    "sns.countplot(merged_df['class'])"
   ]
  },
  {
   "cell_type": "code",
   "execution_count": 11,
   "id": "8b3fda72",
   "metadata": {},
   "outputs": [
    {
     "name": "stdout",
     "output_type": "stream",
     "text": [
      "<class 'pandas.core.frame.DataFrame'>\n",
      "RangeIndex: 10000 entries, 0 to 9999\n",
      "Data columns (total 5 columns):\n",
      " #   Column   Non-Null Count  Dtype \n",
      "---  ------   --------------  ----- \n",
      " 0   title    10000 non-null  object\n",
      " 1   text     10000 non-null  object\n",
      " 2   subject  10000 non-null  object\n",
      " 3   date     10000 non-null  object\n",
      " 4   class    10000 non-null  int64 \n",
      "dtypes: int64(1), object(4)\n",
      "memory usage: 390.8+ KB\n"
     ]
    }
   ],
   "source": [
    "sample_news_df = merged_df.sample(10000, random_state=786).reset_index(drop=True)\n",
    "sample_news_df.info()"
   ]
  },
  {
   "cell_type": "markdown",
   "id": "b5962fcd",
   "metadata": {},
   "source": [
    "We would now need to initilize the training environment that creates teh transformation pipline. This setup needs to be called before we train or execute and function "
   ]
  },
  {
   "cell_type": "code",
   "execution_count": 12,
   "id": "75ecf504",
   "metadata": {},
   "outputs": [
    {
     "data": {
      "text/html": [
       "<div>\n",
       "<style scoped>\n",
       "    .dataframe tbody tr th:only-of-type {\n",
       "        vertical-align: middle;\n",
       "    }\n",
       "\n",
       "    .dataframe tbody tr th {\n",
       "        vertical-align: top;\n",
       "    }\n",
       "\n",
       "    .dataframe thead th {\n",
       "        text-align: right;\n",
       "    }\n",
       "</style>\n",
       "<table border=\"1\" class=\"dataframe\">\n",
       "  <thead>\n",
       "    <tr style=\"text-align: right;\">\n",
       "      <th></th>\n",
       "      <th>title</th>\n",
       "      <th>text</th>\n",
       "      <th>subject</th>\n",
       "      <th>date</th>\n",
       "      <th>class</th>\n",
       "    </tr>\n",
       "  </thead>\n",
       "  <tbody>\n",
       "    <tr>\n",
       "      <th>0</th>\n",
       "      <td>Trump Is Now Officially Increasing The Chance...</td>\n",
       "      <td>Republicans aren t very smart about a lot of t...</td>\n",
       "      <td>News</td>\n",
       "      <td>April 17, 2016</td>\n",
       "      <td>0</td>\n",
       "    </tr>\n",
       "    <tr>\n",
       "      <th>1</th>\n",
       "      <td>GAY PAYPAL CEO Gives Rousing Speech Endorsing ...</td>\n",
       "      <td></td>\n",
       "      <td>politics</td>\n",
       "      <td>Oct 31, 2016</td>\n",
       "      <td>0</td>\n",
       "    </tr>\n",
       "    <tr>\n",
       "      <th>2</th>\n",
       "      <td>Buoyed by mayoral votes, Venezuela socialists ...</td>\n",
       "      <td>CARACAS (Reuters) - President Nicolas Maduro h...</td>\n",
       "      <td>worldnews</td>\n",
       "      <td>December 10, 2017</td>\n",
       "      <td>1</td>\n",
       "    </tr>\n",
       "    <tr>\n",
       "      <th>3</th>\n",
       "      <td>Oklahoma lawmaker apologizes for linking Nativ...</td>\n",
       "      <td>TULSA, Okla. (Reuters) - An Oklahoma state leg...</td>\n",
       "      <td>politicsNews</td>\n",
       "      <td>April 28, 2016</td>\n",
       "      <td>1</td>\n",
       "    </tr>\n",
       "    <tr>\n",
       "      <th>4</th>\n",
       "      <td>Argentine mid-term campaign pauses after body ...</td>\n",
       "      <td>BUENOS AIRES (Reuters) - Major parties running...</td>\n",
       "      <td>worldnews</td>\n",
       "      <td>October 18, 2017</td>\n",
       "      <td>1</td>\n",
       "    </tr>\n",
       "  </tbody>\n",
       "</table>\n",
       "</div>"
      ],
      "text/plain": [
       "                                               title  \\\n",
       "0   Trump Is Now Officially Increasing The Chance...   \n",
       "1  GAY PAYPAL CEO Gives Rousing Speech Endorsing ...   \n",
       "2  Buoyed by mayoral votes, Venezuela socialists ...   \n",
       "3  Oklahoma lawmaker apologizes for linking Nativ...   \n",
       "4  Argentine mid-term campaign pauses after body ...   \n",
       "\n",
       "                                                text       subject  \\\n",
       "0  Republicans aren t very smart about a lot of t...          News   \n",
       "1                                                         politics   \n",
       "2  CARACAS (Reuters) - President Nicolas Maduro h...     worldnews   \n",
       "3  TULSA, Okla. (Reuters) - An Oklahoma state leg...  politicsNews   \n",
       "4  BUENOS AIRES (Reuters) - Major parties running...     worldnews   \n",
       "\n",
       "                 date  class  \n",
       "0      April 17, 2016      0  \n",
       "1        Oct 31, 2016      0  \n",
       "2  December 10, 2017       1  \n",
       "3     April 28, 2016       1  \n",
       "4   October 18, 2017       1  "
      ]
     },
     "execution_count": 12,
     "metadata": {},
     "output_type": "execute_result"
    }
   ],
   "source": [
    "sample_news_df.head()"
   ]
  },
  {
   "cell_type": "code",
   "execution_count": 13,
   "id": "269cbec5",
   "metadata": {
    "scrolled": true
   },
   "outputs": [
    {
     "data": {
      "text/html": [
       "<style type=\"text/css\">\n",
       "</style>\n",
       "<table id=\"T_e4976\">\n",
       "  <thead>\n",
       "    <tr>\n",
       "      <th id=\"T_e4976_level0_col0\" class=\"col_heading level0 col0\" >Description</th>\n",
       "      <th id=\"T_e4976_level0_col1\" class=\"col_heading level0 col1\" >Value</th>\n",
       "    </tr>\n",
       "  </thead>\n",
       "  <tbody>\n",
       "    <tr>\n",
       "      <td id=\"T_e4976_row0_col0\" class=\"data row0 col0\" >session_id</td>\n",
       "      <td id=\"T_e4976_row0_col1\" class=\"data row0 col1\" >123</td>\n",
       "    </tr>\n",
       "    <tr>\n",
       "      <td id=\"T_e4976_row1_col0\" class=\"data row1 col0\" >Documents</td>\n",
       "      <td id=\"T_e4976_row1_col1\" class=\"data row1 col1\" >10000</td>\n",
       "    </tr>\n",
       "    <tr>\n",
       "      <td id=\"T_e4976_row2_col0\" class=\"data row2 col0\" >Vocab Size</td>\n",
       "      <td id=\"T_e4976_row2_col1\" class=\"data row2 col1\" >41637</td>\n",
       "    </tr>\n",
       "    <tr>\n",
       "      <td id=\"T_e4976_row3_col0\" class=\"data row3 col0\" >Custom Stopwords</td>\n",
       "      <td id=\"T_e4976_row3_col1\" class=\"data row3 col1\" >False</td>\n",
       "    </tr>\n",
       "  </tbody>\n",
       "</table>\n"
      ],
      "text/plain": [
       "<pandas.io.formats.style.Styler at 0x7f1a25769880>"
      ]
     },
     "metadata": {},
     "output_type": "display_data"
    }
   ],
   "source": [
    "from pycaret.nlp import *\n",
    "\n",
    "news_nlp = setup(data = sample_news_df, target = 'text', session_id =123)"
   ]
  },
  {
   "cell_type": "code",
   "execution_count": 14,
   "id": "59520eb8",
   "metadata": {},
   "outputs": [],
   "source": [
    "%time\n",
    "lda = create_model('lda',multi_core=True)"
   ]
  },
  {
   "cell_type": "code",
   "execution_count": 15,
   "id": "0bbbd8f8",
   "metadata": {},
   "outputs": [],
   "source": [
    "%time\n",
    "lda_df = assign_model(lda)"
   ]
  },
  {
   "cell_type": "code",
   "execution_count": 16,
   "id": "fdaaf1b7",
   "metadata": {},
   "outputs": [
    {
     "data": {
      "text/html": [
       "        <script type=\"text/javascript\">\n",
       "        window.PlotlyConfig = {MathJaxConfig: 'local'};\n",
       "        if (window.MathJax) {MathJax.Hub.Config({SVG: {font: \"STIX-Web\"}});}\n",
       "        if (typeof require !== 'undefined') {\n",
       "        require.undef(\"plotly\");\n",
       "        requirejs.config({\n",
       "            paths: {\n",
       "                'plotly': ['https://cdn.plot.ly/plotly-2.11.1.min']\n",
       "            }\n",
       "        });\n",
       "        require(['plotly'], function(Plotly) {\n",
       "            window._Plotly = Plotly;\n",
       "        });\n",
       "        }\n",
       "        </script>\n",
       "        "
      ]
     },
     "metadata": {},
     "output_type": "display_data"
    },
    {
     "data": {
      "application/vnd.plotly.v1+json": {
       "config": {
        "plotlyServerURL": "https://plot.ly"
       },
       "data": [
        {
         "alignmentgroup": "True",
         "customdata": [
          [
           "say, state, republican, party, vote, government, year, trump, percent, make"
          ],
          [
           "say, police, military, government, people, country, official, group, attack, kill"
          ],
          [
           "say, state, election, report, trump, former, official, campaign, court, case"
          ],
          [
           "trump, say, people, go, get, make, know, think, woman, time"
          ]
         ],
         "hovertemplate": "Topic=%{x}<br>Documents=%{y}<br>Keyword=%{customdata[0]}<extra></extra>",
         "legendgroup": "",
         "marker": {
          "color": "#636efa",
          "pattern": {
           "shape": ""
          }
         },
         "name": "",
         "offsetgroup": "",
         "orientation": "v",
         "showlegend": false,
         "textposition": "auto",
         "type": "bar",
         "x": [
          "Topic 0",
          "Topic 1",
          "Topic 2",
          "Topic 3"
         ],
         "xaxis": "x",
         "y": [
          2575,
          1945,
          1600,
          3880
         ],
         "yaxis": "y"
        }
       ],
       "layout": {
        "barmode": "relative",
        "legend": {
         "tracegroupgap": 0
        },
        "template": {
         "data": {
          "bar": [
           {
            "error_x": {
             "color": "#2a3f5f"
            },
            "error_y": {
             "color": "#2a3f5f"
            },
            "marker": {
             "line": {
              "color": "#E5ECF6",
              "width": 0.5
             },
             "pattern": {
              "fillmode": "overlay",
              "size": 10,
              "solidity": 0.2
             }
            },
            "type": "bar"
           }
          ],
          "barpolar": [
           {
            "marker": {
             "line": {
              "color": "#E5ECF6",
              "width": 0.5
             },
             "pattern": {
              "fillmode": "overlay",
              "size": 10,
              "solidity": 0.2
             }
            },
            "type": "barpolar"
           }
          ],
          "carpet": [
           {
            "aaxis": {
             "endlinecolor": "#2a3f5f",
             "gridcolor": "white",
             "linecolor": "white",
             "minorgridcolor": "white",
             "startlinecolor": "#2a3f5f"
            },
            "baxis": {
             "endlinecolor": "#2a3f5f",
             "gridcolor": "white",
             "linecolor": "white",
             "minorgridcolor": "white",
             "startlinecolor": "#2a3f5f"
            },
            "type": "carpet"
           }
          ],
          "choropleth": [
           {
            "colorbar": {
             "outlinewidth": 0,
             "ticks": ""
            },
            "type": "choropleth"
           }
          ],
          "contour": [
           {
            "colorbar": {
             "outlinewidth": 0,
             "ticks": ""
            },
            "colorscale": [
             [
              0,
              "#0d0887"
             ],
             [
              0.1111111111111111,
              "#46039f"
             ],
             [
              0.2222222222222222,
              "#7201a8"
             ],
             [
              0.3333333333333333,
              "#9c179e"
             ],
             [
              0.4444444444444444,
              "#bd3786"
             ],
             [
              0.5555555555555556,
              "#d8576b"
             ],
             [
              0.6666666666666666,
              "#ed7953"
             ],
             [
              0.7777777777777778,
              "#fb9f3a"
             ],
             [
              0.8888888888888888,
              "#fdca26"
             ],
             [
              1,
              "#f0f921"
             ]
            ],
            "type": "contour"
           }
          ],
          "contourcarpet": [
           {
            "colorbar": {
             "outlinewidth": 0,
             "ticks": ""
            },
            "type": "contourcarpet"
           }
          ],
          "heatmap": [
           {
            "colorbar": {
             "outlinewidth": 0,
             "ticks": ""
            },
            "colorscale": [
             [
              0,
              "#0d0887"
             ],
             [
              0.1111111111111111,
              "#46039f"
             ],
             [
              0.2222222222222222,
              "#7201a8"
             ],
             [
              0.3333333333333333,
              "#9c179e"
             ],
             [
              0.4444444444444444,
              "#bd3786"
             ],
             [
              0.5555555555555556,
              "#d8576b"
             ],
             [
              0.6666666666666666,
              "#ed7953"
             ],
             [
              0.7777777777777778,
              "#fb9f3a"
             ],
             [
              0.8888888888888888,
              "#fdca26"
             ],
             [
              1,
              "#f0f921"
             ]
            ],
            "type": "heatmap"
           }
          ],
          "heatmapgl": [
           {
            "colorbar": {
             "outlinewidth": 0,
             "ticks": ""
            },
            "colorscale": [
             [
              0,
              "#0d0887"
             ],
             [
              0.1111111111111111,
              "#46039f"
             ],
             [
              0.2222222222222222,
              "#7201a8"
             ],
             [
              0.3333333333333333,
              "#9c179e"
             ],
             [
              0.4444444444444444,
              "#bd3786"
             ],
             [
              0.5555555555555556,
              "#d8576b"
             ],
             [
              0.6666666666666666,
              "#ed7953"
             ],
             [
              0.7777777777777778,
              "#fb9f3a"
             ],
             [
              0.8888888888888888,
              "#fdca26"
             ],
             [
              1,
              "#f0f921"
             ]
            ],
            "type": "heatmapgl"
           }
          ],
          "histogram": [
           {
            "marker": {
             "pattern": {
              "fillmode": "overlay",
              "size": 10,
              "solidity": 0.2
             }
            },
            "type": "histogram"
           }
          ],
          "histogram2d": [
           {
            "colorbar": {
             "outlinewidth": 0,
             "ticks": ""
            },
            "colorscale": [
             [
              0,
              "#0d0887"
             ],
             [
              0.1111111111111111,
              "#46039f"
             ],
             [
              0.2222222222222222,
              "#7201a8"
             ],
             [
              0.3333333333333333,
              "#9c179e"
             ],
             [
              0.4444444444444444,
              "#bd3786"
             ],
             [
              0.5555555555555556,
              "#d8576b"
             ],
             [
              0.6666666666666666,
              "#ed7953"
             ],
             [
              0.7777777777777778,
              "#fb9f3a"
             ],
             [
              0.8888888888888888,
              "#fdca26"
             ],
             [
              1,
              "#f0f921"
             ]
            ],
            "type": "histogram2d"
           }
          ],
          "histogram2dcontour": [
           {
            "colorbar": {
             "outlinewidth": 0,
             "ticks": ""
            },
            "colorscale": [
             [
              0,
              "#0d0887"
             ],
             [
              0.1111111111111111,
              "#46039f"
             ],
             [
              0.2222222222222222,
              "#7201a8"
             ],
             [
              0.3333333333333333,
              "#9c179e"
             ],
             [
              0.4444444444444444,
              "#bd3786"
             ],
             [
              0.5555555555555556,
              "#d8576b"
             ],
             [
              0.6666666666666666,
              "#ed7953"
             ],
             [
              0.7777777777777778,
              "#fb9f3a"
             ],
             [
              0.8888888888888888,
              "#fdca26"
             ],
             [
              1,
              "#f0f921"
             ]
            ],
            "type": "histogram2dcontour"
           }
          ],
          "mesh3d": [
           {
            "colorbar": {
             "outlinewidth": 0,
             "ticks": ""
            },
            "type": "mesh3d"
           }
          ],
          "parcoords": [
           {
            "line": {
             "colorbar": {
              "outlinewidth": 0,
              "ticks": ""
             }
            },
            "type": "parcoords"
           }
          ],
          "pie": [
           {
            "automargin": true,
            "type": "pie"
           }
          ],
          "scatter": [
           {
            "fillpattern": {
             "fillmode": "overlay",
             "size": 10,
             "solidity": 0.2
            },
            "type": "scatter"
           }
          ],
          "scatter3d": [
           {
            "line": {
             "colorbar": {
              "outlinewidth": 0,
              "ticks": ""
             }
            },
            "marker": {
             "colorbar": {
              "outlinewidth": 0,
              "ticks": ""
             }
            },
            "type": "scatter3d"
           }
          ],
          "scattercarpet": [
           {
            "marker": {
             "colorbar": {
              "outlinewidth": 0,
              "ticks": ""
             }
            },
            "type": "scattercarpet"
           }
          ],
          "scattergeo": [
           {
            "marker": {
             "colorbar": {
              "outlinewidth": 0,
              "ticks": ""
             }
            },
            "type": "scattergeo"
           }
          ],
          "scattergl": [
           {
            "marker": {
             "colorbar": {
              "outlinewidth": 0,
              "ticks": ""
             }
            },
            "type": "scattergl"
           }
          ],
          "scattermapbox": [
           {
            "marker": {
             "colorbar": {
              "outlinewidth": 0,
              "ticks": ""
             }
            },
            "type": "scattermapbox"
           }
          ],
          "scatterpolar": [
           {
            "marker": {
             "colorbar": {
              "outlinewidth": 0,
              "ticks": ""
             }
            },
            "type": "scatterpolar"
           }
          ],
          "scatterpolargl": [
           {
            "marker": {
             "colorbar": {
              "outlinewidth": 0,
              "ticks": ""
             }
            },
            "type": "scatterpolargl"
           }
          ],
          "scatterternary": [
           {
            "marker": {
             "colorbar": {
              "outlinewidth": 0,
              "ticks": ""
             }
            },
            "type": "scatterternary"
           }
          ],
          "surface": [
           {
            "colorbar": {
             "outlinewidth": 0,
             "ticks": ""
            },
            "colorscale": [
             [
              0,
              "#0d0887"
             ],
             [
              0.1111111111111111,
              "#46039f"
             ],
             [
              0.2222222222222222,
              "#7201a8"
             ],
             [
              0.3333333333333333,
              "#9c179e"
             ],
             [
              0.4444444444444444,
              "#bd3786"
             ],
             [
              0.5555555555555556,
              "#d8576b"
             ],
             [
              0.6666666666666666,
              "#ed7953"
             ],
             [
              0.7777777777777778,
              "#fb9f3a"
             ],
             [
              0.8888888888888888,
              "#fdca26"
             ],
             [
              1,
              "#f0f921"
             ]
            ],
            "type": "surface"
           }
          ],
          "table": [
           {
            "cells": {
             "fill": {
              "color": "#EBF0F8"
             },
             "line": {
              "color": "white"
             }
            },
            "header": {
             "fill": {
              "color": "#C8D4E3"
             },
             "line": {
              "color": "white"
             }
            },
            "type": "table"
           }
          ]
         },
         "layout": {
          "annotationdefaults": {
           "arrowcolor": "#2a3f5f",
           "arrowhead": 0,
           "arrowwidth": 1
          },
          "autotypenumbers": "strict",
          "coloraxis": {
           "colorbar": {
            "outlinewidth": 0,
            "ticks": ""
           }
          },
          "colorscale": {
           "diverging": [
            [
             0,
             "#8e0152"
            ],
            [
             0.1,
             "#c51b7d"
            ],
            [
             0.2,
             "#de77ae"
            ],
            [
             0.3,
             "#f1b6da"
            ],
            [
             0.4,
             "#fde0ef"
            ],
            [
             0.5,
             "#f7f7f7"
            ],
            [
             0.6,
             "#e6f5d0"
            ],
            [
             0.7,
             "#b8e186"
            ],
            [
             0.8,
             "#7fbc41"
            ],
            [
             0.9,
             "#4d9221"
            ],
            [
             1,
             "#276419"
            ]
           ],
           "sequential": [
            [
             0,
             "#0d0887"
            ],
            [
             0.1111111111111111,
             "#46039f"
            ],
            [
             0.2222222222222222,
             "#7201a8"
            ],
            [
             0.3333333333333333,
             "#9c179e"
            ],
            [
             0.4444444444444444,
             "#bd3786"
            ],
            [
             0.5555555555555556,
             "#d8576b"
            ],
            [
             0.6666666666666666,
             "#ed7953"
            ],
            [
             0.7777777777777778,
             "#fb9f3a"
            ],
            [
             0.8888888888888888,
             "#fdca26"
            ],
            [
             1,
             "#f0f921"
            ]
           ],
           "sequentialminus": [
            [
             0,
             "#0d0887"
            ],
            [
             0.1111111111111111,
             "#46039f"
            ],
            [
             0.2222222222222222,
             "#7201a8"
            ],
            [
             0.3333333333333333,
             "#9c179e"
            ],
            [
             0.4444444444444444,
             "#bd3786"
            ],
            [
             0.5555555555555556,
             "#d8576b"
            ],
            [
             0.6666666666666666,
             "#ed7953"
            ],
            [
             0.7777777777777778,
             "#fb9f3a"
            ],
            [
             0.8888888888888888,
             "#fdca26"
            ],
            [
             1,
             "#f0f921"
            ]
           ]
          },
          "colorway": [
           "#636efa",
           "#EF553B",
           "#00cc96",
           "#ab63fa",
           "#FFA15A",
           "#19d3f3",
           "#FF6692",
           "#B6E880",
           "#FF97FF",
           "#FECB52"
          ],
          "font": {
           "color": "#2a3f5f"
          },
          "geo": {
           "bgcolor": "white",
           "lakecolor": "white",
           "landcolor": "#E5ECF6",
           "showlakes": true,
           "showland": true,
           "subunitcolor": "white"
          },
          "hoverlabel": {
           "align": "left"
          },
          "hovermode": "closest",
          "mapbox": {
           "style": "light"
          },
          "paper_bgcolor": "white",
          "plot_bgcolor": "#E5ECF6",
          "polar": {
           "angularaxis": {
            "gridcolor": "white",
            "linecolor": "white",
            "ticks": ""
           },
           "bgcolor": "#E5ECF6",
           "radialaxis": {
            "gridcolor": "white",
            "linecolor": "white",
            "ticks": ""
           }
          },
          "scene": {
           "xaxis": {
            "backgroundcolor": "#E5ECF6",
            "gridcolor": "white",
            "gridwidth": 2,
            "linecolor": "white",
            "showbackground": true,
            "ticks": "",
            "zerolinecolor": "white"
           },
           "yaxis": {
            "backgroundcolor": "#E5ECF6",
            "gridcolor": "white",
            "gridwidth": 2,
            "linecolor": "white",
            "showbackground": true,
            "ticks": "",
            "zerolinecolor": "white"
           },
           "zaxis": {
            "backgroundcolor": "#E5ECF6",
            "gridcolor": "white",
            "gridwidth": 2,
            "linecolor": "white",
            "showbackground": true,
            "ticks": "",
            "zerolinecolor": "white"
           }
          },
          "shapedefaults": {
           "line": {
            "color": "#2a3f5f"
           }
          },
          "ternary": {
           "aaxis": {
            "gridcolor": "white",
            "linecolor": "white",
            "ticks": ""
           },
           "baxis": {
            "gridcolor": "white",
            "linecolor": "white",
            "ticks": ""
           },
           "bgcolor": "#E5ECF6",
           "caxis": {
            "gridcolor": "white",
            "linecolor": "white",
            "ticks": ""
           }
          },
          "title": {
           "x": 0.05
          },
          "xaxis": {
           "automargin": true,
           "gridcolor": "white",
           "linecolor": "white",
           "ticks": "",
           "title": {
            "standoff": 15
           },
           "zerolinecolor": "white",
           "zerolinewidth": 2
          },
          "yaxis": {
           "automargin": true,
           "gridcolor": "white",
           "linecolor": "white",
           "ticks": "",
           "title": {
            "standoff": 15
           },
           "zerolinecolor": "white",
           "zerolinewidth": 2
          }
         }
        },
        "title": {
         "text": "Document Distribution by Topics"
        },
        "xaxis": {
         "anchor": "y",
         "domain": [
          0,
          1
         ],
         "title": {
          "text": "Topic"
         }
        },
        "yaxis": {
         "anchor": "x",
         "domain": [
          0,
          1
         ],
         "title": {
          "text": "Documents"
         }
        }
       }
      },
      "text/html": [
       "<div>                            <div id=\"802f7df7-37f1-4d22-b955-bd6472105269\" class=\"plotly-graph-div\" style=\"height:525px; width:100%;\"></div>            <script type=\"text/javascript\">                require([\"plotly\"], function(Plotly) {                    window.PLOTLYENV=window.PLOTLYENV || {};                                    if (document.getElementById(\"802f7df7-37f1-4d22-b955-bd6472105269\")) {                    Plotly.newPlot(                        \"802f7df7-37f1-4d22-b955-bd6472105269\",                        [{\"alignmentgroup\":\"True\",\"customdata\":[[\"say, state, republican, party, vote, government, year, trump, percent, make\"],[\"say, police, military, government, people, country, official, group, attack, kill\"],[\"say, state, election, report, trump, former, official, campaign, court, case\"],[\"trump, say, people, go, get, make, know, think, woman, time\"]],\"hovertemplate\":\"Topic=%{x}<br>Documents=%{y}<br>Keyword=%{customdata[0]}<extra></extra>\",\"legendgroup\":\"\",\"marker\":{\"color\":\"#636efa\",\"pattern\":{\"shape\":\"\"}},\"name\":\"\",\"offsetgroup\":\"\",\"orientation\":\"v\",\"showlegend\":false,\"textposition\":\"auto\",\"x\":[\"Topic 0\",\"Topic 1\",\"Topic 2\",\"Topic 3\"],\"xaxis\":\"x\",\"y\":[2575,1945,1600,3880],\"yaxis\":\"y\",\"type\":\"bar\"}],                        {\"template\":{\"data\":{\"histogram2dcontour\":[{\"type\":\"histogram2dcontour\",\"colorbar\":{\"outlinewidth\":0,\"ticks\":\"\"},\"colorscale\":[[0.0,\"#0d0887\"],[0.1111111111111111,\"#46039f\"],[0.2222222222222222,\"#7201a8\"],[0.3333333333333333,\"#9c179e\"],[0.4444444444444444,\"#bd3786\"],[0.5555555555555556,\"#d8576b\"],[0.6666666666666666,\"#ed7953\"],[0.7777777777777778,\"#fb9f3a\"],[0.8888888888888888,\"#fdca26\"],[1.0,\"#f0f921\"]]}],\"choropleth\":[{\"type\":\"choropleth\",\"colorbar\":{\"outlinewidth\":0,\"ticks\":\"\"}}],\"histogram2d\":[{\"type\":\"histogram2d\",\"colorbar\":{\"outlinewidth\":0,\"ticks\":\"\"},\"colorscale\":[[0.0,\"#0d0887\"],[0.1111111111111111,\"#46039f\"],[0.2222222222222222,\"#7201a8\"],[0.3333333333333333,\"#9c179e\"],[0.4444444444444444,\"#bd3786\"],[0.5555555555555556,\"#d8576b\"],[0.6666666666666666,\"#ed7953\"],[0.7777777777777778,\"#fb9f3a\"],[0.8888888888888888,\"#fdca26\"],[1.0,\"#f0f921\"]]}],\"heatmap\":[{\"type\":\"heatmap\",\"colorbar\":{\"outlinewidth\":0,\"ticks\":\"\"},\"colorscale\":[[0.0,\"#0d0887\"],[0.1111111111111111,\"#46039f\"],[0.2222222222222222,\"#7201a8\"],[0.3333333333333333,\"#9c179e\"],[0.4444444444444444,\"#bd3786\"],[0.5555555555555556,\"#d8576b\"],[0.6666666666666666,\"#ed7953\"],[0.7777777777777778,\"#fb9f3a\"],[0.8888888888888888,\"#fdca26\"],[1.0,\"#f0f921\"]]}],\"heatmapgl\":[{\"type\":\"heatmapgl\",\"colorbar\":{\"outlinewidth\":0,\"ticks\":\"\"},\"colorscale\":[[0.0,\"#0d0887\"],[0.1111111111111111,\"#46039f\"],[0.2222222222222222,\"#7201a8\"],[0.3333333333333333,\"#9c179e\"],[0.4444444444444444,\"#bd3786\"],[0.5555555555555556,\"#d8576b\"],[0.6666666666666666,\"#ed7953\"],[0.7777777777777778,\"#fb9f3a\"],[0.8888888888888888,\"#fdca26\"],[1.0,\"#f0f921\"]]}],\"contourcarpet\":[{\"type\":\"contourcarpet\",\"colorbar\":{\"outlinewidth\":0,\"ticks\":\"\"}}],\"contour\":[{\"type\":\"contour\",\"colorbar\":{\"outlinewidth\":0,\"ticks\":\"\"},\"colorscale\":[[0.0,\"#0d0887\"],[0.1111111111111111,\"#46039f\"],[0.2222222222222222,\"#7201a8\"],[0.3333333333333333,\"#9c179e\"],[0.4444444444444444,\"#bd3786\"],[0.5555555555555556,\"#d8576b\"],[0.6666666666666666,\"#ed7953\"],[0.7777777777777778,\"#fb9f3a\"],[0.8888888888888888,\"#fdca26\"],[1.0,\"#f0f921\"]]}],\"surface\":[{\"type\":\"surface\",\"colorbar\":{\"outlinewidth\":0,\"ticks\":\"\"},\"colorscale\":[[0.0,\"#0d0887\"],[0.1111111111111111,\"#46039f\"],[0.2222222222222222,\"#7201a8\"],[0.3333333333333333,\"#9c179e\"],[0.4444444444444444,\"#bd3786\"],[0.5555555555555556,\"#d8576b\"],[0.6666666666666666,\"#ed7953\"],[0.7777777777777778,\"#fb9f3a\"],[0.8888888888888888,\"#fdca26\"],[1.0,\"#f0f921\"]]}],\"mesh3d\":[{\"type\":\"mesh3d\",\"colorbar\":{\"outlinewidth\":0,\"ticks\":\"\"}}],\"scatter\":[{\"fillpattern\":{\"fillmode\":\"overlay\",\"size\":10,\"solidity\":0.2},\"type\":\"scatter\"}],\"parcoords\":[{\"type\":\"parcoords\",\"line\":{\"colorbar\":{\"outlinewidth\":0,\"ticks\":\"\"}}}],\"scatterpolargl\":[{\"type\":\"scatterpolargl\",\"marker\":{\"colorbar\":{\"outlinewidth\":0,\"ticks\":\"\"}}}],\"bar\":[{\"error_x\":{\"color\":\"#2a3f5f\"},\"error_y\":{\"color\":\"#2a3f5f\"},\"marker\":{\"line\":{\"color\":\"#E5ECF6\",\"width\":0.5},\"pattern\":{\"fillmode\":\"overlay\",\"size\":10,\"solidity\":0.2}},\"type\":\"bar\"}],\"scattergeo\":[{\"type\":\"scattergeo\",\"marker\":{\"colorbar\":{\"outlinewidth\":0,\"ticks\":\"\"}}}],\"scatterpolar\":[{\"type\":\"scatterpolar\",\"marker\":{\"colorbar\":{\"outlinewidth\":0,\"ticks\":\"\"}}}],\"histogram\":[{\"marker\":{\"pattern\":{\"fillmode\":\"overlay\",\"size\":10,\"solidity\":0.2}},\"type\":\"histogram\"}],\"scattergl\":[{\"type\":\"scattergl\",\"marker\":{\"colorbar\":{\"outlinewidth\":0,\"ticks\":\"\"}}}],\"scatter3d\":[{\"type\":\"scatter3d\",\"line\":{\"colorbar\":{\"outlinewidth\":0,\"ticks\":\"\"}},\"marker\":{\"colorbar\":{\"outlinewidth\":0,\"ticks\":\"\"}}}],\"scattermapbox\":[{\"type\":\"scattermapbox\",\"marker\":{\"colorbar\":{\"outlinewidth\":0,\"ticks\":\"\"}}}],\"scatterternary\":[{\"type\":\"scatterternary\",\"marker\":{\"colorbar\":{\"outlinewidth\":0,\"ticks\":\"\"}}}],\"scattercarpet\":[{\"type\":\"scattercarpet\",\"marker\":{\"colorbar\":{\"outlinewidth\":0,\"ticks\":\"\"}}}],\"carpet\":[{\"aaxis\":{\"endlinecolor\":\"#2a3f5f\",\"gridcolor\":\"white\",\"linecolor\":\"white\",\"minorgridcolor\":\"white\",\"startlinecolor\":\"#2a3f5f\"},\"baxis\":{\"endlinecolor\":\"#2a3f5f\",\"gridcolor\":\"white\",\"linecolor\":\"white\",\"minorgridcolor\":\"white\",\"startlinecolor\":\"#2a3f5f\"},\"type\":\"carpet\"}],\"table\":[{\"cells\":{\"fill\":{\"color\":\"#EBF0F8\"},\"line\":{\"color\":\"white\"}},\"header\":{\"fill\":{\"color\":\"#C8D4E3\"},\"line\":{\"color\":\"white\"}},\"type\":\"table\"}],\"barpolar\":[{\"marker\":{\"line\":{\"color\":\"#E5ECF6\",\"width\":0.5},\"pattern\":{\"fillmode\":\"overlay\",\"size\":10,\"solidity\":0.2}},\"type\":\"barpolar\"}],\"pie\":[{\"automargin\":true,\"type\":\"pie\"}]},\"layout\":{\"autotypenumbers\":\"strict\",\"colorway\":[\"#636efa\",\"#EF553B\",\"#00cc96\",\"#ab63fa\",\"#FFA15A\",\"#19d3f3\",\"#FF6692\",\"#B6E880\",\"#FF97FF\",\"#FECB52\"],\"font\":{\"color\":\"#2a3f5f\"},\"hovermode\":\"closest\",\"hoverlabel\":{\"align\":\"left\"},\"paper_bgcolor\":\"white\",\"plot_bgcolor\":\"#E5ECF6\",\"polar\":{\"bgcolor\":\"#E5ECF6\",\"angularaxis\":{\"gridcolor\":\"white\",\"linecolor\":\"white\",\"ticks\":\"\"},\"radialaxis\":{\"gridcolor\":\"white\",\"linecolor\":\"white\",\"ticks\":\"\"}},\"ternary\":{\"bgcolor\":\"#E5ECF6\",\"aaxis\":{\"gridcolor\":\"white\",\"linecolor\":\"white\",\"ticks\":\"\"},\"baxis\":{\"gridcolor\":\"white\",\"linecolor\":\"white\",\"ticks\":\"\"},\"caxis\":{\"gridcolor\":\"white\",\"linecolor\":\"white\",\"ticks\":\"\"}},\"coloraxis\":{\"colorbar\":{\"outlinewidth\":0,\"ticks\":\"\"}},\"colorscale\":{\"sequential\":[[0.0,\"#0d0887\"],[0.1111111111111111,\"#46039f\"],[0.2222222222222222,\"#7201a8\"],[0.3333333333333333,\"#9c179e\"],[0.4444444444444444,\"#bd3786\"],[0.5555555555555556,\"#d8576b\"],[0.6666666666666666,\"#ed7953\"],[0.7777777777777778,\"#fb9f3a\"],[0.8888888888888888,\"#fdca26\"],[1.0,\"#f0f921\"]],\"sequentialminus\":[[0.0,\"#0d0887\"],[0.1111111111111111,\"#46039f\"],[0.2222222222222222,\"#7201a8\"],[0.3333333333333333,\"#9c179e\"],[0.4444444444444444,\"#bd3786\"],[0.5555555555555556,\"#d8576b\"],[0.6666666666666666,\"#ed7953\"],[0.7777777777777778,\"#fb9f3a\"],[0.8888888888888888,\"#fdca26\"],[1.0,\"#f0f921\"]],\"diverging\":[[0,\"#8e0152\"],[0.1,\"#c51b7d\"],[0.2,\"#de77ae\"],[0.3,\"#f1b6da\"],[0.4,\"#fde0ef\"],[0.5,\"#f7f7f7\"],[0.6,\"#e6f5d0\"],[0.7,\"#b8e186\"],[0.8,\"#7fbc41\"],[0.9,\"#4d9221\"],[1,\"#276419\"]]},\"xaxis\":{\"gridcolor\":\"white\",\"linecolor\":\"white\",\"ticks\":\"\",\"title\":{\"standoff\":15},\"zerolinecolor\":\"white\",\"automargin\":true,\"zerolinewidth\":2},\"yaxis\":{\"gridcolor\":\"white\",\"linecolor\":\"white\",\"ticks\":\"\",\"title\":{\"standoff\":15},\"zerolinecolor\":\"white\",\"automargin\":true,\"zerolinewidth\":2},\"scene\":{\"xaxis\":{\"backgroundcolor\":\"#E5ECF6\",\"gridcolor\":\"white\",\"linecolor\":\"white\",\"showbackground\":true,\"ticks\":\"\",\"zerolinecolor\":\"white\",\"gridwidth\":2},\"yaxis\":{\"backgroundcolor\":\"#E5ECF6\",\"gridcolor\":\"white\",\"linecolor\":\"white\",\"showbackground\":true,\"ticks\":\"\",\"zerolinecolor\":\"white\",\"gridwidth\":2},\"zaxis\":{\"backgroundcolor\":\"#E5ECF6\",\"gridcolor\":\"white\",\"linecolor\":\"white\",\"showbackground\":true,\"ticks\":\"\",\"zerolinecolor\":\"white\",\"gridwidth\":2}},\"shapedefaults\":{\"line\":{\"color\":\"#2a3f5f\"}},\"annotationdefaults\":{\"arrowcolor\":\"#2a3f5f\",\"arrowhead\":0,\"arrowwidth\":1},\"geo\":{\"bgcolor\":\"white\",\"landcolor\":\"#E5ECF6\",\"subunitcolor\":\"white\",\"showland\":true,\"showlakes\":true,\"lakecolor\":\"white\"},\"title\":{\"x\":0.05},\"mapbox\":{\"style\":\"light\"}}},\"xaxis\":{\"anchor\":\"y\",\"domain\":[0.0,1.0],\"title\":{\"text\":\"Topic\"}},\"yaxis\":{\"anchor\":\"x\",\"domain\":[0.0,1.0],\"title\":{\"text\":\"Documents\"}},\"legend\":{\"tracegroupgap\":0},\"title\":{\"text\":\"Document Distribution by Topics\"},\"barmode\":\"relative\"},                        {\"responsive\": true}                    ).then(function(){\n",
       "                            \n",
       "var gd = document.getElementById('802f7df7-37f1-4d22-b955-bd6472105269');\n",
       "var x = new MutationObserver(function (mutations, observer) {{\n",
       "        var display = window.getComputedStyle(gd).display;\n",
       "        if (!display || display === 'none') {{\n",
       "            console.log([gd, 'removed!']);\n",
       "            Plotly.purge(gd);\n",
       "            observer.disconnect();\n",
       "        }}\n",
       "}});\n",
       "\n",
       "// Listen for the removal of the full notebook cells\n",
       "var notebookContainer = gd.closest('#notebook-container');\n",
       "if (notebookContainer) {{\n",
       "    x.observe(notebookContainer, {childList: true});\n",
       "}}\n",
       "\n",
       "// Listen for the clearing of the current output cell\n",
       "var outputEl = gd.closest('.output');\n",
       "if (outputEl) {{\n",
       "    x.observe(outputEl, {childList: true});\n",
       "}}\n",
       "\n",
       "                        })                };                });            </script>        </div>"
      ]
     },
     "metadata": {},
     "output_type": "display_data"
    }
   ],
   "source": [
    "plot_model(lda, plot = 'topic_distribution')"
   ]
  },
  {
   "cell_type": "code",
   "execution_count": 17,
   "id": "16e01388",
   "metadata": {},
   "outputs": [
    {
     "data": {
      "text/html": [
       "        <script type=\"text/javascript\">\n",
       "        window.PlotlyConfig = {MathJaxConfig: 'local'};\n",
       "        if (window.MathJax) {MathJax.Hub.Config({SVG: {font: \"STIX-Web\"}});}\n",
       "        if (typeof require !== 'undefined') {\n",
       "        require.undef(\"plotly\");\n",
       "        requirejs.config({\n",
       "            paths: {\n",
       "                'plotly': ['https://cdn.plot.ly/plotly-2.11.1.min']\n",
       "            }\n",
       "        });\n",
       "        require(['plotly'], function(Plotly) {\n",
       "            window._Plotly = Plotly;\n",
       "        });\n",
       "        }\n",
       "        </script>\n",
       "        "
      ]
     },
     "metadata": {},
     "output_type": "display_data"
    },
    {
     "data": {
      "image/png": "[encoded data removed]",
      "text/plain": [
       "<Figure size 576x576 with 1 Axes>"
      ]
     },
     "metadata": {
      "needs_background": "light"
     },
     "output_type": "display_data"
    }
   ],
   "source": [
    "plot_model(lda, plot = 'wordcloud')"
   ]
  },
  {
   "cell_type": "code",
   "execution_count": 18,
   "id": "cf281760",
   "metadata": {
    "scrolled": false
   },
   "outputs": [
    {
     "data": {
      "text/html": [
       "        <script type=\"text/javascript\">\n",
       "        window.PlotlyConfig = {MathJaxConfig: 'local'};\n",
       "        if (window.MathJax) {MathJax.Hub.Config({SVG: {font: \"STIX-Web\"}});}\n",
       "        if (typeof require !== 'undefined') {\n",
       "        require.undef(\"plotly\");\n",
       "        requirejs.config({\n",
       "            paths: {\n",
       "                'plotly': ['https://cdn.plot.ly/plotly-2.11.1.min']\n",
       "            }\n",
       "        });\n",
       "        require(['plotly'], function(Plotly) {\n",
       "            window._Plotly = Plotly;\n",
       "        });\n",
       "        }\n",
       "        </script>\n",
       "        "
      ]
     },
     "metadata": {},
     "output_type": "display_data"
    },
    {
     "data": {
      "text/html": [
       "\n",
       "<link rel=\"stylesheet\" type=\"text/css\" href=\"https://cdn.jsdelivr.net/gh/bmabey/pyLDAvis@3.2.2/pyLDAvis/js/ldavis.v1.0.0.css\">\n",
       "\n",
       "\n",
       "<div id=\"ldavis_el180181397512335802723211122962\"></div>\n",
       "<script type=\"text/javascript\">\n",
       "\n",
       "var ldavis_el180181397512335802723211122962_data = {\"mdsDat\": {\"x\": [-0.142153207629759, -0.07035759940537825, 0.10541493743839611, 0.10709586959674114], \"y\": [-0.08960614182851749, 0.12110038096188318, -0.12421379104834342, 0.09271955191497777], \"topics\": [1, 2, 3, 4], \"cluster\": [1, 1, 1, 1], \"Freq\": [35.591791819508614, 26.423418958462, 19.26648625347044, 18.71830296855894]}, \"tinfo\": {\"Term\": [\"say\", \"police\", \"military\", \"government\", \"trump\", \"percent\", \"official\", \"investigation\", \"election\", \"state\", \"email\", \"court\", \"russian\", \"kill\", \"woman\", \"report\", \"vote\", \"party\", \"case\", \"information\", \"bill\", \"federal\", \"republican\", \"attack\", \"former\", \"company\", \"law\", \"get\", \"tax\", \"man\", \"racist\", \"hate\", \"racism\", \"featured_image_via\", \"literally\", \"realdonaldtrump\", \"stupid\", \"mock\", \"ted_cruz\", \"white_supremacist\", \"conway\", \"romney\", \"funny\", \"reilly\", \"rant\", \"nra\", \"pretend\", \"featured_image\", \"hannity\", \"brag\", \"disgusting\", \"fun\", \"viewer\", \"hateful\", \"ass\", \"offend\", \"pathetic\", \"whine\", \"damn\", \"bigotry\", \"love\", \"white\", \"kid\", \"joke\", \"bully\", \"scream\", \"hillary\", \"campus\", \"guy\", \"going\", \"black\", \"woman\", \"watch\", \"video\", \"thing\", \"really\", \"audience\", \"getty_image\", \"actually\", \"tweet\", \"cruz\", \"think\", \"student\", \"seem\", \"get\", \"rally\", \"go\", \"word\", \"twitter\", \"fact\", \"know\", \"trump\", \"even\", \"let\", \"people\", \"man\", \"never\", \"bad\", \"happen\", \"want\", \"good\", \"make\", \"time\", \"come\", \"see\", \"show\", \"take\", \"well\", \"way\", \"say\", \"right\", \"tell\", \"call\", \"campaign\", \"president\", \"many\", \"ask\", \"also\", \"give\", \"republican\", \"economy\", \"budget\", \"brexit\", \"merkel\", \"growth\", \"fiscal\", \"coal\", \"tax_cut\", \"spd\", \"debt\", \"deficit\", \"currency\", \"health_insurance\", \"macron\", \"labour\", \"subsidy\", \"tax_reform\", \"afd\", \"affordable_care_act\", \"automaker\", \"overhaul\", \"tariff\", \"catalonia\", \"insurer\", \"emission\", \"economist\", \"tax\", \"irish\", \"percentage_point\", \"turnbull\", \"trade\", \"legislation\", \"invest\", \"proposal\", \"healthcare\", \"repeal\", \"expansion\", \"economic\", \"spending\", \"percent\", \"revenue\", \"obamacare\", \"income\", \"investment\", \"market\", \"climate_change\", \"bill\", \"propose\", \"reform\", \"industry\", \"energy\", \"party\", \"agreement\", \"plan\", \"parliament\", \"vote\", \"policy\", \"cost\", \"deal\", \"pass\", \"leader\", \"lawmaker\", \"say\", \"republican\", \"business\", \"support\", \"government\", \"year\", \"state\", \"new\", \"election\", \"expect\", \"president\", \"make\", \"also\", \"move\", \"trump\", \"country\", \"include\", \"take\", \"need\", \"issue\", \"call\", \"work\", \"want\", \"go\", \"syrian\", \"islamic_state\", \"iranian\", \"militant\", \"iraqi\", \"kurdish\", \"fighter\", \"palestinian\", \"security_force\", \"islamist\", \"bangladesh\", \"militia\", \"aircraft\", \"hariri\", \"humanitarian\", \"rakhine\", \"saudi\", \"raqqa\", \"civilian\", \"rohingya\", \"al_qaeda\", \"ceasefire\", \"tourist\", \"afghan\", \"shi_ite\", \"aleppo\", \"air_strike\", \"assad\", \"duterte\", \"jihadist\", \"missile\", \"troop\", \"israeli\", \"armed\", \"detain\", \"turkish\", \"police\", \"refugee\", \"airport\", \"rebel\", \"embassy\", \"military\", \"army\", \"soldier\", \"weapon\", \"arrest\", \"united_nation\", \"kill\", \"terrorist\", \"flight\", \"western\", \"war\", \"suspect\", \"city\", \"area\", \"officer\", \"force\", \"authority\", \"say\", \"attack\", \"conflict\", \"official\", \"government\", \"group\", \"country\", \"international\", \"region\", \"border\", \"visit\", \"people\", \"security\", \"report\", \"tell\", \"also\", \"include\", \"year\", \"take\", \"call\", \"statement\", \"state\", \"day\", \"back\", \"use\", \"flynn\", \"comey\", \"testify\", \"ethic\", \"server\", \"gorsuch\", \"hacker\", \"attorney_general\", \"justice_department\", \"plaintiff\", \"michael_flynn\", \"nune\", \"manafort\", \"dossier\", \"filing\", \"fbi_director\", \"classified_information\", \"intelligence_community\", \"software\", \"garland\", \"subpoena\", \"pardon\", \"recuse\", \"wiretappe\", \"wikileak\", \"wrongdoing\", \"appointee\", \"haiti\", \"cybersecurity\", \"intelligence_committee\", \"mueller\", \"collusion\", \"email\", \"probe\", \"computer\", \"voter_fraud\", \"lawyer\", \"investigation\", \"lawsuit\", \"hack\", \"attorney\", \"clinton_foundation\", \"information\", \"file\", \"court\", \"judge\", \"document\", \"fraud\", \"client\", \"russian\", \"legal\", \"allegation\", \"leak\", \"case\", \"intelligence\", \"federal\", \"investigate\", \"evidence\", \"letter\", \"law\", \"department\", \"former\", \"report\", \"agency\", \"state\", \"election\", \"official\", \"say\", \"order\", \"campaign\", \"public\", \"company\", \"include\", \"office\", \"use\", \"also\", \"trump\", \"government\", \"president\", \"accord\", \"make\", \"work\", \"tell\", \"year\"], \"Freq\": [36737.0, 2561.0, 2528.0, 6372.0, 12135.0, 2847.0, 4390.0, 1828.0, 5216.0, 7655.0, 1510.0, 1983.0, 1917.0, 1925.0, 3396.0, 4269.0, 4131.0, 3846.0, 2396.0, 1521.0, 2363.0, 2319.0, 5324.0, 2927.0, 3781.0, 2110.0, 2907.0, 5821.0, 1220.0, 2799.0, 842.4090752460121, 750.1469703916699, 341.25248789885916, 624.6125429654157, 269.9740759303523, 213.57023609787404, 210.91359986875352, 219.19307396662364, 205.51282603255032, 197.20165518018752, 188.55563960963562, 182.98906475341346, 173.42825741942895, 164.5941325613683, 152.69267185558388, 156.7331846508326, 154.65671617279835, 152.84543425350842, 158.41571017693968, 153.0326776950187, 145.59516243247535, 137.76279592857512, 137.674606967026, 133.4689213145415, 132.52622723937415, 130.4940272601828, 125.12950011430733, 120.36441852601332, 121.08416574526328, 118.39129980318752, 664.3505280874025, 1090.3238059224805, 431.7702695911257, 289.5548945702109, 236.62674732665212, 160.18013454807763, 878.6302995149564, 276.89490183765724, 647.1667107187338, 191.54729033067042, 1517.2233692021862, 3088.6865914034815, 1538.6830397039598, 1625.3772454670234, 2205.1030415919186, 1586.1198558063, 281.46251111749837, 274.3238994755217, 1135.7635397406843, 1113.671360248349, 347.0874750146042, 3143.04243381164, 1180.7944584286347, 1123.0403572276157, 4481.156016948849, 760.8858376047367, 5285.3934394614635, 946.1395989653007, 961.1678332999974, 1491.2489399812225, 3437.366238367648, 7592.585224940609, 2858.829809051932, 1163.590675669884, 5536.272826836661, 2014.3330602620233, 1430.9671796501086, 1226.0115849383717, 1394.256395867211, 2666.438692374958, 1749.918224962965, 4125.644403645142, 3036.344129557078, 2609.633490478762, 2506.268727273019, 2131.6957350190396, 3007.611895944154, 1884.445838250409, 1851.3319485188429, 7130.443216872415, 1846.2305876243818, 2511.040048045714, 2197.429133394423, 2095.3353642049306, 2019.4015529632877, 1785.652470278579, 1662.5337871427755, 1768.4306235954682, 1678.6823922447354, 1704.72079220535, 848.2486006328596, 862.396278176577, 323.2354702777296, 276.48495791320727, 239.6042124275857, 231.16331469858005, 208.5106479025854, 202.67268528075243, 193.3296158599592, 518.9760743799835, 182.45760124310033, 146.24880212693, 138.08088261051392, 135.1733331602872, 133.28711395858562, 125.70450066787062, 117.55412596962448, 117.60208432676286, 144.1400964810216, 115.77259589128464, 119.53099339853745, 108.58956835519734, 108.5462230752502, 105.05412364148488, 102.52020823567615, 105.18852677981478, 1211.1942208229793, 94.97816733697915, 92.84168869765303, 89.73912960179025, 1148.1662765286417, 980.9088024427707, 191.23129593974912, 604.4713683283957, 486.54946919111256, 295.6573604652797, 126.0736224673857, 1012.3727113587821, 444.67992019985456, 2579.132435524211, 249.6894831147262, 537.5821523846336, 265.0227467046632, 508.9570757143499, 656.5237684538284, 240.16531890408686, 1985.9522164272025, 583.9244200217676, 711.9909548559473, 561.5827578151001, 381.7726469465795, 2728.888348491832, 742.4626236386176, 2061.8020953382547, 476.43503276457176, 2727.4228520131996, 1647.80740670776, 765.5160609686279, 1421.6125526006451, 979.629644032978, 1788.485892918201, 962.933833730797, 13002.289700893725, 2838.6364294238315, 1204.0751587698032, 1917.1287346963481, 2688.753467772911, 2659.9991241089842, 3010.3665213232903, 1845.0350601902771, 2154.196939448142, 1034.3986172545349, 2012.5796038010324, 2303.1542606921653, 2098.1468920033144, 1123.5081437459557, 2596.5532299795063, 1714.1452716989172, 1553.6453759125484, 1794.0191655727638, 1301.9910748273649, 1231.1616355524134, 1274.313015009105, 1219.1354693552228, 1212.973305718327, 1228.9288053595671, 609.170662567201, 589.9610561917548, 448.1499167627355, 405.5832576563176, 339.84202566531434, 281.03184804111305, 243.906720308821, 223.7093737576146, 214.30144220915844, 186.2994980619649, 164.73965493008617, 164.65501354283717, 164.7459777611858, 149.4644210162056, 152.9139481284665, 142.51742171923235, 144.0983132973624, 135.45901009461303, 348.599992233119, 122.58513780548917, 117.58817130289262, 115.9293931062028, 115.2060354959562, 111.31777007454563, 104.7930678878308, 107.36643257488423, 103.1869033656253, 103.53297727655219, 101.81018960514037, 97.96902376132493, 377.9270841447221, 491.94927060905417, 286.3217417507862, 280.45930098078577, 304.57046160232267, 321.1597139950581, 2398.228956032031, 898.2133721886028, 261.7648399170504, 279.88390497039904, 235.6086294215746, 2259.577504402454, 449.56685586002703, 427.57917395051624, 523.0127516310624, 915.7416569012438, 386.29843899930285, 1497.1674425182252, 649.6958927233038, 321.56150785505025, 440.62835776007034, 1091.7231033428693, 544.2975332297855, 1153.108823722395, 750.9041267513746, 637.9574097443096, 1227.0236015322412, 767.2417341424105, 10168.28639614786, 1507.6146710483554, 463.1384084482168, 1749.0697687392749, 2184.16847985693, 1607.5471636201437, 1821.7592406990514, 757.0831502041062, 599.6841735183968, 662.9915566638047, 760.6804734933203, 2039.497840063116, 926.68868317341, 1289.4652347054005, 1330.0561928964225, 1372.2738831910467, 1114.1031316263686, 1248.0477501513353, 1216.582328226751, 1014.6541885911162, 866.939032101552, 1038.3059881811378, 877.7824668734933, 807.1805584746712, 803.6583004244419, 397.20800472414163, 394.7435828101417, 248.84188040790298, 196.47081649637877, 193.8365532941446, 186.5789141512551, 155.5063335031373, 143.42179816283664, 130.42785924303678, 122.63748167601821, 115.06501739259993, 105.29521470138242, 100.6158559578027, 97.64004408566922, 95.87614828839104, 92.3797142064137, 87.30281506133356, 84.35469101565441, 98.07254025645979, 78.68805277437666, 75.51114031687362, 80.12988227432034, 74.67484474221422, 71.69298815595317, 313.90373680782506, 70.87025970554316, 69.21901255788158, 68.84072684769002, 67.52501490616862, 65.20021517410342, 186.85241737600492, 183.81191724116212, 1425.0093730539288, 414.077739341653, 216.32751490322502, 119.92142286651276, 686.7337398165276, 1626.8818960964697, 401.31983891915945, 487.6133920807535, 477.83045530610667, 213.42648069847468, 1317.5153913564748, 549.0296876404137, 1665.655496115168, 859.2692741030824, 861.3020837852853, 280.4528781185326, 196.60135374976878, 1436.3667926782878, 811.0937775166917, 550.5949918104757, 387.92643100369145, 1649.8324524101329, 647.1914164484543, 1408.0818877555057, 530.3880392739453, 710.5716637355881, 675.4025347869672, 1555.7121998246946, 816.5839136769151, 1874.276098721189, 1947.930538575139, 878.7078604373057, 2802.7116169028413, 1977.0398817899195, 1756.1215627586498, 6436.2204579223, 1000.0005762578127, 1678.6203632636245, 1127.8088689004676, 982.3755827353934, 1391.4728347829996, 958.9590209272756, 1320.7360007577595, 1547.2491000402056, 1946.4692356313074, 1494.0489013527374, 1343.7127002368074, 1050.9801059052581, 1070.7416960478697, 914.7068563133604, 920.8787862265839, 906.8652638567764], \"Total\": [36737.0, 2561.0, 2528.0, 6372.0, 12135.0, 2847.0, 4390.0, 1828.0, 5216.0, 7655.0, 1510.0, 1983.0, 1917.0, 1925.0, 3396.0, 4269.0, 4131.0, 3846.0, 2396.0, 1521.0, 2363.0, 2319.0, 5324.0, 2927.0, 3781.0, 2110.0, 2907.0, 5821.0, 1220.0, 2799.0, 843.1568496459068, 750.9021101795709, 342.00771705847876, 626.1307578035724, 270.7403984002545, 214.31897564775696, 211.6709170206696, 219.9841751870111, 206.2671043453482, 197.9435338670141, 189.312625806263, 183.75005135496644, 174.16963622216676, 165.33863665111008, 153.42997267781521, 157.4932375968699, 155.41087444565997, 153.5961390697466, 159.19466030620023, 153.78672770882005, 146.34655150455126, 138.5021140018274, 138.41941309816895, 134.2134733933663, 133.26827615776892, 131.2437327504504, 125.87808055871851, 121.10410834430085, 121.8303033676485, 119.13613446819441, 671.1870755382633, 1109.1374117023413, 435.3377093055559, 291.4335070849146, 238.32227868475738, 161.2678142595699, 902.3290776760454, 280.8063002047195, 667.9604986898718, 193.3557439329265, 1604.179719560646, 3396.885690475512, 1673.002519142856, 1795.7032526626133, 2493.077300081997, 1767.4046939308332, 290.210702460181, 282.94465809075075, 1269.1427606368109, 1265.0949250383808, 363.97707221452634, 3916.4348476626105, 1362.7038028767465, 1293.4337380639956, 5821.504847931409, 854.1282459526287, 7414.072491200224, 1108.0863097080837, 1134.4044211807764, 1851.8685326317598, 4839.526509522695, 12135.87336569879, 4011.8671485211585, 1447.648496689504, 9203.471247450634, 2799.925164781538, 1869.8453559407774, 1555.2277432218311, 1841.746374222574, 4363.983408861935, 2516.017081870499, 8117.312352407884, 5508.186679242493, 4827.096332183813, 4548.753175417415, 3648.008791144997, 6753.835563123926, 3144.8201882152525, 3064.475603862863, 36737.239771836306, 3148.098310438751, 5873.949267949127, 5290.544032613302, 4739.698597793828, 5796.451762253906, 3681.483584664683, 3152.9057490706664, 6786.100498830036, 3701.39500897544, 5324.217866777781, 849.0620072077647, 864.2770810155349, 323.97187326711105, 277.2346359561851, 240.36632403359684, 231.89975112066526, 209.25656320436622, 203.41669631029472, 194.06361939174812, 521.0273261013738, 183.19460561756478, 147.00141528568705, 138.82577107006668, 135.9203507884095, 134.02644114192395, 126.44191075807925, 118.28487992042362, 118.34172134731801, 145.0513153873337, 116.52249016027, 120.33502570524536, 109.32340043330703, 109.29214462308894, 105.79209040296139, 103.25720429545923, 105.94916283611782, 1220.1121485650435, 95.7241421061219, 93.58914739651645, 90.48340906163922, 1178.3307281391767, 1006.1027016457789, 193.377615351284, 619.6131563862045, 501.48351893137453, 302.73657589830407, 127.24262919256344, 1072.0616527082807, 461.9098101160614, 2847.526274426384, 256.86603843633037, 570.4253136709344, 274.4657312310398, 542.2056383668134, 709.8149203320799, 248.0445760306862, 2363.7770494431156, 648.2363167719, 807.062789039963, 643.3144021385042, 417.662076122247, 3846.843455639233, 889.3650824136066, 2872.429127822037, 538.5804709040833, 4131.088677504194, 2307.4262423530145, 945.794226577658, 2081.907229141747, 1334.029021047249, 2827.977768728921, 1315.3482817979077, 36737.239771836306, 5324.217866777781, 1821.3239247168694, 3859.9079478625777, 6372.715123874784, 6328.076013821557, 7655.900113648172, 3725.823243129102, 5216.644594604045, 1653.5974054127894, 5796.451762253906, 8117.312352407884, 6786.100498830036, 2046.2784903912773, 12135.87336569879, 5204.12890345556, 4524.070256619259, 6753.835563123926, 3250.7278698770133, 2997.082414355155, 5290.544032613302, 3867.5748633426347, 4363.983408861935, 7414.072491200224, 609.9177056179873, 590.7159895958363, 448.9125007549244, 406.3377163200158, 340.5818441291516, 281.76836488886937, 244.66465241504537, 224.4702104586237, 215.03905869798774, 187.05258598165477, 165.47711167401317, 165.40970659358203, 165.52269232450485, 150.2021888555657, 153.68094004204946, 143.2526954886478, 144.8545004222287, 136.1967894381987, 350.50264981999754, 123.32010552276147, 118.33430190127487, 116.67898624196091, 115.96465609623885, 112.05943104432578, 105.52759307876356, 108.13263840341303, 103.92581111656567, 104.27799611836056, 102.55487453156353, 98.71205474300655, 381.35571028191634, 498.1775500485659, 290.56085036992033, 284.978382114011, 310.0187305025265, 327.2289882177856, 2561.811999223831, 957.4625632335052, 268.7137536503545, 288.5848005240101, 241.64854995854097, 2528.1030097072644, 472.2384473704265, 452.78220677605196, 560.4395693475672, 1024.359352898808, 424.75902872863804, 1925.8559228405425, 763.4600824458626, 348.8519414047898, 510.12617525254285, 1574.9373038738534, 683.2840936708005, 1772.688227221269, 1030.6980093435682, 841.6460878044949, 2071.664272526137, 1107.8050630443822, 36737.239771836306, 2927.838184572887, 567.0692981167674, 4390.009541433181, 6372.715123874784, 4068.2971972056953, 5204.12890345556, 1245.5385414057046, 863.7574508036924, 1055.1536242848479, 1355.575701930897, 9203.471247450634, 2014.8766415730427, 4269.279468844441, 5873.949267949127, 6786.100498830036, 4524.070256619259, 6328.076013821557, 6753.835563123926, 5290.544032613302, 2841.6804663474136, 7655.900113648172, 3881.635936843256, 3124.969282464009, 4287.1497665761235, 397.95198058218597, 395.48667286882204, 249.59907170109233, 197.228095194461, 194.59000652064736, 187.3317574245449, 156.25355848108754, 144.19460420535276, 131.1828394454912, 123.38320219220564, 115.81367266392414, 106.0424036389368, 101.36382662132569, 98.38585551589483, 96.6373108361797, 93.12269576089203, 88.04474241586225, 85.0978159378489, 98.957675146063, 79.44079258907007, 76.2499663720078, 80.92315595910354, 75.41744218494074, 72.44275220358011, 317.193203251518, 71.62818510222155, 69.97917183770475, 69.60556949139826, 68.2794166863149, 65.94005038718053, 189.79686632213026, 187.66402869993482, 1510.241256426989, 429.0083888487251, 223.07817564479888, 122.40882297600628, 735.5385412327765, 1828.5807526717801, 428.02608904112543, 527.6146339084949, 517.2849764682983, 223.42428672865032, 1521.619166733819, 607.2748640957552, 1983.2720374937498, 987.8599355645727, 993.021469381219, 309.0946136150024, 210.04931770731164, 1917.3697686603846, 1029.0300222075837, 668.5024749932678, 453.02776444694246, 2396.4881876983054, 842.0759335612156, 2319.627812233475, 696.8133611594674, 1007.3677206460102, 962.2122590120982, 2907.066427686409, 1264.0135639885564, 3781.675393361691, 4269.279468844441, 1458.9525643396173, 7655.900113648172, 5216.644594604045, 4390.009541433181, 36737.239771836306, 1918.3987806615492, 4739.698597793828, 2539.6153212555487, 2110.0631670789344, 4524.070256619259, 2169.0476038448696, 4287.1497665761235, 6786.100498830036, 12135.87336569879, 6372.715123874784, 5796.451762253906, 3125.5643953675217, 8117.312352407884, 3867.5748633426347, 5873.949267949127, 6328.076013821557], \"Category\": [\"Default\", \"Default\", \"Default\", \"Default\", \"Default\", \"Default\", \"Default\", \"Default\", \"Default\", \"Default\", \"Default\", \"Default\", \"Default\", \"Default\", \"Default\", \"Default\", \"Default\", \"Default\", \"Default\", \"Default\", \"Default\", \"Default\", \"Default\", \"Default\", \"Default\", \"Default\", \"Default\", \"Default\", \"Default\", \"Default\", \"Topic1\", \"Topic1\", \"Topic1\", \"Topic1\", \"Topic1\", \"Topic1\", \"Topic1\", \"Topic1\", \"Topic1\", \"Topic1\", \"Topic1\", \"Topic1\", \"Topic1\", \"Topic1\", \"Topic1\", \"Topic1\", \"Topic1\", \"Topic1\", \"Topic1\", \"Topic1\", \"Topic1\", \"Topic1\", \"Topic1\", \"Topic1\", \"Topic1\", \"Topic1\", \"Topic1\", \"Topic1\", \"Topic1\", \"Topic1\", \"Topic1\", \"Topic1\", \"Topic1\", \"Topic1\", \"Topic1\", \"Topic1\", \"Topic1\", \"Topic1\", \"Topic1\", \"Topic1\", \"Topic1\", \"Topic1\", \"Topic1\", \"Topic1\", \"Topic1\", \"Topic1\", \"Topic1\", \"Topic1\", \"Topic1\", \"Topic1\", \"Topic1\", \"Topic1\", \"Topic1\", \"Topic1\", \"Topic1\", \"Topic1\", \"Topic1\", \"Topic1\", \"Topic1\", \"Topic1\", \"Topic1\", \"Topic1\", \"Topic1\", \"Topic1\", \"Topic1\", \"Topic1\", \"Topic1\", \"Topic1\", \"Topic1\", \"Topic1\", \"Topic1\", \"Topic1\", \"Topic1\", \"Topic1\", \"Topic1\", \"Topic1\", \"Topic1\", \"Topic1\", \"Topic1\", \"Topic1\", \"Topic1\", \"Topic1\", \"Topic1\", \"Topic1\", \"Topic1\", \"Topic1\", \"Topic1\", \"Topic1\", \"Topic1\", \"Topic1\", \"Topic2\", \"Topic2\", \"Topic2\", \"Topic2\", \"Topic2\", \"Topic2\", \"Topic2\", \"Topic2\", \"Topic2\", \"Topic2\", \"Topic2\", \"Topic2\", \"Topic2\", \"Topic2\", \"Topic2\", \"Topic2\", \"Topic2\", \"Topic2\", \"Topic2\", \"Topic2\", \"Topic2\", \"Topic2\", \"Topic2\", \"Topic2\", \"Topic2\", \"Topic2\", \"Topic2\", \"Topic2\", \"Topic2\", \"Topic2\", \"Topic2\", \"Topic2\", \"Topic2\", \"Topic2\", \"Topic2\", \"Topic2\", \"Topic2\", \"Topic2\", \"Topic2\", \"Topic2\", \"Topic2\", \"Topic2\", \"Topic2\", \"Topic2\", \"Topic2\", \"Topic2\", \"Topic2\", \"Topic2\", \"Topic2\", \"Topic2\", \"Topic2\", \"Topic2\", \"Topic2\", \"Topic2\", \"Topic2\", \"Topic2\", \"Topic2\", \"Topic2\", \"Topic2\", \"Topic2\", \"Topic2\", \"Topic2\", \"Topic2\", \"Topic2\", \"Topic2\", \"Topic2\", \"Topic2\", \"Topic2\", \"Topic2\", \"Topic2\", \"Topic2\", \"Topic2\", \"Topic2\", \"Topic2\", \"Topic2\", \"Topic2\", \"Topic2\", \"Topic2\", \"Topic2\", \"Topic2\", \"Topic2\", \"Topic2\", \"Topic2\", \"Topic2\", \"Topic2\", \"Topic2\", \"Topic3\", \"Topic3\", \"Topic3\", \"Topic3\", \"Topic3\", \"Topic3\", \"Topic3\", \"Topic3\", \"Topic3\", \"Topic3\", \"Topic3\", \"Topic3\", \"Topic3\", \"Topic3\", \"Topic3\", \"Topic3\", \"Topic3\", \"Topic3\", \"Topic3\", \"Topic3\", \"Topic3\", \"Topic3\", \"Topic3\", \"Topic3\", \"Topic3\", \"Topic3\", \"Topic3\", \"Topic3\", \"Topic3\", \"Topic3\", \"Topic3\", \"Topic3\", \"Topic3\", \"Topic3\", \"Topic3\", \"Topic3\", \"Topic3\", \"Topic3\", \"Topic3\", \"Topic3\", \"Topic3\", \"Topic3\", \"Topic3\", \"Topic3\", \"Topic3\", \"Topic3\", \"Topic3\", \"Topic3\", \"Topic3\", \"Topic3\", \"Topic3\", \"Topic3\", \"Topic3\", \"Topic3\", \"Topic3\", \"Topic3\", \"Topic3\", \"Topic3\", \"Topic3\", \"Topic3\", \"Topic3\", \"Topic3\", \"Topic3\", \"Topic3\", \"Topic3\", \"Topic3\", \"Topic3\", \"Topic3\", \"Topic3\", \"Topic3\", \"Topic3\", \"Topic3\", \"Topic3\", \"Topic3\", \"Topic3\", \"Topic3\", \"Topic3\", \"Topic3\", \"Topic3\", \"Topic3\", \"Topic3\", \"Topic3\", \"Topic3\", \"Topic4\", \"Topic4\", \"Topic4\", \"Topic4\", \"Topic4\", \"Topic4\", \"Topic4\", \"Topic4\", \"Topic4\", \"Topic4\", \"Topic4\", \"Topic4\", \"Topic4\", \"Topic4\", \"Topic4\", \"Topic4\", \"Topic4\", \"Topic4\", \"Topic4\", \"Topic4\", \"Topic4\", \"Topic4\", \"Topic4\", \"Topic4\", \"Topic4\", \"Topic4\", \"Topic4\", \"Topic4\", \"Topic4\", \"Topic4\", \"Topic4\", \"Topic4\", \"Topic4\", \"Topic4\", \"Topic4\", \"Topic4\", \"Topic4\", \"Topic4\", \"Topic4\", \"Topic4\", \"Topic4\", \"Topic4\", \"Topic4\", \"Topic4\", \"Topic4\", \"Topic4\", \"Topic4\", \"Topic4\", \"Topic4\", \"Topic4\", \"Topic4\", \"Topic4\", \"Topic4\", \"Topic4\", \"Topic4\", \"Topic4\", \"Topic4\", \"Topic4\", \"Topic4\", \"Topic4\", \"Topic4\", \"Topic4\", \"Topic4\", \"Topic4\", \"Topic4\", \"Topic4\", \"Topic4\", \"Topic4\", \"Topic4\", \"Topic4\", \"Topic4\", \"Topic4\", \"Topic4\", \"Topic4\", \"Topic4\", \"Topic4\", \"Topic4\", \"Topic4\", \"Topic4\", \"Topic4\", \"Topic4\", \"Topic4\", \"Topic4\", \"Topic4\"], \"logprob\": [30.0, 29.0, 28.0, 27.0, 26.0, 25.0, 24.0, 23.0, 22.0, 21.0, 20.0, 19.0, 18.0, 17.0, 16.0, 15.0, 14.0, 13.0, 12.0, 11.0, 10.0, 9.0, 8.0, 7.0, 6.0, 5.0, 4.0, 3.0, 2.0, 1.0, -6.5403, -6.6563, -7.4439, -6.8394, -7.6782, -7.9126, -7.9251, -7.8866, -7.951, -7.9923, -8.0371, -8.0671, -8.1208, -8.173, -8.2481, -8.222, -8.2353, -8.2471, -8.2113, -8.2459, -8.2957, -8.351, -8.3516, -8.3827, -8.3897, -8.4052, -8.4472, -8.486, -8.48, -8.5025, -6.7777, -6.2823, -7.2086, -7.6082, -7.81, -8.2002, -6.4982, -7.6529, -6.8039, -8.0214, -5.9519, -5.241, -5.9378, -5.883, -5.578, -5.9075, -7.6365, -7.6622, -6.2415, -6.2611, -7.4269, -5.2236, -6.2026, -6.2527, -4.8689, -6.642, -4.7038, -6.4241, -6.4084, -5.9692, -5.1341, -4.3416, -5.3184, -6.2173, -4.6574, -5.6685, -6.0104, -6.165, -6.0364, -5.388, -5.8092, -4.9515, -5.2581, -5.4096, -5.45, -5.6118, -5.2676, -5.7351, -5.7529, -4.4044, -5.7556, -5.4481, -5.5815, -5.6291, -5.666, -5.789, -5.8604, -5.7987, -5.8508, -5.8354, -6.2355, -6.2189, -7.2003, -7.3565, -7.4997, -7.5355, -7.6387, -7.6671, -7.7143, -6.7268, -7.7721, -7.9933, -8.0508, -8.0721, -8.0862, -8.1447, -8.2118, -8.2114, -8.0079, -8.227, -8.1951, -8.2911, -8.2915, -8.3242, -8.3486, -8.3229, -5.8793, -8.425, -8.4478, -8.4818, -5.9327, -6.0902, -7.7252, -6.5743, -6.7913, -7.2895, -8.1418, -6.0586, -6.8813, -5.1234, -7.4584, -6.6916, -7.3988, -6.7463, -6.4917, -7.4973, -5.3848, -6.6089, -6.4106, -6.6479, -7.0338, -5.067, -6.3687, -5.3473, -6.8123, -5.0675, -5.5715, -6.3381, -5.7191, -6.0915, -5.4895, -6.1087, -3.5058, -5.0276, -5.8852, -5.4201, -5.0818, -5.0926, -4.9688, -5.4584, -5.3035, -6.0371, -5.3715, -5.2366, -5.3298, -5.9544, -5.1167, -5.532, -5.6303, -5.4864, -5.807, -5.8629, -5.8285, -5.8728, -5.8778, -5.8648, -6.2507, -6.2827, -6.5576, -6.6574, -6.8343, -7.0243, -7.166, -7.2524, -7.2954, -7.4354, -7.5584, -7.5589, -7.5584, -7.6557, -7.6329, -7.7033, -7.6923, -7.7541, -6.8088, -7.854, -7.8956, -7.9098, -7.9161, -7.9504, -8.0108, -7.9865, -8.0262, -8.0229, -8.0397, -8.0781, -6.7281, -6.4644, -7.0057, -7.0263, -6.9439, -6.8908, -4.8803, -5.8624, -7.0953, -7.0284, -7.2006, -4.9398, -6.5545, -6.6046, -6.4032, -5.843, -6.7062, -5.3514, -6.1863, -6.8896, -6.5746, -5.6673, -6.3633, -5.6126, -6.0415, -6.2045, -5.5504, -6.02, -3.4357, -5.3445, -6.5247, -5.1959, -4.9738, -5.2803, -5.1552, -6.0333, -6.2664, -6.166, -6.0286, -5.0423, -5.8312, -5.5008, -5.4698, -5.4385, -5.647, -5.5334, -5.559, -5.7405, -5.8978, -5.7174, -5.8854, -5.9692, -5.9736, -6.6494, -6.6557, -7.1171, -7.3534, -7.3669, -7.4051, -7.5872, -7.6681, -7.7631, -7.8247, -7.8884, -7.9771, -8.0226, -8.0526, -8.0709, -8.108, -8.1645, -8.1989, -8.0482, -8.2684, -8.3096, -8.2503, -8.3208, -8.3615, -6.8848, -8.3731, -8.3966, -8.4021, -8.4214, -8.4564, -7.4036, -7.42, -5.372, -6.6079, -7.2571, -7.8471, -6.102, -5.2395, -6.6392, -6.4444, -6.4647, -7.2706, -5.4504, -6.3258, -5.2159, -5.8778, -5.8755, -6.9975, -7.3527, -5.364, -5.9355, -6.3229, -6.6731, -5.2255, -6.1613, -5.3839, -6.3603, -6.0678, -6.1186, -5.2842, -5.9288, -5.0979, -5.0594, -5.8555, -4.6956, -5.0446, -5.163, -3.8642, -5.7262, -5.2082, -5.6059, -5.7439, -5.3958, -5.7681, -5.448, -5.2897, -5.0601, -5.3247, -5.4307, -5.6764, -5.6578, -5.8153, -5.8086, -5.8239], \"loglift\": [30.0, 29.0, 28.0, 27.0, 26.0, 25.0, 24.0, 23.0, 22.0, 21.0, 20.0, 19.0, 18.0, 17.0, 16.0, 15.0, 14.0, 13.0, 12.0, 11.0, 10.0, 9.0, 8.0, 7.0, 6.0, 5.0, 4.0, 3.0, 2.0, 1.0, 1.0322, 1.032, 1.0308, 1.0306, 1.0302, 1.0296, 1.0295, 1.0295, 1.0294, 1.0293, 1.029, 1.0289, 1.0288, 1.0285, 1.0282, 1.0282, 1.0282, 1.0282, 1.0282, 1.0281, 1.0279, 1.0277, 1.0277, 1.0275, 1.0275, 1.0273, 1.0271, 1.0269, 1.0269, 1.0268, 1.0228, 1.0159, 1.0248, 1.0266, 1.0259, 1.0263, 1.0064, 1.019, 1.0014, 1.0237, 0.9773, 0.9379, 0.9494, 0.9334, 0.9103, 0.9248, 1.0024, 1.0021, 0.922, 0.9056, 0.9855, 0.8131, 0.8898, 0.8918, 0.7714, 0.9175, 0.6946, 0.8751, 0.8673, 0.8165, 0.6909, 0.5641, 0.6942, 0.8146, 0.5248, 0.7038, 0.7655, 0.7952, 0.7547, 0.5404, 0.6699, 0.3563, 0.4375, 0.418, 0.437, 0.4958, 0.2241, 0.5209, 0.5291, -0.6064, 0.4994, 0.1832, 0.1544, 0.2168, -0.0214, 0.3095, 0.3931, -0.3117, 0.2424, -0.1058, 1.33, 1.3287, 1.3286, 1.3282, 1.3277, 1.3277, 1.3273, 1.3273, 1.3271, 1.327, 1.3269, 1.3258, 1.3255, 1.3254, 1.3254, 1.3251, 1.3247, 1.3246, 1.3246, 1.3245, 1.3242, 1.3242, 1.3241, 1.3239, 1.3238, 1.3237, 1.3236, 1.3231, 1.3229, 1.3227, 1.305, 1.3056, 1.3198, 1.3062, 1.3007, 1.3073, 1.3217, 1.2736, 1.2929, 1.2319, 1.3026, 1.2716, 1.2959, 1.2676, 1.2529, 1.2986, 1.1568, 1.2264, 1.2056, 1.195, 1.2411, 0.9876, 1.1504, 0.9993, 1.2083, 0.9157, 0.9942, 1.1194, 0.9494, 1.0221, 0.8727, 1.019, 0.2923, 0.702, 0.9171, 0.6311, 0.468, 0.4642, 0.3975, 0.6281, 0.4465, 0.8618, 0.2731, 0.0712, 0.1571, 0.7314, -0.2111, 0.2204, 0.2621, 0.0053, 0.4159, 0.4412, -0.0926, 0.1764, 0.0506, -0.4663, 1.6456, 1.6455, 1.6451, 1.6449, 1.6446, 1.6442, 1.6437, 1.6434, 1.6434, 1.6428, 1.6423, 1.6422, 1.6421, 1.6419, 1.6418, 1.6417, 1.6416, 1.6414, 1.6414, 1.6408, 1.6405, 1.6404, 1.6402, 1.6402, 1.6398, 1.6397, 1.6397, 1.6396, 1.6395, 1.6392, 1.6378, 1.6342, 1.6321, 1.6308, 1.6291, 1.6281, 1.5808, 1.5829, 1.6206, 1.6162, 1.6215, 1.5345, 1.5976, 1.5895, 1.5777, 1.5347, 1.5519, 1.395, 1.4854, 1.5653, 1.5003, 1.2803, 1.4194, 1.2168, 1.3301, 1.3697, 1.123, 1.2795, 0.3623, 0.9831, 1.4443, 0.7266, 0.576, 0.7183, 0.5972, 1.149, 1.2819, 1.1821, 1.069, 0.1399, 0.8701, 0.4496, 0.1615, 0.0484, 0.2454, 0.0234, -0.0673, -0.0046, 0.4596, -0.3511, 0.1602, 0.2932, -0.0274, 1.6738, 1.6738, 1.6726, 1.6718, 1.6718, 1.6716, 1.6709, 1.6703, 1.6699, 1.6696, 1.6692, 1.6686, 1.6683, 1.6681, 1.6678, 1.6677, 1.6672, 1.6669, 1.6667, 1.6661, 1.6659, 1.6658, 1.6658, 1.6653, 1.6652, 1.665, 1.6647, 1.6646, 1.6646, 1.6644, 1.66, 1.6549, 1.6176, 1.6402, 1.6449, 1.6551, 1.607, 1.5588, 1.6112, 1.5968, 1.5963, 1.6299, 1.5316, 1.5748, 1.5011, 1.5362, 1.5334, 1.5784, 1.6095, 1.3868, 1.4377, 1.4816, 1.5205, 1.3023, 1.4124, 1.1765, 1.4028, 1.3266, 1.3217, 1.0505, 1.2388, 0.9737, 0.891, 1.1686, 0.6708, 0.7054, 0.7594, -0.0662, 1.0242, 0.6377, 0.8639, 0.9112, 0.4966, 0.8595, 0.4982, 0.1973, -0.1545, 0.2251, 0.2139, 0.5858, -0.35, 0.2339, -0.1773, -0.2671]}, \"token.table\": {\"Topic\": [1, 2, 3, 4, 1, 2, 3, 4, 2, 2, 3, 2, 3, 4, 2, 3, 4, 3, 3, 1, 2, 3, 4, 3, 3, 1, 3, 4, 1, 2, 3, 4, 4, 1, 2, 3, 4, 1, 2, 3, 2, 3, 4, 1, 3, 4, 1, 2, 3, 4, 1, 3, 1, 2, 3, 4, 1, 3, 4, 4, 1, 2, 4, 2, 3, 4, 2, 1, 2, 3, 4, 1, 2, 3, 4, 3, 1, 1, 2, 4, 1, 2, 3, 4, 1, 2, 3, 4, 1, 2, 2, 4, 1, 3, 4, 1, 2, 3, 4, 1, 2, 3, 4, 1, 2, 3, 4, 1, 3, 1, 2, 3, 4, 2, 3, 1, 2, 3, 4, 2, 3, 4, 2, 4, 1, 2, 4, 1, 4, 2, 1, 4, 1, 2, 3, 4, 4, 1, 2, 3, 4, 1, 3, 4, 1, 2, 3, 4, 1, 1, 2, 3, 4, 1, 2, 3, 4, 1, 2, 3, 4, 1, 2, 2, 4, 1, 1, 2, 3, 4, 1, 2, 3, 4, 1, 2, 4, 2, 1, 2, 3, 4, 3, 4, 1, 2, 3, 4, 4, 3, 2, 3, 4, 2, 2, 1, 2, 4, 1, 4, 3, 4, 2, 2, 3, 4, 4, 1, 2, 3, 4, 1, 3, 4, 2, 4, 1, 2, 3, 4, 1, 2, 3, 4, 4, 1, 1, 4, 1, 2, 3, 4, 3, 1, 3, 4, 4, 2, 1, 2, 3, 4, 4, 1, 2, 3, 4, 1, 2, 3, 4, 1, 2, 4, 1, 1, 4, 1, 2, 3, 4, 1, 4, 1, 2, 3, 4, 1, 2, 3, 4, 1, 2, 1, 2, 3, 4, 4, 1, 2, 3, 4, 1, 2, 3, 4, 2, 1, 4, 1, 4, 4, 4, 1, 1, 2, 3, 4, 3, 1, 1, 2, 1, 2, 1, 4, 3, 1, 2, 3, 4, 2, 4, 1, 2, 4, 1, 3, 4, 2, 1, 3, 4, 4, 4, 1, 2, 3, 4, 2, 4, 1, 3, 4, 1, 3, 4, 2, 4, 3, 3, 2, 3, 3, 3, 4, 1, 2, 3, 4, 3, 1, 4, 1, 2, 3, 4, 4, 1, 4, 1, 2, 3, 4, 1, 2, 3, 4, 3, 2, 1, 2, 3, 4, 1, 2, 3, 4, 1, 4, 1, 3, 4, 1, 2, 3, 4, 1, 2, 3, 4, 1, 2, 3, 4, 2, 4, 1, 2, 3, 4, 1, 2, 3, 4, 1, 1, 2, 2, 1, 2, 3, 4, 1, 3, 4, 4, 1, 2, 3, 4, 1, 2, 3, 4, 2, 4, 3, 1, 2, 3, 4, 3, 2, 3, 1, 1, 2, 3, 4, 1, 4, 1, 2, 3, 4, 1, 2, 3, 4, 1, 2, 3, 4, 1, 4, 1, 2, 1, 1, 2, 3, 4, 1, 2, 3, 4, 1, 2, 3, 4, 1, 2, 3, 4, 2, 3, 4, 2, 3, 1, 2, 3, 4, 1, 2, 3, 4, 1, 1, 2, 3, 4, 1, 2, 3, 4, 2, 4, 1, 2, 3, 4, 1, 3, 4, 1, 2, 3, 4, 1, 2, 3, 4, 1, 3, 4, 2, 3, 4, 1, 2, 3, 4, 1, 2, 3, 4, 1, 1, 3, 1, 2, 3, 4, 1, 3, 1, 1, 2, 3, 4, 2, 3, 4, 1, 2, 3, 4, 1, 2, 3, 4, 2, 3, 1, 1, 2, 4, 1, 2, 3, 4, 1, 2, 4, 1, 2, 4, 1, 2, 3, 4, 3, 1, 1, 2, 3, 4, 3, 1, 2, 3, 4, 1, 3, 1, 2, 3, 4, 3, 1, 2, 3, 4, 1, 2, 3, 4, 4, 3, 1, 2, 3, 4, 4, 1, 3, 2, 1, 2, 4, 1, 2, 3, 4, 1, 2, 3, 4, 1, 2, 3, 4, 1, 4, 2, 1, 2, 3, 4, 1, 2, 3, 4, 3, 1, 2, 3, 4, 2, 2, 4, 2, 2, 1, 1, 2, 3, 4, 1, 3, 4, 1, 2, 3, 4, 1, 2, 3, 4, 1, 2, 3, 4, 3, 2, 3, 4, 1, 3, 1, 2, 4, 3, 4, 2, 1, 2, 3, 4, 1, 2, 3, 4, 2, 3, 4, 1, 2, 3, 4, 1, 3, 4, 1, 1, 2, 3, 4, 1, 2, 4, 1, 4, 1, 2, 3, 4, 1, 2, 3, 4, 1, 2, 3, 4, 1, 2, 3, 4, 1, 3, 1, 2, 3, 4, 2, 3, 1, 1, 3, 4, 1, 1, 4, 4, 1, 3, 4, 1, 2, 3, 4, 1, 2, 3, 4, 4, 1, 2, 3, 4], \"Freq\": [0.19132544537758076, 0.2524344087005204, 0.22012024484912301, 0.3362592693843434, 0.8950923688285434, 0.054367406205254834, 0.006303467386116503, 0.04491220512608008, 0.9971124186514483, 0.9927521140740686, 0.9905458109643024, 0.16107446242186138, 0.2364710193001795, 0.6024870317821964, 0.8343030490766746, 0.10569337818491566, 0.05959307493404819, 0.9910916151953122, 0.9968421712022415, 0.0037214321426255765, 0.02232859285575346, 0.9750152213679011, 0.0037214321426255765, 0.9971749366337262, 0.9895254714937458, 0.08975284646568321, 0.08676108491682712, 0.8242303067098575, 0.260532540050772, 0.3091613512593437, 0.20217796660048595, 0.2279659725444255, 0.9860076675389122, 0.05045124714378541, 0.19695390711900843, 0.7286324347112085, 0.02328519098943942, 0.014036152392779477, 0.0035090380981948693, 0.9825306674945634, 0.0021175743007972292, 0.9529084353587531, 0.04446906031674181, 0.059549414790207825, 0.894217441767711, 0.04588233598589783, 0.5274499564378595, 0.12432975521565902, 0.07834043249558106, 0.26990974920542304, 0.9979869465899647, 0.9973340864927532, 0.3893657805293988, 0.010929565769246282, 0.5150557868757311, 0.08470413471165868, 0.07539364523259087, 0.0019331703905792533, 0.924055446696883, 0.9917153335110135, 0.9682620165896716, 0.0172288615051543, 0.010337316903092579, 0.06138264056415104, 0.6923600781279978, 0.24553056225660416, 0.99551597155578, 0.3779237148433, 0.27744272715422613, 0.2582425384238299, 0.08640084928678324, 0.788308982618971, 0.14724531567678986, 0.045009485141376815, 0.019289779346304346, 0.9971167512583065, 0.9904635610911338, 0.11464702225780775, 0.8401807609003918, 0.045266536463414865, 0.9456546429944129, 0.00935057326625985, 0.03802566461612339, 0.00685708706192389, 0.04549100613906623, 0.3260188773299747, 0.6283445222958524, 0.0009477292945638798, 0.9948842938494039, 0.9970001307295286, 0.9973653344910416, 0.0011570363509176816, 0.994451720199829, 0.004195998819408561, 0.004195998819408561, 0.10926117935387862, 0.6610575876485922, 0.009882920745576961, 0.21962046101282134, 0.41526920227044706, 0.24080699303256695, 0.1918517252182539, 0.15196924835022277, 0.442011228514647, 0.18587679824410694, 0.017722645916577733, 0.3542419344515954, 0.986445103966882, 0.01068352098159078, 0.14562976015967566, 0.03838950697618957, 0.12726956117106325, 0.6885074620729652, 0.9973269385087423, 0.9941807324195218, 0.1291823325069197, 0.17656799159242736, 0.650424582447504, 0.044000969150828545, 0.0028530454777262173, 0.9957128717264498, 0.9881339602207295, 0.06189022721851708, 0.9378749816959896, 0.020157667141979505, 0.9675680228150162, 0.012094600285187702, 0.04028210241499187, 0.9533430904881408, 0.9987739299526025, 0.01598601511852251, 0.9804755939360472, 0.5406977239294534, 0.19328389901386206, 0.1402499460154176, 0.1259556383713056, 0.9987694329487976, 0.009478389231203442, 0.5213114077161893, 0.0033174362309212045, 0.465388911252089, 0.01344820035096941, 0.01344820035096941, 0.9682704252697976, 0.0017634529030596295, 0.1199147974080548, 0.8164786941166084, 0.061720851607087034, 0.99834862674937, 0.07824112044727516, 0.8099013278731456, 0.049693684608404495, 0.06343874630860148, 0.2732445768312516, 0.32935387108914577, 0.3501066237598737, 0.0472701588611026, 0.01310964885727732, 0.041345815626797705, 0.10588562538570143, 0.8400259613932314, 0.9533567537338722, 0.04395881285228229, 0.993187716705034, 0.9959077464355242, 0.9931847549854417, 0.418122674667915, 0.1999157088985225, 0.226193289191885, 0.1558621184067089, 0.13545272145303647, 0.6830275528589286, 0.10038871909108021, 0.08165589591140496, 0.001919285131324254, 0.9961089831572878, 0.001919285131324254, 0.9934790349664628, 0.0015822615017587792, 0.12895431239334051, 0.22309887174798787, 0.6463538234684613, 0.9838115248895078, 0.0161280577850739, 0.997631980384994, 0.042295158055516605, 0.09063248154753557, 0.8670507401380904, 0.9960781403599982, 0.9945894865154093, 0.943975560960929, 0.05223580179230437, 0.0027983465245877345, 0.991041337083654, 0.9987491994710054, 0.2079881004587306, 0.41290909528857667, 0.3789792392690418, 0.05628239835077584, 0.9435578547041833, 0.976624937499066, 0.020691206302946314, 0.9975090910390788, 0.9146150005924671, 0.031125641381419038, 0.05267416233778607, 0.9937732238743667, 0.7126357613945106, 0.1503040797904477, 0.05708065385076703, 0.08001261958993981, 0.1806688821469146, 0.11316622288323222, 0.7057998637717378, 0.9902341754453776, 0.007859001392423633, 0.15360449839154997, 0.6253033517199318, 0.11429626061418481, 0.10643461305871178, 0.8051327476692334, 0.03347969842756034, 0.024299781116777667, 0.13661876938988332, 0.9879439082844559, 0.9961187887055162, 0.9981940548527931, 0.001597110487764469, 0.00043110364288878773, 0.34186518881080863, 0.05043912621798816, 0.6069939291874131, 0.9972834146310687, 0.0559878269465783, 0.039520819021114095, 0.9040387351079849, 0.9934051265431002, 0.9961200858719461, 0.025798910459715243, 0.022932364853080214, 0.9230276853364787, 0.028665456066350268, 0.9976078003662823, 0.1491554418821023, 0.19935662620488107, 0.5922774342697072, 0.05937255453559412, 0.2173639761474317, 0.22899903083172246, 0.05791084036044713, 0.4955475563263832, 0.045293574793373516, 0.045293574793373516, 0.9058714958674704, 0.9963746834808545, 0.9932844998270836, 0.9944513067568422, 0.7697322457083001, 0.16198560761056172, 0.022330995746949123, 0.04586442972642628, 0.968387252294822, 0.028274080358972907, 0.4536127584136862, 0.2680070615523387, 0.11103921602622098, 0.1675044134702117, 0.7128336020820913, 0.16576584616062257, 0.05314218339079356, 0.0681137122140882, 0.9929883441507857, 0.005171814292452009, 0.6955437674131314, 0.257947374314927, 0.01748795758067302, 0.029411565022040984, 0.9982290379959814, 0.0009415139204201297, 0.42195515533495476, 0.3427110670329272, 0.2344369661846123, 0.1624758388974156, 0.2344961426749387, 0.39525135998039984, 0.20770360645736186, 0.9984759760541763, 0.9686201523428655, 0.029941890335173586, 0.07581290856867566, 0.9249174845378431, 0.9983772626777122, 0.9912999851043085, 0.9924956006445042, 0.7568903186186133, 0.08307332765326245, 0.11836591783275302, 0.04180814528955038, 0.9919961961624825, 0.9987986314496371, 0.9909586320755613, 0.994051745121229, 0.027917168703436152, 0.9711186541838147, 0.9741457099707685, 0.025489591956004184, 0.9955691314624758, 0.10278354968507596, 0.34349599185076996, 0.24623843946059057, 0.30746648948804445, 0.9655121563315614, 0.03279097889427944, 0.05129684628589299, 0.8736008367476322, 0.07616804448511384, 0.023659007974560813, 0.11040870388128379, 0.8661825697353097, 0.9925127634784007, 0.015438037689810015, 0.2149449862965856, 0.7683392604082369, 0.9857438630747044, 0.9870993641170451, 0.0016057311223326872, 0.3468379224238604, 0.607769229802922, 0.04335474030298255, 0.9877048057141211, 0.010342458698577185, 0.008610627083866847, 0.23105182675042704, 0.7606053924082381, 0.0016406166343032064, 0.10882757007544604, 0.8897610880037723, 0.9387582200973921, 0.060862517216530326, 0.9979673082095288, 0.9982916173037957, 0.9924351152155628, 0.9987879292105735, 0.9943727803808176, 0.9843032866812105, 0.013766479534002944, 0.2041985889572798, 0.41073278269021474, 0.10877245098051179, 0.2766023370025898, 0.9927865472473412, 0.9950811864453976, 0.0034313144360186123, 0.10224121493729514, 0.015184338852073535, 0.012147471081658829, 0.8695564715954112, 0.9909832760863307, 0.992333057223827, 0.006891201786276577, 0.18641062176161793, 0.02284698428276097, 0.777316715256663, 0.012981241069750552, 0.7101934441803438, 0.06694869825849037, 0.06756859361273565, 0.15518047034606872, 0.997273061902558, 0.9923415026678427, 0.09562904973631665, 0.30924645939909595, 0.060198142819623796, 0.5352474870133407, 0.0038012745895449522, 0.7321254859463578, 0.006842294261180914, 0.25696616225323876, 0.06074396086053035, 0.9368587809643334, 0.01631457677239832, 0.04894373031719496, 0.9340095202198038, 0.13260358838271546, 0.6322539094087875, 0.21216574141234476, 0.022631012417316774, 0.11919799234804813, 0.01103685114333779, 0.013244221372005349, 0.8564596487230125, 0.045674080430783394, 0.10981215082294732, 0.05636375882947738, 0.7881208346673475, 0.9750495634245728, 0.024848357885437638, 0.8040625902364047, 0.11052406738644738, 0.02279558889845477, 0.06286056332604195, 0.11951624906345541, 0.12679115118036138, 0.051963586549328436, 0.7015084184159339, 0.9972652828885924, 0.9892919935436784, 0.00893938548382842, 0.9932287491676486, 0.5082963203671819, 0.28371459665671833, 0.07613357391830304, 0.131940222761331, 0.7193049390508052, 0.2675071496271366, 0.012857486497432466, 0.9964106858092003, 0.48513050755940623, 0.2539736979664305, 0.16623732957802723, 0.09479873859923447, 0.004226453846020143, 0.9255933922784112, 0.04649099230622157, 0.023949905127447473, 0.9955466027831377, 0.9929742953037565, 0.9991688777426957, 0.008306623551083721, 0.08069291449624186, 0.8939509154975814, 0.0170088006046, 0.9975230801020118, 0.007866671244498363, 0.9912005768067937, 0.995526154614647, 0.1598022955015634, 0.549289847534426, 0.20525065477265028, 0.08600979819044392, 0.010537581777591239, 0.9852638962047808, 0.43005753048559286, 0.40052568289859936, 0.08736504911152244, 0.08182782768896116, 0.7653039303242376, 0.05454996568348863, 0.058828394364546566, 0.12140041382501883, 0.2123020734971005, 0.49519257345404605, 0.14466601468386495, 0.14788677938925712, 0.9968681982515819, 0.9901699357694109, 0.056098492183080224, 0.9431558998280363, 0.9905234884410423, 0.16274423824275208, 0.2918331524296376, 0.1032711313495084, 0.44212953109008285, 0.051090358076955056, 0.013069626484802456, 0.7580383361185424, 0.17822217933821533, 0.001138949688562107, 0.20045514518693086, 0.3984046010590251, 0.399999130623012, 0.1313595497142149, 0.11050882753735539, 0.23717696476177688, 0.5212680544214877, 0.9972158920207822, 0.99790524338324, 0.988592190354389, 0.8838047900269514, 0.11511743063376259, 0.21914070840710048, 0.7094128033724523, 0.0101381822394744, 0.06134900021835791, 0.1701612156996396, 0.7346167021394133, 0.029984355189363807, 0.06596558141660037, 0.9930243569426775, 0.6015121741737907, 0.10735079987061148, 0.22154684305281053, 0.06953897967327059, 0.06567103583185371, 0.9056984032639077, 0.027743378773884726, 0.0007023640195920184, 0.9937049603195939, 0.996894210999576, 0.08877503626811803, 0.7178593128818015, 0.14586956939741746, 0.047694823406792826, 0.06323649044078261, 0.9360561980061525, 0.0007806974128491681, 0.11224627476537793, 0.7142156788159956, 0.05547306243231033, 0.11788025766865945, 0.3483165361864285, 0.34728142017993097, 0.07263063978924537, 0.23186598545545314, 0.9973562053033578, 0.03263339450673682, 0.9650160946992175, 0.9748017674813979, 0.009683461266371502, 0.014525191899557253, 0.03239559317592111, 0.9009060197494253, 0.016969120235006296, 0.050907360705018896, 0.23822505516343193, 0.20908678395335928, 0.10867787640513589, 0.4441617557427293, 0.997053525379059, 0.998627954399715, 0.998236015819557, 0.8909669052698747, 0.08195490587239321, 0.023415687392112344, 0.0035123531088168515, 0.9971975965953008, 0.9912127925839122, 0.9985116779940139, 0.8973609753590863, 0.06336975361930497, 0.007355417830812183, 0.031684876809652485, 0.027721487706468463, 0.9702520697263962, 0.9944649119242591, 0.017346853541164525, 0.8822114086649386, 0.022303097410068674, 0.07806084093524036, 0.001044427258464121, 0.03864380856317248, 0.9378956781007808, 0.02193297242774654, 0.30564135771489825, 0.6946394493520415, 0.9979518601461276, 0.013212807167851726, 0.9777477304210277, 0.006606403583925863, 0.1623224726929327, 0.07940449962901037, 0.3019244838401014, 0.4562830834139003, 0.3202348293519151, 0.5332238595484381, 0.1466882121547482, 0.0038930798562841966, 0.9732699640710492, 0.023358479137705182, 0.586385753544883, 0.21346220280723802, 0.08354249901533273, 0.11626066402894213, 0.9974042714170206, 0.9959180890049522, 0.0005215478080154948, 0.003650834656108464, 0.24669211319132905, 0.7489426523102506, 0.9941009742898014, 0.1940809936805878, 0.353918805025947, 0.2767763735966643, 0.17519008069120098, 0.992138454499487, 0.006200865340621794, 0.014889248989743897, 0.2059679443581239, 0.4600777937830864, 0.3186299283805194, 0.9951680466596208, 0.5509201979881085, 0.20862859851983842, 0.16246210148172874, 0.0778235235785277, 0.8682315660645284, 0.07499417801269748, 0.020101532250826126, 0.03633738522264723, 0.9969679505582176, 0.99500042535444, 0.5844284161746308, 0.16666626502541065, 0.12417733232978788, 0.12472557662263462, 0.990322376261877, 0.05521418383025176, 0.9452668271739102, 0.9945192231543356, 0.01731939834313085, 0.9633915328366536, 0.01948432313602221, 0.10514766233233981, 0.3931608243730967, 0.13558170621238352, 0.36612285405906647, 0.20516029402467115, 0.21325409636183656, 0.3051011576661919, 0.27659689726139197, 0.8666593558386207, 0.0146767037398581, 0.03155491304069492, 0.08732638725215569, 0.996830376935514, 0.9967217510524756, 0.9965050294207848, 0.33653652303271137, 0.49664396817067563, 0.11451050283330133, 0.052332854236033635, 0.01756224111047649, 0.011708160740317658, 0.7961549303416008, 0.17562241110476487, 0.9984953615716772, 0.4453765526101552, 0.2656268402202854, 0.18019390443037195, 0.10897511393652733, 0.9970418004560303, 0.9925317122891038, 0.006556774317351635, 0.9979515137259968, 0.9975915778870869, 0.9987050560185254, 0.42748070939276406, 0.18931045354231527, 0.2264234741108627, 0.156793999741432, 0.14801035784082778, 0.8513870141286554, 0.997599864065962, 0.8844491103133778, 0.09385990558427683, 0.008824435567752522, 0.012835542644003668, 0.8025155842630171, 0.15524323106328805, 0.006638690802048502, 0.03549146236479776, 0.551179576291616, 0.2042414437839486, 0.10566090691756273, 0.13888418177308504, 0.9916814646055753, 0.9742595797471266, 0.020367796092274425, 0.005091949023068606, 0.012043898805586638, 0.9875997020581043, 0.625665724352488, 0.21399366339304773, 0.16035104696298455, 0.9809644363975482, 0.018335783857898098, 0.9946574839890271, 0.8805663337604513, 0.04979863467406502, 0.006323636149087622, 0.06323636149087622, 0.8471405629746369, 0.024682555424859347, 0.01851191656864451, 0.10930845973866282, 0.08475393709170334, 0.9087505477054858, 0.004708552060650186, 0.38370481311964005, 0.12082619647171644, 0.18753718525725874, 0.3081301265234313, 0.9049379387103633, 0.0779638839504313, 0.017263431446166932, 0.9969699835537412, 0.1785219369565953, 0.2559798021650354, 0.5613850992725993, 0.004426163726196578, 0.26191643038117807, 0.6601165486594016, 0.07770348812602416, 0.016338691536900294, 0.9803214922140177, 0.6109097469495777, 0.27795706040879137, 0.06782793889612716, 0.04307990713672941, 0.2279455817809206, 0.0742886714996315, 0.6933609339965606, 0.0044446213717728245, 0.9199029782623933, 0.008368188236305073, 0.05379549580481832, 0.01852955966610409, 0.6040185138582141, 0.24898223991022012, 0.05677969822330053, 0.09006434890592496, 0.06601960679377682, 0.933196063598521, 0.5990803566639551, 0.23689748710968503, 0.07758790181847403, 0.08649143153534809, 0.13526065382910588, 0.8644920049077637, 0.9908829819285581, 0.9827456801110256, 0.000901601541386262, 0.015327226203566455, 0.9952333180651003, 0.009457958018164573, 0.9899329392345587, 0.9938882470625097, 0.9093623634911269, 0.06388204366383118, 0.026789244117090497, 0.8537241113006946, 0.06858671507278308, 0.050537579527313845, 0.026171246540930383, 0.34207482640854914, 0.31518459062133136, 0.10600958339191621, 0.2365823629356179, 0.9912299173666754, 0.23909320885137275, 0.42034893294425085, 0.19721634147158837, 0.1433295045791111], \"Term\": [\"accord\", \"accord\", \"accord\", \"accord\", \"actually\", \"actually\", \"actually\", \"actually\", \"afd\", \"affordable_care_act\", \"afghan\", \"agency\", \"agency\", \"agency\", \"agreement\", \"agreement\", \"agreement\", \"air_strike\", \"aircraft\", \"airport\", \"airport\", \"airport\", \"airport\", \"al_qaeda\", \"aleppo\", \"allegation\", \"allegation\", \"allegation\", \"also\", \"also\", \"also\", \"also\", \"appointee\", \"area\", \"area\", \"area\", \"area\", \"armed\", \"armed\", \"armed\", \"army\", \"army\", \"army\", \"arrest\", \"arrest\", \"arrest\", \"ask\", \"ask\", \"ask\", \"ask\", \"ass\", \"assad\", \"attack\", \"attack\", \"attack\", \"attack\", \"attorney\", \"attorney\", \"attorney\", \"attorney_general\", \"audience\", \"audience\", \"audience\", \"authority\", \"authority\", \"authority\", \"automaker\", \"back\", \"back\", \"back\", \"back\", \"bad\", \"bad\", \"bad\", \"bad\", \"bangladesh\", \"bigotry\", \"bill\", \"bill\", \"bill\", \"black\", \"black\", \"black\", \"black\", \"border\", \"border\", \"border\", \"border\", \"brag\", \"brexit\", \"budget\", \"budget\", \"bully\", \"bully\", \"bully\", \"business\", \"business\", \"business\", \"business\", \"call\", \"call\", \"call\", \"call\", \"campaign\", \"campaign\", \"campaign\", \"campaign\", \"campus\", \"campus\", \"case\", \"case\", \"case\", \"case\", \"catalonia\", \"ceasefire\", \"city\", \"city\", \"city\", \"city\", \"civilian\", \"civilian\", \"classified_information\", \"client\", \"client\", \"climate_change\", \"climate_change\", \"climate_change\", \"clinton_foundation\", \"clinton_foundation\", \"coal\", \"collusion\", \"collusion\", \"come\", \"come\", \"come\", \"come\", \"comey\", \"company\", \"company\", \"company\", \"company\", \"computer\", \"computer\", \"computer\", \"conflict\", \"conflict\", \"conflict\", \"conflict\", \"conway\", \"cost\", \"cost\", \"cost\", \"cost\", \"country\", \"country\", \"country\", \"country\", \"court\", \"court\", \"court\", \"court\", \"cruz\", \"cruz\", \"currency\", \"cybersecurity\", \"damn\", \"day\", \"day\", \"day\", \"day\", \"deal\", \"deal\", \"deal\", \"deal\", \"debt\", \"debt\", \"debt\", \"deficit\", \"department\", \"department\", \"department\", \"department\", \"detain\", \"detain\", \"disgusting\", \"document\", \"document\", \"document\", \"dossier\", \"duterte\", \"economic\", \"economic\", \"economic\", \"economist\", \"economy\", \"election\", \"election\", \"election\", \"email\", \"email\", \"embassy\", \"embassy\", \"emission\", \"energy\", \"energy\", \"energy\", \"ethic\", \"even\", \"even\", \"even\", \"even\", \"evidence\", \"evidence\", \"evidence\", \"expansion\", \"expansion\", \"expect\", \"expect\", \"expect\", \"expect\", \"fact\", \"fact\", \"fact\", \"fact\", \"fbi_director\", \"featured_image\", \"featured_image_via\", \"featured_image_via\", \"federal\", \"federal\", \"federal\", \"federal\", \"fighter\", \"file\", \"file\", \"file\", \"filing\", \"fiscal\", \"flight\", \"flight\", \"flight\", \"flight\", \"flynn\", \"force\", \"force\", \"force\", \"force\", \"former\", \"former\", \"former\", \"former\", \"fraud\", \"fraud\", \"fraud\", \"fun\", \"funny\", \"garland\", \"get\", \"get\", \"get\", \"get\", \"getty_image\", \"getty_image\", \"give\", \"give\", \"give\", \"give\", \"go\", \"go\", \"go\", \"go\", \"going\", \"going\", \"good\", \"good\", \"good\", \"good\", \"gorsuch\", \"government\", \"government\", \"government\", \"government\", \"group\", \"group\", \"group\", \"group\", \"growth\", \"guy\", \"guy\", \"hack\", \"hack\", \"hacker\", \"haiti\", \"hannity\", \"happen\", \"happen\", \"happen\", \"happen\", \"hariri\", \"hate\", \"hateful\", \"health_insurance\", \"healthcare\", \"healthcare\", \"hillary\", \"hillary\", \"humanitarian\", \"include\", \"include\", \"include\", \"include\", \"income\", \"income\", \"industry\", \"industry\", \"industry\", \"information\", \"information\", \"information\", \"insurer\", \"intelligence\", \"intelligence\", \"intelligence\", \"intelligence_committee\", \"intelligence_community\", \"international\", \"international\", \"international\", \"international\", \"invest\", \"invest\", \"investigate\", \"investigate\", \"investigate\", \"investigation\", \"investigation\", \"investigation\", \"investment\", \"investment\", \"iranian\", \"iraqi\", \"irish\", \"islamic_state\", \"islamist\", \"israeli\", \"israeli\", \"issue\", \"issue\", \"issue\", \"issue\", \"jihadist\", \"joke\", \"joke\", \"judge\", \"judge\", \"judge\", \"judge\", \"justice_department\", \"kid\", \"kid\", \"kill\", \"kill\", \"kill\", \"kill\", \"know\", \"know\", \"know\", \"know\", \"kurdish\", \"labour\", \"law\", \"law\", \"law\", \"law\", \"lawmaker\", \"lawmaker\", \"lawmaker\", \"lawmaker\", \"lawsuit\", \"lawsuit\", \"lawyer\", \"lawyer\", \"lawyer\", \"leader\", \"leader\", \"leader\", \"leader\", \"leak\", \"leak\", \"leak\", \"leak\", \"legal\", \"legal\", \"legal\", \"legal\", \"legislation\", \"legislation\", \"let\", \"let\", \"let\", \"let\", \"letter\", \"letter\", \"letter\", \"letter\", \"literally\", \"love\", \"love\", \"macron\", \"make\", \"make\", \"make\", \"make\", \"man\", \"man\", \"man\", \"manafort\", \"many\", \"many\", \"many\", \"many\", \"market\", \"market\", \"market\", \"market\", \"merkel\", \"michael_flynn\", \"militant\", \"military\", \"military\", \"military\", \"military\", \"militia\", \"missile\", \"missile\", \"mock\", \"move\", \"move\", \"move\", \"move\", \"mueller\", \"mueller\", \"need\", \"need\", \"need\", \"need\", \"never\", \"never\", \"never\", \"never\", \"new\", \"new\", \"new\", \"new\", \"nra\", \"nune\", \"obamacare\", \"obamacare\", \"offend\", \"office\", \"office\", \"office\", \"office\", \"officer\", \"officer\", \"officer\", \"officer\", \"official\", \"official\", \"official\", \"official\", \"order\", \"order\", \"order\", \"order\", \"overhaul\", \"palestinian\", \"pardon\", \"parliament\", \"parliament\", \"party\", \"party\", \"party\", \"party\", \"pass\", \"pass\", \"pass\", \"pass\", \"pathetic\", \"people\", \"people\", \"people\", \"people\", \"percent\", \"percent\", \"percent\", \"percent\", \"percentage_point\", \"plaintiff\", \"plan\", \"plan\", \"plan\", \"plan\", \"police\", \"police\", \"police\", \"policy\", \"policy\", \"policy\", \"policy\", \"president\", \"president\", \"president\", \"president\", \"pretend\", \"probe\", \"probe\", \"proposal\", \"proposal\", \"proposal\", \"propose\", \"propose\", \"propose\", \"propose\", \"public\", \"public\", \"public\", \"public\", \"racism\", \"racist\", \"rakhine\", \"rally\", \"rally\", \"rally\", \"rally\", \"rant\", \"raqqa\", \"realdonaldtrump\", \"really\", \"really\", \"really\", \"really\", \"rebel\", \"rebel\", \"recuse\", \"reform\", \"reform\", \"reform\", \"reform\", \"refugee\", \"refugee\", \"refugee\", \"refugee\", \"region\", \"region\", \"reilly\", \"repeal\", \"repeal\", \"repeal\", \"report\", \"report\", \"report\", \"report\", \"republican\", \"republican\", \"republican\", \"revenue\", \"revenue\", \"revenue\", \"right\", \"right\", \"right\", \"right\", \"rohingya\", \"romney\", \"russian\", \"russian\", \"russian\", \"russian\", \"saudi\", \"say\", \"say\", \"say\", \"say\", \"scream\", \"scream\", \"security\", \"security\", \"security\", \"security\", \"security_force\", \"see\", \"see\", \"see\", \"see\", \"seem\", \"seem\", \"seem\", \"seem\", \"server\", \"shi_ite\", \"show\", \"show\", \"show\", \"show\", \"software\", \"soldier\", \"soldier\", \"spd\", \"spending\", \"spending\", \"spending\", \"state\", \"state\", \"state\", \"state\", \"statement\", \"statement\", \"statement\", \"statement\", \"student\", \"student\", \"student\", \"student\", \"stupid\", \"subpoena\", \"subsidy\", \"support\", \"support\", \"support\", \"support\", \"suspect\", \"suspect\", \"suspect\", \"suspect\", \"syrian\", \"take\", \"take\", \"take\", \"take\", \"tariff\", \"tax\", \"tax\", \"tax_cut\", \"tax_reform\", \"ted_cruz\", \"tell\", \"tell\", \"tell\", \"tell\", \"terrorist\", \"terrorist\", \"testify\", \"thing\", \"thing\", \"thing\", \"thing\", \"think\", \"think\", \"think\", \"think\", \"time\", \"time\", \"time\", \"time\", \"tourist\", \"trade\", \"trade\", \"trade\", \"troop\", \"troop\", \"trump\", \"trump\", \"trump\", \"turkish\", \"turkish\", \"turnbull\", \"tweet\", \"tweet\", \"tweet\", \"tweet\", \"twitter\", \"twitter\", \"twitter\", \"twitter\", \"united_nation\", \"united_nation\", \"united_nation\", \"use\", \"use\", \"use\", \"use\", \"video\", \"video\", \"video\", \"viewer\", \"visit\", \"visit\", \"visit\", \"visit\", \"vote\", \"vote\", \"vote\", \"voter_fraud\", \"voter_fraud\", \"want\", \"want\", \"want\", \"want\", \"war\", \"war\", \"war\", \"war\", \"watch\", \"watch\", \"watch\", \"watch\", \"way\", \"way\", \"way\", \"way\", \"weapon\", \"weapon\", \"well\", \"well\", \"well\", \"well\", \"western\", \"western\", \"whine\", \"white\", \"white\", \"white\", \"white_supremacist\", \"wikileak\", \"wikileak\", \"wiretappe\", \"woman\", \"woman\", \"woman\", \"word\", \"word\", \"word\", \"word\", \"work\", \"work\", \"work\", \"work\", \"wrongdoing\", \"year\", \"year\", \"year\", \"year\"]}, \"R\": 30, \"lambda.step\": 0.01, \"plot.opts\": {\"xlab\": \"PC1\", \"ylab\": \"PC2\"}, \"topic.order\": [4, 1, 2, 3]};\n",
       "\n",
       "function LDAvis_load_lib(url, callback){\n",
       "  var s = document.createElement('script');\n",
       "  s.src = url;\n",
       "  s.async = true;\n",
       "  s.onreadystatechange = s.onload = callback;\n",
       "  s.onerror = function(){console.warn(\"failed to load library \" + url);};\n",
       "  document.getElementsByTagName(\"head\")[0].appendChild(s);\n",
       "}\n",
       "\n",
       "if(typeof(LDAvis) !== \"undefined\"){\n",
       "   // already loaded: just create the visualization\n",
       "   !function(LDAvis){\n",
       "       new LDAvis(\"#\" + \"ldavis_el180181397512335802723211122962\", ldavis_el180181397512335802723211122962_data);\n",
       "   }(LDAvis);\n",
       "}else if(typeof define === \"function\" && define.amd){\n",
       "   // require.js is available: use it to load d3/LDAvis\n",
       "   require.config({paths: {d3: \"https://d3js.org/d3.v5\"}});\n",
       "   require([\"d3\"], function(d3){\n",
       "      window.d3 = d3;\n",
       "      LDAvis_load_lib(\"https://cdn.jsdelivr.net/gh/bmabey/pyLDAvis@3.2.2/pyLDAvis/js/ldavis.v3.0.0.js\", function(){\n",
       "        new LDAvis(\"#\" + \"ldavis_el180181397512335802723211122962\", ldavis_el180181397512335802723211122962_data);\n",
       "      });\n",
       "    });\n",
       "}else{\n",
       "    // require.js not available: dynamically load d3 & LDAvis\n",
       "    LDAvis_load_lib(\"https://d3js.org/d3.v5.js\", function(){\n",
       "         LDAvis_load_lib(\"https://cdn.jsdelivr.net/gh/bmabey/pyLDAvis@3.2.2/pyLDAvis/js/ldavis.v3.0.0.js\", function(){\n",
       "                 new LDAvis(\"#\" + \"ldavis_el180181397512335802723211122962\", ldavis_el180181397512335802723211122962_data);\n",
       "            })\n",
       "         });\n",
       "}\n",
       "</script>"
      ],
      "text/plain": [
       "PreparedData(topic_coordinates=              x         y  topics  cluster       Freq\n",
       "topic                                                \n",
       "3     -0.142153 -0.089606       1        1  35.591792\n",
       "0     -0.070358  0.121100       2        1  26.423419\n",
       "1      0.105415 -0.124214       3        1  19.266486\n",
       "2      0.107096  0.092720       4        1  18.718303, topic_info=           Term          Freq         Total Category  logprob  loglift\n",
       "79          say  36737.000000  36737.000000  Default  30.0000  30.0000\n",
       "551      police   2561.000000   2561.000000  Default  29.0000  29.0000\n",
       "444    military   2528.000000   2528.000000  Default  28.0000  28.0000\n",
       "199  government   6372.000000   6372.000000  Default  27.0000  27.0000\n",
       "96        trump  12135.000000  12135.000000  Default  26.0000  26.0000\n",
       "..          ...           ...           ...      ...      ...      ...\n",
       "479      accord   1050.980106   3125.564395   Topic4  -5.6764   0.5858\n",
       "357        make   1070.741696   8117.312352   Topic4  -5.6578  -0.3500\n",
       "814        work    914.706856   3867.574863   Topic4  -5.8153   0.2339\n",
       "92         tell    920.878786   5873.949268   Topic4  -5.8086  -0.1773\n",
       "321        year    906.865264   6328.076014   Topic4  -5.8239  -0.2671\n",
       "\n",
       "[373 rows x 6 columns], token_table=      Topic      Freq        Term\n",
       "term                             \n",
       "479       1  0.191325      accord\n",
       "479       2  0.252434      accord\n",
       "479       3  0.220120      accord\n",
       "479       4  0.336259      accord\n",
       "2         1  0.895092    actually\n",
       "...     ...       ...         ...\n",
       "9939      4  0.991230  wrongdoing\n",
       "321       1  0.239093        year\n",
       "321       2  0.420349        year\n",
       "321       3  0.197216        year\n",
       "321       4  0.143330        year\n",
       "\n",
       "[753 rows x 3 columns], R=30, lambda_step=0.01, plot_opts={'xlab': 'PC1', 'ylab': 'PC2'}, topic_order=[4, 1, 2, 3])"
      ]
     },
     "metadata": {},
     "output_type": "display_data"
    }
   ],
   "source": [
    "plot_model(lda, plot = 'topic_model')"
   ]
  },
  {
   "cell_type": "code",
   "execution_count": 19,
   "id": "c9f83d52",
   "metadata": {},
   "outputs": [
    {
     "data": {
      "text/html": [
       "        <script type=\"text/javascript\">\n",
       "        window.PlotlyConfig = {MathJaxConfig: 'local'};\n",
       "        if (window.MathJax) {MathJax.Hub.Config({SVG: {font: \"STIX-Web\"}});}\n",
       "        if (typeof require !== 'undefined') {\n",
       "        require.undef(\"plotly\");\n",
       "        requirejs.config({\n",
       "            paths: {\n",
       "                'plotly': ['https://cdn.plot.ly/plotly-2.11.1.min']\n",
       "            }\n",
       "        });\n",
       "        require(['plotly'], function(Plotly) {\n",
       "            window._Plotly = Plotly;\n",
       "        });\n",
       "        }\n",
       "        </script>\n",
       "        "
      ]
     },
     "metadata": {},
     "output_type": "display_data"
    },
    {
     "data": {
      "application/vnd.plotly.v1+json": {
       "config": {
        "linkText": "Export to plot.ly",
        "plotlyServerURL": "https://plot.ly",
        "showLink": true
       },
       "data": [
        {
         "marker": {
          "color": "rgba(255, 153, 51, 0.6)",
          "line": {
           "color": "rgba(255, 153, 51, 1.0)",
           "width": 1
          }
         },
         "name": "count",
         "orientation": "v",
         "text": "",
         "type": "bar",
         "x": [
          "official say",
          "say statement",
          "next year",
          "presidential election",
          "say say",
          "next week",
          "say want",
          "also say",
          "percent percent",
          "secretary state",
          "trump say",
          "former president",
          "federal government",
          "spokesman say",
          "national security",
          "tax bill",
          "source say",
          "take office",
          "first time",
          "vice president",
          "say also",
          "republican leader",
          "make clear",
          "say add",
          "far right",
          "statement say",
          "leader say",
          "say plan",
          "president say",
          "state department",
          "say interview",
          "say expect",
          "republican senator",
          "say trump",
          "analyst say",
          "say think",
          "early year",
          "trump campaign",
          "percent vote",
          "presidential campaign",
          "american people",
          "republican lawmaker",
          "say support",
          "aide say",
          "government say",
          "say republican",
          "take place",
          "year say",
          "tax plan",
          "administration official",
          "campaign promise",
          "poll show",
          "election campaign",
          "say former",
          "bill say",
          "senior official",
          "make decision",
          "opposition party",
          "country say",
          "say government",
          "say hope",
          "say make",
          "say go",
          "republican president",
          "bill pass",
          "party leader",
          "percent say",
          "republican party",
          "democratic president",
          "new sanction",
          "trade deal",
          "recent year",
          "group say",
          "general election",
          "say believe",
          "former secretary",
          "social security",
          "state say",
          "next month",
          "lawmaker say",
          "trump make",
          "want see",
          "say party",
          "say take",
          "say vote",
          "election say",
          "people say",
          "tax cut",
          "pass legislation",
          "say still",
          "end year",
          "deal say",
          "economic policy",
          "say ask",
          "republican say",
          "government official",
          "likely voter",
          "expert say",
          "healthcare bill",
          "support trump"
         ],
         "y": [
          347,
          303,
          227,
          203,
          194,
          180,
          161,
          149,
          149,
          145,
          141,
          136,
          130,
          125,
          119,
          118,
          117,
          117,
          115,
          115,
          105,
          101,
          97,
          97,
          95,
          92,
          91,
          90,
          90,
          87,
          87,
          87,
          86,
          85,
          84,
          83,
          83,
          82,
          81,
          80,
          80,
          80,
          79,
          79,
          78,
          77,
          75,
          75,
          74,
          73,
          73,
          71,
          70,
          69,
          68,
          68,
          67,
          67,
          67,
          67,
          67,
          67,
          66,
          66,
          65,
          65,
          65,
          64,
          63,
          63,
          63,
          63,
          61,
          61,
          60,
          59,
          59,
          59,
          58,
          58,
          58,
          57,
          57,
          56,
          56,
          56,
          55,
          55,
          54,
          54,
          54,
          53,
          53,
          53,
          53,
          52,
          52,
          52,
          52,
          51
         ]
        }
       ],
       "layout": {
        "legend": {
         "bgcolor": "#F5F6F9",
         "font": {
          "color": "#4D5663"
         }
        },
        "paper_bgcolor": "#F5F6F9",
        "plot_bgcolor": "#F5F6F9",
        "template": {
         "data": {
          "bar": [
           {
            "error_x": {
             "color": "#2a3f5f"
            },
            "error_y": {
             "color": "#2a3f5f"
            },
            "marker": {
             "line": {
              "color": "#E5ECF6",
              "width": 0.5
             },
             "pattern": {
              "fillmode": "overlay",
              "size": 10,
              "solidity": 0.2
             }
            },
            "type": "bar"
           }
          ],
          "barpolar": [
           {
            "marker": {
             "line": {
              "color": "#E5ECF6",
              "width": 0.5
             },
             "pattern": {
              "fillmode": "overlay",
              "size": 10,
              "solidity": 0.2
             }
            },
            "type": "barpolar"
           }
          ],
          "carpet": [
           {
            "aaxis": {
             "endlinecolor": "#2a3f5f",
             "gridcolor": "white",
             "linecolor": "white",
             "minorgridcolor": "white",
             "startlinecolor": "#2a3f5f"
            },
            "baxis": {
             "endlinecolor": "#2a3f5f",
             "gridcolor": "white",
             "linecolor": "white",
             "minorgridcolor": "white",
             "startlinecolor": "#2a3f5f"
            },
            "type": "carpet"
           }
          ],
          "choropleth": [
           {
            "colorbar": {
             "outlinewidth": 0,
             "ticks": ""
            },
            "type": "choropleth"
           }
          ],
          "contour": [
           {
            "colorbar": {
             "outlinewidth": 0,
             "ticks": ""
            },
            "colorscale": [
             [
              0,
              "#0d0887"
             ],
             [
              0.1111111111111111,
              "#46039f"
             ],
             [
              0.2222222222222222,
              "#7201a8"
             ],
             [
              0.3333333333333333,
              "#9c179e"
             ],
             [
              0.4444444444444444,
              "#bd3786"
             ],
             [
              0.5555555555555556,
              "#d8576b"
             ],
             [
              0.6666666666666666,
              "#ed7953"
             ],
             [
              0.7777777777777778,
              "#fb9f3a"
             ],
             [
              0.8888888888888888,
              "#fdca26"
             ],
             [
              1,
              "#f0f921"
             ]
            ],
            "type": "contour"
           }
          ],
          "contourcarpet": [
           {
            "colorbar": {
             "outlinewidth": 0,
             "ticks": ""
            },
            "type": "contourcarpet"
           }
          ],
          "heatmap": [
           {
            "colorbar": {
             "outlinewidth": 0,
             "ticks": ""
            },
            "colorscale": [
             [
              0,
              "#0d0887"
             ],
             [
              0.1111111111111111,
              "#46039f"
             ],
             [
              0.2222222222222222,
              "#7201a8"
             ],
             [
              0.3333333333333333,
              "#9c179e"
             ],
             [
              0.4444444444444444,
              "#bd3786"
             ],
             [
              0.5555555555555556,
              "#d8576b"
             ],
             [
              0.6666666666666666,
              "#ed7953"
             ],
             [
              0.7777777777777778,
              "#fb9f3a"
             ],
             [
              0.8888888888888888,
              "#fdca26"
             ],
             [
              1,
              "#f0f921"
             ]
            ],
            "type": "heatmap"
           }
          ],
          "heatmapgl": [
           {
            "colorbar": {
             "outlinewidth": 0,
             "ticks": ""
            },
            "colorscale": [
             [
              0,
              "#0d0887"
             ],
             [
              0.1111111111111111,
              "#46039f"
             ],
             [
              0.2222222222222222,
              "#7201a8"
             ],
             [
              0.3333333333333333,
              "#9c179e"
             ],
             [
              0.4444444444444444,
              "#bd3786"
             ],
             [
              0.5555555555555556,
              "#d8576b"
             ],
             [
              0.6666666666666666,
              "#ed7953"
             ],
             [
              0.7777777777777778,
              "#fb9f3a"
             ],
             [
              0.8888888888888888,
              "#fdca26"
             ],
             [
              1,
              "#f0f921"
             ]
            ],
            "type": "heatmapgl"
           }
          ],
          "histogram": [
           {
            "marker": {
             "pattern": {
              "fillmode": "overlay",
              "size": 10,
              "solidity": 0.2
             }
            },
            "type": "histogram"
           }
          ],
          "histogram2d": [
           {
            "colorbar": {
             "outlinewidth": 0,
             "ticks": ""
            },
            "colorscale": [
             [
              0,
              "#0d0887"
             ],
             [
              0.1111111111111111,
              "#46039f"
             ],
             [
              0.2222222222222222,
              "#7201a8"
             ],
             [
              0.3333333333333333,
              "#9c179e"
             ],
             [
              0.4444444444444444,
              "#bd3786"
             ],
             [
              0.5555555555555556,
              "#d8576b"
             ],
             [
              0.6666666666666666,
              "#ed7953"
             ],
             [
              0.7777777777777778,
              "#fb9f3a"
             ],
             [
              0.8888888888888888,
              "#fdca26"
             ],
             [
              1,
              "#f0f921"
             ]
            ],
            "type": "histogram2d"
           }
          ],
          "histogram2dcontour": [
           {
            "colorbar": {
             "outlinewidth": 0,
             "ticks": ""
            },
            "colorscale": [
             [
              0,
              "#0d0887"
             ],
             [
              0.1111111111111111,
              "#46039f"
             ],
             [
              0.2222222222222222,
              "#7201a8"
             ],
             [
              0.3333333333333333,
              "#9c179e"
             ],
             [
              0.4444444444444444,
              "#bd3786"
             ],
             [
              0.5555555555555556,
              "#d8576b"
             ],
             [
              0.6666666666666666,
              "#ed7953"
             ],
             [
              0.7777777777777778,
              "#fb9f3a"
             ],
             [
              0.8888888888888888,
              "#fdca26"
             ],
             [
              1,
              "#f0f921"
             ]
            ],
            "type": "histogram2dcontour"
           }
          ],
          "mesh3d": [
           {
            "colorbar": {
             "outlinewidth": 0,
             "ticks": ""
            },
            "type": "mesh3d"
           }
          ],
          "parcoords": [
           {
            "line": {
             "colorbar": {
              "outlinewidth": 0,
              "ticks": ""
             }
            },
            "type": "parcoords"
           }
          ],
          "pie": [
           {
            "automargin": true,
            "type": "pie"
           }
          ],
          "scatter": [
           {
            "fillpattern": {
             "fillmode": "overlay",
             "size": 10,
             "solidity": 0.2
            },
            "type": "scatter"
           }
          ],
          "scatter3d": [
           {
            "line": {
             "colorbar": {
              "outlinewidth": 0,
              "ticks": ""
             }
            },
            "marker": {
             "colorbar": {
              "outlinewidth": 0,
              "ticks": ""
             }
            },
            "type": "scatter3d"
           }
          ],
          "scattercarpet": [
           {
            "marker": {
             "colorbar": {
              "outlinewidth": 0,
              "ticks": ""
             }
            },
            "type": "scattercarpet"
           }
          ],
          "scattergeo": [
           {
            "marker": {
             "colorbar": {
              "outlinewidth": 0,
              "ticks": ""
             }
            },
            "type": "scattergeo"
           }
          ],
          "scattergl": [
           {
            "marker": {
             "colorbar": {
              "outlinewidth": 0,
              "ticks": ""
             }
            },
            "type": "scattergl"
           }
          ],
          "scattermapbox": [
           {
            "marker": {
             "colorbar": {
              "outlinewidth": 0,
              "ticks": ""
             }
            },
            "type": "scattermapbox"
           }
          ],
          "scatterpolar": [
           {
            "marker": {
             "colorbar": {
              "outlinewidth": 0,
              "ticks": ""
             }
            },
            "type": "scatterpolar"
           }
          ],
          "scatterpolargl": [
           {
            "marker": {
             "colorbar": {
              "outlinewidth": 0,
              "ticks": ""
             }
            },
            "type": "scatterpolargl"
           }
          ],
          "scatterternary": [
           {
            "marker": {
             "colorbar": {
              "outlinewidth": 0,
              "ticks": ""
             }
            },
            "type": "scatterternary"
           }
          ],
          "surface": [
           {
            "colorbar": {
             "outlinewidth": 0,
             "ticks": ""
            },
            "colorscale": [
             [
              0,
              "#0d0887"
             ],
             [
              0.1111111111111111,
              "#46039f"
             ],
             [
              0.2222222222222222,
              "#7201a8"
             ],
             [
              0.3333333333333333,
              "#9c179e"
             ],
             [
              0.4444444444444444,
              "#bd3786"
             ],
             [
              0.5555555555555556,
              "#d8576b"
             ],
             [
              0.6666666666666666,
              "#ed7953"
             ],
             [
              0.7777777777777778,
              "#fb9f3a"
             ],
             [
              0.8888888888888888,
              "#fdca26"
             ],
             [
              1,
              "#f0f921"
             ]
            ],
            "type": "surface"
           }
          ],
          "table": [
           {
            "cells": {
             "fill": {
              "color": "#EBF0F8"
             },
             "line": {
              "color": "white"
             }
            },
            "header": {
             "fill": {
              "color": "#C8D4E3"
             },
             "line": {
              "color": "white"
             }
            },
            "type": "table"
           }
          ]
         },
         "layout": {
          "annotationdefaults": {
           "arrowcolor": "#2a3f5f",
           "arrowhead": 0,
           "arrowwidth": 1
          },
          "autotypenumbers": "strict",
          "coloraxis": {
           "colorbar": {
            "outlinewidth": 0,
            "ticks": ""
           }
          },
          "colorscale": {
           "diverging": [
            [
             0,
             "#8e0152"
            ],
            [
             0.1,
             "#c51b7d"
            ],
            [
             0.2,
             "#de77ae"
            ],
            [
             0.3,
             "#f1b6da"
            ],
            [
             0.4,
             "#fde0ef"
            ],
            [
             0.5,
             "#f7f7f7"
            ],
            [
             0.6,
             "#e6f5d0"
            ],
            [
             0.7,
             "#b8e186"
            ],
            [
             0.8,
             "#7fbc41"
            ],
            [
             0.9,
             "#4d9221"
            ],
            [
             1,
             "#276419"
            ]
           ],
           "sequential": [
            [
             0,
             "#0d0887"
            ],
            [
             0.1111111111111111,
             "#46039f"
            ],
            [
             0.2222222222222222,
             "#7201a8"
            ],
            [
             0.3333333333333333,
             "#9c179e"
            ],
            [
             0.4444444444444444,
             "#bd3786"
            ],
            [
             0.5555555555555556,
             "#d8576b"
            ],
            [
             0.6666666666666666,
             "#ed7953"
            ],
            [
             0.7777777777777778,
             "#fb9f3a"
            ],
            [
             0.8888888888888888,
             "#fdca26"
            ],
            [
             1,
             "#f0f921"
            ]
           ],
           "sequentialminus": [
            [
             0,
             "#0d0887"
            ],
            [
             0.1111111111111111,
             "#46039f"
            ],
            [
             0.2222222222222222,
             "#7201a8"
            ],
            [
             0.3333333333333333,
             "#9c179e"
            ],
            [
             0.4444444444444444,
             "#bd3786"
            ],
            [
             0.5555555555555556,
             "#d8576b"
            ],
            [
             0.6666666666666666,
             "#ed7953"
            ],
            [
             0.7777777777777778,
             "#fb9f3a"
            ],
            [
             0.8888888888888888,
             "#fdca26"
            ],
            [
             1,
             "#f0f921"
            ]
           ]
          },
          "colorway": [
           "#636efa",
           "#EF553B",
           "#00cc96",
           "#ab63fa",
           "#FFA15A",
           "#19d3f3",
           "#FF6692",
           "#B6E880",
           "#FF97FF",
           "#FECB52"
          ],
          "font": {
           "color": "#2a3f5f"
          },
          "geo": {
           "bgcolor": "white",
           "lakecolor": "white",
           "landcolor": "#E5ECF6",
           "showlakes": true,
           "showland": true,
           "subunitcolor": "white"
          },
          "hoverlabel": {
           "align": "left"
          },
          "hovermode": "closest",
          "mapbox": {
           "style": "light"
          },
          "paper_bgcolor": "white",
          "plot_bgcolor": "#E5ECF6",
          "polar": {
           "angularaxis": {
            "gridcolor": "white",
            "linecolor": "white",
            "ticks": ""
           },
           "bgcolor": "#E5ECF6",
           "radialaxis": {
            "gridcolor": "white",
            "linecolor": "white",
            "ticks": ""
           }
          },
          "scene": {
           "xaxis": {
            "backgroundcolor": "#E5ECF6",
            "gridcolor": "white",
            "gridwidth": 2,
            "linecolor": "white",
            "showbackground": true,
            "ticks": "",
            "zerolinecolor": "white"
           },
           "yaxis": {
            "backgroundcolor": "#E5ECF6",
            "gridcolor": "white",
            "gridwidth": 2,
            "linecolor": "white",
            "showbackground": true,
            "ticks": "",
            "zerolinecolor": "white"
           },
           "zaxis": {
            "backgroundcolor": "#E5ECF6",
            "gridcolor": "white",
            "gridwidth": 2,
            "linecolor": "white",
            "showbackground": true,
            "ticks": "",
            "zerolinecolor": "white"
           }
          },
          "shapedefaults": {
           "line": {
            "color": "#2a3f5f"
           }
          },
          "ternary": {
           "aaxis": {
            "gridcolor": "white",
            "linecolor": "white",
            "ticks": ""
           },
           "baxis": {
            "gridcolor": "white",
            "linecolor": "white",
            "ticks": ""
           },
           "bgcolor": "#E5ECF6",
           "caxis": {
            "gridcolor": "white",
            "linecolor": "white",
            "ticks": ""
           }
          },
          "title": {
           "x": 0.05
          },
          "xaxis": {
           "automargin": true,
           "gridcolor": "white",
           "linecolor": "white",
           "ticks": "",
           "title": {
            "standoff": 15
           },
           "zerolinecolor": "white",
           "zerolinewidth": 2
          },
          "yaxis": {
           "automargin": true,
           "gridcolor": "white",
           "linecolor": "white",
           "ticks": "",
           "title": {
            "standoff": 15
           },
           "zerolinecolor": "white",
           "zerolinewidth": 2
          }
         }
        },
        "title": {
         "font": {
          "color": "#4D5663"
         },
         "text": "Topic 0: Top 100 bigrams after removing stop words"
        },
        "xaxis": {
         "gridcolor": "#E1E5ED",
         "linecolor": "black",
         "showgrid": true,
         "tickfont": {
          "color": "#4D5663"
         },
         "title": {
          "font": {
           "color": "#4D5663"
          },
          "text": ""
         },
         "zerolinecolor": "#E1E5ED"
        },
        "yaxis": {
         "gridcolor": "#E1E5ED",
         "linecolor": "black",
         "showgrid": true,
         "tickfont": {
          "color": "#4D5663"
         },
         "title": {
          "font": {
           "color": "#4D5663"
          },
          "text": "Count"
         },
         "zerolinecolor": "#E1E5ED"
        }
       }
      },
      "text/html": [
       "<div>                            <div id=\"29b68583-d2d1-48df-b555-da7d220b4b99\" class=\"plotly-graph-div\" style=\"height:525px; width:100%;\"></div>            <script type=\"text/javascript\">                require([\"plotly\"], function(Plotly) {                    window.PLOTLYENV=window.PLOTLYENV || {};\n",
       "                    window.PLOTLYENV.BASE_URL='https://plot.ly';                                    if (document.getElementById(\"29b68583-d2d1-48df-b555-da7d220b4b99\")) {                    Plotly.newPlot(                        \"29b68583-d2d1-48df-b555-da7d220b4b99\",                        [{\"marker\":{\"color\":\"rgba(255, 153, 51, 0.6)\",\"line\":{\"color\":\"rgba(255, 153, 51, 1.0)\",\"width\":1}},\"name\":\"count\",\"orientation\":\"v\",\"text\":\"\",\"x\":[\"official say\",\"say statement\",\"next year\",\"presidential election\",\"say say\",\"next week\",\"say want\",\"also say\",\"percent percent\",\"secretary state\",\"trump say\",\"former president\",\"federal government\",\"spokesman say\",\"national security\",\"tax bill\",\"source say\",\"take office\",\"first time\",\"vice president\",\"say also\",\"republican leader\",\"make clear\",\"say add\",\"far right\",\"statement say\",\"leader say\",\"say plan\",\"president say\",\"state department\",\"say interview\",\"say expect\",\"republican senator\",\"say trump\",\"analyst say\",\"say think\",\"early year\",\"trump campaign\",\"percent vote\",\"presidential campaign\",\"american people\",\"republican lawmaker\",\"say support\",\"aide say\",\"government say\",\"say republican\",\"take place\",\"year say\",\"tax plan\",\"administration official\",\"campaign promise\",\"poll show\",\"election campaign\",\"say former\",\"bill say\",\"senior official\",\"make decision\",\"opposition party\",\"country say\",\"say government\",\"say hope\",\"say make\",\"say go\",\"republican president\",\"bill pass\",\"party leader\",\"percent say\",\"republican party\",\"democratic president\",\"new sanction\",\"trade deal\",\"recent year\",\"group say\",\"general election\",\"say believe\",\"former secretary\",\"social security\",\"state say\",\"next month\",\"lawmaker say\",\"trump make\",\"want see\",\"say party\",\"say take\",\"say vote\",\"election say\",\"people say\",\"tax cut\",\"pass legislation\",\"say still\",\"end year\",\"deal say\",\"economic policy\",\"say ask\",\"republican say\",\"government official\",\"likely voter\",\"expert say\",\"healthcare bill\",\"support trump\"],\"y\":[347,303,227,203,194,180,161,149,149,145,141,136,130,125,119,118,117,117,115,115,105,101,97,97,95,92,91,90,90,87,87,87,86,85,84,83,83,82,81,80,80,80,79,79,78,77,75,75,74,73,73,71,70,69,68,68,67,67,67,67,67,67,66,66,65,65,65,64,63,63,63,63,61,61,60,59,59,59,58,58,58,57,57,56,56,56,55,55,54,54,54,53,53,53,53,52,52,52,52,51],\"type\":\"bar\"}],                        {\"legend\":{\"bgcolor\":\"#F5F6F9\",\"font\":{\"color\":\"#4D5663\"}},\"paper_bgcolor\":\"#F5F6F9\",\"plot_bgcolor\":\"#F5F6F9\",\"template\":{\"data\":{\"barpolar\":[{\"marker\":{\"line\":{\"color\":\"#E5ECF6\",\"width\":0.5},\"pattern\":{\"fillmode\":\"overlay\",\"size\":10,\"solidity\":0.2}},\"type\":\"barpolar\"}],\"bar\":[{\"error_x\":{\"color\":\"#2a3f5f\"},\"error_y\":{\"color\":\"#2a3f5f\"},\"marker\":{\"line\":{\"color\":\"#E5ECF6\",\"width\":0.5},\"pattern\":{\"fillmode\":\"overlay\",\"size\":10,\"solidity\":0.2}},\"type\":\"bar\"}],\"carpet\":[{\"aaxis\":{\"endlinecolor\":\"#2a3f5f\",\"gridcolor\":\"white\",\"linecolor\":\"white\",\"minorgridcolor\":\"white\",\"startlinecolor\":\"#2a3f5f\"},\"baxis\":{\"endlinecolor\":\"#2a3f5f\",\"gridcolor\":\"white\",\"linecolor\":\"white\",\"minorgridcolor\":\"white\",\"startlinecolor\":\"#2a3f5f\"},\"type\":\"carpet\"}],\"choropleth\":[{\"colorbar\":{\"outlinewidth\":0,\"ticks\":\"\"},\"type\":\"choropleth\"}],\"contourcarpet\":[{\"colorbar\":{\"outlinewidth\":0,\"ticks\":\"\"},\"type\":\"contourcarpet\"}],\"contour\":[{\"colorbar\":{\"outlinewidth\":0,\"ticks\":\"\"},\"colorscale\":[[0.0,\"#0d0887\"],[0.1111111111111111,\"#46039f\"],[0.2222222222222222,\"#7201a8\"],[0.3333333333333333,\"#9c179e\"],[0.4444444444444444,\"#bd3786\"],[0.5555555555555556,\"#d8576b\"],[0.6666666666666666,\"#ed7953\"],[0.7777777777777778,\"#fb9f3a\"],[0.8888888888888888,\"#fdca26\"],[1.0,\"#f0f921\"]],\"type\":\"contour\"}],\"heatmapgl\":[{\"colorbar\":{\"outlinewidth\":0,\"ticks\":\"\"},\"colorscale\":[[0.0,\"#0d0887\"],[0.1111111111111111,\"#46039f\"],[0.2222222222222222,\"#7201a8\"],[0.3333333333333333,\"#9c179e\"],[0.4444444444444444,\"#bd3786\"],[0.5555555555555556,\"#d8576b\"],[0.6666666666666666,\"#ed7953\"],[0.7777777777777778,\"#fb9f3a\"],[0.8888888888888888,\"#fdca26\"],[1.0,\"#f0f921\"]],\"type\":\"heatmapgl\"}],\"heatmap\":[{\"colorbar\":{\"outlinewidth\":0,\"ticks\":\"\"},\"colorscale\":[[0.0,\"#0d0887\"],[0.1111111111111111,\"#46039f\"],[0.2222222222222222,\"#7201a8\"],[0.3333333333333333,\"#9c179e\"],[0.4444444444444444,\"#bd3786\"],[0.5555555555555556,\"#d8576b\"],[0.6666666666666666,\"#ed7953\"],[0.7777777777777778,\"#fb9f3a\"],[0.8888888888888888,\"#fdca26\"],[1.0,\"#f0f921\"]],\"type\":\"heatmap\"}],\"histogram2dcontour\":[{\"colorbar\":{\"outlinewidth\":0,\"ticks\":\"\"},\"colorscale\":[[0.0,\"#0d0887\"],[0.1111111111111111,\"#46039f\"],[0.2222222222222222,\"#7201a8\"],[0.3333333333333333,\"#9c179e\"],[0.4444444444444444,\"#bd3786\"],[0.5555555555555556,\"#d8576b\"],[0.6666666666666666,\"#ed7953\"],[0.7777777777777778,\"#fb9f3a\"],[0.8888888888888888,\"#fdca26\"],[1.0,\"#f0f921\"]],\"type\":\"histogram2dcontour\"}],\"histogram2d\":[{\"colorbar\":{\"outlinewidth\":0,\"ticks\":\"\"},\"colorscale\":[[0.0,\"#0d0887\"],[0.1111111111111111,\"#46039f\"],[0.2222222222222222,\"#7201a8\"],[0.3333333333333333,\"#9c179e\"],[0.4444444444444444,\"#bd3786\"],[0.5555555555555556,\"#d8576b\"],[0.6666666666666666,\"#ed7953\"],[0.7777777777777778,\"#fb9f3a\"],[0.8888888888888888,\"#fdca26\"],[1.0,\"#f0f921\"]],\"type\":\"histogram2d\"}],\"histogram\":[{\"marker\":{\"pattern\":{\"fillmode\":\"overlay\",\"size\":10,\"solidity\":0.2}},\"type\":\"histogram\"}],\"mesh3d\":[{\"colorbar\":{\"outlinewidth\":0,\"ticks\":\"\"},\"type\":\"mesh3d\"}],\"parcoords\":[{\"line\":{\"colorbar\":{\"outlinewidth\":0,\"ticks\":\"\"}},\"type\":\"parcoords\"}],\"pie\":[{\"automargin\":true,\"type\":\"pie\"}],\"scatter3d\":[{\"line\":{\"colorbar\":{\"outlinewidth\":0,\"ticks\":\"\"}},\"marker\":{\"colorbar\":{\"outlinewidth\":0,\"ticks\":\"\"}},\"type\":\"scatter3d\"}],\"scattercarpet\":[{\"marker\":{\"colorbar\":{\"outlinewidth\":0,\"ticks\":\"\"}},\"type\":\"scattercarpet\"}],\"scattergeo\":[{\"marker\":{\"colorbar\":{\"outlinewidth\":0,\"ticks\":\"\"}},\"type\":\"scattergeo\"}],\"scattergl\":[{\"marker\":{\"colorbar\":{\"outlinewidth\":0,\"ticks\":\"\"}},\"type\":\"scattergl\"}],\"scattermapbox\":[{\"marker\":{\"colorbar\":{\"outlinewidth\":0,\"ticks\":\"\"}},\"type\":\"scattermapbox\"}],\"scatterpolargl\":[{\"marker\":{\"colorbar\":{\"outlinewidth\":0,\"ticks\":\"\"}},\"type\":\"scatterpolargl\"}],\"scatterpolar\":[{\"marker\":{\"colorbar\":{\"outlinewidth\":0,\"ticks\":\"\"}},\"type\":\"scatterpolar\"}],\"scatter\":[{\"fillpattern\":{\"fillmode\":\"overlay\",\"size\":10,\"solidity\":0.2},\"type\":\"scatter\"}],\"scatterternary\":[{\"marker\":{\"colorbar\":{\"outlinewidth\":0,\"ticks\":\"\"}},\"type\":\"scatterternary\"}],\"surface\":[{\"colorbar\":{\"outlinewidth\":0,\"ticks\":\"\"},\"colorscale\":[[0.0,\"#0d0887\"],[0.1111111111111111,\"#46039f\"],[0.2222222222222222,\"#7201a8\"],[0.3333333333333333,\"#9c179e\"],[0.4444444444444444,\"#bd3786\"],[0.5555555555555556,\"#d8576b\"],[0.6666666666666666,\"#ed7953\"],[0.7777777777777778,\"#fb9f3a\"],[0.8888888888888888,\"#fdca26\"],[1.0,\"#f0f921\"]],\"type\":\"surface\"}],\"table\":[{\"cells\":{\"fill\":{\"color\":\"#EBF0F8\"},\"line\":{\"color\":\"white\"}},\"header\":{\"fill\":{\"color\":\"#C8D4E3\"},\"line\":{\"color\":\"white\"}},\"type\":\"table\"}]},\"layout\":{\"annotationdefaults\":{\"arrowcolor\":\"#2a3f5f\",\"arrowhead\":0,\"arrowwidth\":1},\"autotypenumbers\":\"strict\",\"coloraxis\":{\"colorbar\":{\"outlinewidth\":0,\"ticks\":\"\"}},\"colorscale\":{\"diverging\":[[0,\"#8e0152\"],[0.1,\"#c51b7d\"],[0.2,\"#de77ae\"],[0.3,\"#f1b6da\"],[0.4,\"#fde0ef\"],[0.5,\"#f7f7f7\"],[0.6,\"#e6f5d0\"],[0.7,\"#b8e186\"],[0.8,\"#7fbc41\"],[0.9,\"#4d9221\"],[1,\"#276419\"]],\"sequential\":[[0.0,\"#0d0887\"],[0.1111111111111111,\"#46039f\"],[0.2222222222222222,\"#7201a8\"],[0.3333333333333333,\"#9c179e\"],[0.4444444444444444,\"#bd3786\"],[0.5555555555555556,\"#d8576b\"],[0.6666666666666666,\"#ed7953\"],[0.7777777777777778,\"#fb9f3a\"],[0.8888888888888888,\"#fdca26\"],[1.0,\"#f0f921\"]],\"sequentialminus\":[[0.0,\"#0d0887\"],[0.1111111111111111,\"#46039f\"],[0.2222222222222222,\"#7201a8\"],[0.3333333333333333,\"#9c179e\"],[0.4444444444444444,\"#bd3786\"],[0.5555555555555556,\"#d8576b\"],[0.6666666666666666,\"#ed7953\"],[0.7777777777777778,\"#fb9f3a\"],[0.8888888888888888,\"#fdca26\"],[1.0,\"#f0f921\"]]},\"colorway\":[\"#636efa\",\"#EF553B\",\"#00cc96\",\"#ab63fa\",\"#FFA15A\",\"#19d3f3\",\"#FF6692\",\"#B6E880\",\"#FF97FF\",\"#FECB52\"],\"font\":{\"color\":\"#2a3f5f\"},\"geo\":{\"bgcolor\":\"white\",\"lakecolor\":\"white\",\"landcolor\":\"#E5ECF6\",\"showlakes\":true,\"showland\":true,\"subunitcolor\":\"white\"},\"hoverlabel\":{\"align\":\"left\"},\"hovermode\":\"closest\",\"mapbox\":{\"style\":\"light\"},\"paper_bgcolor\":\"white\",\"plot_bgcolor\":\"#E5ECF6\",\"polar\":{\"angularaxis\":{\"gridcolor\":\"white\",\"linecolor\":\"white\",\"ticks\":\"\"},\"bgcolor\":\"#E5ECF6\",\"radialaxis\":{\"gridcolor\":\"white\",\"linecolor\":\"white\",\"ticks\":\"\"}},\"scene\":{\"xaxis\":{\"backgroundcolor\":\"#E5ECF6\",\"gridcolor\":\"white\",\"gridwidth\":2,\"linecolor\":\"white\",\"showbackground\":true,\"ticks\":\"\",\"zerolinecolor\":\"white\"},\"yaxis\":{\"backgroundcolor\":\"#E5ECF6\",\"gridcolor\":\"white\",\"gridwidth\":2,\"linecolor\":\"white\",\"showbackground\":true,\"ticks\":\"\",\"zerolinecolor\":\"white\"},\"zaxis\":{\"backgroundcolor\":\"#E5ECF6\",\"gridcolor\":\"white\",\"gridwidth\":2,\"linecolor\":\"white\",\"showbackground\":true,\"ticks\":\"\",\"zerolinecolor\":\"white\"}},\"shapedefaults\":{\"line\":{\"color\":\"#2a3f5f\"}},\"ternary\":{\"aaxis\":{\"gridcolor\":\"white\",\"linecolor\":\"white\",\"ticks\":\"\"},\"baxis\":{\"gridcolor\":\"white\",\"linecolor\":\"white\",\"ticks\":\"\"},\"bgcolor\":\"#E5ECF6\",\"caxis\":{\"gridcolor\":\"white\",\"linecolor\":\"white\",\"ticks\":\"\"}},\"title\":{\"x\":0.05},\"xaxis\":{\"automargin\":true,\"gridcolor\":\"white\",\"linecolor\":\"white\",\"ticks\":\"\",\"title\":{\"standoff\":15},\"zerolinecolor\":\"white\",\"zerolinewidth\":2},\"yaxis\":{\"automargin\":true,\"gridcolor\":\"white\",\"linecolor\":\"white\",\"ticks\":\"\",\"title\":{\"standoff\":15},\"zerolinecolor\":\"white\",\"zerolinewidth\":2}}},\"title\":{\"font\":{\"color\":\"#4D5663\"},\"text\":\"Topic 0: Top 100 bigrams after removing stop words\"},\"xaxis\":{\"gridcolor\":\"#E1E5ED\",\"linecolor\":\"black\",\"showgrid\":true,\"tickfont\":{\"color\":\"#4D5663\"},\"title\":{\"font\":{\"color\":\"#4D5663\"},\"text\":\"\"},\"zerolinecolor\":\"#E1E5ED\"},\"yaxis\":{\"gridcolor\":\"#E1E5ED\",\"linecolor\":\"black\",\"showgrid\":true,\"tickfont\":{\"color\":\"#4D5663\"},\"title\":{\"font\":{\"color\":\"#4D5663\"},\"text\":\"Count\"},\"zerolinecolor\":\"#E1E5ED\"}},                        {\"showLink\": true, \"linkText\": \"Export to plot.ly\", \"plotlyServerURL\": \"https://plot.ly\", \"responsive\": true}                    ).then(function(){\n",
       "                            \n",
       "var gd = document.getElementById('29b68583-d2d1-48df-b555-da7d220b4b99');\n",
       "var x = new MutationObserver(function (mutations, observer) {{\n",
       "        var display = window.getComputedStyle(gd).display;\n",
       "        if (!display || display === 'none') {{\n",
       "            console.log([gd, 'removed!']);\n",
       "            Plotly.purge(gd);\n",
       "            observer.disconnect();\n",
       "        }}\n",
       "}});\n",
       "\n",
       "// Listen for the removal of the full notebook cells\n",
       "var notebookContainer = gd.closest('#notebook-container');\n",
       "if (notebookContainer) {{\n",
       "    x.observe(notebookContainer, {childList: true});\n",
       "}}\n",
       "\n",
       "// Listen for the clearing of the current output cell\n",
       "var outputEl = gd.closest('.output');\n",
       "if (outputEl) {{\n",
       "    x.observe(outputEl, {childList: true});\n",
       "}}\n",
       "\n",
       "                        })                };                });            </script>        </div>"
      ]
     },
     "metadata": {},
     "output_type": "display_data"
    }
   ],
   "source": [
    "plot_model(lda, plot = 'bigram')"
   ]
  },
  {
   "cell_type": "markdown",
   "id": "8e5ce4f7",
   "metadata": {},
   "source": [
    "After the observations of these models we need to create the dataframe the model will be learning off of. In this case we just want the models to be learning of whether or not the data row is a truthful article or fake any other additional information would be unnecessary data that will just confuse the model especially since the other data types are text based data while our class indicator is only 0 and 1"
   ]
  },
  {
   "cell_type": "code",
   "execution_count": 20,
   "id": "86fb4e2b",
   "metadata": {},
   "outputs": [],
   "source": [
    "lda_df.drop(['text','title','subject','date'],axis = 1, inplace=True, errors='ignore')"
   ]
  },
  {
   "cell_type": "code",
   "execution_count": 21,
   "id": "3778183b",
   "metadata": {},
   "outputs": [
    {
     "data": {
      "text/html": [
       "<style type=\"text/css\">\n",
       "#T_78538_row18_col1, #T_78538_row44_col1 {\n",
       "  background-color: lightgreen;\n",
       "}\n",
       "</style>\n",
       "<table id=\"T_78538\">\n",
       "  <thead>\n",
       "    <tr>\n",
       "      <th class=\"blank level0\" >&nbsp;</th>\n",
       "      <th id=\"T_78538_level0_col0\" class=\"col_heading level0 col0\" >Description</th>\n",
       "      <th id=\"T_78538_level0_col1\" class=\"col_heading level0 col1\" >Value</th>\n",
       "    </tr>\n",
       "  </thead>\n",
       "  <tbody>\n",
       "    <tr>\n",
       "      <th id=\"T_78538_level0_row0\" class=\"row_heading level0 row0\" >0</th>\n",
       "      <td id=\"T_78538_row0_col0\" class=\"data row0 col0\" >session_id</td>\n",
       "      <td id=\"T_78538_row0_col1\" class=\"data row0 col1\" >5967</td>\n",
       "    </tr>\n",
       "    <tr>\n",
       "      <th id=\"T_78538_level0_row1\" class=\"row_heading level0 row1\" >1</th>\n",
       "      <td id=\"T_78538_row1_col0\" class=\"data row1 col0\" >Target</td>\n",
       "      <td id=\"T_78538_row1_col1\" class=\"data row1 col1\" >class</td>\n",
       "    </tr>\n",
       "    <tr>\n",
       "      <th id=\"T_78538_level0_row2\" class=\"row_heading level0 row2\" >2</th>\n",
       "      <td id=\"T_78538_row2_col0\" class=\"data row2 col0\" >Target Type</td>\n",
       "      <td id=\"T_78538_row2_col1\" class=\"data row2 col1\" >Binary</td>\n",
       "    </tr>\n",
       "    <tr>\n",
       "      <th id=\"T_78538_level0_row3\" class=\"row_heading level0 row3\" >3</th>\n",
       "      <td id=\"T_78538_row3_col0\" class=\"data row3 col0\" >Label Encoded</td>\n",
       "      <td id=\"T_78538_row3_col1\" class=\"data row3 col1\" >None</td>\n",
       "    </tr>\n",
       "    <tr>\n",
       "      <th id=\"T_78538_level0_row4\" class=\"row_heading level0 row4\" >4</th>\n",
       "      <td id=\"T_78538_row4_col0\" class=\"data row4 col0\" >Original Data</td>\n",
       "      <td id=\"T_78538_row4_col1\" class=\"data row4 col1\" >(10000, 7)</td>\n",
       "    </tr>\n",
       "    <tr>\n",
       "      <th id=\"T_78538_level0_row5\" class=\"row_heading level0 row5\" >5</th>\n",
       "      <td id=\"T_78538_row5_col0\" class=\"data row5 col0\" >Missing Values</td>\n",
       "      <td id=\"T_78538_row5_col1\" class=\"data row5 col1\" >False</td>\n",
       "    </tr>\n",
       "    <tr>\n",
       "      <th id=\"T_78538_level0_row6\" class=\"row_heading level0 row6\" >6</th>\n",
       "      <td id=\"T_78538_row6_col0\" class=\"data row6 col0\" >Numeric Features</td>\n",
       "      <td id=\"T_78538_row6_col1\" class=\"data row6 col1\" >5</td>\n",
       "    </tr>\n",
       "    <tr>\n",
       "      <th id=\"T_78538_level0_row7\" class=\"row_heading level0 row7\" >7</th>\n",
       "      <td id=\"T_78538_row7_col0\" class=\"data row7 col0\" >Categorical Features</td>\n",
       "      <td id=\"T_78538_row7_col1\" class=\"data row7 col1\" >1</td>\n",
       "    </tr>\n",
       "    <tr>\n",
       "      <th id=\"T_78538_level0_row8\" class=\"row_heading level0 row8\" >8</th>\n",
       "      <td id=\"T_78538_row8_col0\" class=\"data row8 col0\" >Ordinal Features</td>\n",
       "      <td id=\"T_78538_row8_col1\" class=\"data row8 col1\" >False</td>\n",
       "    </tr>\n",
       "    <tr>\n",
       "      <th id=\"T_78538_level0_row9\" class=\"row_heading level0 row9\" >9</th>\n",
       "      <td id=\"T_78538_row9_col0\" class=\"data row9 col0\" >High Cardinality Features</td>\n",
       "      <td id=\"T_78538_row9_col1\" class=\"data row9 col1\" >False</td>\n",
       "    </tr>\n",
       "    <tr>\n",
       "      <th id=\"T_78538_level0_row10\" class=\"row_heading level0 row10\" >10</th>\n",
       "      <td id=\"T_78538_row10_col0\" class=\"data row10 col0\" >High Cardinality Method</td>\n",
       "      <td id=\"T_78538_row10_col1\" class=\"data row10 col1\" >None</td>\n",
       "    </tr>\n",
       "    <tr>\n",
       "      <th id=\"T_78538_level0_row11\" class=\"row_heading level0 row11\" >11</th>\n",
       "      <td id=\"T_78538_row11_col0\" class=\"data row11 col0\" >Transformed Train Set</td>\n",
       "      <td id=\"T_78538_row11_col1\" class=\"data row11 col1\" >(6999, 9)</td>\n",
       "    </tr>\n",
       "    <tr>\n",
       "      <th id=\"T_78538_level0_row12\" class=\"row_heading level0 row12\" >12</th>\n",
       "      <td id=\"T_78538_row12_col0\" class=\"data row12 col0\" >Transformed Test Set</td>\n",
       "      <td id=\"T_78538_row12_col1\" class=\"data row12 col1\" >(3001, 9)</td>\n",
       "    </tr>\n",
       "    <tr>\n",
       "      <th id=\"T_78538_level0_row13\" class=\"row_heading level0 row13\" >13</th>\n",
       "      <td id=\"T_78538_row13_col0\" class=\"data row13 col0\" >Shuffle Train-Test</td>\n",
       "      <td id=\"T_78538_row13_col1\" class=\"data row13 col1\" >True</td>\n",
       "    </tr>\n",
       "    <tr>\n",
       "      <th id=\"T_78538_level0_row14\" class=\"row_heading level0 row14\" >14</th>\n",
       "      <td id=\"T_78538_row14_col0\" class=\"data row14 col0\" >Stratify Train-Test</td>\n",
       "      <td id=\"T_78538_row14_col1\" class=\"data row14 col1\" >False</td>\n",
       "    </tr>\n",
       "    <tr>\n",
       "      <th id=\"T_78538_level0_row15\" class=\"row_heading level0 row15\" >15</th>\n",
       "      <td id=\"T_78538_row15_col0\" class=\"data row15 col0\" >Fold Generator</td>\n",
       "      <td id=\"T_78538_row15_col1\" class=\"data row15 col1\" >StratifiedKFold</td>\n",
       "    </tr>\n",
       "    <tr>\n",
       "      <th id=\"T_78538_level0_row16\" class=\"row_heading level0 row16\" >16</th>\n",
       "      <td id=\"T_78538_row16_col0\" class=\"data row16 col0\" >Fold Number</td>\n",
       "      <td id=\"T_78538_row16_col1\" class=\"data row16 col1\" >10</td>\n",
       "    </tr>\n",
       "    <tr>\n",
       "      <th id=\"T_78538_level0_row17\" class=\"row_heading level0 row17\" >17</th>\n",
       "      <td id=\"T_78538_row17_col0\" class=\"data row17 col0\" >CPU Jobs</td>\n",
       "      <td id=\"T_78538_row17_col1\" class=\"data row17 col1\" >-1</td>\n",
       "    </tr>\n",
       "    <tr>\n",
       "      <th id=\"T_78538_level0_row18\" class=\"row_heading level0 row18\" >18</th>\n",
       "      <td id=\"T_78538_row18_col0\" class=\"data row18 col0\" >Use GPU</td>\n",
       "      <td id=\"T_78538_row18_col1\" class=\"data row18 col1\" >True</td>\n",
       "    </tr>\n",
       "    <tr>\n",
       "      <th id=\"T_78538_level0_row19\" class=\"row_heading level0 row19\" >19</th>\n",
       "      <td id=\"T_78538_row19_col0\" class=\"data row19 col0\" >Log Experiment</td>\n",
       "      <td id=\"T_78538_row19_col1\" class=\"data row19 col1\" >False</td>\n",
       "    </tr>\n",
       "    <tr>\n",
       "      <th id=\"T_78538_level0_row20\" class=\"row_heading level0 row20\" >20</th>\n",
       "      <td id=\"T_78538_row20_col0\" class=\"data row20 col0\" >Experiment Name</td>\n",
       "      <td id=\"T_78538_row20_col1\" class=\"data row20 col1\" >clf-default-name</td>\n",
       "    </tr>\n",
       "    <tr>\n",
       "      <th id=\"T_78538_level0_row21\" class=\"row_heading level0 row21\" >21</th>\n",
       "      <td id=\"T_78538_row21_col0\" class=\"data row21 col0\" >USI</td>\n",
       "      <td id=\"T_78538_row21_col1\" class=\"data row21 col1\" >9093</td>\n",
       "    </tr>\n",
       "    <tr>\n",
       "      <th id=\"T_78538_level0_row22\" class=\"row_heading level0 row22\" >22</th>\n",
       "      <td id=\"T_78538_row22_col0\" class=\"data row22 col0\" >Imputation Type</td>\n",
       "      <td id=\"T_78538_row22_col1\" class=\"data row22 col1\" >simple</td>\n",
       "    </tr>\n",
       "    <tr>\n",
       "      <th id=\"T_78538_level0_row23\" class=\"row_heading level0 row23\" >23</th>\n",
       "      <td id=\"T_78538_row23_col0\" class=\"data row23 col0\" >Iterative Imputation Iteration</td>\n",
       "      <td id=\"T_78538_row23_col1\" class=\"data row23 col1\" >None</td>\n",
       "    </tr>\n",
       "    <tr>\n",
       "      <th id=\"T_78538_level0_row24\" class=\"row_heading level0 row24\" >24</th>\n",
       "      <td id=\"T_78538_row24_col0\" class=\"data row24 col0\" >Numeric Imputer</td>\n",
       "      <td id=\"T_78538_row24_col1\" class=\"data row24 col1\" >mean</td>\n",
       "    </tr>\n",
       "    <tr>\n",
       "      <th id=\"T_78538_level0_row25\" class=\"row_heading level0 row25\" >25</th>\n",
       "      <td id=\"T_78538_row25_col0\" class=\"data row25 col0\" >Iterative Imputation Numeric Model</td>\n",
       "      <td id=\"T_78538_row25_col1\" class=\"data row25 col1\" >None</td>\n",
       "    </tr>\n",
       "    <tr>\n",
       "      <th id=\"T_78538_level0_row26\" class=\"row_heading level0 row26\" >26</th>\n",
       "      <td id=\"T_78538_row26_col0\" class=\"data row26 col0\" >Categorical Imputer</td>\n",
       "      <td id=\"T_78538_row26_col1\" class=\"data row26 col1\" >constant</td>\n",
       "    </tr>\n",
       "    <tr>\n",
       "      <th id=\"T_78538_level0_row27\" class=\"row_heading level0 row27\" >27</th>\n",
       "      <td id=\"T_78538_row27_col0\" class=\"data row27 col0\" >Iterative Imputation Categorical Model</td>\n",
       "      <td id=\"T_78538_row27_col1\" class=\"data row27 col1\" >None</td>\n",
       "    </tr>\n",
       "    <tr>\n",
       "      <th id=\"T_78538_level0_row28\" class=\"row_heading level0 row28\" >28</th>\n",
       "      <td id=\"T_78538_row28_col0\" class=\"data row28 col0\" >Unknown Categoricals Handling</td>\n",
       "      <td id=\"T_78538_row28_col1\" class=\"data row28 col1\" >least_frequent</td>\n",
       "    </tr>\n",
       "    <tr>\n",
       "      <th id=\"T_78538_level0_row29\" class=\"row_heading level0 row29\" >29</th>\n",
       "      <td id=\"T_78538_row29_col0\" class=\"data row29 col0\" >Normalize</td>\n",
       "      <td id=\"T_78538_row29_col1\" class=\"data row29 col1\" >False</td>\n",
       "    </tr>\n",
       "    <tr>\n",
       "      <th id=\"T_78538_level0_row30\" class=\"row_heading level0 row30\" >30</th>\n",
       "      <td id=\"T_78538_row30_col0\" class=\"data row30 col0\" >Normalize Method</td>\n",
       "      <td id=\"T_78538_row30_col1\" class=\"data row30 col1\" >None</td>\n",
       "    </tr>\n",
       "    <tr>\n",
       "      <th id=\"T_78538_level0_row31\" class=\"row_heading level0 row31\" >31</th>\n",
       "      <td id=\"T_78538_row31_col0\" class=\"data row31 col0\" >Transformation</td>\n",
       "      <td id=\"T_78538_row31_col1\" class=\"data row31 col1\" >False</td>\n",
       "    </tr>\n",
       "    <tr>\n",
       "      <th id=\"T_78538_level0_row32\" class=\"row_heading level0 row32\" >32</th>\n",
       "      <td id=\"T_78538_row32_col0\" class=\"data row32 col0\" >Transformation Method</td>\n",
       "      <td id=\"T_78538_row32_col1\" class=\"data row32 col1\" >None</td>\n",
       "    </tr>\n",
       "    <tr>\n",
       "      <th id=\"T_78538_level0_row33\" class=\"row_heading level0 row33\" >33</th>\n",
       "      <td id=\"T_78538_row33_col0\" class=\"data row33 col0\" >PCA</td>\n",
       "      <td id=\"T_78538_row33_col1\" class=\"data row33 col1\" >False</td>\n",
       "    </tr>\n",
       "    <tr>\n",
       "      <th id=\"T_78538_level0_row34\" class=\"row_heading level0 row34\" >34</th>\n",
       "      <td id=\"T_78538_row34_col0\" class=\"data row34 col0\" >PCA Method</td>\n",
       "      <td id=\"T_78538_row34_col1\" class=\"data row34 col1\" >None</td>\n",
       "    </tr>\n",
       "    <tr>\n",
       "      <th id=\"T_78538_level0_row35\" class=\"row_heading level0 row35\" >35</th>\n",
       "      <td id=\"T_78538_row35_col0\" class=\"data row35 col0\" >PCA Components</td>\n",
       "      <td id=\"T_78538_row35_col1\" class=\"data row35 col1\" >None</td>\n",
       "    </tr>\n",
       "    <tr>\n",
       "      <th id=\"T_78538_level0_row36\" class=\"row_heading level0 row36\" >36</th>\n",
       "      <td id=\"T_78538_row36_col0\" class=\"data row36 col0\" >Ignore Low Variance</td>\n",
       "      <td id=\"T_78538_row36_col1\" class=\"data row36 col1\" >False</td>\n",
       "    </tr>\n",
       "    <tr>\n",
       "      <th id=\"T_78538_level0_row37\" class=\"row_heading level0 row37\" >37</th>\n",
       "      <td id=\"T_78538_row37_col0\" class=\"data row37 col0\" >Combine Rare Levels</td>\n",
       "      <td id=\"T_78538_row37_col1\" class=\"data row37 col1\" >False</td>\n",
       "    </tr>\n",
       "    <tr>\n",
       "      <th id=\"T_78538_level0_row38\" class=\"row_heading level0 row38\" >38</th>\n",
       "      <td id=\"T_78538_row38_col0\" class=\"data row38 col0\" >Rare Level Threshold</td>\n",
       "      <td id=\"T_78538_row38_col1\" class=\"data row38 col1\" >None</td>\n",
       "    </tr>\n",
       "    <tr>\n",
       "      <th id=\"T_78538_level0_row39\" class=\"row_heading level0 row39\" >39</th>\n",
       "      <td id=\"T_78538_row39_col0\" class=\"data row39 col0\" >Numeric Binning</td>\n",
       "      <td id=\"T_78538_row39_col1\" class=\"data row39 col1\" >False</td>\n",
       "    </tr>\n",
       "    <tr>\n",
       "      <th id=\"T_78538_level0_row40\" class=\"row_heading level0 row40\" >40</th>\n",
       "      <td id=\"T_78538_row40_col0\" class=\"data row40 col0\" >Remove Outliers</td>\n",
       "      <td id=\"T_78538_row40_col1\" class=\"data row40 col1\" >False</td>\n",
       "    </tr>\n",
       "    <tr>\n",
       "      <th id=\"T_78538_level0_row41\" class=\"row_heading level0 row41\" >41</th>\n",
       "      <td id=\"T_78538_row41_col0\" class=\"data row41 col0\" >Outliers Threshold</td>\n",
       "      <td id=\"T_78538_row41_col1\" class=\"data row41 col1\" >None</td>\n",
       "    </tr>\n",
       "    <tr>\n",
       "      <th id=\"T_78538_level0_row42\" class=\"row_heading level0 row42\" >42</th>\n",
       "      <td id=\"T_78538_row42_col0\" class=\"data row42 col0\" >Remove Multicollinearity</td>\n",
       "      <td id=\"T_78538_row42_col1\" class=\"data row42 col1\" >False</td>\n",
       "    </tr>\n",
       "    <tr>\n",
       "      <th id=\"T_78538_level0_row43\" class=\"row_heading level0 row43\" >43</th>\n",
       "      <td id=\"T_78538_row43_col0\" class=\"data row43 col0\" >Multicollinearity Threshold</td>\n",
       "      <td id=\"T_78538_row43_col1\" class=\"data row43 col1\" >None</td>\n",
       "    </tr>\n",
       "    <tr>\n",
       "      <th id=\"T_78538_level0_row44\" class=\"row_heading level0 row44\" >44</th>\n",
       "      <td id=\"T_78538_row44_col0\" class=\"data row44 col0\" >Remove Perfect Collinearity</td>\n",
       "      <td id=\"T_78538_row44_col1\" class=\"data row44 col1\" >True</td>\n",
       "    </tr>\n",
       "    <tr>\n",
       "      <th id=\"T_78538_level0_row45\" class=\"row_heading level0 row45\" >45</th>\n",
       "      <td id=\"T_78538_row45_col0\" class=\"data row45 col0\" >Clustering</td>\n",
       "      <td id=\"T_78538_row45_col1\" class=\"data row45 col1\" >False</td>\n",
       "    </tr>\n",
       "    <tr>\n",
       "      <th id=\"T_78538_level0_row46\" class=\"row_heading level0 row46\" >46</th>\n",
       "      <td id=\"T_78538_row46_col0\" class=\"data row46 col0\" >Clustering Iteration</td>\n",
       "      <td id=\"T_78538_row46_col1\" class=\"data row46 col1\" >None</td>\n",
       "    </tr>\n",
       "    <tr>\n",
       "      <th id=\"T_78538_level0_row47\" class=\"row_heading level0 row47\" >47</th>\n",
       "      <td id=\"T_78538_row47_col0\" class=\"data row47 col0\" >Polynomial Features</td>\n",
       "      <td id=\"T_78538_row47_col1\" class=\"data row47 col1\" >False</td>\n",
       "    </tr>\n",
       "    <tr>\n",
       "      <th id=\"T_78538_level0_row48\" class=\"row_heading level0 row48\" >48</th>\n",
       "      <td id=\"T_78538_row48_col0\" class=\"data row48 col0\" >Polynomial Degree</td>\n",
       "      <td id=\"T_78538_row48_col1\" class=\"data row48 col1\" >None</td>\n",
       "    </tr>\n",
       "    <tr>\n",
       "      <th id=\"T_78538_level0_row49\" class=\"row_heading level0 row49\" >49</th>\n",
       "      <td id=\"T_78538_row49_col0\" class=\"data row49 col0\" >Trignometry Features</td>\n",
       "      <td id=\"T_78538_row49_col1\" class=\"data row49 col1\" >False</td>\n",
       "    </tr>\n",
       "    <tr>\n",
       "      <th id=\"T_78538_level0_row50\" class=\"row_heading level0 row50\" >50</th>\n",
       "      <td id=\"T_78538_row50_col0\" class=\"data row50 col0\" >Polynomial Threshold</td>\n",
       "      <td id=\"T_78538_row50_col1\" class=\"data row50 col1\" >None</td>\n",
       "    </tr>\n",
       "    <tr>\n",
       "      <th id=\"T_78538_level0_row51\" class=\"row_heading level0 row51\" >51</th>\n",
       "      <td id=\"T_78538_row51_col0\" class=\"data row51 col0\" >Group Features</td>\n",
       "      <td id=\"T_78538_row51_col1\" class=\"data row51 col1\" >False</td>\n",
       "    </tr>\n",
       "    <tr>\n",
       "      <th id=\"T_78538_level0_row52\" class=\"row_heading level0 row52\" >52</th>\n",
       "      <td id=\"T_78538_row52_col0\" class=\"data row52 col0\" >Feature Selection</td>\n",
       "      <td id=\"T_78538_row52_col1\" class=\"data row52 col1\" >False</td>\n",
       "    </tr>\n",
       "    <tr>\n",
       "      <th id=\"T_78538_level0_row53\" class=\"row_heading level0 row53\" >53</th>\n",
       "      <td id=\"T_78538_row53_col0\" class=\"data row53 col0\" >Feature Selection Method</td>\n",
       "      <td id=\"T_78538_row53_col1\" class=\"data row53 col1\" >classic</td>\n",
       "    </tr>\n",
       "    <tr>\n",
       "      <th id=\"T_78538_level0_row54\" class=\"row_heading level0 row54\" >54</th>\n",
       "      <td id=\"T_78538_row54_col0\" class=\"data row54 col0\" >Features Selection Threshold</td>\n",
       "      <td id=\"T_78538_row54_col1\" class=\"data row54 col1\" >None</td>\n",
       "    </tr>\n",
       "    <tr>\n",
       "      <th id=\"T_78538_level0_row55\" class=\"row_heading level0 row55\" >55</th>\n",
       "      <td id=\"T_78538_row55_col0\" class=\"data row55 col0\" >Feature Interaction</td>\n",
       "      <td id=\"T_78538_row55_col1\" class=\"data row55 col1\" >False</td>\n",
       "    </tr>\n",
       "    <tr>\n",
       "      <th id=\"T_78538_level0_row56\" class=\"row_heading level0 row56\" >56</th>\n",
       "      <td id=\"T_78538_row56_col0\" class=\"data row56 col0\" >Feature Ratio</td>\n",
       "      <td id=\"T_78538_row56_col1\" class=\"data row56 col1\" >False</td>\n",
       "    </tr>\n",
       "    <tr>\n",
       "      <th id=\"T_78538_level0_row57\" class=\"row_heading level0 row57\" >57</th>\n",
       "      <td id=\"T_78538_row57_col0\" class=\"data row57 col0\" >Interaction Threshold</td>\n",
       "      <td id=\"T_78538_row57_col1\" class=\"data row57 col1\" >None</td>\n",
       "    </tr>\n",
       "    <tr>\n",
       "      <th id=\"T_78538_level0_row58\" class=\"row_heading level0 row58\" >58</th>\n",
       "      <td id=\"T_78538_row58_col0\" class=\"data row58 col0\" >Fix Imbalance</td>\n",
       "      <td id=\"T_78538_row58_col1\" class=\"data row58 col1\" >False</td>\n",
       "    </tr>\n",
       "    <tr>\n",
       "      <th id=\"T_78538_level0_row59\" class=\"row_heading level0 row59\" >59</th>\n",
       "      <td id=\"T_78538_row59_col0\" class=\"data row59 col0\" >Fix Imbalance Method</td>\n",
       "      <td id=\"T_78538_row59_col1\" class=\"data row59 col1\" >SMOTE</td>\n",
       "    </tr>\n",
       "  </tbody>\n",
       "</table>\n"
      ],
      "text/plain": [
       "<pandas.io.formats.style.Styler at 0x7f1a1998ee20>"
      ]
     },
     "metadata": {},
     "output_type": "display_data"
    },
    {
     "data": {
      "text/plain": [
       "(False,\n",
       " False,\n",
       " False,\n",
       " 'lightgbm',\n",
       " {'USI',\n",
       "  'X',\n",
       "  'X_test',\n",
       "  'X_train',\n",
       "  '_all_metrics',\n",
       "  '_all_models',\n",
       "  '_all_models_internal',\n",
       "  '_available_plots',\n",
       "  '_gpu_n_jobs_param',\n",
       "  '_internal_pipeline',\n",
       "  '_ml_usecase',\n",
       "  'create_model_container',\n",
       "  'dashboard_logger',\n",
       "  'data_before_preprocess',\n",
       "  'display_container',\n",
       "  'exp_name_log',\n",
       "  'experiment__',\n",
       "  'fix_imbalance_method_param',\n",
       "  'fix_imbalance_param',\n",
       "  'fold_generator',\n",
       "  'fold_groups_param',\n",
       "  'fold_groups_param_full',\n",
       "  'fold_param',\n",
       "  'fold_shuffle_param',\n",
       "  'gpu_param',\n",
       "  'html_param',\n",
       "  'imputation_classifier',\n",
       "  'imputation_regressor',\n",
       "  'iterative_imputation_iters_param',\n",
       "  'log_plots_param',\n",
       "  'logging_param',\n",
       "  'master_model_container',\n",
       "  'n_jobs_param',\n",
       "  'prep_pipe',\n",
       "  'pycaret_globals',\n",
       "  'seed',\n",
       "  'stratify_param',\n",
       "  'target_param',\n",
       "  'transform_target_method_param',\n",
       "  'transform_target_param',\n",
       "  'y',\n",
       "  'y_test',\n",
       "  'y_train'},\n",
       " {'lr': <pycaret.containers.models.classification.LogisticRegressionClassifierContainer at 0x7f1afaa478b0>,\n",
       "  'knn': <pycaret.containers.models.classification.KNeighborsClassifierContainer at 0x7f1afaa47c40>,\n",
       "  'nb': <pycaret.containers.models.classification.GaussianNBClassifierContainer at 0x7f1afaa47be0>,\n",
       "  'dt': <pycaret.containers.models.classification.DecisionTreeClassifierContainer at 0x7f1afaa47eb0>,\n",
       "  'svm': <pycaret.containers.models.classification.SGDClassifierContainer at 0x7f1afaa47f10>,\n",
       "  'rbfsvm': <pycaret.containers.models.classification.SVCClassifierContainer at 0x7f1afaa54550>,\n",
       "  'gpc': <pycaret.containers.models.classification.GaussianProcessClassifierContainer at 0x7f1afaa546d0>,\n",
       "  'mlp': <pycaret.containers.models.classification.MLPClassifierContainer at 0x7f1afaa54760>,\n",
       "  'ridge': <pycaret.containers.models.classification.RidgeClassifierContainer at 0x7f1afaa54a30>,\n",
       "  'rf': <pycaret.containers.models.classification.RandomForestClassifierContainer at 0x7f1afaa54be0>,\n",
       "  'qda': <pycaret.containers.models.classification.QuadraticDiscriminantAnalysisContainer at 0x7f1afaa54df0>,\n",
       "  'ada': <pycaret.containers.models.classification.AdaBoostClassifierContainer at 0x7f1afa9f31f0>,\n",
       "  'gbc': <pycaret.containers.models.classification.GradientBoostingClassifierContainer at 0x7f1afa9f3370>,\n",
       "  'lda': <pycaret.containers.models.classification.LinearDiscriminantAnalysisContainer at 0x7f1afa9f33d0>,\n",
       "  'et': <pycaret.containers.models.classification.ExtraTreesClassifierContainer at 0x7f1afa9f3850>,\n",
       "  'lightgbm': <pycaret.containers.models.classification.LGBMClassifierContainer at 0x7f1afa9f3df0>,\n",
       "  'dummy': <pycaret.containers.models.classification.DummyClassifierContainer at 0x7f1afaa478e0>,\n",
       "  'Bagging': <pycaret.containers.models.classification.BaggingClassifierContainer at 0x7f1afa9f38b0>,\n",
       "  'Stacking': <pycaret.containers.models.classification.StackingClassifierContainer at 0x7f1afaa47880>,\n",
       "  'Voting': <pycaret.containers.models.classification.VotingClassifierContainer at 0x7f1afaa47790>,\n",
       "  'CalibratedCV': <pycaret.containers.models.classification.CalibratedClassifierCVContainer at 0x7f1afaa47b80>},\n",
       " {'acc': <pycaret.containers.metrics.classification.AccuracyMetricContainer at 0x7f1afa9f6610>,\n",
       "  'auc': <pycaret.containers.metrics.classification.ROCAUCMetricContainer at 0x7f1afa9f6640>,\n",
       "  'recall': <pycaret.containers.metrics.classification.RecallMetricContainer at 0x7f1afa9f6310>,\n",
       "  'precision': <pycaret.containers.metrics.classification.PrecisionMetricContainer at 0x7f1afa9f63a0>,\n",
       "  'f1': <pycaret.containers.metrics.classification.F1MetricContainer at 0x7f1afa9f6520>,\n",
       "  'kappa': <pycaret.containers.metrics.classification.KappaMetricContainer at 0x7f1afa9f6700>,\n",
       "  'mcc': <pycaret.containers.metrics.classification.MCCMetricContainer at 0x7f1afa9f6790>},\n",
       " 10,\n",
       "        Topic_0   Topic_1   Topic_2   Topic_3  Perc_Dominant_Topic  \\\n",
       " 0     0.145600  0.085426  0.002188  0.766785                 0.77   \n",
       " 1     0.250000  0.250000  0.250000  0.250000                 0.25   \n",
       " 2     0.847066  0.047471  0.000815  0.104649                 0.85   \n",
       " 3     0.052074  0.173432  0.476422  0.298071                 0.48   \n",
       " 4     0.424667  0.450455  0.123204  0.001673                 0.45   \n",
       " ...        ...       ...       ...       ...                  ...   \n",
       " 9995  0.001397  0.095166  0.504621  0.398817                 0.50   \n",
       " 9996  0.692815  0.001555  0.001605  0.304025                 0.69   \n",
       " 9997  0.001503  0.001497  0.497203  0.499796                 0.50   \n",
       " 9998  0.002280  0.993180  0.002289  0.002250                 0.99   \n",
       " 9999  0.446767  0.231503  0.299150  0.022580                 0.45   \n",
       " \n",
       "       Dominant_Topic_Topic 0  Dominant_Topic_Topic 1  Dominant_Topic_Topic 2  \\\n",
       " 0                        0.0                     0.0                     0.0   \n",
       " 1                        1.0                     0.0                     0.0   \n",
       " 2                        1.0                     0.0                     0.0   \n",
       " 3                        0.0                     0.0                     1.0   \n",
       " 4                        0.0                     1.0                     0.0   \n",
       " ...                      ...                     ...                     ...   \n",
       " 9995                     0.0                     0.0                     1.0   \n",
       " 9996                     1.0                     0.0                     0.0   \n",
       " 9997                     0.0                     0.0                     0.0   \n",
       " 9998                     0.0                     1.0                     0.0   \n",
       " 9999                     1.0                     0.0                     0.0   \n",
       " \n",
       "       Dominant_Topic_Topic 3  \n",
       " 0                        1.0  \n",
       " 1                        0.0  \n",
       " 2                        0.0  \n",
       " 3                        0.0  \n",
       " 4                        0.0  \n",
       " ...                      ...  \n",
       " 9995                     0.0  \n",
       " 9996                     0.0  \n",
       " 9997                     1.0  \n",
       " 9998                     0.0  \n",
       " 9999                     0.0  \n",
       " \n",
       " [10000 rows x 9 columns],\n",
       " '9093',\n",
       " 'box-cox',\n",
       " 1,\n",
       " {'lr': <pycaret.containers.models.classification.LogisticRegressionClassifierContainer at 0x7f1a1997e850>,\n",
       "  'knn': <pycaret.containers.models.classification.KNeighborsClassifierContainer at 0x7f1a1997e1c0>,\n",
       "  'nb': <pycaret.containers.models.classification.GaussianNBClassifierContainer at 0x7f1a1997e730>,\n",
       "  'dt': <pycaret.containers.models.classification.DecisionTreeClassifierContainer at 0x7f1a1997e3a0>,\n",
       "  'svm': <pycaret.containers.models.classification.SGDClassifierContainer at 0x7f1a1997e190>,\n",
       "  'rbfsvm': <pycaret.containers.models.classification.SVCClassifierContainer at 0x7f1a1822afd0>,\n",
       "  'gpc': <pycaret.containers.models.classification.GaussianProcessClassifierContainer at 0x7f1a0bf34100>,\n",
       "  'mlp': <pycaret.containers.models.classification.MLPClassifierContainer at 0x7f1a0bf34220>,\n",
       "  'ridge': <pycaret.containers.models.classification.RidgeClassifierContainer at 0x7f1afad318b0>,\n",
       "  'rf': <pycaret.containers.models.classification.RandomForestClassifierContainer at 0x7f1afad31a30>,\n",
       "  'qda': <pycaret.containers.models.classification.QuadraticDiscriminantAnalysisContainer at 0x7f1afad31b80>,\n",
       "  'ada': <pycaret.containers.models.classification.AdaBoostClassifierContainer at 0x7f1afad31f10>,\n",
       "  'gbc': <pycaret.containers.models.classification.GradientBoostingClassifierContainer at 0x7f1afaa438e0>,\n",
       "  'lda': <pycaret.containers.models.classification.LinearDiscriminantAnalysisContainer at 0x7f1afaa43970>,\n",
       "  'et': <pycaret.containers.models.classification.ExtraTreesClassifierContainer at 0x7f1afaa43dc0>,\n",
       "  'lightgbm': <pycaret.containers.models.classification.LGBMClassifierContainer at 0x7f1afaa472b0>,\n",
       "  'dummy': <pycaret.containers.models.classification.DummyClassifierContainer at 0x7f1afaa47af0>},\n",
       " None,\n",
       "        Topic_0   Topic_1   Topic_2   Topic_3  Perc_Dominant_Topic  \\\n",
       " 8849  0.012763  0.034846  0.443326  0.509065                 0.51   \n",
       " 4707  0.988774  0.003764  0.003720  0.003742                 0.99   \n",
       " 136   0.732552  0.009459  0.134694  0.123294                 0.73   \n",
       " 6135  0.166567  0.803008  0.001453  0.028971                 0.80   \n",
       " 9199  0.003001  0.092194  0.901796  0.003009                 0.90   \n",
       " ...        ...       ...       ...       ...                  ...   \n",
       " 1099  0.002259  0.438355  0.002221  0.557166                 0.56   \n",
       " 8716  0.426645  0.001899  0.001874  0.569582                 0.57   \n",
       " 22    0.051275  0.943666  0.002507  0.002552                 0.94   \n",
       " 6019  0.909774  0.043657  0.045608  0.000962                 0.91   \n",
       " 5799  0.192544  0.804914  0.001257  0.001285                 0.80   \n",
       " \n",
       "       Dominant_Topic_Topic 0  Dominant_Topic_Topic 1  Dominant_Topic_Topic 2  \\\n",
       " 8849                     0.0                     0.0                     0.0   \n",
       " 4707                     1.0                     0.0                     0.0   \n",
       " 136                      1.0                     0.0                     0.0   \n",
       " 6135                     0.0                     1.0                     0.0   \n",
       " 9199                     0.0                     0.0                     1.0   \n",
       " ...                      ...                     ...                     ...   \n",
       " 1099                     0.0                     0.0                     0.0   \n",
       " 8716                     0.0                     0.0                     0.0   \n",
       " 22                       0.0                     1.0                     0.0   \n",
       " 6019                     1.0                     0.0                     0.0   \n",
       " 5799                     0.0                     1.0                     0.0   \n",
       " \n",
       "       Dominant_Topic_Topic 3  \n",
       " 8849                     1.0  \n",
       " 4707                     0.0  \n",
       " 136                      0.0  \n",
       " 6135                     0.0  \n",
       " 9199                     0.0  \n",
       " ...                      ...  \n",
       " 1099                     1.0  \n",
       " 8716                     1.0  \n",
       " 22                       0.0  \n",
       " 6019                     0.0  \n",
       " 5799                     0.0  \n",
       " \n",
       " [3001 rows x 9 columns],\n",
       " [],\n",
       " False,\n",
       " -1,\n",
       " 'class',\n",
       "       class   Topic_0   Topic_1   Topic_2   Topic_3 Dominant_Topic  \\\n",
       " 0         0  0.145600  0.085426  0.002188  0.766785        Topic 3   \n",
       " 1         0  0.250000  0.250000  0.250000  0.250000        Topic 0   \n",
       " 2         1  0.847066  0.047471  0.000815  0.104649        Topic 0   \n",
       " 3         1  0.052074  0.173432  0.476422  0.298071        Topic 2   \n",
       " 4         1  0.424667  0.450455  0.123204  0.001673        Topic 1   \n",
       " ...     ...       ...       ...       ...       ...            ...   \n",
       " 9995      0  0.001397  0.095166  0.504621  0.398817        Topic 2   \n",
       " 9996      0  0.692815  0.001555  0.001605  0.304025        Topic 0   \n",
       " 9997      0  0.001503  0.001497  0.497203  0.499796        Topic 3   \n",
       " 9998      1  0.002280  0.993180  0.002289  0.002250        Topic 1   \n",
       " 9999      1  0.446767  0.231503  0.299150  0.022580        Topic 0   \n",
       " \n",
       "       Perc_Dominant_Topic  \n",
       " 0                    0.77  \n",
       " 1                    0.25  \n",
       " 2                    0.85  \n",
       " 3                    0.48  \n",
       " 4                    0.45  \n",
       " ...                   ...  \n",
       " 9995                 0.50  \n",
       " 9996                 0.69  \n",
       " 9997                 0.50  \n",
       " 9998                 0.99  \n",
       " 9999                 0.45  \n",
       " \n",
       " [10000 rows x 7 columns],\n",
       "        Topic_0   Topic_1   Topic_2   Topic_3  Perc_Dominant_Topic  \\\n",
       " 7042  0.000942  0.289492  0.000938  0.708628                 0.71   \n",
       " 9893  0.023621  0.023296  0.023754  0.929330                 0.93   \n",
       " 7017  0.275825  0.031814  0.001029  0.691332                 0.69   \n",
       " 5342  0.208452  0.067191  0.460946  0.263411                 0.46   \n",
       " 9458  0.001753  0.001724  0.001701  0.994821                 0.99   \n",
       " ...        ...       ...       ...       ...                  ...   \n",
       " 3631  0.493961  0.045715  0.459161  0.001163                 0.49   \n",
       " 7312  0.001524  0.057779  0.001508  0.939189                 0.94   \n",
       " 721   0.004558  0.004429  0.131496  0.859517                 0.86   \n",
       " 8594  0.001491  0.262758  0.001551  0.734200                 0.73   \n",
       " 541   0.455325  0.418834  0.123841  0.002000                 0.46   \n",
       " \n",
       "       Dominant_Topic_Topic 0  Dominant_Topic_Topic 1  Dominant_Topic_Topic 2  \\\n",
       " 7042                     0.0                     0.0                     0.0   \n",
       " 9893                     0.0                     0.0                     0.0   \n",
       " 7017                     0.0                     0.0                     0.0   \n",
       " 5342                     0.0                     0.0                     1.0   \n",
       " 9458                     0.0                     0.0                     0.0   \n",
       " ...                      ...                     ...                     ...   \n",
       " 3631                     1.0                     0.0                     0.0   \n",
       " 7312                     0.0                     0.0                     0.0   \n",
       " 721                      0.0                     0.0                     0.0   \n",
       " 8594                     0.0                     0.0                     0.0   \n",
       " 541                      1.0                     0.0                     0.0   \n",
       " \n",
       "       Dominant_Topic_Topic 3  \n",
       " 7042                     1.0  \n",
       " 9893                     1.0  \n",
       " 7017                     1.0  \n",
       " 5342                     0.0  \n",
       " 9458                     1.0  \n",
       " ...                      ...  \n",
       " 3631                     0.0  \n",
       " 7312                     1.0  \n",
       " 721                      1.0  \n",
       " 8594                     1.0  \n",
       " 541                      0.0  \n",
       " \n",
       " [6999 rows x 9 columns],\n",
       " None,\n",
       " None,\n",
       " Pipeline(memory=None,\n",
       "          steps=[('dtypes',\n",
       "                  DataTypes_Auto_infer(categorical_features=[],\n",
       "                                       display_types=False, features_todrop=[],\n",
       "                                       id_columns=[],\n",
       "                                       ml_usecase='classification',\n",
       "                                       numerical_features=[], target='class',\n",
       "                                       time_features=[])),\n",
       "                 ('imputer',\n",
       "                  Simple_Imputer(categorical_strategy='not_available',\n",
       "                                 fill_value_categorical=None,\n",
       "                                 fill_value_numerical=None,\n",
       "                                 numeric_strat...\n",
       "                 ('scaling', 'passthrough'), ('P_transform', 'passthrough'),\n",
       "                 ('binn', 'passthrough'), ('rem_outliers', 'passthrough'),\n",
       "                 ('cluster_all', 'passthrough'),\n",
       "                 ('dummy', Dummify(target='class')),\n",
       "                 ('fix_perfect', Remove_100(target='class')),\n",
       "                 ('clean_names', Clean_Colum_Names()),\n",
       "                 ('feature_select', 'passthrough'), ('fix_multi', 'passthrough'),\n",
       "                 ('dfs', 'passthrough'), ('pca', 'passthrough')],\n",
       "          verbose=False),\n",
       " Pipeline(memory=None, steps=[('empty_step', 'passthrough')], verbose=False),\n",
       " 0       0\n",
       " 1       0\n",
       " 2       1\n",
       " 3       1\n",
       " 4       1\n",
       "        ..\n",
       " 9995    0\n",
       " 9996    0\n",
       " 9997    0\n",
       " 9998    1\n",
       " 9999    1\n",
       " Name: class, Length: 10000, dtype: int64,\n",
       " 'lightgbm',\n",
       " 5967,\n",
       " [<pandas.io.formats.style.Styler at 0x7f1a1998ee20>],\n",
       " 7042    0\n",
       " 9893    0\n",
       " 7017    0\n",
       " 5342    0\n",
       " 9458    0\n",
       "        ..\n",
       " 3631    1\n",
       " 7312    0\n",
       " 721     0\n",
       " 8594    0\n",
       " 541     1\n",
       " Name: class, Length: 6999, dtype: int64,\n",
       " [('Setup Config',\n",
       "                                  Description             Value\n",
       "   0                               session_id              5967\n",
       "   1                                   Target             class\n",
       "   2                              Target Type            Binary\n",
       "   3                            Label Encoded              None\n",
       "   4                            Original Data        (10000, 7)\n",
       "   5                           Missing Values             False\n",
       "   6                         Numeric Features                 5\n",
       "   7                     Categorical Features                 1\n",
       "   8                         Ordinal Features             False\n",
       "   9                High Cardinality Features             False\n",
       "   10                 High Cardinality Method              None\n",
       "   11                   Transformed Train Set         (6999, 9)\n",
       "   12                    Transformed Test Set         (3001, 9)\n",
       "   13                      Shuffle Train-Test              True\n",
       "   14                     Stratify Train-Test             False\n",
       "   15                          Fold Generator   StratifiedKFold\n",
       "   16                             Fold Number                10\n",
       "   17                                CPU Jobs                -1\n",
       "   18                                 Use GPU              True\n",
       "   19                          Log Experiment             False\n",
       "   20                         Experiment Name  clf-default-name\n",
       "   21                                     USI              9093\n",
       "   22                         Imputation Type            simple\n",
       "   23          Iterative Imputation Iteration              None\n",
       "   24                         Numeric Imputer              mean\n",
       "   25      Iterative Imputation Numeric Model              None\n",
       "   26                     Categorical Imputer          constant\n",
       "   27  Iterative Imputation Categorical Model              None\n",
       "   28           Unknown Categoricals Handling    least_frequent\n",
       "   29                               Normalize             False\n",
       "   30                        Normalize Method              None\n",
       "   31                          Transformation             False\n",
       "   32                   Transformation Method              None\n",
       "   33                                     PCA             False\n",
       "   34                              PCA Method              None\n",
       "   35                          PCA Components              None\n",
       "   36                     Ignore Low Variance             False\n",
       "   37                     Combine Rare Levels             False\n",
       "   38                    Rare Level Threshold              None\n",
       "   39                         Numeric Binning             False\n",
       "   40                         Remove Outliers             False\n",
       "   41                      Outliers Threshold              None\n",
       "   42                Remove Multicollinearity             False\n",
       "   43             Multicollinearity Threshold              None\n",
       "   44             Remove Perfect Collinearity              True\n",
       "   45                              Clustering             False\n",
       "   46                    Clustering Iteration              None\n",
       "   47                     Polynomial Features             False\n",
       "   48                       Polynomial Degree              None\n",
       "   49                    Trignometry Features             False\n",
       "   50                    Polynomial Threshold              None\n",
       "   51                          Group Features             False\n",
       "   52                       Feature Selection             False\n",
       "   53                Feature Selection Method           classic\n",
       "   54            Features Selection Threshold              None\n",
       "   55                     Feature Interaction             False\n",
       "   56                           Feature Ratio             False\n",
       "   57                   Interaction Threshold              None\n",
       "   58                           Fix Imbalance             False\n",
       "   59                    Fix Imbalance Method             SMOTE),\n",
       "  ('X_training Set',\n",
       "          Topic_0   Topic_1   Topic_2   Topic_3  Perc_Dominant_Topic  \\\n",
       "   7042  0.000942  0.289492  0.000938  0.708628                 0.71   \n",
       "   9893  0.023621  0.023296  0.023754  0.929330                 0.93   \n",
       "   7017  0.275825  0.031814  0.001029  0.691332                 0.69   \n",
       "   5342  0.208452  0.067191  0.460946  0.263411                 0.46   \n",
       "   9458  0.001753  0.001724  0.001701  0.994821                 0.99   \n",
       "   ...        ...       ...       ...       ...                  ...   \n",
       "   3631  0.493961  0.045715  0.459161  0.001163                 0.49   \n",
       "   7312  0.001524  0.057779  0.001508  0.939189                 0.94   \n",
       "   721   0.004558  0.004429  0.131496  0.859517                 0.86   \n",
       "   8594  0.001491  0.262758  0.001551  0.734200                 0.73   \n",
       "   541   0.455325  0.418834  0.123841  0.002000                 0.46   \n",
       "   \n",
       "         Dominant_Topic_Topic 0  Dominant_Topic_Topic 1  Dominant_Topic_Topic 2  \\\n",
       "   7042                     0.0                     0.0                     0.0   \n",
       "   9893                     0.0                     0.0                     0.0   \n",
       "   7017                     0.0                     0.0                     0.0   \n",
       "   5342                     0.0                     0.0                     1.0   \n",
       "   9458                     0.0                     0.0                     0.0   \n",
       "   ...                      ...                     ...                     ...   \n",
       "   3631                     1.0                     0.0                     0.0   \n",
       "   7312                     0.0                     0.0                     0.0   \n",
       "   721                      0.0                     0.0                     0.0   \n",
       "   8594                     0.0                     0.0                     0.0   \n",
       "   541                      1.0                     0.0                     0.0   \n",
       "   \n",
       "         Dominant_Topic_Topic 3  \n",
       "   7042                     1.0  \n",
       "   9893                     1.0  \n",
       "   7017                     1.0  \n",
       "   5342                     0.0  \n",
       "   9458                     1.0  \n",
       "   ...                      ...  \n",
       "   3631                     0.0  \n",
       "   7312                     1.0  \n",
       "   721                      1.0  \n",
       "   8594                     1.0  \n",
       "   541                      0.0  \n",
       "   \n",
       "   [6999 rows x 9 columns]),\n",
       "  ('y_training Set',\n",
       "   7042    0\n",
       "   9893    0\n",
       "   7017    0\n",
       "   5342    0\n",
       "   9458    0\n",
       "          ..\n",
       "   3631    1\n",
       "   7312    0\n",
       "   721     0\n",
       "   8594    0\n",
       "   541     1\n",
       "   Name: class, Length: 6999, dtype: int64),\n",
       "  ('X_test Set',\n",
       "          Topic_0   Topic_1   Topic_2   Topic_3  Perc_Dominant_Topic  \\\n",
       "   8849  0.012763  0.034846  0.443326  0.509065                 0.51   \n",
       "   4707  0.988774  0.003764  0.003720  0.003742                 0.99   \n",
       "   136   0.732552  0.009459  0.134694  0.123294                 0.73   \n",
       "   6135  0.166567  0.803008  0.001453  0.028971                 0.80   \n",
       "   9199  0.003001  0.092194  0.901796  0.003009                 0.90   \n",
       "   ...        ...       ...       ...       ...                  ...   \n",
       "   1099  0.002259  0.438355  0.002221  0.557166                 0.56   \n",
       "   8716  0.426645  0.001899  0.001874  0.569582                 0.57   \n",
       "   22    0.051275  0.943666  0.002507  0.002552                 0.94   \n",
       "   6019  0.909774  0.043657  0.045608  0.000962                 0.91   \n",
       "   5799  0.192544  0.804914  0.001257  0.001285                 0.80   \n",
       "   \n",
       "         Dominant_Topic_Topic 0  Dominant_Topic_Topic 1  Dominant_Topic_Topic 2  \\\n",
       "   8849                     0.0                     0.0                     0.0   \n",
       "   4707                     1.0                     0.0                     0.0   \n",
       "   136                      1.0                     0.0                     0.0   \n",
       "   6135                     0.0                     1.0                     0.0   \n",
       "   9199                     0.0                     0.0                     1.0   \n",
       "   ...                      ...                     ...                     ...   \n",
       "   1099                     0.0                     0.0                     0.0   \n",
       "   8716                     0.0                     0.0                     0.0   \n",
       "   22                       0.0                     1.0                     0.0   \n",
       "   6019                     1.0                     0.0                     0.0   \n",
       "   5799                     0.0                     1.0                     0.0   \n",
       "   \n",
       "         Dominant_Topic_Topic 3  \n",
       "   8849                     1.0  \n",
       "   4707                     0.0  \n",
       "   136                      0.0  \n",
       "   6135                     0.0  \n",
       "   9199                     0.0  \n",
       "   ...                      ...  \n",
       "   1099                     1.0  \n",
       "   8716                     1.0  \n",
       "   22                       0.0  \n",
       "   6019                     0.0  \n",
       "   5799                     0.0  \n",
       "   \n",
       "   [3001 rows x 9 columns]),\n",
       "  ('y_test Set',\n",
       "   8849    0\n",
       "   4707    1\n",
       "   136     1\n",
       "   6135    1\n",
       "   9199    1\n",
       "          ..\n",
       "   1099    1\n",
       "   8716    0\n",
       "   22      1\n",
       "   6019    1\n",
       "   5799    1\n",
       "   Name: class, Length: 3001, dtype: int64),\n",
       "  ('Transformation Pipeline',\n",
       "   Pipeline(memory=None,\n",
       "            steps=[('dtypes',\n",
       "                    DataTypes_Auto_infer(categorical_features=[],\n",
       "                                         display_types=False, features_todrop=[],\n",
       "                                         id_columns=[],\n",
       "                                         ml_usecase='classification',\n",
       "                                         numerical_features=[], target='class',\n",
       "                                         time_features=[])),\n",
       "                   ('imputer',\n",
       "                    Simple_Imputer(categorical_strategy='not_available',\n",
       "                                   fill_value_categorical=None,\n",
       "                                   fill_value_numerical=None,\n",
       "                                   numeric_strat...\n",
       "                   ('scaling', 'passthrough'), ('P_transform', 'passthrough'),\n",
       "                   ('binn', 'passthrough'), ('rem_outliers', 'passthrough'),\n",
       "                   ('cluster_all', 'passthrough'),\n",
       "                   ('dummy', Dummify(target='class')),\n",
       "                   ('fix_perfect', Remove_100(target='class')),\n",
       "                   ('clean_names', Clean_Colum_Names()),\n",
       "                   ('feature_select', 'passthrough'), ('fix_multi', 'passthrough'),\n",
       "                   ('dfs', 'passthrough'), ('pca', 'passthrough')],\n",
       "            verbose=False))],\n",
       " False,\n",
       " <MLUsecase.CLASSIFICATION: 1>,\n",
       " True,\n",
       " True,\n",
       " {'parameter': 'Hyperparameters',\n",
       "  'auc': 'AUC',\n",
       "  'confusion_matrix': 'Confusion Matrix',\n",
       "  'threshold': 'Threshold',\n",
       "  'pr': 'Precision Recall',\n",
       "  'error': 'Prediction Error',\n",
       "  'class_report': 'Class Report',\n",
       "  'rfe': 'Feature Selection',\n",
       "  'learning': 'Learning Curve',\n",
       "  'manifold': 'Manifold Learning',\n",
       "  'calibration': 'Calibration Curve',\n",
       "  'vc': 'Validation Curve',\n",
       "  'dimension': 'Dimensions',\n",
       "  'feature': 'Feature Importance',\n",
       "  'feature_all': 'Feature Importance (All)',\n",
       "  'boundary': 'Decision Boundary',\n",
       "  'lift': 'Lift Chart',\n",
       "  'gain': 'Gain Chart',\n",
       "  'tree': 'Decision Tree',\n",
       "  'ks': 'KS Statistic Plot'},\n",
       " StratifiedKFold(n_splits=10, random_state=None, shuffle=False),\n",
       " 5,\n",
       " 'clf-default-name',\n",
       " None,\n",
       " [],\n",
       " 8849    0\n",
       " 4707    1\n",
       " 136     1\n",
       " 6135    1\n",
       " 9199    1\n",
       "        ..\n",
       " 1099    1\n",
       " 8716    0\n",
       " 22      1\n",
       " 6019    1\n",
       " 5799    1\n",
       " Name: class, Length: 3001, dtype: int64,\n",
       " False)"
      ]
     },
     "execution_count": 21,
     "metadata": {},
     "output_type": "execute_result"
    }
   ],
   "source": [
    "from pycaret.classification import *\n",
    "\n",
    "%time\n",
    "setup(data=lda_df, target='class', silent = True, use_gpu = True)"
   ]
  },
  {
   "cell_type": "code",
   "execution_count": 22,
   "id": "f92e3b7e",
   "metadata": {
    "scrolled": true
   },
   "outputs": [
    {
     "data": {
      "text/html": [
       "<style type=\"text/css\">\n",
       "#T_69d02 th {\n",
       "  text-align: left;\n",
       "}\n",
       "#T_69d02_row0_col0, #T_69d02_row0_col3, #T_69d02_row0_col4, #T_69d02_row1_col0, #T_69d02_row1_col1, #T_69d02_row1_col2, #T_69d02_row1_col3, #T_69d02_row1_col5, #T_69d02_row1_col6, #T_69d02_row1_col7, #T_69d02_row2_col0, #T_69d02_row2_col1, #T_69d02_row2_col2, #T_69d02_row2_col3, #T_69d02_row2_col4, #T_69d02_row2_col5, #T_69d02_row2_col6, #T_69d02_row2_col7, #T_69d02_row3_col0, #T_69d02_row3_col1, #T_69d02_row3_col2, #T_69d02_row3_col3, #T_69d02_row3_col4, #T_69d02_row3_col5, #T_69d02_row3_col6, #T_69d02_row3_col7, #T_69d02_row4_col0, #T_69d02_row4_col1, #T_69d02_row4_col2, #T_69d02_row4_col3, #T_69d02_row4_col4, #T_69d02_row4_col5, #T_69d02_row4_col6, #T_69d02_row4_col7, #T_69d02_row5_col0, #T_69d02_row5_col1, #T_69d02_row5_col2, #T_69d02_row5_col3, #T_69d02_row5_col4, #T_69d02_row5_col5, #T_69d02_row5_col6, #T_69d02_row5_col7, #T_69d02_row6_col0, #T_69d02_row6_col1, #T_69d02_row6_col2, #T_69d02_row6_col3, #T_69d02_row6_col4, #T_69d02_row6_col5, #T_69d02_row6_col6, #T_69d02_row6_col7, #T_69d02_row7_col0, #T_69d02_row7_col1, #T_69d02_row7_col2, #T_69d02_row7_col3, #T_69d02_row7_col4, #T_69d02_row7_col5, #T_69d02_row7_col6, #T_69d02_row7_col7, #T_69d02_row8_col0, #T_69d02_row8_col1, #T_69d02_row8_col2, #T_69d02_row8_col3, #T_69d02_row8_col4, #T_69d02_row8_col5, #T_69d02_row8_col6, #T_69d02_row8_col7, #T_69d02_row9_col0, #T_69d02_row9_col1, #T_69d02_row9_col2, #T_69d02_row9_col3, #T_69d02_row9_col4, #T_69d02_row9_col5, #T_69d02_row9_col6, #T_69d02_row9_col7, #T_69d02_row10_col0, #T_69d02_row10_col1, #T_69d02_row10_col2, #T_69d02_row10_col3, #T_69d02_row10_col4, #T_69d02_row10_col5, #T_69d02_row10_col6, #T_69d02_row10_col7, #T_69d02_row11_col0, #T_69d02_row11_col1, #T_69d02_row11_col2, #T_69d02_row11_col4, #T_69d02_row11_col5, #T_69d02_row11_col6, #T_69d02_row11_col7, #T_69d02_row12_col0, #T_69d02_row12_col1, #T_69d02_row12_col2, #T_69d02_row12_col3, #T_69d02_row12_col4, #T_69d02_row12_col5, #T_69d02_row12_col6, #T_69d02_row12_col7, #T_69d02_row13_col0, #T_69d02_row13_col1, #T_69d02_row13_col2, #T_69d02_row13_col3, #T_69d02_row13_col4, #T_69d02_row13_col5, #T_69d02_row13_col6, #T_69d02_row13_col7 {\n",
       "  text-align: left;\n",
       "}\n",
       "#T_69d02_row0_col1, #T_69d02_row0_col2, #T_69d02_row0_col5, #T_69d02_row0_col6, #T_69d02_row0_col7, #T_69d02_row1_col4, #T_69d02_row11_col3 {\n",
       "  text-align: left;\n",
       "  background-color: yellow;\n",
       "}\n",
       "#T_69d02_row0_col8, #T_69d02_row1_col8, #T_69d02_row2_col8, #T_69d02_row3_col8, #T_69d02_row4_col8, #T_69d02_row5_col8, #T_69d02_row6_col8, #T_69d02_row7_col8, #T_69d02_row8_col8, #T_69d02_row9_col8, #T_69d02_row10_col8, #T_69d02_row11_col8, #T_69d02_row12_col8 {\n",
       "  text-align: left;\n",
       "  background-color: lightgrey;\n",
       "}\n",
       "#T_69d02_row13_col8 {\n",
       "  text-align: left;\n",
       "  background-color: yellow;\n",
       "  background-color: lightgrey;\n",
       "}\n",
       "</style>\n",
       "<table id=\"T_69d02\">\n",
       "  <thead>\n",
       "    <tr>\n",
       "      <th class=\"blank level0\" >&nbsp;</th>\n",
       "      <th id=\"T_69d02_level0_col0\" class=\"col_heading level0 col0\" >Model</th>\n",
       "      <th id=\"T_69d02_level0_col1\" class=\"col_heading level0 col1\" >Accuracy</th>\n",
       "      <th id=\"T_69d02_level0_col2\" class=\"col_heading level0 col2\" >AUC</th>\n",
       "      <th id=\"T_69d02_level0_col3\" class=\"col_heading level0 col3\" >Recall</th>\n",
       "      <th id=\"T_69d02_level0_col4\" class=\"col_heading level0 col4\" >Prec.</th>\n",
       "      <th id=\"T_69d02_level0_col5\" class=\"col_heading level0 col5\" >F1</th>\n",
       "      <th id=\"T_69d02_level0_col6\" class=\"col_heading level0 col6\" >Kappa</th>\n",
       "      <th id=\"T_69d02_level0_col7\" class=\"col_heading level0 col7\" >MCC</th>\n",
       "      <th id=\"T_69d02_level0_col8\" class=\"col_heading level0 col8\" >TT (Sec)</th>\n",
       "    </tr>\n",
       "  </thead>\n",
       "  <tbody>\n",
       "    <tr>\n",
       "      <th id=\"T_69d02_level0_row0\" class=\"row_heading level0 row0\" >gbc</th>\n",
       "      <td id=\"T_69d02_row0_col0\" class=\"data row0 col0\" >Gradient Boosting Classifier</td>\n",
       "      <td id=\"T_69d02_row0_col1\" class=\"data row0 col1\" >0.8711</td>\n",
       "      <td id=\"T_69d02_row0_col2\" class=\"data row0 col2\" >0.9429</td>\n",
       "      <td id=\"T_69d02_row0_col3\" class=\"data row0 col3\" >0.8596</td>\n",
       "      <td id=\"T_69d02_row0_col4\" class=\"data row0 col4\" >0.8706</td>\n",
       "      <td id=\"T_69d02_row0_col5\" class=\"data row0 col5\" >0.8650</td>\n",
       "      <td id=\"T_69d02_row0_col6\" class=\"data row0 col6\" >0.7417</td>\n",
       "      <td id=\"T_69d02_row0_col7\" class=\"data row0 col7\" >0.7420</td>\n",
       "      <td id=\"T_69d02_row0_col8\" class=\"data row0 col8\" >0.9510</td>\n",
       "    </tr>\n",
       "    <tr>\n",
       "      <th id=\"T_69d02_level0_row1\" class=\"row_heading level0 row1\" >rf</th>\n",
       "      <td id=\"T_69d02_row1_col0\" class=\"data row1 col0\" >Random Forest Classifier</td>\n",
       "      <td id=\"T_69d02_row1_col1\" class=\"data row1 col1\" >0.8696</td>\n",
       "      <td id=\"T_69d02_row1_col2\" class=\"data row1 col2\" >0.9380</td>\n",
       "      <td id=\"T_69d02_row1_col3\" class=\"data row1 col3\" >0.8513</td>\n",
       "      <td id=\"T_69d02_row1_col4\" class=\"data row1 col4\" >0.8742</td>\n",
       "      <td id=\"T_69d02_row1_col5\" class=\"data row1 col5\" >0.8625</td>\n",
       "      <td id=\"T_69d02_row1_col6\" class=\"data row1 col6\" >0.7384</td>\n",
       "      <td id=\"T_69d02_row1_col7\" class=\"data row1 col7\" >0.7389</td>\n",
       "      <td id=\"T_69d02_row1_col8\" class=\"data row1 col8\" >0.4520</td>\n",
       "    </tr>\n",
       "    <tr>\n",
       "      <th id=\"T_69d02_level0_row2\" class=\"row_heading level0 row2\" >ada</th>\n",
       "      <td id=\"T_69d02_row2_col0\" class=\"data row2 col0\" >Ada Boost Classifier</td>\n",
       "      <td id=\"T_69d02_row2_col1\" class=\"data row2 col1\" >0.8684</td>\n",
       "      <td id=\"T_69d02_row2_col2\" class=\"data row2 col2\" >0.9394</td>\n",
       "      <td id=\"T_69d02_row2_col3\" class=\"data row2 col3\" >0.8543</td>\n",
       "      <td id=\"T_69d02_row2_col4\" class=\"data row2 col4\" >0.8698</td>\n",
       "      <td id=\"T_69d02_row2_col5\" class=\"data row2 col5\" >0.8618</td>\n",
       "      <td id=\"T_69d02_row2_col6\" class=\"data row2 col6\" >0.7362</td>\n",
       "      <td id=\"T_69d02_row2_col7\" class=\"data row2 col7\" >0.7365</td>\n",
       "      <td id=\"T_69d02_row2_col8\" class=\"data row2 col8\" >0.3300</td>\n",
       "    </tr>\n",
       "    <tr>\n",
       "      <th id=\"T_69d02_level0_row3\" class=\"row_heading level0 row3\" >lightgbm</th>\n",
       "      <td id=\"T_69d02_row3_col0\" class=\"data row3 col0\" >Light Gradient Boosting Machine</td>\n",
       "      <td id=\"T_69d02_row3_col1\" class=\"data row3 col1\" >0.8680</td>\n",
       "      <td id=\"T_69d02_row3_col2\" class=\"data row3 col2\" >0.9422</td>\n",
       "      <td id=\"T_69d02_row3_col3\" class=\"data row3 col3\" >0.8522</td>\n",
       "      <td id=\"T_69d02_row3_col4\" class=\"data row3 col4\" >0.8704</td>\n",
       "      <td id=\"T_69d02_row3_col5\" class=\"data row3 col5\" >0.8611</td>\n",
       "      <td id=\"T_69d02_row3_col6\" class=\"data row3 col6\" >0.7353</td>\n",
       "      <td id=\"T_69d02_row3_col7\" class=\"data row3 col7\" >0.7357</td>\n",
       "      <td id=\"T_69d02_row3_col8\" class=\"data row3 col8\" >0.0690</td>\n",
       "    </tr>\n",
       "    <tr>\n",
       "      <th id=\"T_69d02_level0_row4\" class=\"row_heading level0 row4\" >svm</th>\n",
       "      <td id=\"T_69d02_row4_col0\" class=\"data row4 col0\" >SVM - Linear Kernel</td>\n",
       "      <td id=\"T_69d02_row4_col1\" class=\"data row4 col1\" >0.8653</td>\n",
       "      <td id=\"T_69d02_row4_col2\" class=\"data row4 col2\" >0.0000</td>\n",
       "      <td id=\"T_69d02_row4_col3\" class=\"data row4 col3\" >0.8567</td>\n",
       "      <td id=\"T_69d02_row4_col4\" class=\"data row4 col4\" >0.8626</td>\n",
       "      <td id=\"T_69d02_row4_col5\" class=\"data row4 col5\" >0.8594</td>\n",
       "      <td id=\"T_69d02_row4_col6\" class=\"data row4 col6\" >0.7301</td>\n",
       "      <td id=\"T_69d02_row4_col7\" class=\"data row4 col7\" >0.7304</td>\n",
       "      <td id=\"T_69d02_row4_col8\" class=\"data row4 col8\" >0.0280</td>\n",
       "    </tr>\n",
       "    <tr>\n",
       "      <th id=\"T_69d02_level0_row5\" class=\"row_heading level0 row5\" >lr</th>\n",
       "      <td id=\"T_69d02_row5_col0\" class=\"data row5 col0\" >Logistic Regression</td>\n",
       "      <td id=\"T_69d02_row5_col1\" class=\"data row5 col1\" >0.8638</td>\n",
       "      <td id=\"T_69d02_row5_col2\" class=\"data row5 col2\" >0.9356</td>\n",
       "      <td id=\"T_69d02_row5_col3\" class=\"data row5 col3\" >0.8561</td>\n",
       "      <td id=\"T_69d02_row5_col4\" class=\"data row5 col4\" >0.8601</td>\n",
       "      <td id=\"T_69d02_row5_col5\" class=\"data row5 col5\" >0.8579</td>\n",
       "      <td id=\"T_69d02_row5_col6\" class=\"data row5 col6\" >0.7272</td>\n",
       "      <td id=\"T_69d02_row5_col7\" class=\"data row5 col7\" >0.7274</td>\n",
       "      <td id=\"T_69d02_row5_col8\" class=\"data row5 col8\" >0.0510</td>\n",
       "    </tr>\n",
       "    <tr>\n",
       "      <th id=\"T_69d02_level0_row6\" class=\"row_heading level0 row6\" >ridge</th>\n",
       "      <td id=\"T_69d02_row6_col0\" class=\"data row6 col0\" >Ridge Classifier</td>\n",
       "      <td id=\"T_69d02_row6_col1\" class=\"data row6 col1\" >0.8616</td>\n",
       "      <td id=\"T_69d02_row6_col2\" class=\"data row6 col2\" >0.0000</td>\n",
       "      <td id=\"T_69d02_row6_col3\" class=\"data row6 col3\" >0.8576</td>\n",
       "      <td id=\"T_69d02_row6_col4\" class=\"data row6 col4\" >0.8550</td>\n",
       "      <td id=\"T_69d02_row6_col5\" class=\"data row6 col5\" >0.8561</td>\n",
       "      <td id=\"T_69d02_row6_col6\" class=\"data row6 col6\" >0.7227</td>\n",
       "      <td id=\"T_69d02_row6_col7\" class=\"data row6 col7\" >0.7229</td>\n",
       "      <td id=\"T_69d02_row6_col8\" class=\"data row6 col8\" >0.0140</td>\n",
       "    </tr>\n",
       "    <tr>\n",
       "      <th id=\"T_69d02_level0_row7\" class=\"row_heading level0 row7\" >lda</th>\n",
       "      <td id=\"T_69d02_row7_col0\" class=\"data row7 col0\" >Linear Discriminant Analysis</td>\n",
       "      <td id=\"T_69d02_row7_col1\" class=\"data row7 col1\" >0.8616</td>\n",
       "      <td id=\"T_69d02_row7_col2\" class=\"data row7 col2\" >0.9344</td>\n",
       "      <td id=\"T_69d02_row7_col3\" class=\"data row7 col3\" >0.8576</td>\n",
       "      <td id=\"T_69d02_row7_col4\" class=\"data row7 col4\" >0.8550</td>\n",
       "      <td id=\"T_69d02_row7_col5\" class=\"data row7 col5\" >0.8561</td>\n",
       "      <td id=\"T_69d02_row7_col6\" class=\"data row7 col6\" >0.7227</td>\n",
       "      <td id=\"T_69d02_row7_col7\" class=\"data row7 col7\" >0.7229</td>\n",
       "      <td id=\"T_69d02_row7_col8\" class=\"data row7 col8\" >0.0190</td>\n",
       "    </tr>\n",
       "    <tr>\n",
       "      <th id=\"T_69d02_level0_row8\" class=\"row_heading level0 row8\" >et</th>\n",
       "      <td id=\"T_69d02_row8_col0\" class=\"data row8 col0\" >Extra Trees Classifier</td>\n",
       "      <td id=\"T_69d02_row8_col1\" class=\"data row8 col1\" >0.8580</td>\n",
       "      <td id=\"T_69d02_row8_col2\" class=\"data row8 col2\" >0.9328</td>\n",
       "      <td id=\"T_69d02_row8_col3\" class=\"data row8 col3\" >0.8433</td>\n",
       "      <td id=\"T_69d02_row8_col4\" class=\"data row8 col4\" >0.8589</td>\n",
       "      <td id=\"T_69d02_row8_col5\" class=\"data row8 col5\" >0.8509</td>\n",
       "      <td id=\"T_69d02_row8_col6\" class=\"data row8 col6\" >0.7153</td>\n",
       "      <td id=\"T_69d02_row8_col7\" class=\"data row8 col7\" >0.7157</td>\n",
       "      <td id=\"T_69d02_row8_col8\" class=\"data row8 col8\" >0.4250</td>\n",
       "    </tr>\n",
       "    <tr>\n",
       "      <th id=\"T_69d02_level0_row9\" class=\"row_heading level0 row9\" >knn</th>\n",
       "      <td id=\"T_69d02_row9_col0\" class=\"data row9 col0\" >K Neighbors Classifier</td>\n",
       "      <td id=\"T_69d02_row9_col1\" class=\"data row9 col1\" >0.8553</td>\n",
       "      <td id=\"T_69d02_row9_col2\" class=\"data row9 col2\" >0.9159</td>\n",
       "      <td id=\"T_69d02_row9_col3\" class=\"data row9 col3\" >0.8463</td>\n",
       "      <td id=\"T_69d02_row9_col4\" class=\"data row9 col4\" >0.8518</td>\n",
       "      <td id=\"T_69d02_row9_col5\" class=\"data row9 col5\" >0.8489</td>\n",
       "      <td id=\"T_69d02_row9_col6\" class=\"data row9 col6\" >0.7100</td>\n",
       "      <td id=\"T_69d02_row9_col7\" class=\"data row9 col7\" >0.7102</td>\n",
       "      <td id=\"T_69d02_row9_col8\" class=\"data row9 col8\" >0.0720</td>\n",
       "    </tr>\n",
       "    <tr>\n",
       "      <th id=\"T_69d02_level0_row10\" class=\"row_heading level0 row10\" >dt</th>\n",
       "      <td id=\"T_69d02_row10_col0\" class=\"data row10 col0\" >Decision Tree Classifier</td>\n",
       "      <td id=\"T_69d02_row10_col1\" class=\"data row10 col1\" >0.8263</td>\n",
       "      <td id=\"T_69d02_row10_col2\" class=\"data row10 col2\" >0.8257</td>\n",
       "      <td id=\"T_69d02_row10_col3\" class=\"data row10 col3\" >0.8109</td>\n",
       "      <td id=\"T_69d02_row10_col4\" class=\"data row10 col4\" >0.8246</td>\n",
       "      <td id=\"T_69d02_row10_col5\" class=\"data row10 col5\" >0.8176</td>\n",
       "      <td id=\"T_69d02_row10_col6\" class=\"data row10 col6\" >0.6518</td>\n",
       "      <td id=\"T_69d02_row10_col7\" class=\"data row10 col7\" >0.6519</td>\n",
       "      <td id=\"T_69d02_row10_col8\" class=\"data row10 col8\" >0.0430</td>\n",
       "    </tr>\n",
       "    <tr>\n",
       "      <th id=\"T_69d02_level0_row11\" class=\"row_heading level0 row11\" >nb</th>\n",
       "      <td id=\"T_69d02_row11_col0\" class=\"data row11 col0\" >Naive Bayes</td>\n",
       "      <td id=\"T_69d02_row11_col1\" class=\"data row11 col1\" >0.8218</td>\n",
       "      <td id=\"T_69d02_row11_col2\" class=\"data row11 col2\" >0.9122</td>\n",
       "      <td id=\"T_69d02_row11_col3\" class=\"data row11 col3\" >0.9224</td>\n",
       "      <td id=\"T_69d02_row11_col4\" class=\"data row11 col4\" >0.7589</td>\n",
       "      <td id=\"T_69d02_row11_col5\" class=\"data row11 col5\" >0.8327</td>\n",
       "      <td id=\"T_69d02_row11_col6\" class=\"data row11 col6\" >0.6460</td>\n",
       "      <td id=\"T_69d02_row11_col7\" class=\"data row11 col7\" >0.6602</td>\n",
       "      <td id=\"T_69d02_row11_col8\" class=\"data row11 col8\" >0.0120</td>\n",
       "    </tr>\n",
       "    <tr>\n",
       "      <th id=\"T_69d02_level0_row12\" class=\"row_heading level0 row12\" >qda</th>\n",
       "      <td id=\"T_69d02_row12_col0\" class=\"data row12 col0\" >Quadratic Discriminant Analysis</td>\n",
       "      <td id=\"T_69d02_row12_col1\" class=\"data row12 col1\" >0.6084</td>\n",
       "      <td id=\"T_69d02_row12_col2\" class=\"data row12 col2\" >0.6645</td>\n",
       "      <td id=\"T_69d02_row12_col3\" class=\"data row12 col3\" >0.4670</td>\n",
       "      <td id=\"T_69d02_row12_col4\" class=\"data row12 col4\" >0.5189</td>\n",
       "      <td id=\"T_69d02_row12_col5\" class=\"data row12 col5\" >0.4629</td>\n",
       "      <td id=\"T_69d02_row12_col6\" class=\"data row12 col6\" >0.2067</td>\n",
       "      <td id=\"T_69d02_row12_col7\" class=\"data row12 col7\" >0.2147</td>\n",
       "      <td id=\"T_69d02_row12_col8\" class=\"data row12 col8\" >0.0160</td>\n",
       "    </tr>\n",
       "    <tr>\n",
       "      <th id=\"T_69d02_level0_row13\" class=\"row_heading level0 row13\" >dummy</th>\n",
       "      <td id=\"T_69d02_row13_col0\" class=\"data row13 col0\" >Dummy Classifier</td>\n",
       "      <td id=\"T_69d02_row13_col1\" class=\"data row13 col1\" >0.5195</td>\n",
       "      <td id=\"T_69d02_row13_col2\" class=\"data row13 col2\" >0.5000</td>\n",
       "      <td id=\"T_69d02_row13_col3\" class=\"data row13 col3\" >0.0000</td>\n",
       "      <td id=\"T_69d02_row13_col4\" class=\"data row13 col4\" >0.0000</td>\n",
       "      <td id=\"T_69d02_row13_col5\" class=\"data row13 col5\" >0.0000</td>\n",
       "      <td id=\"T_69d02_row13_col6\" class=\"data row13 col6\" >0.0000</td>\n",
       "      <td id=\"T_69d02_row13_col7\" class=\"data row13 col7\" >0.0000</td>\n",
       "      <td id=\"T_69d02_row13_col8\" class=\"data row13 col8\" >0.0090</td>\n",
       "    </tr>\n",
       "  </tbody>\n",
       "</table>\n"
      ],
      "text/plain": [
       "<pandas.io.formats.style.Styler at 0x7f1a1826ca00>"
      ]
     },
     "metadata": {},
     "output_type": "display_data"
    }
   ],
   "source": [
    "%time\n",
    "\n",
    "top5Models = compare_models(sort= 'Accuracy', n_select = 16)"
   ]
  },
  {
   "cell_type": "markdown",
   "id": "2657edda",
   "metadata": {},
   "source": [
    "Using pycaret's compare_model function we are easily able to observe how accurate different models are with the data frame we set up in the cell above and see different metrics each of the models have. We can use this to observe the results vs having to train different models in separate lines."
   ]
  },
  {
   "cell_type": "code",
   "execution_count": 23,
   "id": "28c44ee8",
   "metadata": {},
   "outputs": [
    {
     "data": {
      "text/html": [
       "<style type=\"text/css\">\n",
       "</style>\n",
       "<table id=\"T_7e399\">\n",
       "  <thead>\n",
       "    <tr>\n",
       "      <th class=\"blank level0\" >&nbsp;</th>\n",
       "      <th id=\"T_7e399_level0_col0\" class=\"col_heading level0 col0\" >Model</th>\n",
       "      <th id=\"T_7e399_level0_col1\" class=\"col_heading level0 col1\" >Accuracy</th>\n",
       "      <th id=\"T_7e399_level0_col2\" class=\"col_heading level0 col2\" >AUC</th>\n",
       "      <th id=\"T_7e399_level0_col3\" class=\"col_heading level0 col3\" >Recall</th>\n",
       "      <th id=\"T_7e399_level0_col4\" class=\"col_heading level0 col4\" >Prec.</th>\n",
       "      <th id=\"T_7e399_level0_col5\" class=\"col_heading level0 col5\" >F1</th>\n",
       "      <th id=\"T_7e399_level0_col6\" class=\"col_heading level0 col6\" >Kappa</th>\n",
       "      <th id=\"T_7e399_level0_col7\" class=\"col_heading level0 col7\" >MCC</th>\n",
       "    </tr>\n",
       "  </thead>\n",
       "  <tbody>\n",
       "    <tr>\n",
       "      <th id=\"T_7e399_level0_row0\" class=\"row_heading level0 row0\" >0</th>\n",
       "      <td id=\"T_7e399_row0_col0\" class=\"data row0 col0\" >Gradient Boosting Classifier</td>\n",
       "      <td id=\"T_7e399_row0_col1\" class=\"data row0 col1\" >0.8832</td>\n",
       "      <td id=\"T_7e399_row0_col2\" class=\"data row0 col2\" >0.9515</td>\n",
       "      <td id=\"T_7e399_row0_col3\" class=\"data row0 col3\" >0.8718</td>\n",
       "      <td id=\"T_7e399_row0_col4\" class=\"data row0 col4\" >0.8818</td>\n",
       "      <td id=\"T_7e399_row0_col5\" class=\"data row0 col5\" >0.8768</td>\n",
       "      <td id=\"T_7e399_row0_col6\" class=\"data row0 col6\" >0.7658</td>\n",
       "      <td id=\"T_7e399_row0_col7\" class=\"data row0 col7\" >0.7658</td>\n",
       "    </tr>\n",
       "  </tbody>\n",
       "</table>\n"
      ],
      "text/plain": [
       "<pandas.io.formats.style.Styler at 0x7f1a66776520>"
      ]
     },
     "metadata": {},
     "output_type": "display_data"
    },
    {
     "data": {
      "text/html": [
       "<div>\n",
       "<style scoped>\n",
       "    .dataframe tbody tr th:only-of-type {\n",
       "        vertical-align: middle;\n",
       "    }\n",
       "\n",
       "    .dataframe tbody tr th {\n",
       "        vertical-align: top;\n",
       "    }\n",
       "\n",
       "    .dataframe thead th {\n",
       "        text-align: right;\n",
       "    }\n",
       "</style>\n",
       "<table border=\"1\" class=\"dataframe\">\n",
       "  <thead>\n",
       "    <tr style=\"text-align: right;\">\n",
       "      <th></th>\n",
       "      <th>class</th>\n",
       "      <th>Topic_0</th>\n",
       "      <th>Topic_1</th>\n",
       "      <th>Topic_2</th>\n",
       "      <th>Topic_3</th>\n",
       "      <th>Dominant_Topic</th>\n",
       "      <th>Perc_Dominant_Topic</th>\n",
       "      <th>Label</th>\n",
       "      <th>Score</th>\n",
       "    </tr>\n",
       "  </thead>\n",
       "  <tbody>\n",
       "    <tr>\n",
       "      <th>0</th>\n",
       "      <td>0</td>\n",
       "      <td>0.145600</td>\n",
       "      <td>0.085426</td>\n",
       "      <td>0.002188</td>\n",
       "      <td>0.766785</td>\n",
       "      <td>Topic 3</td>\n",
       "      <td>0.77</td>\n",
       "      <td>0</td>\n",
       "      <td>0.8933</td>\n",
       "    </tr>\n",
       "    <tr>\n",
       "      <th>1</th>\n",
       "      <td>0</td>\n",
       "      <td>0.250000</td>\n",
       "      <td>0.250000</td>\n",
       "      <td>0.250000</td>\n",
       "      <td>0.250000</td>\n",
       "      <td>Topic 0</td>\n",
       "      <td>0.25</td>\n",
       "      <td>0</td>\n",
       "      <td>0.9602</td>\n",
       "    </tr>\n",
       "    <tr>\n",
       "      <th>2</th>\n",
       "      <td>1</td>\n",
       "      <td>0.847066</td>\n",
       "      <td>0.047471</td>\n",
       "      <td>0.000815</td>\n",
       "      <td>0.104649</td>\n",
       "      <td>Topic 0</td>\n",
       "      <td>0.85</td>\n",
       "      <td>1</td>\n",
       "      <td>0.9082</td>\n",
       "    </tr>\n",
       "    <tr>\n",
       "      <th>3</th>\n",
       "      <td>1</td>\n",
       "      <td>0.052074</td>\n",
       "      <td>0.173432</td>\n",
       "      <td>0.476422</td>\n",
       "      <td>0.298071</td>\n",
       "      <td>Topic 2</td>\n",
       "      <td>0.48</td>\n",
       "      <td>0</td>\n",
       "      <td>0.7835</td>\n",
       "    </tr>\n",
       "    <tr>\n",
       "      <th>4</th>\n",
       "      <td>1</td>\n",
       "      <td>0.424667</td>\n",
       "      <td>0.450455</td>\n",
       "      <td>0.123204</td>\n",
       "      <td>0.001673</td>\n",
       "      <td>Topic 1</td>\n",
       "      <td>0.45</td>\n",
       "      <td>1</td>\n",
       "      <td>0.9662</td>\n",
       "    </tr>\n",
       "    <tr>\n",
       "      <th>...</th>\n",
       "      <td>...</td>\n",
       "      <td>...</td>\n",
       "      <td>...</td>\n",
       "      <td>...</td>\n",
       "      <td>...</td>\n",
       "      <td>...</td>\n",
       "      <td>...</td>\n",
       "      <td>...</td>\n",
       "      <td>...</td>\n",
       "    </tr>\n",
       "    <tr>\n",
       "      <th>9995</th>\n",
       "      <td>0</td>\n",
       "      <td>0.001397</td>\n",
       "      <td>0.095166</td>\n",
       "      <td>0.504621</td>\n",
       "      <td>0.398817</td>\n",
       "      <td>Topic 2</td>\n",
       "      <td>0.50</td>\n",
       "      <td>0</td>\n",
       "      <td>0.9307</td>\n",
       "    </tr>\n",
       "    <tr>\n",
       "      <th>9996</th>\n",
       "      <td>0</td>\n",
       "      <td>0.692815</td>\n",
       "      <td>0.001555</td>\n",
       "      <td>0.001605</td>\n",
       "      <td>0.304025</td>\n",
       "      <td>Topic 0</td>\n",
       "      <td>0.69</td>\n",
       "      <td>0</td>\n",
       "      <td>0.5765</td>\n",
       "    </tr>\n",
       "    <tr>\n",
       "      <th>9997</th>\n",
       "      <td>0</td>\n",
       "      <td>0.001503</td>\n",
       "      <td>0.001497</td>\n",
       "      <td>0.497203</td>\n",
       "      <td>0.499796</td>\n",
       "      <td>Topic 3</td>\n",
       "      <td>0.50</td>\n",
       "      <td>0</td>\n",
       "      <td>0.9414</td>\n",
       "    </tr>\n",
       "    <tr>\n",
       "      <th>9998</th>\n",
       "      <td>1</td>\n",
       "      <td>0.002280</td>\n",
       "      <td>0.993180</td>\n",
       "      <td>0.002289</td>\n",
       "      <td>0.002250</td>\n",
       "      <td>Topic 1</td>\n",
       "      <td>0.99</td>\n",
       "      <td>1</td>\n",
       "      <td>0.9676</td>\n",
       "    </tr>\n",
       "    <tr>\n",
       "      <th>9999</th>\n",
       "      <td>1</td>\n",
       "      <td>0.446767</td>\n",
       "      <td>0.231503</td>\n",
       "      <td>0.299150</td>\n",
       "      <td>0.022580</td>\n",
       "      <td>Topic 0</td>\n",
       "      <td>0.45</td>\n",
       "      <td>1</td>\n",
       "      <td>0.9153</td>\n",
       "    </tr>\n",
       "  </tbody>\n",
       "</table>\n",
       "<p>10000 rows × 9 columns</p>\n",
       "</div>"
      ],
      "text/plain": [
       "      class   Topic_0   Topic_1   Topic_2   Topic_3 Dominant_Topic  \\\n",
       "0         0  0.145600  0.085426  0.002188  0.766785        Topic 3   \n",
       "1         0  0.250000  0.250000  0.250000  0.250000        Topic 0   \n",
       "2         1  0.847066  0.047471  0.000815  0.104649        Topic 0   \n",
       "3         1  0.052074  0.173432  0.476422  0.298071        Topic 2   \n",
       "4         1  0.424667  0.450455  0.123204  0.001673        Topic 1   \n",
       "...     ...       ...       ...       ...       ...            ...   \n",
       "9995      0  0.001397  0.095166  0.504621  0.398817        Topic 2   \n",
       "9996      0  0.692815  0.001555  0.001605  0.304025        Topic 0   \n",
       "9997      0  0.001503  0.001497  0.497203  0.499796        Topic 3   \n",
       "9998      1  0.002280  0.993180  0.002289  0.002250        Topic 1   \n",
       "9999      1  0.446767  0.231503  0.299150  0.022580        Topic 0   \n",
       "\n",
       "      Perc_Dominant_Topic  Label   Score  \n",
       "0                    0.77      0  0.8933  \n",
       "1                    0.25      0  0.9602  \n",
       "2                    0.85      1  0.9082  \n",
       "3                    0.48      0  0.7835  \n",
       "4                    0.45      1  0.9662  \n",
       "...                   ...    ...     ...  \n",
       "9995                 0.50      0  0.9307  \n",
       "9996                 0.69      0  0.5765  \n",
       "9997                 0.50      0  0.9414  \n",
       "9998                 0.99      1  0.9676  \n",
       "9999                 0.45      1  0.9153  \n",
       "\n",
       "[10000 rows x 9 columns]"
      ]
     },
     "execution_count": 23,
     "metadata": {},
     "output_type": "execute_result"
    }
   ],
   "source": [
    "predict_model(top5Models[0],data=lda_df)"
   ]
  },
  {
   "cell_type": "code",
   "execution_count": 24,
   "id": "9a3ecf83",
   "metadata": {},
   "outputs": [
    {
     "data": {
      "text/html": [
       "<style type=\"text/css\">\n",
       "</style>\n",
       "<table id=\"T_b65e5\">\n",
       "  <thead>\n",
       "    <tr>\n",
       "      <th class=\"blank level0\" >&nbsp;</th>\n",
       "      <th id=\"T_b65e5_level0_col0\" class=\"col_heading level0 col0\" >Model</th>\n",
       "      <th id=\"T_b65e5_level0_col1\" class=\"col_heading level0 col1\" >Accuracy</th>\n",
       "      <th id=\"T_b65e5_level0_col2\" class=\"col_heading level0 col2\" >AUC</th>\n",
       "      <th id=\"T_b65e5_level0_col3\" class=\"col_heading level0 col3\" >Recall</th>\n",
       "      <th id=\"T_b65e5_level0_col4\" class=\"col_heading level0 col4\" >Prec.</th>\n",
       "      <th id=\"T_b65e5_level0_col5\" class=\"col_heading level0 col5\" >F1</th>\n",
       "      <th id=\"T_b65e5_level0_col6\" class=\"col_heading level0 col6\" >Kappa</th>\n",
       "      <th id=\"T_b65e5_level0_col7\" class=\"col_heading level0 col7\" >MCC</th>\n",
       "    </tr>\n",
       "  </thead>\n",
       "  <tbody>\n",
       "    <tr>\n",
       "      <th id=\"T_b65e5_level0_row0\" class=\"row_heading level0 row0\" >0</th>\n",
       "      <td id=\"T_b65e5_row0_col0\" class=\"data row0 col0\" >Logistic Regression</td>\n",
       "      <td id=\"T_b65e5_row0_col1\" class=\"data row0 col1\" >0.8650</td>\n",
       "      <td id=\"T_b65e5_row0_col2\" class=\"data row0 col2\" >0.9348</td>\n",
       "      <td id=\"T_b65e5_row0_col3\" class=\"data row0 col3\" >0.8646</td>\n",
       "      <td id=\"T_b65e5_row0_col4\" class=\"data row0 col4\" >0.8494</td>\n",
       "      <td id=\"T_b65e5_row0_col5\" class=\"data row0 col5\" >0.8569</td>\n",
       "      <td id=\"T_b65e5_row0_col6\" class=\"data row0 col6\" >0.7292</td>\n",
       "      <td id=\"T_b65e5_row0_col7\" class=\"data row0 col7\" >0.7293</td>\n",
       "    </tr>\n",
       "  </tbody>\n",
       "</table>\n"
      ],
      "text/plain": [
       "<pandas.io.formats.style.Styler at 0x7f1a667f8fa0>"
      ]
     },
     "metadata": {},
     "output_type": "display_data"
    },
    {
     "data": {
      "text/html": [
       "<div>\n",
       "<style scoped>\n",
       "    .dataframe tbody tr th:only-of-type {\n",
       "        vertical-align: middle;\n",
       "    }\n",
       "\n",
       "    .dataframe tbody tr th {\n",
       "        vertical-align: top;\n",
       "    }\n",
       "\n",
       "    .dataframe thead th {\n",
       "        text-align: right;\n",
       "    }\n",
       "</style>\n",
       "<table border=\"1\" class=\"dataframe\">\n",
       "  <thead>\n",
       "    <tr style=\"text-align: right;\">\n",
       "      <th></th>\n",
       "      <th>Topic_0</th>\n",
       "      <th>Topic_1</th>\n",
       "      <th>Topic_2</th>\n",
       "      <th>Topic_3</th>\n",
       "      <th>Perc_Dominant_Topic</th>\n",
       "      <th>Dominant_Topic_Topic 0</th>\n",
       "      <th>Dominant_Topic_Topic 1</th>\n",
       "      <th>Dominant_Topic_Topic 2</th>\n",
       "      <th>Dominant_Topic_Topic 3</th>\n",
       "      <th>class</th>\n",
       "      <th>Label</th>\n",
       "      <th>Score</th>\n",
       "    </tr>\n",
       "  </thead>\n",
       "  <tbody>\n",
       "    <tr>\n",
       "      <th>0</th>\n",
       "      <td>0.012763</td>\n",
       "      <td>0.034846</td>\n",
       "      <td>0.443326</td>\n",
       "      <td>0.509065</td>\n",
       "      <td>0.51</td>\n",
       "      <td>0.0</td>\n",
       "      <td>0.0</td>\n",
       "      <td>0.0</td>\n",
       "      <td>1.0</td>\n",
       "      <td>0</td>\n",
       "      <td>0</td>\n",
       "      <td>0.9125</td>\n",
       "    </tr>\n",
       "    <tr>\n",
       "      <th>1</th>\n",
       "      <td>0.988774</td>\n",
       "      <td>0.003764</td>\n",
       "      <td>0.003720</td>\n",
       "      <td>0.003742</td>\n",
       "      <td>0.99</td>\n",
       "      <td>1.0</td>\n",
       "      <td>0.0</td>\n",
       "      <td>0.0</td>\n",
       "      <td>0.0</td>\n",
       "      <td>1</td>\n",
       "      <td>1</td>\n",
       "      <td>0.9903</td>\n",
       "    </tr>\n",
       "    <tr>\n",
       "      <th>2</th>\n",
       "      <td>0.732552</td>\n",
       "      <td>0.009459</td>\n",
       "      <td>0.134694</td>\n",
       "      <td>0.123294</td>\n",
       "      <td>0.73</td>\n",
       "      <td>1.0</td>\n",
       "      <td>0.0</td>\n",
       "      <td>0.0</td>\n",
       "      <td>0.0</td>\n",
       "      <td>1</td>\n",
       "      <td>1</td>\n",
       "      <td>0.9018</td>\n",
       "    </tr>\n",
       "    <tr>\n",
       "      <th>3</th>\n",
       "      <td>0.166567</td>\n",
       "      <td>0.803008</td>\n",
       "      <td>0.001453</td>\n",
       "      <td>0.028971</td>\n",
       "      <td>0.80</td>\n",
       "      <td>0.0</td>\n",
       "      <td>1.0</td>\n",
       "      <td>0.0</td>\n",
       "      <td>0.0</td>\n",
       "      <td>1</td>\n",
       "      <td>1</td>\n",
       "      <td>0.9242</td>\n",
       "    </tr>\n",
       "    <tr>\n",
       "      <th>4</th>\n",
       "      <td>0.003001</td>\n",
       "      <td>0.092194</td>\n",
       "      <td>0.901796</td>\n",
       "      <td>0.003009</td>\n",
       "      <td>0.90</td>\n",
       "      <td>0.0</td>\n",
       "      <td>0.0</td>\n",
       "      <td>1.0</td>\n",
       "      <td>0.0</td>\n",
       "      <td>1</td>\n",
       "      <td>1</td>\n",
       "      <td>0.7224</td>\n",
       "    </tr>\n",
       "    <tr>\n",
       "      <th>...</th>\n",
       "      <td>...</td>\n",
       "      <td>...</td>\n",
       "      <td>...</td>\n",
       "      <td>...</td>\n",
       "      <td>...</td>\n",
       "      <td>...</td>\n",
       "      <td>...</td>\n",
       "      <td>...</td>\n",
       "      <td>...</td>\n",
       "      <td>...</td>\n",
       "      <td>...</td>\n",
       "      <td>...</td>\n",
       "    </tr>\n",
       "    <tr>\n",
       "      <th>2996</th>\n",
       "      <td>0.002259</td>\n",
       "      <td>0.438355</td>\n",
       "      <td>0.002221</td>\n",
       "      <td>0.557166</td>\n",
       "      <td>0.56</td>\n",
       "      <td>0.0</td>\n",
       "      <td>0.0</td>\n",
       "      <td>0.0</td>\n",
       "      <td>1.0</td>\n",
       "      <td>1</td>\n",
       "      <td>0</td>\n",
       "      <td>0.8404</td>\n",
       "    </tr>\n",
       "    <tr>\n",
       "      <th>2997</th>\n",
       "      <td>0.426645</td>\n",
       "      <td>0.001899</td>\n",
       "      <td>0.001874</td>\n",
       "      <td>0.569582</td>\n",
       "      <td>0.57</td>\n",
       "      <td>0.0</td>\n",
       "      <td>0.0</td>\n",
       "      <td>0.0</td>\n",
       "      <td>1.0</td>\n",
       "      <td>0</td>\n",
       "      <td>0</td>\n",
       "      <td>0.6813</td>\n",
       "    </tr>\n",
       "    <tr>\n",
       "      <th>2998</th>\n",
       "      <td>0.051275</td>\n",
       "      <td>0.943666</td>\n",
       "      <td>0.002507</td>\n",
       "      <td>0.002552</td>\n",
       "      <td>0.94</td>\n",
       "      <td>0.0</td>\n",
       "      <td>1.0</td>\n",
       "      <td>0.0</td>\n",
       "      <td>0.0</td>\n",
       "      <td>1</td>\n",
       "      <td>1</td>\n",
       "      <td>0.9401</td>\n",
       "    </tr>\n",
       "    <tr>\n",
       "      <th>2999</th>\n",
       "      <td>0.909774</td>\n",
       "      <td>0.043657</td>\n",
       "      <td>0.045608</td>\n",
       "      <td>0.000962</td>\n",
       "      <td>0.91</td>\n",
       "      <td>1.0</td>\n",
       "      <td>0.0</td>\n",
       "      <td>0.0</td>\n",
       "      <td>0.0</td>\n",
       "      <td>1</td>\n",
       "      <td>1</td>\n",
       "      <td>0.9852</td>\n",
       "    </tr>\n",
       "    <tr>\n",
       "      <th>3000</th>\n",
       "      <td>0.192544</td>\n",
       "      <td>0.804914</td>\n",
       "      <td>0.001257</td>\n",
       "      <td>0.001285</td>\n",
       "      <td>0.80</td>\n",
       "      <td>0.0</td>\n",
       "      <td>1.0</td>\n",
       "      <td>0.0</td>\n",
       "      <td>0.0</td>\n",
       "      <td>1</td>\n",
       "      <td>1</td>\n",
       "      <td>0.9417</td>\n",
       "    </tr>\n",
       "  </tbody>\n",
       "</table>\n",
       "<p>3001 rows × 12 columns</p>\n",
       "</div>"
      ],
      "text/plain": [
       "       Topic_0   Topic_1   Topic_2   Topic_3  Perc_Dominant_Topic  \\\n",
       "0     0.012763  0.034846  0.443326  0.509065                 0.51   \n",
       "1     0.988774  0.003764  0.003720  0.003742                 0.99   \n",
       "2     0.732552  0.009459  0.134694  0.123294                 0.73   \n",
       "3     0.166567  0.803008  0.001453  0.028971                 0.80   \n",
       "4     0.003001  0.092194  0.901796  0.003009                 0.90   \n",
       "...        ...       ...       ...       ...                  ...   \n",
       "2996  0.002259  0.438355  0.002221  0.557166                 0.56   \n",
       "2997  0.426645  0.001899  0.001874  0.569582                 0.57   \n",
       "2998  0.051275  0.943666  0.002507  0.002552                 0.94   \n",
       "2999  0.909774  0.043657  0.045608  0.000962                 0.91   \n",
       "3000  0.192544  0.804914  0.001257  0.001285                 0.80   \n",
       "\n",
       "      Dominant_Topic_Topic 0  Dominant_Topic_Topic 1  Dominant_Topic_Topic 2  \\\n",
       "0                        0.0                     0.0                     0.0   \n",
       "1                        1.0                     0.0                     0.0   \n",
       "2                        1.0                     0.0                     0.0   \n",
       "3                        0.0                     1.0                     0.0   \n",
       "4                        0.0                     0.0                     1.0   \n",
       "...                      ...                     ...                     ...   \n",
       "2996                     0.0                     0.0                     0.0   \n",
       "2997                     0.0                     0.0                     0.0   \n",
       "2998                     0.0                     1.0                     0.0   \n",
       "2999                     1.0                     0.0                     0.0   \n",
       "3000                     0.0                     1.0                     0.0   \n",
       "\n",
       "      Dominant_Topic_Topic 3  class  Label   Score  \n",
       "0                        1.0      0      0  0.9125  \n",
       "1                        0.0      1      1  0.9903  \n",
       "2                        0.0      1      1  0.9018  \n",
       "3                        0.0      1      1  0.9242  \n",
       "4                        0.0      1      1  0.7224  \n",
       "...                      ...    ...    ...     ...  \n",
       "2996                     1.0      1      0  0.8404  \n",
       "2997                     1.0      0      0  0.6813  \n",
       "2998                     0.0      1      1  0.9401  \n",
       "2999                     0.0      1      1  0.9852  \n",
       "3000                     0.0      1      1  0.9417  \n",
       "\n",
       "[3001 rows x 12 columns]"
      ]
     },
     "execution_count": 24,
     "metadata": {},
     "output_type": "execute_result"
    }
   ],
   "source": [
    "predict_model(top5Models[5])"
   ]
  },
  {
   "cell_type": "code",
   "execution_count": 25,
   "id": "5fc7cb29",
   "metadata": {},
   "outputs": [
    {
     "data": {
      "text/html": [
       "<style type=\"text/css\">\n",
       "</style>\n",
       "<table id=\"T_7583d\">\n",
       "  <thead>\n",
       "    <tr>\n",
       "      <th class=\"blank level0\" >&nbsp;</th>\n",
       "      <th id=\"T_7583d_level0_col0\" class=\"col_heading level0 col0\" >Model</th>\n",
       "      <th id=\"T_7583d_level0_col1\" class=\"col_heading level0 col1\" >Accuracy</th>\n",
       "      <th id=\"T_7583d_level0_col2\" class=\"col_heading level0 col2\" >AUC</th>\n",
       "      <th id=\"T_7583d_level0_col3\" class=\"col_heading level0 col3\" >Recall</th>\n",
       "      <th id=\"T_7583d_level0_col4\" class=\"col_heading level0 col4\" >Prec.</th>\n",
       "      <th id=\"T_7583d_level0_col5\" class=\"col_heading level0 col5\" >F1</th>\n",
       "      <th id=\"T_7583d_level0_col6\" class=\"col_heading level0 col6\" >Kappa</th>\n",
       "      <th id=\"T_7583d_level0_col7\" class=\"col_heading level0 col7\" >MCC</th>\n",
       "    </tr>\n",
       "  </thead>\n",
       "  <tbody>\n",
       "    <tr>\n",
       "      <th id=\"T_7583d_level0_row0\" class=\"row_heading level0 row0\" >0</th>\n",
       "      <td id=\"T_7583d_row0_col0\" class=\"data row0 col0\" >Ridge Classifier</td>\n",
       "      <td id=\"T_7583d_row0_col1\" class=\"data row0 col1\" >0.8577</td>\n",
       "      <td id=\"T_7583d_row0_col2\" class=\"data row0 col2\" >0.8580</td>\n",
       "      <td id=\"T_7583d_row0_col3\" class=\"data row0 col3\" >0.8617</td>\n",
       "      <td id=\"T_7583d_row0_col4\" class=\"data row0 col4\" >0.8384</td>\n",
       "      <td id=\"T_7583d_row0_col5\" class=\"data row0 col5\" >0.8499</td>\n",
       "      <td id=\"T_7583d_row0_col6\" class=\"data row0 col6\" >0.7147</td>\n",
       "      <td id=\"T_7583d_row0_col7\" class=\"data row0 col7\" >0.7149</td>\n",
       "    </tr>\n",
       "  </tbody>\n",
       "</table>\n"
      ],
      "text/plain": [
       "<pandas.io.formats.style.Styler at 0x7f1b0efbfd30>"
      ]
     },
     "metadata": {},
     "output_type": "display_data"
    },
    {
     "data": {
      "text/html": [
       "<div>\n",
       "<style scoped>\n",
       "    .dataframe tbody tr th:only-of-type {\n",
       "        vertical-align: middle;\n",
       "    }\n",
       "\n",
       "    .dataframe tbody tr th {\n",
       "        vertical-align: top;\n",
       "    }\n",
       "\n",
       "    .dataframe thead th {\n",
       "        text-align: right;\n",
       "    }\n",
       "</style>\n",
       "<table border=\"1\" class=\"dataframe\">\n",
       "  <thead>\n",
       "    <tr style=\"text-align: right;\">\n",
       "      <th></th>\n",
       "      <th>Topic_0</th>\n",
       "      <th>Topic_1</th>\n",
       "      <th>Topic_2</th>\n",
       "      <th>Topic_3</th>\n",
       "      <th>Perc_Dominant_Topic</th>\n",
       "      <th>Dominant_Topic_Topic 0</th>\n",
       "      <th>Dominant_Topic_Topic 1</th>\n",
       "      <th>Dominant_Topic_Topic 2</th>\n",
       "      <th>Dominant_Topic_Topic 3</th>\n",
       "      <th>class</th>\n",
       "      <th>Label</th>\n",
       "    </tr>\n",
       "  </thead>\n",
       "  <tbody>\n",
       "    <tr>\n",
       "      <th>0</th>\n",
       "      <td>0.012763</td>\n",
       "      <td>0.034846</td>\n",
       "      <td>0.443326</td>\n",
       "      <td>0.509065</td>\n",
       "      <td>0.51</td>\n",
       "      <td>0.0</td>\n",
       "      <td>0.0</td>\n",
       "      <td>0.0</td>\n",
       "      <td>1.0</td>\n",
       "      <td>0</td>\n",
       "      <td>0</td>\n",
       "    </tr>\n",
       "    <tr>\n",
       "      <th>1</th>\n",
       "      <td>0.988774</td>\n",
       "      <td>0.003764</td>\n",
       "      <td>0.003720</td>\n",
       "      <td>0.003742</td>\n",
       "      <td>0.99</td>\n",
       "      <td>1.0</td>\n",
       "      <td>0.0</td>\n",
       "      <td>0.0</td>\n",
       "      <td>0.0</td>\n",
       "      <td>1</td>\n",
       "      <td>1</td>\n",
       "    </tr>\n",
       "    <tr>\n",
       "      <th>2</th>\n",
       "      <td>0.732552</td>\n",
       "      <td>0.009459</td>\n",
       "      <td>0.134694</td>\n",
       "      <td>0.123294</td>\n",
       "      <td>0.73</td>\n",
       "      <td>1.0</td>\n",
       "      <td>0.0</td>\n",
       "      <td>0.0</td>\n",
       "      <td>0.0</td>\n",
       "      <td>1</td>\n",
       "      <td>1</td>\n",
       "    </tr>\n",
       "    <tr>\n",
       "      <th>3</th>\n",
       "      <td>0.166567</td>\n",
       "      <td>0.803008</td>\n",
       "      <td>0.001453</td>\n",
       "      <td>0.028971</td>\n",
       "      <td>0.80</td>\n",
       "      <td>0.0</td>\n",
       "      <td>1.0</td>\n",
       "      <td>0.0</td>\n",
       "      <td>0.0</td>\n",
       "      <td>1</td>\n",
       "      <td>1</td>\n",
       "    </tr>\n",
       "    <tr>\n",
       "      <th>4</th>\n",
       "      <td>0.003001</td>\n",
       "      <td>0.092194</td>\n",
       "      <td>0.901796</td>\n",
       "      <td>0.003009</td>\n",
       "      <td>0.90</td>\n",
       "      <td>0.0</td>\n",
       "      <td>0.0</td>\n",
       "      <td>1.0</td>\n",
       "      <td>0.0</td>\n",
       "      <td>1</td>\n",
       "      <td>1</td>\n",
       "    </tr>\n",
       "    <tr>\n",
       "      <th>...</th>\n",
       "      <td>...</td>\n",
       "      <td>...</td>\n",
       "      <td>...</td>\n",
       "      <td>...</td>\n",
       "      <td>...</td>\n",
       "      <td>...</td>\n",
       "      <td>...</td>\n",
       "      <td>...</td>\n",
       "      <td>...</td>\n",
       "      <td>...</td>\n",
       "      <td>...</td>\n",
       "    </tr>\n",
       "    <tr>\n",
       "      <th>2996</th>\n",
       "      <td>0.002259</td>\n",
       "      <td>0.438355</td>\n",
       "      <td>0.002221</td>\n",
       "      <td>0.557166</td>\n",
       "      <td>0.56</td>\n",
       "      <td>0.0</td>\n",
       "      <td>0.0</td>\n",
       "      <td>0.0</td>\n",
       "      <td>1.0</td>\n",
       "      <td>1</td>\n",
       "      <td>0</td>\n",
       "    </tr>\n",
       "    <tr>\n",
       "      <th>2997</th>\n",
       "      <td>0.426645</td>\n",
       "      <td>0.001899</td>\n",
       "      <td>0.001874</td>\n",
       "      <td>0.569582</td>\n",
       "      <td>0.57</td>\n",
       "      <td>0.0</td>\n",
       "      <td>0.0</td>\n",
       "      <td>0.0</td>\n",
       "      <td>1.0</td>\n",
       "      <td>0</td>\n",
       "      <td>0</td>\n",
       "    </tr>\n",
       "    <tr>\n",
       "      <th>2998</th>\n",
       "      <td>0.051275</td>\n",
       "      <td>0.943666</td>\n",
       "      <td>0.002507</td>\n",
       "      <td>0.002552</td>\n",
       "      <td>0.94</td>\n",
       "      <td>0.0</td>\n",
       "      <td>1.0</td>\n",
       "      <td>0.0</td>\n",
       "      <td>0.0</td>\n",
       "      <td>1</td>\n",
       "      <td>1</td>\n",
       "    </tr>\n",
       "    <tr>\n",
       "      <th>2999</th>\n",
       "      <td>0.909774</td>\n",
       "      <td>0.043657</td>\n",
       "      <td>0.045608</td>\n",
       "      <td>0.000962</td>\n",
       "      <td>0.91</td>\n",
       "      <td>1.0</td>\n",
       "      <td>0.0</td>\n",
       "      <td>0.0</td>\n",
       "      <td>0.0</td>\n",
       "      <td>1</td>\n",
       "      <td>1</td>\n",
       "    </tr>\n",
       "    <tr>\n",
       "      <th>3000</th>\n",
       "      <td>0.192544</td>\n",
       "      <td>0.804914</td>\n",
       "      <td>0.001257</td>\n",
       "      <td>0.001285</td>\n",
       "      <td>0.80</td>\n",
       "      <td>0.0</td>\n",
       "      <td>1.0</td>\n",
       "      <td>0.0</td>\n",
       "      <td>0.0</td>\n",
       "      <td>1</td>\n",
       "      <td>1</td>\n",
       "    </tr>\n",
       "  </tbody>\n",
       "</table>\n",
       "<p>3001 rows × 11 columns</p>\n",
       "</div>"
      ],
      "text/plain": [
       "       Topic_0   Topic_1   Topic_2   Topic_3  Perc_Dominant_Topic  \\\n",
       "0     0.012763  0.034846  0.443326  0.509065                 0.51   \n",
       "1     0.988774  0.003764  0.003720  0.003742                 0.99   \n",
       "2     0.732552  0.009459  0.134694  0.123294                 0.73   \n",
       "3     0.166567  0.803008  0.001453  0.028971                 0.80   \n",
       "4     0.003001  0.092194  0.901796  0.003009                 0.90   \n",
       "...        ...       ...       ...       ...                  ...   \n",
       "2996  0.002259  0.438355  0.002221  0.557166                 0.56   \n",
       "2997  0.426645  0.001899  0.001874  0.569582                 0.57   \n",
       "2998  0.051275  0.943666  0.002507  0.002552                 0.94   \n",
       "2999  0.909774  0.043657  0.045608  0.000962                 0.91   \n",
       "3000  0.192544  0.804914  0.001257  0.001285                 0.80   \n",
       "\n",
       "      Dominant_Topic_Topic 0  Dominant_Topic_Topic 1  Dominant_Topic_Topic 2  \\\n",
       "0                        0.0                     0.0                     0.0   \n",
       "1                        1.0                     0.0                     0.0   \n",
       "2                        1.0                     0.0                     0.0   \n",
       "3                        0.0                     1.0                     0.0   \n",
       "4                        0.0                     0.0                     1.0   \n",
       "...                      ...                     ...                     ...   \n",
       "2996                     0.0                     0.0                     0.0   \n",
       "2997                     0.0                     0.0                     0.0   \n",
       "2998                     0.0                     1.0                     0.0   \n",
       "2999                     1.0                     0.0                     0.0   \n",
       "3000                     0.0                     1.0                     0.0   \n",
       "\n",
       "      Dominant_Topic_Topic 3  class  Label  \n",
       "0                        1.0      0      0  \n",
       "1                        0.0      1      1  \n",
       "2                        0.0      1      1  \n",
       "3                        0.0      1      1  \n",
       "4                        0.0      1      1  \n",
       "...                      ...    ...    ...  \n",
       "2996                     1.0      1      0  \n",
       "2997                     1.0      0      0  \n",
       "2998                     0.0      1      1  \n",
       "2999                     0.0      1      1  \n",
       "3000                     0.0      1      1  \n",
       "\n",
       "[3001 rows x 11 columns]"
      ]
     },
     "execution_count": 25,
     "metadata": {},
     "output_type": "execute_result"
    }
   ],
   "source": [
    "predict_model(top5Models[6])"
   ]
  },
  {
   "cell_type": "code",
   "execution_count": 26,
   "id": "d5472141",
   "metadata": {},
   "outputs": [
    {
     "data": {
      "text/html": [
       "<style type=\"text/css\">\n",
       "#T_86689 th {\n",
       "  text-align: left;\n",
       "}\n",
       "#T_86689_row0_col0, #T_86689_row0_col3, #T_86689_row1_col0, #T_86689_row1_col1, #T_86689_row1_col2, #T_86689_row1_col3, #T_86689_row1_col4, #T_86689_row1_col5, #T_86689_row1_col6, #T_86689_row1_col7, #T_86689_row2_col0, #T_86689_row2_col1, #T_86689_row2_col2, #T_86689_row2_col3, #T_86689_row2_col4, #T_86689_row2_col5, #T_86689_row2_col6, #T_86689_row2_col7, #T_86689_row3_col0, #T_86689_row3_col1, #T_86689_row3_col2, #T_86689_row3_col3, #T_86689_row3_col4, #T_86689_row3_col5, #T_86689_row3_col6, #T_86689_row3_col7, #T_86689_row4_col0, #T_86689_row4_col1, #T_86689_row4_col2, #T_86689_row4_col4, #T_86689_row4_col5, #T_86689_row4_col6, #T_86689_row4_col7, #T_86689_row5_col0, #T_86689_row5_col1, #T_86689_row5_col2, #T_86689_row5_col3, #T_86689_row5_col4, #T_86689_row5_col5, #T_86689_row5_col6, #T_86689_row5_col7 {\n",
       "  text-align: left;\n",
       "}\n",
       "#T_86689_row0_col1, #T_86689_row0_col2, #T_86689_row0_col4, #T_86689_row0_col5, #T_86689_row0_col6, #T_86689_row0_col7, #T_86689_row4_col3 {\n",
       "  text-align: left;\n",
       "  background-color: yellow;\n",
       "}\n",
       "#T_86689_row0_col8, #T_86689_row1_col8, #T_86689_row2_col8, #T_86689_row3_col8, #T_86689_row4_col8 {\n",
       "  text-align: left;\n",
       "  background-color: lightgrey;\n",
       "}\n",
       "#T_86689_row5_col8 {\n",
       "  text-align: left;\n",
       "  background-color: yellow;\n",
       "  background-color: lightgrey;\n",
       "}\n",
       "</style>\n",
       "<table id=\"T_86689\">\n",
       "  <thead>\n",
       "    <tr>\n",
       "      <th class=\"blank level0\" >&nbsp;</th>\n",
       "      <th id=\"T_86689_level0_col0\" class=\"col_heading level0 col0\" >Model</th>\n",
       "      <th id=\"T_86689_level0_col1\" class=\"col_heading level0 col1\" >Accuracy</th>\n",
       "      <th id=\"T_86689_level0_col2\" class=\"col_heading level0 col2\" >AUC</th>\n",
       "      <th id=\"T_86689_level0_col3\" class=\"col_heading level0 col3\" >Recall</th>\n",
       "      <th id=\"T_86689_level0_col4\" class=\"col_heading level0 col4\" >Prec.</th>\n",
       "      <th id=\"T_86689_level0_col5\" class=\"col_heading level0 col5\" >F1</th>\n",
       "      <th id=\"T_86689_level0_col6\" class=\"col_heading level0 col6\" >Kappa</th>\n",
       "      <th id=\"T_86689_level0_col7\" class=\"col_heading level0 col7\" >MCC</th>\n",
       "      <th id=\"T_86689_level0_col8\" class=\"col_heading level0 col8\" >TT (Sec)</th>\n",
       "    </tr>\n",
       "  </thead>\n",
       "  <tbody>\n",
       "    <tr>\n",
       "      <th id=\"T_86689_level0_row0\" class=\"row_heading level0 row0\" >rf</th>\n",
       "      <td id=\"T_86689_row0_col0\" class=\"data row0 col0\" >Random Forest Classifier</td>\n",
       "      <td id=\"T_86689_row0_col1\" class=\"data row0 col1\" >0.8696</td>\n",
       "      <td id=\"T_86689_row0_col2\" class=\"data row0 col2\" >0.9380</td>\n",
       "      <td id=\"T_86689_row0_col3\" class=\"data row0 col3\" >0.8513</td>\n",
       "      <td id=\"T_86689_row0_col4\" class=\"data row0 col4\" >0.8742</td>\n",
       "      <td id=\"T_86689_row0_col5\" class=\"data row0 col5\" >0.8625</td>\n",
       "      <td id=\"T_86689_row0_col6\" class=\"data row0 col6\" >0.7384</td>\n",
       "      <td id=\"T_86689_row0_col7\" class=\"data row0 col7\" >0.7389</td>\n",
       "      <td id=\"T_86689_row0_col8\" class=\"data row0 col8\" >0.4500</td>\n",
       "    </tr>\n",
       "    <tr>\n",
       "      <th id=\"T_86689_level0_row1\" class=\"row_heading level0 row1\" >lr</th>\n",
       "      <td id=\"T_86689_row1_col0\" class=\"data row1 col0\" >Logistic Regression</td>\n",
       "      <td id=\"T_86689_row1_col1\" class=\"data row1 col1\" >0.8638</td>\n",
       "      <td id=\"T_86689_row1_col2\" class=\"data row1 col2\" >0.9356</td>\n",
       "      <td id=\"T_86689_row1_col3\" class=\"data row1 col3\" >0.8561</td>\n",
       "      <td id=\"T_86689_row1_col4\" class=\"data row1 col4\" >0.8601</td>\n",
       "      <td id=\"T_86689_row1_col5\" class=\"data row1 col5\" >0.8579</td>\n",
       "      <td id=\"T_86689_row1_col6\" class=\"data row1 col6\" >0.7272</td>\n",
       "      <td id=\"T_86689_row1_col7\" class=\"data row1 col7\" >0.7274</td>\n",
       "      <td id=\"T_86689_row1_col8\" class=\"data row1 col8\" >0.0430</td>\n",
       "    </tr>\n",
       "    <tr>\n",
       "      <th id=\"T_86689_level0_row2\" class=\"row_heading level0 row2\" >knn</th>\n",
       "      <td id=\"T_86689_row2_col0\" class=\"data row2 col0\" >K Neighbors Classifier</td>\n",
       "      <td id=\"T_86689_row2_col1\" class=\"data row2 col1\" >0.8553</td>\n",
       "      <td id=\"T_86689_row2_col2\" class=\"data row2 col2\" >0.9159</td>\n",
       "      <td id=\"T_86689_row2_col3\" class=\"data row2 col3\" >0.8463</td>\n",
       "      <td id=\"T_86689_row2_col4\" class=\"data row2 col4\" >0.8518</td>\n",
       "      <td id=\"T_86689_row2_col5\" class=\"data row2 col5\" >0.8489</td>\n",
       "      <td id=\"T_86689_row2_col6\" class=\"data row2 col6\" >0.7100</td>\n",
       "      <td id=\"T_86689_row2_col7\" class=\"data row2 col7\" >0.7102</td>\n",
       "      <td id=\"T_86689_row2_col8\" class=\"data row2 col8\" >0.0720</td>\n",
       "    </tr>\n",
       "    <tr>\n",
       "      <th id=\"T_86689_level0_row3\" class=\"row_heading level0 row3\" >dt</th>\n",
       "      <td id=\"T_86689_row3_col0\" class=\"data row3 col0\" >Decision Tree Classifier</td>\n",
       "      <td id=\"T_86689_row3_col1\" class=\"data row3 col1\" >0.8263</td>\n",
       "      <td id=\"T_86689_row3_col2\" class=\"data row3 col2\" >0.8257</td>\n",
       "      <td id=\"T_86689_row3_col3\" class=\"data row3 col3\" >0.8109</td>\n",
       "      <td id=\"T_86689_row3_col4\" class=\"data row3 col4\" >0.8246</td>\n",
       "      <td id=\"T_86689_row3_col5\" class=\"data row3 col5\" >0.8176</td>\n",
       "      <td id=\"T_86689_row3_col6\" class=\"data row3 col6\" >0.6518</td>\n",
       "      <td id=\"T_86689_row3_col7\" class=\"data row3 col7\" >0.6519</td>\n",
       "      <td id=\"T_86689_row3_col8\" class=\"data row3 col8\" >0.0420</td>\n",
       "    </tr>\n",
       "    <tr>\n",
       "      <th id=\"T_86689_level0_row4\" class=\"row_heading level0 row4\" >nb</th>\n",
       "      <td id=\"T_86689_row4_col0\" class=\"data row4 col0\" >Naive Bayes</td>\n",
       "      <td id=\"T_86689_row4_col1\" class=\"data row4 col1\" >0.8218</td>\n",
       "      <td id=\"T_86689_row4_col2\" class=\"data row4 col2\" >0.9122</td>\n",
       "      <td id=\"T_86689_row4_col3\" class=\"data row4 col3\" >0.9224</td>\n",
       "      <td id=\"T_86689_row4_col4\" class=\"data row4 col4\" >0.7589</td>\n",
       "      <td id=\"T_86689_row4_col5\" class=\"data row4 col5\" >0.8327</td>\n",
       "      <td id=\"T_86689_row4_col6\" class=\"data row4 col6\" >0.6460</td>\n",
       "      <td id=\"T_86689_row4_col7\" class=\"data row4 col7\" >0.6602</td>\n",
       "      <td id=\"T_86689_row4_col8\" class=\"data row4 col8\" >0.0120</td>\n",
       "    </tr>\n",
       "    <tr>\n",
       "      <th id=\"T_86689_level0_row5\" class=\"row_heading level0 row5\" >dummy</th>\n",
       "      <td id=\"T_86689_row5_col0\" class=\"data row5 col0\" >Dummy Classifier</td>\n",
       "      <td id=\"T_86689_row5_col1\" class=\"data row5 col1\" >0.5195</td>\n",
       "      <td id=\"T_86689_row5_col2\" class=\"data row5 col2\" >0.5000</td>\n",
       "      <td id=\"T_86689_row5_col3\" class=\"data row5 col3\" >0.0000</td>\n",
       "      <td id=\"T_86689_row5_col4\" class=\"data row5 col4\" >0.0000</td>\n",
       "      <td id=\"T_86689_row5_col5\" class=\"data row5 col5\" >0.0000</td>\n",
       "      <td id=\"T_86689_row5_col6\" class=\"data row5 col6\" >0.0000</td>\n",
       "      <td id=\"T_86689_row5_col7\" class=\"data row5 col7\" >0.0000</td>\n",
       "      <td id=\"T_86689_row5_col8\" class=\"data row5 col8\" >0.0090</td>\n",
       "    </tr>\n",
       "  </tbody>\n",
       "</table>\n"
      ],
      "text/plain": [
       "<pandas.io.formats.style.Styler at 0x7f1a18279f70>"
      ]
     },
     "metadata": {},
     "output_type": "display_data"
    },
    {
     "name": "stderr",
     "output_type": "stream",
     "text": [
      "/home/chris/anaconda3/envs/freshEnv/lib/python3.8/site-packages/past/builtins/misc.py:45: DeprecationWarning: the imp module is deprecated in favour of importlib; see the module's documentation for alternative uses\n",
      "  from imp import reload\n",
      "/home/chris/anaconda3/envs/freshEnv/lib/python3.8/site-packages/joblib/backports.py:36: DeprecationWarning: distutils Version classes are deprecated. Use packaging.version instead.\n",
      "  if LooseVersion(np.__version__) < '1.13':\n",
      "/home/chris/anaconda3/envs/freshEnv/lib/python3.8/site-packages/setuptools/_distutils/version.py:351: DeprecationWarning: distutils Version classes are deprecated. Use packaging.version instead.\n",
      "  other = LooseVersion(other)\n",
      "/home/chris/anaconda3/envs/freshEnv/lib/python3.8/site-packages/joblib/backports.py:36: DeprecationWarning: distutils Version classes are deprecated. Use packaging.version instead.\n",
      "  if LooseVersion(np.__version__) < '1.13':\n",
      "/home/chris/anaconda3/envs/freshEnv/lib/python3.8/site-packages/setuptools/_distutils/version.py:351: DeprecationWarning: distutils Version classes are deprecated. Use packaging.version instead.\n",
      "  other = LooseVersion(other)\n",
      "/home/chris/anaconda3/envs/freshEnv/lib/python3.8/site-packages/joblib/backports.py:36: DeprecationWarning: distutils Version classes are deprecated. Use packaging.version instead.\n",
      "  if LooseVersion(np.__version__) < '1.13':\n",
      "/home/chris/anaconda3/envs/freshEnv/lib/python3.8/site-packages/setuptools/_distutils/version.py:351: DeprecationWarning: distutils Version classes are deprecated. Use packaging.version instead.\n",
      "  other = LooseVersion(other)\n",
      "/home/chris/anaconda3/envs/freshEnv/lib/python3.8/site-packages/joblib/backports.py:36: DeprecationWarning: distutils Version classes are deprecated. Use packaging.version instead.\n",
      "  if LooseVersion(np.__version__) < '1.13':\n",
      "/home/chris/anaconda3/envs/freshEnv/lib/python3.8/site-packages/setuptools/_distutils/version.py:351: DeprecationWarning: distutils Version classes are deprecated. Use packaging.version instead.\n",
      "  other = LooseVersion(other)\n",
      "/home/chris/anaconda3/envs/freshEnv/lib/python3.8/site-packages/past/builtins/misc.py:45: DeprecationWarning: the imp module is deprecated in favour of importlib; see the module's documentation for alternative uses\n",
      "  from imp import reload\n",
      "/home/chris/anaconda3/envs/freshEnv/lib/python3.8/site-packages/joblib/backports.py:36: DeprecationWarning: distutils Version classes are deprecated. Use packaging.version instead.\n",
      "  if LooseVersion(np.__version__) < '1.13':\n",
      "/home/chris/anaconda3/envs/freshEnv/lib/python3.8/site-packages/setuptools/_distutils/version.py:351: DeprecationWarning: distutils Version classes are deprecated. Use packaging.version instead.\n",
      "  other = LooseVersion(other)\n",
      "/home/chris/anaconda3/envs/freshEnv/lib/python3.8/site-packages/joblib/backports.py:36: DeprecationWarning: distutils Version classes are deprecated. Use packaging.version instead.\n",
      "  if LooseVersion(np.__version__) < '1.13':\n",
      "/home/chris/anaconda3/envs/freshEnv/lib/python3.8/site-packages/setuptools/_distutils/version.py:351: DeprecationWarning: distutils Version classes are deprecated. Use packaging.version instead.\n",
      "  other = LooseVersion(other)\n",
      "/home/chris/anaconda3/envs/freshEnv/lib/python3.8/site-packages/joblib/backports.py:36: DeprecationWarning: distutils Version classes are deprecated. Use packaging.version instead.\n",
      "  if LooseVersion(np.__version__) < '1.13':\n",
      "/home/chris/anaconda3/envs/freshEnv/lib/python3.8/site-packages/setuptools/_distutils/version.py:351: DeprecationWarning: distutils Version classes are deprecated. Use packaging.version instead.\n",
      "  other = LooseVersion(other)\n",
      "/home/chris/anaconda3/envs/freshEnv/lib/python3.8/site-packages/joblib/backports.py:36: DeprecationWarning: distutils Version classes are deprecated. Use packaging.version instead.\n",
      "  if LooseVersion(np.__version__) < '1.13':\n",
      "/home/chris/anaconda3/envs/freshEnv/lib/python3.8/site-packages/setuptools/_distutils/version.py:351: DeprecationWarning: distutils Version classes are deprecated. Use packaging.version instead.\n",
      "  other = LooseVersion(other)\n",
      "/home/chris/anaconda3/envs/freshEnv/lib/python3.8/site-packages/past/builtins/misc.py:45: DeprecationWarning: the imp module is deprecated in favour of importlib; see the module's documentation for alternative uses\n",
      "  from imp import reload\n",
      "/home/chris/anaconda3/envs/freshEnv/lib/python3.8/site-packages/joblib/backports.py:36: DeprecationWarning: distutils Version classes are deprecated. Use packaging.version instead.\n",
      "  if LooseVersion(np.__version__) < '1.13':\n",
      "/home/chris/anaconda3/envs/freshEnv/lib/python3.8/site-packages/setuptools/_distutils/version.py:351: DeprecationWarning: distutils Version classes are deprecated. Use packaging.version instead.\n",
      "  other = LooseVersion(other)\n",
      "/home/chris/anaconda3/envs/freshEnv/lib/python3.8/site-packages/joblib/backports.py:36: DeprecationWarning: distutils Version classes are deprecated. Use packaging.version instead.\n",
      "  if LooseVersion(np.__version__) < '1.13':\n",
      "/home/chris/anaconda3/envs/freshEnv/lib/python3.8/site-packages/setuptools/_distutils/version.py:351: DeprecationWarning: distutils Version classes are deprecated. Use packaging.version instead.\n",
      "  other = LooseVersion(other)\n",
      "/home/chris/anaconda3/envs/freshEnv/lib/python3.8/site-packages/past/builtins/misc.py:45: DeprecationWarning: the imp module is deprecated in favour of importlib; see the module's documentation for alternative uses\n",
      "  from imp import reload\n",
      "/home/chris/anaconda3/envs/freshEnv/lib/python3.8/site-packages/joblib/backports.py:36: DeprecationWarning: distutils Version classes are deprecated. Use packaging.version instead.\n",
      "  if LooseVersion(np.__version__) < '1.13':\n",
      "/home/chris/anaconda3/envs/freshEnv/lib/python3.8/site-packages/setuptools/_distutils/version.py:351: DeprecationWarning: distutils Version classes are deprecated. Use packaging.version instead.\n",
      "  other = LooseVersion(other)\n",
      "/home/chris/anaconda3/envs/freshEnv/lib/python3.8/site-packages/joblib/backports.py:36: DeprecationWarning: distutils Version classes are deprecated. Use packaging.version instead.\n",
      "  if LooseVersion(np.__version__) < '1.13':\n",
      "/home/chris/anaconda3/envs/freshEnv/lib/python3.8/site-packages/setuptools/_distutils/version.py:351: DeprecationWarning: distutils Version classes are deprecated. Use packaging.version instead.\n",
      "  other = LooseVersion(other)\n",
      "/home/chris/anaconda3/envs/freshEnv/lib/python3.8/site-packages/joblib/backports.py:36: DeprecationWarning: distutils Version classes are deprecated. Use packaging.version instead.\n",
      "  if LooseVersion(np.__version__) < '1.13':\n",
      "/home/chris/anaconda3/envs/freshEnv/lib/python3.8/site-packages/setuptools/_distutils/version.py:351: DeprecationWarning: distutils Version classes are deprecated. Use packaging.version instead.\n",
      "  other = LooseVersion(other)\n",
      "/home/chris/anaconda3/envs/freshEnv/lib/python3.8/site-packages/joblib/backports.py:36: DeprecationWarning: distutils Version classes are deprecated. Use packaging.version instead.\n",
      "  if LooseVersion(np.__version__) < '1.13':\n",
      "/home/chris/anaconda3/envs/freshEnv/lib/python3.8/site-packages/setuptools/_distutils/version.py:351: DeprecationWarning: distutils Version classes are deprecated. Use packaging.version instead.\n",
      "  other = LooseVersion(other)\n",
      "/home/chris/anaconda3/envs/freshEnv/lib/python3.8/site-packages/joblib/backports.py:36: DeprecationWarning: distutils Version classes are deprecated. Use packaging.version instead.\n",
      "  if LooseVersion(np.__version__) < '1.13':\n",
      "/home/chris/anaconda3/envs/freshEnv/lib/python3.8/site-packages/setuptools/_distutils/version.py:351: DeprecationWarning: distutils Version classes are deprecated. Use packaging.version instead.\n",
      "  other = LooseVersion(other)\n",
      "/home/chris/anaconda3/envs/freshEnv/lib/python3.8/site-packages/joblib/backports.py:36: DeprecationWarning: distutils Version classes are deprecated. Use packaging.version instead.\n",
      "  if LooseVersion(np.__version__) < '1.13':\n",
      "/home/chris/anaconda3/envs/freshEnv/lib/python3.8/site-packages/setuptools/_distutils/version.py:351: DeprecationWarning: distutils Version classes are deprecated. Use packaging.version instead.\n",
      "  other = LooseVersion(other)\n",
      "/home/chris/anaconda3/envs/freshEnv/lib/python3.8/site-packages/past/builtins/misc.py:45: DeprecationWarning: the imp module is deprecated in favour of importlib; see the module's documentation for alternative uses\n",
      "  from imp import reload\n",
      "/home/chris/anaconda3/envs/freshEnv/lib/python3.8/site-packages/joblib/backports.py:36: DeprecationWarning: distutils Version classes are deprecated. Use packaging.version instead.\n",
      "  if LooseVersion(np.__version__) < '1.13':\n",
      "/home/chris/anaconda3/envs/freshEnv/lib/python3.8/site-packages/setuptools/_distutils/version.py:351: DeprecationWarning: distutils Version classes are deprecated. Use packaging.version instead.\n",
      "  other = LooseVersion(other)\n",
      "/home/chris/anaconda3/envs/freshEnv/lib/python3.8/site-packages/joblib/backports.py:36: DeprecationWarning: distutils Version classes are deprecated. Use packaging.version instead.\n",
      "  if LooseVersion(np.__version__) < '1.13':\n",
      "/home/chris/anaconda3/envs/freshEnv/lib/python3.8/site-packages/setuptools/_distutils/version.py:351: DeprecationWarning: distutils Version classes are deprecated. Use packaging.version instead.\n",
      "  other = LooseVersion(other)\n",
      "/home/chris/anaconda3/envs/freshEnv/lib/python3.8/site-packages/joblib/backports.py:36: DeprecationWarning: distutils Version classes are deprecated. Use packaging.version instead.\n",
      "  if LooseVersion(np.__version__) < '1.13':\n",
      "/home/chris/anaconda3/envs/freshEnv/lib/python3.8/site-packages/setuptools/_distutils/version.py:351: DeprecationWarning: distutils Version classes are deprecated. Use packaging.version instead.\n",
      "  other = LooseVersion(other)\n",
      "/home/chris/anaconda3/envs/freshEnv/lib/python3.8/site-packages/joblib/backports.py:36: DeprecationWarning: distutils Version classes are deprecated. Use packaging.version instead.\n",
      "  if LooseVersion(np.__version__) < '1.13':\n",
      "/home/chris/anaconda3/envs/freshEnv/lib/python3.8/site-packages/setuptools/_distutils/version.py:351: DeprecationWarning: distutils Version classes are deprecated. Use packaging.version instead.\n",
      "  other = LooseVersion(other)\n",
      "/home/chris/anaconda3/envs/freshEnv/lib/python3.8/site-packages/past/builtins/misc.py:45: DeprecationWarning: the imp module is deprecated in favour of importlib; see the module's documentation for alternative uses\n",
      "  from imp import reload\n",
      "/home/chris/anaconda3/envs/freshEnv/lib/python3.8/site-packages/joblib/backports.py:36: DeprecationWarning: distutils Version classes are deprecated. Use packaging.version instead.\n",
      "  if LooseVersion(np.__version__) < '1.13':\n",
      "/home/chris/anaconda3/envs/freshEnv/lib/python3.8/site-packages/setuptools/_distutils/version.py:351: DeprecationWarning: distutils Version classes are deprecated. Use packaging.version instead.\n",
      "  other = LooseVersion(other)\n",
      "/home/chris/anaconda3/envs/freshEnv/lib/python3.8/site-packages/joblib/backports.py:36: DeprecationWarning: distutils Version classes are deprecated. Use packaging.version instead.\n",
      "  if LooseVersion(np.__version__) < '1.13':\n",
      "/home/chris/anaconda3/envs/freshEnv/lib/python3.8/site-packages/setuptools/_distutils/version.py:351: DeprecationWarning: distutils Version classes are deprecated. Use packaging.version instead.\n",
      "  other = LooseVersion(other)\n",
      "/home/chris/anaconda3/envs/freshEnv/lib/python3.8/site-packages/joblib/backports.py:36: DeprecationWarning: distutils Version classes are deprecated. Use packaging.version instead.\n",
      "  if LooseVersion(np.__version__) < '1.13':\n",
      "/home/chris/anaconda3/envs/freshEnv/lib/python3.8/site-packages/setuptools/_distutils/version.py:351: DeprecationWarning: distutils Version classes are deprecated. Use packaging.version instead.\n",
      "  other = LooseVersion(other)\n",
      "/home/chris/anaconda3/envs/freshEnv/lib/python3.8/site-packages/joblib/backports.py:36: DeprecationWarning: distutils Version classes are deprecated. Use packaging.version instead.\n",
      "  if LooseVersion(np.__version__) < '1.13':\n",
      "/home/chris/anaconda3/envs/freshEnv/lib/python3.8/site-packages/setuptools/_distutils/version.py:351: DeprecationWarning: distutils Version classes are deprecated. Use packaging.version instead.\n",
      "  other = LooseVersion(other)\n",
      "/home/chris/anaconda3/envs/freshEnv/lib/python3.8/site-packages/joblib/backports.py:36: DeprecationWarning: distutils Version classes are deprecated. Use packaging.version instead.\n",
      "  if LooseVersion(np.__version__) < '1.13':\n",
      "/home/chris/anaconda3/envs/freshEnv/lib/python3.8/site-packages/setuptools/_distutils/version.py:351: DeprecationWarning: distutils Version classes are deprecated. Use packaging.version instead.\n",
      "  other = LooseVersion(other)\n",
      "/home/chris/anaconda3/envs/freshEnv/lib/python3.8/site-packages/joblib/backports.py:36: DeprecationWarning: distutils Version classes are deprecated. Use packaging.version instead.\n",
      "  if LooseVersion(np.__version__) < '1.13':\n",
      "/home/chris/anaconda3/envs/freshEnv/lib/python3.8/site-packages/setuptools/_distutils/version.py:351: DeprecationWarning: distutils Version classes are deprecated. Use packaging.version instead.\n",
      "  other = LooseVersion(other)\n"
     ]
    }
   ],
   "source": [
    "best = compare_models(include = ['lr','dt','knn','dummy','rf','nb'])"
   ]
  },
  {
   "cell_type": "code",
   "execution_count": null,
   "id": "bd4cc3b2",
   "metadata": {},
   "outputs": [],
   "source": []
  },
  {
   "cell_type": "code",
   "execution_count": null,
   "id": "2f4d8949",
   "metadata": {
    "scrolled": true
   },
   "outputs": [],
   "source": []
  }
 ],
 "metadata": {
  "kernelspec": {
   "display_name": "freshEnv",
   "language": "python",
   "name": "freshenv"
  },
  "language_info": {
   "codemirror_mode": {
    "name": "ipython",
    "version": 3
   },
   "file_extension": ".py",
   "mimetype": "text/x-python",
   "name": "python",
   "nbconvert_exporter": "python",
   "pygments_lexer": "ipython3",
   "version": "3.8.13"
  }
 },
 "nbformat": 4,
 "nbformat_minor": 5
}
