{
 "cells": [
  {
   "cell_type": "code",
   "execution_count": 1,
   "id": "f9d1cff5",
   "metadata": {},
   "outputs": [
    {
     "name": "stderr",
     "output_type": "stream",
     "text": [
      "/home/chris/anaconda3/lib/python3.7/site-packages/spacy/util.py:271: UserWarning: [W031] Model 'en_core_web_sm' (2.2.0) requires spaCy v2.2 and is incompatible with the current spaCy version (2.3.0). This may lead to unexpected results or runtime errors. To resolve this, download a newer compatible model or retrain your custom model with the current spaCy version. For more details and available updates, run: python -m spacy validate\n",
      "  warnings.warn(warn_msg)\n"
     ]
    }
   ],
   "source": [
    "import en_core_web_sm\n",
    "nlp = en_core_web_sm.load()"
   ]
  },
  {
   "cell_type": "code",
   "execution_count": 2,
   "id": "e3fbe10e",
   "metadata": {},
   "outputs": [
    {
     "data": {
      "text/html": [
       "<div>\n",
       "<style scoped>\n",
       "    .dataframe tbody tr th:only-of-type {\n",
       "        vertical-align: middle;\n",
       "    }\n",
       "\n",
       "    .dataframe tbody tr th {\n",
       "        vertical-align: top;\n",
       "    }\n",
       "\n",
       "    .dataframe thead th {\n",
       "        text-align: right;\n",
       "    }\n",
       "</style>\n",
       "<table border=\"1\" class=\"dataframe\">\n",
       "  <thead>\n",
       "    <tr style=\"text-align: right;\">\n",
       "      <th></th>\n",
       "      <th>title</th>\n",
       "      <th>text</th>\n",
       "      <th>subject</th>\n",
       "      <th>date</th>\n",
       "    </tr>\n",
       "  </thead>\n",
       "  <tbody>\n",
       "    <tr>\n",
       "      <th>0</th>\n",
       "      <td>As U.S. budget fight looms, Republicans flip t...</td>\n",
       "      <td>WASHINGTON (Reuters) - The head of a conservat...</td>\n",
       "      <td>politicsNews</td>\n",
       "      <td>December 31, 2017</td>\n",
       "    </tr>\n",
       "    <tr>\n",
       "      <th>1</th>\n",
       "      <td>U.S. military to accept transgender recruits o...</td>\n",
       "      <td>WASHINGTON (Reuters) - Transgender people will...</td>\n",
       "      <td>politicsNews</td>\n",
       "      <td>December 29, 2017</td>\n",
       "    </tr>\n",
       "    <tr>\n",
       "      <th>2</th>\n",
       "      <td>Senior U.S. Republican senator: 'Let Mr. Muell...</td>\n",
       "      <td>WASHINGTON (Reuters) - The special counsel inv...</td>\n",
       "      <td>politicsNews</td>\n",
       "      <td>December 31, 2017</td>\n",
       "    </tr>\n",
       "    <tr>\n",
       "      <th>3</th>\n",
       "      <td>FBI Russia probe helped by Australian diplomat...</td>\n",
       "      <td>WASHINGTON (Reuters) - Trump campaign adviser ...</td>\n",
       "      <td>politicsNews</td>\n",
       "      <td>December 30, 2017</td>\n",
       "    </tr>\n",
       "    <tr>\n",
       "      <th>4</th>\n",
       "      <td>Trump wants Postal Service to charge 'much mor...</td>\n",
       "      <td>SEATTLE/WASHINGTON (Reuters) - President Donal...</td>\n",
       "      <td>politicsNews</td>\n",
       "      <td>December 29, 2017</td>\n",
       "    </tr>\n",
       "  </tbody>\n",
       "</table>\n",
       "</div>"
      ],
      "text/plain": [
       "                                               title  \\\n",
       "0  As U.S. budget fight looms, Republicans flip t...   \n",
       "1  U.S. military to accept transgender recruits o...   \n",
       "2  Senior U.S. Republican senator: 'Let Mr. Muell...   \n",
       "3  FBI Russia probe helped by Australian diplomat...   \n",
       "4  Trump wants Postal Service to charge 'much mor...   \n",
       "\n",
       "                                                text       subject  \\\n",
       "0  WASHINGTON (Reuters) - The head of a conservat...  politicsNews   \n",
       "1  WASHINGTON (Reuters) - Transgender people will...  politicsNews   \n",
       "2  WASHINGTON (Reuters) - The special counsel inv...  politicsNews   \n",
       "3  WASHINGTON (Reuters) - Trump campaign adviser ...  politicsNews   \n",
       "4  SEATTLE/WASHINGTON (Reuters) - President Donal...  politicsNews   \n",
       "\n",
       "                 date  \n",
       "0  December 31, 2017   \n",
       "1  December 29, 2017   \n",
       "2  December 31, 2017   \n",
       "3  December 30, 2017   \n",
       "4  December 29, 2017   "
      ]
     },
     "execution_count": 2,
     "metadata": {},
     "output_type": "execute_result"
    }
   ],
   "source": [
    "import pandas as pd\n",
    "\n",
    "df_true = pd.read_csv('True.csv')\n",
    "df_fake = pd.read_csv('Fake.csv')\n",
    "facebook_fake = pd.read_csv('facebook-fact-check.csv')\n",
    "\n",
    "df_true.head()"
   ]
  },
  {
   "cell_type": "code",
   "execution_count": 3,
   "id": "0bd18562",
   "metadata": {},
   "outputs": [
    {
     "data": {
      "text/html": [
       "<div>\n",
       "<style scoped>\n",
       "    .dataframe tbody tr th:only-of-type {\n",
       "        vertical-align: middle;\n",
       "    }\n",
       "\n",
       "    .dataframe tbody tr th {\n",
       "        vertical-align: top;\n",
       "    }\n",
       "\n",
       "    .dataframe thead th {\n",
       "        text-align: right;\n",
       "    }\n",
       "</style>\n",
       "<table border=\"1\" class=\"dataframe\">\n",
       "  <thead>\n",
       "    <tr style=\"text-align: right;\">\n",
       "      <th></th>\n",
       "      <th>title</th>\n",
       "      <th>text</th>\n",
       "      <th>subject</th>\n",
       "      <th>date</th>\n",
       "    </tr>\n",
       "  </thead>\n",
       "  <tbody>\n",
       "    <tr>\n",
       "      <th>0</th>\n",
       "      <td>Donald Trump Sends Out Embarrassing New Year’...</td>\n",
       "      <td>Donald Trump just couldn t wish all Americans ...</td>\n",
       "      <td>News</td>\n",
       "      <td>December 31, 2017</td>\n",
       "    </tr>\n",
       "    <tr>\n",
       "      <th>1</th>\n",
       "      <td>Drunk Bragging Trump Staffer Started Russian ...</td>\n",
       "      <td>House Intelligence Committee Chairman Devin Nu...</td>\n",
       "      <td>News</td>\n",
       "      <td>December 31, 2017</td>\n",
       "    </tr>\n",
       "    <tr>\n",
       "      <th>2</th>\n",
       "      <td>Sheriff David Clarke Becomes An Internet Joke...</td>\n",
       "      <td>On Friday, it was revealed that former Milwauk...</td>\n",
       "      <td>News</td>\n",
       "      <td>December 30, 2017</td>\n",
       "    </tr>\n",
       "    <tr>\n",
       "      <th>3</th>\n",
       "      <td>Trump Is So Obsessed He Even Has Obama’s Name...</td>\n",
       "      <td>On Christmas day, Donald Trump announced that ...</td>\n",
       "      <td>News</td>\n",
       "      <td>December 29, 2017</td>\n",
       "    </tr>\n",
       "    <tr>\n",
       "      <th>4</th>\n",
       "      <td>Pope Francis Just Called Out Donald Trump Dur...</td>\n",
       "      <td>Pope Francis used his annual Christmas Day mes...</td>\n",
       "      <td>News</td>\n",
       "      <td>December 25, 2017</td>\n",
       "    </tr>\n",
       "  </tbody>\n",
       "</table>\n",
       "</div>"
      ],
      "text/plain": [
       "                                               title  \\\n",
       "0   Donald Trump Sends Out Embarrassing New Year’...   \n",
       "1   Drunk Bragging Trump Staffer Started Russian ...   \n",
       "2   Sheriff David Clarke Becomes An Internet Joke...   \n",
       "3   Trump Is So Obsessed He Even Has Obama’s Name...   \n",
       "4   Pope Francis Just Called Out Donald Trump Dur...   \n",
       "\n",
       "                                                text subject  \\\n",
       "0  Donald Trump just couldn t wish all Americans ...    News   \n",
       "1  House Intelligence Committee Chairman Devin Nu...    News   \n",
       "2  On Friday, it was revealed that former Milwauk...    News   \n",
       "3  On Christmas day, Donald Trump announced that ...    News   \n",
       "4  Pope Francis used his annual Christmas Day mes...    News   \n",
       "\n",
       "                date  \n",
       "0  December 31, 2017  \n",
       "1  December 31, 2017  \n",
       "2  December 30, 2017  \n",
       "3  December 29, 2017  \n",
       "4  December 25, 2017  "
      ]
     },
     "execution_count": 3,
     "metadata": {},
     "output_type": "execute_result"
    }
   ],
   "source": [
    "df_fake.head()"
   ]
  },
  {
   "cell_type": "code",
   "execution_count": 4,
   "id": "e31b5903",
   "metadata": {},
   "outputs": [
    {
     "data": {
      "text/html": [
       "<div>\n",
       "<style scoped>\n",
       "    .dataframe tbody tr th:only-of-type {\n",
       "        vertical-align: middle;\n",
       "    }\n",
       "\n",
       "    .dataframe tbody tr th {\n",
       "        vertical-align: top;\n",
       "    }\n",
       "\n",
       "    .dataframe thead th {\n",
       "        text-align: right;\n",
       "    }\n",
       "</style>\n",
       "<table border=\"1\" class=\"dataframe\">\n",
       "  <thead>\n",
       "    <tr style=\"text-align: right;\">\n",
       "      <th></th>\n",
       "      <th>account_id</th>\n",
       "      <th>post_id</th>\n",
       "      <th>Category</th>\n",
       "      <th>Page</th>\n",
       "      <th>Post URL</th>\n",
       "      <th>Date Published</th>\n",
       "      <th>Post Type</th>\n",
       "      <th>Rating</th>\n",
       "      <th>Debate</th>\n",
       "      <th>share_count</th>\n",
       "      <th>reaction_count</th>\n",
       "      <th>comment_count</th>\n",
       "    </tr>\n",
       "  </thead>\n",
       "  <tbody>\n",
       "    <tr>\n",
       "      <th>0</th>\n",
       "      <td>184096565021911</td>\n",
       "      <td>1035057923259100</td>\n",
       "      <td>mainstream</td>\n",
       "      <td>ABC News Politics</td>\n",
       "      <td>https://www.facebook.com/ABCNewsPolitics/posts...</td>\n",
       "      <td>2016-09-19</td>\n",
       "      <td>video</td>\n",
       "      <td>no factual content</td>\n",
       "      <td>NaN</td>\n",
       "      <td>NaN</td>\n",
       "      <td>146.0</td>\n",
       "      <td>15.0</td>\n",
       "    </tr>\n",
       "    <tr>\n",
       "      <th>1</th>\n",
       "      <td>184096565021911</td>\n",
       "      <td>1035269309904628</td>\n",
       "      <td>mainstream</td>\n",
       "      <td>ABC News Politics</td>\n",
       "      <td>https://www.facebook.com/ABCNewsPolitics/posts...</td>\n",
       "      <td>2016-09-19</td>\n",
       "      <td>link</td>\n",
       "      <td>mostly true</td>\n",
       "      <td>NaN</td>\n",
       "      <td>1.0</td>\n",
       "      <td>33.0</td>\n",
       "      <td>34.0</td>\n",
       "    </tr>\n",
       "    <tr>\n",
       "      <th>2</th>\n",
       "      <td>184096565021911</td>\n",
       "      <td>1035305953234297</td>\n",
       "      <td>mainstream</td>\n",
       "      <td>ABC News Politics</td>\n",
       "      <td>https://www.facebook.com/ABCNewsPolitics/posts...</td>\n",
       "      <td>2016-09-19</td>\n",
       "      <td>link</td>\n",
       "      <td>mostly true</td>\n",
       "      <td>NaN</td>\n",
       "      <td>34.0</td>\n",
       "      <td>63.0</td>\n",
       "      <td>27.0</td>\n",
       "    </tr>\n",
       "    <tr>\n",
       "      <th>3</th>\n",
       "      <td>184096565021911</td>\n",
       "      <td>1035322636565962</td>\n",
       "      <td>mainstream</td>\n",
       "      <td>ABC News Politics</td>\n",
       "      <td>https://www.facebook.com/ABCNewsPolitics/posts...</td>\n",
       "      <td>2016-09-19</td>\n",
       "      <td>link</td>\n",
       "      <td>mostly true</td>\n",
       "      <td>NaN</td>\n",
       "      <td>35.0</td>\n",
       "      <td>170.0</td>\n",
       "      <td>86.0</td>\n",
       "    </tr>\n",
       "    <tr>\n",
       "      <th>4</th>\n",
       "      <td>184096565021911</td>\n",
       "      <td>1035352946562931</td>\n",
       "      <td>mainstream</td>\n",
       "      <td>ABC News Politics</td>\n",
       "      <td>https://www.facebook.com/ABCNewsPolitics/posts...</td>\n",
       "      <td>2016-09-19</td>\n",
       "      <td>video</td>\n",
       "      <td>mostly true</td>\n",
       "      <td>NaN</td>\n",
       "      <td>568.0</td>\n",
       "      <td>3188.0</td>\n",
       "      <td>2815.0</td>\n",
       "    </tr>\n",
       "  </tbody>\n",
       "</table>\n",
       "</div>"
      ],
      "text/plain": [
       "        account_id           post_id    Category               Page  \\\n",
       "0  184096565021911  1035057923259100  mainstream  ABC News Politics   \n",
       "1  184096565021911  1035269309904628  mainstream  ABC News Politics   \n",
       "2  184096565021911  1035305953234297  mainstream  ABC News Politics   \n",
       "3  184096565021911  1035322636565962  mainstream  ABC News Politics   \n",
       "4  184096565021911  1035352946562931  mainstream  ABC News Politics   \n",
       "\n",
       "                                            Post URL Date Published Post Type  \\\n",
       "0  https://www.facebook.com/ABCNewsPolitics/posts...     2016-09-19     video   \n",
       "1  https://www.facebook.com/ABCNewsPolitics/posts...     2016-09-19      link   \n",
       "2  https://www.facebook.com/ABCNewsPolitics/posts...     2016-09-19      link   \n",
       "3  https://www.facebook.com/ABCNewsPolitics/posts...     2016-09-19      link   \n",
       "4  https://www.facebook.com/ABCNewsPolitics/posts...     2016-09-19     video   \n",
       "\n",
       "               Rating Debate  share_count  reaction_count  comment_count  \n",
       "0  no factual content    NaN          NaN           146.0           15.0  \n",
       "1         mostly true    NaN          1.0            33.0           34.0  \n",
       "2         mostly true    NaN         34.0            63.0           27.0  \n",
       "3         mostly true    NaN         35.0           170.0           86.0  \n",
       "4         mostly true    NaN        568.0          3188.0         2815.0  "
      ]
     },
     "execution_count": 4,
     "metadata": {},
     "output_type": "execute_result"
    }
   ],
   "source": [
    "facebook_fake.head()"
   ]
  },
  {
   "cell_type": "code",
   "execution_count": 5,
   "id": "196088f9",
   "metadata": {},
   "outputs": [
    {
     "data": {
      "text/plain": [
       "((21417, 4), (23481, 4), (2282, 12))"
      ]
     },
     "execution_count": 5,
     "metadata": {},
     "output_type": "execute_result"
    }
   ],
   "source": [
    "df_true.shape, df_fake.shape,facebook_fake.shape"
   ]
  },
  {
   "cell_type": "code",
   "execution_count": 6,
   "id": "b3b41332",
   "metadata": {},
   "outputs": [],
   "source": [
    "df_true['class']=1\n",
    "df_fake['class']=0"
   ]
  },
  {
   "cell_type": "markdown",
   "id": "2bbb7f8c",
   "metadata": {},
   "source": [
    "We merge our 2 datasets of real news and fake news with a new feature depicting which news is real news and which are fake"
   ]
  },
  {
   "cell_type": "code",
   "execution_count": 7,
   "id": "83e9571d",
   "metadata": {},
   "outputs": [],
   "source": [
    "merged_df = pd.concat([df_true,df_fake])"
   ]
  },
  {
   "cell_type": "code",
   "execution_count": 8,
   "id": "e0588ec8",
   "metadata": {},
   "outputs": [
    {
     "data": {
      "text/html": [
       "<div>\n",
       "<style scoped>\n",
       "    .dataframe tbody tr th:only-of-type {\n",
       "        vertical-align: middle;\n",
       "    }\n",
       "\n",
       "    .dataframe tbody tr th {\n",
       "        vertical-align: top;\n",
       "    }\n",
       "\n",
       "    .dataframe thead th {\n",
       "        text-align: right;\n",
       "    }\n",
       "</style>\n",
       "<table border=\"1\" class=\"dataframe\">\n",
       "  <thead>\n",
       "    <tr style=\"text-align: right;\">\n",
       "      <th></th>\n",
       "      <th>title</th>\n",
       "      <th>text</th>\n",
       "      <th>subject</th>\n",
       "      <th>date</th>\n",
       "      <th>class</th>\n",
       "    </tr>\n",
       "  </thead>\n",
       "  <tbody>\n",
       "    <tr>\n",
       "      <th>0</th>\n",
       "      <td>As U.S. budget fight looms, Republicans flip t...</td>\n",
       "      <td>WASHINGTON (Reuters) - The head of a conservat...</td>\n",
       "      <td>politicsNews</td>\n",
       "      <td>December 31, 2017</td>\n",
       "      <td>1</td>\n",
       "    </tr>\n",
       "    <tr>\n",
       "      <th>1</th>\n",
       "      <td>U.S. military to accept transgender recruits o...</td>\n",
       "      <td>WASHINGTON (Reuters) - Transgender people will...</td>\n",
       "      <td>politicsNews</td>\n",
       "      <td>December 29, 2017</td>\n",
       "      <td>1</td>\n",
       "    </tr>\n",
       "    <tr>\n",
       "      <th>2</th>\n",
       "      <td>Senior U.S. Republican senator: 'Let Mr. Muell...</td>\n",
       "      <td>WASHINGTON (Reuters) - The special counsel inv...</td>\n",
       "      <td>politicsNews</td>\n",
       "      <td>December 31, 2017</td>\n",
       "      <td>1</td>\n",
       "    </tr>\n",
       "    <tr>\n",
       "      <th>3</th>\n",
       "      <td>FBI Russia probe helped by Australian diplomat...</td>\n",
       "      <td>WASHINGTON (Reuters) - Trump campaign adviser ...</td>\n",
       "      <td>politicsNews</td>\n",
       "      <td>December 30, 2017</td>\n",
       "      <td>1</td>\n",
       "    </tr>\n",
       "    <tr>\n",
       "      <th>4</th>\n",
       "      <td>Trump wants Postal Service to charge 'much mor...</td>\n",
       "      <td>SEATTLE/WASHINGTON (Reuters) - President Donal...</td>\n",
       "      <td>politicsNews</td>\n",
       "      <td>December 29, 2017</td>\n",
       "      <td>1</td>\n",
       "    </tr>\n",
       "  </tbody>\n",
       "</table>\n",
       "</div>"
      ],
      "text/plain": [
       "                                               title  \\\n",
       "0  As U.S. budget fight looms, Republicans flip t...   \n",
       "1  U.S. military to accept transgender recruits o...   \n",
       "2  Senior U.S. Republican senator: 'Let Mr. Muell...   \n",
       "3  FBI Russia probe helped by Australian diplomat...   \n",
       "4  Trump wants Postal Service to charge 'much mor...   \n",
       "\n",
       "                                                text       subject  \\\n",
       "0  WASHINGTON (Reuters) - The head of a conservat...  politicsNews   \n",
       "1  WASHINGTON (Reuters) - Transgender people will...  politicsNews   \n",
       "2  WASHINGTON (Reuters) - The special counsel inv...  politicsNews   \n",
       "3  WASHINGTON (Reuters) - Trump campaign adviser ...  politicsNews   \n",
       "4  SEATTLE/WASHINGTON (Reuters) - President Donal...  politicsNews   \n",
       "\n",
       "                 date  class  \n",
       "0  December 31, 2017       1  \n",
       "1  December 29, 2017       1  \n",
       "2  December 31, 2017       1  \n",
       "3  December 30, 2017       1  \n",
       "4  December 29, 2017       1  "
      ]
     },
     "execution_count": 8,
     "metadata": {},
     "output_type": "execute_result"
    }
   ],
   "source": [
    "merged_df.head()"
   ]
  },
  {
   "cell_type": "markdown",
   "id": "11aabe9d",
   "metadata": {},
   "source": [
    "After the merge we want to check the features to see if any contain NaN which can throw our model off below we can see there are no NaN within our dataset"
   ]
  },
  {
   "cell_type": "code",
   "execution_count": 9,
   "id": "6159ff01",
   "metadata": {},
   "outputs": [
    {
     "data": {
      "text/plain": [
       "title      0\n",
       "text       0\n",
       "subject    0\n",
       "date       0\n",
       "class      0\n",
       "dtype: int64"
      ]
     },
     "execution_count": 9,
     "metadata": {},
     "output_type": "execute_result"
    }
   ],
   "source": [
    "merged_df.isna().sum()"
   ]
  },
  {
   "cell_type": "markdown",
   "id": "372b6c63",
   "metadata": {},
   "source": [
    "After the merge we need to check the balance between our dataset between real and fake, because if one is significantly larger than the other we can overfit to our data"
   ]
  },
  {
   "cell_type": "code",
   "execution_count": 10,
   "id": "e976013c",
   "metadata": {},
   "outputs": [
    {
     "name": "stderr",
     "output_type": "stream",
     "text": [
      "/home/chris/anaconda3/lib/python3.7/site-packages/seaborn/_decorators.py:43: FutureWarning: Pass the following variable as a keyword arg: x. From version 0.12, the only valid positional argument will be `data`, and passing other arguments without an explicit keyword will result in an error or misinterpretation.\n",
      "  FutureWarning\n"
     ]
    },
    {
     "data": {
      "text/plain": [
       "<AxesSubplot:xlabel='class', ylabel='count'>"
      ]
     },
     "execution_count": 10,
     "metadata": {},
     "output_type": "execute_result"
    },
    {
     "data": {
      "image/png": "[encoded data removed]",
      "text/plain": [
       "<Figure size 432x288 with 1 Axes>"
      ]
     },
     "metadata": {
      "needs_background": "light"
     },
     "output_type": "display_data"
    }
   ],
   "source": [
    "import seaborn as sns\n",
    "sns.countplot(merged_df['class'])"
   ]
  },
  {
   "cell_type": "code",
   "execution_count": 11,
   "id": "8b3fda72",
   "metadata": {},
   "outputs": [
    {
     "name": "stdout",
     "output_type": "stream",
     "text": [
      "<class 'pandas.core.frame.DataFrame'>\n",
      "RangeIndex: 10000 entries, 0 to 9999\n",
      "Data columns (total 5 columns):\n",
      " #   Column   Non-Null Count  Dtype \n",
      "---  ------   --------------  ----- \n",
      " 0   title    10000 non-null  object\n",
      " 1   text     10000 non-null  object\n",
      " 2   subject  10000 non-null  object\n",
      " 3   date     10000 non-null  object\n",
      " 4   class    10000 non-null  int64 \n",
      "dtypes: int64(1), object(4)\n",
      "memory usage: 390.8+ KB\n"
     ]
    }
   ],
   "source": [
    "sample_news_df = merged_df.sample(10000, random_state=786).reset_index(drop=True)\n",
    "sample_news_df.info()"
   ]
  },
  {
   "cell_type": "markdown",
   "id": "b5962fcd",
   "metadata": {},
   "source": [
    "We would now need to initilize the training environment that creates teh transformation pipline. This setup needs to be called before we train or execute and function "
   ]
  },
  {
   "cell_type": "code",
   "execution_count": 12,
   "id": "75ecf504",
   "metadata": {},
   "outputs": [
    {
     "data": {
      "text/html": [
       "<div>\n",
       "<style scoped>\n",
       "    .dataframe tbody tr th:only-of-type {\n",
       "        vertical-align: middle;\n",
       "    }\n",
       "\n",
       "    .dataframe tbody tr th {\n",
       "        vertical-align: top;\n",
       "    }\n",
       "\n",
       "    .dataframe thead th {\n",
       "        text-align: right;\n",
       "    }\n",
       "</style>\n",
       "<table border=\"1\" class=\"dataframe\">\n",
       "  <thead>\n",
       "    <tr style=\"text-align: right;\">\n",
       "      <th></th>\n",
       "      <th>title</th>\n",
       "      <th>text</th>\n",
       "      <th>subject</th>\n",
       "      <th>date</th>\n",
       "      <th>class</th>\n",
       "    </tr>\n",
       "  </thead>\n",
       "  <tbody>\n",
       "    <tr>\n",
       "      <th>0</th>\n",
       "      <td>Trump Is Now Officially Increasing The Chance...</td>\n",
       "      <td>Republicans aren t very smart about a lot of t...</td>\n",
       "      <td>News</td>\n",
       "      <td>April 17, 2016</td>\n",
       "      <td>0</td>\n",
       "    </tr>\n",
       "    <tr>\n",
       "      <th>1</th>\n",
       "      <td>GAY PAYPAL CEO Gives Rousing Speech Endorsing ...</td>\n",
       "      <td></td>\n",
       "      <td>politics</td>\n",
       "      <td>Oct 31, 2016</td>\n",
       "      <td>0</td>\n",
       "    </tr>\n",
       "    <tr>\n",
       "      <th>2</th>\n",
       "      <td>Buoyed by mayoral votes, Venezuela socialists ...</td>\n",
       "      <td>CARACAS (Reuters) - President Nicolas Maduro h...</td>\n",
       "      <td>worldnews</td>\n",
       "      <td>December 10, 2017</td>\n",
       "      <td>1</td>\n",
       "    </tr>\n",
       "    <tr>\n",
       "      <th>3</th>\n",
       "      <td>Oklahoma lawmaker apologizes for linking Nativ...</td>\n",
       "      <td>TULSA, Okla. (Reuters) - An Oklahoma state leg...</td>\n",
       "      <td>politicsNews</td>\n",
       "      <td>April 28, 2016</td>\n",
       "      <td>1</td>\n",
       "    </tr>\n",
       "    <tr>\n",
       "      <th>4</th>\n",
       "      <td>Argentine mid-term campaign pauses after body ...</td>\n",
       "      <td>BUENOS AIRES (Reuters) - Major parties running...</td>\n",
       "      <td>worldnews</td>\n",
       "      <td>October 18, 2017</td>\n",
       "      <td>1</td>\n",
       "    </tr>\n",
       "  </tbody>\n",
       "</table>\n",
       "</div>"
      ],
      "text/plain": [
       "                                               title  \\\n",
       "0   Trump Is Now Officially Increasing The Chance...   \n",
       "1  GAY PAYPAL CEO Gives Rousing Speech Endorsing ...   \n",
       "2  Buoyed by mayoral votes, Venezuela socialists ...   \n",
       "3  Oklahoma lawmaker apologizes for linking Nativ...   \n",
       "4  Argentine mid-term campaign pauses after body ...   \n",
       "\n",
       "                                                text       subject  \\\n",
       "0  Republicans aren t very smart about a lot of t...          News   \n",
       "1                                                         politics   \n",
       "2  CARACAS (Reuters) - President Nicolas Maduro h...     worldnews   \n",
       "3  TULSA, Okla. (Reuters) - An Oklahoma state leg...  politicsNews   \n",
       "4  BUENOS AIRES (Reuters) - Major parties running...     worldnews   \n",
       "\n",
       "                 date  class  \n",
       "0      April 17, 2016      0  \n",
       "1        Oct 31, 2016      0  \n",
       "2  December 10, 2017       1  \n",
       "3     April 28, 2016       1  \n",
       "4   October 18, 2017       1  "
      ]
     },
     "execution_count": 12,
     "metadata": {},
     "output_type": "execute_result"
    }
   ],
   "source": [
    "sample_news_df.head()"
   ]
  },
  {
   "cell_type": "code",
   "execution_count": 13,
   "id": "269cbec5",
   "metadata": {
    "scrolled": true
   },
   "outputs": [
    {
     "data": {
      "text/html": [
       "<style type=\"text/css\">\n",
       "</style>\n",
       "<table id=\"T_e29ef_\">\n",
       "  <thead>\n",
       "    <tr>\n",
       "      <th class=\"col_heading level0 col0\" >Description</th>\n",
       "      <th class=\"col_heading level0 col1\" >Value</th>\n",
       "    </tr>\n",
       "  </thead>\n",
       "  <tbody>\n",
       "    <tr>\n",
       "      <td id=\"T_e29ef_row0_col0\" class=\"data row0 col0\" >session_id</td>\n",
       "      <td id=\"T_e29ef_row0_col1\" class=\"data row0 col1\" >123</td>\n",
       "    </tr>\n",
       "    <tr>\n",
       "      <td id=\"T_e29ef_row1_col0\" class=\"data row1 col0\" >Documents</td>\n",
       "      <td id=\"T_e29ef_row1_col1\" class=\"data row1 col1\" >10000</td>\n",
       "    </tr>\n",
       "    <tr>\n",
       "      <td id=\"T_e29ef_row2_col0\" class=\"data row2 col0\" >Vocab Size</td>\n",
       "      <td id=\"T_e29ef_row2_col1\" class=\"data row2 col1\" >35185</td>\n",
       "    </tr>\n",
       "    <tr>\n",
       "      <td id=\"T_e29ef_row3_col0\" class=\"data row3 col0\" >Custom Stopwords</td>\n",
       "      <td id=\"T_e29ef_row3_col1\" class=\"data row3 col1\" >False</td>\n",
       "    </tr>\n",
       "  </tbody>\n",
       "</table>\n"
      ],
      "text/plain": [
       "<pandas.io.formats.style.Styler at 0x7fed3e679990>"
      ]
     },
     "metadata": {},
     "output_type": "display_data"
    }
   ],
   "source": [
    "from pycaret.nlp import *\n",
    "\n",
    "news_nlp = setup(data = sample_news_df, target = 'text', session_id =123)"
   ]
  },
  {
   "cell_type": "code",
   "execution_count": 14,
   "id": "59520eb8",
   "metadata": {},
   "outputs": [],
   "source": [
    "%time\n",
    "lda = create_model('lda',multi_core=True)"
   ]
  },
  {
   "cell_type": "code",
   "execution_count": 15,
   "id": "0bbbd8f8",
   "metadata": {},
   "outputs": [],
   "source": [
    "%time\n",
    "lda_df = assign_model(lda)"
   ]
  },
  {
   "cell_type": "code",
   "execution_count": 16,
   "id": "fdaaf1b7",
   "metadata": {},
   "outputs": [
    {
     "data": {
      "text/html": [
       "        <script type=\"text/javascript\">\n",
       "        window.PlotlyConfig = {MathJaxConfig: 'local'};\n",
       "        if (window.MathJax) {MathJax.Hub.Config({SVG: {font: \"STIX-Web\"}});}\n",
       "        if (typeof require !== 'undefined') {\n",
       "        require.undef(\"plotly\");\n",
       "        requirejs.config({\n",
       "            paths: {\n",
       "                'plotly': ['https://cdn.plot.ly/plotly-2.11.1.min']\n",
       "            }\n",
       "        });\n",
       "        require(['plotly'], function(Plotly) {\n",
       "            window._Plotly = Plotly;\n",
       "        });\n",
       "        }\n",
       "        </script>\n",
       "        "
      ]
     },
     "metadata": {},
     "output_type": "display_data"
    },
    {
     "name": "stderr",
     "output_type": "stream",
     "text": [
      "IOPub message rate exceeded.\n",
      "The notebook server will temporarily stop sending output\n",
      "to the client in order to avoid crashing it.\n",
      "To change this limit, set the config variable\n",
      "`--NotebookApp.iopub_msg_rate_limit`.\n",
      "\n",
      "Current values:\n",
      "NotebookApp.iopub_msg_rate_limit=1000.0 (msgs/sec)\n",
      "NotebookApp.rate_limit_window=3.0 (secs)\n",
      "\n",
      "IOPub message rate exceeded.\n",
      "The notebook server will temporarily stop sending output\n",
      "to the client in order to avoid crashing it.\n",
      "To change this limit, set the config variable\n",
      "`--NotebookApp.iopub_msg_rate_limit`.\n",
      "\n",
      "Current values:\n",
      "NotebookApp.iopub_msg_rate_limit=1000.0 (msgs/sec)\n",
      "NotebookApp.rate_limit_window=3.0 (secs)\n",
      "\n"
     ]
    },
    {
     "data": {
      "application/vnd.plotly.v1+json": {
       "config": {
        "plotlyServerURL": "https://plot.ly"
       },
       "data": [
        {
         "alignmentgroup": "True",
         "customdata": [
          [
           "say, state, government, year, company, also, include, bill, make, federal"
          ],
          [
           "say, people, police, group, kill, government, attack, state, report, year"
          ],
          [
           "say, election, trump, government, vote, country, leader, party, united_state, official"
          ],
          [
           "trump, say, go, people, make, get, know, think, time, take"
          ]
         ],
         "hovertemplate": "Topic=%{x}<br>Documents=%{y}<br>Keyword=%{customdata[0]}<extra></extra>",
         "legendgroup": "",
         "marker": {
          "color": "#636efa",
          "pattern": {
           "shape": ""
          }
         },
         "name": "",
         "offsetgroup": "",
         "orientation": "v",
         "showlegend": false,
         "textposition": "auto",
         "type": "bar",
         "x": [
          "Topic 0",
          "Topic 1",
          "Topic 2",
          "Topic 3"
         ],
         "xaxis": "x",
         "y": [
          2058,
          1654,
          2546,
          3742
         ],
         "yaxis": "y"
        }
       ],
       "layout": {
        "barmode": "relative",
        "legend": {
         "tracegroupgap": 0
        },
        "template": {
         "data": {
          "bar": [
           {
            "error_x": {
             "color": "#2a3f5f"
            },
            "error_y": {
             "color": "#2a3f5f"
            },
            "marker": {
             "line": {
              "color": "#E5ECF6",
              "width": 0.5
             },
             "pattern": {
              "fillmode": "overlay",
              "size": 10,
              "solidity": 0.2
             }
            },
            "type": "bar"
           }
          ],
          "barpolar": [
           {
            "marker": {
             "line": {
              "color": "#E5ECF6",
              "width": 0.5
             },
             "pattern": {
              "fillmode": "overlay",
              "size": 10,
              "solidity": 0.2
             }
            },
            "type": "barpolar"
           }
          ],
          "carpet": [
           {
            "aaxis": {
             "endlinecolor": "#2a3f5f",
             "gridcolor": "white",
             "linecolor": "white",
             "minorgridcolor": "white",
             "startlinecolor": "#2a3f5f"
            },
            "baxis": {
             "endlinecolor": "#2a3f5f",
             "gridcolor": "white",
             "linecolor": "white",
             "minorgridcolor": "white",
             "startlinecolor": "#2a3f5f"
            },
            "type": "carpet"
           }
          ],
          "choropleth": [
           {
            "colorbar": {
             "outlinewidth": 0,
             "ticks": ""
            },
            "type": "choropleth"
           }
          ],
          "contour": [
           {
            "colorbar": {
             "outlinewidth": 0,
             "ticks": ""
            },
            "colorscale": [
             [
              0,
              "#0d0887"
             ],
             [
              0.1111111111111111,
              "#46039f"
             ],
             [
              0.2222222222222222,
              "#7201a8"
             ],
             [
              0.3333333333333333,
              "#9c179e"
             ],
             [
              0.4444444444444444,
              "#bd3786"
             ],
             [
              0.5555555555555556,
              "#d8576b"
             ],
             [
              0.6666666666666666,
              "#ed7953"
             ],
             [
              0.7777777777777778,
              "#fb9f3a"
             ],
             [
              0.8888888888888888,
              "#fdca26"
             ],
             [
              1,
              "#f0f921"
             ]
            ],
            "type": "contour"
           }
          ],
          "contourcarpet": [
           {
            "colorbar": {
             "outlinewidth": 0,
             "ticks": ""
            },
            "type": "contourcarpet"
           }
          ],
          "heatmap": [
           {
            "colorbar": {
             "outlinewidth": 0,
             "ticks": ""
            },
            "colorscale": [
             [
              0,
              "#0d0887"
             ],
             [
              0.1111111111111111,
              "#46039f"
             ],
             [
              0.2222222222222222,
              "#7201a8"
             ],
             [
              0.3333333333333333,
              "#9c179e"
             ],
             [
              0.4444444444444444,
              "#bd3786"
             ],
             [
              0.5555555555555556,
              "#d8576b"
             ],
             [
              0.6666666666666666,
              "#ed7953"
             ],
             [
              0.7777777777777778,
              "#fb9f3a"
             ],
             [
              0.8888888888888888,
              "#fdca26"
             ],
             [
              1,
              "#f0f921"
             ]
            ],
            "type": "heatmap"
           }
          ],
          "heatmapgl": [
           {
            "colorbar": {
             "outlinewidth": 0,
             "ticks": ""
            },
            "colorscale": [
             [
              0,
              "#0d0887"
             ],
             [
              0.1111111111111111,
              "#46039f"
             ],
             [
              0.2222222222222222,
              "#7201a8"
             ],
             [
              0.3333333333333333,
              "#9c179e"
             ],
             [
              0.4444444444444444,
              "#bd3786"
             ],
             [
              0.5555555555555556,
              "#d8576b"
             ],
             [
              0.6666666666666666,
              "#ed7953"
             ],
             [
              0.7777777777777778,
              "#fb9f3a"
             ],
             [
              0.8888888888888888,
              "#fdca26"
             ],
             [
              1,
              "#f0f921"
             ]
            ],
            "type": "heatmapgl"
           }
          ],
          "histogram": [
           {
            "marker": {
             "pattern": {
              "fillmode": "overlay",
              "size": 10,
              "solidity": 0.2
             }
            },
            "type": "histogram"
           }
          ],
          "histogram2d": [
           {
            "colorbar": {
             "outlinewidth": 0,
             "ticks": ""
            },
            "colorscale": [
             [
              0,
              "#0d0887"
             ],
             [
              0.1111111111111111,
              "#46039f"
             ],
             [
              0.2222222222222222,
              "#7201a8"
             ],
             [
              0.3333333333333333,
              "#9c179e"
             ],
             [
              0.4444444444444444,
              "#bd3786"
             ],
             [
              0.5555555555555556,
              "#d8576b"
             ],
             [
              0.6666666666666666,
              "#ed7953"
             ],
             [
              0.7777777777777778,
              "#fb9f3a"
             ],
             [
              0.8888888888888888,
              "#fdca26"
             ],
             [
              1,
              "#f0f921"
             ]
            ],
            "type": "histogram2d"
           }
          ],
          "histogram2dcontour": [
           {
            "colorbar": {
             "outlinewidth": 0,
             "ticks": ""
            },
            "colorscale": [
             [
              0,
              "#0d0887"
             ],
             [
              0.1111111111111111,
              "#46039f"
             ],
             [
              0.2222222222222222,
              "#7201a8"
             ],
             [
              0.3333333333333333,
              "#9c179e"
             ],
             [
              0.4444444444444444,
              "#bd3786"
             ],
             [
              0.5555555555555556,
              "#d8576b"
             ],
             [
              0.6666666666666666,
              "#ed7953"
             ],
             [
              0.7777777777777778,
              "#fb9f3a"
             ],
             [
              0.8888888888888888,
              "#fdca26"
             ],
             [
              1,
              "#f0f921"
             ]
            ],
            "type": "histogram2dcontour"
           }
          ],
          "mesh3d": [
           {
            "colorbar": {
             "outlinewidth": 0,
             "ticks": ""
            },
            "type": "mesh3d"
           }
          ],
          "parcoords": [
           {
            "line": {
             "colorbar": {
              "outlinewidth": 0,
              "ticks": ""
             }
            },
            "type": "parcoords"
           }
          ],
          "pie": [
           {
            "automargin": true,
            "type": "pie"
           }
          ],
          "scatter": [
           {
            "fillpattern": {
             "fillmode": "overlay",
             "size": 10,
             "solidity": 0.2
            },
            "type": "scatter"
           }
          ],
          "scatter3d": [
           {
            "line": {
             "colorbar": {
              "outlinewidth": 0,
              "ticks": ""
             }
            },
            "marker": {
             "colorbar": {
              "outlinewidth": 0,
              "ticks": ""
             }
            },
            "type": "scatter3d"
           }
          ],
          "scattercarpet": [
           {
            "marker": {
             "colorbar": {
              "outlinewidth": 0,
              "ticks": ""
             }
            },
            "type": "scattercarpet"
           }
          ],
          "scattergeo": [
           {
            "marker": {
             "colorbar": {
              "outlinewidth": 0,
              "ticks": ""
             }
            },
            "type": "scattergeo"
           }
          ],
          "scattergl": [
           {
            "marker": {
             "colorbar": {
              "outlinewidth": 0,
              "ticks": ""
             }
            },
            "type": "scattergl"
           }
          ],
          "scattermapbox": [
           {
            "marker": {
             "colorbar": {
              "outlinewidth": 0,
              "ticks": ""
             }
            },
            "type": "scattermapbox"
           }
          ],
          "scatterpolar": [
           {
            "marker": {
             "colorbar": {
              "outlinewidth": 0,
              "ticks": ""
             }
            },
            "type": "scatterpolar"
           }
          ],
          "scatterpolargl": [
           {
            "marker": {
             "colorbar": {
              "outlinewidth": 0,
              "ticks": ""
             }
            },
            "type": "scatterpolargl"
           }
          ],
          "scatterternary": [
           {
            "marker": {
             "colorbar": {
              "outlinewidth": 0,
              "ticks": ""
             }
            },
            "type": "scatterternary"
           }
          ],
          "surface": [
           {
            "colorbar": {
             "outlinewidth": 0,
             "ticks": ""
            },
            "colorscale": [
             [
              0,
              "#0d0887"
             ],
             [
              0.1111111111111111,
              "#46039f"
             ],
             [
              0.2222222222222222,
              "#7201a8"
             ],
             [
              0.3333333333333333,
              "#9c179e"
             ],
             [
              0.4444444444444444,
              "#bd3786"
             ],
             [
              0.5555555555555556,
              "#d8576b"
             ],
             [
              0.6666666666666666,
              "#ed7953"
             ],
             [
              0.7777777777777778,
              "#fb9f3a"
             ],
             [
              0.8888888888888888,
              "#fdca26"
             ],
             [
              1,
              "#f0f921"
             ]
            ],
            "type": "surface"
           }
          ],
          "table": [
           {
            "cells": {
             "fill": {
              "color": "#EBF0F8"
             },
             "line": {
              "color": "white"
             }
            },
            "header": {
             "fill": {
              "color": "#C8D4E3"
             },
             "line": {
              "color": "white"
             }
            },
            "type": "table"
           }
          ]
         },
         "layout": {
          "annotationdefaults": {
           "arrowcolor": "#2a3f5f",
           "arrowhead": 0,
           "arrowwidth": 1
          },
          "autotypenumbers": "strict",
          "coloraxis": {
           "colorbar": {
            "outlinewidth": 0,
            "ticks": ""
           }
          },
          "colorscale": {
           "diverging": [
            [
             0,
             "#8e0152"
            ],
            [
             0.1,
             "#c51b7d"
            ],
            [
             0.2,
             "#de77ae"
            ],
            [
             0.3,
             "#f1b6da"
            ],
            [
             0.4,
             "#fde0ef"
            ],
            [
             0.5,
             "#f7f7f7"
            ],
            [
             0.6,
             "#e6f5d0"
            ],
            [
             0.7,
             "#b8e186"
            ],
            [
             0.8,
             "#7fbc41"
            ],
            [
             0.9,
             "#4d9221"
            ],
            [
             1,
             "#276419"
            ]
           ],
           "sequential": [
            [
             0,
             "#0d0887"
            ],
            [
             0.1111111111111111,
             "#46039f"
            ],
            [
             0.2222222222222222,
             "#7201a8"
            ],
            [
             0.3333333333333333,
             "#9c179e"
            ],
            [
             0.4444444444444444,
             "#bd3786"
            ],
            [
             0.5555555555555556,
             "#d8576b"
            ],
            [
             0.6666666666666666,
             "#ed7953"
            ],
            [
             0.7777777777777778,
             "#fb9f3a"
            ],
            [
             0.8888888888888888,
             "#fdca26"
            ],
            [
             1,
             "#f0f921"
            ]
           ],
           "sequentialminus": [
            [
             0,
             "#0d0887"
            ],
            [
             0.1111111111111111,
             "#46039f"
            ],
            [
             0.2222222222222222,
             "#7201a8"
            ],
            [
             0.3333333333333333,
             "#9c179e"
            ],
            [
             0.4444444444444444,
             "#bd3786"
            ],
            [
             0.5555555555555556,
             "#d8576b"
            ],
            [
             0.6666666666666666,
             "#ed7953"
            ],
            [
             0.7777777777777778,
             "#fb9f3a"
            ],
            [
             0.8888888888888888,
             "#fdca26"
            ],
            [
             1,
             "#f0f921"
            ]
           ]
          },
          "colorway": [
           "#636efa",
           "#EF553B",
           "#00cc96",
           "#ab63fa",
           "#FFA15A",
           "#19d3f3",
           "#FF6692",
           "#B6E880",
           "#FF97FF",
           "#FECB52"
          ],
          "font": {
           "color": "#2a3f5f"
          },
          "geo": {
           "bgcolor": "white",
           "lakecolor": "white",
           "landcolor": "#E5ECF6",
           "showlakes": true,
           "showland": true,
           "subunitcolor": "white"
          },
          "hoverlabel": {
           "align": "left"
          },
          "hovermode": "closest",
          "mapbox": {
           "style": "light"
          },
          "paper_bgcolor": "white",
          "plot_bgcolor": "#E5ECF6",
          "polar": {
           "angularaxis": {
            "gridcolor": "white",
            "linecolor": "white",
            "ticks": ""
           },
           "bgcolor": "#E5ECF6",
           "radialaxis": {
            "gridcolor": "white",
            "linecolor": "white",
            "ticks": ""
           }
          },
          "scene": {
           "xaxis": {
            "backgroundcolor": "#E5ECF6",
            "gridcolor": "white",
            "gridwidth": 2,
            "linecolor": "white",
            "showbackground": true,
            "ticks": "",
            "zerolinecolor": "white"
           },
           "yaxis": {
            "backgroundcolor": "#E5ECF6",
            "gridcolor": "white",
            "gridwidth": 2,
            "linecolor": "white",
            "showbackground": true,
            "ticks": "",
            "zerolinecolor": "white"
           },
           "zaxis": {
            "backgroundcolor": "#E5ECF6",
            "gridcolor": "white",
            "gridwidth": 2,
            "linecolor": "white",
            "showbackground": true,
            "ticks": "",
            "zerolinecolor": "white"
           }
          },
          "shapedefaults": {
           "line": {
            "color": "#2a3f5f"
           }
          },
          "ternary": {
           "aaxis": {
            "gridcolor": "white",
            "linecolor": "white",
            "ticks": ""
           },
           "baxis": {
            "gridcolor": "white",
            "linecolor": "white",
            "ticks": ""
           },
           "bgcolor": "#E5ECF6",
           "caxis": {
            "gridcolor": "white",
            "linecolor": "white",
            "ticks": ""
           }
          },
          "title": {
           "x": 0.05
          },
          "xaxis": {
           "automargin": true,
           "gridcolor": "white",
           "linecolor": "white",
           "ticks": "",
           "title": {
            "standoff": 15
           },
           "zerolinecolor": "white",
           "zerolinewidth": 2
          },
          "yaxis": {
           "automargin": true,
           "gridcolor": "white",
           "linecolor": "white",
           "ticks": "",
           "title": {
            "standoff": 15
           },
           "zerolinecolor": "white",
           "zerolinewidth": 2
          }
         }
        },
        "title": {
         "text": "Document Distribution by Topics"
        },
        "xaxis": {
         "anchor": "y",
         "domain": [
          0,
          1
         ],
         "title": {
          "text": "Topic"
         }
        },
        "yaxis": {
         "anchor": "x",
         "domain": [
          0,
          1
         ],
         "title": {
          "text": "Documents"
         }
        }
       }
      },
      "text/html": [
       "<div>                            <div id=\"3702236b-66c0-4f8d-8440-4696eef5f8c2\" class=\"plotly-graph-div\" style=\"height:525px; width:100%;\"></div>            <script type=\"text/javascript\">                require([\"plotly\"], function(Plotly) {                    window.PLOTLYENV=window.PLOTLYENV || {};                                    if (document.getElementById(\"3702236b-66c0-4f8d-8440-4696eef5f8c2\")) {                    Plotly.newPlot(                        \"3702236b-66c0-4f8d-8440-4696eef5f8c2\",                        [{\"alignmentgroup\":\"True\",\"customdata\":[[\"say, state, government, year, company, also, include, bill, make, federal\"],[\"say, people, police, group, kill, government, attack, state, report, year\"],[\"say, election, trump, government, vote, country, leader, party, united_state, official\"],[\"trump, say, go, people, make, get, know, think, time, take\"]],\"hovertemplate\":\"Topic=%{x}<br>Documents=%{y}<br>Keyword=%{customdata[0]}<extra></extra>\",\"legendgroup\":\"\",\"marker\":{\"color\":\"#636efa\",\"pattern\":{\"shape\":\"\"}},\"name\":\"\",\"offsetgroup\":\"\",\"orientation\":\"v\",\"showlegend\":false,\"textposition\":\"auto\",\"x\":[\"Topic 0\",\"Topic 1\",\"Topic 2\",\"Topic 3\"],\"xaxis\":\"x\",\"y\":[2058,1654,2546,3742],\"yaxis\":\"y\",\"type\":\"bar\"}],                        {\"template\":{\"data\":{\"histogram2dcontour\":[{\"type\":\"histogram2dcontour\",\"colorbar\":{\"outlinewidth\":0,\"ticks\":\"\"},\"colorscale\":[[0.0,\"#0d0887\"],[0.1111111111111111,\"#46039f\"],[0.2222222222222222,\"#7201a8\"],[0.3333333333333333,\"#9c179e\"],[0.4444444444444444,\"#bd3786\"],[0.5555555555555556,\"#d8576b\"],[0.6666666666666666,\"#ed7953\"],[0.7777777777777778,\"#fb9f3a\"],[0.8888888888888888,\"#fdca26\"],[1.0,\"#f0f921\"]]}],\"choropleth\":[{\"type\":\"choropleth\",\"colorbar\":{\"outlinewidth\":0,\"ticks\":\"\"}}],\"histogram2d\":[{\"type\":\"histogram2d\",\"colorbar\":{\"outlinewidth\":0,\"ticks\":\"\"},\"colorscale\":[[0.0,\"#0d0887\"],[0.1111111111111111,\"#46039f\"],[0.2222222222222222,\"#7201a8\"],[0.3333333333333333,\"#9c179e\"],[0.4444444444444444,\"#bd3786\"],[0.5555555555555556,\"#d8576b\"],[0.6666666666666666,\"#ed7953\"],[0.7777777777777778,\"#fb9f3a\"],[0.8888888888888888,\"#fdca26\"],[1.0,\"#f0f921\"]]}],\"heatmap\":[{\"type\":\"heatmap\",\"colorbar\":{\"outlinewidth\":0,\"ticks\":\"\"},\"colorscale\":[[0.0,\"#0d0887\"],[0.1111111111111111,\"#46039f\"],[0.2222222222222222,\"#7201a8\"],[0.3333333333333333,\"#9c179e\"],[0.4444444444444444,\"#bd3786\"],[0.5555555555555556,\"#d8576b\"],[0.6666666666666666,\"#ed7953\"],[0.7777777777777778,\"#fb9f3a\"],[0.8888888888888888,\"#fdca26\"],[1.0,\"#f0f921\"]]}],\"heatmapgl\":[{\"type\":\"heatmapgl\",\"colorbar\":{\"outlinewidth\":0,\"ticks\":\"\"},\"colorscale\":[[0.0,\"#0d0887\"],[0.1111111111111111,\"#46039f\"],[0.2222222222222222,\"#7201a8\"],[0.3333333333333333,\"#9c179e\"],[0.4444444444444444,\"#bd3786\"],[0.5555555555555556,\"#d8576b\"],[0.6666666666666666,\"#ed7953\"],[0.7777777777777778,\"#fb9f3a\"],[0.8888888888888888,\"#fdca26\"],[1.0,\"#f0f921\"]]}],\"contourcarpet\":[{\"type\":\"contourcarpet\",\"colorbar\":{\"outlinewidth\":0,\"ticks\":\"\"}}],\"contour\":[{\"type\":\"contour\",\"colorbar\":{\"outlinewidth\":0,\"ticks\":\"\"},\"colorscale\":[[0.0,\"#0d0887\"],[0.1111111111111111,\"#46039f\"],[0.2222222222222222,\"#7201a8\"],[0.3333333333333333,\"#9c179e\"],[0.4444444444444444,\"#bd3786\"],[0.5555555555555556,\"#d8576b\"],[0.6666666666666666,\"#ed7953\"],[0.7777777777777778,\"#fb9f3a\"],[0.8888888888888888,\"#fdca26\"],[1.0,\"#f0f921\"]]}],\"surface\":[{\"type\":\"surface\",\"colorbar\":{\"outlinewidth\":0,\"ticks\":\"\"},\"colorscale\":[[0.0,\"#0d0887\"],[0.1111111111111111,\"#46039f\"],[0.2222222222222222,\"#7201a8\"],[0.3333333333333333,\"#9c179e\"],[0.4444444444444444,\"#bd3786\"],[0.5555555555555556,\"#d8576b\"],[0.6666666666666666,\"#ed7953\"],[0.7777777777777778,\"#fb9f3a\"],[0.8888888888888888,\"#fdca26\"],[1.0,\"#f0f921\"]]}],\"mesh3d\":[{\"type\":\"mesh3d\",\"colorbar\":{\"outlinewidth\":0,\"ticks\":\"\"}}],\"scatter\":[{\"fillpattern\":{\"fillmode\":\"overlay\",\"size\":10,\"solidity\":0.2},\"type\":\"scatter\"}],\"parcoords\":[{\"type\":\"parcoords\",\"line\":{\"colorbar\":{\"outlinewidth\":0,\"ticks\":\"\"}}}],\"scatterpolargl\":[{\"type\":\"scatterpolargl\",\"marker\":{\"colorbar\":{\"outlinewidth\":0,\"ticks\":\"\"}}}],\"bar\":[{\"error_x\":{\"color\":\"#2a3f5f\"},\"error_y\":{\"color\":\"#2a3f5f\"},\"marker\":{\"line\":{\"color\":\"#E5ECF6\",\"width\":0.5},\"pattern\":{\"fillmode\":\"overlay\",\"size\":10,\"solidity\":0.2}},\"type\":\"bar\"}],\"scattergeo\":[{\"type\":\"scattergeo\",\"marker\":{\"colorbar\":{\"outlinewidth\":0,\"ticks\":\"\"}}}],\"scatterpolar\":[{\"type\":\"scatterpolar\",\"marker\":{\"colorbar\":{\"outlinewidth\":0,\"ticks\":\"\"}}}],\"histogram\":[{\"marker\":{\"pattern\":{\"fillmode\":\"overlay\",\"size\":10,\"solidity\":0.2}},\"type\":\"histogram\"}],\"scattergl\":[{\"type\":\"scattergl\",\"marker\":{\"colorbar\":{\"outlinewidth\":0,\"ticks\":\"\"}}}],\"scatter3d\":[{\"type\":\"scatter3d\",\"line\":{\"colorbar\":{\"outlinewidth\":0,\"ticks\":\"\"}},\"marker\":{\"colorbar\":{\"outlinewidth\":0,\"ticks\":\"\"}}}],\"scattermapbox\":[{\"type\":\"scattermapbox\",\"marker\":{\"colorbar\":{\"outlinewidth\":0,\"ticks\":\"\"}}}],\"scatterternary\":[{\"type\":\"scatterternary\",\"marker\":{\"colorbar\":{\"outlinewidth\":0,\"ticks\":\"\"}}}],\"scattercarpet\":[{\"type\":\"scattercarpet\",\"marker\":{\"colorbar\":{\"outlinewidth\":0,\"ticks\":\"\"}}}],\"carpet\":[{\"aaxis\":{\"endlinecolor\":\"#2a3f5f\",\"gridcolor\":\"white\",\"linecolor\":\"white\",\"minorgridcolor\":\"white\",\"startlinecolor\":\"#2a3f5f\"},\"baxis\":{\"endlinecolor\":\"#2a3f5f\",\"gridcolor\":\"white\",\"linecolor\":\"white\",\"minorgridcolor\":\"white\",\"startlinecolor\":\"#2a3f5f\"},\"type\":\"carpet\"}],\"table\":[{\"cells\":{\"fill\":{\"color\":\"#EBF0F8\"},\"line\":{\"color\":\"white\"}},\"header\":{\"fill\":{\"color\":\"#C8D4E3\"},\"line\":{\"color\":\"white\"}},\"type\":\"table\"}],\"barpolar\":[{\"marker\":{\"line\":{\"color\":\"#E5ECF6\",\"width\":0.5},\"pattern\":{\"fillmode\":\"overlay\",\"size\":10,\"solidity\":0.2}},\"type\":\"barpolar\"}],\"pie\":[{\"automargin\":true,\"type\":\"pie\"}]},\"layout\":{\"autotypenumbers\":\"strict\",\"colorway\":[\"#636efa\",\"#EF553B\",\"#00cc96\",\"#ab63fa\",\"#FFA15A\",\"#19d3f3\",\"#FF6692\",\"#B6E880\",\"#FF97FF\",\"#FECB52\"],\"font\":{\"color\":\"#2a3f5f\"},\"hovermode\":\"closest\",\"hoverlabel\":{\"align\":\"left\"},\"paper_bgcolor\":\"white\",\"plot_bgcolor\":\"#E5ECF6\",\"polar\":{\"bgcolor\":\"#E5ECF6\",\"angularaxis\":{\"gridcolor\":\"white\",\"linecolor\":\"white\",\"ticks\":\"\"},\"radialaxis\":{\"gridcolor\":\"white\",\"linecolor\":\"white\",\"ticks\":\"\"}},\"ternary\":{\"bgcolor\":\"#E5ECF6\",\"aaxis\":{\"gridcolor\":\"white\",\"linecolor\":\"white\",\"ticks\":\"\"},\"baxis\":{\"gridcolor\":\"white\",\"linecolor\":\"white\",\"ticks\":\"\"},\"caxis\":{\"gridcolor\":\"white\",\"linecolor\":\"white\",\"ticks\":\"\"}},\"coloraxis\":{\"colorbar\":{\"outlinewidth\":0,\"ticks\":\"\"}},\"colorscale\":{\"sequential\":[[0.0,\"#0d0887\"],[0.1111111111111111,\"#46039f\"],[0.2222222222222222,\"#7201a8\"],[0.3333333333333333,\"#9c179e\"],[0.4444444444444444,\"#bd3786\"],[0.5555555555555556,\"#d8576b\"],[0.6666666666666666,\"#ed7953\"],[0.7777777777777778,\"#fb9f3a\"],[0.8888888888888888,\"#fdca26\"],[1.0,\"#f0f921\"]],\"sequentialminus\":[[0.0,\"#0d0887\"],[0.1111111111111111,\"#46039f\"],[0.2222222222222222,\"#7201a8\"],[0.3333333333333333,\"#9c179e\"],[0.4444444444444444,\"#bd3786\"],[0.5555555555555556,\"#d8576b\"],[0.6666666666666666,\"#ed7953\"],[0.7777777777777778,\"#fb9f3a\"],[0.8888888888888888,\"#fdca26\"],[1.0,\"#f0f921\"]],\"diverging\":[[0,\"#8e0152\"],[0.1,\"#c51b7d\"],[0.2,\"#de77ae\"],[0.3,\"#f1b6da\"],[0.4,\"#fde0ef\"],[0.5,\"#f7f7f7\"],[0.6,\"#e6f5d0\"],[0.7,\"#b8e186\"],[0.8,\"#7fbc41\"],[0.9,\"#4d9221\"],[1,\"#276419\"]]},\"xaxis\":{\"gridcolor\":\"white\",\"linecolor\":\"white\",\"ticks\":\"\",\"title\":{\"standoff\":15},\"zerolinecolor\":\"white\",\"automargin\":true,\"zerolinewidth\":2},\"yaxis\":{\"gridcolor\":\"white\",\"linecolor\":\"white\",\"ticks\":\"\",\"title\":{\"standoff\":15},\"zerolinecolor\":\"white\",\"automargin\":true,\"zerolinewidth\":2},\"scene\":{\"xaxis\":{\"backgroundcolor\":\"#E5ECF6\",\"gridcolor\":\"white\",\"linecolor\":\"white\",\"showbackground\":true,\"ticks\":\"\",\"zerolinecolor\":\"white\",\"gridwidth\":2},\"yaxis\":{\"backgroundcolor\":\"#E5ECF6\",\"gridcolor\":\"white\",\"linecolor\":\"white\",\"showbackground\":true,\"ticks\":\"\",\"zerolinecolor\":\"white\",\"gridwidth\":2},\"zaxis\":{\"backgroundcolor\":\"#E5ECF6\",\"gridcolor\":\"white\",\"linecolor\":\"white\",\"showbackground\":true,\"ticks\":\"\",\"zerolinecolor\":\"white\",\"gridwidth\":2}},\"shapedefaults\":{\"line\":{\"color\":\"#2a3f5f\"}},\"annotationdefaults\":{\"arrowcolor\":\"#2a3f5f\",\"arrowhead\":0,\"arrowwidth\":1},\"geo\":{\"bgcolor\":\"white\",\"landcolor\":\"#E5ECF6\",\"subunitcolor\":\"white\",\"showland\":true,\"showlakes\":true,\"lakecolor\":\"white\"},\"title\":{\"x\":0.05},\"mapbox\":{\"style\":\"light\"}}},\"xaxis\":{\"anchor\":\"y\",\"domain\":[0.0,1.0],\"title\":{\"text\":\"Topic\"}},\"yaxis\":{\"anchor\":\"x\",\"domain\":[0.0,1.0],\"title\":{\"text\":\"Documents\"}},\"legend\":{\"tracegroupgap\":0},\"title\":{\"text\":\"Document Distribution by Topics\"},\"barmode\":\"relative\"},                        {\"responsive\": true}                    ).then(function(){\n",
       "                            \n",
       "var gd = document.getElementById('3702236b-66c0-4f8d-8440-4696eef5f8c2');\n",
       "var x = new MutationObserver(function (mutations, observer) {{\n",
       "        var display = window.getComputedStyle(gd).display;\n",
       "        if (!display || display === 'none') {{\n",
       "            console.log([gd, 'removed!']);\n",
       "            Plotly.purge(gd);\n",
       "            observer.disconnect();\n",
       "        }}\n",
       "}});\n",
       "\n",
       "// Listen for the removal of the full notebook cells\n",
       "var notebookContainer = gd.closest('#notebook-container');\n",
       "if (notebookContainer) {{\n",
       "    x.observe(notebookContainer, {childList: true});\n",
       "}}\n",
       "\n",
       "// Listen for the clearing of the current output cell\n",
       "var outputEl = gd.closest('.output');\n",
       "if (outputEl) {{\n",
       "    x.observe(outputEl, {childList: true});\n",
       "}}\n",
       "\n",
       "                        })                };                });            </script>        </div>"
      ]
     },
     "metadata": {},
     "output_type": "display_data"
    }
   ],
   "source": [
    "plot_model(lda, plot = 'topic_distribution')"
   ]
  },
  {
   "cell_type": "code",
   "execution_count": 17,
   "id": "16e01388",
   "metadata": {},
   "outputs": [
    {
     "data": {
      "text/html": [
       "        <script type=\"text/javascript\">\n",
       "        window.PlotlyConfig = {MathJaxConfig: 'local'};\n",
       "        if (window.MathJax) {MathJax.Hub.Config({SVG: {font: \"STIX-Web\"}});}\n",
       "        if (typeof require !== 'undefined') {\n",
       "        require.undef(\"plotly\");\n",
       "        requirejs.config({\n",
       "            paths: {\n",
       "                'plotly': ['https://cdn.plot.ly/plotly-2.11.1.min']\n",
       "            }\n",
       "        });\n",
       "        require(['plotly'], function(Plotly) {\n",
       "            window._Plotly = Plotly;\n",
       "        });\n",
       "        }\n",
       "        </script>\n",
       "        "
      ]
     },
     "metadata": {},
     "output_type": "display_data"
    },
    {
     "name": "stderr",
     "output_type": "stream",
     "text": [
      "IOPub message rate exceeded.\n",
      "The notebook server will temporarily stop sending output\n",
      "to the client in order to avoid crashing it.\n",
      "To change this limit, set the config variable\n",
      "`--NotebookApp.iopub_msg_rate_limit`.\n",
      "\n",
      "Current values:\n",
      "NotebookApp.iopub_msg_rate_limit=1000.0 (msgs/sec)\n",
      "NotebookApp.rate_limit_window=3.0 (secs)\n",
      "\n",
      "IOPub message rate exceeded.\n",
      "The notebook server will temporarily stop sending output\n",
      "to the client in order to avoid crashing it.\n",
      "To change this limit, set the config variable\n",
      "`--NotebookApp.iopub_msg_rate_limit`.\n",
      "\n",
      "Current values:\n",
      "NotebookApp.iopub_msg_rate_limit=1000.0 (msgs/sec)\n",
      "NotebookApp.rate_limit_window=3.0 (secs)\n",
      "\n"
     ]
    },
    {
     "data": {
      "image/png": "[encoded data removed]",
      "text/plain": [
       "<Figure size 576x576 with 1 Axes>"
      ]
     },
     "metadata": {
      "needs_background": "light"
     },
     "output_type": "display_data"
    }
   ],
   "source": [
    "plot_model(lda, plot = 'wordcloud')"
   ]
  },
  {
   "cell_type": "code",
   "execution_count": 18,
   "id": "cf281760",
   "metadata": {
    "scrolled": false
   },
   "outputs": [
    {
     "data": {
      "text/html": [
       "        <script type=\"text/javascript\">\n",
       "        window.PlotlyConfig = {MathJaxConfig: 'local'};\n",
       "        if (window.MathJax) {MathJax.Hub.Config({SVG: {font: \"STIX-Web\"}});}\n",
       "        if (typeof require !== 'undefined') {\n",
       "        require.undef(\"plotly\");\n",
       "        requirejs.config({\n",
       "            paths: {\n",
       "                'plotly': ['https://cdn.plot.ly/plotly-2.11.1.min']\n",
       "            }\n",
       "        });\n",
       "        require(['plotly'], function(Plotly) {\n",
       "            window._Plotly = Plotly;\n",
       "        });\n",
       "        }\n",
       "        </script>\n",
       "        "
      ]
     },
     "metadata": {},
     "output_type": "display_data"
    },
    {
     "data": {
      "text/html": [
       "\n",
       "<link rel=\"stylesheet\" type=\"text/css\" href=\"https://cdn.jsdelivr.net/gh/bmabey/pyLDAvis@3.2.2/pyLDAvis/js/ldavis.v1.0.0.css\">\n",
       "\n",
       "\n",
       "<div id=\"ldavis_el7007140656653098704287534944\"></div>\n",
       "<script type=\"text/javascript\">\n",
       "\n",
       "var ldavis_el7007140656653098704287534944_data = {\"mdsDat\": {\"x\": [-0.16026033231487674, 0.053544203630543574, 0.14786963311206622, -0.041153504427733065], \"y\": [0.060680151271884204, 0.12431555630751498, -0.03207936582114462, -0.15291634175825455], \"topics\": [1, 2, 3, 4], \"cluster\": [1, 1, 1, 1], \"Freq\": [33.939748447387295, 24.459031487826802, 22.68616597794395, 18.915054086841955]}, \"tinfo\": {\"Term\": [\"say\", \"police\", \"trump\", \"election\", \"company\", \"government\", \"party\", \"kill\", \"bill\", \"vote\", \"woman\", \"people\", \"leader\", \"federal\", \"man\", \"military\", \"official\", \"north_korea\", \"tax\", \"think\", \"arrest\", \"state\", \"thing\", \"attack\", \"refugee\", \"get\", \"email\", \"city\", \"law\", \"group\", \"racist\", \"hate\", \"getty_image\", \"literally\", \"racism\", \"joke\", \"mainstream_media\", \"white_supremacist\", \"featured_image\", \"stupid\", \"funny\", \"disgusting\", \"hannity\", \"african_american\", \"reilly\", \"brag\", \"rant\", \"tape\", \"viewer\", \"realdonaldtrump\", \"hat\", \"liar\", \"pathetic\", \"fun\", \"conway\", \"whine\", \"offend\", \"hateful\", \"bigot\", \"hilarious\", \"love\", \"audience\", \"kid\", \"guy\", \"fake_new\", \"laugh\", \"really\", \"watch\", \"white\", \"truth\", \"tweet\", \"wonder\", \"thing\", \"actually\", \"seem\", \"think\", \"twitter\", \"fact\", \"true\", \"get\", \"woman\", \"video\", \"lie\", \"go\", \"black\", \"trump\", \"know\", \"story\", \"word\", \"even\", \"let\", \"ever\", \"never\", \"bad\", \"people\", \"happen\", \"want\", \"make\", \"time\", \"good\", \"come\", \"look\", \"see\", \"show\", \"way\", \"well\", \"take\", \"medium\", \"say\", \"campaign\", \"tell\", \"man\", \"president\", \"call\", \"ask\", \"right\", \"many\", \"also\", \"give\", \"north_korea\", \"diplomat\", \"kurdish\", \"referendum\", \"merkel\", \"brexit\", \"diplomacy\", \"european_union\", \"south_korea\", \"ballistic_missile\", \"opinion_poll\", \"foreign_minister\", \"security_council\", \"labour\", \"spd\", \"populist\", \"korean_peninsula\", \"bilateral\", \"northern_ireland\", \"chemical_weapon\", \"turnbull\", \"gorsuch\", \"macron\", \"elector\", \"nuclear_test\", \"trade_deal\", \"nuclear_deal\", \"iraqi_force\", \"envoy\", \"peace_talk\", \"missile\", \"minister\", \"summit\", \"iranian\", \"sanction\", \"prime_minister\", \"negotiation\", \"ballot\", \"ally\", \"nuclear_weapon\", \"stability\", \"parliament\", \"coalition\", \"independence\", \"diplomatic\", \"opposition\", \"chinese\", \"leader\", \"party\", \"trade\", \"cooperation\", \"relation\", \"delegate\", \"election\", \"regional\", \"region\", \"vote\", \"agreement\", \"nuclear\", \"say\", \"united_state\", \"military\", \"nomination\", \"deal\", \"visit\", \"support\", \"country\", \"government\", \"official\", \"political\", \"democratic\", \"talk\", \"meet\", \"voter\", \"win\", \"meeting\", \"lead\", \"policy\", \"trump\", \"state\", \"also\", \"percent\", \"issue\", \"take\", \"call\", \"tell\", \"republican\", \"former\", \"year\", \"make\", \"campaign\", \"include\", \"payment\", \"technology\", \"consumer\", \"profit\", \"insurance\", \"deficit\", \"loan\", \"income\", \"goldman_sach\", \"disclosure\", \"hacker\", \"regulator\", \"mortgage\", \"uranium\", \"ethic\", \"nune\", \"intelligence_committee\", \"automaker\", \"emission\", \"fiscal_year\", \"insurer\", \"software\", \"tax\", \"retailer\", \"classified_information\", \"coal\", \"dossier\", \"puerto_rico\", \"mnuchin\", \"provider\", \"comey\", \"budget\", \"company\", \"corporation\", \"debt\", \"industry\", \"repeal\", \"bank\", \"product\", \"taxpayer\", \"revenue\", \"regulation\", \"bill\", \"contract\", \"legislation\", \"spending\", \"probe\", \"fund\", \"funding\", \"cost\", \"email\", \"federal\", \"taxis\", \"program\", \"investigation\", \"business\", \"information\", \"financial\", \"document\", \"market\", \"agency\", \"datum\", \"pay\", \"money\", \"pass\", \"state\", \"system\", \"say\", \"administration\", \"plan\", \"include\", \"government\", \"percent\", \"report\", \"year\", \"also\", \"law\", \"former\", \"work\", \"public\", \"make\", \"official\", \"use\", \"accord\", \"trump\", \"new\", \"campaign\", \"police\", \"arrest\", \"convict\", \"firearm\", \"detention\", \"custody\", \"defendant\", \"rakhine\", \"rohingya\", \"raid\", \"inmate\", \"mosque\", \"detainee\", \"passport\", \"bangladesh\", \"verdict\", \"convoy\", \"rifle\", \"injury\", \"indonesian\", \"somali\", \"misdemeanor\", \"evacuate\", \"gunfire\", \"clinic\", \"gunman\", \"swedish\", \"massacre\", \"rohingya_muslim\", \"handgun\", \"police_officer\", \"shooting\", \"trial\", \"refugee\", \"pakistani\", \"tourist\", \"islamic\", \"security_force\", \"nearby\", \"injure\", \"prison\", \"airport\", \"village\", \"resident\", \"kill\", \"flee\", \"detain\", \"wound\", \"officer\", \"jail\", \"suspect\", \"gun\", \"soldier\", \"city\", \"sentence\", \"town\", \"terrorist\", \"muslim\", \"terror\", \"authority\", \"shoot\", \"local\", \"migrant\", \"court\", \"charge\", \"victim\", \"crime\", \"area\", \"attack\", \"death\", \"group\", \"case\", \"child\", \"say\", \"people\", \"protest\", \"violence\", \"family\", \"law\", \"report\", \"man\", \"government\", \"order\", \"state\", \"year\", \"country\", \"military\", \"tell\", \"also\", \"include\", \"official\", \"take\", \"use\", \"call\"], \"Freq\": [36919.0, 2396.0, 12163.0, 5251.0, 2011.0, 6379.0, 2848.0, 1932.0, 1961.0, 4067.0, 3343.0, 9168.0, 2834.0, 2162.0, 2654.0, 2469.0, 4418.0, 1235.0, 1177.0, 3750.0, 1001.0, 6374.0, 2453.0, 2923.0, 912.0, 4378.0, 1401.0, 1362.0, 2746.0, 3696.0, 737.6916031167812, 741.7813817257507, 315.53550626582523, 273.5757653531254, 270.68340932664336, 262.68933083003134, 271.1225085934411, 201.09176588841405, 198.99873914452323, 176.14483254276047, 163.1675469792516, 158.72096810927354, 151.626618545238, 249.6203937575969, 140.99886610000655, 141.29121114553917, 138.34202997479912, 152.60568510942807, 138.2826362917153, 124.39981991969402, 122.94858037406097, 121.65829755849454, 118.47467678369192, 116.63092673284571, 118.90369075833536, 115.90244379469101, 117.84040633876263, 115.12432762099056, 118.03602323392573, 111.05104809671381, 643.5663797752302, 293.52699644594713, 401.8141154574693, 480.09426452744555, 338.1764507808247, 204.74451517069843, 1603.241926299452, 1424.1688386228557, 935.3354078125872, 441.69291686781156, 859.4912307469027, 297.77560140866314, 2179.1314176767805, 1140.163868875734, 1133.168015221142, 3029.856376501722, 1115.7194777058753, 1571.4417234221426, 573.0336992564846, 3459.7171228507773, 2677.08950712047, 1467.25344845074, 952.9356402090956, 5321.970383472224, 1271.7419540338076, 7840.995516552556, 3338.089254922843, 1189.915075898845, 929.5674365891466, 2825.52445932076, 1156.1621791518457, 979.3046828482871, 1418.3739732870038, 1223.0976965903078, 5086.66176717961, 1332.0065228700905, 2622.205452980281, 4067.740666716563, 2874.1772987057484, 1630.0125071023767, 2520.9252474493533, 1532.9609021494277, 2355.07741509632, 2064.0927885982605, 1812.0909665137904, 1759.8651385315848, 2865.8627269998833, 1538.0653442489026, 6371.057854374536, 2153.200174925922, 2395.4961838040545, 1618.4573459414578, 1743.7979309787336, 2104.9561260495866, 1709.7377765519598, 1672.443076290899, 1640.2013264803816, 1708.3355356616921, 1622.2798152039204, 1234.725003748587, 364.0100269504667, 243.8470149024586, 222.08182830746222, 180.93785387082653, 153.27761438070888, 148.23514152175463, 220.35010030766563, 141.84534808560167, 126.20642068562017, 118.07966188364216, 149.9644849411765, 108.78517733871456, 108.37426731962323, 102.4445019028828, 103.9345815362134, 87.16931556225171, 84.48163760031842, 82.53922266919511, 83.60711724700506, 80.36961384853471, 110.7852196288935, 75.66972570341453, 76.96445485043112, 73.76583426711196, 68.86310435121291, 64.08380641306626, 65.45645362931327, 63.23360551302653, 62.30495300750817, 359.67555669290556, 163.24696783716547, 309.28179498274966, 375.2562959763461, 957.5399872643496, 314.0352980765689, 349.38695256710355, 231.64351651629624, 852.8112206899126, 191.44680846714505, 149.98190653295524, 355.9578978922708, 534.4522319656958, 283.33215981239687, 359.8973988872181, 840.9025174136362, 499.1911915294002, 2263.415817132822, 2247.848231151175, 849.3811705925551, 205.8082540959709, 481.55400755239714, 280.756529906838, 3474.9061665738554, 333.49216731486155, 730.0052878381003, 2677.9274018925757, 679.9439518760726, 490.475169162496, 15538.415268373228, 2054.1870294840032, 1507.0056679311906, 483.3551823724217, 1185.8549997863688, 863.847973297663, 1846.0641644812983, 2287.0687638589834, 2681.919037000921, 2020.0772949404056, 1603.6533420510996, 1095.757408635472, 1292.2542356885103, 1042.5401077687457, 924.6693634360153, 929.5510676683364, 805.8520169139869, 1247.1301352825985, 1137.350239495792, 2850.5004635752525, 1950.8067812211993, 1962.409735561759, 1234.5382442847188, 1249.443025807144, 1805.7199391037607, 1617.4963646625697, 1622.177023725764, 1301.868950867321, 1357.643218759413, 1578.6432533253744, 1670.363578642502, 1413.9553782976739, 1291.589253530316, 344.13090591249687, 297.7653693963598, 229.01140198692792, 233.18591231780533, 214.83989339002056, 174.98864435243553, 172.76220113871753, 265.6708798172723, 165.6860613390276, 164.46250527944392, 133.03013350860195, 116.95123762753975, 116.4507888279182, 116.66618591786893, 160.0334228158589, 107.92123373349463, 107.25919671935641, 105.10111541964237, 104.44852121678996, 103.19779813864068, 100.32680983500588, 94.76918518197299, 1167.9556556152706, 92.64811768264667, 81.61319286809079, 198.30487437643143, 78.27337150893096, 196.78243061630894, 73.02540037122907, 74.57401132283984, 380.17513661606904, 775.8445631516057, 1948.2960876593738, 170.8427755325812, 484.4205414472115, 597.2598942762625, 257.5829049160692, 583.7993132276481, 299.35479147139944, 230.6357675133568, 242.408943433354, 472.4125172559411, 1759.763199960258, 248.25538682130863, 904.017466023734, 404.7106103141737, 395.8374378815804, 1048.1055153200384, 470.31582937848003, 781.484718985203, 1092.534760460149, 1594.4699292729301, 397.6459735755047, 1136.5245664508816, 1179.7436774524767, 1250.1722239259984, 1026.8935072240054, 562.6818342371074, 756.5734718942398, 570.7961480172768, 887.0774463489855, 413.0839903992669, 1206.965232040492, 910.3147203316632, 812.491962262915, 2448.848222944107, 881.0929460302532, 7506.877827686844, 1039.3014622462047, 1327.7243868364878, 1797.0367534028194, 2139.906746080389, 1304.0887171109193, 1590.2985295151823, 1975.1987479060406, 1928.9179442098907, 1195.431469258828, 1363.418496276256, 1379.4357664520069, 1106.871351616712, 1749.7620205991775, 1345.924067437501, 1314.230962983273, 1134.1078531145702, 1471.8315843362127, 1137.047950677701, 1065.6842932067711, 2395.871858090899, 1000.2647909146227, 248.16396369449762, 175.37033945792635, 164.16032321461284, 139.92802938448227, 136.10401741209424, 133.1937861057921, 130.77038410320407, 125.35429758075395, 119.63063665759871, 105.40740679570384, 82.13881016045646, 73.29781654338599, 66.23768013787756, 67.66217476252469, 69.10090418675546, 67.40434848127548, 136.48485829678478, 59.885372404597156, 56.634933177455935, 59.839232455281206, 56.55935948549304, 53.55878919821887, 56.33152269771746, 50.45846163755368, 50.66096966037948, 53.46669876009607, 48.892221080465646, 49.283995941647966, 386.128870647431, 232.85255687300787, 364.2394286318865, 873.2389464155898, 103.3485857558921, 113.31816615403154, 203.41352617274822, 225.41273739703118, 146.86365655364426, 267.43391629076996, 441.6177614155796, 233.1148881041401, 165.6790891783542, 474.17957285194944, 1660.8153361336226, 302.4107008421897, 271.643560393612, 222.15943942131935, 675.7321084382537, 375.53366638684486, 573.0730747308119, 830.2989429959896, 391.7156147760105, 1073.986923214187, 383.60879326239996, 404.2252627480077, 612.9396076694701, 609.6370331204583, 269.7794205524835, 752.6598788699077, 662.2894727147816, 728.7480427551011, 358.4904726256497, 1106.4505856863766, 884.5380680414494, 545.9620674026262, 541.1647589028939, 670.2676294915461, 1454.6686947589453, 618.5897410741608, 1662.9983253808643, 1226.6805743491602, 944.6470670002866, 7502.953039343717, 2670.3645340408116, 691.0558765054038, 620.6896034704769, 966.8320337281575, 1105.370138715553, 1373.3667274569461, 1032.8701866885524, 1556.819469073977, 851.5672913603717, 1387.193538570069, 1358.6767174234335, 1259.0134164449335, 903.4337982401491, 1174.8843278466238, 1197.9359290454495, 1058.328694194974, 1043.5557594017453, 1058.7237825099487, 949.2775828882751, 873.1800031460923], \"Total\": [36919.0, 2396.0, 12163.0, 5251.0, 2011.0, 6379.0, 2848.0, 1932.0, 1961.0, 4067.0, 3343.0, 9168.0, 2834.0, 2162.0, 2654.0, 2469.0, 4418.0, 1235.0, 1177.0, 3750.0, 1001.0, 6374.0, 2453.0, 2923.0, 912.0, 4378.0, 1401.0, 1362.0, 2746.0, 3696.0, 738.4473336572423, 742.5468496413721, 316.2949619590418, 274.3496727448665, 271.4527304309149, 263.44892856116, 272.00602720690193, 201.83723885451124, 199.75743727804664, 176.90940967860087, 163.91382955486407, 159.4692282971709, 152.3707041524297, 250.86207228520317, 141.746565405803, 142.0418622878059, 139.08411221599994, 153.43328773712193, 139.038192288742, 125.14229454339764, 123.70926691397491, 122.42663190405563, 119.22430733865446, 117.37475294366381, 119.66267579693645, 116.64660143132934, 118.60294331426977, 115.87780507239447, 118.80900978618325, 111.79024371864782, 653.1544204102624, 297.1136506007317, 412.36711894661397, 499.62142046745487, 348.29699878365994, 209.0856248712826, 1765.0783241680012, 1565.160503412901, 1011.0569516658003, 463.4819314814782, 929.4971989773449, 308.42736424593727, 2453.398926124529, 1264.6325844000921, 1292.2653277971708, 3750.421710115121, 1284.3894516035343, 1856.7678738608495, 630.1963840784595, 4378.453461207003, 3343.3744718375297, 1767.292749423228, 1105.2520223862264, 7476.100720628214, 1552.432185053999, 12163.577580153553, 4671.288936768545, 1473.1204393732442, 1112.4164382212427, 4023.80763049873, 1438.7836977013217, 1191.7398071433124, 1862.3096977651608, 1579.1612456252565, 9168.352648897115, 1817.7741879466353, 4335.374604648129, 8056.464637123749, 5267.449941269534, 2407.6804097303125, 4825.984654508771, 2252.0326719860022, 4409.882363151383, 3606.8659065126185, 2970.14173074085, 2848.9485741921517, 6738.722747478154, 2323.1105020858513, 36919.303989778324, 4633.612264097909, 5848.28764031092, 2654.8893689851757, 3145.508080489039, 5334.316776905669, 3156.2942168035756, 2957.376630589686, 3673.574048881479, 6797.5991444787915, 3648.8953396130814, 1235.4931025550936, 364.7702869459876, 244.59649855697407, 222.83102164134567, 181.70392883210107, 154.02294455200612, 148.99730037545712, 221.50304738136387, 142.58948420515296, 126.94869648793612, 118.82637939383491, 150.9759708472588, 109.535683310361, 109.12241332958675, 103.19374336544021, 104.71914710875119, 87.90632561162815, 85.23361911755252, 83.27955018166388, 84.3716407825226, 81.11480444033772, 111.83691647193396, 76.41028957294398, 77.71862392425518, 74.50717484681972, 69.64912896341608, 64.82941512055386, 66.21933805359313, 63.98181863183282, 63.04829653359919, 365.4507938792897, 166.10546482411186, 317.10045484415247, 385.6291436424188, 997.5506140524056, 322.8020890240544, 362.9042934833757, 239.9825125564896, 920.288450442039, 197.62498425953996, 153.7832342063368, 376.0462383869396, 578.7392561151751, 298.850359382847, 386.12118375496493, 949.7256772625561, 553.0635647655348, 2834.7386952833863, 2848.662083885214, 1001.8477571077848, 217.05021326476387, 557.2098918623115, 306.58407263027897, 5251.056473534861, 373.89853943098484, 911.5299864193308, 4067.9751711692975, 851.3848519868119, 586.8425484274354, 36919.303989778324, 3304.5056395789998, 2469.3453208698434, 604.0494187596938, 2028.6412016881688, 1333.5621511268116, 3737.637197414455, 5102.606174837087, 6379.2658799526125, 4418.535514403048, 3232.4065698670074, 1891.5603744096315, 2411.8114440352583, 1787.847652777675, 1496.1521487649566, 1563.593354370123, 1278.3613461451275, 2599.2295139042017, 2270.151787769152, 12163.577580153553, 6374.06643862246, 6797.5991444787915, 2822.0683744949893, 2971.4166486087074, 6738.722747478154, 5334.316776905669, 5848.28764031092, 3362.544808945937, 3796.039407398649, 6127.205870841518, 8056.464637123749, 4633.612264097909, 4551.403835239818, 344.9087178524209, 298.6254787987054, 229.76190751657853, 233.95966312086108, 215.59890824600495, 175.75087678930691, 173.52796232932425, 266.8779283534676, 166.4395660070801, 165.2444877706188, 133.78833721731897, 117.68682823058379, 117.19064500649573, 117.40998359421754, 161.05403220791285, 108.66017071918901, 108.0062501500258, 105.83758811078904, 105.2011383431723, 103.94815647579898, 101.06609858872098, 95.52430111945736, 1177.5512793433272, 93.41450152444722, 82.36026392545122, 200.17720977339272, 79.01921854891863, 198.76632936818444, 73.7675407798856, 75.33252441466024, 384.20199719191885, 793.2783331143382, 2011.7670167862452, 172.62160162812935, 496.09070048641524, 615.7114407197718, 262.72200363624034, 607.2998226660488, 308.94102457251597, 237.0788664256386, 249.58889977504364, 498.1894968645148, 1961.8632099784493, 257.1437351121839, 989.1899770117058, 429.17693925608893, 419.84757301235607, 1235.0185741942921, 517.821949125938, 919.9436863406645, 1401.3900551936804, 2162.1041808001582, 448.1698238187428, 1532.2141555536657, 1611.144853085655, 1756.7699032316432, 1391.0240318942517, 682.9932796235212, 980.7929202750562, 699.9267427493311, 1215.2832707125308, 475.90936993563935, 1973.4820186305844, 1407.5307838963581, 1253.0004755719865, 6374.06643862246, 1427.9372107876559, 36919.303989778324, 1847.6903252096176, 2734.994760344449, 4551.403835239818, 6379.2658799526125, 2822.0683744949893, 4174.286219308881, 6127.205870841518, 6797.5991444787915, 2746.9087327706943, 3796.039407398649, 3900.238183942456, 2507.6002773342257, 8056.464637123749, 4418.535514403048, 4261.174473457967, 3029.0631652208413, 12163.577580153553, 3258.7984810351704, 4633.612264097909, 2396.691980435049, 1001.0423635785498, 248.93836794212945, 176.14228929427955, 164.9277648028208, 140.6800624997577, 136.85578470495693, 133.93321840821926, 131.50967087917658, 126.11713479223539, 120.37999457393863, 106.15651746186786, 82.89680357281027, 74.09232268980308, 66.97887608452135, 68.42263572534165, 69.88100915167246, 68.19240192687269, 138.16331320234204, 60.64172712790383, 57.3780328727322, 60.630242040184854, 57.31843847637086, 54.30635655896712, 57.125698582670935, 51.197776927117566, 51.41516865006523, 54.26847315254574, 49.63927215596849, 50.037330622572505, 394.3284820636594, 238.32282012988804, 376.88524448369446, 912.7888342603771, 105.86210060655449, 116.63527707174887, 212.18161598083066, 236.87150698701495, 152.52525579728734, 283.12505322628584, 476.2213002936519, 247.21548086055859, 173.5715730676261, 519.5820038322449, 1932.0746923206154, 325.6075650181739, 291.2925972427613, 238.2101844347565, 778.4212896091786, 417.7327632920132, 670.1386261740988, 1009.1323675499591, 442.5458030230251, 1362.0258184709298, 437.732491281977, 466.1282456904461, 753.6991427797252, 773.9021378420924, 300.78095989030487, 998.3829043084229, 931.0041024139335, 1056.820412681473, 432.87854722523093, 1828.717393145291, 1422.343681238645, 755.97156882106, 749.4027903561075, 1004.1540014426587, 2923.2870414819376, 907.1740965457805, 3696.929948112639, 2403.80085842721, 1670.3048837764459, 36919.303989778324, 9168.352648897115, 1125.6938491201329, 945.7354833354941, 2062.1541854714023, 2746.9087327706943, 4174.286219308881, 2654.8893689851757, 6379.2658799526125, 1892.6283116678383, 6374.06643862246, 6127.205870841518, 5102.606174837087, 2469.3453208698434, 5848.28764031092, 6797.5991444787915, 4551.403835239818, 4418.535514403048, 6738.722747478154, 4261.174473457967, 5334.316776905669], \"Category\": [\"Default\", \"Default\", \"Default\", \"Default\", \"Default\", \"Default\", \"Default\", \"Default\", \"Default\", \"Default\", \"Default\", \"Default\", \"Default\", \"Default\", \"Default\", \"Default\", \"Default\", \"Default\", \"Default\", \"Default\", \"Default\", \"Default\", \"Default\", \"Default\", \"Default\", \"Default\", \"Default\", \"Default\", \"Default\", \"Default\", \"Topic1\", \"Topic1\", \"Topic1\", \"Topic1\", \"Topic1\", \"Topic1\", \"Topic1\", \"Topic1\", \"Topic1\", \"Topic1\", \"Topic1\", \"Topic1\", \"Topic1\", \"Topic1\", \"Topic1\", \"Topic1\", \"Topic1\", \"Topic1\", \"Topic1\", \"Topic1\", \"Topic1\", \"Topic1\", \"Topic1\", \"Topic1\", \"Topic1\", \"Topic1\", \"Topic1\", \"Topic1\", \"Topic1\", \"Topic1\", \"Topic1\", \"Topic1\", \"Topic1\", \"Topic1\", \"Topic1\", \"Topic1\", \"Topic1\", \"Topic1\", \"Topic1\", \"Topic1\", \"Topic1\", \"Topic1\", \"Topic1\", \"Topic1\", \"Topic1\", \"Topic1\", \"Topic1\", \"Topic1\", \"Topic1\", \"Topic1\", \"Topic1\", \"Topic1\", \"Topic1\", \"Topic1\", \"Topic1\", \"Topic1\", \"Topic1\", \"Topic1\", \"Topic1\", \"Topic1\", \"Topic1\", \"Topic1\", \"Topic1\", \"Topic1\", \"Topic1\", \"Topic1\", \"Topic1\", \"Topic1\", \"Topic1\", \"Topic1\", \"Topic1\", \"Topic1\", \"Topic1\", \"Topic1\", \"Topic1\", \"Topic1\", \"Topic1\", \"Topic1\", \"Topic1\", \"Topic1\", \"Topic1\", \"Topic1\", \"Topic1\", \"Topic1\", \"Topic1\", \"Topic1\", \"Topic1\", \"Topic1\", \"Topic1\", \"Topic2\", \"Topic2\", \"Topic2\", \"Topic2\", \"Topic2\", \"Topic2\", \"Topic2\", \"Topic2\", \"Topic2\", \"Topic2\", \"Topic2\", \"Topic2\", \"Topic2\", \"Topic2\", \"Topic2\", \"Topic2\", \"Topic2\", \"Topic2\", \"Topic2\", \"Topic2\", \"Topic2\", \"Topic2\", \"Topic2\", \"Topic2\", \"Topic2\", \"Topic2\", \"Topic2\", \"Topic2\", \"Topic2\", \"Topic2\", \"Topic2\", \"Topic2\", \"Topic2\", \"Topic2\", \"Topic2\", \"Topic2\", \"Topic2\", \"Topic2\", \"Topic2\", \"Topic2\", \"Topic2\", \"Topic2\", \"Topic2\", \"Topic2\", \"Topic2\", \"Topic2\", \"Topic2\", \"Topic2\", \"Topic2\", \"Topic2\", \"Topic2\", \"Topic2\", \"Topic2\", \"Topic2\", \"Topic2\", \"Topic2\", \"Topic2\", \"Topic2\", \"Topic2\", \"Topic2\", \"Topic2\", \"Topic2\", \"Topic2\", \"Topic2\", \"Topic2\", \"Topic2\", \"Topic2\", \"Topic2\", \"Topic2\", \"Topic2\", \"Topic2\", \"Topic2\", \"Topic2\", \"Topic2\", \"Topic2\", \"Topic2\", \"Topic2\", \"Topic2\", \"Topic2\", \"Topic2\", \"Topic2\", \"Topic2\", \"Topic2\", \"Topic2\", \"Topic2\", \"Topic2\", \"Topic2\", \"Topic2\", \"Topic2\", \"Topic2\", \"Topic2\", \"Topic2\", \"Topic3\", \"Topic3\", \"Topic3\", \"Topic3\", \"Topic3\", \"Topic3\", \"Topic3\", \"Topic3\", \"Topic3\", \"Topic3\", \"Topic3\", \"Topic3\", \"Topic3\", \"Topic3\", \"Topic3\", \"Topic3\", \"Topic3\", \"Topic3\", \"Topic3\", \"Topic3\", \"Topic3\", \"Topic3\", \"Topic3\", \"Topic3\", \"Topic3\", \"Topic3\", \"Topic3\", \"Topic3\", \"Topic3\", \"Topic3\", \"Topic3\", \"Topic3\", \"Topic3\", \"Topic3\", \"Topic3\", \"Topic3\", \"Topic3\", \"Topic3\", \"Topic3\", \"Topic3\", \"Topic3\", \"Topic3\", \"Topic3\", \"Topic3\", \"Topic3\", \"Topic3\", \"Topic3\", \"Topic3\", \"Topic3\", \"Topic3\", \"Topic3\", \"Topic3\", \"Topic3\", \"Topic3\", \"Topic3\", \"Topic3\", \"Topic3\", \"Topic3\", \"Topic3\", \"Topic3\", \"Topic3\", \"Topic3\", \"Topic3\", \"Topic3\", \"Topic3\", \"Topic3\", \"Topic3\", \"Topic3\", \"Topic3\", \"Topic3\", \"Topic3\", \"Topic3\", \"Topic3\", \"Topic3\", \"Topic3\", \"Topic3\", \"Topic3\", \"Topic3\", \"Topic3\", \"Topic3\", \"Topic3\", \"Topic3\", \"Topic3\", \"Topic3\", \"Topic3\", \"Topic3\", \"Topic3\", \"Topic4\", \"Topic4\", \"Topic4\", \"Topic4\", \"Topic4\", \"Topic4\", \"Topic4\", \"Topic4\", \"Topic4\", \"Topic4\", \"Topic4\", \"Topic4\", \"Topic4\", \"Topic4\", \"Topic4\", \"Topic4\", \"Topic4\", \"Topic4\", \"Topic4\", \"Topic4\", \"Topic4\", \"Topic4\", \"Topic4\", \"Topic4\", \"Topic4\", \"Topic4\", \"Topic4\", \"Topic4\", \"Topic4\", \"Topic4\", \"Topic4\", \"Topic4\", \"Topic4\", \"Topic4\", \"Topic4\", \"Topic4\", \"Topic4\", \"Topic4\", \"Topic4\", \"Topic4\", \"Topic4\", \"Topic4\", \"Topic4\", \"Topic4\", \"Topic4\", \"Topic4\", \"Topic4\", \"Topic4\", \"Topic4\", \"Topic4\", \"Topic4\", \"Topic4\", \"Topic4\", \"Topic4\", \"Topic4\", \"Topic4\", \"Topic4\", \"Topic4\", \"Topic4\", \"Topic4\", \"Topic4\", \"Topic4\", \"Topic4\", \"Topic4\", \"Topic4\", \"Topic4\", \"Topic4\", \"Topic4\", \"Topic4\", \"Topic4\", \"Topic4\", \"Topic4\", \"Topic4\", \"Topic4\", \"Topic4\", \"Topic4\", \"Topic4\", \"Topic4\", \"Topic4\", \"Topic4\", \"Topic4\", \"Topic4\", \"Topic4\", \"Topic4\", \"Topic4\", \"Topic4\", \"Topic4\", \"Topic4\", \"Topic4\", \"Topic4\", \"Topic4\", \"Topic4\", \"Topic4\", \"Topic4\"], \"logprob\": [30.0, 29.0, 28.0, 27.0, 26.0, 25.0, 24.0, 23.0, 22.0, 21.0, 20.0, 19.0, 18.0, 17.0, 16.0, 15.0, 14.0, 13.0, 12.0, 11.0, 10.0, 9.0, 8.0, 7.0, 6.0, 5.0, 4.0, 3.0, 2.0, 1.0, -6.5564, -6.5509, -7.4057, -7.5484, -7.559, -7.589, -7.5574, -7.8562, -7.8666, -7.9886, -8.0652, -8.0928, -8.1385, -7.64, -8.2112, -8.2091, -8.2302, -8.1321, -8.2306, -8.3364, -8.3482, -8.3587, -8.3852, -8.4009, -8.3816, -8.4072, -8.3906, -8.4139, -8.3889, -8.4499, -6.6929, -7.478, -7.1639, -6.986, -7.3364, -7.8382, -5.7802, -5.8986, -6.319, -7.0693, -6.4036, -7.4636, -5.4733, -6.121, -6.1272, -5.1437, -6.1427, -5.8002, -6.809, -5.011, -5.2674, -5.8688, -6.3004, -4.5803, -6.0118, -4.1928, -5.0468, -6.0783, -6.3252, -5.2135, -6.1071, -6.2731, -5.9027, -6.0508, -4.6256, -5.9655, -5.2882, -4.8491, -5.1964, -5.7636, -5.3276, -5.825, -5.3956, -5.5275, -5.6577, -5.6869, -5.1993, -5.8217, -4.4004, -5.4852, -5.3786, -5.7707, -5.6961, -5.5079, -5.7158, -5.7379, -5.7574, -5.7167, -5.7683, -5.7137, -6.9352, -7.3358, -7.4293, -7.6342, -7.8001, -7.8335, -7.4371, -7.8776, -7.9944, -8.061, -7.8219, -8.143, -8.1468, -8.203, -8.1886, -8.3645, -8.3958, -8.4191, -8.4062, -8.4457, -8.1248, -8.506, -8.489, -8.5315, -8.6002, -8.6722, -8.651, -8.6855, -8.7003, -6.9471, -7.7371, -7.0981, -6.9047, -5.968, -7.0828, -6.9762, -7.3871, -6.0838, -7.5777, -7.8218, -6.9575, -6.5511, -7.1857, -6.9465, -6.0979, -6.6194, -5.1077, -5.1146, -6.0878, -7.5054, -6.6553, -7.1949, -4.679, -7.0227, -6.2393, -4.9395, -6.3103, -6.637, -3.1813, -5.2047, -5.5145, -6.6516, -5.7541, -6.071, -5.3115, -5.0973, -4.9381, -5.2215, -5.4523, -5.8331, -5.6682, -5.8829, -6.0029, -5.9976, -6.1404, -5.7037, -5.7959, -4.8771, -5.2563, -5.2504, -5.7139, -5.7019, -5.3336, -5.4437, -5.4408, -5.6608, -5.6188, -5.468, -5.4116, -5.5782, -5.6687, -6.9161, -7.0608, -7.3233, -7.3053, -7.3872, -7.5924, -7.6052, -7.1748, -7.647, -7.6544, -7.8665, -7.9953, -7.9996, -7.9978, -7.6817, -8.0757, -8.0819, -8.1022, -8.1084, -8.1205, -8.1487, -8.2057, -5.6941, -8.2283, -8.3551, -7.4673, -8.3969, -7.475, -8.4663, -8.4453, -6.8165, -6.1032, -5.1824, -7.6164, -6.5741, -6.3648, -7.2058, -6.3875, -7.0555, -7.3163, -7.2665, -6.5993, -5.2842, -7.2426, -5.9503, -6.7539, -6.7761, -5.8024, -6.6037, -6.0959, -5.7608, -5.3828, -6.7715, -5.7214, -5.6841, -5.6261, -5.8228, -6.4244, -6.1283, -6.4101, -5.9692, -6.7335, -5.6612, -5.9433, -6.057, -4.9537, -5.9759, -3.8335, -5.8108, -5.5659, -5.2632, -5.0886, -5.5838, -5.3854, -5.1687, -5.1924, -5.6708, -5.5394, -5.5277, -5.7478, -5.2899, -5.5523, -5.5761, -5.7235, -5.4628, -5.7209, -5.7857, -4.7938, -5.6673, -7.0612, -7.4084, -7.4745, -7.6342, -7.6619, -7.6835, -7.7019, -7.7442, -7.7909, -7.9175, -8.1669, -8.2808, -8.3821, -8.3608, -8.3397, -8.3646, -7.6591, -8.4829, -8.5387, -8.4836, -8.54, -8.5945, -8.5441, -8.6542, -8.6502, -8.5962, -8.6857, -8.6777, -6.6191, -7.1249, -6.6775, -5.8031, -7.9372, -7.8451, -7.2601, -7.1574, -7.5858, -6.9864, -6.4849, -7.1238, -7.4653, -6.4137, -5.1602, -6.8635, -6.9708, -7.1719, -6.0595, -6.647, -6.2243, -5.8535, -6.6048, -5.5962, -6.6257, -6.5733, -6.157, -6.1624, -6.9777, -5.9517, -6.0796, -5.984, -6.6934, -5.5664, -5.7902, -6.2728, -6.2816, -6.0676, -5.2928, -6.1479, -5.1589, -5.4632, -5.7245, -3.6523, -4.6853, -6.0371, -6.1445, -5.7013, -5.5674, -5.3503, -5.6352, -5.2249, -5.8282, -5.3403, -5.361, -5.4372, -5.7691, -5.5064, -5.487, -5.6109, -5.6249, -5.6105, -5.7196, -5.8032], \"loglift\": [30.0, 29.0, 28.0, 27.0, 26.0, 25.0, 24.0, 23.0, 22.0, 21.0, 20.0, 19.0, 18.0, 17.0, 16.0, 15.0, 14.0, 13.0, 12.0, 11.0, 10.0, 9.0, 8.0, 7.0, 6.0, 5.0, 4.0, 3.0, 2.0, 1.0, 1.0796, 1.0796, 1.0782, 1.0778, 1.0777, 1.0777, 1.0773, 1.0769, 1.0768, 1.0763, 1.076, 1.0759, 1.0757, 1.0756, 1.0753, 1.0753, 1.0752, 1.0752, 1.0751, 1.0746, 1.0744, 1.0743, 1.0743, 1.0742, 1.0742, 1.0742, 1.0741, 1.0741, 1.0741, 1.0739, 1.0658, 1.0684, 1.0547, 1.0407, 1.0511, 1.0596, 0.9844, 0.9862, 1.0027, 1.0324, 1.0023, 1.0454, 0.962, 0.977, 0.9492, 0.8672, 0.9398, 0.9137, 0.9855, 0.8451, 0.8583, 0.8945, 0.9323, 0.7407, 0.8811, 0.6415, 0.7445, 0.8671, 0.901, 0.727, 0.8619, 0.8843, 0.8083, 0.8251, 0.4914, 0.7697, 0.5778, 0.3972, 0.4748, 0.6905, 0.4312, 0.696, 0.4533, 0.5224, 0.5865, 0.5989, 0.2256, 0.6682, -0.6764, 0.3142, 0.188, 0.5857, 0.4907, 0.1507, 0.4675, 0.5106, 0.2742, -0.3005, 0.27, 1.4075, 1.4061, 1.4051, 1.4048, 1.4039, 1.4033, 1.403, 1.403, 1.4029, 1.4023, 1.4019, 1.4014, 1.4013, 1.4013, 1.4009, 1.4007, 1.3998, 1.3993, 1.3992, 1.3991, 1.3989, 1.3987, 1.3984, 1.3984, 1.3982, 1.3968, 1.3966, 1.3966, 1.3964, 1.3963, 1.3922, 1.3908, 1.3832, 1.3809, 1.3672, 1.3806, 1.3702, 1.3728, 1.332, 1.3764, 1.3831, 1.3533, 1.3286, 1.3548, 1.3378, 1.2865, 1.3057, 1.1831, 1.1713, 1.2431, 1.355, 1.2622, 1.3202, 0.9953, 1.2938, 1.1861, 0.9901, 1.1833, 1.2288, 0.5428, 0.9328, 0.9143, 1.1853, 0.8713, 0.974, 0.7028, 0.6057, 0.5417, 0.6255, 0.7072, 0.8622, 0.7842, 0.8688, 0.927, 0.8881, 0.9467, 0.6738, 0.717, -0.0428, 0.2242, 0.1658, 0.5814, 0.5418, 0.0913, 0.2149, 0.1258, 0.4593, 0.38, 0.052, -0.1653, 0.2212, 0.1486, 1.4812, 1.4805, 1.4801, 1.4801, 1.4799, 1.4791, 1.479, 1.4789, 1.4789, 1.4787, 1.4777, 1.4771, 1.4771, 1.4771, 1.4771, 1.4766, 1.4765, 1.4764, 1.4762, 1.4762, 1.4761, 1.4755, 1.4752, 1.4752, 1.4743, 1.474, 1.4739, 1.4734, 1.4733, 1.4733, 1.4729, 1.4612, 1.4514, 1.4731, 1.4596, 1.453, 1.4637, 1.4439, 1.4519, 1.4559, 1.4542, 1.4303, 1.3747, 1.4482, 1.3934, 1.4247, 1.4245, 1.3193, 1.3872, 1.3203, 1.2345, 1.1789, 1.3638, 1.1847, 1.1718, 1.1432, 1.1799, 1.2896, 1.2239, 1.2795, 1.1686, 1.3418, 0.9917, 1.0476, 1.0502, 0.5268, 1.0006, -0.1095, 0.908, 0.7608, 0.5541, 0.3911, 0.7114, 0.5184, 0.3513, 0.2238, 0.6514, 0.4595, 0.4441, 0.6656, -0.0436, 0.2947, 0.3071, 0.501, -0.6285, 0.4305, 0.0137, 1.6649, 1.6644, 1.6621, 1.6608, 1.6605, 1.6599, 1.6597, 1.6597, 1.6596, 1.6591, 1.659, 1.6581, 1.656, 1.6544, 1.6541, 1.654, 1.654, 1.6536, 1.653, 1.6527, 1.6522, 1.6521, 1.6519, 1.6514, 1.6512, 1.6507, 1.6504, 1.6503, 1.65, 1.65, 1.6442, 1.642, 1.6311, 1.6209, 1.6412, 1.6364, 1.623, 1.6156, 1.6274, 1.6082, 1.5898, 1.6065, 1.6187, 1.5738, 1.5139, 1.5913, 1.5954, 1.5955, 1.5237, 1.5587, 1.5087, 1.4702, 1.5432, 1.4276, 1.5332, 1.5227, 1.4585, 1.4266, 1.5564, 1.3827, 1.3247, 1.2935, 1.4767, 1.1628, 1.1902, 1.3398, 1.3397, 1.261, 0.9673, 1.2823, 0.8663, 0.9925, 1.0953, 0.0718, 0.4317, 1.1773, 1.2441, 0.9077, 0.7549, 0.5535, 0.7212, 0.2548, 0.8666, 0.1403, 0.159, 0.2658, 0.6597, 0.0602, -0.0708, 0.2065, 0.222, -0.1856, 0.1636, -0.1446]}, \"token.table\": {\"Topic\": [1, 2, 3, 4, 1, 2, 3, 4, 1, 2, 3, 4, 1, 2, 2, 3, 4, 2, 3, 4, 2, 3, 4, 1, 2, 3, 4, 1, 2, 3, 4, 1, 2, 3, 4, 4, 1, 2, 3, 4, 1, 2, 3, 4, 1, 3, 2, 3, 4, 3, 1, 2, 3, 4, 2, 1, 2, 4, 2, 3, 4, 1, 2, 1, 2, 3, 4, 1, 2, 4, 1, 2, 2, 3, 1, 2, 3, 4, 1, 2, 3, 4, 1, 2, 3, 4, 1, 2, 3, 4, 1, 2, 3, 4, 2, 1, 3, 4, 2, 3, 4, 1, 2, 3, 4, 3, 4, 2, 3, 2, 3, 4, 1, 2, 3, 4, 1, 3, 1, 2, 3, 4, 3, 3, 4, 4, 4, 1, 2, 3, 1, 3, 1, 2, 3, 4, 1, 2, 3, 4, 1, 2, 3, 4, 1, 2, 3, 4, 4, 2, 3, 4, 1, 2, 3, 4, 1, 2, 4, 2, 3, 4, 3, 1, 2, 1, 2, 3, 2, 4, 4, 4, 2, 2, 2, 3, 4, 3, 1, 3, 4, 3, 1, 2, 3, 2, 1, 2, 3, 3, 2, 1, 3, 2, 4, 4, 1, 2, 3, 4, 1, 2, 3, 4, 1, 2, 3, 4, 1, 3, 1, 2, 3, 4, 1, 2, 3, 4, 2, 3, 4, 4, 3, 2, 4, 2, 4, 1, 2, 3, 4, 1, 1, 2, 3, 4, 2, 3, 4, 1, 1, 2, 3, 4, 1, 1, 2, 3, 4, 1, 2, 3, 4, 3, 1, 2, 3, 4, 2, 4, 1, 2, 3, 4, 1, 2, 3, 4, 1, 4, 4, 4, 1, 4, 3, 4, 1, 1, 2, 3, 4, 1, 1, 1, 1, 1, 2, 3, 4, 1, 3, 2, 3, 4, 4, 1, 3, 1, 2, 3, 4, 1, 4, 1, 4, 4, 3, 3, 3, 1, 2, 3, 4, 2, 4, 2, 2, 4, 1, 2, 3, 4, 1, 4, 1, 1, 4, 1, 2, 3, 4, 1, 2, 3, 4, 2, 2, 2, 1, 3, 4, 1, 2, 3, 4, 1, 2, 3, 4, 1, 2, 3, 4, 2, 3, 4, 1, 2, 3, 4, 1, 1, 2, 3, 4, 1, 3, 1, 2, 3, 4, 1, 2, 3, 4, 1, 4, 2, 1, 1, 2, 3, 4, 1, 2, 4, 1, 2, 3, 4, 1, 2, 3, 4, 4, 1, 2, 3, 4, 1, 2, 3, 4, 1, 2, 3, 4, 2, 2, 4, 1, 2, 3, 4, 2, 4, 4, 2, 3, 3, 1, 2, 3, 4, 3, 4, 1, 2, 4, 1, 4, 2, 3, 1, 2, 3, 4, 1, 2, 3, 4, 1, 2, 3, 2, 2, 2, 3, 2, 2, 2, 3, 3, 1, 1, 2, 3, 4, 1, 2, 3, 4, 2, 1, 2, 3, 4, 1, 2, 3, 4, 2, 4, 2, 4, 1, 2, 3, 1, 2, 3, 4, 4, 1, 1, 2, 3, 4, 3, 2, 1, 2, 3, 4, 1, 2, 3, 4, 1, 2, 3, 4, 4, 1, 4, 1, 2, 3, 4, 1, 2, 3, 4, 2, 1, 2, 3, 4, 2, 4, 1, 3, 4, 2, 3, 4, 1, 3, 3, 1, 2, 3, 4, 1, 2, 3, 4, 3, 1, 2, 3, 4, 1, 3, 1, 1, 4, 4, 1, 1, 1, 2, 3, 4, 2, 2, 4, 2, 3, 4, 2, 3, 4, 2, 3, 4, 3, 1, 1, 2, 3, 4, 1, 3, 1, 2, 3, 4, 1, 2, 3, 1, 2, 3, 4, 3, 2, 3, 4, 1, 2, 3, 4, 4, 4, 2, 3, 1, 2, 3, 4, 2, 2, 4, 1, 2, 3, 4, 1, 2, 3, 4, 1, 3, 4, 1, 2, 4, 1, 4, 1, 2, 3, 4, 3, 1, 2, 4, 4, 2, 2, 1, 2, 3, 2, 3, 1, 2, 3, 4, 1, 3, 4, 1, 1, 2, 3, 1, 2, 3, 4, 1, 2, 3, 4, 4, 1, 2, 3, 4, 1, 2, 3, 4, 1, 2, 3, 4, 1, 2, 3, 1, 3, 3, 4, 3, 1, 2, 3, 4, 1, 4, 1, 2, 4, 1, 2, 3, 4, 1, 2, 3, 4, 1, 2, 3, 4, 2, 4, 1, 2, 4, 2, 3, 2, 3, 4, 1, 2, 3, 4, 1, 2, 3, 1, 2, 3, 4, 2, 1, 2, 3, 1, 2, 3, 4, 1, 2, 3, 4, 3, 1, 2, 3, 4, 4, 1, 3, 4, 1, 4, 1, 1, 4, 1, 2, 4, 1, 2, 3, 4, 1, 2, 3, 1, 2, 1, 2, 3, 4, 1, 2, 3, 4, 1, 2, 3, 4, 1, 2, 3, 4, 1, 1, 4, 1, 1, 2, 3, 1, 2, 4, 1, 4, 1, 2, 3, 4, 1, 2, 3, 4, 1, 2, 4, 1, 2, 3, 4], \"Freq\": [0.16803875397655832, 0.18553591303502118, 0.3743731768357901, 0.2723614381741859, 0.9014475936034698, 0.02135007458534534, 0.06325948025287507, 0.013442639553735954, 0.09796013841197433, 0.3312243354040237, 0.5623236674587918, 0.008118243514804502, 0.996563560695524, 0.003986254242782096, 0.0806396355168633, 0.7298709867699771, 0.18925628743753634, 0.7986987299728623, 0.19967468249321557, 0.0011745569558424445, 0.016180216489986694, 0.04045054122496673, 0.942497610541725, 0.04563786493226801, 0.9268833044577289, 0.023905548297854674, 0.004346463326882668, 0.2512651840300538, 0.2886313179548979, 0.28377666275993785, 0.17623869465339842, 0.0009958631829015364, 0.23004439525025488, 0.10157804465595671, 0.6672283325440294, 0.9989587218119086, 0.5417745883435865, 0.17172036659779175, 0.18756172883006036, 0.09916692757400151, 0.35302725505766125, 0.11562326764485417, 0.03386598667704309, 0.4977273799504817, 0.9895203381115736, 0.010097146307260956, 0.10316683063733731, 0.1422299995194359, 0.7542196453389804, 0.9920860997898755, 0.7744617615130004, 0.11145156993155197, 0.06142501297363944, 0.052559547183629624, 0.9925269300577161, 0.03333576232191867, 0.9667371073356413, 0.9853853014301689, 0.03622592857580611, 0.961633740375944, 0.0016466331170820957, 0.9931906697342298, 0.9855266134381653, 0.08512316207909035, 0.01682074460245498, 0.8971063787975989, 0.0005097195334077267, 0.8193594620403695, 0.001288301040943977, 0.1797179952116848, 0.9926651039980391, 0.9933584924312318, 0.021430057131725196, 0.978219078483456, 0.10018386567087784, 0.16906027331960635, 0.7115331368670301, 0.019353701322783218, 0.3946147347516674, 0.30313160384486754, 0.13853695438550223, 0.163657322298435, 0.4646482867549892, 0.3051614851238062, 0.23005809274538713, 0.0002158143459149973, 0.14726677493227108, 0.04201679171796435, 0.30035765960762634, 0.510441618197448, 0.06608810601818844, 0.037965507712576334, 0.274195333479718, 0.6222124875116678, 0.9955951931350897, 0.35741977754996657, 0.07663271612461595, 0.5657649745137662, 0.9022471046552226, 0.09402174236888092, 0.001808110430170787, 0.06828064397810454, 0.06387544114080747, 0.0792936510713472, 0.788531307876175, 0.9956257555733756, 0.9802943576953925, 0.004995573677603127, 0.9891235881654191, 0.922695314612853, 0.0051836815427688376, 0.0708436477511741, 0.5223804426408, 0.18234620766517412, 0.14608417773175883, 0.14919235172605155, 0.010411190023048985, 0.9890630521896536, 0.002485377262018836, 0.026344998977399663, 0.9683029812825386, 0.002982452714422603, 0.9966839258743377, 0.9644411515287559, 0.03111100488802438, 0.9962305210326293, 0.9873927242555945, 0.9944621345584734, 0.9490891388745861, 0.050679517124371104, 0.0057930177368777595, 0.9906060330060968, 0.06956947577365094, 0.03913283012267865, 0.8489650090503341, 0.04239389929956854, 0.23164633120794165, 0.44820233457915615, 0.07349185634769723, 0.24673665904466882, 0.016951771835385536, 0.2023275993255693, 0.17607969454819813, 0.6047954725785936, 0.19215300750558037, 0.0026687917709108384, 0.08273254489823599, 0.7219081740313819, 0.995165892823236, 0.03361984657323262, 0.867812289671567, 0.09875829930887083, 0.15281164542158965, 0.5846277789355011, 0.24449863267454344, 0.01823880929225425, 0.27558106095832924, 0.04299064550949937, 0.6823387069328233, 0.022173364647260142, 0.9756280444794463, 0.9937468137952525, 0.9957276071503923, 0.08154370116332958, 0.9165512010758246, 0.16177120441926396, 0.5794158171356644, 0.25851672863078456, 0.06522651169252175, 0.933769009492943, 0.9891816869389591, 0.9943747203272294, 0.9933065876163929, 0.997888295802718, 0.9323497781164434, 0.01553916296860739, 0.051797209895357965, 0.9924688091723439, 0.9970575621254246, 0.771824494601475, 0.2273670571943579, 0.9871016372012378, 0.22928719317114898, 0.661771591586165, 0.108930460543104, 0.9907535171369535, 0.21978177942573782, 0.0007135772059277201, 0.7799398860789981, 0.9885824586873374, 0.9846547245322542, 0.006209096328051254, 0.9934554124882006, 0.9932143263980651, 0.004514610574536659, 0.9944443972160524, 0.7023198570876342, 0.11084028883973279, 0.12078112191952944, 0.0661065399806478, 0.8214880413760237, 0.08894558977105058, 0.07803716838403495, 0.010908421387015638, 0.8460939151932647, 0.03716134955336427, 0.08132411279069572, 0.035545638703217995, 0.9704361541454, 0.028711128820869822, 0.39861228893129214, 0.005334227710759384, 0.12753653526633799, 0.46892710875493854, 0.9962082148811694, 0.010637785266891298, 0.7372447702358577, 0.2516067471821246, 0.17569718997256645, 0.8243126496212909, 0.0014641432497713872, 0.9935149628243384, 0.9908785638154176, 0.07063717944856794, 0.9274968779768485, 0.9935355882013425, 0.00662357058800895, 0.23419145709270026, 0.35774128091325863, 0.3590584432141175, 0.04899843759194853, 0.9968072099470686, 0.02024261053426636, 0.050201674124980576, 0.8485702335964459, 0.08016073771569479, 0.03669214878216579, 0.907647890927259, 0.056003806035937256, 0.9944249392662857, 0.7902333622260738, 0.06691860552954902, 0.11145487883419769, 0.03128958688583009, 0.9990674465466826, 0.44451809356965344, 0.21979254688215907, 0.2263698799559394, 0.10934816235159785, 0.7118684189627658, 0.11289307508541419, 0.10995036459740576, 0.06527466900673237, 0.9973590053277273, 0.6770001506066075, 0.18607120703788968, 0.11670984191439061, 0.02035153826976918, 0.9925166349508215, 0.008941591305863257, 0.0001567578493855516, 0.4204245520520494, 0.33546179768508044, 0.24407197149330387, 0.10982085289640708, 0.21828923223497665, 0.2220761581969217, 0.449832705336761, 0.1763891494553491, 0.822488730606403, 0.9943587348078771, 0.9766049035913676, 0.960727423477767, 0.038028793845994946, 0.9941075789286593, 0.9792688656715722, 0.997567090376777, 0.7327642832824204, 0.10287306379415362, 0.038508633505832904, 0.12542812056185576, 0.9942666630263994, 0.999263548634492, 0.992424735074624, 0.992931013545004, 0.08876382202607007, 0.28386846053881815, 0.39482323807140574, 0.23245575174153996, 0.003747031484280505, 0.9967103748186144, 0.9469622207730336, 0.020076937542891173, 0.03011540631433676, 0.9894177300301769, 0.02923447382910061, 0.9696100486651703, 0.08411069637716695, 0.0035944742041524335, 0.7383050015329099, 0.1739725514809778, 0.052980122490295295, 0.9430461803272563, 0.007237811375697733, 0.9843423470948917, 0.9968433743888796, 0.9972221183730597, 0.989451471822818, 0.9906834081488055, 0.04468871924340386, 0.001241353312316774, 0.7323984542668966, 0.22158156624854414, 0.9724368766789191, 0.025931650044771177, 0.9815863750766235, 0.037703549211929616, 0.956727561252714, 0.2012508075163403, 0.4203382250633931, 0.25509717742037785, 0.12351011096738611, 0.10054274811726986, 0.9000969831450826, 0.9982959560184516, 0.9748594917725336, 0.024250236113744616, 0.0797070634029322, 0.03881837503389555, 0.021738290018981508, 0.8596976124173401, 0.7145779345238119, 0.05951248226411615, 0.12994272206589388, 0.0959050073896548, 0.9896898703782443, 0.9975612956011506, 0.9897141815751758, 0.9804595611305283, 0.014348188699471146, 0.004782729566490382, 0.04113715124638361, 0.12122718022164375, 0.435034475570163, 0.40227037280755656, 0.12734542995505532, 0.4797575563563564, 0.2396864134803609, 0.15312229946257408, 0.10230219825288304, 0.7983099125733597, 0.03421832148458502, 0.06490898096044993, 0.08289610884222459, 0.9138790535776955, 0.003032784469837485, 0.8034564207579554, 0.07853856016059599, 0.07923359166644196, 0.038921764327375, 0.9965152034535266, 0.8622467823605371, 0.01900019142662254, 0.04614332203608331, 0.07238168162522872, 0.9987254486532897, 0.9969574798076504, 0.02460209860446406, 0.07664499949852265, 0.20911783813794452, 0.6898049954867038, 0.6807183657100728, 0.12744042463065292, 0.14653428616068104, 0.04529241572239232, 0.9859842938756928, 0.01377928361006403, 0.9946304408053276, 0.9963014525184154, 0.5049361206471233, 0.20728695218306195, 0.21721686606009485, 0.07062651245039656, 0.6094415906371556, 0.0011299905883259995, 0.3890934259135858, 0.446431725120484, 0.1842891938454681, 0.17966154791434114, 0.18946126870966884, 0.0014287209488124044, 0.14572953677886524, 0.8157996617718829, 0.03714674466912252, 0.97662596570609, 0.6620434105993133, 0.13301132241559674, 0.07877369579952817, 0.12612400475006422, 0.1873761444268084, 0.5833830407079438, 0.19296946217089223, 0.03635656533654491, 0.12124897273169227, 0.6304946582047999, 0.2432801969003632, 0.005475760058850619, 0.996125957008054, 0.17094864246413458, 0.8270218108400025, 0.0020248281833011176, 0.6102832144469568, 0.02186814437965207, 0.36568396990418184, 0.9813042585480242, 0.012040543049669008, 0.9896051538147063, 0.9850847392574277, 0.013681732489686495, 0.9895951420940564, 0.30123675080574347, 0.024866241222172222, 0.6465222717764777, 0.02699763332692984, 0.9898401019430371, 0.9891055444402338, 0.16668774214747195, 0.04522535639660092, 0.7882133543407589, 0.03278145625040102, 0.9637748137617901, 0.9616860595670725, 0.0358221168320113, 0.7614200805062936, 0.0794712072742817, 0.08645178629161726, 0.07249062825694615, 0.18964044680777248, 0.3574937225421601, 0.3489015987385717, 0.10402607033630239, 0.19038177412062027, 0.7996034513066052, 0.009932962128032363, 0.9996008860315984, 0.9966432313688766, 0.8349769479276088, 0.16358732041030705, 0.9872061915256907, 0.9931929395006263, 0.9664769903240604, 0.030360533727457395, 0.9939244461441618, 0.9949162870884907, 0.006423257003300033, 0.02312372521188012, 0.10277211205280053, 0.8684243468461644, 0.0020368739757014075, 0.45716504787964923, 0.30462581903267716, 0.23627738118136327, 0.9930454887370086, 0.014741098756382928, 0.8855188610084316, 0.03685274689095732, 0.06212320190189948, 0.10197459205813257, 0.10620151815380646, 0.34185264798762577, 0.45016762918926917, 0.018892502496556066, 0.9729638785726373, 0.9466920917147623, 0.053184948972739454, 0.18254183356517523, 0.7891423881817575, 0.02808335901002696, 0.14285708863620955, 0.1372704985778103, 0.6480444467743137, 0.07102950217107626, 0.9852572756508629, 0.9897310593285576, 0.2857892773663903, 0.04256436045882409, 0.6116093223071509, 0.059792792073110036, 0.9973653381158961, 0.9833731188432578, 0.5548434047867834, 0.07874915239946091, 0.07514981440890384, 0.29121916469052717, 0.06271995448433253, 0.43762228128898684, 0.4620724330371164, 0.037915452710867686, 0.07934201671840524, 0.3466185799495307, 0.4855585170601021, 0.08848280205462704, 0.9997112768596474, 0.020287654490827523, 0.9788793291824279, 0.0964693203247032, 0.5008475671652399, 0.3431488608810219, 0.0594673892412554, 0.3369006888402672, 0.4962247060604119, 0.1286966818710295, 0.03805214391859767, 0.993132611097335, 0.5544414305649651, 0.31759575065045875, 0.1262117247329651, 0.0019074819858886413, 0.972732242685708, 0.024782987074795107, 0.0692955144586167, 0.004199728149007073, 0.9281399209305631, 0.009527267172942024, 0.9431994501212605, 0.047636335864710125, 0.029131773653089187, 0.9678222580304074, 0.9958981684788744, 0.061349126464657344, 0.15533076700626008, 0.7420633701097383, 0.04176961801849011, 0.30203594011440277, 0.08261571303129252, 0.0008883410003364787, 0.6138436312325068, 0.9955859116995749, 0.2476471252667795, 0.10847023844213208, 0.4414579189538243, 0.20218533415500356, 0.005031033189467678, 0.9911135383251326, 0.9983321942269793, 0.999394224019976, 0.9911420855375778, 0.9930322109831269, 0.9922053482692812, 0.9908720345302482, 0.9081749960051209, 0.019829148384391287, 0.05495506837959871, 0.016996412900906817, 0.9962706196146996, 0.042726201872967995, 0.956409595771822, 0.8008513278510822, 0.001097056613494633, 0.19747019042903396, 0.8906159422467228, 0.008023567047267774, 0.09895732691630253, 0.03211629329943759, 0.9474306523334088, 0.01806541498093364, 0.9941639328639388, 0.9947330970336693, 0.0646076111098468, 0.865024126526282, 0.02871449382659857, 0.043071740739897856, 0.019031523552640456, 0.9820266153162476, 0.17559888361497158, 0.11427103340292148, 0.3809034446764049, 0.32891850914509685, 0.3351628198386099, 0.3872067359626177, 0.2777658151989899, 0.011547744063008758, 0.0019246240105014595, 0.07506033640955692, 0.9122717809776919, 0.9955627711149458, 0.028046119063424507, 0.9695944019069616, 0.9825141527035316, 0.5653659336810989, 0.20152996200594192, 0.05680710338422524, 0.17583151047498288, 0.9961244608417822, 0.9871216452578138, 0.9603522733631159, 0.04009821600681068, 0.17256555003756055, 0.4208638387197639, 0.2033353608745828, 0.2032270164702271, 0.9951095086626413, 0.04643867951835595, 0.9498820810572808, 0.5340278506470348, 0.2104364523993411, 0.11746345080049429, 0.13787215846853385, 0.8767549323104887, 0.07274047982099377, 0.036370239910496885, 0.014702862942541294, 0.10965601356075605, 0.013707001695094506, 0.8772481084860484, 0.27712015374696025, 0.010741091230502335, 0.7110602394592547, 0.020979946432636856, 0.9776655037608776, 0.5722419556194774, 0.18076635419762563, 0.10923610974519093, 0.13751550871475815, 0.9945113325791131, 0.04067375597518317, 0.07230889951143675, 0.8857840190151001, 0.9934115400301244, 0.9958658648045544, 0.988432018003138, 0.018640330521641605, 0.03728066104328321, 0.9436667326581063, 0.9753989163652217, 0.019507978327304432, 0.09209191740506242, 0.30608403893914277, 0.38421312729982604, 0.21760049308487495, 0.807809034613829, 0.047518178506695825, 0.14459102888466016, 0.99485946123356, 0.02207502352350878, 0.9744546098234591, 0.003153574789072683, 0.3090187567693788, 0.4938949134166868, 0.15036237342371503, 0.046821023752936175, 0.02387565702837621, 0.05372022831384647, 0.06715028539230809, 0.855046967328723, 0.9919251718711477, 0.08753886309262121, 0.19678736423221246, 0.6169739070767942, 0.09804352666373575, 0.42530314829654464, 0.2680033097779343, 0.14958324266675402, 0.15715144244453622, 0.44904007843499044, 0.5356969356768307, 0.013682661669764251, 0.001243878333614932, 0.9971760512760159, 0.0076429792552379855, 0.9918888633464408, 0.11156485185451025, 0.8880562207619015, 0.9743593070218037, 0.02530803394861828, 0.9979054741034773, 0.40952158089691215, 0.2773461395468858, 0.1121695854147701, 0.2009135104609068, 0.0997403559418822, 0.8976632034769397, 0.13135214620899943, 0.054398363581504815, 0.8133218750112793, 0.8881556019273316, 0.07296000584900979, 0.03383061723725035, 0.00489117357646993, 0.8079091457443042, 0.14984981515125378, 0.039195592219278125, 0.0029330034994017643, 0.5456150570094118, 0.1788341627358615, 0.16193794141580664, 0.11352741965609892, 0.02572120609920215, 0.968832096403281, 0.07079596721524395, 0.062214637855820445, 0.8667142653017745, 0.8474341475305209, 0.1517196589218365, 0.99068001318786, 0.03183993052431419, 0.9658112259041971, 0.9092403804218933, 0.03490975282597147, 0.04601740145241694, 0.0095208416798104, 0.6446294232375847, 0.23438827772610046, 0.12101702729316727, 0.9536509839492272, 0.0021575814116498353, 0.034521302586397365, 0.010787907058249176, 0.9862564614680457, 0.9241555552239344, 0.07100613113478425, 0.004303401886956621, 0.8688953328032214, 0.08797954534656274, 0.04126474250767987, 0.001557160094629429, 0.07383857878090536, 0.6215755771146705, 0.12921751286658437, 0.1752153160415746, 0.9965081027893293, 0.3693817302727551, 0.09950308363128854, 0.30836568842338, 0.22270855275021892, 0.9938231592387324, 0.252655004338146, 0.025133220326831282, 0.722249384128941, 0.8300831882430167, 0.1697511632398807, 0.992533042384599, 0.04032918453341835, 0.9563778046496352, 0.26434452804739905, 0.0793033584142197, 0.6566318076697392, 0.17022078784119155, 0.6478888136334339, 0.002249613936227201, 0.17996911489817607, 0.23402306059954575, 0.6583127692075457, 0.10742445113655619, 0.3816456771935588, 0.6182526294291452, 0.6047920281649591, 0.2525733298400573, 0.10010668963523733, 0.04244154583613748, 0.9098108448909269, 0.01916736330528638, 0.012778242203524253, 0.05814100202603536, 0.6100718969892485, 0.18820650685264342, 0.16228181807329897, 0.03939205957380909, 0.6177717688354785, 0.16848320968240324, 0.14847582853261784, 0.06493623706509291, 0.9944567486459518, 0.9247748096281915, 0.07417979756375867, 0.9958519108799604, 0.38884790492405635, 0.5947838019397573, 0.016628364355305042, 0.8006880541050229, 0.0002990990116193585, 0.19890084272687342, 0.9661918316767036, 0.032422544687137705, 0.8360178509111865, 0.13034686922808822, 0.005393663554265719, 0.02786726169703955, 0.3302362418025604, 0.20203894296616273, 0.3535681501907848, 0.11409559596439393, 0.04617770657497977, 0.020989866624990805, 0.9319500781495917, 0.19829593220981986, 0.25770310860848195, 0.32233289392131215, 0.2217976723235763], \"Term\": [\"accord\", \"accord\", \"accord\", \"accord\", \"actually\", \"actually\", \"actually\", \"actually\", \"administration\", \"administration\", \"administration\", \"administration\", \"african_american\", \"african_american\", \"agency\", \"agency\", \"agency\", \"agreement\", \"agreement\", \"agreement\", \"airport\", \"airport\", \"airport\", \"ally\", \"ally\", \"ally\", \"ally\", \"also\", \"also\", \"also\", \"also\", \"area\", \"area\", \"area\", \"area\", \"arrest\", \"ask\", \"ask\", \"ask\", \"ask\", \"attack\", \"attack\", \"attack\", \"attack\", \"audience\", \"audience\", \"authority\", \"authority\", \"authority\", \"automaker\", \"bad\", \"bad\", \"bad\", \"bad\", \"ballistic_missile\", \"ballot\", \"ballot\", \"bangladesh\", \"bank\", \"bank\", \"bank\", \"bigot\", \"bilateral\", \"bill\", \"bill\", \"bill\", \"bill\", \"black\", \"black\", \"black\", \"brag\", \"brexit\", \"budget\", \"budget\", \"business\", \"business\", \"business\", \"business\", \"call\", \"call\", \"call\", \"call\", \"campaign\", \"campaign\", \"campaign\", \"campaign\", \"case\", \"case\", \"case\", \"case\", \"charge\", \"charge\", \"charge\", \"charge\", \"chemical_weapon\", \"child\", \"child\", \"child\", \"chinese\", \"chinese\", \"chinese\", \"city\", \"city\", \"city\", \"city\", \"classified_information\", \"clinic\", \"coal\", \"coal\", \"coalition\", \"coalition\", \"coalition\", \"come\", \"come\", \"come\", \"come\", \"comey\", \"comey\", \"company\", \"company\", \"company\", \"company\", \"consumer\", \"contract\", \"contract\", \"convict\", \"convoy\", \"conway\", \"cooperation\", \"cooperation\", \"corporation\", \"corporation\", \"cost\", \"cost\", \"cost\", \"cost\", \"country\", \"country\", \"country\", \"country\", \"court\", \"court\", \"court\", \"court\", \"crime\", \"crime\", \"crime\", \"crime\", \"custody\", \"datum\", \"datum\", \"datum\", \"deal\", \"deal\", \"deal\", \"deal\", \"death\", \"death\", \"death\", \"debt\", \"debt\", \"defendant\", \"deficit\", \"delegate\", \"delegate\", \"democratic\", \"democratic\", \"democratic\", \"detain\", \"detain\", \"detainee\", \"detention\", \"diplomacy\", \"diplomat\", \"diplomatic\", \"diplomatic\", \"diplomatic\", \"disclosure\", \"disgusting\", \"document\", \"document\", \"dossier\", \"election\", \"election\", \"election\", \"elector\", \"email\", \"email\", \"email\", \"emission\", \"envoy\", \"ethic\", \"ethic\", \"european_union\", \"european_union\", \"evacuate\", \"even\", \"even\", \"even\", \"even\", \"ever\", \"ever\", \"ever\", \"ever\", \"fact\", \"fact\", \"fact\", \"fact\", \"fake_new\", \"fake_new\", \"family\", \"family\", \"family\", \"family\", \"featured_image\", \"federal\", \"federal\", \"federal\", \"financial\", \"financial\", \"financial\", \"firearm\", \"fiscal_year\", \"flee\", \"flee\", \"foreign_minister\", \"foreign_minister\", \"former\", \"former\", \"former\", \"former\", \"fun\", \"fund\", \"fund\", \"fund\", \"fund\", \"funding\", \"funding\", \"funding\", \"funny\", \"get\", \"get\", \"get\", \"get\", \"getty_image\", \"give\", \"give\", \"give\", \"give\", \"go\", \"go\", \"go\", \"go\", \"goldman_sach\", \"good\", \"good\", \"good\", \"good\", \"gorsuch\", \"gorsuch\", \"government\", \"government\", \"government\", \"government\", \"group\", \"group\", \"group\", \"group\", \"gun\", \"gun\", \"gunfire\", \"gunman\", \"guy\", \"guy\", \"hacker\", \"handgun\", \"hannity\", \"happen\", \"happen\", \"happen\", \"happen\", \"hat\", \"hate\", \"hateful\", \"hilarious\", \"include\", \"include\", \"include\", \"include\", \"income\", \"income\", \"independence\", \"independence\", \"independence\", \"indonesian\", \"industry\", \"industry\", \"information\", \"information\", \"information\", \"information\", \"injure\", \"injure\", \"injury\", \"injury\", \"inmate\", \"insurance\", \"insurer\", \"intelligence_committee\", \"investigation\", \"investigation\", \"investigation\", \"investigation\", \"iranian\", \"iranian\", \"iraqi_force\", \"islamic\", \"islamic\", \"issue\", \"issue\", \"issue\", \"issue\", \"jail\", \"jail\", \"joke\", \"kid\", \"kid\", \"kill\", \"kill\", \"kill\", \"kill\", \"know\", \"know\", \"know\", \"know\", \"korean_peninsula\", \"kurdish\", \"labour\", \"laugh\", \"laugh\", \"laugh\", \"law\", \"law\", \"law\", \"law\", \"lead\", \"lead\", \"lead\", \"lead\", \"leader\", \"leader\", \"leader\", \"leader\", \"legislation\", \"legislation\", \"legislation\", \"let\", \"let\", \"let\", \"let\", \"liar\", \"lie\", \"lie\", \"lie\", \"lie\", \"literally\", \"loan\", \"local\", \"local\", \"local\", \"local\", \"look\", \"look\", \"look\", \"look\", \"love\", \"love\", \"macron\", \"mainstream_media\", \"make\", \"make\", \"make\", \"make\", \"man\", \"man\", \"man\", \"many\", \"many\", \"many\", \"many\", \"market\", \"market\", \"market\", \"market\", \"massacre\", \"medium\", \"medium\", \"medium\", \"medium\", \"meet\", \"meet\", \"meet\", \"meet\", \"meeting\", \"meeting\", \"meeting\", \"meeting\", \"merkel\", \"migrant\", \"migrant\", \"military\", \"military\", \"military\", \"military\", \"minister\", \"minister\", \"misdemeanor\", \"missile\", \"missile\", \"mnuchin\", \"money\", \"money\", \"money\", \"money\", \"mortgage\", \"mosque\", \"muslim\", \"muslim\", \"muslim\", \"nearby\", \"nearby\", \"negotiation\", \"negotiation\", \"never\", \"never\", \"never\", \"never\", \"new\", \"new\", \"new\", \"new\", \"nomination\", \"nomination\", \"nomination\", \"north_korea\", \"northern_ireland\", \"nuclear\", \"nuclear\", \"nuclear_deal\", \"nuclear_test\", \"nuclear_weapon\", \"nuclear_weapon\", \"nune\", \"offend\", \"officer\", \"officer\", \"officer\", \"officer\", \"official\", \"official\", \"official\", \"official\", \"opinion_poll\", \"opposition\", \"opposition\", \"opposition\", \"opposition\", \"order\", \"order\", \"order\", \"order\", \"pakistani\", \"pakistani\", \"parliament\", \"parliament\", \"party\", \"party\", \"party\", \"pass\", \"pass\", \"pass\", \"pass\", \"passport\", \"pathetic\", \"pay\", \"pay\", \"pay\", \"pay\", \"payment\", \"peace_talk\", \"people\", \"people\", \"people\", \"people\", \"percent\", \"percent\", \"percent\", \"percent\", \"plan\", \"plan\", \"plan\", \"plan\", \"police\", \"police_officer\", \"police_officer\", \"policy\", \"policy\", \"policy\", \"policy\", \"political\", \"political\", \"political\", \"political\", \"populist\", \"president\", \"president\", \"president\", \"president\", \"prime_minister\", \"prime_minister\", \"prison\", \"prison\", \"prison\", \"probe\", \"probe\", \"probe\", \"product\", \"product\", \"profit\", \"program\", \"program\", \"program\", \"program\", \"protest\", \"protest\", \"protest\", \"protest\", \"provider\", \"public\", \"public\", \"public\", \"public\", \"puerto_rico\", \"puerto_rico\", \"racism\", \"racist\", \"raid\", \"rakhine\", \"rant\", \"realdonaldtrump\", \"really\", \"really\", \"really\", \"really\", \"referendum\", \"refugee\", \"refugee\", \"region\", \"region\", \"region\", \"regional\", \"regional\", \"regional\", \"regulation\", \"regulation\", \"regulation\", \"regulator\", \"reilly\", \"relation\", \"relation\", \"relation\", \"relation\", \"repeal\", \"repeal\", \"report\", \"report\", \"report\", \"report\", \"republican\", \"republican\", \"republican\", \"resident\", \"resident\", \"resident\", \"resident\", \"retailer\", \"revenue\", \"revenue\", \"rifle\", \"right\", \"right\", \"right\", \"right\", \"rohingya\", \"rohingya_muslim\", \"sanction\", \"sanction\", \"say\", \"say\", \"say\", \"say\", \"security_council\", \"security_force\", \"security_force\", \"see\", \"see\", \"see\", \"see\", \"seem\", \"seem\", \"seem\", \"seem\", \"sentence\", \"sentence\", \"sentence\", \"shoot\", \"shoot\", \"shoot\", \"shooting\", \"shooting\", \"show\", \"show\", \"show\", \"show\", \"software\", \"soldier\", \"soldier\", \"soldier\", \"somali\", \"south_korea\", \"spd\", \"spending\", \"spending\", \"spending\", \"stability\", \"stability\", \"state\", \"state\", \"state\", \"state\", \"story\", \"story\", \"story\", \"stupid\", \"summit\", \"summit\", \"summit\", \"support\", \"support\", \"support\", \"support\", \"suspect\", \"suspect\", \"suspect\", \"suspect\", \"swedish\", \"system\", \"system\", \"system\", \"system\", \"take\", \"take\", \"take\", \"take\", \"talk\", \"talk\", \"talk\", \"talk\", \"tape\", \"tax\", \"tax\", \"taxis\", \"taxis\", \"taxpayer\", \"taxpayer\", \"technology\", \"tell\", \"tell\", \"tell\", \"tell\", \"terror\", \"terror\", \"terrorist\", \"terrorist\", \"terrorist\", \"thing\", \"thing\", \"thing\", \"thing\", \"think\", \"think\", \"think\", \"think\", \"time\", \"time\", \"time\", \"time\", \"tourist\", \"tourist\", \"town\", \"town\", \"town\", \"trade\", \"trade\", \"trade_deal\", \"trial\", \"trial\", \"true\", \"true\", \"true\", \"true\", \"trump\", \"trump\", \"trump\", \"truth\", \"truth\", \"truth\", \"truth\", \"turnbull\", \"tweet\", \"tweet\", \"tweet\", \"twitter\", \"twitter\", \"twitter\", \"twitter\", \"united_state\", \"united_state\", \"united_state\", \"united_state\", \"uranium\", \"use\", \"use\", \"use\", \"use\", \"verdict\", \"victim\", \"victim\", \"victim\", \"video\", \"video\", \"viewer\", \"village\", \"village\", \"violence\", \"violence\", \"violence\", \"visit\", \"visit\", \"visit\", \"visit\", \"vote\", \"vote\", \"vote\", \"voter\", \"voter\", \"want\", \"want\", \"want\", \"want\", \"watch\", \"watch\", \"watch\", \"watch\", \"way\", \"way\", \"way\", \"way\", \"well\", \"well\", \"well\", \"well\", \"whine\", \"white\", \"white\", \"white_supremacist\", \"win\", \"win\", \"win\", \"woman\", \"woman\", \"woman\", \"wonder\", \"wonder\", \"word\", \"word\", \"word\", \"word\", \"work\", \"work\", \"work\", \"work\", \"wound\", \"wound\", \"wound\", \"year\", \"year\", \"year\", \"year\"]}, \"R\": 30, \"lambda.step\": 0.01, \"plot.opts\": {\"xlab\": \"PC1\", \"ylab\": \"PC2\"}, \"topic.order\": [4, 3, 1, 2]};\n",
       "\n",
       "function LDAvis_load_lib(url, callback){\n",
       "  var s = document.createElement('script');\n",
       "  s.src = url;\n",
       "  s.async = true;\n",
       "  s.onreadystatechange = s.onload = callback;\n",
       "  s.onerror = function(){console.warn(\"failed to load library \" + url);};\n",
       "  document.getElementsByTagName(\"head\")[0].appendChild(s);\n",
       "}\n",
       "\n",
       "if(typeof(LDAvis) !== \"undefined\"){\n",
       "   // already loaded: just create the visualization\n",
       "   !function(LDAvis){\n",
       "       new LDAvis(\"#\" + \"ldavis_el7007140656653098704287534944\", ldavis_el7007140656653098704287534944_data);\n",
       "   }(LDAvis);\n",
       "}else if(typeof define === \"function\" && define.amd){\n",
       "   // require.js is available: use it to load d3/LDAvis\n",
       "   require.config({paths: {d3: \"https://d3js.org/d3.v5\"}});\n",
       "   require([\"d3\"], function(d3){\n",
       "      window.d3 = d3;\n",
       "      LDAvis_load_lib(\"https://cdn.jsdelivr.net/gh/bmabey/pyLDAvis@3.2.2/pyLDAvis/js/ldavis.v3.0.0.js\", function(){\n",
       "        new LDAvis(\"#\" + \"ldavis_el7007140656653098704287534944\", ldavis_el7007140656653098704287534944_data);\n",
       "      });\n",
       "    });\n",
       "}else{\n",
       "    // require.js not available: dynamically load d3 & LDAvis\n",
       "    LDAvis_load_lib(\"https://d3js.org/d3.v5.js\", function(){\n",
       "         LDAvis_load_lib(\"https://cdn.jsdelivr.net/gh/bmabey/pyLDAvis@3.2.2/pyLDAvis/js/ldavis.v3.0.0.js\", function(){\n",
       "                 new LDAvis(\"#\" + \"ldavis_el7007140656653098704287534944\", ldavis_el7007140656653098704287534944_data);\n",
       "            })\n",
       "         });\n",
       "}\n",
       "</script>"
      ],
      "text/plain": [
       "PreparedData(topic_coordinates=              x         y  topics  cluster       Freq\n",
       "topic                                                \n",
       "3     -0.160260  0.060680       1        1  33.939748\n",
       "2      0.053544  0.124316       2        1  24.459031\n",
       "0      0.147870 -0.032079       3        1  22.686166\n",
       "1     -0.041154 -0.152916       4        1  18.915054, topic_info=          Term          Freq         Total Category  logprob  loglift\n",
       "80         say  36919.000000  36919.000000  Default  30.0000  30.0000\n",
       "493     police   2396.000000   2396.000000  Default  29.0000  29.0000\n",
       "557      trump  12163.000000  12163.000000  Default  28.0000  28.0000\n",
       "163   election   5251.000000   5251.000000  Default  27.0000  27.0000\n",
       "1296   company   2011.000000   2011.000000  Default  26.0000  26.0000\n",
       "...        ...           ...           ...      ...      ...      ...\n",
       "315    include   1058.328694   4551.403835   Topic4  -5.6109   0.2065\n",
       "227   official   1043.555759   4418.535514   Topic4  -5.6249   0.2220\n",
       "90        take   1058.723783   6738.722747   Topic4  -5.6105  -0.1856\n",
       "99         use    949.277583   4261.174473   Topic4  -5.7196   0.1636\n",
       "124       call    873.180003   5334.316777   Topic4  -5.8032  -0.1446\n",
       "\n",
       "[392 rows x 6 columns], token_table=      Topic      Freq      Term\n",
       "term                           \n",
       "425       1  0.168039    accord\n",
       "425       2  0.185536    accord\n",
       "425       3  0.374373    accord\n",
       "425       4  0.272361    accord\n",
       "2         1  0.901448  actually\n",
       "...     ...       ...       ...\n",
       "2709      4  0.931950     wound\n",
       "292       1  0.198296      year\n",
       "292       2  0.257703      year\n",
       "292       3  0.322333      year\n",
       "292       4  0.221798      year\n",
       "\n",
       "[799 rows x 3 columns], R=30, lambda_step=0.01, plot_opts={'xlab': 'PC1', 'ylab': 'PC2'}, topic_order=[4, 3, 1, 2])"
      ]
     },
     "metadata": {},
     "output_type": "display_data"
    }
   ],
   "source": [
    "plot_model(lda, plot = 'topic_model')"
   ]
  },
  {
   "cell_type": "code",
   "execution_count": 19,
   "id": "c9f83d52",
   "metadata": {},
   "outputs": [
    {
     "data": {
      "text/html": [
       "        <script type=\"text/javascript\">\n",
       "        window.PlotlyConfig = {MathJaxConfig: 'local'};\n",
       "        if (window.MathJax) {MathJax.Hub.Config({SVG: {font: \"STIX-Web\"}});}\n",
       "        if (typeof require !== 'undefined') {\n",
       "        require.undef(\"plotly\");\n",
       "        requirejs.config({\n",
       "            paths: {\n",
       "                'plotly': ['https://cdn.plot.ly/plotly-2.11.1.min']\n",
       "            }\n",
       "        });\n",
       "        require(['plotly'], function(Plotly) {\n",
       "            window._Plotly = Plotly;\n",
       "        });\n",
       "        }\n",
       "        </script>\n",
       "        "
      ]
     },
     "metadata": {},
     "output_type": "display_data"
    },
    {
     "name": "stderr",
     "output_type": "stream",
     "text": [
      "IOPub message rate exceeded.\n",
      "The notebook server will temporarily stop sending output\n",
      "to the client in order to avoid crashing it.\n",
      "To change this limit, set the config variable\n",
      "`--NotebookApp.iopub_msg_rate_limit`.\n",
      "\n",
      "Current values:\n",
      "NotebookApp.iopub_msg_rate_limit=1000.0 (msgs/sec)\n",
      "NotebookApp.rate_limit_window=3.0 (secs)\n",
      "\n",
      "IOPub message rate exceeded.\n",
      "The notebook server will temporarily stop sending output\n",
      "to the client in order to avoid crashing it.\n",
      "To change this limit, set the config variable\n",
      "`--NotebookApp.iopub_msg_rate_limit`.\n",
      "\n",
      "Current values:\n",
      "NotebookApp.iopub_msg_rate_limit=1000.0 (msgs/sec)\n",
      "NotebookApp.rate_limit_window=3.0 (secs)\n",
      "\n"
     ]
    },
    {
     "data": {
      "application/vnd.plotly.v1+json": {
       "config": {
        "linkText": "Export to plot.ly",
        "plotlyServerURL": "https://plot.ly",
        "showLink": true
       },
       "data": [
        {
         "marker": {
          "color": "rgba(255, 153, 51, 0.6)",
          "line": {
           "color": "rgba(255, 153, 51, 1.0)",
           "width": 1
          }
         },
         "name": "count",
         "orientation": "v",
         "text": "",
         "type": "bar",
         "x": [
          "say statement",
          "official say",
          "federal government",
          "trump say",
          "presidential election",
          "say say",
          "national security",
          "trump campaign",
          "presidential campaign",
          "also say",
          "source say",
          "tax bill",
          "next year",
          "spokesman say",
          "tell reuter",
          "russian government",
          "take office",
          "american people",
          "percent percent",
          "next week",
          "say want",
          "say also",
          "statement say",
          "first time",
          "report say",
          "tax plan",
          "say make",
          "state local",
          "expert say",
          "say plan",
          "republican lawmaker",
          "election campaign",
          "recent year",
          "deep state",
          "government official",
          "make decision",
          "make public",
          "say add",
          "bill pass",
          "administration official",
          "influence election",
          "government say",
          "company say",
          "white_house official",
          "say former",
          "federal agency",
          "tax cut",
          "early year",
          "intelligence official",
          "republican senator",
          "former official",
          "secretary state",
          "say company",
          "group say",
          "white_house say",
          "people say",
          "medium report",
          "republican leader",
          "say administration",
          "senior official",
          "lawyer say",
          "lawmaker say",
          "decision make",
          "aide say",
          "say expect",
          "make clear",
          "federal court",
          "say government",
          "say interview",
          "say letter",
          "federal law",
          "state department",
          "year say",
          "say email",
          "also include",
          "analyst say",
          "federal funding",
          "social security",
          "campaign say",
          "bill say",
          "say report",
          "say believe",
          "say support",
          "say think",
          "russian official",
          "tax legislation",
          "say trump",
          "new rule",
          "take step",
          "say go",
          "take action",
          "former former",
          "campaign promise",
          "trump also",
          "government agency",
          "long time",
          "say tell",
          "many people",
          "go say",
          "say ask"
         ],
         "y": [
          326,
          247,
          187,
          166,
          166,
          138,
          137,
          129,
          114,
          107,
          106,
          104,
          98,
          98,
          96,
          95,
          92,
          89,
          81,
          78,
          77,
          73,
          69,
          69,
          69,
          68,
          64,
          63,
          62,
          60,
          60,
          59,
          59,
          58,
          56,
          56,
          56,
          55,
          55,
          54,
          54,
          54,
          53,
          52,
          52,
          51,
          51,
          50,
          50,
          50,
          50,
          50,
          50,
          49,
          49,
          48,
          48,
          48,
          48,
          47,
          47,
          46,
          46,
          45,
          45,
          44,
          44,
          44,
          44,
          44,
          43,
          43,
          43,
          42,
          42,
          42,
          42,
          42,
          41,
          41,
          41,
          40,
          40,
          39,
          39,
          39,
          39,
          39,
          38,
          38,
          38,
          38,
          38,
          38,
          38,
          38,
          37,
          37,
          36,
          36
         ]
        }
       ],
       "layout": {
        "legend": {
         "bgcolor": "#F5F6F9",
         "font": {
          "color": "#4D5663"
         }
        },
        "paper_bgcolor": "#F5F6F9",
        "plot_bgcolor": "#F5F6F9",
        "template": {
         "data": {
          "bar": [
           {
            "error_x": {
             "color": "#2a3f5f"
            },
            "error_y": {
             "color": "#2a3f5f"
            },
            "marker": {
             "line": {
              "color": "#E5ECF6",
              "width": 0.5
             },
             "pattern": {
              "fillmode": "overlay",
              "size": 10,
              "solidity": 0.2
             }
            },
            "type": "bar"
           }
          ],
          "barpolar": [
           {
            "marker": {
             "line": {
              "color": "#E5ECF6",
              "width": 0.5
             },
             "pattern": {
              "fillmode": "overlay",
              "size": 10,
              "solidity": 0.2
             }
            },
            "type": "barpolar"
           }
          ],
          "carpet": [
           {
            "aaxis": {
             "endlinecolor": "#2a3f5f",
             "gridcolor": "white",
             "linecolor": "white",
             "minorgridcolor": "white",
             "startlinecolor": "#2a3f5f"
            },
            "baxis": {
             "endlinecolor": "#2a3f5f",
             "gridcolor": "white",
             "linecolor": "white",
             "minorgridcolor": "white",
             "startlinecolor": "#2a3f5f"
            },
            "type": "carpet"
           }
          ],
          "choropleth": [
           {
            "colorbar": {
             "outlinewidth": 0,
             "ticks": ""
            },
            "type": "choropleth"
           }
          ],
          "contour": [
           {
            "colorbar": {
             "outlinewidth": 0,
             "ticks": ""
            },
            "colorscale": [
             [
              0,
              "#0d0887"
             ],
             [
              0.1111111111111111,
              "#46039f"
             ],
             [
              0.2222222222222222,
              "#7201a8"
             ],
             [
              0.3333333333333333,
              "#9c179e"
             ],
             [
              0.4444444444444444,
              "#bd3786"
             ],
             [
              0.5555555555555556,
              "#d8576b"
             ],
             [
              0.6666666666666666,
              "#ed7953"
             ],
             [
              0.7777777777777778,
              "#fb9f3a"
             ],
             [
              0.8888888888888888,
              "#fdca26"
             ],
             [
              1,
              "#f0f921"
             ]
            ],
            "type": "contour"
           }
          ],
          "contourcarpet": [
           {
            "colorbar": {
             "outlinewidth": 0,
             "ticks": ""
            },
            "type": "contourcarpet"
           }
          ],
          "heatmap": [
           {
            "colorbar": {
             "outlinewidth": 0,
             "ticks": ""
            },
            "colorscale": [
             [
              0,
              "#0d0887"
             ],
             [
              0.1111111111111111,
              "#46039f"
             ],
             [
              0.2222222222222222,
              "#7201a8"
             ],
             [
              0.3333333333333333,
              "#9c179e"
             ],
             [
              0.4444444444444444,
              "#bd3786"
             ],
             [
              0.5555555555555556,
              "#d8576b"
             ],
             [
              0.6666666666666666,
              "#ed7953"
             ],
             [
              0.7777777777777778,
              "#fb9f3a"
             ],
             [
              0.8888888888888888,
              "#fdca26"
             ],
             [
              1,
              "#f0f921"
             ]
            ],
            "type": "heatmap"
           }
          ],
          "heatmapgl": [
           {
            "colorbar": {
             "outlinewidth": 0,
             "ticks": ""
            },
            "colorscale": [
             [
              0,
              "#0d0887"
             ],
             [
              0.1111111111111111,
              "#46039f"
             ],
             [
              0.2222222222222222,
              "#7201a8"
             ],
             [
              0.3333333333333333,
              "#9c179e"
             ],
             [
              0.4444444444444444,
              "#bd3786"
             ],
             [
              0.5555555555555556,
              "#d8576b"
             ],
             [
              0.6666666666666666,
              "#ed7953"
             ],
             [
              0.7777777777777778,
              "#fb9f3a"
             ],
             [
              0.8888888888888888,
              "#fdca26"
             ],
             [
              1,
              "#f0f921"
             ]
            ],
            "type": "heatmapgl"
           }
          ],
          "histogram": [
           {
            "marker": {
             "pattern": {
              "fillmode": "overlay",
              "size": 10,
              "solidity": 0.2
             }
            },
            "type": "histogram"
           }
          ],
          "histogram2d": [
           {
            "colorbar": {
             "outlinewidth": 0,
             "ticks": ""
            },
            "colorscale": [
             [
              0,
              "#0d0887"
             ],
             [
              0.1111111111111111,
              "#46039f"
             ],
             [
              0.2222222222222222,
              "#7201a8"
             ],
             [
              0.3333333333333333,
              "#9c179e"
             ],
             [
              0.4444444444444444,
              "#bd3786"
             ],
             [
              0.5555555555555556,
              "#d8576b"
             ],
             [
              0.6666666666666666,
              "#ed7953"
             ],
             [
              0.7777777777777778,
              "#fb9f3a"
             ],
             [
              0.8888888888888888,
              "#fdca26"
             ],
             [
              1,
              "#f0f921"
             ]
            ],
            "type": "histogram2d"
           }
          ],
          "histogram2dcontour": [
           {
            "colorbar": {
             "outlinewidth": 0,
             "ticks": ""
            },
            "colorscale": [
             [
              0,
              "#0d0887"
             ],
             [
              0.1111111111111111,
              "#46039f"
             ],
             [
              0.2222222222222222,
              "#7201a8"
             ],
             [
              0.3333333333333333,
              "#9c179e"
             ],
             [
              0.4444444444444444,
              "#bd3786"
             ],
             [
              0.5555555555555556,
              "#d8576b"
             ],
             [
              0.6666666666666666,
              "#ed7953"
             ],
             [
              0.7777777777777778,
              "#fb9f3a"
             ],
             [
              0.8888888888888888,
              "#fdca26"
             ],
             [
              1,
              "#f0f921"
             ]
            ],
            "type": "histogram2dcontour"
           }
          ],
          "mesh3d": [
           {
            "colorbar": {
             "outlinewidth": 0,
             "ticks": ""
            },
            "type": "mesh3d"
           }
          ],
          "parcoords": [
           {
            "line": {
             "colorbar": {
              "outlinewidth": 0,
              "ticks": ""
             }
            },
            "type": "parcoords"
           }
          ],
          "pie": [
           {
            "automargin": true,
            "type": "pie"
           }
          ],
          "scatter": [
           {
            "fillpattern": {
             "fillmode": "overlay",
             "size": 10,
             "solidity": 0.2
            },
            "type": "scatter"
           }
          ],
          "scatter3d": [
           {
            "line": {
             "colorbar": {
              "outlinewidth": 0,
              "ticks": ""
             }
            },
            "marker": {
             "colorbar": {
              "outlinewidth": 0,
              "ticks": ""
             }
            },
            "type": "scatter3d"
           }
          ],
          "scattercarpet": [
           {
            "marker": {
             "colorbar": {
              "outlinewidth": 0,
              "ticks": ""
             }
            },
            "type": "scattercarpet"
           }
          ],
          "scattergeo": [
           {
            "marker": {
             "colorbar": {
              "outlinewidth": 0,
              "ticks": ""
             }
            },
            "type": "scattergeo"
           }
          ],
          "scattergl": [
           {
            "marker": {
             "colorbar": {
              "outlinewidth": 0,
              "ticks": ""
             }
            },
            "type": "scattergl"
           }
          ],
          "scattermapbox": [
           {
            "marker": {
             "colorbar": {
              "outlinewidth": 0,
              "ticks": ""
             }
            },
            "type": "scattermapbox"
           }
          ],
          "scatterpolar": [
           {
            "marker": {
             "colorbar": {
              "outlinewidth": 0,
              "ticks": ""
             }
            },
            "type": "scatterpolar"
           }
          ],
          "scatterpolargl": [
           {
            "marker": {
             "colorbar": {
              "outlinewidth": 0,
              "ticks": ""
             }
            },
            "type": "scatterpolargl"
           }
          ],
          "scatterternary": [
           {
            "marker": {
             "colorbar": {
              "outlinewidth": 0,
              "ticks": ""
             }
            },
            "type": "scatterternary"
           }
          ],
          "surface": [
           {
            "colorbar": {
             "outlinewidth": 0,
             "ticks": ""
            },
            "colorscale": [
             [
              0,
              "#0d0887"
             ],
             [
              0.1111111111111111,
              "#46039f"
             ],
             [
              0.2222222222222222,
              "#7201a8"
             ],
             [
              0.3333333333333333,
              "#9c179e"
             ],
             [
              0.4444444444444444,
              "#bd3786"
             ],
             [
              0.5555555555555556,
              "#d8576b"
             ],
             [
              0.6666666666666666,
              "#ed7953"
             ],
             [
              0.7777777777777778,
              "#fb9f3a"
             ],
             [
              0.8888888888888888,
              "#fdca26"
             ],
             [
              1,
              "#f0f921"
             ]
            ],
            "type": "surface"
           }
          ],
          "table": [
           {
            "cells": {
             "fill": {
              "color": "#EBF0F8"
             },
             "line": {
              "color": "white"
             }
            },
            "header": {
             "fill": {
              "color": "#C8D4E3"
             },
             "line": {
              "color": "white"
             }
            },
            "type": "table"
           }
          ]
         },
         "layout": {
          "annotationdefaults": {
           "arrowcolor": "#2a3f5f",
           "arrowhead": 0,
           "arrowwidth": 1
          },
          "autotypenumbers": "strict",
          "coloraxis": {
           "colorbar": {
            "outlinewidth": 0,
            "ticks": ""
           }
          },
          "colorscale": {
           "diverging": [
            [
             0,
             "#8e0152"
            ],
            [
             0.1,
             "#c51b7d"
            ],
            [
             0.2,
             "#de77ae"
            ],
            [
             0.3,
             "#f1b6da"
            ],
            [
             0.4,
             "#fde0ef"
            ],
            [
             0.5,
             "#f7f7f7"
            ],
            [
             0.6,
             "#e6f5d0"
            ],
            [
             0.7,
             "#b8e186"
            ],
            [
             0.8,
             "#7fbc41"
            ],
            [
             0.9,
             "#4d9221"
            ],
            [
             1,
             "#276419"
            ]
           ],
           "sequential": [
            [
             0,
             "#0d0887"
            ],
            [
             0.1111111111111111,
             "#46039f"
            ],
            [
             0.2222222222222222,
             "#7201a8"
            ],
            [
             0.3333333333333333,
             "#9c179e"
            ],
            [
             0.4444444444444444,
             "#bd3786"
            ],
            [
             0.5555555555555556,
             "#d8576b"
            ],
            [
             0.6666666666666666,
             "#ed7953"
            ],
            [
             0.7777777777777778,
             "#fb9f3a"
            ],
            [
             0.8888888888888888,
             "#fdca26"
            ],
            [
             1,
             "#f0f921"
            ]
           ],
           "sequentialminus": [
            [
             0,
             "#0d0887"
            ],
            [
             0.1111111111111111,
             "#46039f"
            ],
            [
             0.2222222222222222,
             "#7201a8"
            ],
            [
             0.3333333333333333,
             "#9c179e"
            ],
            [
             0.4444444444444444,
             "#bd3786"
            ],
            [
             0.5555555555555556,
             "#d8576b"
            ],
            [
             0.6666666666666666,
             "#ed7953"
            ],
            [
             0.7777777777777778,
             "#fb9f3a"
            ],
            [
             0.8888888888888888,
             "#fdca26"
            ],
            [
             1,
             "#f0f921"
            ]
           ]
          },
          "colorway": [
           "#636efa",
           "#EF553B",
           "#00cc96",
           "#ab63fa",
           "#FFA15A",
           "#19d3f3",
           "#FF6692",
           "#B6E880",
           "#FF97FF",
           "#FECB52"
          ],
          "font": {
           "color": "#2a3f5f"
          },
          "geo": {
           "bgcolor": "white",
           "lakecolor": "white",
           "landcolor": "#E5ECF6",
           "showlakes": true,
           "showland": true,
           "subunitcolor": "white"
          },
          "hoverlabel": {
           "align": "left"
          },
          "hovermode": "closest",
          "mapbox": {
           "style": "light"
          },
          "paper_bgcolor": "white",
          "plot_bgcolor": "#E5ECF6",
          "polar": {
           "angularaxis": {
            "gridcolor": "white",
            "linecolor": "white",
            "ticks": ""
           },
           "bgcolor": "#E5ECF6",
           "radialaxis": {
            "gridcolor": "white",
            "linecolor": "white",
            "ticks": ""
           }
          },
          "scene": {
           "xaxis": {
            "backgroundcolor": "#E5ECF6",
            "gridcolor": "white",
            "gridwidth": 2,
            "linecolor": "white",
            "showbackground": true,
            "ticks": "",
            "zerolinecolor": "white"
           },
           "yaxis": {
            "backgroundcolor": "#E5ECF6",
            "gridcolor": "white",
            "gridwidth": 2,
            "linecolor": "white",
            "showbackground": true,
            "ticks": "",
            "zerolinecolor": "white"
           },
           "zaxis": {
            "backgroundcolor": "#E5ECF6",
            "gridcolor": "white",
            "gridwidth": 2,
            "linecolor": "white",
            "showbackground": true,
            "ticks": "",
            "zerolinecolor": "white"
           }
          },
          "shapedefaults": {
           "line": {
            "color": "#2a3f5f"
           }
          },
          "ternary": {
           "aaxis": {
            "gridcolor": "white",
            "linecolor": "white",
            "ticks": ""
           },
           "baxis": {
            "gridcolor": "white",
            "linecolor": "white",
            "ticks": ""
           },
           "bgcolor": "#E5ECF6",
           "caxis": {
            "gridcolor": "white",
            "linecolor": "white",
            "ticks": ""
           }
          },
          "title": {
           "x": 0.05
          },
          "xaxis": {
           "automargin": true,
           "gridcolor": "white",
           "linecolor": "white",
           "ticks": "",
           "title": {
            "standoff": 15
           },
           "zerolinecolor": "white",
           "zerolinewidth": 2
          },
          "yaxis": {
           "automargin": true,
           "gridcolor": "white",
           "linecolor": "white",
           "ticks": "",
           "title": {
            "standoff": 15
           },
           "zerolinecolor": "white",
           "zerolinewidth": 2
          }
         }
        },
        "title": {
         "font": {
          "color": "#4D5663"
         },
         "text": "Topic 0: Top 100 bigrams after removing stop words"
        },
        "xaxis": {
         "gridcolor": "#E1E5ED",
         "linecolor": "black",
         "showgrid": true,
         "tickfont": {
          "color": "#4D5663"
         },
         "title": {
          "font": {
           "color": "#4D5663"
          },
          "text": ""
         },
         "zerolinecolor": "#E1E5ED"
        },
        "yaxis": {
         "gridcolor": "#E1E5ED",
         "linecolor": "black",
         "showgrid": true,
         "tickfont": {
          "color": "#4D5663"
         },
         "title": {
          "font": {
           "color": "#4D5663"
          },
          "text": "Count"
         },
         "zerolinecolor": "#E1E5ED"
        }
       }
      },
      "text/html": [
       "<div>                            <div id=\"f186ee53-9f19-48a1-ae7b-b0eafe3c920f\" class=\"plotly-graph-div\" style=\"height:525px; width:100%;\"></div>            <script type=\"text/javascript\">                require([\"plotly\"], function(Plotly) {                    window.PLOTLYENV=window.PLOTLYENV || {};\n",
       "                    window.PLOTLYENV.BASE_URL='https://plot.ly';                                    if (document.getElementById(\"f186ee53-9f19-48a1-ae7b-b0eafe3c920f\")) {                    Plotly.newPlot(                        \"f186ee53-9f19-48a1-ae7b-b0eafe3c920f\",                        [{\"marker\":{\"color\":\"rgba(255, 153, 51, 0.6)\",\"line\":{\"color\":\"rgba(255, 153, 51, 1.0)\",\"width\":1}},\"name\":\"count\",\"orientation\":\"v\",\"text\":\"\",\"x\":[\"say statement\",\"official say\",\"federal government\",\"trump say\",\"presidential election\",\"say say\",\"national security\",\"trump campaign\",\"presidential campaign\",\"also say\",\"source say\",\"tax bill\",\"next year\",\"spokesman say\",\"tell reuter\",\"russian government\",\"take office\",\"american people\",\"percent percent\",\"next week\",\"say want\",\"say also\",\"statement say\",\"first time\",\"report say\",\"tax plan\",\"say make\",\"state local\",\"expert say\",\"say plan\",\"republican lawmaker\",\"election campaign\",\"recent year\",\"deep state\",\"government official\",\"make decision\",\"make public\",\"say add\",\"bill pass\",\"administration official\",\"influence election\",\"government say\",\"company say\",\"white_house official\",\"say former\",\"federal agency\",\"tax cut\",\"early year\",\"intelligence official\",\"republican senator\",\"former official\",\"secretary state\",\"say company\",\"group say\",\"white_house say\",\"people say\",\"medium report\",\"republican leader\",\"say administration\",\"senior official\",\"lawyer say\",\"lawmaker say\",\"decision make\",\"aide say\",\"say expect\",\"make clear\",\"federal court\",\"say government\",\"say interview\",\"say letter\",\"federal law\",\"state department\",\"year say\",\"say email\",\"also include\",\"analyst say\",\"federal funding\",\"social security\",\"campaign say\",\"bill say\",\"say report\",\"say believe\",\"say support\",\"say think\",\"russian official\",\"tax legislation\",\"say trump\",\"new rule\",\"take step\",\"say go\",\"take action\",\"former former\",\"campaign promise\",\"trump also\",\"government agency\",\"long time\",\"say tell\",\"many people\",\"go say\",\"say ask\"],\"y\":[326,247,187,166,166,138,137,129,114,107,106,104,98,98,96,95,92,89,81,78,77,73,69,69,69,68,64,63,62,60,60,59,59,58,56,56,56,55,55,54,54,54,53,52,52,51,51,50,50,50,50,50,50,49,49,48,48,48,48,47,47,46,46,45,45,44,44,44,44,44,43,43,43,42,42,42,42,42,41,41,41,40,40,39,39,39,39,39,38,38,38,38,38,38,38,38,37,37,36,36],\"type\":\"bar\"}],                        {\"legend\":{\"bgcolor\":\"#F5F6F9\",\"font\":{\"color\":\"#4D5663\"}},\"paper_bgcolor\":\"#F5F6F9\",\"plot_bgcolor\":\"#F5F6F9\",\"template\":{\"data\":{\"barpolar\":[{\"marker\":{\"line\":{\"color\":\"#E5ECF6\",\"width\":0.5},\"pattern\":{\"fillmode\":\"overlay\",\"size\":10,\"solidity\":0.2}},\"type\":\"barpolar\"}],\"bar\":[{\"error_x\":{\"color\":\"#2a3f5f\"},\"error_y\":{\"color\":\"#2a3f5f\"},\"marker\":{\"line\":{\"color\":\"#E5ECF6\",\"width\":0.5},\"pattern\":{\"fillmode\":\"overlay\",\"size\":10,\"solidity\":0.2}},\"type\":\"bar\"}],\"carpet\":[{\"aaxis\":{\"endlinecolor\":\"#2a3f5f\",\"gridcolor\":\"white\",\"linecolor\":\"white\",\"minorgridcolor\":\"white\",\"startlinecolor\":\"#2a3f5f\"},\"baxis\":{\"endlinecolor\":\"#2a3f5f\",\"gridcolor\":\"white\",\"linecolor\":\"white\",\"minorgridcolor\":\"white\",\"startlinecolor\":\"#2a3f5f\"},\"type\":\"carpet\"}],\"choropleth\":[{\"colorbar\":{\"outlinewidth\":0,\"ticks\":\"\"},\"type\":\"choropleth\"}],\"contourcarpet\":[{\"colorbar\":{\"outlinewidth\":0,\"ticks\":\"\"},\"type\":\"contourcarpet\"}],\"contour\":[{\"colorbar\":{\"outlinewidth\":0,\"ticks\":\"\"},\"colorscale\":[[0.0,\"#0d0887\"],[0.1111111111111111,\"#46039f\"],[0.2222222222222222,\"#7201a8\"],[0.3333333333333333,\"#9c179e\"],[0.4444444444444444,\"#bd3786\"],[0.5555555555555556,\"#d8576b\"],[0.6666666666666666,\"#ed7953\"],[0.7777777777777778,\"#fb9f3a\"],[0.8888888888888888,\"#fdca26\"],[1.0,\"#f0f921\"]],\"type\":\"contour\"}],\"heatmapgl\":[{\"colorbar\":{\"outlinewidth\":0,\"ticks\":\"\"},\"colorscale\":[[0.0,\"#0d0887\"],[0.1111111111111111,\"#46039f\"],[0.2222222222222222,\"#7201a8\"],[0.3333333333333333,\"#9c179e\"],[0.4444444444444444,\"#bd3786\"],[0.5555555555555556,\"#d8576b\"],[0.6666666666666666,\"#ed7953\"],[0.7777777777777778,\"#fb9f3a\"],[0.8888888888888888,\"#fdca26\"],[1.0,\"#f0f921\"]],\"type\":\"heatmapgl\"}],\"heatmap\":[{\"colorbar\":{\"outlinewidth\":0,\"ticks\":\"\"},\"colorscale\":[[0.0,\"#0d0887\"],[0.1111111111111111,\"#46039f\"],[0.2222222222222222,\"#7201a8\"],[0.3333333333333333,\"#9c179e\"],[0.4444444444444444,\"#bd3786\"],[0.5555555555555556,\"#d8576b\"],[0.6666666666666666,\"#ed7953\"],[0.7777777777777778,\"#fb9f3a\"],[0.8888888888888888,\"#fdca26\"],[1.0,\"#f0f921\"]],\"type\":\"heatmap\"}],\"histogram2dcontour\":[{\"colorbar\":{\"outlinewidth\":0,\"ticks\":\"\"},\"colorscale\":[[0.0,\"#0d0887\"],[0.1111111111111111,\"#46039f\"],[0.2222222222222222,\"#7201a8\"],[0.3333333333333333,\"#9c179e\"],[0.4444444444444444,\"#bd3786\"],[0.5555555555555556,\"#d8576b\"],[0.6666666666666666,\"#ed7953\"],[0.7777777777777778,\"#fb9f3a\"],[0.8888888888888888,\"#fdca26\"],[1.0,\"#f0f921\"]],\"type\":\"histogram2dcontour\"}],\"histogram2d\":[{\"colorbar\":{\"outlinewidth\":0,\"ticks\":\"\"},\"colorscale\":[[0.0,\"#0d0887\"],[0.1111111111111111,\"#46039f\"],[0.2222222222222222,\"#7201a8\"],[0.3333333333333333,\"#9c179e\"],[0.4444444444444444,\"#bd3786\"],[0.5555555555555556,\"#d8576b\"],[0.6666666666666666,\"#ed7953\"],[0.7777777777777778,\"#fb9f3a\"],[0.8888888888888888,\"#fdca26\"],[1.0,\"#f0f921\"]],\"type\":\"histogram2d\"}],\"histogram\":[{\"marker\":{\"pattern\":{\"fillmode\":\"overlay\",\"size\":10,\"solidity\":0.2}},\"type\":\"histogram\"}],\"mesh3d\":[{\"colorbar\":{\"outlinewidth\":0,\"ticks\":\"\"},\"type\":\"mesh3d\"}],\"parcoords\":[{\"line\":{\"colorbar\":{\"outlinewidth\":0,\"ticks\":\"\"}},\"type\":\"parcoords\"}],\"pie\":[{\"automargin\":true,\"type\":\"pie\"}],\"scatter3d\":[{\"line\":{\"colorbar\":{\"outlinewidth\":0,\"ticks\":\"\"}},\"marker\":{\"colorbar\":{\"outlinewidth\":0,\"ticks\":\"\"}},\"type\":\"scatter3d\"}],\"scattercarpet\":[{\"marker\":{\"colorbar\":{\"outlinewidth\":0,\"ticks\":\"\"}},\"type\":\"scattercarpet\"}],\"scattergeo\":[{\"marker\":{\"colorbar\":{\"outlinewidth\":0,\"ticks\":\"\"}},\"type\":\"scattergeo\"}],\"scattergl\":[{\"marker\":{\"colorbar\":{\"outlinewidth\":0,\"ticks\":\"\"}},\"type\":\"scattergl\"}],\"scattermapbox\":[{\"marker\":{\"colorbar\":{\"outlinewidth\":0,\"ticks\":\"\"}},\"type\":\"scattermapbox\"}],\"scatterpolargl\":[{\"marker\":{\"colorbar\":{\"outlinewidth\":0,\"ticks\":\"\"}},\"type\":\"scatterpolargl\"}],\"scatterpolar\":[{\"marker\":{\"colorbar\":{\"outlinewidth\":0,\"ticks\":\"\"}},\"type\":\"scatterpolar\"}],\"scatter\":[{\"fillpattern\":{\"fillmode\":\"overlay\",\"size\":10,\"solidity\":0.2},\"type\":\"scatter\"}],\"scatterternary\":[{\"marker\":{\"colorbar\":{\"outlinewidth\":0,\"ticks\":\"\"}},\"type\":\"scatterternary\"}],\"surface\":[{\"colorbar\":{\"outlinewidth\":0,\"ticks\":\"\"},\"colorscale\":[[0.0,\"#0d0887\"],[0.1111111111111111,\"#46039f\"],[0.2222222222222222,\"#7201a8\"],[0.3333333333333333,\"#9c179e\"],[0.4444444444444444,\"#bd3786\"],[0.5555555555555556,\"#d8576b\"],[0.6666666666666666,\"#ed7953\"],[0.7777777777777778,\"#fb9f3a\"],[0.8888888888888888,\"#fdca26\"],[1.0,\"#f0f921\"]],\"type\":\"surface\"}],\"table\":[{\"cells\":{\"fill\":{\"color\":\"#EBF0F8\"},\"line\":{\"color\":\"white\"}},\"header\":{\"fill\":{\"color\":\"#C8D4E3\"},\"line\":{\"color\":\"white\"}},\"type\":\"table\"}]},\"layout\":{\"annotationdefaults\":{\"arrowcolor\":\"#2a3f5f\",\"arrowhead\":0,\"arrowwidth\":1},\"autotypenumbers\":\"strict\",\"coloraxis\":{\"colorbar\":{\"outlinewidth\":0,\"ticks\":\"\"}},\"colorscale\":{\"diverging\":[[0,\"#8e0152\"],[0.1,\"#c51b7d\"],[0.2,\"#de77ae\"],[0.3,\"#f1b6da\"],[0.4,\"#fde0ef\"],[0.5,\"#f7f7f7\"],[0.6,\"#e6f5d0\"],[0.7,\"#b8e186\"],[0.8,\"#7fbc41\"],[0.9,\"#4d9221\"],[1,\"#276419\"]],\"sequential\":[[0.0,\"#0d0887\"],[0.1111111111111111,\"#46039f\"],[0.2222222222222222,\"#7201a8\"],[0.3333333333333333,\"#9c179e\"],[0.4444444444444444,\"#bd3786\"],[0.5555555555555556,\"#d8576b\"],[0.6666666666666666,\"#ed7953\"],[0.7777777777777778,\"#fb9f3a\"],[0.8888888888888888,\"#fdca26\"],[1.0,\"#f0f921\"]],\"sequentialminus\":[[0.0,\"#0d0887\"],[0.1111111111111111,\"#46039f\"],[0.2222222222222222,\"#7201a8\"],[0.3333333333333333,\"#9c179e\"],[0.4444444444444444,\"#bd3786\"],[0.5555555555555556,\"#d8576b\"],[0.6666666666666666,\"#ed7953\"],[0.7777777777777778,\"#fb9f3a\"],[0.8888888888888888,\"#fdca26\"],[1.0,\"#f0f921\"]]},\"colorway\":[\"#636efa\",\"#EF553B\",\"#00cc96\",\"#ab63fa\",\"#FFA15A\",\"#19d3f3\",\"#FF6692\",\"#B6E880\",\"#FF97FF\",\"#FECB52\"],\"font\":{\"color\":\"#2a3f5f\"},\"geo\":{\"bgcolor\":\"white\",\"lakecolor\":\"white\",\"landcolor\":\"#E5ECF6\",\"showlakes\":true,\"showland\":true,\"subunitcolor\":\"white\"},\"hoverlabel\":{\"align\":\"left\"},\"hovermode\":\"closest\",\"mapbox\":{\"style\":\"light\"},\"paper_bgcolor\":\"white\",\"plot_bgcolor\":\"#E5ECF6\",\"polar\":{\"angularaxis\":{\"gridcolor\":\"white\",\"linecolor\":\"white\",\"ticks\":\"\"},\"bgcolor\":\"#E5ECF6\",\"radialaxis\":{\"gridcolor\":\"white\",\"linecolor\":\"white\",\"ticks\":\"\"}},\"scene\":{\"xaxis\":{\"backgroundcolor\":\"#E5ECF6\",\"gridcolor\":\"white\",\"gridwidth\":2,\"linecolor\":\"white\",\"showbackground\":true,\"ticks\":\"\",\"zerolinecolor\":\"white\"},\"yaxis\":{\"backgroundcolor\":\"#E5ECF6\",\"gridcolor\":\"white\",\"gridwidth\":2,\"linecolor\":\"white\",\"showbackground\":true,\"ticks\":\"\",\"zerolinecolor\":\"white\"},\"zaxis\":{\"backgroundcolor\":\"#E5ECF6\",\"gridcolor\":\"white\",\"gridwidth\":2,\"linecolor\":\"white\",\"showbackground\":true,\"ticks\":\"\",\"zerolinecolor\":\"white\"}},\"shapedefaults\":{\"line\":{\"color\":\"#2a3f5f\"}},\"ternary\":{\"aaxis\":{\"gridcolor\":\"white\",\"linecolor\":\"white\",\"ticks\":\"\"},\"baxis\":{\"gridcolor\":\"white\",\"linecolor\":\"white\",\"ticks\":\"\"},\"bgcolor\":\"#E5ECF6\",\"caxis\":{\"gridcolor\":\"white\",\"linecolor\":\"white\",\"ticks\":\"\"}},\"title\":{\"x\":0.05},\"xaxis\":{\"automargin\":true,\"gridcolor\":\"white\",\"linecolor\":\"white\",\"ticks\":\"\",\"title\":{\"standoff\":15},\"zerolinecolor\":\"white\",\"zerolinewidth\":2},\"yaxis\":{\"automargin\":true,\"gridcolor\":\"white\",\"linecolor\":\"white\",\"ticks\":\"\",\"title\":{\"standoff\":15},\"zerolinecolor\":\"white\",\"zerolinewidth\":2}}},\"title\":{\"font\":{\"color\":\"#4D5663\"},\"text\":\"Topic 0: Top 100 bigrams after removing stop words\"},\"xaxis\":{\"gridcolor\":\"#E1E5ED\",\"linecolor\":\"black\",\"showgrid\":true,\"tickfont\":{\"color\":\"#4D5663\"},\"title\":{\"font\":{\"color\":\"#4D5663\"},\"text\":\"\"},\"zerolinecolor\":\"#E1E5ED\"},\"yaxis\":{\"gridcolor\":\"#E1E5ED\",\"linecolor\":\"black\",\"showgrid\":true,\"tickfont\":{\"color\":\"#4D5663\"},\"title\":{\"font\":{\"color\":\"#4D5663\"},\"text\":\"Count\"},\"zerolinecolor\":\"#E1E5ED\"}},                        {\"showLink\": true, \"linkText\": \"Export to plot.ly\", \"plotlyServerURL\": \"https://plot.ly\", \"responsive\": true}                    ).then(function(){\n",
       "                            \n",
       "var gd = document.getElementById('f186ee53-9f19-48a1-ae7b-b0eafe3c920f');\n",
       "var x = new MutationObserver(function (mutations, observer) {{\n",
       "        var display = window.getComputedStyle(gd).display;\n",
       "        if (!display || display === 'none') {{\n",
       "            console.log([gd, 'removed!']);\n",
       "            Plotly.purge(gd);\n",
       "            observer.disconnect();\n",
       "        }}\n",
       "}});\n",
       "\n",
       "// Listen for the removal of the full notebook cells\n",
       "var notebookContainer = gd.closest('#notebook-container');\n",
       "if (notebookContainer) {{\n",
       "    x.observe(notebookContainer, {childList: true});\n",
       "}}\n",
       "\n",
       "// Listen for the clearing of the current output cell\n",
       "var outputEl = gd.closest('.output');\n",
       "if (outputEl) {{\n",
       "    x.observe(outputEl, {childList: true});\n",
       "}}\n",
       "\n",
       "                        })                };                });            </script>        </div>"
      ]
     },
     "metadata": {},
     "output_type": "display_data"
    }
   ],
   "source": [
    "plot_model(lda, plot = 'bigram')"
   ]
  },
  {
   "cell_type": "markdown",
   "id": "8e5ce4f7",
   "metadata": {},
   "source": [
    "After the observations of these models we need to create the dataframe the model will be learning off of. In this case we just want the models to be learning of whether or not the data row is a truthful article or fake any other additional information would be unnecessary data that will just confuse the model especially since the other data types are text based data while our class indicator is only 0 and 1"
   ]
  },
  {
   "cell_type": "code",
   "execution_count": 20,
   "id": "86fb4e2b",
   "metadata": {},
   "outputs": [],
   "source": [
    "lda_df.drop(['text','title','subject','date'],axis = 1, inplace=True, errors='ignore')"
   ]
  },
  {
   "cell_type": "code",
   "execution_count": 21,
   "id": "3778183b",
   "metadata": {},
   "outputs": [
    {
     "data": {
      "text/html": [
       "<style type=\"text/css\">\n",
       "#T_c4a97_row44_col1 {\n",
       "  background-color: lightgreen;\n",
       "}\n",
       "</style>\n",
       "<table id=\"T_c4a97_\">\n",
       "  <thead>\n",
       "    <tr>\n",
       "      <th class=\"blank level0\" >&nbsp;</th>\n",
       "      <th class=\"col_heading level0 col0\" >Description</th>\n",
       "      <th class=\"col_heading level0 col1\" >Value</th>\n",
       "    </tr>\n",
       "  </thead>\n",
       "  <tbody>\n",
       "    <tr>\n",
       "      <th id=\"T_c4a97_level0_row0\" class=\"row_heading level0 row0\" >0</th>\n",
       "      <td id=\"T_c4a97_row0_col0\" class=\"data row0 col0\" >session_id</td>\n",
       "      <td id=\"T_c4a97_row0_col1\" class=\"data row0 col1\" >7273</td>\n",
       "    </tr>\n",
       "    <tr>\n",
       "      <th id=\"T_c4a97_level0_row1\" class=\"row_heading level0 row1\" >1</th>\n",
       "      <td id=\"T_c4a97_row1_col0\" class=\"data row1 col0\" >Target</td>\n",
       "      <td id=\"T_c4a97_row1_col1\" class=\"data row1 col1\" >class</td>\n",
       "    </tr>\n",
       "    <tr>\n",
       "      <th id=\"T_c4a97_level0_row2\" class=\"row_heading level0 row2\" >2</th>\n",
       "      <td id=\"T_c4a97_row2_col0\" class=\"data row2 col0\" >Target Type</td>\n",
       "      <td id=\"T_c4a97_row2_col1\" class=\"data row2 col1\" >Binary</td>\n",
       "    </tr>\n",
       "    <tr>\n",
       "      <th id=\"T_c4a97_level0_row3\" class=\"row_heading level0 row3\" >3</th>\n",
       "      <td id=\"T_c4a97_row3_col0\" class=\"data row3 col0\" >Label Encoded</td>\n",
       "      <td id=\"T_c4a97_row3_col1\" class=\"data row3 col1\" >None</td>\n",
       "    </tr>\n",
       "    <tr>\n",
       "      <th id=\"T_c4a97_level0_row4\" class=\"row_heading level0 row4\" >4</th>\n",
       "      <td id=\"T_c4a97_row4_col0\" class=\"data row4 col0\" >Original Data</td>\n",
       "      <td id=\"T_c4a97_row4_col1\" class=\"data row4 col1\" >(10000, 7)</td>\n",
       "    </tr>\n",
       "    <tr>\n",
       "      <th id=\"T_c4a97_level0_row5\" class=\"row_heading level0 row5\" >5</th>\n",
       "      <td id=\"T_c4a97_row5_col0\" class=\"data row5 col0\" >Missing Values</td>\n",
       "      <td id=\"T_c4a97_row5_col1\" class=\"data row5 col1\" >False</td>\n",
       "    </tr>\n",
       "    <tr>\n",
       "      <th id=\"T_c4a97_level0_row6\" class=\"row_heading level0 row6\" >6</th>\n",
       "      <td id=\"T_c4a97_row6_col0\" class=\"data row6 col0\" >Numeric Features</td>\n",
       "      <td id=\"T_c4a97_row6_col1\" class=\"data row6 col1\" >5</td>\n",
       "    </tr>\n",
       "    <tr>\n",
       "      <th id=\"T_c4a97_level0_row7\" class=\"row_heading level0 row7\" >7</th>\n",
       "      <td id=\"T_c4a97_row7_col0\" class=\"data row7 col0\" >Categorical Features</td>\n",
       "      <td id=\"T_c4a97_row7_col1\" class=\"data row7 col1\" >1</td>\n",
       "    </tr>\n",
       "    <tr>\n",
       "      <th id=\"T_c4a97_level0_row8\" class=\"row_heading level0 row8\" >8</th>\n",
       "      <td id=\"T_c4a97_row8_col0\" class=\"data row8 col0\" >Ordinal Features</td>\n",
       "      <td id=\"T_c4a97_row8_col1\" class=\"data row8 col1\" >False</td>\n",
       "    </tr>\n",
       "    <tr>\n",
       "      <th id=\"T_c4a97_level0_row9\" class=\"row_heading level0 row9\" >9</th>\n",
       "      <td id=\"T_c4a97_row9_col0\" class=\"data row9 col0\" >High Cardinality Features</td>\n",
       "      <td id=\"T_c4a97_row9_col1\" class=\"data row9 col1\" >False</td>\n",
       "    </tr>\n",
       "    <tr>\n",
       "      <th id=\"T_c4a97_level0_row10\" class=\"row_heading level0 row10\" >10</th>\n",
       "      <td id=\"T_c4a97_row10_col0\" class=\"data row10 col0\" >High Cardinality Method</td>\n",
       "      <td id=\"T_c4a97_row10_col1\" class=\"data row10 col1\" >None</td>\n",
       "    </tr>\n",
       "    <tr>\n",
       "      <th id=\"T_c4a97_level0_row11\" class=\"row_heading level0 row11\" >11</th>\n",
       "      <td id=\"T_c4a97_row11_col0\" class=\"data row11 col0\" >Transformed Train Set</td>\n",
       "      <td id=\"T_c4a97_row11_col1\" class=\"data row11 col1\" >(6999, 9)</td>\n",
       "    </tr>\n",
       "    <tr>\n",
       "      <th id=\"T_c4a97_level0_row12\" class=\"row_heading level0 row12\" >12</th>\n",
       "      <td id=\"T_c4a97_row12_col0\" class=\"data row12 col0\" >Transformed Test Set</td>\n",
       "      <td id=\"T_c4a97_row12_col1\" class=\"data row12 col1\" >(3001, 9)</td>\n",
       "    </tr>\n",
       "    <tr>\n",
       "      <th id=\"T_c4a97_level0_row13\" class=\"row_heading level0 row13\" >13</th>\n",
       "      <td id=\"T_c4a97_row13_col0\" class=\"data row13 col0\" >Shuffle Train-Test</td>\n",
       "      <td id=\"T_c4a97_row13_col1\" class=\"data row13 col1\" >True</td>\n",
       "    </tr>\n",
       "    <tr>\n",
       "      <th id=\"T_c4a97_level0_row14\" class=\"row_heading level0 row14\" >14</th>\n",
       "      <td id=\"T_c4a97_row14_col0\" class=\"data row14 col0\" >Stratify Train-Test</td>\n",
       "      <td id=\"T_c4a97_row14_col1\" class=\"data row14 col1\" >False</td>\n",
       "    </tr>\n",
       "    <tr>\n",
       "      <th id=\"T_c4a97_level0_row15\" class=\"row_heading level0 row15\" >15</th>\n",
       "      <td id=\"T_c4a97_row15_col0\" class=\"data row15 col0\" >Fold Generator</td>\n",
       "      <td id=\"T_c4a97_row15_col1\" class=\"data row15 col1\" >StratifiedKFold</td>\n",
       "    </tr>\n",
       "    <tr>\n",
       "      <th id=\"T_c4a97_level0_row16\" class=\"row_heading level0 row16\" >16</th>\n",
       "      <td id=\"T_c4a97_row16_col0\" class=\"data row16 col0\" >Fold Number</td>\n",
       "      <td id=\"T_c4a97_row16_col1\" class=\"data row16 col1\" >10</td>\n",
       "    </tr>\n",
       "    <tr>\n",
       "      <th id=\"T_c4a97_level0_row17\" class=\"row_heading level0 row17\" >17</th>\n",
       "      <td id=\"T_c4a97_row17_col0\" class=\"data row17 col0\" >CPU Jobs</td>\n",
       "      <td id=\"T_c4a97_row17_col1\" class=\"data row17 col1\" >-1</td>\n",
       "    </tr>\n",
       "    <tr>\n",
       "      <th id=\"T_c4a97_level0_row18\" class=\"row_heading level0 row18\" >18</th>\n",
       "      <td id=\"T_c4a97_row18_col0\" class=\"data row18 col0\" >Use GPU</td>\n",
       "      <td id=\"T_c4a97_row18_col1\" class=\"data row18 col1\" >False</td>\n",
       "    </tr>\n",
       "    <tr>\n",
       "      <th id=\"T_c4a97_level0_row19\" class=\"row_heading level0 row19\" >19</th>\n",
       "      <td id=\"T_c4a97_row19_col0\" class=\"data row19 col0\" >Log Experiment</td>\n",
       "      <td id=\"T_c4a97_row19_col1\" class=\"data row19 col1\" >False</td>\n",
       "    </tr>\n",
       "    <tr>\n",
       "      <th id=\"T_c4a97_level0_row20\" class=\"row_heading level0 row20\" >20</th>\n",
       "      <td id=\"T_c4a97_row20_col0\" class=\"data row20 col0\" >Experiment Name</td>\n",
       "      <td id=\"T_c4a97_row20_col1\" class=\"data row20 col1\" >clf-default-name</td>\n",
       "    </tr>\n",
       "    <tr>\n",
       "      <th id=\"T_c4a97_level0_row21\" class=\"row_heading level0 row21\" >21</th>\n",
       "      <td id=\"T_c4a97_row21_col0\" class=\"data row21 col0\" >USI</td>\n",
       "      <td id=\"T_c4a97_row21_col1\" class=\"data row21 col1\" >f6cd</td>\n",
       "    </tr>\n",
       "    <tr>\n",
       "      <th id=\"T_c4a97_level0_row22\" class=\"row_heading level0 row22\" >22</th>\n",
       "      <td id=\"T_c4a97_row22_col0\" class=\"data row22 col0\" >Imputation Type</td>\n",
       "      <td id=\"T_c4a97_row22_col1\" class=\"data row22 col1\" >simple</td>\n",
       "    </tr>\n",
       "    <tr>\n",
       "      <th id=\"T_c4a97_level0_row23\" class=\"row_heading level0 row23\" >23</th>\n",
       "      <td id=\"T_c4a97_row23_col0\" class=\"data row23 col0\" >Iterative Imputation Iteration</td>\n",
       "      <td id=\"T_c4a97_row23_col1\" class=\"data row23 col1\" >None</td>\n",
       "    </tr>\n",
       "    <tr>\n",
       "      <th id=\"T_c4a97_level0_row24\" class=\"row_heading level0 row24\" >24</th>\n",
       "      <td id=\"T_c4a97_row24_col0\" class=\"data row24 col0\" >Numeric Imputer</td>\n",
       "      <td id=\"T_c4a97_row24_col1\" class=\"data row24 col1\" >mean</td>\n",
       "    </tr>\n",
       "    <tr>\n",
       "      <th id=\"T_c4a97_level0_row25\" class=\"row_heading level0 row25\" >25</th>\n",
       "      <td id=\"T_c4a97_row25_col0\" class=\"data row25 col0\" >Iterative Imputation Numeric Model</td>\n",
       "      <td id=\"T_c4a97_row25_col1\" class=\"data row25 col1\" >None</td>\n",
       "    </tr>\n",
       "    <tr>\n",
       "      <th id=\"T_c4a97_level0_row26\" class=\"row_heading level0 row26\" >26</th>\n",
       "      <td id=\"T_c4a97_row26_col0\" class=\"data row26 col0\" >Categorical Imputer</td>\n",
       "      <td id=\"T_c4a97_row26_col1\" class=\"data row26 col1\" >constant</td>\n",
       "    </tr>\n",
       "    <tr>\n",
       "      <th id=\"T_c4a97_level0_row27\" class=\"row_heading level0 row27\" >27</th>\n",
       "      <td id=\"T_c4a97_row27_col0\" class=\"data row27 col0\" >Iterative Imputation Categorical Model</td>\n",
       "      <td id=\"T_c4a97_row27_col1\" class=\"data row27 col1\" >None</td>\n",
       "    </tr>\n",
       "    <tr>\n",
       "      <th id=\"T_c4a97_level0_row28\" class=\"row_heading level0 row28\" >28</th>\n",
       "      <td id=\"T_c4a97_row28_col0\" class=\"data row28 col0\" >Unknown Categoricals Handling</td>\n",
       "      <td id=\"T_c4a97_row28_col1\" class=\"data row28 col1\" >least_frequent</td>\n",
       "    </tr>\n",
       "    <tr>\n",
       "      <th id=\"T_c4a97_level0_row29\" class=\"row_heading level0 row29\" >29</th>\n",
       "      <td id=\"T_c4a97_row29_col0\" class=\"data row29 col0\" >Normalize</td>\n",
       "      <td id=\"T_c4a97_row29_col1\" class=\"data row29 col1\" >False</td>\n",
       "    </tr>\n",
       "    <tr>\n",
       "      <th id=\"T_c4a97_level0_row30\" class=\"row_heading level0 row30\" >30</th>\n",
       "      <td id=\"T_c4a97_row30_col0\" class=\"data row30 col0\" >Normalize Method</td>\n",
       "      <td id=\"T_c4a97_row30_col1\" class=\"data row30 col1\" >None</td>\n",
       "    </tr>\n",
       "    <tr>\n",
       "      <th id=\"T_c4a97_level0_row31\" class=\"row_heading level0 row31\" >31</th>\n",
       "      <td id=\"T_c4a97_row31_col0\" class=\"data row31 col0\" >Transformation</td>\n",
       "      <td id=\"T_c4a97_row31_col1\" class=\"data row31 col1\" >False</td>\n",
       "    </tr>\n",
       "    <tr>\n",
       "      <th id=\"T_c4a97_level0_row32\" class=\"row_heading level0 row32\" >32</th>\n",
       "      <td id=\"T_c4a97_row32_col0\" class=\"data row32 col0\" >Transformation Method</td>\n",
       "      <td id=\"T_c4a97_row32_col1\" class=\"data row32 col1\" >None</td>\n",
       "    </tr>\n",
       "    <tr>\n",
       "      <th id=\"T_c4a97_level0_row33\" class=\"row_heading level0 row33\" >33</th>\n",
       "      <td id=\"T_c4a97_row33_col0\" class=\"data row33 col0\" >PCA</td>\n",
       "      <td id=\"T_c4a97_row33_col1\" class=\"data row33 col1\" >False</td>\n",
       "    </tr>\n",
       "    <tr>\n",
       "      <th id=\"T_c4a97_level0_row34\" class=\"row_heading level0 row34\" >34</th>\n",
       "      <td id=\"T_c4a97_row34_col0\" class=\"data row34 col0\" >PCA Method</td>\n",
       "      <td id=\"T_c4a97_row34_col1\" class=\"data row34 col1\" >None</td>\n",
       "    </tr>\n",
       "    <tr>\n",
       "      <th id=\"T_c4a97_level0_row35\" class=\"row_heading level0 row35\" >35</th>\n",
       "      <td id=\"T_c4a97_row35_col0\" class=\"data row35 col0\" >PCA Components</td>\n",
       "      <td id=\"T_c4a97_row35_col1\" class=\"data row35 col1\" >None</td>\n",
       "    </tr>\n",
       "    <tr>\n",
       "      <th id=\"T_c4a97_level0_row36\" class=\"row_heading level0 row36\" >36</th>\n",
       "      <td id=\"T_c4a97_row36_col0\" class=\"data row36 col0\" >Ignore Low Variance</td>\n",
       "      <td id=\"T_c4a97_row36_col1\" class=\"data row36 col1\" >False</td>\n",
       "    </tr>\n",
       "    <tr>\n",
       "      <th id=\"T_c4a97_level0_row37\" class=\"row_heading level0 row37\" >37</th>\n",
       "      <td id=\"T_c4a97_row37_col0\" class=\"data row37 col0\" >Combine Rare Levels</td>\n",
       "      <td id=\"T_c4a97_row37_col1\" class=\"data row37 col1\" >False</td>\n",
       "    </tr>\n",
       "    <tr>\n",
       "      <th id=\"T_c4a97_level0_row38\" class=\"row_heading level0 row38\" >38</th>\n",
       "      <td id=\"T_c4a97_row38_col0\" class=\"data row38 col0\" >Rare Level Threshold</td>\n",
       "      <td id=\"T_c4a97_row38_col1\" class=\"data row38 col1\" >None</td>\n",
       "    </tr>\n",
       "    <tr>\n",
       "      <th id=\"T_c4a97_level0_row39\" class=\"row_heading level0 row39\" >39</th>\n",
       "      <td id=\"T_c4a97_row39_col0\" class=\"data row39 col0\" >Numeric Binning</td>\n",
       "      <td id=\"T_c4a97_row39_col1\" class=\"data row39 col1\" >False</td>\n",
       "    </tr>\n",
       "    <tr>\n",
       "      <th id=\"T_c4a97_level0_row40\" class=\"row_heading level0 row40\" >40</th>\n",
       "      <td id=\"T_c4a97_row40_col0\" class=\"data row40 col0\" >Remove Outliers</td>\n",
       "      <td id=\"T_c4a97_row40_col1\" class=\"data row40 col1\" >False</td>\n",
       "    </tr>\n",
       "    <tr>\n",
       "      <th id=\"T_c4a97_level0_row41\" class=\"row_heading level0 row41\" >41</th>\n",
       "      <td id=\"T_c4a97_row41_col0\" class=\"data row41 col0\" >Outliers Threshold</td>\n",
       "      <td id=\"T_c4a97_row41_col1\" class=\"data row41 col1\" >None</td>\n",
       "    </tr>\n",
       "    <tr>\n",
       "      <th id=\"T_c4a97_level0_row42\" class=\"row_heading level0 row42\" >42</th>\n",
       "      <td id=\"T_c4a97_row42_col0\" class=\"data row42 col0\" >Remove Multicollinearity</td>\n",
       "      <td id=\"T_c4a97_row42_col1\" class=\"data row42 col1\" >False</td>\n",
       "    </tr>\n",
       "    <tr>\n",
       "      <th id=\"T_c4a97_level0_row43\" class=\"row_heading level0 row43\" >43</th>\n",
       "      <td id=\"T_c4a97_row43_col0\" class=\"data row43 col0\" >Multicollinearity Threshold</td>\n",
       "      <td id=\"T_c4a97_row43_col1\" class=\"data row43 col1\" >None</td>\n",
       "    </tr>\n",
       "    <tr>\n",
       "      <th id=\"T_c4a97_level0_row44\" class=\"row_heading level0 row44\" >44</th>\n",
       "      <td id=\"T_c4a97_row44_col0\" class=\"data row44 col0\" >Remove Perfect Collinearity</td>\n",
       "      <td id=\"T_c4a97_row44_col1\" class=\"data row44 col1\" >True</td>\n",
       "    </tr>\n",
       "    <tr>\n",
       "      <th id=\"T_c4a97_level0_row45\" class=\"row_heading level0 row45\" >45</th>\n",
       "      <td id=\"T_c4a97_row45_col0\" class=\"data row45 col0\" >Clustering</td>\n",
       "      <td id=\"T_c4a97_row45_col1\" class=\"data row45 col1\" >False</td>\n",
       "    </tr>\n",
       "    <tr>\n",
       "      <th id=\"T_c4a97_level0_row46\" class=\"row_heading level0 row46\" >46</th>\n",
       "      <td id=\"T_c4a97_row46_col0\" class=\"data row46 col0\" >Clustering Iteration</td>\n",
       "      <td id=\"T_c4a97_row46_col1\" class=\"data row46 col1\" >None</td>\n",
       "    </tr>\n",
       "    <tr>\n",
       "      <th id=\"T_c4a97_level0_row47\" class=\"row_heading level0 row47\" >47</th>\n",
       "      <td id=\"T_c4a97_row47_col0\" class=\"data row47 col0\" >Polynomial Features</td>\n",
       "      <td id=\"T_c4a97_row47_col1\" class=\"data row47 col1\" >False</td>\n",
       "    </tr>\n",
       "    <tr>\n",
       "      <th id=\"T_c4a97_level0_row48\" class=\"row_heading level0 row48\" >48</th>\n",
       "      <td id=\"T_c4a97_row48_col0\" class=\"data row48 col0\" >Polynomial Degree</td>\n",
       "      <td id=\"T_c4a97_row48_col1\" class=\"data row48 col1\" >None</td>\n",
       "    </tr>\n",
       "    <tr>\n",
       "      <th id=\"T_c4a97_level0_row49\" class=\"row_heading level0 row49\" >49</th>\n",
       "      <td id=\"T_c4a97_row49_col0\" class=\"data row49 col0\" >Trignometry Features</td>\n",
       "      <td id=\"T_c4a97_row49_col1\" class=\"data row49 col1\" >False</td>\n",
       "    </tr>\n",
       "    <tr>\n",
       "      <th id=\"T_c4a97_level0_row50\" class=\"row_heading level0 row50\" >50</th>\n",
       "      <td id=\"T_c4a97_row50_col0\" class=\"data row50 col0\" >Polynomial Threshold</td>\n",
       "      <td id=\"T_c4a97_row50_col1\" class=\"data row50 col1\" >None</td>\n",
       "    </tr>\n",
       "    <tr>\n",
       "      <th id=\"T_c4a97_level0_row51\" class=\"row_heading level0 row51\" >51</th>\n",
       "      <td id=\"T_c4a97_row51_col0\" class=\"data row51 col0\" >Group Features</td>\n",
       "      <td id=\"T_c4a97_row51_col1\" class=\"data row51 col1\" >False</td>\n",
       "    </tr>\n",
       "    <tr>\n",
       "      <th id=\"T_c4a97_level0_row52\" class=\"row_heading level0 row52\" >52</th>\n",
       "      <td id=\"T_c4a97_row52_col0\" class=\"data row52 col0\" >Feature Selection</td>\n",
       "      <td id=\"T_c4a97_row52_col1\" class=\"data row52 col1\" >False</td>\n",
       "    </tr>\n",
       "    <tr>\n",
       "      <th id=\"T_c4a97_level0_row53\" class=\"row_heading level0 row53\" >53</th>\n",
       "      <td id=\"T_c4a97_row53_col0\" class=\"data row53 col0\" >Feature Selection Method</td>\n",
       "      <td id=\"T_c4a97_row53_col1\" class=\"data row53 col1\" >classic</td>\n",
       "    </tr>\n",
       "    <tr>\n",
       "      <th id=\"T_c4a97_level0_row54\" class=\"row_heading level0 row54\" >54</th>\n",
       "      <td id=\"T_c4a97_row54_col0\" class=\"data row54 col0\" >Features Selection Threshold</td>\n",
       "      <td id=\"T_c4a97_row54_col1\" class=\"data row54 col1\" >None</td>\n",
       "    </tr>\n",
       "    <tr>\n",
       "      <th id=\"T_c4a97_level0_row55\" class=\"row_heading level0 row55\" >55</th>\n",
       "      <td id=\"T_c4a97_row55_col0\" class=\"data row55 col0\" >Feature Interaction</td>\n",
       "      <td id=\"T_c4a97_row55_col1\" class=\"data row55 col1\" >False</td>\n",
       "    </tr>\n",
       "    <tr>\n",
       "      <th id=\"T_c4a97_level0_row56\" class=\"row_heading level0 row56\" >56</th>\n",
       "      <td id=\"T_c4a97_row56_col0\" class=\"data row56 col0\" >Feature Ratio</td>\n",
       "      <td id=\"T_c4a97_row56_col1\" class=\"data row56 col1\" >False</td>\n",
       "    </tr>\n",
       "    <tr>\n",
       "      <th id=\"T_c4a97_level0_row57\" class=\"row_heading level0 row57\" >57</th>\n",
       "      <td id=\"T_c4a97_row57_col0\" class=\"data row57 col0\" >Interaction Threshold</td>\n",
       "      <td id=\"T_c4a97_row57_col1\" class=\"data row57 col1\" >None</td>\n",
       "    </tr>\n",
       "    <tr>\n",
       "      <th id=\"T_c4a97_level0_row58\" class=\"row_heading level0 row58\" >58</th>\n",
       "      <td id=\"T_c4a97_row58_col0\" class=\"data row58 col0\" >Fix Imbalance</td>\n",
       "      <td id=\"T_c4a97_row58_col1\" class=\"data row58 col1\" >False</td>\n",
       "    </tr>\n",
       "    <tr>\n",
       "      <th id=\"T_c4a97_level0_row59\" class=\"row_heading level0 row59\" >59</th>\n",
       "      <td id=\"T_c4a97_row59_col0\" class=\"data row59 col0\" >Fix Imbalance Method</td>\n",
       "      <td id=\"T_c4a97_row59_col1\" class=\"data row59 col1\" >SMOTE</td>\n",
       "    </tr>\n",
       "  </tbody>\n",
       "</table>\n"
      ],
      "text/plain": [
       "<pandas.io.formats.style.Styler at 0x7fed4f4774d0>"
      ]
     },
     "metadata": {},
     "output_type": "display_data"
    },
    {
     "data": {
      "text/plain": [
       "('lightgbm',\n",
       " 5,\n",
       " [],\n",
       " False,\n",
       " False,\n",
       " {'acc': <pycaret.containers.metrics.classification.AccuracyMetricContainer at 0x7fed4f467c50>,\n",
       "  'auc': <pycaret.containers.metrics.classification.ROCAUCMetricContainer at 0x7fed4f467cd0>,\n",
       "  'recall': <pycaret.containers.metrics.classification.RecallMetricContainer at 0x7fed4f467e50>,\n",
       "  'precision': <pycaret.containers.metrics.classification.PrecisionMetricContainer at 0x7fed4f467090>,\n",
       "  'f1': <pycaret.containers.metrics.classification.F1MetricContainer at 0x7fed4f4675d0>,\n",
       "  'kappa': <pycaret.containers.metrics.classification.KappaMetricContainer at 0x7fed4f467f50>,\n",
       "  'mcc': <pycaret.containers.metrics.classification.MCCMetricContainer at 0x7fed4f477250>},\n",
       " <MLUsecase.CLASSIFICATION: 1>,\n",
       "        Topic_0   Topic_1   Topic_2   Topic_3  Perc_Dominant_Topic  \\\n",
       " 0     0.020044  0.002238  0.236101  0.741617                 0.74   \n",
       " 1     0.250000  0.250000  0.250000  0.250000                 0.25   \n",
       " 2     0.000917  0.051859  0.889862  0.057361                 0.89   \n",
       " 3     0.233389  0.493758  0.003294  0.269559                 0.49   \n",
       " 4     0.038873  0.399176  0.560102  0.001849                 0.56   \n",
       " ...        ...       ...       ...       ...                  ...   \n",
       " 9995  0.089257  0.295777  0.155449  0.459516                 0.46   \n",
       " 9996  0.807085  0.041173  0.001640  0.150102                 0.81   \n",
       " 9997  0.327024  0.001621  0.001551  0.669803                 0.67   \n",
       " 9998  0.002496  0.934884  0.060132  0.002488                 0.93   \n",
       " 9999  0.608850  0.249349  0.119601  0.022200                 0.61   \n",
       " \n",
       "       Dominant_Topic_Topic 0  Dominant_Topic_Topic 1  Dominant_Topic_Topic 2  \\\n",
       " 0                        0.0                     0.0                     0.0   \n",
       " 1                        1.0                     0.0                     0.0   \n",
       " 2                        0.0                     0.0                     1.0   \n",
       " 3                        0.0                     1.0                     0.0   \n",
       " 4                        0.0                     0.0                     1.0   \n",
       " ...                      ...                     ...                     ...   \n",
       " 9995                     0.0                     0.0                     0.0   \n",
       " 9996                     1.0                     0.0                     0.0   \n",
       " 9997                     0.0                     0.0                     0.0   \n",
       " 9998                     0.0                     1.0                     0.0   \n",
       " 9999                     1.0                     0.0                     0.0   \n",
       " \n",
       "       Dominant_Topic_Topic 3  \n",
       " 0                        1.0  \n",
       " 1                        0.0  \n",
       " 2                        0.0  \n",
       " 3                        0.0  \n",
       " 4                        0.0  \n",
       " ...                      ...  \n",
       " 9995                     1.0  \n",
       " 9996                     0.0  \n",
       " 9997                     1.0  \n",
       " 9998                     0.0  \n",
       " 9999                     0.0  \n",
       " \n",
       " [10000 rows x 9 columns],\n",
       " None,\n",
       " [('Setup Config',\n",
       "                                  Description             Value\n",
       "   0                               session_id              7273\n",
       "   1                                   Target             class\n",
       "   2                              Target Type            Binary\n",
       "   3                            Label Encoded              None\n",
       "   4                            Original Data        (10000, 7)\n",
       "   5                           Missing Values             False\n",
       "   6                         Numeric Features                 5\n",
       "   7                     Categorical Features                 1\n",
       "   8                         Ordinal Features             False\n",
       "   9                High Cardinality Features             False\n",
       "   10                 High Cardinality Method              None\n",
       "   11                   Transformed Train Set         (6999, 9)\n",
       "   12                    Transformed Test Set         (3001, 9)\n",
       "   13                      Shuffle Train-Test              True\n",
       "   14                     Stratify Train-Test             False\n",
       "   15                          Fold Generator   StratifiedKFold\n",
       "   16                             Fold Number                10\n",
       "   17                                CPU Jobs                -1\n",
       "   18                                 Use GPU             False\n",
       "   19                          Log Experiment             False\n",
       "   20                         Experiment Name  clf-default-name\n",
       "   21                                     USI              f6cd\n",
       "   22                         Imputation Type            simple\n",
       "   23          Iterative Imputation Iteration              None\n",
       "   24                         Numeric Imputer              mean\n",
       "   25      Iterative Imputation Numeric Model              None\n",
       "   26                     Categorical Imputer          constant\n",
       "   27  Iterative Imputation Categorical Model              None\n",
       "   28           Unknown Categoricals Handling    least_frequent\n",
       "   29                               Normalize             False\n",
       "   30                        Normalize Method              None\n",
       "   31                          Transformation             False\n",
       "   32                   Transformation Method              None\n",
       "   33                                     PCA             False\n",
       "   34                              PCA Method              None\n",
       "   35                          PCA Components              None\n",
       "   36                     Ignore Low Variance             False\n",
       "   37                     Combine Rare Levels             False\n",
       "   38                    Rare Level Threshold              None\n",
       "   39                         Numeric Binning             False\n",
       "   40                         Remove Outliers             False\n",
       "   41                      Outliers Threshold              None\n",
       "   42                Remove Multicollinearity             False\n",
       "   43             Multicollinearity Threshold              None\n",
       "   44             Remove Perfect Collinearity              True\n",
       "   45                              Clustering             False\n",
       "   46                    Clustering Iteration              None\n",
       "   47                     Polynomial Features             False\n",
       "   48                       Polynomial Degree              None\n",
       "   49                    Trignometry Features             False\n",
       "   50                    Polynomial Threshold              None\n",
       "   51                          Group Features             False\n",
       "   52                       Feature Selection             False\n",
       "   53                Feature Selection Method           classic\n",
       "   54            Features Selection Threshold              None\n",
       "   55                     Feature Interaction             False\n",
       "   56                           Feature Ratio             False\n",
       "   57                   Interaction Threshold              None\n",
       "   58                           Fix Imbalance             False\n",
       "   59                    Fix Imbalance Method             SMOTE),\n",
       "  ('X_training Set',\n",
       "          Topic_0   Topic_1   Topic_2   Topic_3  Perc_Dominant_Topic  \\\n",
       "   8703  0.322801  0.005014  0.375347  0.296838                 0.38   \n",
       "   751   0.153487  0.002439  0.731525  0.112549                 0.73   \n",
       "   8763  0.003315  0.003235  0.990108  0.003342                 0.99   \n",
       "   6769  0.001388  0.001404  0.797629  0.199580                 0.80   \n",
       "   3418  0.076765  0.615633  0.030636  0.276966                 0.62   \n",
       "   ...        ...       ...       ...       ...                  ...   \n",
       "   2375  0.000760  0.000743  0.569062  0.429435                 0.57   \n",
       "   2903  0.591138  0.004688  0.399341  0.004834                 0.59   \n",
       "   4170  0.585279  0.079818  0.333821  0.001082                 0.59   \n",
       "   6922  0.145826  0.001377  0.192453  0.660344                 0.66   \n",
       "   1458  0.056518  0.002777  0.002791  0.937913                 0.94   \n",
       "   \n",
       "         Dominant_Topic_Topic 0  Dominant_Topic_Topic 1  Dominant_Topic_Topic 2  \\\n",
       "   8703                     0.0                     0.0                     1.0   \n",
       "   751                      0.0                     0.0                     1.0   \n",
       "   8763                     0.0                     0.0                     1.0   \n",
       "   6769                     0.0                     0.0                     1.0   \n",
       "   3418                     0.0                     1.0                     0.0   \n",
       "   ...                      ...                     ...                     ...   \n",
       "   2375                     0.0                     0.0                     1.0   \n",
       "   2903                     1.0                     0.0                     0.0   \n",
       "   4170                     1.0                     0.0                     0.0   \n",
       "   6922                     0.0                     0.0                     0.0   \n",
       "   1458                     0.0                     0.0                     0.0   \n",
       "   \n",
       "         Dominant_Topic_Topic 3  \n",
       "   8703                     0.0  \n",
       "   751                      0.0  \n",
       "   8763                     0.0  \n",
       "   6769                     0.0  \n",
       "   3418                     0.0  \n",
       "   ...                      ...  \n",
       "   2375                     0.0  \n",
       "   2903                     0.0  \n",
       "   4170                     0.0  \n",
       "   6922                     1.0  \n",
       "   1458                     1.0  \n",
       "   \n",
       "   [6999 rows x 9 columns]),\n",
       "  ('y_training Set',\n",
       "   8703    1\n",
       "   751     1\n",
       "   8763    1\n",
       "   6769    0\n",
       "   3418    0\n",
       "          ..\n",
       "   2375    1\n",
       "   2903    1\n",
       "   4170    1\n",
       "   6922    0\n",
       "   1458    0\n",
       "   Name: class, Length: 6999, dtype: int64),\n",
       "  ('X_test Set',\n",
       "          Topic_0   Topic_1   Topic_2   Topic_3  Perc_Dominant_Topic  \\\n",
       "   1534  0.001475  0.072200  0.001462  0.924864                 0.92   \n",
       "   5559  0.005139  0.155132  0.004864  0.834865                 0.83   \n",
       "   3979  0.017235  0.450585  0.017029  0.515150                 0.52   \n",
       "   739   0.001326  0.455374  0.541996  0.001304                 0.54   \n",
       "   9667  0.250000  0.250000  0.250000  0.250000                 0.25   \n",
       "   ...        ...       ...       ...       ...                  ...   \n",
       "   5121  0.002324  0.002293  0.176510  0.818872                 0.82   \n",
       "   2216  0.081120  0.002945  0.271840  0.644096                 0.64   \n",
       "   815   0.038758  0.003850  0.452134  0.505257                 0.51   \n",
       "   3755  0.399562  0.012722  0.574517  0.013199                 0.57   \n",
       "   9393  0.003647  0.003568  0.899127  0.093657                 0.90   \n",
       "   \n",
       "         Dominant_Topic_Topic 0  Dominant_Topic_Topic 1  Dominant_Topic_Topic 2  \\\n",
       "   1534                     0.0                     0.0                     0.0   \n",
       "   5559                     0.0                     0.0                     0.0   \n",
       "   3979                     0.0                     0.0                     0.0   \n",
       "   739                      0.0                     0.0                     1.0   \n",
       "   9667                     1.0                     0.0                     0.0   \n",
       "   ...                      ...                     ...                     ...   \n",
       "   5121                     0.0                     0.0                     0.0   \n",
       "   2216                     0.0                     0.0                     0.0   \n",
       "   815                      0.0                     0.0                     0.0   \n",
       "   3755                     0.0                     0.0                     1.0   \n",
       "   9393                     0.0                     0.0                     1.0   \n",
       "   \n",
       "         Dominant_Topic_Topic 3  \n",
       "   1534                     1.0  \n",
       "   5559                     1.0  \n",
       "   3979                     1.0  \n",
       "   739                      0.0  \n",
       "   9667                     0.0  \n",
       "   ...                      ...  \n",
       "   5121                     1.0  \n",
       "   2216                     1.0  \n",
       "   815                      1.0  \n",
       "   3755                     0.0  \n",
       "   9393                     0.0  \n",
       "   \n",
       "   [3001 rows x 9 columns]),\n",
       "  ('y_test Set',\n",
       "   1534    0\n",
       "   5559    0\n",
       "   3979    0\n",
       "   739     1\n",
       "   9667    0\n",
       "          ..\n",
       "   5121    0\n",
       "   2216    0\n",
       "   815     0\n",
       "   3755    1\n",
       "   9393    0\n",
       "   Name: class, Length: 3001, dtype: int64),\n",
       "  ('Transformation Pipeline',\n",
       "   Pipeline(memory=None,\n",
       "            steps=[('dtypes',\n",
       "                    DataTypes_Auto_infer(categorical_features=[],\n",
       "                                         display_types=False, features_todrop=[],\n",
       "                                         id_columns=[],\n",
       "                                         ml_usecase='classification',\n",
       "                                         numerical_features=[], target='class',\n",
       "                                         time_features=[])),\n",
       "                   ('imputer',\n",
       "                    Simple_Imputer(categorical_strategy='not_available',\n",
       "                                   fill_value_categorical=None,\n",
       "                                   fill_value_numerical=None,\n",
       "                                   numeric_strat...\n",
       "                   ('scaling', 'passthrough'), ('P_transform', 'passthrough'),\n",
       "                   ('binn', 'passthrough'), ('rem_outliers', 'passthrough'),\n",
       "                   ('cluster_all', 'passthrough'),\n",
       "                   ('dummy', Dummify(target='class')),\n",
       "                   ('fix_perfect', Remove_100(target='class')),\n",
       "                   ('clean_names', Clean_Colum_Names()),\n",
       "                   ('feature_select', 'passthrough'), ('fix_multi', 'passthrough'),\n",
       "                   ('dfs', 'passthrough'), ('pca', 'passthrough')],\n",
       "            verbose=False))],\n",
       " False,\n",
       " 'lightgbm',\n",
       " StratifiedKFold(n_splits=10, random_state=None, shuffle=False),\n",
       " -1,\n",
       " 1534    0\n",
       " 5559    0\n",
       " 3979    0\n",
       " 739     1\n",
       " 9667    0\n",
       "        ..\n",
       " 5121    0\n",
       " 2216    0\n",
       " 815     0\n",
       " 3755    1\n",
       " 9393    0\n",
       " Name: class, Length: 3001, dtype: int64,\n",
       "        Topic_0   Topic_1   Topic_2   Topic_3  Perc_Dominant_Topic  \\\n",
       " 8703  0.322801  0.005014  0.375347  0.296838                 0.38   \n",
       " 751   0.153487  0.002439  0.731525  0.112549                 0.73   \n",
       " 8763  0.003315  0.003235  0.990108  0.003342                 0.99   \n",
       " 6769  0.001388  0.001404  0.797629  0.199580                 0.80   \n",
       " 3418  0.076765  0.615633  0.030636  0.276966                 0.62   \n",
       " ...        ...       ...       ...       ...                  ...   \n",
       " 2375  0.000760  0.000743  0.569062  0.429435                 0.57   \n",
       " 2903  0.591138  0.004688  0.399341  0.004834                 0.59   \n",
       " 4170  0.585279  0.079818  0.333821  0.001082                 0.59   \n",
       " 6922  0.145826  0.001377  0.192453  0.660344                 0.66   \n",
       " 1458  0.056518  0.002777  0.002791  0.937913                 0.94   \n",
       " \n",
       "       Dominant_Topic_Topic 0  Dominant_Topic_Topic 1  Dominant_Topic_Topic 2  \\\n",
       " 8703                     0.0                     0.0                     1.0   \n",
       " 751                      0.0                     0.0                     1.0   \n",
       " 8763                     0.0                     0.0                     1.0   \n",
       " 6769                     0.0                     0.0                     1.0   \n",
       " 3418                     0.0                     1.0                     0.0   \n",
       " ...                      ...                     ...                     ...   \n",
       " 2375                     0.0                     0.0                     1.0   \n",
       " 2903                     1.0                     0.0                     0.0   \n",
       " 4170                     1.0                     0.0                     0.0   \n",
       " 6922                     0.0                     0.0                     0.0   \n",
       " 1458                     0.0                     0.0                     0.0   \n",
       " \n",
       "       Dominant_Topic_Topic 3  \n",
       " 8703                     0.0  \n",
       " 751                      0.0  \n",
       " 8763                     0.0  \n",
       " 6769                     0.0  \n",
       " 3418                     0.0  \n",
       " ...                      ...  \n",
       " 2375                     0.0  \n",
       " 2903                     0.0  \n",
       " 4170                     0.0  \n",
       " 6922                     1.0  \n",
       " 1458                     1.0  \n",
       " \n",
       " [6999 rows x 9 columns],\n",
       " 7273,\n",
       " {'parameter': 'Hyperparameters',\n",
       "  'auc': 'AUC',\n",
       "  'confusion_matrix': 'Confusion Matrix',\n",
       "  'threshold': 'Threshold',\n",
       "  'pr': 'Precision Recall',\n",
       "  'error': 'Prediction Error',\n",
       "  'class_report': 'Class Report',\n",
       "  'rfe': 'Feature Selection',\n",
       "  'learning': 'Learning Curve',\n",
       "  'manifold': 'Manifold Learning',\n",
       "  'calibration': 'Calibration Curve',\n",
       "  'vc': 'Validation Curve',\n",
       "  'dimension': 'Dimensions',\n",
       "  'feature': 'Feature Importance',\n",
       "  'feature_all': 'Feature Importance (All)',\n",
       "  'boundary': 'Decision Boundary',\n",
       "  'lift': 'Lift Chart',\n",
       "  'gain': 'Gain Chart',\n",
       "  'tree': 'Decision Tree',\n",
       "  'ks': 'KS Statistic Plot'},\n",
       " Pipeline(memory=None,\n",
       "          steps=[('dtypes',\n",
       "                  DataTypes_Auto_infer(categorical_features=[],\n",
       "                                       display_types=False, features_todrop=[],\n",
       "                                       id_columns=[],\n",
       "                                       ml_usecase='classification',\n",
       "                                       numerical_features=[], target='class',\n",
       "                                       time_features=[])),\n",
       "                 ('imputer',\n",
       "                  Simple_Imputer(categorical_strategy='not_available',\n",
       "                                 fill_value_categorical=None,\n",
       "                                 fill_value_numerical=None,\n",
       "                                 numeric_strat...\n",
       "                 ('scaling', 'passthrough'), ('P_transform', 'passthrough'),\n",
       "                 ('binn', 'passthrough'), ('rem_outliers', 'passthrough'),\n",
       "                 ('cluster_all', 'passthrough'),\n",
       "                 ('dummy', Dummify(target='class')),\n",
       "                 ('fix_perfect', Remove_100(target='class')),\n",
       "                 ('clean_names', Clean_Colum_Names()),\n",
       "                 ('feature_select', 'passthrough'), ('fix_multi', 'passthrough'),\n",
       "                 ('dfs', 'passthrough'), ('pca', 'passthrough')],\n",
       "          verbose=False),\n",
       " {'lr': <pycaret.containers.models.classification.LogisticRegressionClassifierContainer at 0x7fed4f44dd50>,\n",
       "  'knn': <pycaret.containers.models.classification.KNeighborsClassifierContainer at 0x7fed4f44d650>,\n",
       "  'nb': <pycaret.containers.models.classification.GaussianNBClassifierContainer at 0x7fed4f497690>,\n",
       "  'dt': <pycaret.containers.models.classification.DecisionTreeClassifierContainer at 0x7fed4f44d610>,\n",
       "  'svm': <pycaret.containers.models.classification.SGDClassifierContainer at 0x7fed4f4693d0>,\n",
       "  'rbfsvm': <pycaret.containers.models.classification.SVCClassifierContainer at 0x7fed4f469850>,\n",
       "  'gpc': <pycaret.containers.models.classification.GaussianProcessClassifierContainer at 0x7fed4f469550>,\n",
       "  'mlp': <pycaret.containers.models.classification.MLPClassifierContainer at 0x7fed4f469b90>,\n",
       "  'ridge': <pycaret.containers.models.classification.RidgeClassifierContainer at 0x7fed4f46b850>,\n",
       "  'rf': <pycaret.containers.models.classification.RandomForestClassifierContainer at 0x7fed4f809f10>,\n",
       "  'qda': <pycaret.containers.models.classification.QuadraticDiscriminantAnalysisContainer at 0x7fed4f475350>,\n",
       "  'ada': <pycaret.containers.models.classification.AdaBoostClassifierContainer at 0x7fed4f475450>,\n",
       "  'gbc': <pycaret.containers.models.classification.GradientBoostingClassifierContainer at 0x7fed4f448f50>,\n",
       "  'lda': <pycaret.containers.models.classification.LinearDiscriminantAnalysisContainer at 0x7fed4f469950>,\n",
       "  'et': <pycaret.containers.models.classification.ExtraTreesClassifierContainer at 0x7fed4f45e0d0>,\n",
       "  'xgboost': <pycaret.containers.models.classification.XGBClassifierContainer at 0x7fed4f45e510>,\n",
       "  'lightgbm': <pycaret.containers.models.classification.LGBMClassifierContainer at 0x7fed4f4b1cd0>,\n",
       "  'catboost': <pycaret.containers.models.classification.CatBoostClassifierContainer at 0x7fed4f45e610>,\n",
       "  'dummy': <pycaret.containers.models.classification.DummyClassifierContainer at 0x7fed4f4dc450>},\n",
       " None,\n",
       " 8703    1\n",
       " 751     1\n",
       " 8763    1\n",
       " 6769    0\n",
       " 3418    0\n",
       "        ..\n",
       " 2375    1\n",
       " 2903    1\n",
       " 4170    1\n",
       " 6922    0\n",
       " 1458    0\n",
       " Name: class, Length: 6999, dtype: int64,\n",
       " [<pandas.io.formats.style.Styler at 0x7fed4f4774d0>],\n",
       "        Topic_0   Topic_1   Topic_2   Topic_3  Perc_Dominant_Topic  \\\n",
       " 1534  0.001475  0.072200  0.001462  0.924864                 0.92   \n",
       " 5559  0.005139  0.155132  0.004864  0.834865                 0.83   \n",
       " 3979  0.017235  0.450585  0.017029  0.515150                 0.52   \n",
       " 739   0.001326  0.455374  0.541996  0.001304                 0.54   \n",
       " 9667  0.250000  0.250000  0.250000  0.250000                 0.25   \n",
       " ...        ...       ...       ...       ...                  ...   \n",
       " 5121  0.002324  0.002293  0.176510  0.818872                 0.82   \n",
       " 2216  0.081120  0.002945  0.271840  0.644096                 0.64   \n",
       " 815   0.038758  0.003850  0.452134  0.505257                 0.51   \n",
       " 3755  0.399562  0.012722  0.574517  0.013199                 0.57   \n",
       " 9393  0.003647  0.003568  0.899127  0.093657                 0.90   \n",
       " \n",
       "       Dominant_Topic_Topic 0  Dominant_Topic_Topic 1  Dominant_Topic_Topic 2  \\\n",
       " 1534                     0.0                     0.0                     0.0   \n",
       " 5559                     0.0                     0.0                     0.0   \n",
       " 3979                     0.0                     0.0                     0.0   \n",
       " 739                      0.0                     0.0                     1.0   \n",
       " 9667                     1.0                     0.0                     0.0   \n",
       " ...                      ...                     ...                     ...   \n",
       " 5121                     0.0                     0.0                     0.0   \n",
       " 2216                     0.0                     0.0                     0.0   \n",
       " 815                      0.0                     0.0                     0.0   \n",
       " 3755                     0.0                     0.0                     1.0   \n",
       " 9393                     0.0                     0.0                     1.0   \n",
       " \n",
       "       Dominant_Topic_Topic 3  \n",
       " 1534                     1.0  \n",
       " 5559                     1.0  \n",
       " 3979                     1.0  \n",
       " 739                      0.0  \n",
       " 9667                     0.0  \n",
       " ...                      ...  \n",
       " 5121                     1.0  \n",
       " 2216                     1.0  \n",
       " 815                      1.0  \n",
       " 3755                     0.0  \n",
       " 9393                     0.0  \n",
       " \n",
       " [3001 rows x 9 columns],\n",
       " {'lr': <pycaret.containers.models.classification.LogisticRegressionClassifierContainer at 0x7fed4f4dcb10>,\n",
       "  'knn': <pycaret.containers.models.classification.KNeighborsClassifierContainer at 0x7fed4f4dc510>,\n",
       "  'nb': <pycaret.containers.models.classification.GaussianNBClassifierContainer at 0x7fed4f4dc5d0>,\n",
       "  'dt': <pycaret.containers.models.classification.DecisionTreeClassifierContainer at 0x7fed4f414a10>,\n",
       "  'svm': <pycaret.containers.models.classification.SGDClassifierContainer at 0x7fed4f4143d0>,\n",
       "  'rbfsvm': <pycaret.containers.models.classification.SVCClassifierContainer at 0x7fed4f414a90>,\n",
       "  'gpc': <pycaret.containers.models.classification.GaussianProcessClassifierContainer at 0x7fed4f414c10>,\n",
       "  'mlp': <pycaret.containers.models.classification.MLPClassifierContainer at 0x7fed4f414e10>,\n",
       "  'ridge': <pycaret.containers.models.classification.RidgeClassifierContainer at 0x7fed4f414fd0>,\n",
       "  'rf': <pycaret.containers.models.classification.RandomForestClassifierContainer at 0x7fed4f414490>,\n",
       "  'qda': <pycaret.containers.models.classification.QuadraticDiscriminantAnalysisContainer at 0x7fed4f460510>,\n",
       "  'ada': <pycaret.containers.models.classification.AdaBoostClassifierContainer at 0x7fed4f460d50>,\n",
       "  'gbc': <pycaret.containers.models.classification.GradientBoostingClassifierContainer at 0x7fed4f4605d0>,\n",
       "  'lda': <pycaret.containers.models.classification.LinearDiscriminantAnalysisContainer at 0x7fed4f40d650>,\n",
       "  'et': <pycaret.containers.models.classification.ExtraTreesClassifierContainer at 0x7fed4f40d210>,\n",
       "  'xgboost': <pycaret.containers.models.classification.XGBClassifierContainer at 0x7fed4f4dc7d0>,\n",
       "  'lightgbm': <pycaret.containers.models.classification.LGBMClassifierContainer at 0x7fed4f40dbd0>,\n",
       "  'catboost': <pycaret.containers.models.classification.CatBoostClassifierContainer at 0x7fed4f4dc810>,\n",
       "  'dummy': <pycaret.containers.models.classification.DummyClassifierContainer at 0x7fed4f467850>,\n",
       "  'Bagging': <pycaret.containers.models.classification.BaggingClassifierContainer at 0x7fed4f467e90>,\n",
       "  'Stacking': <pycaret.containers.models.classification.StackingClassifierContainer at 0x7fed4f467290>,\n",
       "  'Voting': <pycaret.containers.models.classification.VotingClassifierContainer at 0x7fed4f467610>,\n",
       "  'CalibratedCV': <pycaret.containers.models.classification.CalibratedClassifierCVContainer at 0x7fed4f467690>},\n",
       " {'USI',\n",
       "  'X',\n",
       "  'X_test',\n",
       "  'X_train',\n",
       "  '_all_metrics',\n",
       "  '_all_models',\n",
       "  '_all_models_internal',\n",
       "  '_available_plots',\n",
       "  '_gpu_n_jobs_param',\n",
       "  '_internal_pipeline',\n",
       "  '_ml_usecase',\n",
       "  'create_model_container',\n",
       "  'dashboard_logger',\n",
       "  'data_before_preprocess',\n",
       "  'display_container',\n",
       "  'exp_name_log',\n",
       "  'experiment__',\n",
       "  'fix_imbalance_method_param',\n",
       "  'fix_imbalance_param',\n",
       "  'fold_generator',\n",
       "  'fold_groups_param',\n",
       "  'fold_groups_param_full',\n",
       "  'fold_param',\n",
       "  'fold_shuffle_param',\n",
       "  'gpu_param',\n",
       "  'html_param',\n",
       "  'imputation_classifier',\n",
       "  'imputation_regressor',\n",
       "  'iterative_imputation_iters_param',\n",
       "  'log_plots_param',\n",
       "  'logging_param',\n",
       "  'master_model_container',\n",
       "  'n_jobs_param',\n",
       "  'prep_pipe',\n",
       "  'pycaret_globals',\n",
       "  'seed',\n",
       "  'stratify_param',\n",
       "  'target_param',\n",
       "  'transform_target_method_param',\n",
       "  'transform_target_param',\n",
       "  'y',\n",
       "  'y_test',\n",
       "  'y_train'},\n",
       " [],\n",
       " False,\n",
       "       class   Topic_0   Topic_1   Topic_2   Topic_3 Dominant_Topic  \\\n",
       " 0         0  0.020044  0.002238  0.236101  0.741617        Topic 3   \n",
       " 1         0  0.250000  0.250000  0.250000  0.250000        Topic 0   \n",
       " 2         1  0.000917  0.051859  0.889862  0.057361        Topic 2   \n",
       " 3         1  0.233389  0.493758  0.003294  0.269559        Topic 1   \n",
       " 4         1  0.038873  0.399176  0.560102  0.001849        Topic 2   \n",
       " ...     ...       ...       ...       ...       ...            ...   \n",
       " 9995      0  0.089257  0.295777  0.155449  0.459516        Topic 3   \n",
       " 9996      0  0.807085  0.041173  0.001640  0.150102        Topic 0   \n",
       " 9997      0  0.327024  0.001621  0.001551  0.669803        Topic 3   \n",
       " 9998      1  0.002496  0.934884  0.060132  0.002488        Topic 1   \n",
       " 9999      1  0.608850  0.249349  0.119601  0.022200        Topic 0   \n",
       " \n",
       "       Perc_Dominant_Topic  \n",
       " 0                    0.74  \n",
       " 1                    0.25  \n",
       " 2                    0.89  \n",
       " 3                    0.49  \n",
       " 4                    0.56  \n",
       " ...                   ...  \n",
       " 9995                 0.46  \n",
       " 9996                 0.81  \n",
       " 9997                 0.67  \n",
       " 9998                 0.93  \n",
       " 9999                 0.61  \n",
       " \n",
       " [10000 rows x 7 columns],\n",
       " Pipeline(memory=None, steps=[('empty_step', 'passthrough')], verbose=False),\n",
       " 0       0\n",
       " 1       0\n",
       " 2       1\n",
       " 3       1\n",
       " 4       1\n",
       "        ..\n",
       " 9995    0\n",
       " 9996    0\n",
       " 9997    0\n",
       " 9998    1\n",
       " 9999    1\n",
       " Name: class, Length: 10000, dtype: int64,\n",
       " False,\n",
       " False,\n",
       " None,\n",
       " None,\n",
       " 'class',\n",
       " False,\n",
       " -1,\n",
       " 'clf-default-name',\n",
       " 'box-cox',\n",
       " 10,\n",
       " True,\n",
       " 'f6cd')"
      ]
     },
     "execution_count": 21,
     "metadata": {},
     "output_type": "execute_result"
    }
   ],
   "source": [
    "from pycaret.classification import *\n",
    "\n",
    "%time\n",
    "setup(data=lda_df, target='class', silent = True)"
   ]
  },
  {
   "cell_type": "code",
   "execution_count": 27,
   "id": "f92e3b7e",
   "metadata": {
    "scrolled": true
   },
   "outputs": [
    {
     "data": {
      "text/html": [
       "<style type=\"text/css\">\n",
       "#T_e743f_ th {\n",
       "  text-align: left;\n",
       "}\n",
       "#T_e743f_row0_col0, #T_e743f_row0_col2, #T_e743f_row0_col3, #T_e743f_row0_col4, #T_e743f_row1_col0, #T_e743f_row1_col1, #T_e743f_row1_col2, #T_e743f_row1_col3, #T_e743f_row1_col4, #T_e743f_row1_col5, #T_e743f_row1_col6, #T_e743f_row1_col7, #T_e743f_row2_col0, #T_e743f_row2_col1, #T_e743f_row2_col2, #T_e743f_row2_col3, #T_e743f_row2_col5, #T_e743f_row2_col6, #T_e743f_row2_col7, #T_e743f_row3_col0, #T_e743f_row3_col1, #T_e743f_row3_col3, #T_e743f_row3_col4, #T_e743f_row3_col5, #T_e743f_row3_col6, #T_e743f_row3_col7, #T_e743f_row4_col0, #T_e743f_row4_col1, #T_e743f_row4_col2, #T_e743f_row4_col3, #T_e743f_row4_col4, #T_e743f_row4_col5, #T_e743f_row4_col6, #T_e743f_row4_col7, #T_e743f_row5_col0, #T_e743f_row5_col1, #T_e743f_row5_col2, #T_e743f_row5_col3, #T_e743f_row5_col4, #T_e743f_row5_col5, #T_e743f_row5_col6, #T_e743f_row5_col7, #T_e743f_row6_col0, #T_e743f_row6_col1, #T_e743f_row6_col2, #T_e743f_row6_col3, #T_e743f_row6_col4, #T_e743f_row6_col5, #T_e743f_row6_col6, #T_e743f_row6_col7, #T_e743f_row7_col0, #T_e743f_row7_col1, #T_e743f_row7_col2, #T_e743f_row7_col3, #T_e743f_row7_col4, #T_e743f_row7_col5, #T_e743f_row7_col6, #T_e743f_row7_col7, #T_e743f_row8_col0, #T_e743f_row8_col1, #T_e743f_row8_col2, #T_e743f_row8_col3, #T_e743f_row8_col4, #T_e743f_row8_col5, #T_e743f_row8_col6, #T_e743f_row8_col7, #T_e743f_row9_col0, #T_e743f_row9_col1, #T_e743f_row9_col2, #T_e743f_row9_col3, #T_e743f_row9_col4, #T_e743f_row9_col5, #T_e743f_row9_col6, #T_e743f_row9_col7, #T_e743f_row10_col0, #T_e743f_row10_col1, #T_e743f_row10_col2, #T_e743f_row10_col3, #T_e743f_row10_col4, #T_e743f_row10_col5, #T_e743f_row10_col6, #T_e743f_row10_col7, #T_e743f_row11_col0, #T_e743f_row11_col1, #T_e743f_row11_col2, #T_e743f_row11_col3, #T_e743f_row11_col4, #T_e743f_row11_col5, #T_e743f_row11_col6, #T_e743f_row11_col7, #T_e743f_row12_col0, #T_e743f_row12_col1, #T_e743f_row12_col2, #T_e743f_row12_col3, #T_e743f_row12_col4, #T_e743f_row12_col5, #T_e743f_row12_col6, #T_e743f_row12_col7, #T_e743f_row13_col0, #T_e743f_row13_col1, #T_e743f_row13_col2, #T_e743f_row13_col4, #T_e743f_row13_col5, #T_e743f_row13_col6, #T_e743f_row13_col7, #T_e743f_row14_col0, #T_e743f_row14_col1, #T_e743f_row14_col2, #T_e743f_row14_col3, #T_e743f_row14_col4, #T_e743f_row14_col5, #T_e743f_row14_col6, #T_e743f_row14_col7, #T_e743f_row15_col0, #T_e743f_row15_col1, #T_e743f_row15_col2, #T_e743f_row15_col3, #T_e743f_row15_col4, #T_e743f_row15_col5, #T_e743f_row15_col6, #T_e743f_row15_col7 {\n",
       "  text-align: left;\n",
       "}\n",
       "#T_e743f_row0_col1, #T_e743f_row0_col5, #T_e743f_row0_col6, #T_e743f_row0_col7, #T_e743f_row2_col4, #T_e743f_row3_col2, #T_e743f_row13_col3 {\n",
       "  text-align: left;\n",
       "  background-color: yellow;\n",
       "}\n",
       "#T_e743f_row0_col8, #T_e743f_row1_col8, #T_e743f_row2_col8, #T_e743f_row3_col8, #T_e743f_row4_col8, #T_e743f_row5_col8, #T_e743f_row6_col8, #T_e743f_row7_col8, #T_e743f_row8_col8, #T_e743f_row9_col8, #T_e743f_row10_col8, #T_e743f_row11_col8, #T_e743f_row12_col8, #T_e743f_row13_col8, #T_e743f_row14_col8 {\n",
       "  text-align: left;\n",
       "  background-color: lightgrey;\n",
       "}\n",
       "#T_e743f_row15_col8 {\n",
       "  text-align: left;\n",
       "  background-color: yellow;\n",
       "  background-color: lightgrey;\n",
       "}\n",
       "</style>\n",
       "<table id=\"T_e743f_\">\n",
       "  <thead>\n",
       "    <tr>\n",
       "      <th class=\"blank level0\" >&nbsp;</th>\n",
       "      <th class=\"col_heading level0 col0\" >Model</th>\n",
       "      <th class=\"col_heading level0 col1\" >Accuracy</th>\n",
       "      <th class=\"col_heading level0 col2\" >AUC</th>\n",
       "      <th class=\"col_heading level0 col3\" >Recall</th>\n",
       "      <th class=\"col_heading level0 col4\" >Prec.</th>\n",
       "      <th class=\"col_heading level0 col5\" >F1</th>\n",
       "      <th class=\"col_heading level0 col6\" >Kappa</th>\n",
       "      <th class=\"col_heading level0 col7\" >MCC</th>\n",
       "      <th class=\"col_heading level0 col8\" >TT (Sec)</th>\n",
       "    </tr>\n",
       "  </thead>\n",
       "  <tbody>\n",
       "    <tr>\n",
       "      <th id=\"T_e743f_level0_row0\" class=\"row_heading level0 row0\" >gbc</th>\n",
       "      <td id=\"T_e743f_row0_col0\" class=\"data row0 col0\" >Gradient Boosting Classifier</td>\n",
       "      <td id=\"T_e743f_row0_col1\" class=\"data row0 col1\" >0.8908</td>\n",
       "      <td id=\"T_e743f_row0_col2\" class=\"data row0 col2\" >0.9546</td>\n",
       "      <td id=\"T_e743f_row0_col3\" class=\"data row0 col3\" >0.8837</td>\n",
       "      <td id=\"T_e743f_row0_col4\" class=\"data row0 col4\" >0.8866</td>\n",
       "      <td id=\"T_e743f_row0_col5\" class=\"data row0 col5\" >0.8851</td>\n",
       "      <td id=\"T_e743f_row0_col6\" class=\"data row0 col6\" >0.7811</td>\n",
       "      <td id=\"T_e743f_row0_col7\" class=\"data row0 col7\" >0.7813</td>\n",
       "      <td id=\"T_e743f_row0_col8\" class=\"data row0 col8\" >0.2120</td>\n",
       "    </tr>\n",
       "    <tr>\n",
       "      <th id=\"T_e743f_level0_row1\" class=\"row_heading level0 row1\" >lightgbm</th>\n",
       "      <td id=\"T_e743f_row1_col0\" class=\"data row1 col0\" >Light Gradient Boosting Machine</td>\n",
       "      <td id=\"T_e743f_row1_col1\" class=\"data row1 col1\" >0.8904</td>\n",
       "      <td id=\"T_e743f_row1_col2\" class=\"data row1 col2\" >0.9534</td>\n",
       "      <td id=\"T_e743f_row1_col3\" class=\"data row1 col3\" >0.8804</td>\n",
       "      <td id=\"T_e743f_row1_col4\" class=\"data row1 col4\" >0.8884</td>\n",
       "      <td id=\"T_e743f_row1_col5\" class=\"data row1 col5\" >0.8843</td>\n",
       "      <td id=\"T_e743f_row1_col6\" class=\"data row1 col6\" >0.7802</td>\n",
       "      <td id=\"T_e743f_row1_col7\" class=\"data row1 col7\" >0.7804</td>\n",
       "      <td id=\"T_e743f_row1_col8\" class=\"data row1 col8\" >0.0820</td>\n",
       "    </tr>\n",
       "    <tr>\n",
       "      <th id=\"T_e743f_level0_row2\" class=\"row_heading level0 row2\" >ada</th>\n",
       "      <td id=\"T_e743f_row2_col0\" class=\"data row2 col0\" >Ada Boost Classifier</td>\n",
       "      <td id=\"T_e743f_row2_col1\" class=\"data row2 col1\" >0.8898</td>\n",
       "      <td id=\"T_e743f_row2_col2\" class=\"data row2 col2\" >0.9515</td>\n",
       "      <td id=\"T_e743f_row2_col3\" class=\"data row2 col3\" >0.8762</td>\n",
       "      <td id=\"T_e743f_row2_col4\" class=\"data row2 col4\" >0.8908</td>\n",
       "      <td id=\"T_e743f_row2_col5\" class=\"data row2 col5\" >0.8833</td>\n",
       "      <td id=\"T_e743f_row2_col6\" class=\"data row2 col6\" >0.7790</td>\n",
       "      <td id=\"T_e743f_row2_col7\" class=\"data row2 col7\" >0.7794</td>\n",
       "      <td id=\"T_e743f_row2_col8\" class=\"data row2 col8\" >0.0770</td>\n",
       "    </tr>\n",
       "    <tr>\n",
       "      <th id=\"T_e743f_level0_row3\" class=\"row_heading level0 row3\" >catboost</th>\n",
       "      <td id=\"T_e743f_row3_col0\" class=\"data row3 col0\" >CatBoost Classifier</td>\n",
       "      <td id=\"T_e743f_row3_col1\" class=\"data row3 col1\" >0.8898</td>\n",
       "      <td id=\"T_e743f_row3_col2\" class=\"data row3 col2\" >0.9551</td>\n",
       "      <td id=\"T_e743f_row3_col3\" class=\"data row3 col3\" >0.8801</td>\n",
       "      <td id=\"T_e743f_row3_col4\" class=\"data row3 col4\" >0.8876</td>\n",
       "      <td id=\"T_e743f_row3_col5\" class=\"data row3 col5\" >0.8837</td>\n",
       "      <td id=\"T_e743f_row3_col6\" class=\"data row3 col6\" >0.7791</td>\n",
       "      <td id=\"T_e743f_row3_col7\" class=\"data row3 col7\" >0.7794</td>\n",
       "      <td id=\"T_e743f_row3_col8\" class=\"data row3 col8\" >2.1750</td>\n",
       "    </tr>\n",
       "    <tr>\n",
       "      <th id=\"T_e743f_level0_row4\" class=\"row_heading level0 row4\" >xgboost</th>\n",
       "      <td id=\"T_e743f_row4_col0\" class=\"data row4 col0\" >Extreme Gradient Boosting</td>\n",
       "      <td id=\"T_e743f_row4_col1\" class=\"data row4 col1\" >0.8881</td>\n",
       "      <td id=\"T_e743f_row4_col2\" class=\"data row4 col2\" >0.9510</td>\n",
       "      <td id=\"T_e743f_row4_col3\" class=\"data row4 col3\" >0.8804</td>\n",
       "      <td id=\"T_e743f_row4_col4\" class=\"data row4 col4\" >0.8842</td>\n",
       "      <td id=\"T_e743f_row4_col5\" class=\"data row4 col5\" >0.8822</td>\n",
       "      <td id=\"T_e743f_row4_col6\" class=\"data row4 col6\" >0.7757</td>\n",
       "      <td id=\"T_e743f_row4_col7\" class=\"data row4 col7\" >0.7759</td>\n",
       "      <td id=\"T_e743f_row4_col8\" class=\"data row4 col8\" >26.7100</td>\n",
       "    </tr>\n",
       "    <tr>\n",
       "      <th id=\"T_e743f_level0_row5\" class=\"row_heading level0 row5\" >rf</th>\n",
       "      <td id=\"T_e743f_row5_col0\" class=\"data row5 col0\" >Random Forest Classifier</td>\n",
       "      <td id=\"T_e743f_row5_col1\" class=\"data row5 col1\" >0.8877</td>\n",
       "      <td id=\"T_e743f_row5_col2\" class=\"data row5 col2\" >0.9505</td>\n",
       "      <td id=\"T_e743f_row5_col3\" class=\"data row5 col3\" >0.8750</td>\n",
       "      <td id=\"T_e743f_row5_col4\" class=\"data row5 col4\" >0.8876</td>\n",
       "      <td id=\"T_e743f_row5_col5\" class=\"data row5 col5\" >0.8811</td>\n",
       "      <td id=\"T_e743f_row5_col6\" class=\"data row5 col6\" >0.7747</td>\n",
       "      <td id=\"T_e743f_row5_col7\" class=\"data row5 col7\" >0.7749</td>\n",
       "      <td id=\"T_e743f_row5_col8\" class=\"data row5 col8\" >0.3280</td>\n",
       "    </tr>\n",
       "    <tr>\n",
       "      <th id=\"T_e743f_level0_row6\" class=\"row_heading level0 row6\" >lr</th>\n",
       "      <td id=\"T_e743f_row6_col0\" class=\"data row6 col0\" >Logistic Regression</td>\n",
       "      <td id=\"T_e743f_row6_col1\" class=\"data row6 col1\" >0.8837</td>\n",
       "      <td id=\"T_e743f_row6_col2\" class=\"data row6 col2\" >0.9468</td>\n",
       "      <td id=\"T_e743f_row6_col3\" class=\"data row6 col3\" >0.8804</td>\n",
       "      <td id=\"T_e743f_row6_col4\" class=\"data row6 col4\" >0.8758</td>\n",
       "      <td id=\"T_e743f_row6_col5\" class=\"data row6 col5\" >0.8780</td>\n",
       "      <td id=\"T_e743f_row6_col6\" class=\"data row6 col6\" >0.7669</td>\n",
       "      <td id=\"T_e743f_row6_col7\" class=\"data row6 col7\" >0.7670</td>\n",
       "      <td id=\"T_e743f_row6_col8\" class=\"data row6 col8\" >0.2970</td>\n",
       "    </tr>\n",
       "    <tr>\n",
       "      <th id=\"T_e743f_level0_row7\" class=\"row_heading level0 row7\" >svm</th>\n",
       "      <td id=\"T_e743f_row7_col0\" class=\"data row7 col0\" >SVM - Linear Kernel</td>\n",
       "      <td id=\"T_e743f_row7_col1\" class=\"data row7 col1\" >0.8807</td>\n",
       "      <td id=\"T_e743f_row7_col2\" class=\"data row7 col2\" >0.0000</td>\n",
       "      <td id=\"T_e743f_row7_col3\" class=\"data row7 col3\" >0.8687</td>\n",
       "      <td id=\"T_e743f_row7_col4\" class=\"data row7 col4\" >0.8797</td>\n",
       "      <td id=\"T_e743f_row7_col5\" class=\"data row7 col5\" >0.8739</td>\n",
       "      <td id=\"T_e743f_row7_col6\" class=\"data row7 col6\" >0.7607</td>\n",
       "      <td id=\"T_e743f_row7_col7\" class=\"data row7 col7\" >0.7612</td>\n",
       "      <td id=\"T_e743f_row7_col8\" class=\"data row7 col8\" >0.0100</td>\n",
       "    </tr>\n",
       "    <tr>\n",
       "      <th id=\"T_e743f_level0_row8\" class=\"row_heading level0 row8\" >et</th>\n",
       "      <td id=\"T_e743f_row8_col0\" class=\"data row8 col0\" >Extra Trees Classifier</td>\n",
       "      <td id=\"T_e743f_row8_col1\" class=\"data row8 col1\" >0.8778</td>\n",
       "      <td id=\"T_e743f_row8_col2\" class=\"data row8 col2\" >0.9458</td>\n",
       "      <td id=\"T_e743f_row8_col3\" class=\"data row8 col3\" >0.8639</td>\n",
       "      <td id=\"T_e743f_row8_col4\" class=\"data row8 col4\" >0.8776</td>\n",
       "      <td id=\"T_e743f_row8_col5\" class=\"data row8 col5\" >0.8706</td>\n",
       "      <td id=\"T_e743f_row8_col6\" class=\"data row8 col6\" >0.7549</td>\n",
       "      <td id=\"T_e743f_row8_col7\" class=\"data row8 col7\" >0.7552</td>\n",
       "      <td id=\"T_e743f_row8_col8\" class=\"data row8 col8\" >0.2390</td>\n",
       "    </tr>\n",
       "    <tr>\n",
       "      <th id=\"T_e743f_level0_row9\" class=\"row_heading level0 row9\" >lda</th>\n",
       "      <td id=\"T_e743f_row9_col0\" class=\"data row9 col0\" >Linear Discriminant Analysis</td>\n",
       "      <td id=\"T_e743f_row9_col1\" class=\"data row9 col1\" >0.8764</td>\n",
       "      <td id=\"T_e743f_row9_col2\" class=\"data row9 col2\" >0.9428</td>\n",
       "      <td id=\"T_e743f_row9_col3\" class=\"data row9 col3\" >0.8801</td>\n",
       "      <td id=\"T_e743f_row9_col4\" class=\"data row9 col4\" >0.8628</td>\n",
       "      <td id=\"T_e743f_row9_col5\" class=\"data row9 col5\" >0.8713</td>\n",
       "      <td id=\"T_e743f_row9_col6\" class=\"data row9 col6\" >0.7525</td>\n",
       "      <td id=\"T_e743f_row9_col7\" class=\"data row9 col7\" >0.7527</td>\n",
       "      <td id=\"T_e743f_row9_col8\" class=\"data row9 col8\" >0.0090</td>\n",
       "    </tr>\n",
       "    <tr>\n",
       "      <th id=\"T_e743f_level0_row10\" class=\"row_heading level0 row10\" >ridge</th>\n",
       "      <td id=\"T_e743f_row10_col0\" class=\"data row10 col0\" >Ridge Classifier</td>\n",
       "      <td id=\"T_e743f_row10_col1\" class=\"data row10 col1\" >0.8761</td>\n",
       "      <td id=\"T_e743f_row10_col2\" class=\"data row10 col2\" >0.0000</td>\n",
       "      <td id=\"T_e743f_row10_col3\" class=\"data row10 col3\" >0.8804</td>\n",
       "      <td id=\"T_e743f_row10_col4\" class=\"data row10 col4\" >0.8621</td>\n",
       "      <td id=\"T_e743f_row10_col5\" class=\"data row10 col5\" >0.8711</td>\n",
       "      <td id=\"T_e743f_row10_col6\" class=\"data row10 col6\" >0.7519</td>\n",
       "      <td id=\"T_e743f_row10_col7\" class=\"data row10 col7\" >0.7522</td>\n",
       "      <td id=\"T_e743f_row10_col8\" class=\"data row10 col8\" >0.0070</td>\n",
       "    </tr>\n",
       "    <tr>\n",
       "      <th id=\"T_e743f_level0_row11\" class=\"row_heading level0 row11\" >knn</th>\n",
       "      <td id=\"T_e743f_row11_col0\" class=\"data row11 col0\" >K Neighbors Classifier</td>\n",
       "      <td id=\"T_e743f_row11_col1\" class=\"data row11 col1\" >0.8740</td>\n",
       "      <td id=\"T_e743f_row11_col2\" class=\"data row11 col2\" >0.9293</td>\n",
       "      <td id=\"T_e743f_row11_col3\" class=\"data row11 col3\" >0.8624</td>\n",
       "      <td id=\"T_e743f_row11_col4\" class=\"data row11 col4\" >0.8715</td>\n",
       "      <td id=\"T_e743f_row11_col5\" class=\"data row11 col5\" >0.8668</td>\n",
       "      <td id=\"T_e743f_row11_col6\" class=\"data row11 col6\" >0.7472</td>\n",
       "      <td id=\"T_e743f_row11_col7\" class=\"data row11 col7\" >0.7474</td>\n",
       "      <td id=\"T_e743f_row11_col8\" class=\"data row11 col8\" >0.0610</td>\n",
       "    </tr>\n",
       "    <tr>\n",
       "      <th id=\"T_e743f_level0_row12\" class=\"row_heading level0 row12\" >dt</th>\n",
       "      <td id=\"T_e743f_row12_col0\" class=\"data row12 col0\" >Decision Tree Classifier</td>\n",
       "      <td id=\"T_e743f_row12_col1\" class=\"data row12 col1\" >0.8474</td>\n",
       "      <td id=\"T_e743f_row12_col2\" class=\"data row12 col2\" >0.8466</td>\n",
       "      <td id=\"T_e743f_row12_col3\" class=\"data row12 col3\" >0.8305</td>\n",
       "      <td id=\"T_e743f_row12_col4\" class=\"data row12 col4\" >0.8462</td>\n",
       "      <td id=\"T_e743f_row12_col5\" class=\"data row12 col5\" >0.8382</td>\n",
       "      <td id=\"T_e743f_row12_col6\" class=\"data row12 col6\" >0.6938</td>\n",
       "      <td id=\"T_e743f_row12_col7\" class=\"data row12 col7\" >0.6941</td>\n",
       "      <td id=\"T_e743f_row12_col8\" class=\"data row12 col8\" >0.0130</td>\n",
       "    </tr>\n",
       "    <tr>\n",
       "      <th id=\"T_e743f_level0_row13\" class=\"row_heading level0 row13\" >nb</th>\n",
       "      <td id=\"T_e743f_row13_col0\" class=\"data row13 col0\" >Naive Bayes</td>\n",
       "      <td id=\"T_e743f_row13_col1\" class=\"data row13 col1\" >0.8317</td>\n",
       "      <td id=\"T_e743f_row13_col2\" class=\"data row13 col2\" >0.9254</td>\n",
       "      <td id=\"T_e743f_row13_col3\" class=\"data row13 col3\" >0.9354</td>\n",
       "      <td id=\"T_e743f_row13_col4\" class=\"data row13 col4\" >0.7640</td>\n",
       "      <td id=\"T_e743f_row13_col5\" class=\"data row13 col5\" >0.8410</td>\n",
       "      <td id=\"T_e743f_row13_col6\" class=\"data row13 col6\" >0.6661</td>\n",
       "      <td id=\"T_e743f_row13_col7\" class=\"data row13 col7\" >0.6816</td>\n",
       "      <td id=\"T_e743f_row13_col8\" class=\"data row13 col8\" >0.0100</td>\n",
       "    </tr>\n",
       "    <tr>\n",
       "      <th id=\"T_e743f_level0_row14\" class=\"row_heading level0 row14\" >qda</th>\n",
       "      <td id=\"T_e743f_row14_col0\" class=\"data row14 col0\" >Quadratic Discriminant Analysis</td>\n",
       "      <td id=\"T_e743f_row14_col1\" class=\"data row14 col1\" >0.5708</td>\n",
       "      <td id=\"T_e743f_row14_col2\" class=\"data row14 col2\" >0.7338</td>\n",
       "      <td id=\"T_e743f_row14_col3\" class=\"data row14 col3\" >0.8207</td>\n",
       "      <td id=\"T_e743f_row14_col4\" class=\"data row14 col4\" >0.5798</td>\n",
       "      <td id=\"T_e743f_row14_col5\" class=\"data row14 col5\" >0.6327</td>\n",
       "      <td id=\"T_e743f_row14_col6\" class=\"data row14 col6\" >0.1648</td>\n",
       "      <td id=\"T_e743f_row14_col7\" class=\"data row14 col7\" >0.1887</td>\n",
       "      <td id=\"T_e743f_row14_col8\" class=\"data row14 col8\" >0.0090</td>\n",
       "    </tr>\n",
       "    <tr>\n",
       "      <th id=\"T_e743f_level0_row15\" class=\"row_heading level0 row15\" >dummy</th>\n",
       "      <td id=\"T_e743f_row15_col0\" class=\"data row15 col0\" >Dummy Classifier</td>\n",
       "      <td id=\"T_e743f_row15_col1\" class=\"data row15 col1\" >0.5245</td>\n",
       "      <td id=\"T_e743f_row15_col2\" class=\"data row15 col2\" >0.5000</td>\n",
       "      <td id=\"T_e743f_row15_col3\" class=\"data row15 col3\" >0.0000</td>\n",
       "      <td id=\"T_e743f_row15_col4\" class=\"data row15 col4\" >0.0000</td>\n",
       "      <td id=\"T_e743f_row15_col5\" class=\"data row15 col5\" >0.0000</td>\n",
       "      <td id=\"T_e743f_row15_col6\" class=\"data row15 col6\" >0.0000</td>\n",
       "      <td id=\"T_e743f_row15_col7\" class=\"data row15 col7\" >0.0000</td>\n",
       "      <td id=\"T_e743f_row15_col8\" class=\"data row15 col8\" >0.0050</td>\n",
       "    </tr>\n",
       "  </tbody>\n",
       "</table>\n"
      ],
      "text/plain": [
       "<pandas.io.formats.style.Styler at 0x7fed4f411910>"
      ]
     },
     "metadata": {},
     "output_type": "display_data"
    }
   ],
   "source": [
    "%time\n",
    "\n",
    "top5Models = compare_models(sort= 'Accuracy', n_select = 16)"
   ]
  },
  {
   "cell_type": "markdown",
   "id": "2657edda",
   "metadata": {},
   "source": [
    "Using pycaret's compare_model function we are easily able to observe how accurate different models are with the data frame we set up in the cell above and see different metrics each of the models have. We can use this to observe the results vs having to train different models in separate lines."
   ]
  },
  {
   "cell_type": "code",
   "execution_count": 28,
   "id": "28c44ee8",
   "metadata": {},
   "outputs": [
    {
     "data": {
      "text/html": [
       "<style type=\"text/css\">\n",
       "</style>\n",
       "<table id=\"T_28871_\">\n",
       "  <thead>\n",
       "    <tr>\n",
       "      <th class=\"blank level0\" >&nbsp;</th>\n",
       "      <th class=\"col_heading level0 col0\" >Model</th>\n",
       "      <th class=\"col_heading level0 col1\" >Accuracy</th>\n",
       "      <th class=\"col_heading level0 col2\" >AUC</th>\n",
       "      <th class=\"col_heading level0 col3\" >Recall</th>\n",
       "      <th class=\"col_heading level0 col4\" >Prec.</th>\n",
       "      <th class=\"col_heading level0 col5\" >F1</th>\n",
       "      <th class=\"col_heading level0 col6\" >Kappa</th>\n",
       "      <th class=\"col_heading level0 col7\" >MCC</th>\n",
       "    </tr>\n",
       "  </thead>\n",
       "  <tbody>\n",
       "    <tr>\n",
       "      <th id=\"T_28871_level0_row0\" class=\"row_heading level0 row0\" >0</th>\n",
       "      <td id=\"T_28871_row0_col0\" class=\"data row0 col0\" >Gradient Boosting Classifier</td>\n",
       "      <td id=\"T_28871_row0_col1\" class=\"data row0 col1\" >0.8999</td>\n",
       "      <td id=\"T_28871_row0_col2\" class=\"data row0 col2\" >0.9621</td>\n",
       "      <td id=\"T_28871_row0_col3\" class=\"data row0 col3\" >0.8993</td>\n",
       "      <td id=\"T_28871_row0_col4\" class=\"data row0 col4\" >0.8916</td>\n",
       "      <td id=\"T_28871_row0_col5\" class=\"data row0 col5\" >0.8954</td>\n",
       "      <td id=\"T_28871_row0_col6\" class=\"data row0 col6\" >0.7994</td>\n",
       "      <td id=\"T_28871_row0_col7\" class=\"data row0 col7\" >0.7995</td>\n",
       "    </tr>\n",
       "  </tbody>\n",
       "</table>\n"
      ],
      "text/plain": [
       "<pandas.io.formats.style.Styler at 0x7fed50317b50>"
      ]
     },
     "metadata": {},
     "output_type": "display_data"
    },
    {
     "data": {
      "text/html": [
       "<div>\n",
       "<style scoped>\n",
       "    .dataframe tbody tr th:only-of-type {\n",
       "        vertical-align: middle;\n",
       "    }\n",
       "\n",
       "    .dataframe tbody tr th {\n",
       "        vertical-align: top;\n",
       "    }\n",
       "\n",
       "    .dataframe thead th {\n",
       "        text-align: right;\n",
       "    }\n",
       "</style>\n",
       "<table border=\"1\" class=\"dataframe\">\n",
       "  <thead>\n",
       "    <tr style=\"text-align: right;\">\n",
       "      <th></th>\n",
       "      <th>class</th>\n",
       "      <th>Topic_0</th>\n",
       "      <th>Topic_1</th>\n",
       "      <th>Topic_2</th>\n",
       "      <th>Topic_3</th>\n",
       "      <th>Dominant_Topic</th>\n",
       "      <th>Perc_Dominant_Topic</th>\n",
       "      <th>Label</th>\n",
       "      <th>Score</th>\n",
       "    </tr>\n",
       "  </thead>\n",
       "  <tbody>\n",
       "    <tr>\n",
       "      <th>0</th>\n",
       "      <td>0</td>\n",
       "      <td>0.020044</td>\n",
       "      <td>0.002238</td>\n",
       "      <td>0.236101</td>\n",
       "      <td>0.741617</td>\n",
       "      <td>Topic 3</td>\n",
       "      <td>0.74</td>\n",
       "      <td>0</td>\n",
       "      <td>0.9503</td>\n",
       "    </tr>\n",
       "    <tr>\n",
       "      <th>1</th>\n",
       "      <td>0</td>\n",
       "      <td>0.250000</td>\n",
       "      <td>0.250000</td>\n",
       "      <td>0.250000</td>\n",
       "      <td>0.250000</td>\n",
       "      <td>Topic 0</td>\n",
       "      <td>0.25</td>\n",
       "      <td>0</td>\n",
       "      <td>0.9649</td>\n",
       "    </tr>\n",
       "    <tr>\n",
       "      <th>2</th>\n",
       "      <td>1</td>\n",
       "      <td>0.000917</td>\n",
       "      <td>0.051859</td>\n",
       "      <td>0.889862</td>\n",
       "      <td>0.057361</td>\n",
       "      <td>Topic 2</td>\n",
       "      <td>0.89</td>\n",
       "      <td>1</td>\n",
       "      <td>0.9619</td>\n",
       "    </tr>\n",
       "    <tr>\n",
       "      <th>3</th>\n",
       "      <td>1</td>\n",
       "      <td>0.233389</td>\n",
       "      <td>0.493758</td>\n",
       "      <td>0.003294</td>\n",
       "      <td>0.269559</td>\n",
       "      <td>Topic 1</td>\n",
       "      <td>0.49</td>\n",
       "      <td>0</td>\n",
       "      <td>0.9247</td>\n",
       "    </tr>\n",
       "    <tr>\n",
       "      <th>4</th>\n",
       "      <td>1</td>\n",
       "      <td>0.038873</td>\n",
       "      <td>0.399176</td>\n",
       "      <td>0.560102</td>\n",
       "      <td>0.001849</td>\n",
       "      <td>Topic 2</td>\n",
       "      <td>0.56</td>\n",
       "      <td>1</td>\n",
       "      <td>0.9461</td>\n",
       "    </tr>\n",
       "    <tr>\n",
       "      <th>...</th>\n",
       "      <td>...</td>\n",
       "      <td>...</td>\n",
       "      <td>...</td>\n",
       "      <td>...</td>\n",
       "      <td>...</td>\n",
       "      <td>...</td>\n",
       "      <td>...</td>\n",
       "      <td>...</td>\n",
       "      <td>...</td>\n",
       "    </tr>\n",
       "    <tr>\n",
       "      <th>9995</th>\n",
       "      <td>0</td>\n",
       "      <td>0.089257</td>\n",
       "      <td>0.295777</td>\n",
       "      <td>0.155449</td>\n",
       "      <td>0.459516</td>\n",
       "      <td>Topic 3</td>\n",
       "      <td>0.46</td>\n",
       "      <td>0</td>\n",
       "      <td>0.8693</td>\n",
       "    </tr>\n",
       "    <tr>\n",
       "      <th>9996</th>\n",
       "      <td>0</td>\n",
       "      <td>0.807085</td>\n",
       "      <td>0.041173</td>\n",
       "      <td>0.001640</td>\n",
       "      <td>0.150102</td>\n",
       "      <td>Topic 0</td>\n",
       "      <td>0.81</td>\n",
       "      <td>0</td>\n",
       "      <td>0.8280</td>\n",
       "    </tr>\n",
       "    <tr>\n",
       "      <th>9997</th>\n",
       "      <td>0</td>\n",
       "      <td>0.327024</td>\n",
       "      <td>0.001621</td>\n",
       "      <td>0.001551</td>\n",
       "      <td>0.669803</td>\n",
       "      <td>Topic 3</td>\n",
       "      <td>0.67</td>\n",
       "      <td>0</td>\n",
       "      <td>0.9686</td>\n",
       "    </tr>\n",
       "    <tr>\n",
       "      <th>9998</th>\n",
       "      <td>1</td>\n",
       "      <td>0.002496</td>\n",
       "      <td>0.934884</td>\n",
       "      <td>0.060132</td>\n",
       "      <td>0.002488</td>\n",
       "      <td>Topic 1</td>\n",
       "      <td>0.93</td>\n",
       "      <td>1</td>\n",
       "      <td>0.9166</td>\n",
       "    </tr>\n",
       "    <tr>\n",
       "      <th>9999</th>\n",
       "      <td>1</td>\n",
       "      <td>0.608850</td>\n",
       "      <td>0.249349</td>\n",
       "      <td>0.119601</td>\n",
       "      <td>0.022200</td>\n",
       "      <td>Topic 0</td>\n",
       "      <td>0.61</td>\n",
       "      <td>1</td>\n",
       "      <td>0.8862</td>\n",
       "    </tr>\n",
       "  </tbody>\n",
       "</table>\n",
       "<p>10000 rows × 9 columns</p>\n",
       "</div>"
      ],
      "text/plain": [
       "      class   Topic_0   Topic_1   Topic_2   Topic_3 Dominant_Topic  \\\n",
       "0         0  0.020044  0.002238  0.236101  0.741617        Topic 3   \n",
       "1         0  0.250000  0.250000  0.250000  0.250000        Topic 0   \n",
       "2         1  0.000917  0.051859  0.889862  0.057361        Topic 2   \n",
       "3         1  0.233389  0.493758  0.003294  0.269559        Topic 1   \n",
       "4         1  0.038873  0.399176  0.560102  0.001849        Topic 2   \n",
       "...     ...       ...       ...       ...       ...            ...   \n",
       "9995      0  0.089257  0.295777  0.155449  0.459516        Topic 3   \n",
       "9996      0  0.807085  0.041173  0.001640  0.150102        Topic 0   \n",
       "9997      0  0.327024  0.001621  0.001551  0.669803        Topic 3   \n",
       "9998      1  0.002496  0.934884  0.060132  0.002488        Topic 1   \n",
       "9999      1  0.608850  0.249349  0.119601  0.022200        Topic 0   \n",
       "\n",
       "      Perc_Dominant_Topic  Label   Score  \n",
       "0                    0.74      0  0.9503  \n",
       "1                    0.25      0  0.9649  \n",
       "2                    0.89      1  0.9619  \n",
       "3                    0.49      0  0.9247  \n",
       "4                    0.56      1  0.9461  \n",
       "...                   ...    ...     ...  \n",
       "9995                 0.46      0  0.8693  \n",
       "9996                 0.81      0  0.8280  \n",
       "9997                 0.67      0  0.9686  \n",
       "9998                 0.93      1  0.9166  \n",
       "9999                 0.61      1  0.8862  \n",
       "\n",
       "[10000 rows x 9 columns]"
      ]
     },
     "execution_count": 28,
     "metadata": {},
     "output_type": "execute_result"
    }
   ],
   "source": [
    "predict_model(top5Models[0],data=lda_df)"
   ]
  },
  {
   "cell_type": "code",
   "execution_count": 29,
   "id": "9a3ecf83",
   "metadata": {},
   "outputs": [
    {
     "data": {
      "text/html": [
       "<style type=\"text/css\">\n",
       "</style>\n",
       "<table id=\"T_ba7b7_\">\n",
       "  <thead>\n",
       "    <tr>\n",
       "      <th class=\"blank level0\" >&nbsp;</th>\n",
       "      <th class=\"col_heading level0 col0\" >Model</th>\n",
       "      <th class=\"col_heading level0 col1\" >Accuracy</th>\n",
       "      <th class=\"col_heading level0 col2\" >AUC</th>\n",
       "      <th class=\"col_heading level0 col3\" >Recall</th>\n",
       "      <th class=\"col_heading level0 col4\" >Prec.</th>\n",
       "      <th class=\"col_heading level0 col5\" >F1</th>\n",
       "      <th class=\"col_heading level0 col6\" >Kappa</th>\n",
       "      <th class=\"col_heading level0 col7\" >MCC</th>\n",
       "    </tr>\n",
       "  </thead>\n",
       "  <tbody>\n",
       "    <tr>\n",
       "      <th id=\"T_ba7b7_level0_row0\" class=\"row_heading level0 row0\" >0</th>\n",
       "      <td id=\"T_ba7b7_row0_col0\" class=\"data row0 col0\" >Random Forest Classifier</td>\n",
       "      <td id=\"T_ba7b7_row0_col1\" class=\"data row0 col1\" >0.8840</td>\n",
       "      <td id=\"T_ba7b7_row0_col2\" class=\"data row0 col2\" >0.9479</td>\n",
       "      <td id=\"T_ba7b7_row0_col3\" class=\"data row0 col3\" >0.8790</td>\n",
       "      <td id=\"T_ba7b7_row0_col4\" class=\"data row0 col4\" >0.8790</td>\n",
       "      <td id=\"T_ba7b7_row0_col5\" class=\"data row0 col5\" >0.8790</td>\n",
       "      <td id=\"T_ba7b7_row0_col6\" class=\"data row0 col6\" >0.7677</td>\n",
       "      <td id=\"T_ba7b7_row0_col7\" class=\"data row0 col7\" >0.7677</td>\n",
       "    </tr>\n",
       "  </tbody>\n",
       "</table>\n"
      ],
      "text/plain": [
       "<pandas.io.formats.style.Styler at 0x7fed4fe32a50>"
      ]
     },
     "metadata": {},
     "output_type": "display_data"
    },
    {
     "data": {
      "text/html": [
       "<div>\n",
       "<style scoped>\n",
       "    .dataframe tbody tr th:only-of-type {\n",
       "        vertical-align: middle;\n",
       "    }\n",
       "\n",
       "    .dataframe tbody tr th {\n",
       "        vertical-align: top;\n",
       "    }\n",
       "\n",
       "    .dataframe thead th {\n",
       "        text-align: right;\n",
       "    }\n",
       "</style>\n",
       "<table border=\"1\" class=\"dataframe\">\n",
       "  <thead>\n",
       "    <tr style=\"text-align: right;\">\n",
       "      <th></th>\n",
       "      <th>Topic_0</th>\n",
       "      <th>Topic_1</th>\n",
       "      <th>Topic_2</th>\n",
       "      <th>Topic_3</th>\n",
       "      <th>Perc_Dominant_Topic</th>\n",
       "      <th>Dominant_Topic_Topic 0</th>\n",
       "      <th>Dominant_Topic_Topic 1</th>\n",
       "      <th>Dominant_Topic_Topic 2</th>\n",
       "      <th>Dominant_Topic_Topic 3</th>\n",
       "      <th>class</th>\n",
       "      <th>Label</th>\n",
       "      <th>Score</th>\n",
       "    </tr>\n",
       "  </thead>\n",
       "  <tbody>\n",
       "    <tr>\n",
       "      <th>0</th>\n",
       "      <td>0.001475</td>\n",
       "      <td>0.072200</td>\n",
       "      <td>0.001462</td>\n",
       "      <td>0.924864</td>\n",
       "      <td>0.92</td>\n",
       "      <td>0.0</td>\n",
       "      <td>0.0</td>\n",
       "      <td>0.0</td>\n",
       "      <td>1.0</td>\n",
       "      <td>0</td>\n",
       "      <td>0</td>\n",
       "      <td>1.00</td>\n",
       "    </tr>\n",
       "    <tr>\n",
       "      <th>1</th>\n",
       "      <td>0.005139</td>\n",
       "      <td>0.155132</td>\n",
       "      <td>0.004864</td>\n",
       "      <td>0.834865</td>\n",
       "      <td>0.83</td>\n",
       "      <td>0.0</td>\n",
       "      <td>0.0</td>\n",
       "      <td>0.0</td>\n",
       "      <td>1.0</td>\n",
       "      <td>0</td>\n",
       "      <td>0</td>\n",
       "      <td>0.98</td>\n",
       "    </tr>\n",
       "    <tr>\n",
       "      <th>2</th>\n",
       "      <td>0.017235</td>\n",
       "      <td>0.450585</td>\n",
       "      <td>0.017029</td>\n",
       "      <td>0.515150</td>\n",
       "      <td>0.52</td>\n",
       "      <td>0.0</td>\n",
       "      <td>0.0</td>\n",
       "      <td>0.0</td>\n",
       "      <td>1.0</td>\n",
       "      <td>0</td>\n",
       "      <td>0</td>\n",
       "      <td>1.00</td>\n",
       "    </tr>\n",
       "    <tr>\n",
       "      <th>3</th>\n",
       "      <td>0.001326</td>\n",
       "      <td>0.455374</td>\n",
       "      <td>0.541996</td>\n",
       "      <td>0.001304</td>\n",
       "      <td>0.54</td>\n",
       "      <td>0.0</td>\n",
       "      <td>0.0</td>\n",
       "      <td>1.0</td>\n",
       "      <td>0.0</td>\n",
       "      <td>1</td>\n",
       "      <td>1</td>\n",
       "      <td>1.00</td>\n",
       "    </tr>\n",
       "    <tr>\n",
       "      <th>4</th>\n",
       "      <td>0.250000</td>\n",
       "      <td>0.250000</td>\n",
       "      <td>0.250000</td>\n",
       "      <td>0.250000</td>\n",
       "      <td>0.25</td>\n",
       "      <td>1.0</td>\n",
       "      <td>0.0</td>\n",
       "      <td>0.0</td>\n",
       "      <td>0.0</td>\n",
       "      <td>0</td>\n",
       "      <td>0</td>\n",
       "      <td>1.00</td>\n",
       "    </tr>\n",
       "    <tr>\n",
       "      <th>...</th>\n",
       "      <td>...</td>\n",
       "      <td>...</td>\n",
       "      <td>...</td>\n",
       "      <td>...</td>\n",
       "      <td>...</td>\n",
       "      <td>...</td>\n",
       "      <td>...</td>\n",
       "      <td>...</td>\n",
       "      <td>...</td>\n",
       "      <td>...</td>\n",
       "      <td>...</td>\n",
       "      <td>...</td>\n",
       "    </tr>\n",
       "    <tr>\n",
       "      <th>2996</th>\n",
       "      <td>0.002324</td>\n",
       "      <td>0.002293</td>\n",
       "      <td>0.176510</td>\n",
       "      <td>0.818872</td>\n",
       "      <td>0.82</td>\n",
       "      <td>0.0</td>\n",
       "      <td>0.0</td>\n",
       "      <td>0.0</td>\n",
       "      <td>1.0</td>\n",
       "      <td>0</td>\n",
       "      <td>0</td>\n",
       "      <td>0.75</td>\n",
       "    </tr>\n",
       "    <tr>\n",
       "      <th>2997</th>\n",
       "      <td>0.081120</td>\n",
       "      <td>0.002945</td>\n",
       "      <td>0.271840</td>\n",
       "      <td>0.644096</td>\n",
       "      <td>0.64</td>\n",
       "      <td>0.0</td>\n",
       "      <td>0.0</td>\n",
       "      <td>0.0</td>\n",
       "      <td>1.0</td>\n",
       "      <td>0</td>\n",
       "      <td>0</td>\n",
       "      <td>0.64</td>\n",
       "    </tr>\n",
       "    <tr>\n",
       "      <th>2998</th>\n",
       "      <td>0.038758</td>\n",
       "      <td>0.003850</td>\n",
       "      <td>0.452134</td>\n",
       "      <td>0.505257</td>\n",
       "      <td>0.51</td>\n",
       "      <td>0.0</td>\n",
       "      <td>0.0</td>\n",
       "      <td>0.0</td>\n",
       "      <td>1.0</td>\n",
       "      <td>0</td>\n",
       "      <td>1</td>\n",
       "      <td>0.53</td>\n",
       "    </tr>\n",
       "    <tr>\n",
       "      <th>2999</th>\n",
       "      <td>0.399562</td>\n",
       "      <td>0.012722</td>\n",
       "      <td>0.574517</td>\n",
       "      <td>0.013199</td>\n",
       "      <td>0.57</td>\n",
       "      <td>0.0</td>\n",
       "      <td>0.0</td>\n",
       "      <td>1.0</td>\n",
       "      <td>0.0</td>\n",
       "      <td>1</td>\n",
       "      <td>1</td>\n",
       "      <td>1.00</td>\n",
       "    </tr>\n",
       "    <tr>\n",
       "      <th>3000</th>\n",
       "      <td>0.003647</td>\n",
       "      <td>0.003568</td>\n",
       "      <td>0.899127</td>\n",
       "      <td>0.093657</td>\n",
       "      <td>0.90</td>\n",
       "      <td>0.0</td>\n",
       "      <td>0.0</td>\n",
       "      <td>1.0</td>\n",
       "      <td>0.0</td>\n",
       "      <td>0</td>\n",
       "      <td>1</td>\n",
       "      <td>0.99</td>\n",
       "    </tr>\n",
       "  </tbody>\n",
       "</table>\n",
       "<p>3001 rows × 12 columns</p>\n",
       "</div>"
      ],
      "text/plain": [
       "       Topic_0   Topic_1   Topic_2   Topic_3  Perc_Dominant_Topic  \\\n",
       "0     0.001475  0.072200  0.001462  0.924864                 0.92   \n",
       "1     0.005139  0.155132  0.004864  0.834865                 0.83   \n",
       "2     0.017235  0.450585  0.017029  0.515150                 0.52   \n",
       "3     0.001326  0.455374  0.541996  0.001304                 0.54   \n",
       "4     0.250000  0.250000  0.250000  0.250000                 0.25   \n",
       "...        ...       ...       ...       ...                  ...   \n",
       "2996  0.002324  0.002293  0.176510  0.818872                 0.82   \n",
       "2997  0.081120  0.002945  0.271840  0.644096                 0.64   \n",
       "2998  0.038758  0.003850  0.452134  0.505257                 0.51   \n",
       "2999  0.399562  0.012722  0.574517  0.013199                 0.57   \n",
       "3000  0.003647  0.003568  0.899127  0.093657                 0.90   \n",
       "\n",
       "      Dominant_Topic_Topic 0  Dominant_Topic_Topic 1  Dominant_Topic_Topic 2  \\\n",
       "0                        0.0                     0.0                     0.0   \n",
       "1                        0.0                     0.0                     0.0   \n",
       "2                        0.0                     0.0                     0.0   \n",
       "3                        0.0                     0.0                     1.0   \n",
       "4                        1.0                     0.0                     0.0   \n",
       "...                      ...                     ...                     ...   \n",
       "2996                     0.0                     0.0                     0.0   \n",
       "2997                     0.0                     0.0                     0.0   \n",
       "2998                     0.0                     0.0                     0.0   \n",
       "2999                     0.0                     0.0                     1.0   \n",
       "3000                     0.0                     0.0                     1.0   \n",
       "\n",
       "      Dominant_Topic_Topic 3  class  Label  Score  \n",
       "0                        1.0      0      0   1.00  \n",
       "1                        1.0      0      0   0.98  \n",
       "2                        1.0      0      0   1.00  \n",
       "3                        0.0      1      1   1.00  \n",
       "4                        0.0      0      0   1.00  \n",
       "...                      ...    ...    ...    ...  \n",
       "2996                     1.0      0      0   0.75  \n",
       "2997                     1.0      0      0   0.64  \n",
       "2998                     1.0      0      1   0.53  \n",
       "2999                     0.0      1      1   1.00  \n",
       "3000                     0.0      0      1   0.99  \n",
       "\n",
       "[3001 rows x 12 columns]"
      ]
     },
     "execution_count": 29,
     "metadata": {},
     "output_type": "execute_result"
    }
   ],
   "source": [
    "predict_model(top5Models[5])"
   ]
  },
  {
   "cell_type": "code",
   "execution_count": 30,
   "id": "5fc7cb29",
   "metadata": {},
   "outputs": [
    {
     "data": {
      "text/html": [
       "<style type=\"text/css\">\n",
       "</style>\n",
       "<table id=\"T_bf144_\">\n",
       "  <thead>\n",
       "    <tr>\n",
       "      <th class=\"blank level0\" >&nbsp;</th>\n",
       "      <th class=\"col_heading level0 col0\" >Model</th>\n",
       "      <th class=\"col_heading level0 col1\" >Accuracy</th>\n",
       "      <th class=\"col_heading level0 col2\" >AUC</th>\n",
       "      <th class=\"col_heading level0 col3\" >Recall</th>\n",
       "      <th class=\"col_heading level0 col4\" >Prec.</th>\n",
       "      <th class=\"col_heading level0 col5\" >F1</th>\n",
       "      <th class=\"col_heading level0 col6\" >Kappa</th>\n",
       "      <th class=\"col_heading level0 col7\" >MCC</th>\n",
       "    </tr>\n",
       "  </thead>\n",
       "  <tbody>\n",
       "    <tr>\n",
       "      <th id=\"T_bf144_level0_row0\" class=\"row_heading level0 row0\" >0</th>\n",
       "      <td id=\"T_bf144_row0_col0\" class=\"data row0 col0\" >Logistic Regression</td>\n",
       "      <td id=\"T_bf144_row0_col1\" class=\"data row0 col1\" >0.8834</td>\n",
       "      <td id=\"T_bf144_row0_col2\" class=\"data row0 col2\" >0.9432</td>\n",
       "      <td id=\"T_bf144_row0_col3\" class=\"data row0 col3\" >0.8901</td>\n",
       "      <td id=\"T_bf144_row0_col4\" class=\"data row0 col4\" >0.8696</td>\n",
       "      <td id=\"T_bf144_row0_col5\" class=\"data row0 col5\" >0.8797</td>\n",
       "      <td id=\"T_bf144_row0_col6\" class=\"data row0 col6\" >0.7666</td>\n",
       "      <td id=\"T_bf144_row0_col7\" class=\"data row0 col7\" >0.7668</td>\n",
       "    </tr>\n",
       "  </tbody>\n",
       "</table>\n"
      ],
      "text/plain": [
       "<pandas.io.formats.style.Styler at 0x7fed4ff44490>"
      ]
     },
     "metadata": {},
     "output_type": "display_data"
    },
    {
     "data": {
      "text/html": [
       "<div>\n",
       "<style scoped>\n",
       "    .dataframe tbody tr th:only-of-type {\n",
       "        vertical-align: middle;\n",
       "    }\n",
       "\n",
       "    .dataframe tbody tr th {\n",
       "        vertical-align: top;\n",
       "    }\n",
       "\n",
       "    .dataframe thead th {\n",
       "        text-align: right;\n",
       "    }\n",
       "</style>\n",
       "<table border=\"1\" class=\"dataframe\">\n",
       "  <thead>\n",
       "    <tr style=\"text-align: right;\">\n",
       "      <th></th>\n",
       "      <th>Topic_0</th>\n",
       "      <th>Topic_1</th>\n",
       "      <th>Topic_2</th>\n",
       "      <th>Topic_3</th>\n",
       "      <th>Perc_Dominant_Topic</th>\n",
       "      <th>Dominant_Topic_Topic 0</th>\n",
       "      <th>Dominant_Topic_Topic 1</th>\n",
       "      <th>Dominant_Topic_Topic 2</th>\n",
       "      <th>Dominant_Topic_Topic 3</th>\n",
       "      <th>class</th>\n",
       "      <th>Label</th>\n",
       "      <th>Score</th>\n",
       "    </tr>\n",
       "  </thead>\n",
       "  <tbody>\n",
       "    <tr>\n",
       "      <th>0</th>\n",
       "      <td>0.001475</td>\n",
       "      <td>0.072200</td>\n",
       "      <td>0.001462</td>\n",
       "      <td>0.924864</td>\n",
       "      <td>0.92</td>\n",
       "      <td>0.0</td>\n",
       "      <td>0.0</td>\n",
       "      <td>0.0</td>\n",
       "      <td>1.0</td>\n",
       "      <td>0</td>\n",
       "      <td>0</td>\n",
       "      <td>0.9898</td>\n",
       "    </tr>\n",
       "    <tr>\n",
       "      <th>1</th>\n",
       "      <td>0.005139</td>\n",
       "      <td>0.155132</td>\n",
       "      <td>0.004864</td>\n",
       "      <td>0.834865</td>\n",
       "      <td>0.83</td>\n",
       "      <td>0.0</td>\n",
       "      <td>0.0</td>\n",
       "      <td>0.0</td>\n",
       "      <td>1.0</td>\n",
       "      <td>0</td>\n",
       "      <td>0</td>\n",
       "      <td>0.9843</td>\n",
       "    </tr>\n",
       "    <tr>\n",
       "      <th>2</th>\n",
       "      <td>0.017235</td>\n",
       "      <td>0.450585</td>\n",
       "      <td>0.017029</td>\n",
       "      <td>0.515150</td>\n",
       "      <td>0.52</td>\n",
       "      <td>0.0</td>\n",
       "      <td>0.0</td>\n",
       "      <td>0.0</td>\n",
       "      <td>1.0</td>\n",
       "      <td>0</td>\n",
       "      <td>0</td>\n",
       "      <td>0.9268</td>\n",
       "    </tr>\n",
       "    <tr>\n",
       "      <th>3</th>\n",
       "      <td>0.001326</td>\n",
       "      <td>0.455374</td>\n",
       "      <td>0.541996</td>\n",
       "      <td>0.001304</td>\n",
       "      <td>0.54</td>\n",
       "      <td>0.0</td>\n",
       "      <td>0.0</td>\n",
       "      <td>1.0</td>\n",
       "      <td>0.0</td>\n",
       "      <td>1</td>\n",
       "      <td>1</td>\n",
       "      <td>0.9059</td>\n",
       "    </tr>\n",
       "    <tr>\n",
       "      <th>4</th>\n",
       "      <td>0.250000</td>\n",
       "      <td>0.250000</td>\n",
       "      <td>0.250000</td>\n",
       "      <td>0.250000</td>\n",
       "      <td>0.25</td>\n",
       "      <td>1.0</td>\n",
       "      <td>0.0</td>\n",
       "      <td>0.0</td>\n",
       "      <td>0.0</td>\n",
       "      <td>0</td>\n",
       "      <td>0</td>\n",
       "      <td>0.7540</td>\n",
       "    </tr>\n",
       "    <tr>\n",
       "      <th>...</th>\n",
       "      <td>...</td>\n",
       "      <td>...</td>\n",
       "      <td>...</td>\n",
       "      <td>...</td>\n",
       "      <td>...</td>\n",
       "      <td>...</td>\n",
       "      <td>...</td>\n",
       "      <td>...</td>\n",
       "      <td>...</td>\n",
       "      <td>...</td>\n",
       "      <td>...</td>\n",
       "      <td>...</td>\n",
       "    </tr>\n",
       "    <tr>\n",
       "      <th>2996</th>\n",
       "      <td>0.002324</td>\n",
       "      <td>0.002293</td>\n",
       "      <td>0.176510</td>\n",
       "      <td>0.818872</td>\n",
       "      <td>0.82</td>\n",
       "      <td>0.0</td>\n",
       "      <td>0.0</td>\n",
       "      <td>0.0</td>\n",
       "      <td>1.0</td>\n",
       "      <td>0</td>\n",
       "      <td>0</td>\n",
       "      <td>0.9598</td>\n",
       "    </tr>\n",
       "    <tr>\n",
       "      <th>2997</th>\n",
       "      <td>0.081120</td>\n",
       "      <td>0.002945</td>\n",
       "      <td>0.271840</td>\n",
       "      <td>0.644096</td>\n",
       "      <td>0.64</td>\n",
       "      <td>0.0</td>\n",
       "      <td>0.0</td>\n",
       "      <td>0.0</td>\n",
       "      <td>1.0</td>\n",
       "      <td>0</td>\n",
       "      <td>0</td>\n",
       "      <td>0.8545</td>\n",
       "    </tr>\n",
       "    <tr>\n",
       "      <th>2998</th>\n",
       "      <td>0.038758</td>\n",
       "      <td>0.003850</td>\n",
       "      <td>0.452134</td>\n",
       "      <td>0.505257</td>\n",
       "      <td>0.51</td>\n",
       "      <td>0.0</td>\n",
       "      <td>0.0</td>\n",
       "      <td>0.0</td>\n",
       "      <td>1.0</td>\n",
       "      <td>0</td>\n",
       "      <td>0</td>\n",
       "      <td>0.5583</td>\n",
       "    </tr>\n",
       "    <tr>\n",
       "      <th>2999</th>\n",
       "      <td>0.399562</td>\n",
       "      <td>0.012722</td>\n",
       "      <td>0.574517</td>\n",
       "      <td>0.013199</td>\n",
       "      <td>0.57</td>\n",
       "      <td>0.0</td>\n",
       "      <td>0.0</td>\n",
       "      <td>1.0</td>\n",
       "      <td>0.0</td>\n",
       "      <td>1</td>\n",
       "      <td>1</td>\n",
       "      <td>0.9503</td>\n",
       "    </tr>\n",
       "    <tr>\n",
       "      <th>3000</th>\n",
       "      <td>0.003647</td>\n",
       "      <td>0.003568</td>\n",
       "      <td>0.899127</td>\n",
       "      <td>0.093657</td>\n",
       "      <td>0.90</td>\n",
       "      <td>0.0</td>\n",
       "      <td>0.0</td>\n",
       "      <td>1.0</td>\n",
       "      <td>0.0</td>\n",
       "      <td>0</td>\n",
       "      <td>1</td>\n",
       "      <td>0.9859</td>\n",
       "    </tr>\n",
       "  </tbody>\n",
       "</table>\n",
       "<p>3001 rows × 12 columns</p>\n",
       "</div>"
      ],
      "text/plain": [
       "       Topic_0   Topic_1   Topic_2   Topic_3  Perc_Dominant_Topic  \\\n",
       "0     0.001475  0.072200  0.001462  0.924864                 0.92   \n",
       "1     0.005139  0.155132  0.004864  0.834865                 0.83   \n",
       "2     0.017235  0.450585  0.017029  0.515150                 0.52   \n",
       "3     0.001326  0.455374  0.541996  0.001304                 0.54   \n",
       "4     0.250000  0.250000  0.250000  0.250000                 0.25   \n",
       "...        ...       ...       ...       ...                  ...   \n",
       "2996  0.002324  0.002293  0.176510  0.818872                 0.82   \n",
       "2997  0.081120  0.002945  0.271840  0.644096                 0.64   \n",
       "2998  0.038758  0.003850  0.452134  0.505257                 0.51   \n",
       "2999  0.399562  0.012722  0.574517  0.013199                 0.57   \n",
       "3000  0.003647  0.003568  0.899127  0.093657                 0.90   \n",
       "\n",
       "      Dominant_Topic_Topic 0  Dominant_Topic_Topic 1  Dominant_Topic_Topic 2  \\\n",
       "0                        0.0                     0.0                     0.0   \n",
       "1                        0.0                     0.0                     0.0   \n",
       "2                        0.0                     0.0                     0.0   \n",
       "3                        0.0                     0.0                     1.0   \n",
       "4                        1.0                     0.0                     0.0   \n",
       "...                      ...                     ...                     ...   \n",
       "2996                     0.0                     0.0                     0.0   \n",
       "2997                     0.0                     0.0                     0.0   \n",
       "2998                     0.0                     0.0                     0.0   \n",
       "2999                     0.0                     0.0                     1.0   \n",
       "3000                     0.0                     0.0                     1.0   \n",
       "\n",
       "      Dominant_Topic_Topic 3  class  Label   Score  \n",
       "0                        1.0      0      0  0.9898  \n",
       "1                        1.0      0      0  0.9843  \n",
       "2                        1.0      0      0  0.9268  \n",
       "3                        0.0      1      1  0.9059  \n",
       "4                        0.0      0      0  0.7540  \n",
       "...                      ...    ...    ...     ...  \n",
       "2996                     1.0      0      0  0.9598  \n",
       "2997                     1.0      0      0  0.8545  \n",
       "2998                     1.0      0      0  0.5583  \n",
       "2999                     0.0      1      1  0.9503  \n",
       "3000                     0.0      0      1  0.9859  \n",
       "\n",
       "[3001 rows x 12 columns]"
      ]
     },
     "execution_count": 30,
     "metadata": {},
     "output_type": "execute_result"
    },
    {
     "name": "stderr",
     "output_type": "stream",
     "text": [
      "/home/chris/anaconda3/lib/python3.7/site-packages/sklearn/utils/deprecation.py:101: FutureWarning: Attribute standard_coef_ was deprecated in version 0.23 and will be removed in 0.25.\n",
      "  warnings.warn(msg, category=FutureWarning)\n",
      "/home/chris/anaconda3/lib/python3.7/site-packages/sklearn/utils/deprecation.py:101: FutureWarning: Attribute standard_intercept_ was deprecated in version 0.23 and will be removed in 0.25.\n",
      "  warnings.warn(msg, category=FutureWarning)\n",
      "/home/chris/anaconda3/lib/python3.7/site-packages/sklearn/utils/deprecation.py:101: FutureWarning: Attribute average_coef_ was deprecated in version 0.23 and will be removed in 0.25.\n",
      "  warnings.warn(msg, category=FutureWarning)\n",
      "/home/chris/anaconda3/lib/python3.7/site-packages/sklearn/utils/deprecation.py:101: FutureWarning: Attribute average_intercept_ was deprecated in version 0.23 and will be removed in 0.25.\n",
      "  warnings.warn(msg, category=FutureWarning)\n",
      "/home/chris/anaconda3/lib/python3.7/site-packages/sklearn/utils/deprecation.py:101: FutureWarning: Attribute standard_coef_ was deprecated in version 0.23 and will be removed in 0.25.\n",
      "  warnings.warn(msg, category=FutureWarning)\n",
      "/home/chris/anaconda3/lib/python3.7/site-packages/sklearn/utils/deprecation.py:101: FutureWarning: Attribute standard_intercept_ was deprecated in version 0.23 and will be removed in 0.25.\n",
      "  warnings.warn(msg, category=FutureWarning)\n",
      "/home/chris/anaconda3/lib/python3.7/site-packages/sklearn/utils/deprecation.py:101: FutureWarning: Attribute average_coef_ was deprecated in version 0.23 and will be removed in 0.25.\n",
      "  warnings.warn(msg, category=FutureWarning)\n",
      "/home/chris/anaconda3/lib/python3.7/site-packages/sklearn/utils/deprecation.py:101: FutureWarning: Attribute average_intercept_ was deprecated in version 0.23 and will be removed in 0.25.\n",
      "  warnings.warn(msg, category=FutureWarning)\n",
      "/home/chris/anaconda3/lib/python3.7/site-packages/sklearn/discriminant_analysis.py:715: UserWarning: Variables are collinear\n",
      "  warnings.warn(\"Variables are collinear\")\n",
      "/home/chris/anaconda3/lib/python3.7/site-packages/sklearn/metrics/_classification.py:846: RuntimeWarning: invalid value encountered in double_scalars\n",
      "  mcc = cov_ytyp / np.sqrt(cov_ytyt * cov_ypyp)\n",
      "/home/chris/anaconda3/lib/python3.7/site-packages/sklearn/discriminant_analysis.py:715: UserWarning: Variables are collinear\n",
      "  warnings.warn(\"Variables are collinear\")\n",
      "/home/chris/anaconda3/lib/python3.7/site-packages/sklearn/metrics/_classification.py:846: RuntimeWarning: invalid value encountered in double_scalars\n",
      "  mcc = cov_ytyp / np.sqrt(cov_ytyt * cov_ypyp)\n",
      "/home/chris/anaconda3/lib/python3.7/site-packages/xgboost/sklearn.py:1224: UserWarning: The use of label encoder in XGBClassifier is deprecated and will be removed in a future release. To remove this warning, do the following: 1) Pass option use_label_encoder=False when constructing XGBClassifier object; and 2) Encode your labels (y) as integers starting with 0, i.e. 0, 1, 2, ..., [num_class - 1].\n",
      "  warnings.warn(label_encoder_deprecation_msg, UserWarning)\n",
      "/home/chris/anaconda3/lib/python3.7/site-packages/xgboost/sklearn.py:1224: UserWarning: The use of label encoder in XGBClassifier is deprecated and will be removed in a future release. To remove this warning, do the following: 1) Pass option use_label_encoder=False when constructing XGBClassifier object; and 2) Encode your labels (y) as integers starting with 0, i.e. 0, 1, 2, ..., [num_class - 1].\n",
      "  warnings.warn(label_encoder_deprecation_msg, UserWarning)\n",
      "/home/chris/anaconda3/lib/python3.7/site-packages/sklearn/utils/deprecation.py:101: FutureWarning: The outputs_2d_ attribute is deprecated in version 0.22 and will be removed in version 0.24. It is equivalent to n_outputs_ > 1.\n",
      "  warnings.warn(msg, category=FutureWarning)\n",
      "/home/chris/anaconda3/lib/python3.7/site-packages/sklearn/metrics/_classification.py:1221: UndefinedMetricWarning: Precision is ill-defined and being set to 0.0 due to no predicted samples. Use `zero_division` parameter to control this behavior.\n",
      "  _warn_prf(average, modifier, msg_start, len(result))\n",
      "/home/chris/anaconda3/lib/python3.7/site-packages/sklearn/metrics/_classification.py:846: RuntimeWarning: invalid value encountered in double_scalars\n",
      "  mcc = cov_ytyp / np.sqrt(cov_ytyt * cov_ypyp)\n",
      "/home/chris/anaconda3/lib/python3.7/site-packages/sklearn/utils/deprecation.py:101: FutureWarning: The outputs_2d_ attribute is deprecated in version 0.22 and will be removed in version 0.24. It is equivalent to n_outputs_ > 1.\n",
      "  warnings.warn(msg, category=FutureWarning)\n",
      "/home/chris/anaconda3/lib/python3.7/site-packages/sklearn/metrics/_classification.py:1221: UndefinedMetricWarning: Precision is ill-defined and being set to 0.0 due to no predicted samples. Use `zero_division` parameter to control this behavior.\n",
      "  _warn_prf(average, modifier, msg_start, len(result))\n",
      "/home/chris/anaconda3/lib/python3.7/site-packages/sklearn/metrics/_classification.py:846: RuntimeWarning: invalid value encountered in double_scalars\n",
      "  mcc = cov_ytyp / np.sqrt(cov_ytyt * cov_ypyp)\n",
      "/home/chris/anaconda3/lib/python3.7/site-packages/sklearn/utils/deprecation.py:101: FutureWarning: Attribute standard_coef_ was deprecated in version 0.23 and will be removed in 0.25.\n",
      "  warnings.warn(msg, category=FutureWarning)\n",
      "/home/chris/anaconda3/lib/python3.7/site-packages/sklearn/utils/deprecation.py:101: FutureWarning: Attribute standard_intercept_ was deprecated in version 0.23 and will be removed in 0.25.\n",
      "  warnings.warn(msg, category=FutureWarning)\n",
      "/home/chris/anaconda3/lib/python3.7/site-packages/sklearn/utils/deprecation.py:101: FutureWarning: Attribute average_coef_ was deprecated in version 0.23 and will be removed in 0.25.\n",
      "  warnings.warn(msg, category=FutureWarning)\n",
      "/home/chris/anaconda3/lib/python3.7/site-packages/sklearn/utils/deprecation.py:101: FutureWarning: Attribute average_intercept_ was deprecated in version 0.23 and will be removed in 0.25.\n",
      "  warnings.warn(msg, category=FutureWarning)\n",
      "/home/chris/anaconda3/lib/python3.7/site-packages/sklearn/utils/deprecation.py:101: FutureWarning: Attribute standard_coef_ was deprecated in version 0.23 and will be removed in 0.25.\n",
      "  warnings.warn(msg, category=FutureWarning)\n",
      "/home/chris/anaconda3/lib/python3.7/site-packages/sklearn/utils/deprecation.py:101: FutureWarning: Attribute standard_intercept_ was deprecated in version 0.23 and will be removed in 0.25.\n",
      "  warnings.warn(msg, category=FutureWarning)\n",
      "/home/chris/anaconda3/lib/python3.7/site-packages/sklearn/utils/deprecation.py:101: FutureWarning: Attribute average_coef_ was deprecated in version 0.23 and will be removed in 0.25.\n",
      "  warnings.warn(msg, category=FutureWarning)\n",
      "/home/chris/anaconda3/lib/python3.7/site-packages/sklearn/utils/deprecation.py:101: FutureWarning: Attribute average_intercept_ was deprecated in version 0.23 and will be removed in 0.25.\n",
      "  warnings.warn(msg, category=FutureWarning)\n",
      "/home/chris/anaconda3/lib/python3.7/site-packages/sklearn/discriminant_analysis.py:715: UserWarning: Variables are collinear\n",
      "  warnings.warn(\"Variables are collinear\")\n",
      "/home/chris/anaconda3/lib/python3.7/site-packages/xgboost/sklearn.py:1224: UserWarning: The use of label encoder in XGBClassifier is deprecated and will be removed in a future release. To remove this warning, do the following: 1) Pass option use_label_encoder=False when constructing XGBClassifier object; and 2) Encode your labels (y) as integers starting with 0, i.e. 0, 1, 2, ..., [num_class - 1].\n",
      "  warnings.warn(label_encoder_deprecation_msg, UserWarning)\n",
      "/home/chris/anaconda3/lib/python3.7/site-packages/sklearn/utils/deprecation.py:101: FutureWarning: The outputs_2d_ attribute is deprecated in version 0.22 and will be removed in version 0.24. It is equivalent to n_outputs_ > 1.\n",
      "  warnings.warn(msg, category=FutureWarning)\n",
      "/home/chris/anaconda3/lib/python3.7/site-packages/sklearn/metrics/_classification.py:1221: UndefinedMetricWarning: Precision is ill-defined and being set to 0.0 due to no predicted samples. Use `zero_division` parameter to control this behavior.\n",
      "  _warn_prf(average, modifier, msg_start, len(result))\n",
      "/home/chris/anaconda3/lib/python3.7/site-packages/sklearn/metrics/_classification.py:846: RuntimeWarning: invalid value encountered in double_scalars\n",
      "  mcc = cov_ytyp / np.sqrt(cov_ytyt * cov_ypyp)\n",
      "/home/chris/anaconda3/lib/python3.7/site-packages/sklearn/utils/deprecation.py:101: FutureWarning: The outputs_2d_ attribute is deprecated in version 0.22 and will be removed in version 0.24. It is equivalent to n_outputs_ > 1.\n",
      "  warnings.warn(msg, category=FutureWarning)\n",
      "/home/chris/anaconda3/lib/python3.7/site-packages/sklearn/metrics/_classification.py:1221: UndefinedMetricWarning: Precision is ill-defined and being set to 0.0 due to no predicted samples. Use `zero_division` parameter to control this behavior.\n",
      "  _warn_prf(average, modifier, msg_start, len(result))\n",
      "/home/chris/anaconda3/lib/python3.7/site-packages/sklearn/metrics/_classification.py:846: RuntimeWarning: invalid value encountered in double_scalars\n",
      "  mcc = cov_ytyp / np.sqrt(cov_ytyt * cov_ypyp)\n"
     ]
    },
    {
     "name": "stderr",
     "output_type": "stream",
     "text": [
      "/home/chris/anaconda3/lib/python3.7/site-packages/sklearn/utils/deprecation.py:101: FutureWarning: Attribute standard_coef_ was deprecated in version 0.23 and will be removed in 0.25.\n",
      "  warnings.warn(msg, category=FutureWarning)\n",
      "/home/chris/anaconda3/lib/python3.7/site-packages/sklearn/utils/deprecation.py:101: FutureWarning: Attribute standard_intercept_ was deprecated in version 0.23 and will be removed in 0.25.\n",
      "  warnings.warn(msg, category=FutureWarning)\n",
      "/home/chris/anaconda3/lib/python3.7/site-packages/sklearn/utils/deprecation.py:101: FutureWarning: Attribute average_coef_ was deprecated in version 0.23 and will be removed in 0.25.\n",
      "  warnings.warn(msg, category=FutureWarning)\n",
      "/home/chris/anaconda3/lib/python3.7/site-packages/sklearn/utils/deprecation.py:101: FutureWarning: Attribute average_intercept_ was deprecated in version 0.23 and will be removed in 0.25.\n",
      "  warnings.warn(msg, category=FutureWarning)\n",
      "/home/chris/anaconda3/lib/python3.7/site-packages/sklearn/discriminant_analysis.py:715: UserWarning: Variables are collinear\n",
      "  warnings.warn(\"Variables are collinear\")\n",
      "/home/chris/anaconda3/lib/python3.7/site-packages/sklearn/discriminant_analysis.py:715: UserWarning: Variables are collinear\n",
      "  warnings.warn(\"Variables are collinear\")\n",
      "/home/chris/anaconda3/lib/python3.7/site-packages/sklearn/metrics/_classification.py:846: RuntimeWarning: invalid value encountered in double_scalars\n",
      "  mcc = cov_ytyp / np.sqrt(cov_ytyt * cov_ypyp)\n",
      "/home/chris/anaconda3/lib/python3.7/site-packages/xgboost/sklearn.py:1224: UserWarning: The use of label encoder in XGBClassifier is deprecated and will be removed in a future release. To remove this warning, do the following: 1) Pass option use_label_encoder=False when constructing XGBClassifier object; and 2) Encode your labels (y) as integers starting with 0, i.e. 0, 1, 2, ..., [num_class - 1].\n",
      "  warnings.warn(label_encoder_deprecation_msg, UserWarning)\n",
      "/home/chris/anaconda3/lib/python3.7/site-packages/xgboost/sklearn.py:1224: UserWarning: The use of label encoder in XGBClassifier is deprecated and will be removed in a future release. To remove this warning, do the following: 1) Pass option use_label_encoder=False when constructing XGBClassifier object; and 2) Encode your labels (y) as integers starting with 0, i.e. 0, 1, 2, ..., [num_class - 1].\n",
      "  warnings.warn(label_encoder_deprecation_msg, UserWarning)\n",
      "/home/chris/anaconda3/lib/python3.7/site-packages/sklearn/utils/deprecation.py:101: FutureWarning: The outputs_2d_ attribute is deprecated in version 0.22 and will be removed in version 0.24. It is equivalent to n_outputs_ > 1.\n",
      "  warnings.warn(msg, category=FutureWarning)\n",
      "/home/chris/anaconda3/lib/python3.7/site-packages/sklearn/metrics/_classification.py:1221: UndefinedMetricWarning: Precision is ill-defined and being set to 0.0 due to no predicted samples. Use `zero_division` parameter to control this behavior.\n",
      "  _warn_prf(average, modifier, msg_start, len(result))\n",
      "/home/chris/anaconda3/lib/python3.7/site-packages/sklearn/metrics/_classification.py:846: RuntimeWarning: invalid value encountered in double_scalars\n",
      "  mcc = cov_ytyp / np.sqrt(cov_ytyt * cov_ypyp)\n",
      "/home/chris/anaconda3/lib/python3.7/site-packages/sklearn/utils/deprecation.py:101: FutureWarning: Attribute standard_coef_ was deprecated in version 0.23 and will be removed in 0.25.\n",
      "  warnings.warn(msg, category=FutureWarning)\n",
      "/home/chris/anaconda3/lib/python3.7/site-packages/sklearn/utils/deprecation.py:101: FutureWarning: Attribute standard_intercept_ was deprecated in version 0.23 and will be removed in 0.25.\n",
      "  warnings.warn(msg, category=FutureWarning)\n",
      "/home/chris/anaconda3/lib/python3.7/site-packages/sklearn/utils/deprecation.py:101: FutureWarning: Attribute average_coef_ was deprecated in version 0.23 and will be removed in 0.25.\n",
      "  warnings.warn(msg, category=FutureWarning)\n",
      "/home/chris/anaconda3/lib/python3.7/site-packages/sklearn/utils/deprecation.py:101: FutureWarning: Attribute average_intercept_ was deprecated in version 0.23 and will be removed in 0.25.\n",
      "  warnings.warn(msg, category=FutureWarning)\n",
      "/home/chris/anaconda3/lib/python3.7/site-packages/sklearn/discriminant_analysis.py:715: UserWarning: Variables are collinear\n",
      "  warnings.warn(\"Variables are collinear\")\n",
      "/home/chris/anaconda3/lib/python3.7/site-packages/sklearn/discriminant_analysis.py:715: UserWarning: Variables are collinear\n",
      "  warnings.warn(\"Variables are collinear\")\n",
      "/home/chris/anaconda3/lib/python3.7/site-packages/xgboost/sklearn.py:1224: UserWarning: The use of label encoder in XGBClassifier is deprecated and will be removed in a future release. To remove this warning, do the following: 1) Pass option use_label_encoder=False when constructing XGBClassifier object; and 2) Encode your labels (y) as integers starting with 0, i.e. 0, 1, 2, ..., [num_class - 1].\n",
      "  warnings.warn(label_encoder_deprecation_msg, UserWarning)\n",
      "/home/chris/anaconda3/lib/python3.7/site-packages/sklearn/utils/deprecation.py:101: FutureWarning: The outputs_2d_ attribute is deprecated in version 0.22 and will be removed in version 0.24. It is equivalent to n_outputs_ > 1.\n",
      "  warnings.warn(msg, category=FutureWarning)\n",
      "/home/chris/anaconda3/lib/python3.7/site-packages/sklearn/metrics/_classification.py:1221: UndefinedMetricWarning: Precision is ill-defined and being set to 0.0 due to no predicted samples. Use `zero_division` parameter to control this behavior.\n",
      "  _warn_prf(average, modifier, msg_start, len(result))\n",
      "/home/chris/anaconda3/lib/python3.7/site-packages/sklearn/metrics/_classification.py:846: RuntimeWarning: invalid value encountered in double_scalars\n",
      "  mcc = cov_ytyp / np.sqrt(cov_ytyt * cov_ypyp)\n",
      "/home/chris/anaconda3/lib/python3.7/site-packages/sklearn/utils/deprecation.py:101: FutureWarning: The outputs_2d_ attribute is deprecated in version 0.22 and will be removed in version 0.24. It is equivalent to n_outputs_ > 1.\n",
      "  warnings.warn(msg, category=FutureWarning)\n",
      "/home/chris/anaconda3/lib/python3.7/site-packages/sklearn/metrics/_classification.py:1221: UndefinedMetricWarning: Precision is ill-defined and being set to 0.0 due to no predicted samples. Use `zero_division` parameter to control this behavior.\n",
      "  _warn_prf(average, modifier, msg_start, len(result))\n",
      "/home/chris/anaconda3/lib/python3.7/site-packages/sklearn/metrics/_classification.py:846: RuntimeWarning: invalid value encountered in double_scalars\n",
      "  mcc = cov_ytyp / np.sqrt(cov_ytyt * cov_ypyp)\n",
      "/home/chris/anaconda3/lib/python3.7/site-packages/sklearn/utils/deprecation.py:101: FutureWarning: Attribute standard_coef_ was deprecated in version 0.23 and will be removed in 0.25.\n",
      "  warnings.warn(msg, category=FutureWarning)\n",
      "/home/chris/anaconda3/lib/python3.7/site-packages/sklearn/utils/deprecation.py:101: FutureWarning: Attribute standard_intercept_ was deprecated in version 0.23 and will be removed in 0.25.\n",
      "  warnings.warn(msg, category=FutureWarning)\n",
      "/home/chris/anaconda3/lib/python3.7/site-packages/sklearn/utils/deprecation.py:101: FutureWarning: Attribute average_coef_ was deprecated in version 0.23 and will be removed in 0.25.\n",
      "  warnings.warn(msg, category=FutureWarning)\n",
      "/home/chris/anaconda3/lib/python3.7/site-packages/sklearn/utils/deprecation.py:101: FutureWarning: Attribute average_intercept_ was deprecated in version 0.23 and will be removed in 0.25.\n",
      "  warnings.warn(msg, category=FutureWarning)\n",
      "/home/chris/anaconda3/lib/python3.7/site-packages/sklearn/utils/deprecation.py:101: FutureWarning: Attribute standard_coef_ was deprecated in version 0.23 and will be removed in 0.25.\n",
      "  warnings.warn(msg, category=FutureWarning)\n",
      "/home/chris/anaconda3/lib/python3.7/site-packages/sklearn/utils/deprecation.py:101: FutureWarning: Attribute standard_intercept_ was deprecated in version 0.23 and will be removed in 0.25.\n",
      "  warnings.warn(msg, category=FutureWarning)\n",
      "/home/chris/anaconda3/lib/python3.7/site-packages/sklearn/utils/deprecation.py:101: FutureWarning: Attribute average_coef_ was deprecated in version 0.23 and will be removed in 0.25.\n",
      "  warnings.warn(msg, category=FutureWarning)\n",
      "/home/chris/anaconda3/lib/python3.7/site-packages/sklearn/utils/deprecation.py:101: FutureWarning: Attribute average_intercept_ was deprecated in version 0.23 and will be removed in 0.25.\n",
      "  warnings.warn(msg, category=FutureWarning)\n",
      "/home/chris/anaconda3/lib/python3.7/site-packages/sklearn/discriminant_analysis.py:715: UserWarning: Variables are collinear\n",
      "  warnings.warn(\"Variables are collinear\")\n",
      "/home/chris/anaconda3/lib/python3.7/site-packages/sklearn/metrics/_classification.py:846: RuntimeWarning: invalid value encountered in double_scalars\n",
      "  mcc = cov_ytyp / np.sqrt(cov_ytyt * cov_ypyp)\n",
      "/home/chris/anaconda3/lib/python3.7/site-packages/xgboost/sklearn.py:1224: UserWarning: The use of label encoder in XGBClassifier is deprecated and will be removed in a future release. To remove this warning, do the following: 1) Pass option use_label_encoder=False when constructing XGBClassifier object; and 2) Encode your labels (y) as integers starting with 0, i.e. 0, 1, 2, ..., [num_class - 1].\n",
      "  warnings.warn(label_encoder_deprecation_msg, UserWarning)\n",
      "/home/chris/anaconda3/lib/python3.7/site-packages/xgboost/sklearn.py:1224: UserWarning: The use of label encoder in XGBClassifier is deprecated and will be removed in a future release. To remove this warning, do the following: 1) Pass option use_label_encoder=False when constructing XGBClassifier object; and 2) Encode your labels (y) as integers starting with 0, i.e. 0, 1, 2, ..., [num_class - 1].\n",
      "  warnings.warn(label_encoder_deprecation_msg, UserWarning)\n",
      "/home/chris/anaconda3/lib/python3.7/site-packages/sklearn/utils/deprecation.py:101: FutureWarning: The outputs_2d_ attribute is deprecated in version 0.22 and will be removed in version 0.24. It is equivalent to n_outputs_ > 1.\n",
      "  warnings.warn(msg, category=FutureWarning)\n",
      "/home/chris/anaconda3/lib/python3.7/site-packages/sklearn/metrics/_classification.py:1221: UndefinedMetricWarning: Precision is ill-defined and being set to 0.0 due to no predicted samples. Use `zero_division` parameter to control this behavior.\n",
      "  _warn_prf(average, modifier, msg_start, len(result))\n",
      "/home/chris/anaconda3/lib/python3.7/site-packages/sklearn/metrics/_classification.py:846: RuntimeWarning: invalid value encountered in double_scalars\n",
      "  mcc = cov_ytyp / np.sqrt(cov_ytyt * cov_ypyp)\n",
      "/home/chris/anaconda3/lib/python3.7/site-packages/sklearn/utils/deprecation.py:101: FutureWarning: The outputs_2d_ attribute is deprecated in version 0.22 and will be removed in version 0.24. It is equivalent to n_outputs_ > 1.\n",
      "  warnings.warn(msg, category=FutureWarning)\n",
      "/home/chris/anaconda3/lib/python3.7/site-packages/sklearn/metrics/_classification.py:1221: UndefinedMetricWarning: Precision is ill-defined and being set to 0.0 due to no predicted samples. Use `zero_division` parameter to control this behavior.\n",
      "  _warn_prf(average, modifier, msg_start, len(result))\n",
      "/home/chris/anaconda3/lib/python3.7/site-packages/sklearn/metrics/_classification.py:846: RuntimeWarning: invalid value encountered in double_scalars\n",
      "  mcc = cov_ytyp / np.sqrt(cov_ytyt * cov_ypyp)\n"
     ]
    },
    {
     "name": "stderr",
     "output_type": "stream",
     "text": [
      "/home/chris/anaconda3/lib/python3.7/site-packages/sklearn/utils/deprecation.py:101: FutureWarning: Attribute standard_coef_ was deprecated in version 0.23 and will be removed in 0.25.\n",
      "  warnings.warn(msg, category=FutureWarning)\n",
      "/home/chris/anaconda3/lib/python3.7/site-packages/sklearn/utils/deprecation.py:101: FutureWarning: Attribute standard_intercept_ was deprecated in version 0.23 and will be removed in 0.25.\n",
      "  warnings.warn(msg, category=FutureWarning)\n",
      "/home/chris/anaconda3/lib/python3.7/site-packages/sklearn/utils/deprecation.py:101: FutureWarning: Attribute average_coef_ was deprecated in version 0.23 and will be removed in 0.25.\n",
      "  warnings.warn(msg, category=FutureWarning)\n",
      "/home/chris/anaconda3/lib/python3.7/site-packages/sklearn/utils/deprecation.py:101: FutureWarning: Attribute average_intercept_ was deprecated in version 0.23 and will be removed in 0.25.\n",
      "  warnings.warn(msg, category=FutureWarning)\n",
      "/home/chris/anaconda3/lib/python3.7/site-packages/sklearn/utils/deprecation.py:101: FutureWarning: Attribute standard_coef_ was deprecated in version 0.23 and will be removed in 0.25.\n",
      "  warnings.warn(msg, category=FutureWarning)\n",
      "/home/chris/anaconda3/lib/python3.7/site-packages/sklearn/utils/deprecation.py:101: FutureWarning: Attribute standard_intercept_ was deprecated in version 0.23 and will be removed in 0.25.\n",
      "  warnings.warn(msg, category=FutureWarning)\n",
      "/home/chris/anaconda3/lib/python3.7/site-packages/sklearn/utils/deprecation.py:101: FutureWarning: Attribute average_coef_ was deprecated in version 0.23 and will be removed in 0.25.\n",
      "  warnings.warn(msg, category=FutureWarning)\n",
      "/home/chris/anaconda3/lib/python3.7/site-packages/sklearn/utils/deprecation.py:101: FutureWarning: Attribute average_intercept_ was deprecated in version 0.23 and will be removed in 0.25.\n",
      "  warnings.warn(msg, category=FutureWarning)\n",
      "/home/chris/anaconda3/lib/python3.7/site-packages/sklearn/discriminant_analysis.py:715: UserWarning: Variables are collinear\n",
      "  warnings.warn(\"Variables are collinear\")\n",
      "/home/chris/anaconda3/lib/python3.7/site-packages/sklearn/discriminant_analysis.py:715: UserWarning: Variables are collinear\n",
      "  warnings.warn(\"Variables are collinear\")\n",
      "/home/chris/anaconda3/lib/python3.7/site-packages/xgboost/sklearn.py:1224: UserWarning: The use of label encoder in XGBClassifier is deprecated and will be removed in a future release. To remove this warning, do the following: 1) Pass option use_label_encoder=False when constructing XGBClassifier object; and 2) Encode your labels (y) as integers starting with 0, i.e. 0, 1, 2, ..., [num_class - 1].\n",
      "  warnings.warn(label_encoder_deprecation_msg, UserWarning)\n",
      "/home/chris/anaconda3/lib/python3.7/site-packages/xgboost/sklearn.py:1224: UserWarning: The use of label encoder in XGBClassifier is deprecated and will be removed in a future release. To remove this warning, do the following: 1) Pass option use_label_encoder=False when constructing XGBClassifier object; and 2) Encode your labels (y) as integers starting with 0, i.e. 0, 1, 2, ..., [num_class - 1].\n",
      "  warnings.warn(label_encoder_deprecation_msg, UserWarning)\n",
      "/home/chris/anaconda3/lib/python3.7/site-packages/sklearn/utils/deprecation.py:101: FutureWarning: The outputs_2d_ attribute is deprecated in version 0.22 and will be removed in version 0.24. It is equivalent to n_outputs_ > 1.\n",
      "  warnings.warn(msg, category=FutureWarning)\n",
      "/home/chris/anaconda3/lib/python3.7/site-packages/sklearn/metrics/_classification.py:1221: UndefinedMetricWarning: Precision is ill-defined and being set to 0.0 due to no predicted samples. Use `zero_division` parameter to control this behavior.\n",
      "  _warn_prf(average, modifier, msg_start, len(result))\n",
      "/home/chris/anaconda3/lib/python3.7/site-packages/sklearn/metrics/_classification.py:846: RuntimeWarning: invalid value encountered in double_scalars\n",
      "  mcc = cov_ytyp / np.sqrt(cov_ytyt * cov_ypyp)\n"
     ]
    }
   ],
   "source": [
    "predict_model(top5Models[6])"
   ]
  },
  {
   "cell_type": "code",
   "execution_count": 31,
   "id": "d5472141",
   "metadata": {},
   "outputs": [
    {
     "data": {
      "text/html": [
       "<style type=\"text/css\">\n",
       "#T_3b0f3_ th {\n",
       "  text-align: left;\n",
       "}\n",
       "#T_3b0f3_row0_col0, #T_3b0f3_row0_col3, #T_3b0f3_row1_col0, #T_3b0f3_row1_col1, #T_3b0f3_row1_col2, #T_3b0f3_row1_col3, #T_3b0f3_row1_col4, #T_3b0f3_row1_col5, #T_3b0f3_row1_col6, #T_3b0f3_row1_col7, #T_3b0f3_row2_col0, #T_3b0f3_row2_col1, #T_3b0f3_row2_col2, #T_3b0f3_row2_col3, #T_3b0f3_row2_col4, #T_3b0f3_row2_col5, #T_3b0f3_row2_col6, #T_3b0f3_row2_col7, #T_3b0f3_row3_col0, #T_3b0f3_row3_col1, #T_3b0f3_row3_col2, #T_3b0f3_row3_col3, #T_3b0f3_row3_col4, #T_3b0f3_row3_col5, #T_3b0f3_row3_col6, #T_3b0f3_row3_col7, #T_3b0f3_row4_col0, #T_3b0f3_row4_col1, #T_3b0f3_row4_col2, #T_3b0f3_row4_col4, #T_3b0f3_row4_col5, #T_3b0f3_row4_col6, #T_3b0f3_row4_col7, #T_3b0f3_row5_col0, #T_3b0f3_row5_col1, #T_3b0f3_row5_col2, #T_3b0f3_row5_col3, #T_3b0f3_row5_col4, #T_3b0f3_row5_col5, #T_3b0f3_row5_col6, #T_3b0f3_row5_col7 {\n",
       "  text-align: left;\n",
       "}\n",
       "#T_3b0f3_row0_col1, #T_3b0f3_row0_col2, #T_3b0f3_row0_col4, #T_3b0f3_row0_col5, #T_3b0f3_row0_col6, #T_3b0f3_row0_col7, #T_3b0f3_row4_col3 {\n",
       "  text-align: left;\n",
       "  background-color: yellow;\n",
       "}\n",
       "#T_3b0f3_row0_col8, #T_3b0f3_row1_col8, #T_3b0f3_row2_col8, #T_3b0f3_row3_col8 {\n",
       "  text-align: left;\n",
       "  background-color: lightgrey;\n",
       "}\n",
       "#T_3b0f3_row4_col8, #T_3b0f3_row5_col8 {\n",
       "  text-align: left;\n",
       "  background-color: yellow;\n",
       "  background-color: lightgrey;\n",
       "}\n",
       "</style>\n",
       "<table id=\"T_3b0f3_\">\n",
       "  <thead>\n",
       "    <tr>\n",
       "      <th class=\"blank level0\" >&nbsp;</th>\n",
       "      <th class=\"col_heading level0 col0\" >Model</th>\n",
       "      <th class=\"col_heading level0 col1\" >Accuracy</th>\n",
       "      <th class=\"col_heading level0 col2\" >AUC</th>\n",
       "      <th class=\"col_heading level0 col3\" >Recall</th>\n",
       "      <th class=\"col_heading level0 col4\" >Prec.</th>\n",
       "      <th class=\"col_heading level0 col5\" >F1</th>\n",
       "      <th class=\"col_heading level0 col6\" >Kappa</th>\n",
       "      <th class=\"col_heading level0 col7\" >MCC</th>\n",
       "      <th class=\"col_heading level0 col8\" >TT (Sec)</th>\n",
       "    </tr>\n",
       "  </thead>\n",
       "  <tbody>\n",
       "    <tr>\n",
       "      <th id=\"T_3b0f3_level0_row0\" class=\"row_heading level0 row0\" >rf</th>\n",
       "      <td id=\"T_3b0f3_row0_col0\" class=\"data row0 col0\" >Random Forest Classifier</td>\n",
       "      <td id=\"T_3b0f3_row0_col1\" class=\"data row0 col1\" >0.8877</td>\n",
       "      <td id=\"T_3b0f3_row0_col2\" class=\"data row0 col2\" >0.9505</td>\n",
       "      <td id=\"T_3b0f3_row0_col3\" class=\"data row0 col3\" >0.8750</td>\n",
       "      <td id=\"T_3b0f3_row0_col4\" class=\"data row0 col4\" >0.8876</td>\n",
       "      <td id=\"T_3b0f3_row0_col5\" class=\"data row0 col5\" >0.8811</td>\n",
       "      <td id=\"T_3b0f3_row0_col6\" class=\"data row0 col6\" >0.7747</td>\n",
       "      <td id=\"T_3b0f3_row0_col7\" class=\"data row0 col7\" >0.7749</td>\n",
       "      <td id=\"T_3b0f3_row0_col8\" class=\"data row0 col8\" >0.3170</td>\n",
       "    </tr>\n",
       "    <tr>\n",
       "      <th id=\"T_3b0f3_level0_row1\" class=\"row_heading level0 row1\" >lr</th>\n",
       "      <td id=\"T_3b0f3_row1_col0\" class=\"data row1 col0\" >Logistic Regression</td>\n",
       "      <td id=\"T_3b0f3_row1_col1\" class=\"data row1 col1\" >0.8837</td>\n",
       "      <td id=\"T_3b0f3_row1_col2\" class=\"data row1 col2\" >0.9468</td>\n",
       "      <td id=\"T_3b0f3_row1_col3\" class=\"data row1 col3\" >0.8804</td>\n",
       "      <td id=\"T_3b0f3_row1_col4\" class=\"data row1 col4\" >0.8758</td>\n",
       "      <td id=\"T_3b0f3_row1_col5\" class=\"data row1 col5\" >0.8780</td>\n",
       "      <td id=\"T_3b0f3_row1_col6\" class=\"data row1 col6\" >0.7669</td>\n",
       "      <td id=\"T_3b0f3_row1_col7\" class=\"data row1 col7\" >0.7670</td>\n",
       "      <td id=\"T_3b0f3_row1_col8\" class=\"data row1 col8\" >0.2930</td>\n",
       "    </tr>\n",
       "    <tr>\n",
       "      <th id=\"T_3b0f3_level0_row2\" class=\"row_heading level0 row2\" >knn</th>\n",
       "      <td id=\"T_3b0f3_row2_col0\" class=\"data row2 col0\" >K Neighbors Classifier</td>\n",
       "      <td id=\"T_3b0f3_row2_col1\" class=\"data row2 col1\" >0.8740</td>\n",
       "      <td id=\"T_3b0f3_row2_col2\" class=\"data row2 col2\" >0.9293</td>\n",
       "      <td id=\"T_3b0f3_row2_col3\" class=\"data row2 col3\" >0.8624</td>\n",
       "      <td id=\"T_3b0f3_row2_col4\" class=\"data row2 col4\" >0.8715</td>\n",
       "      <td id=\"T_3b0f3_row2_col5\" class=\"data row2 col5\" >0.8668</td>\n",
       "      <td id=\"T_3b0f3_row2_col6\" class=\"data row2 col6\" >0.7472</td>\n",
       "      <td id=\"T_3b0f3_row2_col7\" class=\"data row2 col7\" >0.7474</td>\n",
       "      <td id=\"T_3b0f3_row2_col8\" class=\"data row2 col8\" >0.0610</td>\n",
       "    </tr>\n",
       "    <tr>\n",
       "      <th id=\"T_3b0f3_level0_row3\" class=\"row_heading level0 row3\" >dt</th>\n",
       "      <td id=\"T_3b0f3_row3_col0\" class=\"data row3 col0\" >Decision Tree Classifier</td>\n",
       "      <td id=\"T_3b0f3_row3_col1\" class=\"data row3 col1\" >0.8474</td>\n",
       "      <td id=\"T_3b0f3_row3_col2\" class=\"data row3 col2\" >0.8466</td>\n",
       "      <td id=\"T_3b0f3_row3_col3\" class=\"data row3 col3\" >0.8305</td>\n",
       "      <td id=\"T_3b0f3_row3_col4\" class=\"data row3 col4\" >0.8462</td>\n",
       "      <td id=\"T_3b0f3_row3_col5\" class=\"data row3 col5\" >0.8382</td>\n",
       "      <td id=\"T_3b0f3_row3_col6\" class=\"data row3 col6\" >0.6938</td>\n",
       "      <td id=\"T_3b0f3_row3_col7\" class=\"data row3 col7\" >0.6941</td>\n",
       "      <td id=\"T_3b0f3_row3_col8\" class=\"data row3 col8\" >0.0150</td>\n",
       "    </tr>\n",
       "    <tr>\n",
       "      <th id=\"T_3b0f3_level0_row4\" class=\"row_heading level0 row4\" >nb</th>\n",
       "      <td id=\"T_3b0f3_row4_col0\" class=\"data row4 col0\" >Naive Bayes</td>\n",
       "      <td id=\"T_3b0f3_row4_col1\" class=\"data row4 col1\" >0.8317</td>\n",
       "      <td id=\"T_3b0f3_row4_col2\" class=\"data row4 col2\" >0.9254</td>\n",
       "      <td id=\"T_3b0f3_row4_col3\" class=\"data row4 col3\" >0.9354</td>\n",
       "      <td id=\"T_3b0f3_row4_col4\" class=\"data row4 col4\" >0.7640</td>\n",
       "      <td id=\"T_3b0f3_row4_col5\" class=\"data row4 col5\" >0.8410</td>\n",
       "      <td id=\"T_3b0f3_row4_col6\" class=\"data row4 col6\" >0.6661</td>\n",
       "      <td id=\"T_3b0f3_row4_col7\" class=\"data row4 col7\" >0.6816</td>\n",
       "      <td id=\"T_3b0f3_row4_col8\" class=\"data row4 col8\" >0.0070</td>\n",
       "    </tr>\n",
       "    <tr>\n",
       "      <th id=\"T_3b0f3_level0_row5\" class=\"row_heading level0 row5\" >dummy</th>\n",
       "      <td id=\"T_3b0f3_row5_col0\" class=\"data row5 col0\" >Dummy Classifier</td>\n",
       "      <td id=\"T_3b0f3_row5_col1\" class=\"data row5 col1\" >0.5245</td>\n",
       "      <td id=\"T_3b0f3_row5_col2\" class=\"data row5 col2\" >0.5000</td>\n",
       "      <td id=\"T_3b0f3_row5_col3\" class=\"data row5 col3\" >0.0000</td>\n",
       "      <td id=\"T_3b0f3_row5_col4\" class=\"data row5 col4\" >0.0000</td>\n",
       "      <td id=\"T_3b0f3_row5_col5\" class=\"data row5 col5\" >0.0000</td>\n",
       "      <td id=\"T_3b0f3_row5_col6\" class=\"data row5 col6\" >0.0000</td>\n",
       "      <td id=\"T_3b0f3_row5_col7\" class=\"data row5 col7\" >0.0000</td>\n",
       "      <td id=\"T_3b0f3_row5_col8\" class=\"data row5 col8\" >0.0070</td>\n",
       "    </tr>\n",
       "  </tbody>\n",
       "</table>\n"
      ],
      "text/plain": [
       "<pandas.io.formats.style.Styler at 0x7fed4f4b35d0>"
      ]
     },
     "metadata": {},
     "output_type": "display_data"
    },
    {
     "name": "stderr",
     "output_type": "stream",
     "text": [
      "/home/chris/anaconda3/lib/python3.7/site-packages/sklearn/utils/deprecation.py:101: FutureWarning: The outputs_2d_ attribute is deprecated in version 0.22 and will be removed in version 0.24. It is equivalent to n_outputs_ > 1.\n",
      "  warnings.warn(msg, category=FutureWarning)\n",
      "/home/chris/anaconda3/lib/python3.7/site-packages/sklearn/metrics/_classification.py:1221: UndefinedMetricWarning: Precision is ill-defined and being set to 0.0 due to no predicted samples. Use `zero_division` parameter to control this behavior.\n",
      "  _warn_prf(average, modifier, msg_start, len(result))\n",
      "/home/chris/anaconda3/lib/python3.7/site-packages/sklearn/metrics/_classification.py:846: RuntimeWarning: invalid value encountered in double_scalars\n",
      "  mcc = cov_ytyp / np.sqrt(cov_ytyt * cov_ypyp)\n",
      "/home/chris/anaconda3/lib/python3.7/site-packages/sklearn/utils/deprecation.py:101: FutureWarning: The outputs_2d_ attribute is deprecated in version 0.22 and will be removed in version 0.24. It is equivalent to n_outputs_ > 1.\n",
      "  warnings.warn(msg, category=FutureWarning)\n",
      "/home/chris/anaconda3/lib/python3.7/site-packages/sklearn/metrics/_classification.py:1221: UndefinedMetricWarning: Precision is ill-defined and being set to 0.0 due to no predicted samples. Use `zero_division` parameter to control this behavior.\n",
      "  _warn_prf(average, modifier, msg_start, len(result))\n",
      "/home/chris/anaconda3/lib/python3.7/site-packages/sklearn/metrics/_classification.py:846: RuntimeWarning: invalid value encountered in double_scalars\n",
      "  mcc = cov_ytyp / np.sqrt(cov_ytyt * cov_ypyp)\n",
      "/home/chris/anaconda3/lib/python3.7/site-packages/sklearn/utils/deprecation.py:101: FutureWarning: The outputs_2d_ attribute is deprecated in version 0.22 and will be removed in version 0.24. It is equivalent to n_outputs_ > 1.\n",
      "  warnings.warn(msg, category=FutureWarning)\n",
      "/home/chris/anaconda3/lib/python3.7/site-packages/sklearn/metrics/_classification.py:1221: UndefinedMetricWarning: Precision is ill-defined and being set to 0.0 due to no predicted samples. Use `zero_division` parameter to control this behavior.\n",
      "  _warn_prf(average, modifier, msg_start, len(result))\n",
      "/home/chris/anaconda3/lib/python3.7/site-packages/sklearn/metrics/_classification.py:846: RuntimeWarning: invalid value encountered in double_scalars\n",
      "  mcc = cov_ytyp / np.sqrt(cov_ytyt * cov_ypyp)\n",
      "/home/chris/anaconda3/lib/python3.7/site-packages/sklearn/utils/deprecation.py:101: FutureWarning: The outputs_2d_ attribute is deprecated in version 0.22 and will be removed in version 0.24. It is equivalent to n_outputs_ > 1.\n",
      "  warnings.warn(msg, category=FutureWarning)\n",
      "/home/chris/anaconda3/lib/python3.7/site-packages/sklearn/metrics/_classification.py:1221: UndefinedMetricWarning: Precision is ill-defined and being set to 0.0 due to no predicted samples. Use `zero_division` parameter to control this behavior.\n",
      "  _warn_prf(average, modifier, msg_start, len(result))\n",
      "/home/chris/anaconda3/lib/python3.7/site-packages/sklearn/metrics/_classification.py:846: RuntimeWarning: invalid value encountered in double_scalars\n",
      "  mcc = cov_ytyp / np.sqrt(cov_ytyt * cov_ypyp)\n",
      "/home/chris/anaconda3/lib/python3.7/site-packages/sklearn/utils/deprecation.py:101: FutureWarning: The outputs_2d_ attribute is deprecated in version 0.22 and will be removed in version 0.24. It is equivalent to n_outputs_ > 1.\n",
      "  warnings.warn(msg, category=FutureWarning)\n",
      "/home/chris/anaconda3/lib/python3.7/site-packages/sklearn/metrics/_classification.py:1221: UndefinedMetricWarning: Precision is ill-defined and being set to 0.0 due to no predicted samples. Use `zero_division` parameter to control this behavior.\n",
      "  _warn_prf(average, modifier, msg_start, len(result))\n",
      "/home/chris/anaconda3/lib/python3.7/site-packages/sklearn/metrics/_classification.py:846: RuntimeWarning: invalid value encountered in double_scalars\n",
      "  mcc = cov_ytyp / np.sqrt(cov_ytyt * cov_ypyp)\n",
      "/home/chris/anaconda3/lib/python3.7/site-packages/sklearn/utils/deprecation.py:101: FutureWarning: The outputs_2d_ attribute is deprecated in version 0.22 and will be removed in version 0.24. It is equivalent to n_outputs_ > 1.\n",
      "  warnings.warn(msg, category=FutureWarning)\n",
      "/home/chris/anaconda3/lib/python3.7/site-packages/sklearn/metrics/_classification.py:1221: UndefinedMetricWarning: Precision is ill-defined and being set to 0.0 due to no predicted samples. Use `zero_division` parameter to control this behavior.\n",
      "  _warn_prf(average, modifier, msg_start, len(result))\n",
      "/home/chris/anaconda3/lib/python3.7/site-packages/sklearn/metrics/_classification.py:846: RuntimeWarning: invalid value encountered in double_scalars\n",
      "  mcc = cov_ytyp / np.sqrt(cov_ytyt * cov_ypyp)\n",
      "/home/chris/anaconda3/lib/python3.7/site-packages/sklearn/utils/deprecation.py:101: FutureWarning: The outputs_2d_ attribute is deprecated in version 0.22 and will be removed in version 0.24. It is equivalent to n_outputs_ > 1.\n",
      "  warnings.warn(msg, category=FutureWarning)\n",
      "/home/chris/anaconda3/lib/python3.7/site-packages/sklearn/metrics/_classification.py:1221: UndefinedMetricWarning: Precision is ill-defined and being set to 0.0 due to no predicted samples. Use `zero_division` parameter to control this behavior.\n",
      "  _warn_prf(average, modifier, msg_start, len(result))\n",
      "/home/chris/anaconda3/lib/python3.7/site-packages/sklearn/metrics/_classification.py:846: RuntimeWarning: invalid value encountered in double_scalars\n",
      "  mcc = cov_ytyp / np.sqrt(cov_ytyt * cov_ypyp)\n",
      "/home/chris/anaconda3/lib/python3.7/site-packages/sklearn/utils/deprecation.py:101: FutureWarning: The outputs_2d_ attribute is deprecated in version 0.22 and will be removed in version 0.24. It is equivalent to n_outputs_ > 1.\n",
      "  warnings.warn(msg, category=FutureWarning)\n",
      "/home/chris/anaconda3/lib/python3.7/site-packages/sklearn/metrics/_classification.py:1221: UndefinedMetricWarning: Precision is ill-defined and being set to 0.0 due to no predicted samples. Use `zero_division` parameter to control this behavior.\n",
      "  _warn_prf(average, modifier, msg_start, len(result))\n",
      "/home/chris/anaconda3/lib/python3.7/site-packages/sklearn/metrics/_classification.py:846: RuntimeWarning: invalid value encountered in double_scalars\n",
      "  mcc = cov_ytyp / np.sqrt(cov_ytyt * cov_ypyp)\n",
      "/home/chris/anaconda3/lib/python3.7/site-packages/sklearn/utils/deprecation.py:101: FutureWarning: The outputs_2d_ attribute is deprecated in version 0.22 and will be removed in version 0.24. It is equivalent to n_outputs_ > 1.\n",
      "  warnings.warn(msg, category=FutureWarning)\n",
      "/home/chris/anaconda3/lib/python3.7/site-packages/sklearn/metrics/_classification.py:1221: UndefinedMetricWarning: Precision is ill-defined and being set to 0.0 due to no predicted samples. Use `zero_division` parameter to control this behavior.\n",
      "  _warn_prf(average, modifier, msg_start, len(result))\n",
      "/home/chris/anaconda3/lib/python3.7/site-packages/sklearn/metrics/_classification.py:846: RuntimeWarning: invalid value encountered in double_scalars\n",
      "  mcc = cov_ytyp / np.sqrt(cov_ytyt * cov_ypyp)\n",
      "/home/chris/anaconda3/lib/python3.7/site-packages/sklearn/utils/deprecation.py:101: FutureWarning: The outputs_2d_ attribute is deprecated in version 0.22 and will be removed in version 0.24. It is equivalent to n_outputs_ > 1.\n",
      "  warnings.warn(msg, category=FutureWarning)\n",
      "/home/chris/anaconda3/lib/python3.7/site-packages/sklearn/metrics/_classification.py:1221: UndefinedMetricWarning: Precision is ill-defined and being set to 0.0 due to no predicted samples. Use `zero_division` parameter to control this behavior.\n",
      "  _warn_prf(average, modifier, msg_start, len(result))\n",
      "/home/chris/anaconda3/lib/python3.7/site-packages/sklearn/metrics/_classification.py:846: RuntimeWarning: invalid value encountered in double_scalars\n",
      "  mcc = cov_ytyp / np.sqrt(cov_ytyt * cov_ypyp)\n"
     ]
    }
   ],
   "source": [
    "best = compare_models(include = ['lr','dt','knn','dummy','rf','nb'])"
   ]
  },
  {
   "cell_type": "code",
   "execution_count": null,
   "id": "bd4cc3b2",
   "metadata": {},
   "outputs": [],
   "source": []
  },
  {
   "cell_type": "code",
   "execution_count": null,
   "id": "2f4d8949",
   "metadata": {
    "scrolled": true
   },
   "outputs": [],
   "source": []
  }
 ],
 "metadata": {
  "kernelspec": {
   "display_name": "Python 3 (ipykernel)",
   "language": "python",
   "name": "python3"
  },
  "language_info": {
   "codemirror_mode": {
    "name": "ipython",
    "version": 3
   },
   "file_extension": ".py",
   "mimetype": "text/x-python",
   "name": "python",
   "nbconvert_exporter": "python",
   "pygments_lexer": "ipython3",
   "version": "3.7.11"
  }
 },
 "nbformat": 4,
 "nbformat_minor": 5
}
