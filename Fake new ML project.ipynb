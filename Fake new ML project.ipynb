{
 "cells": [
  {
   "cell_type": "code",
   "execution_count": 1,
   "id": "f9d1cff5",
   "metadata": {},
   "outputs": [
    {
     "name": "stderr",
     "output_type": "stream",
     "text": [
      "/home/chris/anaconda3/lib/python3.7/site-packages/spacy/util.py:271: UserWarning: [W031] Model 'en_core_web_sm' (2.2.0) requires spaCy v2.2 and is incompatible with the current spaCy version (2.3.0). This may lead to unexpected results or runtime errors. To resolve this, download a newer compatible model or retrain your custom model with the current spaCy version. For more details and available updates, run: python -m spacy validate\n",
      "  warnings.warn(warn_msg)\n"
     ]
    }
   ],
   "source": [
    "import en_core_web_sm\n",
    "nlp = en_core_web_sm.load()"
   ]
  },
  {
   "cell_type": "code",
   "execution_count": 2,
   "id": "e3fbe10e",
   "metadata": {},
   "outputs": [
    {
     "data": {
      "text/html": [
       "<div>\n",
       "<style scoped>\n",
       "    .dataframe tbody tr th:only-of-type {\n",
       "        vertical-align: middle;\n",
       "    }\n",
       "\n",
       "    .dataframe tbody tr th {\n",
       "        vertical-align: top;\n",
       "    }\n",
       "\n",
       "    .dataframe thead th {\n",
       "        text-align: right;\n",
       "    }\n",
       "</style>\n",
       "<table border=\"1\" class=\"dataframe\">\n",
       "  <thead>\n",
       "    <tr style=\"text-align: right;\">\n",
       "      <th></th>\n",
       "      <th>title</th>\n",
       "      <th>text</th>\n",
       "      <th>subject</th>\n",
       "      <th>date</th>\n",
       "    </tr>\n",
       "  </thead>\n",
       "  <tbody>\n",
       "    <tr>\n",
       "      <th>0</th>\n",
       "      <td>As U.S. budget fight looms, Republicans flip t...</td>\n",
       "      <td>WASHINGTON (Reuters) - The head of a conservat...</td>\n",
       "      <td>politicsNews</td>\n",
       "      <td>December 31, 2017</td>\n",
       "    </tr>\n",
       "    <tr>\n",
       "      <th>1</th>\n",
       "      <td>U.S. military to accept transgender recruits o...</td>\n",
       "      <td>WASHINGTON (Reuters) - Transgender people will...</td>\n",
       "      <td>politicsNews</td>\n",
       "      <td>December 29, 2017</td>\n",
       "    </tr>\n",
       "    <tr>\n",
       "      <th>2</th>\n",
       "      <td>Senior U.S. Republican senator: 'Let Mr. Muell...</td>\n",
       "      <td>WASHINGTON (Reuters) - The special counsel inv...</td>\n",
       "      <td>politicsNews</td>\n",
       "      <td>December 31, 2017</td>\n",
       "    </tr>\n",
       "    <tr>\n",
       "      <th>3</th>\n",
       "      <td>FBI Russia probe helped by Australian diplomat...</td>\n",
       "      <td>WASHINGTON (Reuters) - Trump campaign adviser ...</td>\n",
       "      <td>politicsNews</td>\n",
       "      <td>December 30, 2017</td>\n",
       "    </tr>\n",
       "    <tr>\n",
       "      <th>4</th>\n",
       "      <td>Trump wants Postal Service to charge 'much mor...</td>\n",
       "      <td>SEATTLE/WASHINGTON (Reuters) - President Donal...</td>\n",
       "      <td>politicsNews</td>\n",
       "      <td>December 29, 2017</td>\n",
       "    </tr>\n",
       "  </tbody>\n",
       "</table>\n",
       "</div>"
      ],
      "text/plain": [
       "                                               title  \\\n",
       "0  As U.S. budget fight looms, Republicans flip t...   \n",
       "1  U.S. military to accept transgender recruits o...   \n",
       "2  Senior U.S. Republican senator: 'Let Mr. Muell...   \n",
       "3  FBI Russia probe helped by Australian diplomat...   \n",
       "4  Trump wants Postal Service to charge 'much mor...   \n",
       "\n",
       "                                                text       subject  \\\n",
       "0  WASHINGTON (Reuters) - The head of a conservat...  politicsNews   \n",
       "1  WASHINGTON (Reuters) - Transgender people will...  politicsNews   \n",
       "2  WASHINGTON (Reuters) - The special counsel inv...  politicsNews   \n",
       "3  WASHINGTON (Reuters) - Trump campaign adviser ...  politicsNews   \n",
       "4  SEATTLE/WASHINGTON (Reuters) - President Donal...  politicsNews   \n",
       "\n",
       "                 date  \n",
       "0  December 31, 2017   \n",
       "1  December 29, 2017   \n",
       "2  December 31, 2017   \n",
       "3  December 30, 2017   \n",
       "4  December 29, 2017   "
      ]
     },
     "execution_count": 2,
     "metadata": {},
     "output_type": "execute_result"
    }
   ],
   "source": [
    "import pandas as pd\n",
    "\n",
    "df_true = pd.read_csv('True.csv')\n",
    "df_fake = pd.read_csv('Fake.csv')\n",
    "facebook_fake = pd.read_csv('facebook-fact-check.csv')\n",
    "\n",
    "df_true.head()"
   ]
  },
  {
   "cell_type": "code",
   "execution_count": 3,
   "id": "0bd18562",
   "metadata": {},
   "outputs": [
    {
     "data": {
      "text/html": [
       "<div>\n",
       "<style scoped>\n",
       "    .dataframe tbody tr th:only-of-type {\n",
       "        vertical-align: middle;\n",
       "    }\n",
       "\n",
       "    .dataframe tbody tr th {\n",
       "        vertical-align: top;\n",
       "    }\n",
       "\n",
       "    .dataframe thead th {\n",
       "        text-align: right;\n",
       "    }\n",
       "</style>\n",
       "<table border=\"1\" class=\"dataframe\">\n",
       "  <thead>\n",
       "    <tr style=\"text-align: right;\">\n",
       "      <th></th>\n",
       "      <th>title</th>\n",
       "      <th>text</th>\n",
       "      <th>subject</th>\n",
       "      <th>date</th>\n",
       "    </tr>\n",
       "  </thead>\n",
       "  <tbody>\n",
       "    <tr>\n",
       "      <th>0</th>\n",
       "      <td>Donald Trump Sends Out Embarrassing New Year’...</td>\n",
       "      <td>Donald Trump just couldn t wish all Americans ...</td>\n",
       "      <td>News</td>\n",
       "      <td>December 31, 2017</td>\n",
       "    </tr>\n",
       "    <tr>\n",
       "      <th>1</th>\n",
       "      <td>Drunk Bragging Trump Staffer Started Russian ...</td>\n",
       "      <td>House Intelligence Committee Chairman Devin Nu...</td>\n",
       "      <td>News</td>\n",
       "      <td>December 31, 2017</td>\n",
       "    </tr>\n",
       "    <tr>\n",
       "      <th>2</th>\n",
       "      <td>Sheriff David Clarke Becomes An Internet Joke...</td>\n",
       "      <td>On Friday, it was revealed that former Milwauk...</td>\n",
       "      <td>News</td>\n",
       "      <td>December 30, 2017</td>\n",
       "    </tr>\n",
       "    <tr>\n",
       "      <th>3</th>\n",
       "      <td>Trump Is So Obsessed He Even Has Obama’s Name...</td>\n",
       "      <td>On Christmas day, Donald Trump announced that ...</td>\n",
       "      <td>News</td>\n",
       "      <td>December 29, 2017</td>\n",
       "    </tr>\n",
       "    <tr>\n",
       "      <th>4</th>\n",
       "      <td>Pope Francis Just Called Out Donald Trump Dur...</td>\n",
       "      <td>Pope Francis used his annual Christmas Day mes...</td>\n",
       "      <td>News</td>\n",
       "      <td>December 25, 2017</td>\n",
       "    </tr>\n",
       "  </tbody>\n",
       "</table>\n",
       "</div>"
      ],
      "text/plain": [
       "                                               title  \\\n",
       "0   Donald Trump Sends Out Embarrassing New Year’...   \n",
       "1   Drunk Bragging Trump Staffer Started Russian ...   \n",
       "2   Sheriff David Clarke Becomes An Internet Joke...   \n",
       "3   Trump Is So Obsessed He Even Has Obama’s Name...   \n",
       "4   Pope Francis Just Called Out Donald Trump Dur...   \n",
       "\n",
       "                                                text subject  \\\n",
       "0  Donald Trump just couldn t wish all Americans ...    News   \n",
       "1  House Intelligence Committee Chairman Devin Nu...    News   \n",
       "2  On Friday, it was revealed that former Milwauk...    News   \n",
       "3  On Christmas day, Donald Trump announced that ...    News   \n",
       "4  Pope Francis used his annual Christmas Day mes...    News   \n",
       "\n",
       "                date  \n",
       "0  December 31, 2017  \n",
       "1  December 31, 2017  \n",
       "2  December 30, 2017  \n",
       "3  December 29, 2017  \n",
       "4  December 25, 2017  "
      ]
     },
     "execution_count": 3,
     "metadata": {},
     "output_type": "execute_result"
    }
   ],
   "source": [
    "df_fake.head()"
   ]
  },
  {
   "cell_type": "code",
   "execution_count": 4,
   "id": "e31b5903",
   "metadata": {},
   "outputs": [
    {
     "data": {
      "text/html": [
       "<div>\n",
       "<style scoped>\n",
       "    .dataframe tbody tr th:only-of-type {\n",
       "        vertical-align: middle;\n",
       "    }\n",
       "\n",
       "    .dataframe tbody tr th {\n",
       "        vertical-align: top;\n",
       "    }\n",
       "\n",
       "    .dataframe thead th {\n",
       "        text-align: right;\n",
       "    }\n",
       "</style>\n",
       "<table border=\"1\" class=\"dataframe\">\n",
       "  <thead>\n",
       "    <tr style=\"text-align: right;\">\n",
       "      <th></th>\n",
       "      <th>account_id</th>\n",
       "      <th>post_id</th>\n",
       "      <th>Category</th>\n",
       "      <th>Page</th>\n",
       "      <th>Post URL</th>\n",
       "      <th>Date Published</th>\n",
       "      <th>Post Type</th>\n",
       "      <th>Rating</th>\n",
       "      <th>Debate</th>\n",
       "      <th>share_count</th>\n",
       "      <th>reaction_count</th>\n",
       "      <th>comment_count</th>\n",
       "    </tr>\n",
       "  </thead>\n",
       "  <tbody>\n",
       "    <tr>\n",
       "      <th>0</th>\n",
       "      <td>184096565021911</td>\n",
       "      <td>1035057923259100</td>\n",
       "      <td>mainstream</td>\n",
       "      <td>ABC News Politics</td>\n",
       "      <td>https://www.facebook.com/ABCNewsPolitics/posts...</td>\n",
       "      <td>2016-09-19</td>\n",
       "      <td>video</td>\n",
       "      <td>no factual content</td>\n",
       "      <td>NaN</td>\n",
       "      <td>NaN</td>\n",
       "      <td>146.0</td>\n",
       "      <td>15.0</td>\n",
       "    </tr>\n",
       "    <tr>\n",
       "      <th>1</th>\n",
       "      <td>184096565021911</td>\n",
       "      <td>1035269309904628</td>\n",
       "      <td>mainstream</td>\n",
       "      <td>ABC News Politics</td>\n",
       "      <td>https://www.facebook.com/ABCNewsPolitics/posts...</td>\n",
       "      <td>2016-09-19</td>\n",
       "      <td>link</td>\n",
       "      <td>mostly true</td>\n",
       "      <td>NaN</td>\n",
       "      <td>1.0</td>\n",
       "      <td>33.0</td>\n",
       "      <td>34.0</td>\n",
       "    </tr>\n",
       "    <tr>\n",
       "      <th>2</th>\n",
       "      <td>184096565021911</td>\n",
       "      <td>1035305953234297</td>\n",
       "      <td>mainstream</td>\n",
       "      <td>ABC News Politics</td>\n",
       "      <td>https://www.facebook.com/ABCNewsPolitics/posts...</td>\n",
       "      <td>2016-09-19</td>\n",
       "      <td>link</td>\n",
       "      <td>mostly true</td>\n",
       "      <td>NaN</td>\n",
       "      <td>34.0</td>\n",
       "      <td>63.0</td>\n",
       "      <td>27.0</td>\n",
       "    </tr>\n",
       "    <tr>\n",
       "      <th>3</th>\n",
       "      <td>184096565021911</td>\n",
       "      <td>1035322636565962</td>\n",
       "      <td>mainstream</td>\n",
       "      <td>ABC News Politics</td>\n",
       "      <td>https://www.facebook.com/ABCNewsPolitics/posts...</td>\n",
       "      <td>2016-09-19</td>\n",
       "      <td>link</td>\n",
       "      <td>mostly true</td>\n",
       "      <td>NaN</td>\n",
       "      <td>35.0</td>\n",
       "      <td>170.0</td>\n",
       "      <td>86.0</td>\n",
       "    </tr>\n",
       "    <tr>\n",
       "      <th>4</th>\n",
       "      <td>184096565021911</td>\n",
       "      <td>1035352946562931</td>\n",
       "      <td>mainstream</td>\n",
       "      <td>ABC News Politics</td>\n",
       "      <td>https://www.facebook.com/ABCNewsPolitics/posts...</td>\n",
       "      <td>2016-09-19</td>\n",
       "      <td>video</td>\n",
       "      <td>mostly true</td>\n",
       "      <td>NaN</td>\n",
       "      <td>568.0</td>\n",
       "      <td>3188.0</td>\n",
       "      <td>2815.0</td>\n",
       "    </tr>\n",
       "  </tbody>\n",
       "</table>\n",
       "</div>"
      ],
      "text/plain": [
       "        account_id           post_id    Category               Page  \\\n",
       "0  184096565021911  1035057923259100  mainstream  ABC News Politics   \n",
       "1  184096565021911  1035269309904628  mainstream  ABC News Politics   \n",
       "2  184096565021911  1035305953234297  mainstream  ABC News Politics   \n",
       "3  184096565021911  1035322636565962  mainstream  ABC News Politics   \n",
       "4  184096565021911  1035352946562931  mainstream  ABC News Politics   \n",
       "\n",
       "                                            Post URL Date Published Post Type  \\\n",
       "0  https://www.facebook.com/ABCNewsPolitics/posts...     2016-09-19     video   \n",
       "1  https://www.facebook.com/ABCNewsPolitics/posts...     2016-09-19      link   \n",
       "2  https://www.facebook.com/ABCNewsPolitics/posts...     2016-09-19      link   \n",
       "3  https://www.facebook.com/ABCNewsPolitics/posts...     2016-09-19      link   \n",
       "4  https://www.facebook.com/ABCNewsPolitics/posts...     2016-09-19     video   \n",
       "\n",
       "               Rating Debate  share_count  reaction_count  comment_count  \n",
       "0  no factual content    NaN          NaN           146.0           15.0  \n",
       "1         mostly true    NaN          1.0            33.0           34.0  \n",
       "2         mostly true    NaN         34.0            63.0           27.0  \n",
       "3         mostly true    NaN         35.0           170.0           86.0  \n",
       "4         mostly true    NaN        568.0          3188.0         2815.0  "
      ]
     },
     "execution_count": 4,
     "metadata": {},
     "output_type": "execute_result"
    }
   ],
   "source": [
    "facebook_fake.head()"
   ]
  },
  {
   "cell_type": "code",
   "execution_count": 5,
   "id": "196088f9",
   "metadata": {},
   "outputs": [
    {
     "data": {
      "text/plain": [
       "((21417, 4), (23481, 4), (2282, 12))"
      ]
     },
     "execution_count": 5,
     "metadata": {},
     "output_type": "execute_result"
    }
   ],
   "source": [
    "df_true.shape, df_fake.shape,facebook_fake.shape"
   ]
  },
  {
   "cell_type": "code",
   "execution_count": 6,
   "id": "b3b41332",
   "metadata": {},
   "outputs": [],
   "source": [
    "df_true['class']=1\n",
    "df_fake['class']=0"
   ]
  },
  {
   "cell_type": "markdown",
   "id": "2bbb7f8c",
   "metadata": {},
   "source": [
    "We merge our 2 datasets of real news and fake news with a new feature depicting which news is real news and which are fake"
   ]
  },
  {
   "cell_type": "code",
   "execution_count": 7,
   "id": "83e9571d",
   "metadata": {},
   "outputs": [],
   "source": [
    "merged_df = pd.concat([df_true,df_fake])"
   ]
  },
  {
   "cell_type": "code",
   "execution_count": 8,
   "id": "e0588ec8",
   "metadata": {},
   "outputs": [
    {
     "data": {
      "text/html": [
       "<div>\n",
       "<style scoped>\n",
       "    .dataframe tbody tr th:only-of-type {\n",
       "        vertical-align: middle;\n",
       "    }\n",
       "\n",
       "    .dataframe tbody tr th {\n",
       "        vertical-align: top;\n",
       "    }\n",
       "\n",
       "    .dataframe thead th {\n",
       "        text-align: right;\n",
       "    }\n",
       "</style>\n",
       "<table border=\"1\" class=\"dataframe\">\n",
       "  <thead>\n",
       "    <tr style=\"text-align: right;\">\n",
       "      <th></th>\n",
       "      <th>title</th>\n",
       "      <th>text</th>\n",
       "      <th>subject</th>\n",
       "      <th>date</th>\n",
       "      <th>class</th>\n",
       "    </tr>\n",
       "  </thead>\n",
       "  <tbody>\n",
       "    <tr>\n",
       "      <th>0</th>\n",
       "      <td>As U.S. budget fight looms, Republicans flip t...</td>\n",
       "      <td>WASHINGTON (Reuters) - The head of a conservat...</td>\n",
       "      <td>politicsNews</td>\n",
       "      <td>December 31, 2017</td>\n",
       "      <td>1</td>\n",
       "    </tr>\n",
       "    <tr>\n",
       "      <th>1</th>\n",
       "      <td>U.S. military to accept transgender recruits o...</td>\n",
       "      <td>WASHINGTON (Reuters) - Transgender people will...</td>\n",
       "      <td>politicsNews</td>\n",
       "      <td>December 29, 2017</td>\n",
       "      <td>1</td>\n",
       "    </tr>\n",
       "    <tr>\n",
       "      <th>2</th>\n",
       "      <td>Senior U.S. Republican senator: 'Let Mr. Muell...</td>\n",
       "      <td>WASHINGTON (Reuters) - The special counsel inv...</td>\n",
       "      <td>politicsNews</td>\n",
       "      <td>December 31, 2017</td>\n",
       "      <td>1</td>\n",
       "    </tr>\n",
       "    <tr>\n",
       "      <th>3</th>\n",
       "      <td>FBI Russia probe helped by Australian diplomat...</td>\n",
       "      <td>WASHINGTON (Reuters) - Trump campaign adviser ...</td>\n",
       "      <td>politicsNews</td>\n",
       "      <td>December 30, 2017</td>\n",
       "      <td>1</td>\n",
       "    </tr>\n",
       "    <tr>\n",
       "      <th>4</th>\n",
       "      <td>Trump wants Postal Service to charge 'much mor...</td>\n",
       "      <td>SEATTLE/WASHINGTON (Reuters) - President Donal...</td>\n",
       "      <td>politicsNews</td>\n",
       "      <td>December 29, 2017</td>\n",
       "      <td>1</td>\n",
       "    </tr>\n",
       "  </tbody>\n",
       "</table>\n",
       "</div>"
      ],
      "text/plain": [
       "                                               title  \\\n",
       "0  As U.S. budget fight looms, Republicans flip t...   \n",
       "1  U.S. military to accept transgender recruits o...   \n",
       "2  Senior U.S. Republican senator: 'Let Mr. Muell...   \n",
       "3  FBI Russia probe helped by Australian diplomat...   \n",
       "4  Trump wants Postal Service to charge 'much mor...   \n",
       "\n",
       "                                                text       subject  \\\n",
       "0  WASHINGTON (Reuters) - The head of a conservat...  politicsNews   \n",
       "1  WASHINGTON (Reuters) - Transgender people will...  politicsNews   \n",
       "2  WASHINGTON (Reuters) - The special counsel inv...  politicsNews   \n",
       "3  WASHINGTON (Reuters) - Trump campaign adviser ...  politicsNews   \n",
       "4  SEATTLE/WASHINGTON (Reuters) - President Donal...  politicsNews   \n",
       "\n",
       "                 date  class  \n",
       "0  December 31, 2017       1  \n",
       "1  December 29, 2017       1  \n",
       "2  December 31, 2017       1  \n",
       "3  December 30, 2017       1  \n",
       "4  December 29, 2017       1  "
      ]
     },
     "execution_count": 8,
     "metadata": {},
     "output_type": "execute_result"
    }
   ],
   "source": [
    "merged_df.head()"
   ]
  },
  {
   "cell_type": "markdown",
   "id": "11aabe9d",
   "metadata": {},
   "source": [
    "After the merge we want to check the features to see if any contain NaN which can throw our model off below we can see there are no NaN within our dataset"
   ]
  },
  {
   "cell_type": "code",
   "execution_count": 9,
   "id": "6159ff01",
   "metadata": {},
   "outputs": [
    {
     "data": {
      "text/plain": [
       "title      0\n",
       "text       0\n",
       "subject    0\n",
       "date       0\n",
       "class      0\n",
       "dtype: int64"
      ]
     },
     "execution_count": 9,
     "metadata": {},
     "output_type": "execute_result"
    }
   ],
   "source": [
    "merged_df.isna().sum()"
   ]
  },
  {
   "cell_type": "markdown",
   "id": "372b6c63",
   "metadata": {},
   "source": [
    "After the merge we need to check the balance between our dataset between real and fake, because if one is significantly larger than the other we can overfit to our data"
   ]
  },
  {
   "cell_type": "code",
   "execution_count": 10,
   "id": "e976013c",
   "metadata": {},
   "outputs": [
    {
     "name": "stderr",
     "output_type": "stream",
     "text": [
      "/home/chris/anaconda3/lib/python3.7/site-packages/seaborn/_decorators.py:43: FutureWarning: Pass the following variable as a keyword arg: x. From version 0.12, the only valid positional argument will be `data`, and passing other arguments without an explicit keyword will result in an error or misinterpretation.\n",
      "  FutureWarning\n"
     ]
    },
    {
     "data": {
      "text/plain": [
       "<AxesSubplot:xlabel='class', ylabel='count'>"
      ]
     },
     "execution_count": 10,
     "metadata": {},
     "output_type": "execute_result"
    },
    {
     "data": {
      "image/png": "[encoded data removed]",
      "text/plain": [
       "<Figure size 432x288 with 1 Axes>"
      ]
     },
     "metadata": {
      "needs_background": "light"
     },
     "output_type": "display_data"
    }
   ],
   "source": [
    "import seaborn as sns\n",
    "sns.countplot(merged_df['class'])"
   ]
  },
  {
   "cell_type": "code",
   "execution_count": 11,
   "id": "8b3fda72",
   "metadata": {},
   "outputs": [
    {
     "name": "stdout",
     "output_type": "stream",
     "text": [
      "<class 'pandas.core.frame.DataFrame'>\n",
      "RangeIndex: 10000 entries, 0 to 9999\n",
      "Data columns (total 5 columns):\n",
      " #   Column   Non-Null Count  Dtype \n",
      "---  ------   --------------  ----- \n",
      " 0   title    10000 non-null  object\n",
      " 1   text     10000 non-null  object\n",
      " 2   subject  10000 non-null  object\n",
      " 3   date     10000 non-null  object\n",
      " 4   class    10000 non-null  int64 \n",
      "dtypes: int64(1), object(4)\n",
      "memory usage: 390.8+ KB\n"
     ]
    }
   ],
   "source": [
    "sample_news_df = merged_df.sample(10000, random_state=786).reset_index(drop=True)\n",
    "sample_news_df.info()"
   ]
  },
  {
   "cell_type": "markdown",
   "id": "b5962fcd",
   "metadata": {},
   "source": [
    "We would now need to initilize the training environment that creates teh transformation pipline. This setup needs to be called before we train or execute and function "
   ]
  },
  {
   "cell_type": "code",
   "execution_count": 12,
   "id": "75ecf504",
   "metadata": {},
   "outputs": [
    {
     "data": {
      "text/html": [
       "<div>\n",
       "<style scoped>\n",
       "    .dataframe tbody tr th:only-of-type {\n",
       "        vertical-align: middle;\n",
       "    }\n",
       "\n",
       "    .dataframe tbody tr th {\n",
       "        vertical-align: top;\n",
       "    }\n",
       "\n",
       "    .dataframe thead th {\n",
       "        text-align: right;\n",
       "    }\n",
       "</style>\n",
       "<table border=\"1\" class=\"dataframe\">\n",
       "  <thead>\n",
       "    <tr style=\"text-align: right;\">\n",
       "      <th></th>\n",
       "      <th>title</th>\n",
       "      <th>text</th>\n",
       "      <th>subject</th>\n",
       "      <th>date</th>\n",
       "      <th>class</th>\n",
       "    </tr>\n",
       "  </thead>\n",
       "  <tbody>\n",
       "    <tr>\n",
       "      <th>0</th>\n",
       "      <td>Trump Is Now Officially Increasing The Chance...</td>\n",
       "      <td>Republicans aren t very smart about a lot of t...</td>\n",
       "      <td>News</td>\n",
       "      <td>April 17, 2016</td>\n",
       "      <td>0</td>\n",
       "    </tr>\n",
       "    <tr>\n",
       "      <th>1</th>\n",
       "      <td>GAY PAYPAL CEO Gives Rousing Speech Endorsing ...</td>\n",
       "      <td></td>\n",
       "      <td>politics</td>\n",
       "      <td>Oct 31, 2016</td>\n",
       "      <td>0</td>\n",
       "    </tr>\n",
       "    <tr>\n",
       "      <th>2</th>\n",
       "      <td>Buoyed by mayoral votes, Venezuela socialists ...</td>\n",
       "      <td>CARACAS (Reuters) - President Nicolas Maduro h...</td>\n",
       "      <td>worldnews</td>\n",
       "      <td>December 10, 2017</td>\n",
       "      <td>1</td>\n",
       "    </tr>\n",
       "    <tr>\n",
       "      <th>3</th>\n",
       "      <td>Oklahoma lawmaker apologizes for linking Nativ...</td>\n",
       "      <td>TULSA, Okla. (Reuters) - An Oklahoma state leg...</td>\n",
       "      <td>politicsNews</td>\n",
       "      <td>April 28, 2016</td>\n",
       "      <td>1</td>\n",
       "    </tr>\n",
       "    <tr>\n",
       "      <th>4</th>\n",
       "      <td>Argentine mid-term campaign pauses after body ...</td>\n",
       "      <td>BUENOS AIRES (Reuters) - Major parties running...</td>\n",
       "      <td>worldnews</td>\n",
       "      <td>October 18, 2017</td>\n",
       "      <td>1</td>\n",
       "    </tr>\n",
       "  </tbody>\n",
       "</table>\n",
       "</div>"
      ],
      "text/plain": [
       "                                               title  \\\n",
       "0   Trump Is Now Officially Increasing The Chance...   \n",
       "1  GAY PAYPAL CEO Gives Rousing Speech Endorsing ...   \n",
       "2  Buoyed by mayoral votes, Venezuela socialists ...   \n",
       "3  Oklahoma lawmaker apologizes for linking Nativ...   \n",
       "4  Argentine mid-term campaign pauses after body ...   \n",
       "\n",
       "                                                text       subject  \\\n",
       "0  Republicans aren t very smart about a lot of t...          News   \n",
       "1                                                         politics   \n",
       "2  CARACAS (Reuters) - President Nicolas Maduro h...     worldnews   \n",
       "3  TULSA, Okla. (Reuters) - An Oklahoma state leg...  politicsNews   \n",
       "4  BUENOS AIRES (Reuters) - Major parties running...     worldnews   \n",
       "\n",
       "                 date  class  \n",
       "0      April 17, 2016      0  \n",
       "1        Oct 31, 2016      0  \n",
       "2  December 10, 2017       1  \n",
       "3     April 28, 2016       1  \n",
       "4   October 18, 2017       1  "
      ]
     },
     "execution_count": 12,
     "metadata": {},
     "output_type": "execute_result"
    }
   ],
   "source": [
    "sample_news_df.head()"
   ]
  },
  {
   "cell_type": "code",
   "execution_count": 13,
   "id": "269cbec5",
   "metadata": {
    "scrolled": true
   },
   "outputs": [
    {
     "data": {
      "text/html": [
       "<style type=\"text/css\">\n",
       "</style>\n",
       "<table id=\"T_41f89_\">\n",
       "  <thead>\n",
       "    <tr>\n",
       "      <th class=\"col_heading level0 col0\" >Description</th>\n",
       "      <th class=\"col_heading level0 col1\" >Value</th>\n",
       "    </tr>\n",
       "  </thead>\n",
       "  <tbody>\n",
       "    <tr>\n",
       "      <td id=\"T_41f89_row0_col0\" class=\"data row0 col0\" >session_id</td>\n",
       "      <td id=\"T_41f89_row0_col1\" class=\"data row0 col1\" >123</td>\n",
       "    </tr>\n",
       "    <tr>\n",
       "      <td id=\"T_41f89_row1_col0\" class=\"data row1 col0\" >Documents</td>\n",
       "      <td id=\"T_41f89_row1_col1\" class=\"data row1 col1\" >10000</td>\n",
       "    </tr>\n",
       "    <tr>\n",
       "      <td id=\"T_41f89_row2_col0\" class=\"data row2 col0\" >Vocab Size</td>\n",
       "      <td id=\"T_41f89_row2_col1\" class=\"data row2 col1\" >35185</td>\n",
       "    </tr>\n",
       "    <tr>\n",
       "      <td id=\"T_41f89_row3_col0\" class=\"data row3 col0\" >Custom Stopwords</td>\n",
       "      <td id=\"T_41f89_row3_col1\" class=\"data row3 col1\" >False</td>\n",
       "    </tr>\n",
       "  </tbody>\n",
       "</table>\n"
      ],
      "text/plain": [
       "<pandas.io.formats.style.Styler at 0x7fdf1ba7e050>"
      ]
     },
     "metadata": {},
     "output_type": "display_data"
    }
   ],
   "source": [
    "from pycaret.nlp import *\n",
    "\n",
    "news_nlp = setup(data = sample_news_df, target = 'text', session_id =123)"
   ]
  },
  {
   "cell_type": "code",
   "execution_count": 14,
   "id": "59520eb8",
   "metadata": {},
   "outputs": [],
   "source": [
    "%time\n",
    "lda = create_model('lda',multi_core=True)"
   ]
  },
  {
   "cell_type": "code",
   "execution_count": 15,
   "id": "0bbbd8f8",
   "metadata": {},
   "outputs": [],
   "source": [
    "%time\n",
    "lda_df = assign_model(lda)"
   ]
  },
  {
   "cell_type": "code",
   "execution_count": 16,
   "id": "fdaaf1b7",
   "metadata": {},
   "outputs": [
    {
     "data": {
      "text/html": [
       "        <script type=\"text/javascript\">\n",
       "        window.PlotlyConfig = {MathJaxConfig: 'local'};\n",
       "        if (window.MathJax) {MathJax.Hub.Config({SVG: {font: \"STIX-Web\"}});}\n",
       "        if (typeof require !== 'undefined') {\n",
       "        require.undef(\"plotly\");\n",
       "        requirejs.config({\n",
       "            paths: {\n",
       "                'plotly': ['https://cdn.plot.ly/plotly-2.11.1.min']\n",
       "            }\n",
       "        });\n",
       "        require(['plotly'], function(Plotly) {\n",
       "            window._Plotly = Plotly;\n",
       "        });\n",
       "        }\n",
       "        </script>\n",
       "        "
      ]
     },
     "metadata": {},
     "output_type": "display_data"
    },
    {
     "name": "stderr",
     "output_type": "stream",
     "text": [
      "IOPub message rate exceeded.\n",
      "The notebook server will temporarily stop sending output\n",
      "to the client in order to avoid crashing it.\n",
      "To change this limit, set the config variable\n",
      "`--NotebookApp.iopub_msg_rate_limit`.\n",
      "\n",
      "Current values:\n",
      "NotebookApp.iopub_msg_rate_limit=1000.0 (msgs/sec)\n",
      "NotebookApp.rate_limit_window=3.0 (secs)\n",
      "\n",
      "IOPub message rate exceeded.\n",
      "The notebook server will temporarily stop sending output\n",
      "to the client in order to avoid crashing it.\n",
      "To change this limit, set the config variable\n",
      "`--NotebookApp.iopub_msg_rate_limit`.\n",
      "\n",
      "Current values:\n",
      "NotebookApp.iopub_msg_rate_limit=1000.0 (msgs/sec)\n",
      "NotebookApp.rate_limit_window=3.0 (secs)\n",
      "\n"
     ]
    },
    {
     "data": {
      "application/vnd.plotly.v1+json": {
       "config": {
        "plotlyServerURL": "https://plot.ly"
       },
       "data": [
        {
         "alignmentgroup": "True",
         "customdata": [
          [
           "say, state, government, year, company, also, include, bill, make, federal"
          ],
          [
           "say, people, police, group, kill, government, attack, state, year, report"
          ],
          [
           "say, election, trump, vote, government, party, leader, country, united_state, official"
          ],
          [
           "trump, say, go, people, make, get, know, think, time, take"
          ]
         ],
         "hovertemplate": "Topic=%{x}<br>Documents=%{y}<br>Keyword=%{customdata[0]}<extra></extra>",
         "legendgroup": "",
         "marker": {
          "color": "#636efa",
          "pattern": {
           "shape": ""
          }
         },
         "name": "",
         "offsetgroup": "",
         "orientation": "v",
         "showlegend": false,
         "textposition": "auto",
         "type": "bar",
         "x": [
          "Topic 0",
          "Topic 1",
          "Topic 2",
          "Topic 3"
         ],
         "xaxis": "x",
         "y": [
          2013,
          1660,
          2591,
          3736
         ],
         "yaxis": "y"
        }
       ],
       "layout": {
        "barmode": "relative",
        "legend": {
         "tracegroupgap": 0
        },
        "template": {
         "data": {
          "bar": [
           {
            "error_x": {
             "color": "#2a3f5f"
            },
            "error_y": {
             "color": "#2a3f5f"
            },
            "marker": {
             "line": {
              "color": "#E5ECF6",
              "width": 0.5
             },
             "pattern": {
              "fillmode": "overlay",
              "size": 10,
              "solidity": 0.2
             }
            },
            "type": "bar"
           }
          ],
          "barpolar": [
           {
            "marker": {
             "line": {
              "color": "#E5ECF6",
              "width": 0.5
             },
             "pattern": {
              "fillmode": "overlay",
              "size": 10,
              "solidity": 0.2
             }
            },
            "type": "barpolar"
           }
          ],
          "carpet": [
           {
            "aaxis": {
             "endlinecolor": "#2a3f5f",
             "gridcolor": "white",
             "linecolor": "white",
             "minorgridcolor": "white",
             "startlinecolor": "#2a3f5f"
            },
            "baxis": {
             "endlinecolor": "#2a3f5f",
             "gridcolor": "white",
             "linecolor": "white",
             "minorgridcolor": "white",
             "startlinecolor": "#2a3f5f"
            },
            "type": "carpet"
           }
          ],
          "choropleth": [
           {
            "colorbar": {
             "outlinewidth": 0,
             "ticks": ""
            },
            "type": "choropleth"
           }
          ],
          "contour": [
           {
            "colorbar": {
             "outlinewidth": 0,
             "ticks": ""
            },
            "colorscale": [
             [
              0,
              "#0d0887"
             ],
             [
              0.1111111111111111,
              "#46039f"
             ],
             [
              0.2222222222222222,
              "#7201a8"
             ],
             [
              0.3333333333333333,
              "#9c179e"
             ],
             [
              0.4444444444444444,
              "#bd3786"
             ],
             [
              0.5555555555555556,
              "#d8576b"
             ],
             [
              0.6666666666666666,
              "#ed7953"
             ],
             [
              0.7777777777777778,
              "#fb9f3a"
             ],
             [
              0.8888888888888888,
              "#fdca26"
             ],
             [
              1,
              "#f0f921"
             ]
            ],
            "type": "contour"
           }
          ],
          "contourcarpet": [
           {
            "colorbar": {
             "outlinewidth": 0,
             "ticks": ""
            },
            "type": "contourcarpet"
           }
          ],
          "heatmap": [
           {
            "colorbar": {
             "outlinewidth": 0,
             "ticks": ""
            },
            "colorscale": [
             [
              0,
              "#0d0887"
             ],
             [
              0.1111111111111111,
              "#46039f"
             ],
             [
              0.2222222222222222,
              "#7201a8"
             ],
             [
              0.3333333333333333,
              "#9c179e"
             ],
             [
              0.4444444444444444,
              "#bd3786"
             ],
             [
              0.5555555555555556,
              "#d8576b"
             ],
             [
              0.6666666666666666,
              "#ed7953"
             ],
             [
              0.7777777777777778,
              "#fb9f3a"
             ],
             [
              0.8888888888888888,
              "#fdca26"
             ],
             [
              1,
              "#f0f921"
             ]
            ],
            "type": "heatmap"
           }
          ],
          "heatmapgl": [
           {
            "colorbar": {
             "outlinewidth": 0,
             "ticks": ""
            },
            "colorscale": [
             [
              0,
              "#0d0887"
             ],
             [
              0.1111111111111111,
              "#46039f"
             ],
             [
              0.2222222222222222,
              "#7201a8"
             ],
             [
              0.3333333333333333,
              "#9c179e"
             ],
             [
              0.4444444444444444,
              "#bd3786"
             ],
             [
              0.5555555555555556,
              "#d8576b"
             ],
             [
              0.6666666666666666,
              "#ed7953"
             ],
             [
              0.7777777777777778,
              "#fb9f3a"
             ],
             [
              0.8888888888888888,
              "#fdca26"
             ],
             [
              1,
              "#f0f921"
             ]
            ],
            "type": "heatmapgl"
           }
          ],
          "histogram": [
           {
            "marker": {
             "pattern": {
              "fillmode": "overlay",
              "size": 10,
              "solidity": 0.2
             }
            },
            "type": "histogram"
           }
          ],
          "histogram2d": [
           {
            "colorbar": {
             "outlinewidth": 0,
             "ticks": ""
            },
            "colorscale": [
             [
              0,
              "#0d0887"
             ],
             [
              0.1111111111111111,
              "#46039f"
             ],
             [
              0.2222222222222222,
              "#7201a8"
             ],
             [
              0.3333333333333333,
              "#9c179e"
             ],
             [
              0.4444444444444444,
              "#bd3786"
             ],
             [
              0.5555555555555556,
              "#d8576b"
             ],
             [
              0.6666666666666666,
              "#ed7953"
             ],
             [
              0.7777777777777778,
              "#fb9f3a"
             ],
             [
              0.8888888888888888,
              "#fdca26"
             ],
             [
              1,
              "#f0f921"
             ]
            ],
            "type": "histogram2d"
           }
          ],
          "histogram2dcontour": [
           {
            "colorbar": {
             "outlinewidth": 0,
             "ticks": ""
            },
            "colorscale": [
             [
              0,
              "#0d0887"
             ],
             [
              0.1111111111111111,
              "#46039f"
             ],
             [
              0.2222222222222222,
              "#7201a8"
             ],
             [
              0.3333333333333333,
              "#9c179e"
             ],
             [
              0.4444444444444444,
              "#bd3786"
             ],
             [
              0.5555555555555556,
              "#d8576b"
             ],
             [
              0.6666666666666666,
              "#ed7953"
             ],
             [
              0.7777777777777778,
              "#fb9f3a"
             ],
             [
              0.8888888888888888,
              "#fdca26"
             ],
             [
              1,
              "#f0f921"
             ]
            ],
            "type": "histogram2dcontour"
           }
          ],
          "mesh3d": [
           {
            "colorbar": {
             "outlinewidth": 0,
             "ticks": ""
            },
            "type": "mesh3d"
           }
          ],
          "parcoords": [
           {
            "line": {
             "colorbar": {
              "outlinewidth": 0,
              "ticks": ""
             }
            },
            "type": "parcoords"
           }
          ],
          "pie": [
           {
            "automargin": true,
            "type": "pie"
           }
          ],
          "scatter": [
           {
            "fillpattern": {
             "fillmode": "overlay",
             "size": 10,
             "solidity": 0.2
            },
            "type": "scatter"
           }
          ],
          "scatter3d": [
           {
            "line": {
             "colorbar": {
              "outlinewidth": 0,
              "ticks": ""
             }
            },
            "marker": {
             "colorbar": {
              "outlinewidth": 0,
              "ticks": ""
             }
            },
            "type": "scatter3d"
           }
          ],
          "scattercarpet": [
           {
            "marker": {
             "colorbar": {
              "outlinewidth": 0,
              "ticks": ""
             }
            },
            "type": "scattercarpet"
           }
          ],
          "scattergeo": [
           {
            "marker": {
             "colorbar": {
              "outlinewidth": 0,
              "ticks": ""
             }
            },
            "type": "scattergeo"
           }
          ],
          "scattergl": [
           {
            "marker": {
             "colorbar": {
              "outlinewidth": 0,
              "ticks": ""
             }
            },
            "type": "scattergl"
           }
          ],
          "scattermapbox": [
           {
            "marker": {
             "colorbar": {
              "outlinewidth": 0,
              "ticks": ""
             }
            },
            "type": "scattermapbox"
           }
          ],
          "scatterpolar": [
           {
            "marker": {
             "colorbar": {
              "outlinewidth": 0,
              "ticks": ""
             }
            },
            "type": "scatterpolar"
           }
          ],
          "scatterpolargl": [
           {
            "marker": {
             "colorbar": {
              "outlinewidth": 0,
              "ticks": ""
             }
            },
            "type": "scatterpolargl"
           }
          ],
          "scatterternary": [
           {
            "marker": {
             "colorbar": {
              "outlinewidth": 0,
              "ticks": ""
             }
            },
            "type": "scatterternary"
           }
          ],
          "surface": [
           {
            "colorbar": {
             "outlinewidth": 0,
             "ticks": ""
            },
            "colorscale": [
             [
              0,
              "#0d0887"
             ],
             [
              0.1111111111111111,
              "#46039f"
             ],
             [
              0.2222222222222222,
              "#7201a8"
             ],
             [
              0.3333333333333333,
              "#9c179e"
             ],
             [
              0.4444444444444444,
              "#bd3786"
             ],
             [
              0.5555555555555556,
              "#d8576b"
             ],
             [
              0.6666666666666666,
              "#ed7953"
             ],
             [
              0.7777777777777778,
              "#fb9f3a"
             ],
             [
              0.8888888888888888,
              "#fdca26"
             ],
             [
              1,
              "#f0f921"
             ]
            ],
            "type": "surface"
           }
          ],
          "table": [
           {
            "cells": {
             "fill": {
              "color": "#EBF0F8"
             },
             "line": {
              "color": "white"
             }
            },
            "header": {
             "fill": {
              "color": "#C8D4E3"
             },
             "line": {
              "color": "white"
             }
            },
            "type": "table"
           }
          ]
         },
         "layout": {
          "annotationdefaults": {
           "arrowcolor": "#2a3f5f",
           "arrowhead": 0,
           "arrowwidth": 1
          },
          "autotypenumbers": "strict",
          "coloraxis": {
           "colorbar": {
            "outlinewidth": 0,
            "ticks": ""
           }
          },
          "colorscale": {
           "diverging": [
            [
             0,
             "#8e0152"
            ],
            [
             0.1,
             "#c51b7d"
            ],
            [
             0.2,
             "#de77ae"
            ],
            [
             0.3,
             "#f1b6da"
            ],
            [
             0.4,
             "#fde0ef"
            ],
            [
             0.5,
             "#f7f7f7"
            ],
            [
             0.6,
             "#e6f5d0"
            ],
            [
             0.7,
             "#b8e186"
            ],
            [
             0.8,
             "#7fbc41"
            ],
            [
             0.9,
             "#4d9221"
            ],
            [
             1,
             "#276419"
            ]
           ],
           "sequential": [
            [
             0,
             "#0d0887"
            ],
            [
             0.1111111111111111,
             "#46039f"
            ],
            [
             0.2222222222222222,
             "#7201a8"
            ],
            [
             0.3333333333333333,
             "#9c179e"
            ],
            [
             0.4444444444444444,
             "#bd3786"
            ],
            [
             0.5555555555555556,
             "#d8576b"
            ],
            [
             0.6666666666666666,
             "#ed7953"
            ],
            [
             0.7777777777777778,
             "#fb9f3a"
            ],
            [
             0.8888888888888888,
             "#fdca26"
            ],
            [
             1,
             "#f0f921"
            ]
           ],
           "sequentialminus": [
            [
             0,
             "#0d0887"
            ],
            [
             0.1111111111111111,
             "#46039f"
            ],
            [
             0.2222222222222222,
             "#7201a8"
            ],
            [
             0.3333333333333333,
             "#9c179e"
            ],
            [
             0.4444444444444444,
             "#bd3786"
            ],
            [
             0.5555555555555556,
             "#d8576b"
            ],
            [
             0.6666666666666666,
             "#ed7953"
            ],
            [
             0.7777777777777778,
             "#fb9f3a"
            ],
            [
             0.8888888888888888,
             "#fdca26"
            ],
            [
             1,
             "#f0f921"
            ]
           ]
          },
          "colorway": [
           "#636efa",
           "#EF553B",
           "#00cc96",
           "#ab63fa",
           "#FFA15A",
           "#19d3f3",
           "#FF6692",
           "#B6E880",
           "#FF97FF",
           "#FECB52"
          ],
          "font": {
           "color": "#2a3f5f"
          },
          "geo": {
           "bgcolor": "white",
           "lakecolor": "white",
           "landcolor": "#E5ECF6",
           "showlakes": true,
           "showland": true,
           "subunitcolor": "white"
          },
          "hoverlabel": {
           "align": "left"
          },
          "hovermode": "closest",
          "mapbox": {
           "style": "light"
          },
          "paper_bgcolor": "white",
          "plot_bgcolor": "#E5ECF6",
          "polar": {
           "angularaxis": {
            "gridcolor": "white",
            "linecolor": "white",
            "ticks": ""
           },
           "bgcolor": "#E5ECF6",
           "radialaxis": {
            "gridcolor": "white",
            "linecolor": "white",
            "ticks": ""
           }
          },
          "scene": {
           "xaxis": {
            "backgroundcolor": "#E5ECF6",
            "gridcolor": "white",
            "gridwidth": 2,
            "linecolor": "white",
            "showbackground": true,
            "ticks": "",
            "zerolinecolor": "white"
           },
           "yaxis": {
            "backgroundcolor": "#E5ECF6",
            "gridcolor": "white",
            "gridwidth": 2,
            "linecolor": "white",
            "showbackground": true,
            "ticks": "",
            "zerolinecolor": "white"
           },
           "zaxis": {
            "backgroundcolor": "#E5ECF6",
            "gridcolor": "white",
            "gridwidth": 2,
            "linecolor": "white",
            "showbackground": true,
            "ticks": "",
            "zerolinecolor": "white"
           }
          },
          "shapedefaults": {
           "line": {
            "color": "#2a3f5f"
           }
          },
          "ternary": {
           "aaxis": {
            "gridcolor": "white",
            "linecolor": "white",
            "ticks": ""
           },
           "baxis": {
            "gridcolor": "white",
            "linecolor": "white",
            "ticks": ""
           },
           "bgcolor": "#E5ECF6",
           "caxis": {
            "gridcolor": "white",
            "linecolor": "white",
            "ticks": ""
           }
          },
          "title": {
           "x": 0.05
          },
          "xaxis": {
           "automargin": true,
           "gridcolor": "white",
           "linecolor": "white",
           "ticks": "",
           "title": {
            "standoff": 15
           },
           "zerolinecolor": "white",
           "zerolinewidth": 2
          },
          "yaxis": {
           "automargin": true,
           "gridcolor": "white",
           "linecolor": "white",
           "ticks": "",
           "title": {
            "standoff": 15
           },
           "zerolinecolor": "white",
           "zerolinewidth": 2
          }
         }
        },
        "title": {
         "text": "Document Distribution by Topics"
        },
        "xaxis": {
         "anchor": "y",
         "domain": [
          0,
          1
         ],
         "title": {
          "text": "Topic"
         }
        },
        "yaxis": {
         "anchor": "x",
         "domain": [
          0,
          1
         ],
         "title": {
          "text": "Documents"
         }
        }
       }
      },
      "text/html": [
       "<div>                            <div id=\"f8eace8c-a47f-4329-bffe-6428c86f95e8\" class=\"plotly-graph-div\" style=\"height:525px; width:100%;\"></div>            <script type=\"text/javascript\">                require([\"plotly\"], function(Plotly) {                    window.PLOTLYENV=window.PLOTLYENV || {};                                    if (document.getElementById(\"f8eace8c-a47f-4329-bffe-6428c86f95e8\")) {                    Plotly.newPlot(                        \"f8eace8c-a47f-4329-bffe-6428c86f95e8\",                        [{\"alignmentgroup\":\"True\",\"customdata\":[[\"say, state, government, year, company, also, include, bill, make, federal\"],[\"say, people, police, group, kill, government, attack, state, year, report\"],[\"say, election, trump, vote, government, party, leader, country, united_state, official\"],[\"trump, say, go, people, make, get, know, think, time, take\"]],\"hovertemplate\":\"Topic=%{x}<br>Documents=%{y}<br>Keyword=%{customdata[0]}<extra></extra>\",\"legendgroup\":\"\",\"marker\":{\"color\":\"#636efa\",\"pattern\":{\"shape\":\"\"}},\"name\":\"\",\"offsetgroup\":\"\",\"orientation\":\"v\",\"showlegend\":false,\"textposition\":\"auto\",\"x\":[\"Topic 0\",\"Topic 1\",\"Topic 2\",\"Topic 3\"],\"xaxis\":\"x\",\"y\":[2013,1660,2591,3736],\"yaxis\":\"y\",\"type\":\"bar\"}],                        {\"template\":{\"data\":{\"histogram2dcontour\":[{\"type\":\"histogram2dcontour\",\"colorbar\":{\"outlinewidth\":0,\"ticks\":\"\"},\"colorscale\":[[0.0,\"#0d0887\"],[0.1111111111111111,\"#46039f\"],[0.2222222222222222,\"#7201a8\"],[0.3333333333333333,\"#9c179e\"],[0.4444444444444444,\"#bd3786\"],[0.5555555555555556,\"#d8576b\"],[0.6666666666666666,\"#ed7953\"],[0.7777777777777778,\"#fb9f3a\"],[0.8888888888888888,\"#fdca26\"],[1.0,\"#f0f921\"]]}],\"choropleth\":[{\"type\":\"choropleth\",\"colorbar\":{\"outlinewidth\":0,\"ticks\":\"\"}}],\"histogram2d\":[{\"type\":\"histogram2d\",\"colorbar\":{\"outlinewidth\":0,\"ticks\":\"\"},\"colorscale\":[[0.0,\"#0d0887\"],[0.1111111111111111,\"#46039f\"],[0.2222222222222222,\"#7201a8\"],[0.3333333333333333,\"#9c179e\"],[0.4444444444444444,\"#bd3786\"],[0.5555555555555556,\"#d8576b\"],[0.6666666666666666,\"#ed7953\"],[0.7777777777777778,\"#fb9f3a\"],[0.8888888888888888,\"#fdca26\"],[1.0,\"#f0f921\"]]}],\"heatmap\":[{\"type\":\"heatmap\",\"colorbar\":{\"outlinewidth\":0,\"ticks\":\"\"},\"colorscale\":[[0.0,\"#0d0887\"],[0.1111111111111111,\"#46039f\"],[0.2222222222222222,\"#7201a8\"],[0.3333333333333333,\"#9c179e\"],[0.4444444444444444,\"#bd3786\"],[0.5555555555555556,\"#d8576b\"],[0.6666666666666666,\"#ed7953\"],[0.7777777777777778,\"#fb9f3a\"],[0.8888888888888888,\"#fdca26\"],[1.0,\"#f0f921\"]]}],\"heatmapgl\":[{\"type\":\"heatmapgl\",\"colorbar\":{\"outlinewidth\":0,\"ticks\":\"\"},\"colorscale\":[[0.0,\"#0d0887\"],[0.1111111111111111,\"#46039f\"],[0.2222222222222222,\"#7201a8\"],[0.3333333333333333,\"#9c179e\"],[0.4444444444444444,\"#bd3786\"],[0.5555555555555556,\"#d8576b\"],[0.6666666666666666,\"#ed7953\"],[0.7777777777777778,\"#fb9f3a\"],[0.8888888888888888,\"#fdca26\"],[1.0,\"#f0f921\"]]}],\"contourcarpet\":[{\"type\":\"contourcarpet\",\"colorbar\":{\"outlinewidth\":0,\"ticks\":\"\"}}],\"contour\":[{\"type\":\"contour\",\"colorbar\":{\"outlinewidth\":0,\"ticks\":\"\"},\"colorscale\":[[0.0,\"#0d0887\"],[0.1111111111111111,\"#46039f\"],[0.2222222222222222,\"#7201a8\"],[0.3333333333333333,\"#9c179e\"],[0.4444444444444444,\"#bd3786\"],[0.5555555555555556,\"#d8576b\"],[0.6666666666666666,\"#ed7953\"],[0.7777777777777778,\"#fb9f3a\"],[0.8888888888888888,\"#fdca26\"],[1.0,\"#f0f921\"]]}],\"surface\":[{\"type\":\"surface\",\"colorbar\":{\"outlinewidth\":0,\"ticks\":\"\"},\"colorscale\":[[0.0,\"#0d0887\"],[0.1111111111111111,\"#46039f\"],[0.2222222222222222,\"#7201a8\"],[0.3333333333333333,\"#9c179e\"],[0.4444444444444444,\"#bd3786\"],[0.5555555555555556,\"#d8576b\"],[0.6666666666666666,\"#ed7953\"],[0.7777777777777778,\"#fb9f3a\"],[0.8888888888888888,\"#fdca26\"],[1.0,\"#f0f921\"]]}],\"mesh3d\":[{\"type\":\"mesh3d\",\"colorbar\":{\"outlinewidth\":0,\"ticks\":\"\"}}],\"scatter\":[{\"fillpattern\":{\"fillmode\":\"overlay\",\"size\":10,\"solidity\":0.2},\"type\":\"scatter\"}],\"parcoords\":[{\"type\":\"parcoords\",\"line\":{\"colorbar\":{\"outlinewidth\":0,\"ticks\":\"\"}}}],\"scatterpolargl\":[{\"type\":\"scatterpolargl\",\"marker\":{\"colorbar\":{\"outlinewidth\":0,\"ticks\":\"\"}}}],\"bar\":[{\"error_x\":{\"color\":\"#2a3f5f\"},\"error_y\":{\"color\":\"#2a3f5f\"},\"marker\":{\"line\":{\"color\":\"#E5ECF6\",\"width\":0.5},\"pattern\":{\"fillmode\":\"overlay\",\"size\":10,\"solidity\":0.2}},\"type\":\"bar\"}],\"scattergeo\":[{\"type\":\"scattergeo\",\"marker\":{\"colorbar\":{\"outlinewidth\":0,\"ticks\":\"\"}}}],\"scatterpolar\":[{\"type\":\"scatterpolar\",\"marker\":{\"colorbar\":{\"outlinewidth\":0,\"ticks\":\"\"}}}],\"histogram\":[{\"marker\":{\"pattern\":{\"fillmode\":\"overlay\",\"size\":10,\"solidity\":0.2}},\"type\":\"histogram\"}],\"scattergl\":[{\"type\":\"scattergl\",\"marker\":{\"colorbar\":{\"outlinewidth\":0,\"ticks\":\"\"}}}],\"scatter3d\":[{\"type\":\"scatter3d\",\"line\":{\"colorbar\":{\"outlinewidth\":0,\"ticks\":\"\"}},\"marker\":{\"colorbar\":{\"outlinewidth\":0,\"ticks\":\"\"}}}],\"scattermapbox\":[{\"type\":\"scattermapbox\",\"marker\":{\"colorbar\":{\"outlinewidth\":0,\"ticks\":\"\"}}}],\"scatterternary\":[{\"type\":\"scatterternary\",\"marker\":{\"colorbar\":{\"outlinewidth\":0,\"ticks\":\"\"}}}],\"scattercarpet\":[{\"type\":\"scattercarpet\",\"marker\":{\"colorbar\":{\"outlinewidth\":0,\"ticks\":\"\"}}}],\"carpet\":[{\"aaxis\":{\"endlinecolor\":\"#2a3f5f\",\"gridcolor\":\"white\",\"linecolor\":\"white\",\"minorgridcolor\":\"white\",\"startlinecolor\":\"#2a3f5f\"},\"baxis\":{\"endlinecolor\":\"#2a3f5f\",\"gridcolor\":\"white\",\"linecolor\":\"white\",\"minorgridcolor\":\"white\",\"startlinecolor\":\"#2a3f5f\"},\"type\":\"carpet\"}],\"table\":[{\"cells\":{\"fill\":{\"color\":\"#EBF0F8\"},\"line\":{\"color\":\"white\"}},\"header\":{\"fill\":{\"color\":\"#C8D4E3\"},\"line\":{\"color\":\"white\"}},\"type\":\"table\"}],\"barpolar\":[{\"marker\":{\"line\":{\"color\":\"#E5ECF6\",\"width\":0.5},\"pattern\":{\"fillmode\":\"overlay\",\"size\":10,\"solidity\":0.2}},\"type\":\"barpolar\"}],\"pie\":[{\"automargin\":true,\"type\":\"pie\"}]},\"layout\":{\"autotypenumbers\":\"strict\",\"colorway\":[\"#636efa\",\"#EF553B\",\"#00cc96\",\"#ab63fa\",\"#FFA15A\",\"#19d3f3\",\"#FF6692\",\"#B6E880\",\"#FF97FF\",\"#FECB52\"],\"font\":{\"color\":\"#2a3f5f\"},\"hovermode\":\"closest\",\"hoverlabel\":{\"align\":\"left\"},\"paper_bgcolor\":\"white\",\"plot_bgcolor\":\"#E5ECF6\",\"polar\":{\"bgcolor\":\"#E5ECF6\",\"angularaxis\":{\"gridcolor\":\"white\",\"linecolor\":\"white\",\"ticks\":\"\"},\"radialaxis\":{\"gridcolor\":\"white\",\"linecolor\":\"white\",\"ticks\":\"\"}},\"ternary\":{\"bgcolor\":\"#E5ECF6\",\"aaxis\":{\"gridcolor\":\"white\",\"linecolor\":\"white\",\"ticks\":\"\"},\"baxis\":{\"gridcolor\":\"white\",\"linecolor\":\"white\",\"ticks\":\"\"},\"caxis\":{\"gridcolor\":\"white\",\"linecolor\":\"white\",\"ticks\":\"\"}},\"coloraxis\":{\"colorbar\":{\"outlinewidth\":0,\"ticks\":\"\"}},\"colorscale\":{\"sequential\":[[0.0,\"#0d0887\"],[0.1111111111111111,\"#46039f\"],[0.2222222222222222,\"#7201a8\"],[0.3333333333333333,\"#9c179e\"],[0.4444444444444444,\"#bd3786\"],[0.5555555555555556,\"#d8576b\"],[0.6666666666666666,\"#ed7953\"],[0.7777777777777778,\"#fb9f3a\"],[0.8888888888888888,\"#fdca26\"],[1.0,\"#f0f921\"]],\"sequentialminus\":[[0.0,\"#0d0887\"],[0.1111111111111111,\"#46039f\"],[0.2222222222222222,\"#7201a8\"],[0.3333333333333333,\"#9c179e\"],[0.4444444444444444,\"#bd3786\"],[0.5555555555555556,\"#d8576b\"],[0.6666666666666666,\"#ed7953\"],[0.7777777777777778,\"#fb9f3a\"],[0.8888888888888888,\"#fdca26\"],[1.0,\"#f0f921\"]],\"diverging\":[[0,\"#8e0152\"],[0.1,\"#c51b7d\"],[0.2,\"#de77ae\"],[0.3,\"#f1b6da\"],[0.4,\"#fde0ef\"],[0.5,\"#f7f7f7\"],[0.6,\"#e6f5d0\"],[0.7,\"#b8e186\"],[0.8,\"#7fbc41\"],[0.9,\"#4d9221\"],[1,\"#276419\"]]},\"xaxis\":{\"gridcolor\":\"white\",\"linecolor\":\"white\",\"ticks\":\"\",\"title\":{\"standoff\":15},\"zerolinecolor\":\"white\",\"automargin\":true,\"zerolinewidth\":2},\"yaxis\":{\"gridcolor\":\"white\",\"linecolor\":\"white\",\"ticks\":\"\",\"title\":{\"standoff\":15},\"zerolinecolor\":\"white\",\"automargin\":true,\"zerolinewidth\":2},\"scene\":{\"xaxis\":{\"backgroundcolor\":\"#E5ECF6\",\"gridcolor\":\"white\",\"linecolor\":\"white\",\"showbackground\":true,\"ticks\":\"\",\"zerolinecolor\":\"white\",\"gridwidth\":2},\"yaxis\":{\"backgroundcolor\":\"#E5ECF6\",\"gridcolor\":\"white\",\"linecolor\":\"white\",\"showbackground\":true,\"ticks\":\"\",\"zerolinecolor\":\"white\",\"gridwidth\":2},\"zaxis\":{\"backgroundcolor\":\"#E5ECF6\",\"gridcolor\":\"white\",\"linecolor\":\"white\",\"showbackground\":true,\"ticks\":\"\",\"zerolinecolor\":\"white\",\"gridwidth\":2}},\"shapedefaults\":{\"line\":{\"color\":\"#2a3f5f\"}},\"annotationdefaults\":{\"arrowcolor\":\"#2a3f5f\",\"arrowhead\":0,\"arrowwidth\":1},\"geo\":{\"bgcolor\":\"white\",\"landcolor\":\"#E5ECF6\",\"subunitcolor\":\"white\",\"showland\":true,\"showlakes\":true,\"lakecolor\":\"white\"},\"title\":{\"x\":0.05},\"mapbox\":{\"style\":\"light\"}}},\"xaxis\":{\"anchor\":\"y\",\"domain\":[0.0,1.0],\"title\":{\"text\":\"Topic\"}},\"yaxis\":{\"anchor\":\"x\",\"domain\":[0.0,1.0],\"title\":{\"text\":\"Documents\"}},\"legend\":{\"tracegroupgap\":0},\"title\":{\"text\":\"Document Distribution by Topics\"},\"barmode\":\"relative\"},                        {\"responsive\": true}                    ).then(function(){\n",
       "                            \n",
       "var gd = document.getElementById('f8eace8c-a47f-4329-bffe-6428c86f95e8');\n",
       "var x = new MutationObserver(function (mutations, observer) {{\n",
       "        var display = window.getComputedStyle(gd).display;\n",
       "        if (!display || display === 'none') {{\n",
       "            console.log([gd, 'removed!']);\n",
       "            Plotly.purge(gd);\n",
       "            observer.disconnect();\n",
       "        }}\n",
       "}});\n",
       "\n",
       "// Listen for the removal of the full notebook cells\n",
       "var notebookContainer = gd.closest('#notebook-container');\n",
       "if (notebookContainer) {{\n",
       "    x.observe(notebookContainer, {childList: true});\n",
       "}}\n",
       "\n",
       "// Listen for the clearing of the current output cell\n",
       "var outputEl = gd.closest('.output');\n",
       "if (outputEl) {{\n",
       "    x.observe(outputEl, {childList: true});\n",
       "}}\n",
       "\n",
       "                        })                };                });            </script>        </div>"
      ]
     },
     "metadata": {},
     "output_type": "display_data"
    }
   ],
   "source": [
    "plot_model(lda, plot = 'topic_distribution')"
   ]
  },
  {
   "cell_type": "code",
   "execution_count": 17,
   "id": "16e01388",
   "metadata": {},
   "outputs": [
    {
     "data": {
      "text/html": [
       "        <script type=\"text/javascript\">\n",
       "        window.PlotlyConfig = {MathJaxConfig: 'local'};\n",
       "        if (window.MathJax) {MathJax.Hub.Config({SVG: {font: \"STIX-Web\"}});}\n",
       "        if (typeof require !== 'undefined') {\n",
       "        require.undef(\"plotly\");\n",
       "        requirejs.config({\n",
       "            paths: {\n",
       "                'plotly': ['https://cdn.plot.ly/plotly-2.11.1.min']\n",
       "            }\n",
       "        });\n",
       "        require(['plotly'], function(Plotly) {\n",
       "            window._Plotly = Plotly;\n",
       "        });\n",
       "        }\n",
       "        </script>\n",
       "        "
      ]
     },
     "metadata": {},
     "output_type": "display_data"
    },
    {
     "name": "stderr",
     "output_type": "stream",
     "text": [
      "IOPub message rate exceeded.\n",
      "The notebook server will temporarily stop sending output\n",
      "to the client in order to avoid crashing it.\n",
      "To change this limit, set the config variable\n",
      "`--NotebookApp.iopub_msg_rate_limit`.\n",
      "\n",
      "Current values:\n",
      "NotebookApp.iopub_msg_rate_limit=1000.0 (msgs/sec)\n",
      "NotebookApp.rate_limit_window=3.0 (secs)\n",
      "\n",
      "IOPub message rate exceeded.\n",
      "The notebook server will temporarily stop sending output\n",
      "to the client in order to avoid crashing it.\n",
      "To change this limit, set the config variable\n",
      "`--NotebookApp.iopub_msg_rate_limit`.\n",
      "\n",
      "Current values:\n",
      "NotebookApp.iopub_msg_rate_limit=1000.0 (msgs/sec)\n",
      "NotebookApp.rate_limit_window=3.0 (secs)\n",
      "\n"
     ]
    },
    {
     "data": {
      "image/png": "[encoded data removed]",
      "text/plain": [
       "<Figure size 576x576 with 1 Axes>"
      ]
     },
     "metadata": {
      "needs_background": "light"
     },
     "output_type": "display_data"
    }
   ],
   "source": [
    "plot_model(lda, plot = 'wordcloud')"
   ]
  },
  {
   "cell_type": "code",
   "execution_count": 18,
   "id": "cf281760",
   "metadata": {},
   "outputs": [
    {
     "data": {
      "text/html": [
       "        <script type=\"text/javascript\">\n",
       "        window.PlotlyConfig = {MathJaxConfig: 'local'};\n",
       "        if (window.MathJax) {MathJax.Hub.Config({SVG: {font: \"STIX-Web\"}});}\n",
       "        if (typeof require !== 'undefined') {\n",
       "        require.undef(\"plotly\");\n",
       "        requirejs.config({\n",
       "            paths: {\n",
       "                'plotly': ['https://cdn.plot.ly/plotly-2.11.1.min']\n",
       "            }\n",
       "        });\n",
       "        require(['plotly'], function(Plotly) {\n",
       "            window._Plotly = Plotly;\n",
       "        });\n",
       "        }\n",
       "        </script>\n",
       "        "
      ]
     },
     "metadata": {},
     "output_type": "display_data"
    },
    {
     "data": {
      "text/html": [
       "\n",
       "<link rel=\"stylesheet\" type=\"text/css\" href=\"https://cdn.jsdelivr.net/gh/bmabey/pyLDAvis@3.2.2/pyLDAvis/js/ldavis.v1.0.0.css\">\n",
       "\n",
       "\n",
       "<div id=\"ldavis_el80341405972953079848796598843\"></div>\n",
       "<script type=\"text/javascript\">\n",
       "\n",
       "var ldavis_el80341405972953079848796598843_data = {\"mdsDat\": {\"x\": [-0.16143610322470306, 0.0523989434884642, 0.14956663717848975, -0.0405294774422509], \"y\": [0.060682702272320345, 0.12528297008152633, -0.03260678772926832, -0.15335888462457836], \"topics\": [1, 2, 3, 4], \"cluster\": [1, 1, 1, 1], \"Freq\": [33.84701404981128, 24.729393721844307, 22.392382852457395, 19.03120937588702]}, \"tinfo\": {\"Term\": [\"say\", \"police\", \"trump\", \"election\", \"company\", \"government\", \"party\", \"kill\", \"vote\", \"bill\", \"woman\", \"people\", \"leader\", \"federal\", \"man\", \"official\", \"military\", \"north_korea\", \"think\", \"tax\", \"arrest\", \"state\", \"thing\", \"attack\", \"get\", \"city\", \"email\", \"group\", \"refugee\", \"law\", \"hate\", \"racist\", \"getty_image\", \"racism\", \"literally\", \"joke\", \"mainstream_media\", \"white_supremacist\", \"featured_image\", \"funny\", \"stupid\", \"hannity\", \"disgusting\", \"brag\", \"viewer\", \"tape\", \"rant\", \"reilly\", \"hat\", \"realdonaldtrump\", \"pathetic\", \"liar\", \"fun\", \"whine\", \"hateful\", \"offend\", \"conway\", \"bigot\", \"featured_image_via\", \"hilarious\", \"love\", \"african_american\", \"audience\", \"kid\", \"fake_new\", \"guess\", \"guy\", \"laugh\", \"really\", \"watch\", \"white\", \"truth\", \"wonder\", \"thing\", \"tweet\", \"actually\", \"true\", \"seem\", \"twitter\", \"fact\", \"think\", \"get\", \"woman\", \"video\", \"lie\", \"go\", \"black\", \"know\", \"trump\", \"story\", \"even\", \"word\", \"let\", \"ever\", \"never\", \"people\", \"bad\", \"happen\", \"want\", \"make\", \"time\", \"good\", \"come\", \"look\", \"see\", \"show\", \"way\", \"well\", \"medium\", \"take\", \"say\", \"man\", \"tell\", \"campaign\", \"president\", \"call\", \"ask\", \"right\", \"many\", \"also\", \"give\", \"north_korea\", \"diplomat\", \"kurdish\", \"referendum\", \"merkel\", \"brexit\", \"diplomacy\", \"south_korea\", \"ballistic_missile\", \"opinion_poll\", \"foreign_minister\", \"labour\", \"security_council\", \"populist\", \"spd\", \"european_union\", \"bilateral\", \"korean_peninsula\", \"northern_ireland\", \"chemical_weapon\", \"elector\", \"gorsuch\", \"nuclear_test\", \"macron\", \"turnbull\", \"nuclear_deal\", \"reconciliation\", \"trade_deal\", \"envoy\", \"peace_talk\", \"missile\", \"summit\", \"sanction\", \"prime_minister\", \"negotiation\", \"iranian\", \"ballot\", \"ally\", \"minister\", \"stability\", \"parliament\", \"nuclear_weapon\", \"coalition\", \"independence\", \"opposition\", \"diplomatic\", \"party\", \"leader\", \"delegate\", \"chinese\", \"trade\", \"election\", \"relation\", \"vote\", \"foreign_policy\", \"nomination\", \"agreement\", \"region\", \"say\", \"united_state\", \"democratic\", \"voter\", \"military\", \"meeting\", \"support\", \"deal\", \"political\", \"country\", \"meet\", \"government\", \"official\", \"talk\", \"visit\", \"win\", \"presidential\", \"russian\", \"trump\", \"lead\", \"republican\", \"state\", \"policy\", \"also\", \"campaign\", \"former\", \"take\", \"call\", \"tell\", \"percent\", \"issue\", \"year\", \"make\", \"include\", \"payment\", \"technology\", \"consumer\", \"profit\", \"insurance\", \"coal\", \"deficit\", \"loan\", \"goldman_sach\", \"income\", \"disclosure\", \"hacker\", \"mortgage\", \"uranium\", \"nune\", \"emission\", \"regulator\", \"ethic\", \"automaker\", \"fiscal_year\", \"insurer\", \"tax_cut\", \"intelligence_committee\", \"retailer\", \"software\", \"tax\", \"mnuchin\", \"corporation\", \"provider\", \"classified_information\", \"company\", \"budget\", \"puerto_rico\", \"comey\", \"industry\", \"debt\", \"repeal\", \"bank\", \"taxpayer\", \"product\", \"revenue\", \"regulation\", \"bill\", \"spending\", \"legislation\", \"probe\", \"contract\", \"fund\", \"funding\", \"cost\", \"federal\", \"email\", \"program\", \"datum\", \"investigation\", \"business\", \"information\", \"financial\", \"document\", \"market\", \"agency\", \"taxis\", \"pay\", \"money\", \"system\", \"state\", \"pass\", \"say\", \"plan\", \"administration\", \"include\", \"government\", \"percent\", \"year\", \"report\", \"also\", \"law\", \"work\", \"public\", \"make\", \"use\", \"former\", \"official\", \"new\", \"accord\", \"trump\", \"police\", \"arrest\", \"convict\", \"firearm\", \"detention\", \"rakhine\", \"custody\", \"defendant\", \"rohingya\", \"raid\", \"inmate\", \"tourist\", \"mosque\", \"detainee\", \"passport\", \"pakistani\", \"convoy\", \"verdict\", \"rifle\", \"bangladesh\", \"indonesian\", \"somali\", \"evacuate\", \"patrol\", \"gunfire\", \"injury\", \"misdemeanor\", \"clinic\", \"handgun\", \"massacre\", \"police_officer\", \"trial\", \"refugee\", \"security_force\", \"shooting\", \"islamic\", \"nearby\", \"village\", \"prison\", \"injure\", \"airport\", \"resident\", \"flee\", \"kill\", \"detain\", \"soldier\", \"officer\", \"jail\", \"suspect\", \"gun\", \"city\", \"sentence\", \"town\", \"terrorist\", \"wound\", \"muslim\", \"terror\", \"authority\", \"militant\", \"migrant\", \"local\", \"shoot\", \"court\", \"area\", \"charge\", \"death\", \"attack\", \"crime\", \"victim\", \"group\", \"child\", \"case\", \"say\", \"people\", \"protest\", \"violence\", \"family\", \"law\", \"report\", \"government\", \"man\", \"military\", \"order\", \"country\", \"year\", \"state\", \"tell\", \"include\", \"also\", \"official\", \"take\", \"use\", \"call\"], \"Freq\": [36942.0, 2411.0, 12124.0, 5256.0, 2005.0, 6354.0, 2866.0, 1955.0, 4073.0, 1936.0, 3407.0, 9152.0, 2828.0, 2177.0, 2654.0, 4435.0, 2460.0, 1249.0, 3739.0, 1161.0, 1012.0, 6427.0, 2445.0, 2912.0, 4365.0, 1364.0, 1407.0, 3692.0, 880.0, 2731.0, 735.2584327731632, 730.1586559165756, 311.54625656460144, 278.53810846920305, 281.5430133886071, 260.1516029607812, 269.22616689783615, 200.4712283353009, 197.96575969029718, 169.61225641690191, 169.07445760238738, 157.5328779670574, 157.80048154617256, 140.19133731309583, 140.820461876091, 153.32381721271153, 136.74249071286573, 137.34771779407734, 130.76929555295672, 123.03258376601744, 122.18248283536948, 121.24357247367959, 115.26957872200857, 113.2374565092184, 114.08437060670292, 114.9452600600224, 113.87966742967201, 113.64769912446494, 110.92102809527202, 107.04091180802426, 652.3442965249252, 252.4889191234023, 297.0034485455264, 411.8029430073303, 334.9587671321251, 178.11828329048993, 476.41603813344943, 200.830835712506, 1590.4266541675458, 1426.2355851897823, 937.6327354128459, 450.8848184180351, 295.5416037235335, 2163.86954216728, 854.2120207676569, 1123.716127734207, 586.0831189508075, 1125.7766752933935, 1114.5818050249238, 1559.0960610764944, 3009.2290075077176, 3448.468941665512, 2731.6954069329568, 1491.977226085528, 967.7428994783336, 5311.9850483200635, 1302.8751569038106, 3332.869740426796, 7692.686297030875, 1206.8448892854244, 2814.6809644067016, 924.372254814774, 1160.187120387324, 979.5398777998123, 1426.9126704618047, 5088.657084080282, 1219.0408621325207, 1335.841748092047, 2616.1694953231154, 4050.778058985383, 2873.7716920242137, 1628.1403158734097, 2510.314921713079, 1531.740827641136, 2364.9297545287086, 2061.17172645358, 1800.9341166668084, 1747.5357511288253, 1530.9386196145545, 2845.0363714819687, 6286.914068234861, 1627.7854397757003, 2389.288430588741, 2096.6077441831467, 1729.092922299529, 2093.7330549242556, 1727.4935690167813, 1642.586328543823, 1627.8141288080558, 1711.7109849566255, 1613.7059957918138, 1248.3140720965296, 358.68764476592685, 251.5283746100346, 215.51634752877987, 177.72523479531986, 150.20801281386892, 149.77407686415833, 146.66077330026081, 132.35878735441915, 120.18799420783974, 153.3607610972482, 112.84527655946964, 109.1305593686424, 103.7845173475145, 96.76876262647025, 225.49789819543076, 90.60122349822291, 84.85967192798479, 79.90016724095798, 82.3213112045269, 79.67035193491787, 108.2989286125464, 75.59304166476846, 74.85900438849549, 74.9468054937779, 70.3898615260617, 68.77929939208886, 69.81388385346149, 61.64442337962612, 59.6049893682178, 372.36968918562366, 316.1436469986897, 942.7346523240026, 317.0338228338267, 345.7018001955259, 376.68203295802704, 226.87345434928153, 867.2745150343231, 157.55380193216237, 149.28106741047367, 348.76160073495197, 185.2034053681956, 526.120383848053, 279.42260576351254, 826.01227799532, 357.6371800344307, 2304.768676350436, 2263.9568334960372, 300.4987021120549, 496.19572392473424, 868.5968103584634, 3705.5639902785597, 481.15626594055476, 2785.677991705611, 304.69190807976065, 509.0548125643193, 687.7902747342539, 712.1003757084851, 15747.877483910534, 2064.6652451116834, 1179.5372772184462, 965.2528643502548, 1411.813326065545, 852.7076891173475, 1877.2840024350312, 1191.068389965861, 1644.686671228637, 2261.890339724516, 1079.2170366700507, 2636.4703423342735, 2049.746752401762, 1304.3457860143337, 867.1926091697001, 945.9696697641465, 1101.8577552099487, 1019.3645462738148, 3130.472089972387, 1258.2368354893783, 1438.836008362776, 2033.1489252546012, 1157.0209146794598, 1982.1393619005225, 1602.7505162583482, 1464.6559955123807, 1831.8033491554745, 1637.1604910488227, 1646.5125555139755, 1250.8277014322352, 1267.9026962939417, 1570.2825030968393, 1698.2256285955907, 1298.6426718535486, 355.7351474183609, 297.10396220022545, 229.00148568562295, 231.4059227337062, 214.58355591095386, 191.35749788462954, 181.61927065313003, 181.26782195175184, 167.9286809921255, 258.10581631578475, 158.00591727435662, 134.4656428163287, 124.29559103595804, 120.98515879064718, 116.67432985043307, 117.41310380969783, 114.35500367744532, 151.7996218951745, 103.39134133393308, 102.76242001504691, 100.36721377866881, 114.8208008033047, 101.18138931432411, 100.7803573975881, 96.45887215314853, 1151.7487520209447, 83.06793497579012, 167.60434655407124, 82.98115438043479, 80.68463608777249, 1949.7987972948229, 775.975127284363, 186.57366460812105, 363.7179055322606, 606.3431123206612, 478.34134041661287, 257.6524698204002, 595.5200553757461, 236.435060345463, 315.0675005806239, 239.01992686640034, 474.4296294451354, 1729.7569806810943, 400.1652970314604, 883.8297654473115, 384.4916578735599, 252.19648193087474, 1046.1705157597073, 468.3221017575024, 786.7495380509616, 1611.1215519248826, 1077.8633414372218, 1164.6529881716385, 421.5939385798661, 1146.096385091904, 1260.906868519275, 1019.5099378594484, 571.405466927688, 743.263443288535, 584.4114613136799, 887.4847681433779, 389.65178130152134, 1201.0296433426963, 901.5771672624932, 886.3930203054231, 2450.965602434107, 806.2982839248523, 7315.148170407073, 1333.566714400756, 1013.3688762079104, 1787.5175388660732, 2112.4612503667736, 1295.3454120975043, 1971.6142955825944, 1584.3096923848427, 1910.8413427423263, 1183.0446727320968, 1367.0631968241453, 1110.0944649895498, 1726.3661028089361, 1324.859686464774, 1251.8814872327366, 1313.9439625375576, 1142.4656257371626, 1119.0754267329369, 1300.9259262287367, 2411.139066765977, 1011.9820683538173, 246.02376325487435, 177.3906634786788, 165.55335577085248, 147.97648754279638, 137.66307864867753, 136.34766314805398, 128.45452625891787, 126.15273763874812, 120.329200907559, 114.25093972533035, 104.8542287733031, 81.32863893783359, 75.07247052659615, 98.62635743073034, 72.7595918277192, 69.14539109340545, 70.18726967563323, 65.01447232979281, 60.77911281349642, 59.570883050660605, 58.77764166083893, 75.2477683253209, 56.06997225712048, 138.22598698287456, 57.27227996875971, 56.435267080358386, 51.27731298730254, 54.03067707360868, 397.7975140802396, 362.06628020243323, 845.3737402523475, 234.65088330455103, 239.24256560943982, 194.77112971697906, 148.08037336793598, 173.60720984339244, 438.0635311272605, 268.5593115184828, 237.83611657504326, 471.7498188799984, 313.429380247713, 1680.9920067773162, 267.3072933127148, 394.01502627304535, 681.2550119740888, 369.2554639672138, 580.2739910712318, 847.0972520106084, 1080.3702205703623, 385.1829858678745, 404.04435462542915, 617.9660254196224, 221.30629072063743, 615.005982593773, 269.28783395395436, 754.9122478195203, 343.49255877281354, 350.9289267517739, 726.5530950473128, 656.3269550270587, 1082.5502809622164, 695.2161417678423, 890.412913619466, 630.3985035087939, 1456.9993245236044, 542.6710162395487, 550.449897359819, 1682.2372133533815, 951.6945366226952, 1201.5256619942247, 7592.820201064092, 2665.1693415725235, 682.5917858310308, 620.9514847742125, 937.7503511814356, 1085.6632296249702, 1356.0505656678956, 1604.8619799063474, 1023.4624093876565, 980.6988625604572, 855.6388323253302, 1290.6079519114653, 1366.7744430290008, 1368.6037553242331, 1166.625446940125, 1082.1240966082921, 1215.804871172992, 1063.9506007845764, 1060.5195049593988, 948.2647285683073, 857.921168828837], \"Total\": [36942.0, 2411.0, 12124.0, 5256.0, 2005.0, 6354.0, 2866.0, 1955.0, 4073.0, 1936.0, 3407.0, 9152.0, 2828.0, 2177.0, 2654.0, 4435.0, 2460.0, 1249.0, 3739.0, 1161.0, 1012.0, 6427.0, 2445.0, 2912.0, 4365.0, 1364.0, 1407.0, 3692.0, 880.0, 2731.0, 736.0179737654618, 730.9136181340085, 312.30404136506263, 279.30404680501476, 282.317284477588, 260.9097903313259, 270.0626884100809, 201.21582555335908, 198.72240961266917, 170.3566816394104, 169.84007269631223, 158.27533265760056, 158.54697807448673, 140.94056470328752, 141.57423124984052, 154.1520301643585, 137.48322397305358, 138.09305316290101, 131.5293479405011, 123.77361572893315, 122.93077478810238, 122.009063606398, 116.01231254723027, 113.97971870471845, 114.83597775503202, 115.70798580569928, 114.63694326008687, 114.42085142552064, 111.68241371333319, 107.77865691236198, 660.1944701948646, 254.66760432496548, 300.4920728715686, 418.9074313423215, 343.1765410987411, 180.9205591716936, 495.11419133723075, 204.7953073016137, 1749.4421037523557, 1564.0880582349075, 1011.5280154326892, 472.58306450913614, 305.7637526371676, 2445.9484410912787, 927.9420010517828, 1247.0995406053032, 641.4003647951197, 1288.4606430607364, 1282.0143945865207, 1843.0045724851338, 3739.245929426996, 4365.354533209381, 3407.226862863635, 1782.726396017193, 1115.26146469565, 7458.570429796669, 1583.7540618100168, 4659.71535568573, 12124.332567108071, 1479.944067574792, 4018.326192788182, 1108.7502755839907, 1451.9812830468397, 1194.071016901318, 1871.0711631617644, 9152.254653307078, 1577.6798596254075, 1819.9369859844578, 4339.76553703721, 8033.908616631931, 5262.751440004335, 2419.8315717509945, 4802.216006760589, 2257.1450085967053, 4414.211275558303, 3577.9677627434, 2960.2485703559746, 2830.1946336219416, 2299.6834251411115, 6726.052208231971, 36942.759923616555, 2654.5130453019506, 5817.007775661397, 4596.143950554472, 3155.6427036340756, 5306.706145680745, 3156.6525425667833, 2925.2419913247045, 3665.098354854149, 6820.496560772466, 3647.5557266077612, 1249.307050234571, 359.44901391790484, 252.28040815677937, 216.26498388400668, 178.48993283041094, 150.9522470657443, 150.53695954140815, 147.41488249924174, 133.1162605958809, 120.93222036441882, 154.32416784388806, 113.5940943172017, 109.88349705135381, 104.56236305637013, 97.51494276515359, 227.34677572029173, 91.35174186890849, 85.59626207355421, 80.63904820553914, 83.08615064189986, 80.42212969925525, 109.34696712540718, 76.34028985009965, 75.59937053837733, 75.69063545532556, 71.13546268721981, 69.56007355529448, 70.6208783164536, 62.393652610508894, 60.35133456283254, 378.40902111146914, 322.08189346641643, 985.6322903026327, 327.97940821817537, 359.09776375252414, 392.2801111916847, 234.0964188552779, 924.6226838539428, 161.59995209901345, 153.2749092356426, 369.97888568603554, 192.66349511500385, 574.271625104686, 295.8768675774711, 932.916796167113, 385.21060507781067, 2866.218530320177, 2828.6864629902525, 322.85245686057976, 558.8552361464879, 1033.1191626695036, 5256.896530410015, 554.557962712005, 4073.3111286467006, 338.9814864812576, 612.6131819440653, 867.3397104264901, 907.9224504692486, 36942.759923616555, 3313.443828655223, 1906.809942520718, 1497.7133616015242, 2460.0110668204634, 1282.957740265139, 3711.677357166568, 2042.9246198139815, 3215.967013840048, 5079.7123331809735, 1795.1677181477373, 6354.340481477505, 4435.593444813428, 2400.9970123383428, 1346.7338104049445, 1542.2841575923283, 1973.4270055550046, 1770.7088630294045, 12124.332567108071, 2587.7919139736446, 3367.399815767224, 6427.006713943172, 2274.3229929605714, 6820.496560772466, 4596.143950554472, 3800.7479607752134, 6726.052208231971, 5306.706145680745, 5817.007775661397, 2817.9250639500674, 2942.682840584862, 6119.565021362732, 8033.908616631931, 4574.599870186475, 356.5071754040713, 297.91861244116006, 229.75200297886389, 232.17784535292418, 215.3436267105327, 192.12363636891249, 182.38231894397632, 182.0310339327034, 168.68228215141696, 259.36163658756385, 158.81769719747237, 135.2265549095773, 125.0363847286275, 121.7286169560826, 117.41542022664454, 118.16478886472136, 115.0909978143245, 152.82662841252952, 104.12838658878857, 103.5108881718708, 101.10676687614549, 115.67272420494305, 101.94867793124313, 101.5518931438084, 97.21537682830119, 1161.389702796275, 83.81049044635864, 169.13753066353658, 83.74574512953663, 81.43256300977033, 2005.0272327520452, 792.4211753287457, 188.6157272751733, 371.2987510076051, 624.0193857672592, 490.18060631727184, 262.33287752107844, 617.7556746088819, 240.7326662728308, 324.77623823080074, 245.1953128753018, 500.1876869433454, 1936.615209894977, 424.4373292142382, 983.3070856865897, 411.78612034211363, 263.5435978519865, 1234.0910345486775, 517.3494836078671, 927.120022426768, 2177.3657518640416, 1407.150235728068, 1548.9851470499902, 481.39295887662115, 1579.0988404349712, 1770.1412638830957, 1388.1725360220378, 693.1888058035884, 956.8161275000728, 713.8528841777963, 1213.9685418414738, 440.90808684566554, 1972.430335839411, 1398.0901627760893, 1414.8952067296518, 6427.006713943172, 1253.3314258395828, 36942.759923616555, 2748.7699841966287, 1842.385603674691, 4574.599870186475, 6354.340481477505, 2817.9250639500674, 6119.565021362732, 4177.233941085777, 6820.496560772466, 2731.836071689796, 3910.3543458260247, 2510.07897241393, 8033.908616631931, 4264.262062563148, 3800.7479607752134, 4435.593444813428, 3246.0355199527585, 3022.245993253766, 12124.332567108071, 2411.9553250080994, 1012.7534537306389, 246.8075941980674, 178.16485112081148, 166.31907143709674, 148.71781384329088, 138.41896988165396, 137.10076530135268, 129.1953025876113, 126.91821382413627, 121.08093871490597, 115.02333382007978, 105.60482694267336, 82.08666564634835, 75.86353211528458, 99.67743877199952, 73.54407155578225, 69.9103700014314, 70.97683449061041, 65.75766410736489, 61.535810855159944, 60.31619207604143, 59.54325314909062, 76.2417078659246, 56.81979044937357, 140.08806735367506, 58.0636923425627, 57.23829722465713, 52.032746108169114, 54.82823186512527, 408.1652322231814, 373.49022660573536, 880.3103236717315, 242.5954770421512, 247.70942361730746, 203.53436271556063, 153.55251055391872, 181.1321479071262, 471.7048720757143, 284.61154175734447, 251.83677084207406, 514.5458187757987, 336.43876616759337, 1955.6034437010003, 286.0112797303672, 437.13746977542036, 789.3338112445687, 411.77567661105394, 679.5665407908677, 1038.6179155903287, 1364.1057070707966, 436.83409406692004, 463.68941815138123, 748.1285945814411, 238.95691428848485, 774.981985261173, 299.47594176564024, 996.650527333675, 404.7731406352023, 419.5253458455857, 1052.2314550594067, 930.0568618190721, 1814.135828102808, 1020.2718808840557, 1424.0244503621193, 919.91612110903, 2912.3347083810227, 752.9095326822356, 768.086176911134, 3692.1922981305997, 1686.8634381957245, 2371.317039996557, 36942.759923616555, 9152.254653307078, 1113.5275075962368, 952.6328020089824, 2042.7416765228022, 2731.836071689796, 4177.233941085777, 6354.340481477505, 2654.5130453019506, 2460.0110668204634, 1879.6357461405646, 5079.7123331809735, 6119.565021362732, 6427.006713943172, 5817.007775661397, 4574.599870186475, 6820.496560772466, 4435.593444813428, 6726.052208231971, 4264.262062563148, 5306.706145680745], \"Category\": [\"Default\", \"Default\", \"Default\", \"Default\", \"Default\", \"Default\", \"Default\", \"Default\", \"Default\", \"Default\", \"Default\", \"Default\", \"Default\", \"Default\", \"Default\", \"Default\", \"Default\", \"Default\", \"Default\", \"Default\", \"Default\", \"Default\", \"Default\", \"Default\", \"Default\", \"Default\", \"Default\", \"Default\", \"Default\", \"Default\", \"Topic1\", \"Topic1\", \"Topic1\", \"Topic1\", \"Topic1\", \"Topic1\", \"Topic1\", \"Topic1\", \"Topic1\", \"Topic1\", \"Topic1\", \"Topic1\", \"Topic1\", \"Topic1\", \"Topic1\", \"Topic1\", \"Topic1\", \"Topic1\", \"Topic1\", \"Topic1\", \"Topic1\", \"Topic1\", \"Topic1\", \"Topic1\", \"Topic1\", \"Topic1\", \"Topic1\", \"Topic1\", \"Topic1\", \"Topic1\", \"Topic1\", \"Topic1\", \"Topic1\", \"Topic1\", \"Topic1\", \"Topic1\", \"Topic1\", \"Topic1\", \"Topic1\", \"Topic1\", \"Topic1\", \"Topic1\", \"Topic1\", \"Topic1\", \"Topic1\", \"Topic1\", \"Topic1\", \"Topic1\", \"Topic1\", \"Topic1\", \"Topic1\", \"Topic1\", \"Topic1\", \"Topic1\", \"Topic1\", \"Topic1\", \"Topic1\", \"Topic1\", \"Topic1\", \"Topic1\", \"Topic1\", \"Topic1\", \"Topic1\", \"Topic1\", \"Topic1\", \"Topic1\", \"Topic1\", \"Topic1\", \"Topic1\", \"Topic1\", \"Topic1\", \"Topic1\", \"Topic1\", \"Topic1\", \"Topic1\", \"Topic1\", \"Topic1\", \"Topic1\", \"Topic1\", \"Topic1\", \"Topic1\", \"Topic1\", \"Topic1\", \"Topic1\", \"Topic1\", \"Topic1\", \"Topic1\", \"Topic1\", \"Topic1\", \"Topic1\", \"Topic1\", \"Topic2\", \"Topic2\", \"Topic2\", \"Topic2\", \"Topic2\", \"Topic2\", \"Topic2\", \"Topic2\", \"Topic2\", \"Topic2\", \"Topic2\", \"Topic2\", \"Topic2\", \"Topic2\", \"Topic2\", \"Topic2\", \"Topic2\", \"Topic2\", \"Topic2\", \"Topic2\", \"Topic2\", \"Topic2\", \"Topic2\", \"Topic2\", \"Topic2\", \"Topic2\", \"Topic2\", \"Topic2\", \"Topic2\", \"Topic2\", \"Topic2\", \"Topic2\", \"Topic2\", \"Topic2\", \"Topic2\", \"Topic2\", \"Topic2\", \"Topic2\", \"Topic2\", \"Topic2\", \"Topic2\", \"Topic2\", \"Topic2\", \"Topic2\", \"Topic2\", \"Topic2\", \"Topic2\", \"Topic2\", \"Topic2\", \"Topic2\", \"Topic2\", \"Topic2\", \"Topic2\", \"Topic2\", \"Topic2\", \"Topic2\", \"Topic2\", \"Topic2\", \"Topic2\", \"Topic2\", \"Topic2\", \"Topic2\", \"Topic2\", \"Topic2\", \"Topic2\", \"Topic2\", \"Topic2\", \"Topic2\", \"Topic2\", \"Topic2\", \"Topic2\", \"Topic2\", \"Topic2\", \"Topic2\", \"Topic2\", \"Topic2\", \"Topic2\", \"Topic2\", \"Topic2\", \"Topic2\", \"Topic2\", \"Topic2\", \"Topic2\", \"Topic2\", \"Topic2\", \"Topic2\", \"Topic2\", \"Topic2\", \"Topic2\", \"Topic2\", \"Topic2\", \"Topic2\", \"Topic3\", \"Topic3\", \"Topic3\", \"Topic3\", \"Topic3\", \"Topic3\", \"Topic3\", \"Topic3\", \"Topic3\", \"Topic3\", \"Topic3\", \"Topic3\", \"Topic3\", \"Topic3\", \"Topic3\", \"Topic3\", \"Topic3\", \"Topic3\", \"Topic3\", \"Topic3\", \"Topic3\", \"Topic3\", \"Topic3\", \"Topic3\", \"Topic3\", \"Topic3\", \"Topic3\", \"Topic3\", \"Topic3\", \"Topic3\", \"Topic3\", \"Topic3\", \"Topic3\", \"Topic3\", \"Topic3\", \"Topic3\", \"Topic3\", \"Topic3\", \"Topic3\", \"Topic3\", \"Topic3\", \"Topic3\", \"Topic3\", \"Topic3\", \"Topic3\", \"Topic3\", \"Topic3\", \"Topic3\", \"Topic3\", \"Topic3\", \"Topic3\", \"Topic3\", \"Topic3\", \"Topic3\", \"Topic3\", \"Topic3\", \"Topic3\", \"Topic3\", \"Topic3\", \"Topic3\", \"Topic3\", \"Topic3\", \"Topic3\", \"Topic3\", \"Topic3\", \"Topic3\", \"Topic3\", \"Topic3\", \"Topic3\", \"Topic3\", \"Topic3\", \"Topic3\", \"Topic3\", \"Topic3\", \"Topic3\", \"Topic3\", \"Topic3\", \"Topic3\", \"Topic3\", \"Topic3\", \"Topic3\", \"Topic3\", \"Topic3\", \"Topic3\", \"Topic3\", \"Topic3\", \"Topic4\", \"Topic4\", \"Topic4\", \"Topic4\", \"Topic4\", \"Topic4\", \"Topic4\", \"Topic4\", \"Topic4\", \"Topic4\", \"Topic4\", \"Topic4\", \"Topic4\", \"Topic4\", \"Topic4\", \"Topic4\", \"Topic4\", \"Topic4\", \"Topic4\", \"Topic4\", \"Topic4\", \"Topic4\", \"Topic4\", \"Topic4\", \"Topic4\", \"Topic4\", \"Topic4\", \"Topic4\", \"Topic4\", \"Topic4\", \"Topic4\", \"Topic4\", \"Topic4\", \"Topic4\", \"Topic4\", \"Topic4\", \"Topic4\", \"Topic4\", \"Topic4\", \"Topic4\", \"Topic4\", \"Topic4\", \"Topic4\", \"Topic4\", \"Topic4\", \"Topic4\", \"Topic4\", \"Topic4\", \"Topic4\", \"Topic4\", \"Topic4\", \"Topic4\", \"Topic4\", \"Topic4\", \"Topic4\", \"Topic4\", \"Topic4\", \"Topic4\", \"Topic4\", \"Topic4\", \"Topic4\", \"Topic4\", \"Topic4\", \"Topic4\", \"Topic4\", \"Topic4\", \"Topic4\", \"Topic4\", \"Topic4\", \"Topic4\", \"Topic4\", \"Topic4\", \"Topic4\", \"Topic4\", \"Topic4\", \"Topic4\", \"Topic4\", \"Topic4\", \"Topic4\", \"Topic4\", \"Topic4\", \"Topic4\", \"Topic4\", \"Topic4\", \"Topic4\", \"Topic4\", \"Topic4\", \"Topic4\", \"Topic4\", \"Topic4\", \"Topic4\", \"Topic4\", \"Topic4\"], \"logprob\": [30.0, 29.0, 28.0, 27.0, 26.0, 25.0, 24.0, 23.0, 22.0, 21.0, 20.0, 19.0, 18.0, 17.0, 16.0, 15.0, 14.0, 13.0, 12.0, 11.0, 10.0, 9.0, 8.0, 7.0, 6.0, 5.0, 4.0, 3.0, 2.0, 1.0, -6.557, -6.5639, -7.4157, -7.5276, -7.5169, -7.5959, -7.5616, -7.8565, -7.8691, -8.0237, -8.0269, -8.0976, -8.0959, -8.2142, -8.2097, -8.1246, -8.2391, -8.2347, -8.2838, -8.3447, -8.3517, -8.3594, -8.4099, -8.4277, -8.4203, -8.4127, -8.4221, -8.4241, -8.4484, -8.484, -6.6766, -7.6258, -7.4635, -7.1367, -7.3432, -7.9748, -6.9909, -7.8547, -5.7854, -5.8944, -6.3138, -7.046, -7.4684, -5.4775, -6.407, -6.1328, -6.7837, -6.131, -6.141, -5.8053, -5.1478, -5.0115, -5.2445, -5.8493, -6.2822, -4.5795, -5.9849, -5.0456, -4.2092, -6.0614, -5.2146, -6.3281, -6.1009, -6.2701, -5.8939, -4.6224, -6.0514, -5.9599, -5.2877, -4.8505, -5.1938, -5.762, -5.329, -5.823, -5.3887, -5.5262, -5.6611, -5.6912, -5.8236, -5.2039, -4.411, -5.7622, -5.3784, -5.5091, -5.7018, -5.5105, -5.7028, -5.7532, -5.7622, -5.712, -5.7709, -5.7138, -6.9609, -7.3158, -7.4703, -7.6631, -7.8313, -7.8342, -7.8552, -7.9578, -8.0543, -7.8105, -8.1173, -8.1508, -8.201, -8.271, -7.425, -8.3369, -8.4023, -8.4626, -8.4327, -8.4654, -8.1584, -8.518, -8.5277, -8.5266, -8.5893, -8.6124, -8.5975, -8.722, -8.7556, -6.9235, -7.0871, -5.9946, -7.0843, -6.9978, -6.9119, -7.4189, -6.078, -7.7836, -7.8375, -6.989, -7.6219, -6.5778, -7.2106, -6.1267, -6.9638, -5.1006, -5.1185, -7.1379, -6.6364, -6.0765, -4.6257, -6.6671, -4.9111, -7.124, -6.6108, -6.3099, -6.2751, -3.1789, -5.2106, -5.7705, -5.971, -5.5907, -6.0949, -5.3058, -5.7607, -5.438, -5.1194, -5.8593, -4.9661, -5.2179, -5.6699, -6.0781, -5.9911, -5.8386, -5.9164, -4.7944, -5.7059, -5.5718, -5.226, -5.7897, -5.2514, -5.4639, -5.554, -5.3303, -5.4426, -5.4369, -5.7118, -5.6982, -5.4843, -5.406, -5.6743, -6.8699, -7.05, -7.3103, -7.2999, -7.3754, -7.4899, -7.5422, -7.5441, -7.6205, -7.1907, -7.6814, -7.8428, -7.9214, -7.9484, -7.9847, -7.9784, -8.0048, -7.7215, -8.1055, -8.1116, -8.1352, -8.0007, -8.1272, -8.1311, -8.175, -5.695, -8.3244, -7.6225, -8.3255, -8.3535, -5.1686, -6.0899, -7.5152, -6.8477, -6.3366, -6.5737, -7.1925, -6.3546, -7.2784, -6.9913, -7.2675, -6.582, -5.2883, -6.7522, -5.9598, -6.7921, -7.2139, -5.7912, -6.5949, -6.0762, -5.3594, -5.7613, -5.6839, -6.7, -5.7, -5.6045, -5.817, -6.396, -6.133, -6.3735, -5.9557, -6.7788, -5.6531, -5.9399, -5.9569, -4.9398, -6.0516, -3.8464, -5.5485, -5.823, -5.2555, -5.0885, -5.5775, -5.1575, -5.3762, -5.1888, -5.6682, -5.5236, -5.7319, -5.2903, -5.555, -5.6117, -5.5633, -5.7031, -5.7238, -5.5732, -4.7936, -5.6618, -7.076, -7.4031, -7.4721, -7.5844, -7.6566, -7.6662, -7.7259, -7.7439, -7.7912, -7.843, -7.9289, -8.1829, -8.263, -7.9901, -8.2943, -8.3452, -8.3303, -8.4068, -8.4742, -8.4943, -8.5077, -8.2606, -8.5548, -7.6525, -8.5336, -8.5483, -8.6442, -8.5919, -6.5955, -6.6896, -5.8416, -7.1233, -7.104, -7.3096, -7.5837, -7.4246, -6.4991, -6.9884, -7.1098, -6.425, -6.8339, -5.1543, -6.993, -6.605, -6.0575, -6.6699, -6.2179, -5.8396, -5.5964, -6.6277, -6.5799, -6.155, -7.1819, -6.1598, -6.9856, -5.9548, -6.7423, -6.7208, -5.9931, -6.0948, -5.5944, -6.0372, -5.7897, -6.1351, -5.2973, -6.2849, -6.2707, -5.1535, -5.7232, -5.4901, -3.6465, -4.6934, -6.0555, -6.1502, -5.7379, -5.5915, -5.3691, -5.2006, -5.6505, -5.6932, -5.8296, -5.4186, -5.3612, -5.3599, -5.5196, -5.5947, -5.4783, -5.6117, -5.6149, -5.7268, -5.8269], \"loglift\": [30.0, 29.0, 28.0, 27.0, 26.0, 25.0, 24.0, 23.0, 22.0, 21.0, 20.0, 19.0, 18.0, 17.0, 16.0, 15.0, 14.0, 13.0, 12.0, 11.0, 10.0, 9.0, 8.0, 7.0, 6.0, 5.0, 4.0, 3.0, 2.0, 1.0, 1.0823, 1.0823, 1.0809, 1.0806, 1.0806, 1.0804, 1.0802, 1.0796, 1.0795, 1.0789, 1.0788, 1.0786, 1.0786, 1.078, 1.078, 1.0779, 1.0779, 1.0779, 1.0775, 1.0773, 1.0772, 1.077, 1.0769, 1.0768, 1.0768, 1.0767, 1.0767, 1.0765, 1.0765, 1.0765, 1.0714, 1.0747, 1.0716, 1.0662, 1.0591, 1.0677, 1.0448, 1.0638, 0.988, 0.9911, 1.0075, 1.0363, 1.0493, 0.9608, 1.0005, 0.9791, 0.9931, 0.9483, 0.9434, 0.916, 0.8661, 0.8476, 0.8623, 0.9053, 0.9414, 0.7439, 0.8881, 0.7482, 0.6284, 0.8793, 0.7273, 0.9014, 0.859, 0.8853, 0.8123, 0.4963, 0.8254, 0.7741, 0.5772, 0.3986, 0.4783, 0.6871, 0.4347, 0.6956, 0.4592, 0.5318, 0.5864, 0.6012, 0.6764, 0.2229, -0.6876, 0.5943, 0.1935, 0.2984, 0.4817, 0.1533, 0.4805, 0.5062, 0.2717, -0.2991, 0.2678, 1.3964, 1.3951, 1.3942, 1.3937, 1.3929, 1.3922, 1.3921, 1.392, 1.3915, 1.391, 1.3909, 1.3906, 1.3903, 1.3897, 1.3895, 1.389, 1.3889, 1.3885, 1.388, 1.3879, 1.3878, 1.3875, 1.3873, 1.3873, 1.3873, 1.3866, 1.3859, 1.3857, 1.3851, 1.3847, 1.3811, 1.3786, 1.3527, 1.3632, 1.3592, 1.3566, 1.3658, 1.3331, 1.3718, 1.3708, 1.3381, 1.3577, 1.3096, 1.34, 1.2755, 1.3229, 1.1792, 1.1745, 1.3254, 1.2783, 1.2237, 1.0475, 1.2552, 1.0172, 1.2905, 1.212, 1.1652, 1.1542, 0.5445, 0.9242, 0.9169, 0.9579, 0.8419, 0.9887, 0.7155, 0.8576, 0.7266, 0.5881, 0.8883, 0.5175, 0.6252, 0.787, 0.957, 0.9084, 0.8144, 0.845, 0.0431, 0.6761, 0.5469, 0.2463, 0.7213, 0.1614, 0.3437, 0.4436, 0.0965, 0.2212, 0.1351, 0.585, 0.5552, 0.0369, -0.1569, 0.138, 1.4943, 1.4937, 1.4932, 1.4931, 1.4929, 1.4925, 1.4923, 1.4922, 1.492, 1.4916, 1.4913, 1.4908, 1.4905, 1.4903, 1.4901, 1.4901, 1.49, 1.4897, 1.4893, 1.4892, 1.4891, 1.4891, 1.4889, 1.4888, 1.4886, 1.4881, 1.4875, 1.4873, 1.4873, 1.4872, 1.4685, 1.4755, 1.4856, 1.4758, 1.4677, 1.472, 1.4784, 1.4598, 1.4784, 1.4661, 1.4709, 1.4436, 1.3835, 1.4376, 1.3898, 1.4279, 1.4524, 1.3313, 1.3969, 1.3323, 1.1953, 1.2299, 1.2113, 1.3638, 1.176, 1.1572, 1.1878, 1.3032, 1.2439, 1.2964, 1.1832, 1.3729, 1.0004, 1.0577, 1.0288, 0.5324, 1.0553, -0.123, 0.7732, 0.8987, 0.5568, 0.3952, 0.7192, 0.3638, 0.5269, 0.2241, 0.6596, 0.4455, 0.6806, -0.0412, 0.3275, 0.3859, 0.2798, 0.4522, 0.503, -0.7357, 1.6588, 1.6583, 1.6559, 1.6547, 1.6545, 1.6541, 1.6536, 1.6536, 1.6533, 1.653, 1.6529, 1.6524, 1.652, 1.6498, 1.6486, 1.6485, 1.6484, 1.6481, 1.6479, 1.6477, 1.6467, 1.6467, 1.6461, 1.646, 1.6458, 1.6457, 1.6454, 1.645, 1.6445, 1.6444, 1.6334, 1.628, 1.6186, 1.6258, 1.6243, 1.6151, 1.6228, 1.6167, 1.5851, 1.601, 1.6019, 1.5723, 1.5882, 1.5078, 1.5915, 1.5552, 1.5118, 1.5501, 1.5011, 1.4553, 1.4259, 1.5333, 1.5214, 1.4679, 1.5824, 1.4279, 1.5528, 1.3813, 1.4949, 1.4805, 1.2887, 1.3105, 1.1428, 1.2755, 1.1895, 1.2812, 0.9665, 1.3316, 1.3259, 0.873, 1.0867, 0.9792, 0.0769, 0.4254, 1.1697, 1.2311, 0.8805, 0.7363, 0.534, 0.283, 0.706, 0.7394, 0.8721, 0.2889, 0.1601, 0.1124, 0.0524, 0.2175, -0.0654, 0.2314, -0.1881, 0.1557, -0.1631]}, \"token.table\": {\"Topic\": [1, 2, 3, 4, 1, 2, 3, 4, 1, 2, 3, 4, 1, 2, 2, 3, 4, 2, 3, 4, 2, 3, 4, 1, 2, 3, 4, 1, 2, 3, 4, 1, 2, 3, 4, 4, 1, 2, 3, 4, 1, 2, 3, 4, 1, 3, 2, 3, 4, 3, 1, 2, 3, 4, 2, 1, 2, 4, 2, 3, 4, 1, 2, 1, 2, 3, 4, 1, 2, 4, 1, 2, 2, 3, 1, 2, 3, 4, 1, 2, 3, 4, 1, 2, 3, 4, 1, 2, 3, 4, 1, 2, 3, 4, 2, 1, 3, 4, 2, 3, 4, 1, 2, 3, 4, 3, 4, 3, 2, 3, 4, 1, 2, 3, 4, 1, 3, 1, 2, 3, 4, 3, 3, 4, 4, 4, 1, 1, 3, 1, 2, 3, 4, 1, 2, 3, 4, 1, 2, 3, 4, 1, 2, 3, 4, 4, 2, 3, 4, 1, 2, 3, 4, 1, 2, 4, 2, 3, 4, 3, 1, 2, 1, 2, 3, 2, 4, 4, 4, 2, 2, 2, 3, 4, 3, 1, 1, 3, 4, 1, 2, 3, 2, 1, 2, 3, 3, 2, 1, 3, 2, 4, 4, 1, 2, 3, 4, 1, 2, 3, 4, 1, 2, 3, 4, 1, 3, 1, 2, 3, 4, 1, 1, 2, 3, 4, 2, 3, 4, 4, 3, 2, 4, 2, 1, 2, 1, 2, 3, 4, 1, 1, 2, 3, 4, 2, 3, 4, 1, 1, 2, 3, 4, 1, 1, 2, 3, 4, 1, 2, 3, 4, 3, 1, 2, 3, 4, 2, 4, 1, 2, 3, 4, 1, 2, 3, 4, 1, 3, 1, 4, 4, 1, 4, 3, 4, 1, 1, 2, 3, 4, 1, 1, 1, 1, 1, 2, 3, 4, 1, 3, 2, 3, 4, 4, 1, 3, 1, 2, 3, 4, 1, 4, 1, 4, 4, 3, 3, 3, 1, 2, 3, 4, 2, 4, 2, 4, 1, 2, 3, 4, 1, 4, 1, 1, 4, 1, 2, 3, 4, 1, 2, 3, 4, 2, 2, 2, 1, 3, 1, 2, 3, 4, 1, 2, 3, 4, 1, 2, 3, 4, 2, 3, 4, 1, 2, 3, 4, 1, 1, 2, 3, 4, 1, 3, 1, 2, 3, 4, 1, 2, 3, 4, 1, 4, 2, 1, 1, 2, 3, 4, 1, 2, 4, 1, 2, 3, 4, 1, 2, 3, 4, 4, 1, 2, 3, 4, 1, 2, 3, 4, 1, 2, 3, 4, 2, 2, 4, 2, 4, 1, 2, 3, 4, 2, 4, 4, 2, 3, 3, 1, 2, 3, 4, 3, 4, 1, 2, 4, 1, 4, 2, 3, 1, 2, 3, 4, 1, 2, 3, 4, 1, 2, 3, 2, 2, 2, 2, 2, 3, 3, 1, 1, 2, 3, 4, 1, 2, 3, 4, 2, 1, 2, 3, 4, 1, 2, 3, 4, 2, 4, 2, 4, 1, 2, 3, 1, 2, 3, 4, 4, 1, 4, 1, 2, 3, 4, 3, 2, 1, 2, 3, 4, 1, 2, 3, 4, 1, 2, 3, 4, 4, 1, 4, 1, 2, 3, 4, 1, 2, 3, 4, 2, 1, 2, 3, 4, 1, 2, 3, 2, 4, 1, 3, 4, 2, 3, 4, 1, 3, 3, 1, 2, 3, 4, 1, 2, 3, 4, 3, 1, 2, 3, 4, 1, 3, 1, 1, 4, 4, 1, 1, 1, 2, 3, 4, 2, 2, 2, 4, 2, 3, 4, 2, 3, 4, 3, 1, 1, 2, 3, 4, 1, 3, 1, 2, 3, 4, 1, 2, 3, 1, 3, 4, 3, 2, 3, 4, 1, 2, 3, 4, 4, 1, 2, 3, 2, 3, 1, 2, 3, 4, 2, 2, 4, 1, 2, 3, 4, 1, 2, 3, 4, 1, 3, 4, 1, 2, 4, 1, 4, 1, 2, 3, 4, 3, 1, 2, 4, 4, 2, 2, 1, 2, 3, 2, 3, 1, 2, 3, 4, 1, 3, 4, 1, 1, 2, 3, 1, 2, 3, 4, 1, 2, 3, 4, 1, 2, 3, 4, 1, 2, 3, 4, 1, 2, 3, 4, 1, 2, 3, 3, 1, 3, 3, 4, 3, 1, 2, 3, 4, 1, 4, 1, 2, 4, 1, 2, 3, 4, 1, 2, 3, 4, 1, 2, 3, 4, 4, 1, 2, 4, 2, 3, 2, 3, 4, 1, 2, 3, 4, 1, 2, 3, 1, 2, 3, 4, 2, 1, 2, 3, 1, 2, 3, 4, 1, 2, 3, 4, 3, 1, 2, 3, 4, 4, 1, 3, 4, 1, 4, 1, 1, 4, 1, 2, 4, 1, 2, 3, 4, 1, 2, 3, 1, 2, 1, 2, 3, 4, 1, 2, 3, 4, 1, 2, 3, 4, 1, 2, 3, 4, 1, 1, 4, 1, 1, 2, 3, 1, 2, 4, 1, 4, 1, 2, 3, 4, 1, 2, 3, 4, 1, 2, 4, 1, 2, 3, 4], \"Freq\": [0.16974131197298786, 0.18992497674950298, 0.3702544407364004, 0.26999787635469413, 0.9012913271176778, 0.02245209711681048, 0.06334698829385814, 0.01363163039234922, 0.09661386826133134, 0.3452046079449816, 0.5498306098243182, 0.008141618111909943, 0.9895251524745899, 0.007853374225988809, 0.08237445745365823, 0.7306614376139485, 0.1861662738452676, 0.7932301400816701, 0.2052252397304321, 0.0011529507850024277, 0.011912478030784827, 0.0436790861128777, 0.9450565904422629, 0.03677175629986034, 0.9376797856464387, 0.01838587814993017, 0.007570655708794776, 0.2510081171870138, 0.2905946777246854, 0.2801848784721866, 0.17828613931040235, 0.0009801309030819409, 0.21464866777494507, 0.1029137448236038, 0.6811909776419489, 0.9992560344002152, 0.5470985408472345, 0.1796206558543034, 0.1777199081733055, 0.0953541753300623, 0.3540115073425529, 0.11228105034046051, 0.03330661126307238, 0.5002859031989326, 0.9883788186550228, 0.009983624430858816, 0.10133943366307532, 0.14047050210723314, 0.7575373506497215, 0.9891635064581893, 0.7726535853030603, 0.11345774550389483, 0.060848846750692194, 0.05324274090685567, 0.9916143933815141, 0.029902208817331417, 0.9696859145048903, 0.9884779345852702, 0.03399402201087943, 0.9647827199278161, 0.0016187629528990203, 0.9963218991968908, 0.996149587717624, 0.08520019834448578, 0.02117095837650859, 0.8933111705209721, 0.000516364838451429, 0.8227287502649542, 0.001894233500226295, 0.17553230435430334, 0.9933265152919769, 0.9936917330860959, 0.02019128273971503, 0.979277212876179, 0.09999201962657003, 0.16947799936706787, 0.712372524006242, 0.018077653265820573, 0.3945950543548292, 0.3084776045744295, 0.13530050096789273, 0.16168221424854035, 0.4562520283436773, 0.34877062538622544, 0.19494602641675482, 0.000217573690197271, 0.15097095578603853, 0.04554431068405632, 0.2968814326071819, 0.5068913096503306, 0.07092574848298175, 0.042134108009692126, 0.2619337047935861, 0.6249892688104333, 0.9869274165007216, 0.358060994342281, 0.07706610805380221, 0.5643610374401515, 0.887528590445179, 0.10915170164749177, 0.0017893721581556028, 0.07110885871762264, 0.05644723836347364, 0.07990583093011203, 0.7917274991240458, 0.9946880830741084, 0.9783659318201433, 0.9941514933292492, 0.9159428692025549, 0.0034826725064735923, 0.08010146764889263, 0.5226753641373912, 0.18553934240893052, 0.1443083774291682, 0.147223698185313, 0.01885274319130856, 0.9803426459480452, 0.001994985372098767, 0.02344107812216051, 0.972555368898149, 0.001994985372098767, 0.9967268926097977, 0.9561985267482397, 0.041738824580280304, 0.9967278389439699, 0.992602101783696, 0.9944438220178135, 0.005912348347980136, 0.9932745224606627, 0.07442402097992681, 0.03667270599010887, 0.8488652827710493, 0.03990853298923612, 0.2256033264943493, 0.445300806745391, 0.07500424729000618, 0.25414825000366925, 0.014331892682583945, 0.22269556322168899, 0.16647044577462888, 0.596978452893785, 0.1978989420803166, 0.002656361638661968, 0.07836266834052806, 0.7212021848967243, 0.9969731758442345, 0.03323687998540238, 0.8766227096149878, 0.08932411496076889, 0.14831677931787304, 0.5829877365266891, 0.24817362083881728, 0.020069267168425067, 0.27176390788608606, 0.04348222526177377, 0.6848450478729369, 0.022440708298606567, 0.9751507787939944, 0.9919711221236938, 0.9979037499567392, 0.06814258195191761, 0.9292170266170583, 0.1526109097246005, 0.6188346167526756, 0.22865414652895472, 0.06293458082132014, 0.9335296155162488, 0.9867619711704456, 0.9980815703554633, 0.9964330384840777, 0.9987508272369127, 0.9293617446687007, 0.015575895162045264, 0.05711161559416597, 0.9948513470985815, 0.9965500567646912, 0.001045132885262664, 0.7765337337501593, 0.22261330456094744, 0.21818957123558586, 0.7049786843932704, 0.07685142700887243, 0.9947510753466261, 0.23167391208325785, 0.0021319685161035997, 0.7660873534532269, 0.9901426738378483, 0.9936908227994559, 0.006543362307913186, 0.9945910708028043, 0.9896775500208589, 0.0043985668889815945, 0.9908763273694441, 0.700540440209202, 0.11348008551879081, 0.1199504412720552, 0.06619671655262797, 0.8207217042610712, 0.09212182394767125, 0.07872228591891907, 0.009212182394767125, 0.8459013196575101, 0.0390666420880954, 0.08138883768353208, 0.03364071957585993, 0.9761739509566638, 0.023311616739263612, 0.40925390107233567, 0.005384919750951785, 0.12630084506777822, 0.45918679330843404, 0.9963647300066599, 0.9938896940830378, 0.014237387528237238, 0.7398848809029093, 0.2457097525034491, 0.17455561744066125, 0.8237294013108891, 0.0014426084086005062, 0.9934619476654146, 0.9950644016209916, 0.06539079978982248, 0.9303327424642925, 0.9914195691939349, 0.10030046287462921, 0.8997541522577032, 0.23626928416922466, 0.38545044689077296, 0.32940884608003257, 0.049200842026330745, 0.9912740938870765, 0.025119702787029068, 0.04699815360153826, 0.8475873908139485, 0.08022098631986703, 0.03285979891474176, 0.9046109348293613, 0.059920809785705555, 0.9979062656305705, 0.7898556632157554, 0.06941016994036366, 0.11110208719827186, 0.029550864430055817, 0.999026457154593, 0.44248809914715825, 0.2237114553309053, 0.22453392391668067, 0.10911416571286803, 0.7122008232004874, 0.11557174502989837, 0.10846582567191157, 0.06368512632157972, 0.99595522337785, 0.672774096761609, 0.18968262310416373, 0.11819004402568807, 0.019009587500635146, 0.9876817148127907, 0.009145201063081395, 0.00015737274433356787, 0.41483455406328495, 0.33237123603249535, 0.25258325465537645, 0.10914924452988096, 0.21667343827271657, 0.21856933085760283, 0.4555559039683866, 0.9838572289127074, 0.011054575605760758, 0.1838982335399439, 0.815506826221636, 0.9855720965725137, 0.9613943779603527, 0.03635524958673603, 0.9909296298319701, 0.9801519968593975, 0.9982604196561937, 0.7340913505735024, 0.10494868859246928, 0.03681446144343163, 0.12418012367485895, 0.9959754385710133, 0.9986169172469338, 0.9927202452456553, 0.9927754071662339, 0.08875093156146359, 0.28395926132596355, 0.3908538562361992, 0.23652341859483644, 0.003855620334437499, 0.9947500462848747, 0.94295982745913, 0.01689892163905251, 0.03717762760591552, 0.9912926985487993, 0.02724274339505936, 0.9711236763179983, 0.09076681516914818, 0.0021611146468844804, 0.7347789799407234, 0.17216880020179695, 0.05621697525408636, 0.9451478964593268, 0.007138366735229045, 0.9850946094616082, 0.9910725938667264, 0.9984042866009932, 0.9890534836555375, 0.9906945538628472, 0.05382816947455062, 0.0031663629102676835, 0.7257303790333531, 0.2172124956443631, 0.9610479584466668, 0.03823798243156499, 0.03930540225868397, 0.9580691800554219, 0.19879818237011587, 0.4308993081116358, 0.2473932936161442, 0.12301699490253325, 0.10199728246617985, 0.8961189816671516, 0.9965130080777322, 0.9835108407597646, 0.016710135643976585, 0.08283888051118037, 0.036305929112924726, 0.02147674679919491, 0.859581223082063, 0.7152797425561869, 0.06352319345833524, 0.12618796538344973, 0.09485557942089247, 0.9930340173845227, 0.9988885060127018, 0.9947700246146359, 0.981467801427578, 0.014648773155635493, 0.03916779674624269, 0.1303152863706766, 0.43304208925986076, 0.3975348342656034, 0.1255896960822291, 0.48612873129675144, 0.2330171899617974, 0.15534479330786494, 0.09933939433603756, 0.8003714903088578, 0.03004928298421065, 0.0703506742806814, 0.09864670092585592, 0.899007047612955, 0.0020339525964094005, 0.7989083699246138, 0.0854005498884932, 0.07713598054444547, 0.03787927616021876, 0.9917296012560735, 0.8679579010327978, 0.020622966656771023, 0.03945263186512717, 0.07262870866080229, 0.9988761422164602, 0.994335944204522, 0.02375903122815175, 0.07507853868095954, 0.21098019730598755, 0.6909126281146529, 0.6787335302628443, 0.13291126571726716, 0.14354416697464856, 0.04518983034387084, 0.9875877933475482, 0.010602936431645456, 0.9920717522631611, 0.9960650306181236, 0.5042377494328916, 0.21135415910566524, 0.21483938669986938, 0.06958007947000404, 0.6132951589299178, 0.0011301507842688904, 0.3853814174356916, 0.4441899895657195, 0.1849882143277382, 0.17789427100543556, 0.1931735335457797, 0.0014008488613893927, 0.13728318841616047, 0.8180957350514053, 0.04202546584168178, 0.9848940621108724, 0.665743807718254, 0.13827990258289014, 0.07000963621335003, 0.12566947121526809, 0.18215568199800306, 0.6010580454918816, 0.17769927387572773, 0.03899357106990891, 0.11613788617013007, 0.6648699121014828, 0.21278954982849335, 0.006235591203765373, 0.9972551234535091, 0.16208794217889447, 0.836659819188117, 0.1507016989918697, 0.8473882418723165, 0.001626008945223956, 0.5739811576640564, 0.026016143123583295, 0.39877869381617514, 0.9777230620909607, 0.024752482584581282, 0.9816805941949548, 0.9830632443892472, 0.01585585878047173, 0.9903294868930831, 0.3061319015006518, 0.02503415082365143, 0.6451658297981026, 0.024318889371547105, 0.9917113348176468, 0.9942727339252998, 0.16387477698233247, 0.041291282389249125, 0.7935668334183816, 0.03256215077150621, 0.9638396628365838, 0.9635259111177573, 0.03620184059112961, 0.7626647388379573, 0.08177134200575155, 0.08497806130009475, 0.07054782447555036, 0.18853767811170064, 0.35397024861167325, 0.3518137719012453, 0.10566735881096948, 0.16649984526339023, 0.8308668748928002, 0.0016323514241508845, 0.998953779829926, 0.9920752015337497, 0.9840380220451731, 0.9955424605962613, 0.960223419021702, 0.036332778017037375, 0.9964619619310422, 0.9938812710223117, 0.006334455624188118, 0.027871604746427716, 0.1026181811118475, 0.8627528560144216, 0.0018035918078457933, 0.46217040076048455, 0.29623995443867157, 0.23987771044349052, 0.992291381390256, 0.01286288343108622, 0.8853951428397683, 0.03322911553030607, 0.06860204496579318, 0.1016154328795769, 0.10533955869191743, 0.33783141297660385, 0.4554073850519258, 0.010032360505243148, 0.9932036900190716, 0.9432970731636879, 0.05675999580641102, 0.17305030818588465, 0.804195484613839, 0.022677963774359884, 0.1420214927434387, 0.14281936629817713, 0.6430860851191663, 0.07101074637171935, 0.9886172962000723, 0.9924284639895358, 0.9837135355347992, 0.29101154528518325, 0.04106608914303109, 0.6088934945775349, 0.05881069556285933, 0.9985773767288233, 0.9941785121177932, 0.5560378499915472, 0.07976176665235397, 0.07298747962160611, 0.2911850796281142, 0.058198850671391036, 0.44394367188969625, 0.4595579976795816, 0.03832607239335507, 0.07858060195718028, 0.3463367271446094, 0.4853079769022152, 0.09022217261750329, 0.9996039209357677, 0.024499881936372477, 0.9750953010676247, 0.09321455248712571, 0.5087228171113417, 0.33856228969380564, 0.05935832351774514, 0.334269597720901, 0.5115102216287275, 0.11629472516057392, 0.03793571248553481, 0.9946217449574379, 0.5479074034613814, 0.33654000143203416, 0.11344757110420738, 0.0019013559402939785, 0.29643863104806106, 0.5584194383161766, 0.14492555295682985, 0.9665240928452686, 0.030489719017200906, 0.06571905832472327, 0.00423993924675634, 0.9285466950396385, 0.021856006201769897, 0.9325229312755156, 0.04371201240353979, 0.02771138691988972, 0.9698985421961402, 0.9949269692328577, 0.061976062315916965, 0.14654756401784533, 0.7521053395629507, 0.03938062292990557, 0.3053359685150081, 0.08082422695985508, 0.0008980469662206121, 0.613366077928678, 0.9910951281359653, 0.2478009683503407, 0.11194866898142403, 0.44221716216861445, 0.19800173837639765, 0.010603569643384938, 0.9914337616564917, 0.9989114128187802, 0.9987500326832862, 0.9927653108527938, 0.9951733163315104, 0.996485215002317, 0.9937497525270056, 0.9088611715641401, 0.022864431989034973, 0.05258819357478044, 0.015433491592598606, 0.9919483472821623, 0.9987747258976108, 0.03862274369132428, 0.9598887770343828, 0.7842079459892324, 0.0022028313089585178, 0.21367463696897623, 0.03198799254291173, 0.94764427908376, 0.017993245805387848, 0.9905205634233479, 0.99208466220519, 0.05770361648673748, 0.8673574853162728, 0.027048570228158195, 0.04688418839547421, 0.015247802859474219, 0.9834832844360871, 0.17906586285315265, 0.11706311087592465, 0.3791982978066762, 0.3246167246375334, 0.32012830640200945, 0.42733268359229276, 0.25242027870288314, 0.007773846087247881, 0.07385153782885487, 0.9173138382952499, 0.9945654076283259, 0.024470288316854577, 0.9747331512880406, 0.9862372773085613, 0.561662934168384, 0.20716234820818058, 0.05538003367941461, 0.17571195871122908, 0.9907480956066438, 0.030496261202202654, 0.5754757437971204, 0.3941924133173602, 0.9567462524086516, 0.042612240298158396, 0.1701821957265538, 0.4262810908703307, 0.19800902843005264, 0.2055341835774969, 0.9919596929924708, 0.02885461874783322, 0.9686907722486867, 0.5357695525574675, 0.2129485748008539, 0.11508284680726998, 0.1361511632503332, 0.8739110550751388, 0.0783881141763668, 0.03492539740531194, 0.013194039019784512, 0.1053031359611622, 0.013735191647108113, 0.8813414640227706, 0.281703206283067, 0.012902436928995434, 0.7053332187850838, 0.03229590494853116, 0.9648401603373682, 0.5760253128775348, 0.18278532490145935, 0.1070440052557476, 0.13415436690015367, 0.9874981009388283, 0.036601758271191005, 0.06176546708263482, 0.9013182974280785, 0.994757757989052, 0.9971856132012731, 0.9947193450505967, 0.018848483508296543, 0.037696967016593086, 0.9424241754148271, 0.9721095301444908, 0.01957267510358035, 0.08931062710028395, 0.31632143709908933, 0.3813594895867526, 0.21300740156844727, 0.8155713627596279, 0.04527198119709617, 0.1391944496507733, 0.9950537427182197, 0.015524002129357053, 0.9811169345753658, 0.0031048004258714106, 0.3036363055166877, 0.5057012825686094, 0.14036780405873495, 0.05011211430887658, 0.022072893675052423, 0.054446471065129315, 0.06769020727016077, 0.853485222102027, 0.08763899927727513, 0.19294715163464604, 0.6261947851585948, 0.09329312826290578, 0.4229821464243205, 0.2723737406851864, 0.1470401907956601, 0.15774483562608227, 0.443149239475215, 0.5431077145448123, 0.012078315737576348, 0.001249480938369967, 0.992526662392119, 0.00774933683184096, 0.9919151144756428, 0.9941842451661193, 0.11567036650396463, 0.8845380967950237, 0.9803405730260674, 0.016615941915696056, 0.9969165657907947, 0.41069224799658605, 0.2831352584555786, 0.105724458986145, 0.20061860753956295, 0.10017499176437013, 0.8982357594871855, 0.12965685405230237, 0.044110063749752355, 0.8260611938589986, 0.8847283792435603, 0.07686180004518917, 0.034342506403169624, 0.004497232981367451, 0.80470770224549, 0.15698352316985797, 0.0353012351932219, 0.0026743359994865074, 0.5461021735044421, 0.18222407250896314, 0.15923229693692503, 0.11248868709625252, 0.9911032502180775, 0.07332494266431584, 0.05391539901787929, 0.8712728481289294, 0.8411420786684164, 0.1587425787130268, 0.9912082895135992, 0.02945190855452249, 0.9692355360670128, 0.9136259225346465, 0.0374181265201903, 0.040536303730206155, 0.009354531630047574, 0.6345091540024421, 0.2581585404949492, 0.10730487577761305, 0.9543295853575411, 0.0021160301227439934, 0.033856481963903895, 0.008464120490975974, 0.9908755495158553, 0.920316139405294, 0.07651340269060407, 0.002155307118045185, 0.8697250239219142, 0.09594276048645331, 0.03432098749108899, 0.0007800224429792952, 0.0697159849224764, 0.6232186530948648, 0.13067974662957696, 0.1762516675096373, 0.9940144152270664, 0.37028681090272864, 0.09661695129317556, 0.31072199141615925, 0.22231279083963695, 0.9869780405766303, 0.26038744871610886, 0.023434870384449795, 0.7160654839692994, 0.8369203503876378, 0.16267218606730224, 0.9959439564335182, 0.03864581787871904, 0.9606246158424447, 0.2708283815714833, 0.07767945828019289, 0.6518776161081052, 0.16335819172301688, 0.6437797828357075, 0.0022276117053138668, 0.1908320694218879, 0.21972296535505526, 0.6839644485800938, 0.0962362038203147, 0.35520815507122505, 0.6443155444431057, 0.6027975423266674, 0.25807845848848143, 0.09585771315286452, 0.043089885479773236, 0.9117133734843922, 0.019180505753528587, 0.012787003835685725, 0.05626281687701719, 0.6083948550926678, 0.1928892072503683, 0.15877045080152907, 0.03986151743527751, 0.6176253672571618, 0.16995297577270868, 0.1473396900150094, 0.06536652914334949, 0.9914044470731099, 0.927309956510461, 0.0721680456559314, 0.9939576047260922, 0.3741204220762788, 0.6133759433001036, 0.012319389981714555, 0.801825094118877, 0.00029349381190295646, 0.19781482922259264, 0.9680676582722554, 0.03270498845514376, 0.8333707060531004, 0.13438553593280514, 0.005411498091253898, 0.026155574107727175, 0.3309163020945241, 0.20560796513446475, 0.34958468698857376, 0.11380042846372738, 0.054403112957449415, 0.016739419371522898, 0.9248529202766401, 0.19788988200509863, 0.2565541822857183, 0.32224512577543724, 0.2233818899264821], \"Term\": [\"accord\", \"accord\", \"accord\", \"accord\", \"actually\", \"actually\", \"actually\", \"actually\", \"administration\", \"administration\", \"administration\", \"administration\", \"african_american\", \"african_american\", \"agency\", \"agency\", \"agency\", \"agreement\", \"agreement\", \"agreement\", \"airport\", \"airport\", \"airport\", \"ally\", \"ally\", \"ally\", \"ally\", \"also\", \"also\", \"also\", \"also\", \"area\", \"area\", \"area\", \"area\", \"arrest\", \"ask\", \"ask\", \"ask\", \"ask\", \"attack\", \"attack\", \"attack\", \"attack\", \"audience\", \"audience\", \"authority\", \"authority\", \"authority\", \"automaker\", \"bad\", \"bad\", \"bad\", \"bad\", \"ballistic_missile\", \"ballot\", \"ballot\", \"bangladesh\", \"bank\", \"bank\", \"bank\", \"bigot\", \"bilateral\", \"bill\", \"bill\", \"bill\", \"bill\", \"black\", \"black\", \"black\", \"brag\", \"brexit\", \"budget\", \"budget\", \"business\", \"business\", \"business\", \"business\", \"call\", \"call\", \"call\", \"call\", \"campaign\", \"campaign\", \"campaign\", \"campaign\", \"case\", \"case\", \"case\", \"case\", \"charge\", \"charge\", \"charge\", \"charge\", \"chemical_weapon\", \"child\", \"child\", \"child\", \"chinese\", \"chinese\", \"chinese\", \"city\", \"city\", \"city\", \"city\", \"classified_information\", \"clinic\", \"coal\", \"coalition\", \"coalition\", \"coalition\", \"come\", \"come\", \"come\", \"come\", \"comey\", \"comey\", \"company\", \"company\", \"company\", \"company\", \"consumer\", \"contract\", \"contract\", \"convict\", \"convoy\", \"conway\", \"corporation\", \"corporation\", \"cost\", \"cost\", \"cost\", \"cost\", \"country\", \"country\", \"country\", \"country\", \"court\", \"court\", \"court\", \"court\", \"crime\", \"crime\", \"crime\", \"crime\", \"custody\", \"datum\", \"datum\", \"datum\", \"deal\", \"deal\", \"deal\", \"deal\", \"death\", \"death\", \"death\", \"debt\", \"debt\", \"defendant\", \"deficit\", \"delegate\", \"delegate\", \"democratic\", \"democratic\", \"democratic\", \"detain\", \"detain\", \"detainee\", \"detention\", \"diplomacy\", \"diplomat\", \"diplomatic\", \"diplomatic\", \"diplomatic\", \"disclosure\", \"disgusting\", \"document\", \"document\", \"document\", \"election\", \"election\", \"election\", \"elector\", \"email\", \"email\", \"email\", \"emission\", \"envoy\", \"ethic\", \"ethic\", \"european_union\", \"european_union\", \"evacuate\", \"even\", \"even\", \"even\", \"even\", \"ever\", \"ever\", \"ever\", \"ever\", \"fact\", \"fact\", \"fact\", \"fact\", \"fake_new\", \"fake_new\", \"family\", \"family\", \"family\", \"family\", \"featured_image\", \"featured_image_via\", \"federal\", \"federal\", \"federal\", \"financial\", \"financial\", \"financial\", \"firearm\", \"fiscal_year\", \"flee\", \"flee\", \"foreign_minister\", \"foreign_policy\", \"foreign_policy\", \"former\", \"former\", \"former\", \"former\", \"fun\", \"fund\", \"fund\", \"fund\", \"fund\", \"funding\", \"funding\", \"funding\", \"funny\", \"get\", \"get\", \"get\", \"get\", \"getty_image\", \"give\", \"give\", \"give\", \"give\", \"go\", \"go\", \"go\", \"go\", \"goldman_sach\", \"good\", \"good\", \"good\", \"good\", \"gorsuch\", \"gorsuch\", \"government\", \"government\", \"government\", \"government\", \"group\", \"group\", \"group\", \"group\", \"guess\", \"guess\", \"gun\", \"gun\", \"gunfire\", \"guy\", \"guy\", \"hacker\", \"handgun\", \"hannity\", \"happen\", \"happen\", \"happen\", \"happen\", \"hat\", \"hate\", \"hateful\", \"hilarious\", \"include\", \"include\", \"include\", \"include\", \"income\", \"income\", \"independence\", \"independence\", \"independence\", \"indonesian\", \"industry\", \"industry\", \"information\", \"information\", \"information\", \"information\", \"injure\", \"injure\", \"injury\", \"injury\", \"inmate\", \"insurance\", \"insurer\", \"intelligence_committee\", \"investigation\", \"investigation\", \"investigation\", \"investigation\", \"iranian\", \"iranian\", \"islamic\", \"islamic\", \"issue\", \"issue\", \"issue\", \"issue\", \"jail\", \"jail\", \"joke\", \"kid\", \"kid\", \"kill\", \"kill\", \"kill\", \"kill\", \"know\", \"know\", \"know\", \"know\", \"korean_peninsula\", \"kurdish\", \"labour\", \"laugh\", \"laugh\", \"law\", \"law\", \"law\", \"law\", \"lead\", \"lead\", \"lead\", \"lead\", \"leader\", \"leader\", \"leader\", \"leader\", \"legislation\", \"legislation\", \"legislation\", \"let\", \"let\", \"let\", \"let\", \"liar\", \"lie\", \"lie\", \"lie\", \"lie\", \"literally\", \"loan\", \"local\", \"local\", \"local\", \"local\", \"look\", \"look\", \"look\", \"look\", \"love\", \"love\", \"macron\", \"mainstream_media\", \"make\", \"make\", \"make\", \"make\", \"man\", \"man\", \"man\", \"many\", \"many\", \"many\", \"many\", \"market\", \"market\", \"market\", \"market\", \"massacre\", \"medium\", \"medium\", \"medium\", \"medium\", \"meet\", \"meet\", \"meet\", \"meet\", \"meeting\", \"meeting\", \"meeting\", \"meeting\", \"merkel\", \"migrant\", \"migrant\", \"militant\", \"militant\", \"military\", \"military\", \"military\", \"military\", \"minister\", \"minister\", \"misdemeanor\", \"missile\", \"missile\", \"mnuchin\", \"money\", \"money\", \"money\", \"money\", \"mortgage\", \"mosque\", \"muslim\", \"muslim\", \"muslim\", \"nearby\", \"nearby\", \"negotiation\", \"negotiation\", \"never\", \"never\", \"never\", \"never\", \"new\", \"new\", \"new\", \"new\", \"nomination\", \"nomination\", \"nomination\", \"north_korea\", \"northern_ireland\", \"nuclear_deal\", \"nuclear_test\", \"nuclear_weapon\", \"nuclear_weapon\", \"nune\", \"offend\", \"officer\", \"officer\", \"officer\", \"officer\", \"official\", \"official\", \"official\", \"official\", \"opinion_poll\", \"opposition\", \"opposition\", \"opposition\", \"opposition\", \"order\", \"order\", \"order\", \"order\", \"pakistani\", \"pakistani\", \"parliament\", \"parliament\", \"party\", \"party\", \"party\", \"pass\", \"pass\", \"pass\", \"pass\", \"passport\", \"pathetic\", \"patrol\", \"pay\", \"pay\", \"pay\", \"pay\", \"payment\", \"peace_talk\", \"people\", \"people\", \"people\", \"people\", \"percent\", \"percent\", \"percent\", \"percent\", \"plan\", \"plan\", \"plan\", \"plan\", \"police\", \"police_officer\", \"police_officer\", \"policy\", \"policy\", \"policy\", \"policy\", \"political\", \"political\", \"political\", \"political\", \"populist\", \"president\", \"president\", \"president\", \"president\", \"presidential\", \"presidential\", \"presidential\", \"prime_minister\", \"prime_minister\", \"prison\", \"prison\", \"prison\", \"probe\", \"probe\", \"probe\", \"product\", \"product\", \"profit\", \"program\", \"program\", \"program\", \"program\", \"protest\", \"protest\", \"protest\", \"protest\", \"provider\", \"public\", \"public\", \"public\", \"public\", \"puerto_rico\", \"puerto_rico\", \"racism\", \"racist\", \"raid\", \"rakhine\", \"rant\", \"realdonaldtrump\", \"really\", \"really\", \"really\", \"really\", \"reconciliation\", \"referendum\", \"refugee\", \"refugee\", \"region\", \"region\", \"region\", \"regulation\", \"regulation\", \"regulation\", \"regulator\", \"reilly\", \"relation\", \"relation\", \"relation\", \"relation\", \"repeal\", \"repeal\", \"report\", \"report\", \"report\", \"report\", \"republican\", \"republican\", \"republican\", \"resident\", \"resident\", \"resident\", \"retailer\", \"revenue\", \"revenue\", \"rifle\", \"right\", \"right\", \"right\", \"right\", \"rohingya\", \"russian\", \"russian\", \"russian\", \"sanction\", \"sanction\", \"say\", \"say\", \"say\", \"say\", \"security_council\", \"security_force\", \"security_force\", \"see\", \"see\", \"see\", \"see\", \"seem\", \"seem\", \"seem\", \"seem\", \"sentence\", \"sentence\", \"sentence\", \"shoot\", \"shoot\", \"shoot\", \"shooting\", \"shooting\", \"show\", \"show\", \"show\", \"show\", \"software\", \"soldier\", \"soldier\", \"soldier\", \"somali\", \"south_korea\", \"spd\", \"spending\", \"spending\", \"spending\", \"stability\", \"stability\", \"state\", \"state\", \"state\", \"state\", \"story\", \"story\", \"story\", \"stupid\", \"summit\", \"summit\", \"summit\", \"support\", \"support\", \"support\", \"support\", \"suspect\", \"suspect\", \"suspect\", \"suspect\", \"system\", \"system\", \"system\", \"system\", \"take\", \"take\", \"take\", \"take\", \"talk\", \"talk\", \"talk\", \"talk\", \"tape\", \"tax\", \"tax\", \"tax_cut\", \"taxis\", \"taxis\", \"taxpayer\", \"taxpayer\", \"technology\", \"tell\", \"tell\", \"tell\", \"tell\", \"terror\", \"terror\", \"terrorist\", \"terrorist\", \"terrorist\", \"thing\", \"thing\", \"thing\", \"thing\", \"think\", \"think\", \"think\", \"think\", \"time\", \"time\", \"time\", \"time\", \"tourist\", \"town\", \"town\", \"town\", \"trade\", \"trade\", \"trade_deal\", \"trial\", \"trial\", \"true\", \"true\", \"true\", \"true\", \"trump\", \"trump\", \"trump\", \"truth\", \"truth\", \"truth\", \"truth\", \"turnbull\", \"tweet\", \"tweet\", \"tweet\", \"twitter\", \"twitter\", \"twitter\", \"twitter\", \"united_state\", \"united_state\", \"united_state\", \"united_state\", \"uranium\", \"use\", \"use\", \"use\", \"use\", \"verdict\", \"victim\", \"victim\", \"victim\", \"video\", \"video\", \"viewer\", \"village\", \"village\", \"violence\", \"violence\", \"violence\", \"visit\", \"visit\", \"visit\", \"visit\", \"vote\", \"vote\", \"vote\", \"voter\", \"voter\", \"want\", \"want\", \"want\", \"want\", \"watch\", \"watch\", \"watch\", \"watch\", \"way\", \"way\", \"way\", \"way\", \"well\", \"well\", \"well\", \"well\", \"whine\", \"white\", \"white\", \"white_supremacist\", \"win\", \"win\", \"win\", \"woman\", \"woman\", \"woman\", \"wonder\", \"wonder\", \"word\", \"word\", \"word\", \"word\", \"work\", \"work\", \"work\", \"work\", \"wound\", \"wound\", \"wound\", \"year\", \"year\", \"year\", \"year\"]}, \"R\": 30, \"lambda.step\": 0.01, \"plot.opts\": {\"xlab\": \"PC1\", \"ylab\": \"PC2\"}, \"topic.order\": [4, 3, 1, 2]};\n",
       "\n",
       "function LDAvis_load_lib(url, callback){\n",
       "  var s = document.createElement('script');\n",
       "  s.src = url;\n",
       "  s.async = true;\n",
       "  s.onreadystatechange = s.onload = callback;\n",
       "  s.onerror = function(){console.warn(\"failed to load library \" + url);};\n",
       "  document.getElementsByTagName(\"head\")[0].appendChild(s);\n",
       "}\n",
       "\n",
       "if(typeof(LDAvis) !== \"undefined\"){\n",
       "   // already loaded: just create the visualization\n",
       "   !function(LDAvis){\n",
       "       new LDAvis(\"#\" + \"ldavis_el80341405972953079848796598843\", ldavis_el80341405972953079848796598843_data);\n",
       "   }(LDAvis);\n",
       "}else if(typeof define === \"function\" && define.amd){\n",
       "   // require.js is available: use it to load d3/LDAvis\n",
       "   require.config({paths: {d3: \"https://d3js.org/d3.v5\"}});\n",
       "   require([\"d3\"], function(d3){\n",
       "      window.d3 = d3;\n",
       "      LDAvis_load_lib(\"https://cdn.jsdelivr.net/gh/bmabey/pyLDAvis@3.2.2/pyLDAvis/js/ldavis.v3.0.0.js\", function(){\n",
       "        new LDAvis(\"#\" + \"ldavis_el80341405972953079848796598843\", ldavis_el80341405972953079848796598843_data);\n",
       "      });\n",
       "    });\n",
       "}else{\n",
       "    // require.js not available: dynamically load d3 & LDAvis\n",
       "    LDAvis_load_lib(\"https://d3js.org/d3.v5.js\", function(){\n",
       "         LDAvis_load_lib(\"https://cdn.jsdelivr.net/gh/bmabey/pyLDAvis@3.2.2/pyLDAvis/js/ldavis.v3.0.0.js\", function(){\n",
       "                 new LDAvis(\"#\" + \"ldavis_el80341405972953079848796598843\", ldavis_el80341405972953079848796598843_data);\n",
       "            })\n",
       "         });\n",
       "}\n",
       "</script>"
      ],
      "text/plain": [
       "PreparedData(topic_coordinates=              x         y  topics  cluster       Freq\n",
       "topic                                                \n",
       "3     -0.161436  0.060683       1        1  33.847014\n",
       "2      0.052399  0.125283       2        1  24.729394\n",
       "0      0.149567 -0.032607       3        1  22.392383\n",
       "1     -0.040529 -0.153359       4        1  19.031209, topic_info=          Term          Freq         Total Category  logprob  loglift\n",
       "80         say  36942.000000  36942.000000  Default  30.0000  30.0000\n",
       "493     police   2411.000000   2411.000000  Default  29.0000  29.0000\n",
       "557      trump  12124.000000  12124.000000  Default  28.0000  28.0000\n",
       "163   election   5256.000000   5256.000000  Default  27.0000  27.0000\n",
       "1296   company   2005.000000   2005.000000  Default  26.0000  26.0000\n",
       "...        ...           ...           ...      ...      ...      ...\n",
       "6         also   1215.804871   6820.496561   Topic4  -5.4783  -0.0654\n",
       "227   official   1063.950601   4435.593445   Topic4  -5.6117   0.2314\n",
       "90        take   1060.519505   6726.052208   Topic4  -5.6149  -0.1881\n",
       "99         use    948.264729   4264.262063   Topic4  -5.7268   0.1557\n",
       "124       call    857.921169   5306.706146   Topic4  -5.8269  -0.1631\n",
       "\n",
       "[392 rows x 6 columns], token_table=      Topic      Freq      Term\n",
       "term                           \n",
       "425       1  0.169741    accord\n",
       "425       2  0.189925    accord\n",
       "425       3  0.370254    accord\n",
       "425       4  0.269998    accord\n",
       "2         1  0.901291  actually\n",
       "...     ...       ...       ...\n",
       "2709      4  0.924853     wound\n",
       "292       1  0.197890      year\n",
       "292       2  0.256554      year\n",
       "292       3  0.322245      year\n",
       "292       4  0.223382      year\n",
       "\n",
       "[799 rows x 3 columns], R=30, lambda_step=0.01, plot_opts={'xlab': 'PC1', 'ylab': 'PC2'}, topic_order=[4, 3, 1, 2])"
      ]
     },
     "metadata": {},
     "output_type": "display_data"
    },
    {
     "name": "stderr",
     "output_type": "stream",
     "text": [
      "/home/chris/anaconda3/lib/python3.7/site-packages/past/builtins/misc.py:45: DeprecationWarning: the imp module is deprecated in favour of importlib; see the module's documentation for alternative uses\n",
      "  from imp import reload\n",
      "/home/chris/anaconda3/lib/python3.7/site-packages/joblib/backports.py:36: DeprecationWarning: distutils Version classes are deprecated. Use packaging.version instead.\n",
      "  if LooseVersion(np.__version__) < '1.13':\n",
      "/home/chris/anaconda3/lib/python3.7/site-packages/setuptools/_distutils/version.py:351: DeprecationWarning: distutils Version classes are deprecated. Use packaging.version instead.\n",
      "  other = LooseVersion(other)\n",
      "/home/chris/anaconda3/lib/python3.7/site-packages/joblib/backports.py:36: DeprecationWarning: distutils Version classes are deprecated. Use packaging.version instead.\n",
      "  if LooseVersion(np.__version__) < '1.13':\n",
      "/home/chris/anaconda3/lib/python3.7/site-packages/setuptools/_distutils/version.py:351: DeprecationWarning: distutils Version classes are deprecated. Use packaging.version instead.\n",
      "  other = LooseVersion(other)\n",
      "/home/chris/anaconda3/lib/python3.7/site-packages/joblib/backports.py:36: DeprecationWarning: distutils Version classes are deprecated. Use packaging.version instead.\n",
      "  if LooseVersion(np.__version__) < '1.13':\n",
      "/home/chris/anaconda3/lib/python3.7/site-packages/setuptools/_distutils/version.py:351: DeprecationWarning: distutils Version classes are deprecated. Use packaging.version instead.\n",
      "  other = LooseVersion(other)\n",
      "/home/chris/anaconda3/lib/python3.7/site-packages/joblib/backports.py:36: DeprecationWarning: distutils Version classes are deprecated. Use packaging.version instead.\n",
      "  if LooseVersion(np.__version__) < '1.13':\n",
      "/home/chris/anaconda3/lib/python3.7/site-packages/setuptools/_distutils/version.py:351: DeprecationWarning: distutils Version classes are deprecated. Use packaging.version instead.\n",
      "  other = LooseVersion(other)\n",
      "/home/chris/anaconda3/lib/python3.7/site-packages/past/builtins/misc.py:45: DeprecationWarning: the imp module is deprecated in favour of importlib; see the module's documentation for alternative uses\n",
      "  from imp import reload\n",
      "/home/chris/anaconda3/lib/python3.7/site-packages/joblib/backports.py:36: DeprecationWarning: distutils Version classes are deprecated. Use packaging.version instead.\n",
      "  if LooseVersion(np.__version__) < '1.13':\n",
      "/home/chris/anaconda3/lib/python3.7/site-packages/setuptools/_distutils/version.py:351: DeprecationWarning: distutils Version classes are deprecated. Use packaging.version instead.\n",
      "  other = LooseVersion(other)\n",
      "/home/chris/anaconda3/lib/python3.7/site-packages/joblib/backports.py:36: DeprecationWarning: distutils Version classes are deprecated. Use packaging.version instead.\n",
      "  if LooseVersion(np.__version__) < '1.13':\n",
      "/home/chris/anaconda3/lib/python3.7/site-packages/setuptools/_distutils/version.py:351: DeprecationWarning: distutils Version classes are deprecated. Use packaging.version instead.\n",
      "  other = LooseVersion(other)\n",
      "/home/chris/anaconda3/lib/python3.7/site-packages/joblib/backports.py:36: DeprecationWarning: distutils Version classes are deprecated. Use packaging.version instead.\n",
      "  if LooseVersion(np.__version__) < '1.13':\n",
      "/home/chris/anaconda3/lib/python3.7/site-packages/setuptools/_distutils/version.py:351: DeprecationWarning: distutils Version classes are deprecated. Use packaging.version instead.\n",
      "  other = LooseVersion(other)\n",
      "/home/chris/anaconda3/lib/python3.7/site-packages/joblib/backports.py:36: DeprecationWarning: distutils Version classes are deprecated. Use packaging.version instead.\n",
      "  if LooseVersion(np.__version__) < '1.13':\n",
      "/home/chris/anaconda3/lib/python3.7/site-packages/setuptools/_distutils/version.py:351: DeprecationWarning: distutils Version classes are deprecated. Use packaging.version instead.\n",
      "  other = LooseVersion(other)\n",
      "/home/chris/anaconda3/lib/python3.7/site-packages/joblib/backports.py:36: DeprecationWarning: distutils Version classes are deprecated. Use packaging.version instead.\n",
      "  if LooseVersion(np.__version__) < '1.13':\n",
      "/home/chris/anaconda3/lib/python3.7/site-packages/setuptools/_distutils/version.py:351: DeprecationWarning: distutils Version classes are deprecated. Use packaging.version instead.\n",
      "  other = LooseVersion(other)\n",
      "/home/chris/anaconda3/lib/python3.7/site-packages/joblib/backports.py:36: DeprecationWarning: distutils Version classes are deprecated. Use packaging.version instead.\n",
      "  if LooseVersion(np.__version__) < '1.13':\n",
      "/home/chris/anaconda3/lib/python3.7/site-packages/setuptools/_distutils/version.py:351: DeprecationWarning: distutils Version classes are deprecated. Use packaging.version instead.\n",
      "  other = LooseVersion(other)\n",
      "/home/chris/anaconda3/lib/python3.7/site-packages/past/builtins/misc.py:45: DeprecationWarning: the imp module is deprecated in favour of importlib; see the module's documentation for alternative uses\n",
      "  from imp import reload\n",
      "/home/chris/anaconda3/lib/python3.7/site-packages/joblib/backports.py:36: DeprecationWarning: distutils Version classes are deprecated. Use packaging.version instead.\n",
      "  if LooseVersion(np.__version__) < '1.13':\n",
      "/home/chris/anaconda3/lib/python3.7/site-packages/setuptools/_distutils/version.py:351: DeprecationWarning: distutils Version classes are deprecated. Use packaging.version instead.\n",
      "  other = LooseVersion(other)\n",
      "/home/chris/anaconda3/lib/python3.7/site-packages/joblib/backports.py:36: DeprecationWarning: distutils Version classes are deprecated. Use packaging.version instead.\n",
      "  if LooseVersion(np.__version__) < '1.13':\n",
      "/home/chris/anaconda3/lib/python3.7/site-packages/setuptools/_distutils/version.py:351: DeprecationWarning: distutils Version classes are deprecated. Use packaging.version instead.\n",
      "  other = LooseVersion(other)\n",
      "/home/chris/anaconda3/lib/python3.7/site-packages/joblib/backports.py:36: DeprecationWarning: distutils Version classes are deprecated. Use packaging.version instead.\n",
      "  if LooseVersion(np.__version__) < '1.13':\n",
      "/home/chris/anaconda3/lib/python3.7/site-packages/setuptools/_distutils/version.py:351: DeprecationWarning: distutils Version classes are deprecated. Use packaging.version instead.\n",
      "  other = LooseVersion(other)\n",
      "/home/chris/anaconda3/lib/python3.7/site-packages/joblib/backports.py:36: DeprecationWarning: distutils Version classes are deprecated. Use packaging.version instead.\n",
      "  if LooseVersion(np.__version__) < '1.13':\n",
      "/home/chris/anaconda3/lib/python3.7/site-packages/setuptools/_distutils/version.py:351: DeprecationWarning: distutils Version classes are deprecated. Use packaging.version instead.\n",
      "  other = LooseVersion(other)\n",
      "/home/chris/anaconda3/lib/python3.7/site-packages/joblib/backports.py:36: DeprecationWarning: distutils Version classes are deprecated. Use packaging.version instead.\n",
      "  if LooseVersion(np.__version__) < '1.13':\n",
      "/home/chris/anaconda3/lib/python3.7/site-packages/setuptools/_distutils/version.py:351: DeprecationWarning: distutils Version classes are deprecated. Use packaging.version instead.\n",
      "  other = LooseVersion(other)\n",
      "/home/chris/anaconda3/lib/python3.7/site-packages/joblib/backports.py:36: DeprecationWarning: distutils Version classes are deprecated. Use packaging.version instead.\n",
      "  if LooseVersion(np.__version__) < '1.13':\n",
      "/home/chris/anaconda3/lib/python3.7/site-packages/setuptools/_distutils/version.py:351: DeprecationWarning: distutils Version classes are deprecated. Use packaging.version instead.\n",
      "  other = LooseVersion(other)\n",
      "/home/chris/anaconda3/lib/python3.7/site-packages/past/builtins/misc.py:45: DeprecationWarning: the imp module is deprecated in favour of importlib; see the module's documentation for alternative uses\n",
      "  from imp import reload\n",
      "/home/chris/anaconda3/lib/python3.7/site-packages/joblib/backports.py:36: DeprecationWarning: distutils Version classes are deprecated. Use packaging.version instead.\n",
      "  if LooseVersion(np.__version__) < '1.13':\n",
      "/home/chris/anaconda3/lib/python3.7/site-packages/setuptools/_distutils/version.py:351: DeprecationWarning: distutils Version classes are deprecated. Use packaging.version instead.\n",
      "  other = LooseVersion(other)\n",
      "/home/chris/anaconda3/lib/python3.7/site-packages/joblib/backports.py:36: DeprecationWarning: distutils Version classes are deprecated. Use packaging.version instead.\n",
      "  if LooseVersion(np.__version__) < '1.13':\n",
      "/home/chris/anaconda3/lib/python3.7/site-packages/setuptools/_distutils/version.py:351: DeprecationWarning: distutils Version classes are deprecated. Use packaging.version instead.\n",
      "  other = LooseVersion(other)\n"
     ]
    },
    {
     "name": "stderr",
     "output_type": "stream",
     "text": [
      "/home/chris/anaconda3/lib/python3.7/site-packages/past/builtins/misc.py:45: DeprecationWarning: the imp module is deprecated in favour of importlib; see the module's documentation for alternative uses\n",
      "  from imp import reload\n",
      "/home/chris/anaconda3/lib/python3.7/site-packages/joblib/backports.py:36: DeprecationWarning: distutils Version classes are deprecated. Use packaging.version instead.\n",
      "  if LooseVersion(np.__version__) < '1.13':\n",
      "/home/chris/anaconda3/lib/python3.7/site-packages/setuptools/_distutils/version.py:351: DeprecationWarning: distutils Version classes are deprecated. Use packaging.version instead.\n",
      "  other = LooseVersion(other)\n",
      "/home/chris/anaconda3/lib/python3.7/site-packages/joblib/backports.py:36: DeprecationWarning: distutils Version classes are deprecated. Use packaging.version instead.\n",
      "  if LooseVersion(np.__version__) < '1.13':\n",
      "/home/chris/anaconda3/lib/python3.7/site-packages/setuptools/_distutils/version.py:351: DeprecationWarning: distutils Version classes are deprecated. Use packaging.version instead.\n",
      "  other = LooseVersion(other)\n",
      "/home/chris/anaconda3/lib/python3.7/site-packages/past/builtins/misc.py:45: DeprecationWarning: the imp module is deprecated in favour of importlib; see the module's documentation for alternative uses\n",
      "  from imp import reload\n",
      "/home/chris/anaconda3/lib/python3.7/site-packages/joblib/backports.py:36: DeprecationWarning: distutils Version classes are deprecated. Use packaging.version instead.\n",
      "  if LooseVersion(np.__version__) < '1.13':\n",
      "/home/chris/anaconda3/lib/python3.7/site-packages/setuptools/_distutils/version.py:351: DeprecationWarning: distutils Version classes are deprecated. Use packaging.version instead.\n",
      "  other = LooseVersion(other)\n",
      "/home/chris/anaconda3/lib/python3.7/site-packages/joblib/backports.py:36: DeprecationWarning: distutils Version classes are deprecated. Use packaging.version instead.\n",
      "  if LooseVersion(np.__version__) < '1.13':\n",
      "/home/chris/anaconda3/lib/python3.7/site-packages/setuptools/_distutils/version.py:351: DeprecationWarning: distutils Version classes are deprecated. Use packaging.version instead.\n",
      "  other = LooseVersion(other)\n",
      "/home/chris/anaconda3/lib/python3.7/site-packages/joblib/backports.py:36: DeprecationWarning: distutils Version classes are deprecated. Use packaging.version instead.\n",
      "  if LooseVersion(np.__version__) < '1.13':\n",
      "/home/chris/anaconda3/lib/python3.7/site-packages/setuptools/_distutils/version.py:351: DeprecationWarning: distutils Version classes are deprecated. Use packaging.version instead.\n",
      "  other = LooseVersion(other)\n",
      "/home/chris/anaconda3/lib/python3.7/site-packages/joblib/backports.py:36: DeprecationWarning: distutils Version classes are deprecated. Use packaging.version instead.\n",
      "  if LooseVersion(np.__version__) < '1.13':\n",
      "/home/chris/anaconda3/lib/python3.7/site-packages/setuptools/_distutils/version.py:351: DeprecationWarning: distutils Version classes are deprecated. Use packaging.version instead.\n",
      "  other = LooseVersion(other)\n",
      "/home/chris/anaconda3/lib/python3.7/site-packages/joblib/backports.py:36: DeprecationWarning: distutils Version classes are deprecated. Use packaging.version instead.\n",
      "  if LooseVersion(np.__version__) < '1.13':\n",
      "/home/chris/anaconda3/lib/python3.7/site-packages/setuptools/_distutils/version.py:351: DeprecationWarning: distutils Version classes are deprecated. Use packaging.version instead.\n",
      "  other = LooseVersion(other)\n",
      "/home/chris/anaconda3/lib/python3.7/site-packages/joblib/backports.py:36: DeprecationWarning: distutils Version classes are deprecated. Use packaging.version instead.\n",
      "  if LooseVersion(np.__version__) < '1.13':\n",
      "/home/chris/anaconda3/lib/python3.7/site-packages/setuptools/_distutils/version.py:351: DeprecationWarning: distutils Version classes are deprecated. Use packaging.version instead.\n",
      "  other = LooseVersion(other)\n"
     ]
    }
   ],
   "source": [
    "plot_model(lda, plot = 'topic_model')"
   ]
  },
  {
   "cell_type": "code",
   "execution_count": 19,
   "id": "c9f83d52",
   "metadata": {},
   "outputs": [
    {
     "data": {
      "text/html": [
       "        <script type=\"text/javascript\">\n",
       "        window.PlotlyConfig = {MathJaxConfig: 'local'};\n",
       "        if (window.MathJax) {MathJax.Hub.Config({SVG: {font: \"STIX-Web\"}});}\n",
       "        if (typeof require !== 'undefined') {\n",
       "        require.undef(\"plotly\");\n",
       "        requirejs.config({\n",
       "            paths: {\n",
       "                'plotly': ['https://cdn.plot.ly/plotly-2.11.1.min']\n",
       "            }\n",
       "        });\n",
       "        require(['plotly'], function(Plotly) {\n",
       "            window._Plotly = Plotly;\n",
       "        });\n",
       "        }\n",
       "        </script>\n",
       "        "
      ]
     },
     "metadata": {},
     "output_type": "display_data"
    },
    {
     "name": "stderr",
     "output_type": "stream",
     "text": [
      "IOPub message rate exceeded.\n",
      "The notebook server will temporarily stop sending output\n",
      "to the client in order to avoid crashing it.\n",
      "To change this limit, set the config variable\n",
      "`--NotebookApp.iopub_msg_rate_limit`.\n",
      "\n",
      "Current values:\n",
      "NotebookApp.iopub_msg_rate_limit=1000.0 (msgs/sec)\n",
      "NotebookApp.rate_limit_window=3.0 (secs)\n",
      "\n",
      "IOPub message rate exceeded.\n",
      "The notebook server will temporarily stop sending output\n",
      "to the client in order to avoid crashing it.\n",
      "To change this limit, set the config variable\n",
      "`--NotebookApp.iopub_msg_rate_limit`.\n",
      "\n",
      "Current values:\n",
      "NotebookApp.iopub_msg_rate_limit=1000.0 (msgs/sec)\n",
      "NotebookApp.rate_limit_window=3.0 (secs)\n",
      "\n"
     ]
    },
    {
     "data": {
      "application/vnd.plotly.v1+json": {
       "config": {
        "linkText": "Export to plot.ly",
        "plotlyServerURL": "https://plot.ly",
        "showLink": true
       },
       "data": [
        {
         "marker": {
          "color": "rgba(255, 153, 51, 0.6)",
          "line": {
           "color": "rgba(255, 153, 51, 1.0)",
           "width": 1
          }
         },
         "name": "count",
         "orientation": "v",
         "text": "",
         "type": "bar",
         "x": [
          "say statement",
          "official say",
          "federal government",
          "trump say",
          "presidential election",
          "say say",
          "national security",
          "trump campaign",
          "also say",
          "source say",
          "tax bill",
          "presidential campaign",
          "tell reuter",
          "next year",
          "spokesman say",
          "russian government",
          "take office",
          "american people",
          "percent percent",
          "say want",
          "say also",
          "next week",
          "statement say",
          "report say",
          "tax plan",
          "first time",
          "say make",
          "expert say",
          "state local",
          "say plan",
          "republican lawmaker",
          "make decision",
          "recent year",
          "government official",
          "say add",
          "administration official",
          "company say",
          "bill pass",
          "election campaign",
          "make public",
          "deep state",
          "government say",
          "say former",
          "white_house official",
          "tax cut",
          "former official",
          "federal agency",
          "secretary state",
          "say company",
          "say administration",
          "early year",
          "republican leader",
          "republican senator",
          "group say",
          "influence election",
          "intelligence official",
          "white_house say",
          "lawmaker say",
          "medium report",
          "lawyer say",
          "people say",
          "federal court",
          "senior official",
          "state department",
          "decision make",
          "say government",
          "aide say",
          "say interview",
          "say expect",
          "say email",
          "social security",
          "analyst say",
          "make clear",
          "federal funding",
          "say letter",
          "federal law",
          "year say",
          "say report",
          "also include",
          "bill say",
          "campaign say",
          "new rule",
          "government agency",
          "tax legislation",
          "say think",
          "take step",
          "say believe",
          "say go",
          "trump also",
          "long time",
          "say support",
          "state say",
          "take action",
          "say trump",
          "former former",
          "go say",
          "american worker",
          "campaign promise",
          "federal judge",
          "official tell"
         ],
         "y": [
          315,
          243,
          177,
          160,
          156,
          137,
          132,
          116,
          107,
          105,
          102,
          100,
          99,
          97,
          94,
          89,
          86,
          83,
          80,
          79,
          75,
          74,
          69,
          68,
          66,
          65,
          64,
          63,
          63,
          62,
          59,
          57,
          57,
          56,
          55,
          54,
          54,
          54,
          53,
          53,
          53,
          53,
          52,
          51,
          51,
          50,
          50,
          50,
          50,
          50,
          49,
          48,
          48,
          48,
          48,
          47,
          47,
          46,
          46,
          46,
          45,
          45,
          44,
          44,
          44,
          44,
          43,
          43,
          43,
          43,
          42,
          42,
          42,
          42,
          42,
          42,
          41,
          41,
          41,
          40,
          39,
          39,
          39,
          39,
          39,
          38,
          38,
          38,
          38,
          38,
          38,
          37,
          37,
          37,
          36,
          36,
          36,
          36,
          35,
          35
         ]
        }
       ],
       "layout": {
        "legend": {
         "bgcolor": "#F5F6F9",
         "font": {
          "color": "#4D5663"
         }
        },
        "paper_bgcolor": "#F5F6F9",
        "plot_bgcolor": "#F5F6F9",
        "template": {
         "data": {
          "bar": [
           {
            "error_x": {
             "color": "#2a3f5f"
            },
            "error_y": {
             "color": "#2a3f5f"
            },
            "marker": {
             "line": {
              "color": "#E5ECF6",
              "width": 0.5
             },
             "pattern": {
              "fillmode": "overlay",
              "size": 10,
              "solidity": 0.2
             }
            },
            "type": "bar"
           }
          ],
          "barpolar": [
           {
            "marker": {
             "line": {
              "color": "#E5ECF6",
              "width": 0.5
             },
             "pattern": {
              "fillmode": "overlay",
              "size": 10,
              "solidity": 0.2
             }
            },
            "type": "barpolar"
           }
          ],
          "carpet": [
           {
            "aaxis": {
             "endlinecolor": "#2a3f5f",
             "gridcolor": "white",
             "linecolor": "white",
             "minorgridcolor": "white",
             "startlinecolor": "#2a3f5f"
            },
            "baxis": {
             "endlinecolor": "#2a3f5f",
             "gridcolor": "white",
             "linecolor": "white",
             "minorgridcolor": "white",
             "startlinecolor": "#2a3f5f"
            },
            "type": "carpet"
           }
          ],
          "choropleth": [
           {
            "colorbar": {
             "outlinewidth": 0,
             "ticks": ""
            },
            "type": "choropleth"
           }
          ],
          "contour": [
           {
            "colorbar": {
             "outlinewidth": 0,
             "ticks": ""
            },
            "colorscale": [
             [
              0,
              "#0d0887"
             ],
             [
              0.1111111111111111,
              "#46039f"
             ],
             [
              0.2222222222222222,
              "#7201a8"
             ],
             [
              0.3333333333333333,
              "#9c179e"
             ],
             [
              0.4444444444444444,
              "#bd3786"
             ],
             [
              0.5555555555555556,
              "#d8576b"
             ],
             [
              0.6666666666666666,
              "#ed7953"
             ],
             [
              0.7777777777777778,
              "#fb9f3a"
             ],
             [
              0.8888888888888888,
              "#fdca26"
             ],
             [
              1,
              "#f0f921"
             ]
            ],
            "type": "contour"
           }
          ],
          "contourcarpet": [
           {
            "colorbar": {
             "outlinewidth": 0,
             "ticks": ""
            },
            "type": "contourcarpet"
           }
          ],
          "heatmap": [
           {
            "colorbar": {
             "outlinewidth": 0,
             "ticks": ""
            },
            "colorscale": [
             [
              0,
              "#0d0887"
             ],
             [
              0.1111111111111111,
              "#46039f"
             ],
             [
              0.2222222222222222,
              "#7201a8"
             ],
             [
              0.3333333333333333,
              "#9c179e"
             ],
             [
              0.4444444444444444,
              "#bd3786"
             ],
             [
              0.5555555555555556,
              "#d8576b"
             ],
             [
              0.6666666666666666,
              "#ed7953"
             ],
             [
              0.7777777777777778,
              "#fb9f3a"
             ],
             [
              0.8888888888888888,
              "#fdca26"
             ],
             [
              1,
              "#f0f921"
             ]
            ],
            "type": "heatmap"
           }
          ],
          "heatmapgl": [
           {
            "colorbar": {
             "outlinewidth": 0,
             "ticks": ""
            },
            "colorscale": [
             [
              0,
              "#0d0887"
             ],
             [
              0.1111111111111111,
              "#46039f"
             ],
             [
              0.2222222222222222,
              "#7201a8"
             ],
             [
              0.3333333333333333,
              "#9c179e"
             ],
             [
              0.4444444444444444,
              "#bd3786"
             ],
             [
              0.5555555555555556,
              "#d8576b"
             ],
             [
              0.6666666666666666,
              "#ed7953"
             ],
             [
              0.7777777777777778,
              "#fb9f3a"
             ],
             [
              0.8888888888888888,
              "#fdca26"
             ],
             [
              1,
              "#f0f921"
             ]
            ],
            "type": "heatmapgl"
           }
          ],
          "histogram": [
           {
            "marker": {
             "pattern": {
              "fillmode": "overlay",
              "size": 10,
              "solidity": 0.2
             }
            },
            "type": "histogram"
           }
          ],
          "histogram2d": [
           {
            "colorbar": {
             "outlinewidth": 0,
             "ticks": ""
            },
            "colorscale": [
             [
              0,
              "#0d0887"
             ],
             [
              0.1111111111111111,
              "#46039f"
             ],
             [
              0.2222222222222222,
              "#7201a8"
             ],
             [
              0.3333333333333333,
              "#9c179e"
             ],
             [
              0.4444444444444444,
              "#bd3786"
             ],
             [
              0.5555555555555556,
              "#d8576b"
             ],
             [
              0.6666666666666666,
              "#ed7953"
             ],
             [
              0.7777777777777778,
              "#fb9f3a"
             ],
             [
              0.8888888888888888,
              "#fdca26"
             ],
             [
              1,
              "#f0f921"
             ]
            ],
            "type": "histogram2d"
           }
          ],
          "histogram2dcontour": [
           {
            "colorbar": {
             "outlinewidth": 0,
             "ticks": ""
            },
            "colorscale": [
             [
              0,
              "#0d0887"
             ],
             [
              0.1111111111111111,
              "#46039f"
             ],
             [
              0.2222222222222222,
              "#7201a8"
             ],
             [
              0.3333333333333333,
              "#9c179e"
             ],
             [
              0.4444444444444444,
              "#bd3786"
             ],
             [
              0.5555555555555556,
              "#d8576b"
             ],
             [
              0.6666666666666666,
              "#ed7953"
             ],
             [
              0.7777777777777778,
              "#fb9f3a"
             ],
             [
              0.8888888888888888,
              "#fdca26"
             ],
             [
              1,
              "#f0f921"
             ]
            ],
            "type": "histogram2dcontour"
           }
          ],
          "mesh3d": [
           {
            "colorbar": {
             "outlinewidth": 0,
             "ticks": ""
            },
            "type": "mesh3d"
           }
          ],
          "parcoords": [
           {
            "line": {
             "colorbar": {
              "outlinewidth": 0,
              "ticks": ""
             }
            },
            "type": "parcoords"
           }
          ],
          "pie": [
           {
            "automargin": true,
            "type": "pie"
           }
          ],
          "scatter": [
           {
            "fillpattern": {
             "fillmode": "overlay",
             "size": 10,
             "solidity": 0.2
            },
            "type": "scatter"
           }
          ],
          "scatter3d": [
           {
            "line": {
             "colorbar": {
              "outlinewidth": 0,
              "ticks": ""
             }
            },
            "marker": {
             "colorbar": {
              "outlinewidth": 0,
              "ticks": ""
             }
            },
            "type": "scatter3d"
           }
          ],
          "scattercarpet": [
           {
            "marker": {
             "colorbar": {
              "outlinewidth": 0,
              "ticks": ""
             }
            },
            "type": "scattercarpet"
           }
          ],
          "scattergeo": [
           {
            "marker": {
             "colorbar": {
              "outlinewidth": 0,
              "ticks": ""
             }
            },
            "type": "scattergeo"
           }
          ],
          "scattergl": [
           {
            "marker": {
             "colorbar": {
              "outlinewidth": 0,
              "ticks": ""
             }
            },
            "type": "scattergl"
           }
          ],
          "scattermapbox": [
           {
            "marker": {
             "colorbar": {
              "outlinewidth": 0,
              "ticks": ""
             }
            },
            "type": "scattermapbox"
           }
          ],
          "scatterpolar": [
           {
            "marker": {
             "colorbar": {
              "outlinewidth": 0,
              "ticks": ""
             }
            },
            "type": "scatterpolar"
           }
          ],
          "scatterpolargl": [
           {
            "marker": {
             "colorbar": {
              "outlinewidth": 0,
              "ticks": ""
             }
            },
            "type": "scatterpolargl"
           }
          ],
          "scatterternary": [
           {
            "marker": {
             "colorbar": {
              "outlinewidth": 0,
              "ticks": ""
             }
            },
            "type": "scatterternary"
           }
          ],
          "surface": [
           {
            "colorbar": {
             "outlinewidth": 0,
             "ticks": ""
            },
            "colorscale": [
             [
              0,
              "#0d0887"
             ],
             [
              0.1111111111111111,
              "#46039f"
             ],
             [
              0.2222222222222222,
              "#7201a8"
             ],
             [
              0.3333333333333333,
              "#9c179e"
             ],
             [
              0.4444444444444444,
              "#bd3786"
             ],
             [
              0.5555555555555556,
              "#d8576b"
             ],
             [
              0.6666666666666666,
              "#ed7953"
             ],
             [
              0.7777777777777778,
              "#fb9f3a"
             ],
             [
              0.8888888888888888,
              "#fdca26"
             ],
             [
              1,
              "#f0f921"
             ]
            ],
            "type": "surface"
           }
          ],
          "table": [
           {
            "cells": {
             "fill": {
              "color": "#EBF0F8"
             },
             "line": {
              "color": "white"
             }
            },
            "header": {
             "fill": {
              "color": "#C8D4E3"
             },
             "line": {
              "color": "white"
             }
            },
            "type": "table"
           }
          ]
         },
         "layout": {
          "annotationdefaults": {
           "arrowcolor": "#2a3f5f",
           "arrowhead": 0,
           "arrowwidth": 1
          },
          "autotypenumbers": "strict",
          "coloraxis": {
           "colorbar": {
            "outlinewidth": 0,
            "ticks": ""
           }
          },
          "colorscale": {
           "diverging": [
            [
             0,
             "#8e0152"
            ],
            [
             0.1,
             "#c51b7d"
            ],
            [
             0.2,
             "#de77ae"
            ],
            [
             0.3,
             "#f1b6da"
            ],
            [
             0.4,
             "#fde0ef"
            ],
            [
             0.5,
             "#f7f7f7"
            ],
            [
             0.6,
             "#e6f5d0"
            ],
            [
             0.7,
             "#b8e186"
            ],
            [
             0.8,
             "#7fbc41"
            ],
            [
             0.9,
             "#4d9221"
            ],
            [
             1,
             "#276419"
            ]
           ],
           "sequential": [
            [
             0,
             "#0d0887"
            ],
            [
             0.1111111111111111,
             "#46039f"
            ],
            [
             0.2222222222222222,
             "#7201a8"
            ],
            [
             0.3333333333333333,
             "#9c179e"
            ],
            [
             0.4444444444444444,
             "#bd3786"
            ],
            [
             0.5555555555555556,
             "#d8576b"
            ],
            [
             0.6666666666666666,
             "#ed7953"
            ],
            [
             0.7777777777777778,
             "#fb9f3a"
            ],
            [
             0.8888888888888888,
             "#fdca26"
            ],
            [
             1,
             "#f0f921"
            ]
           ],
           "sequentialminus": [
            [
             0,
             "#0d0887"
            ],
            [
             0.1111111111111111,
             "#46039f"
            ],
            [
             0.2222222222222222,
             "#7201a8"
            ],
            [
             0.3333333333333333,
             "#9c179e"
            ],
            [
             0.4444444444444444,
             "#bd3786"
            ],
            [
             0.5555555555555556,
             "#d8576b"
            ],
            [
             0.6666666666666666,
             "#ed7953"
            ],
            [
             0.7777777777777778,
             "#fb9f3a"
            ],
            [
             0.8888888888888888,
             "#fdca26"
            ],
            [
             1,
             "#f0f921"
            ]
           ]
          },
          "colorway": [
           "#636efa",
           "#EF553B",
           "#00cc96",
           "#ab63fa",
           "#FFA15A",
           "#19d3f3",
           "#FF6692",
           "#B6E880",
           "#FF97FF",
           "#FECB52"
          ],
          "font": {
           "color": "#2a3f5f"
          },
          "geo": {
           "bgcolor": "white",
           "lakecolor": "white",
           "landcolor": "#E5ECF6",
           "showlakes": true,
           "showland": true,
           "subunitcolor": "white"
          },
          "hoverlabel": {
           "align": "left"
          },
          "hovermode": "closest",
          "mapbox": {
           "style": "light"
          },
          "paper_bgcolor": "white",
          "plot_bgcolor": "#E5ECF6",
          "polar": {
           "angularaxis": {
            "gridcolor": "white",
            "linecolor": "white",
            "ticks": ""
           },
           "bgcolor": "#E5ECF6",
           "radialaxis": {
            "gridcolor": "white",
            "linecolor": "white",
            "ticks": ""
           }
          },
          "scene": {
           "xaxis": {
            "backgroundcolor": "#E5ECF6",
            "gridcolor": "white",
            "gridwidth": 2,
            "linecolor": "white",
            "showbackground": true,
            "ticks": "",
            "zerolinecolor": "white"
           },
           "yaxis": {
            "backgroundcolor": "#E5ECF6",
            "gridcolor": "white",
            "gridwidth": 2,
            "linecolor": "white",
            "showbackground": true,
            "ticks": "",
            "zerolinecolor": "white"
           },
           "zaxis": {
            "backgroundcolor": "#E5ECF6",
            "gridcolor": "white",
            "gridwidth": 2,
            "linecolor": "white",
            "showbackground": true,
            "ticks": "",
            "zerolinecolor": "white"
           }
          },
          "shapedefaults": {
           "line": {
            "color": "#2a3f5f"
           }
          },
          "ternary": {
           "aaxis": {
            "gridcolor": "white",
            "linecolor": "white",
            "ticks": ""
           },
           "baxis": {
            "gridcolor": "white",
            "linecolor": "white",
            "ticks": ""
           },
           "bgcolor": "#E5ECF6",
           "caxis": {
            "gridcolor": "white",
            "linecolor": "white",
            "ticks": ""
           }
          },
          "title": {
           "x": 0.05
          },
          "xaxis": {
           "automargin": true,
           "gridcolor": "white",
           "linecolor": "white",
           "ticks": "",
           "title": {
            "standoff": 15
           },
           "zerolinecolor": "white",
           "zerolinewidth": 2
          },
          "yaxis": {
           "automargin": true,
           "gridcolor": "white",
           "linecolor": "white",
           "ticks": "",
           "title": {
            "standoff": 15
           },
           "zerolinecolor": "white",
           "zerolinewidth": 2
          }
         }
        },
        "title": {
         "font": {
          "color": "#4D5663"
         },
         "text": "Topic 0: Top 100 bigrams after removing stop words"
        },
        "xaxis": {
         "gridcolor": "#E1E5ED",
         "linecolor": "black",
         "showgrid": true,
         "tickfont": {
          "color": "#4D5663"
         },
         "title": {
          "font": {
           "color": "#4D5663"
          },
          "text": ""
         },
         "zerolinecolor": "#E1E5ED"
        },
        "yaxis": {
         "gridcolor": "#E1E5ED",
         "linecolor": "black",
         "showgrid": true,
         "tickfont": {
          "color": "#4D5663"
         },
         "title": {
          "font": {
           "color": "#4D5663"
          },
          "text": "Count"
         },
         "zerolinecolor": "#E1E5ED"
        }
       }
      },
      "text/html": [
       "<div>                            <div id=\"0d532bdd-e498-4381-8017-e232e572c558\" class=\"plotly-graph-div\" style=\"height:525px; width:100%;\"></div>            <script type=\"text/javascript\">                require([\"plotly\"], function(Plotly) {                    window.PLOTLYENV=window.PLOTLYENV || {};\n",
       "                    window.PLOTLYENV.BASE_URL='https://plot.ly';                                    if (document.getElementById(\"0d532bdd-e498-4381-8017-e232e572c558\")) {                    Plotly.newPlot(                        \"0d532bdd-e498-4381-8017-e232e572c558\",                        [{\"marker\":{\"color\":\"rgba(255, 153, 51, 0.6)\",\"line\":{\"color\":\"rgba(255, 153, 51, 1.0)\",\"width\":1}},\"name\":\"count\",\"orientation\":\"v\",\"text\":\"\",\"x\":[\"say statement\",\"official say\",\"federal government\",\"trump say\",\"presidential election\",\"say say\",\"national security\",\"trump campaign\",\"also say\",\"source say\",\"tax bill\",\"presidential campaign\",\"tell reuter\",\"next year\",\"spokesman say\",\"russian government\",\"take office\",\"american people\",\"percent percent\",\"say want\",\"say also\",\"next week\",\"statement say\",\"report say\",\"tax plan\",\"first time\",\"say make\",\"expert say\",\"state local\",\"say plan\",\"republican lawmaker\",\"make decision\",\"recent year\",\"government official\",\"say add\",\"administration official\",\"company say\",\"bill pass\",\"election campaign\",\"make public\",\"deep state\",\"government say\",\"say former\",\"white_house official\",\"tax cut\",\"former official\",\"federal agency\",\"secretary state\",\"say company\",\"say administration\",\"early year\",\"republican leader\",\"republican senator\",\"group say\",\"influence election\",\"intelligence official\",\"white_house say\",\"lawmaker say\",\"medium report\",\"lawyer say\",\"people say\",\"federal court\",\"senior official\",\"state department\",\"decision make\",\"say government\",\"aide say\",\"say interview\",\"say expect\",\"say email\",\"social security\",\"analyst say\",\"make clear\",\"federal funding\",\"say letter\",\"federal law\",\"year say\",\"say report\",\"also include\",\"bill say\",\"campaign say\",\"new rule\",\"government agency\",\"tax legislation\",\"say think\",\"take step\",\"say believe\",\"say go\",\"trump also\",\"long time\",\"say support\",\"state say\",\"take action\",\"say trump\",\"former former\",\"go say\",\"american worker\",\"campaign promise\",\"federal judge\",\"official tell\"],\"y\":[315,243,177,160,156,137,132,116,107,105,102,100,99,97,94,89,86,83,80,79,75,74,69,68,66,65,64,63,63,62,59,57,57,56,55,54,54,54,53,53,53,53,52,51,51,50,50,50,50,50,49,48,48,48,48,47,47,46,46,46,45,45,44,44,44,44,43,43,43,43,42,42,42,42,42,42,41,41,41,40,39,39,39,39,39,38,38,38,38,38,38,37,37,37,36,36,36,36,35,35],\"type\":\"bar\"}],                        {\"legend\":{\"bgcolor\":\"#F5F6F9\",\"font\":{\"color\":\"#4D5663\"}},\"paper_bgcolor\":\"#F5F6F9\",\"plot_bgcolor\":\"#F5F6F9\",\"template\":{\"data\":{\"barpolar\":[{\"marker\":{\"line\":{\"color\":\"#E5ECF6\",\"width\":0.5},\"pattern\":{\"fillmode\":\"overlay\",\"size\":10,\"solidity\":0.2}},\"type\":\"barpolar\"}],\"bar\":[{\"error_x\":{\"color\":\"#2a3f5f\"},\"error_y\":{\"color\":\"#2a3f5f\"},\"marker\":{\"line\":{\"color\":\"#E5ECF6\",\"width\":0.5},\"pattern\":{\"fillmode\":\"overlay\",\"size\":10,\"solidity\":0.2}},\"type\":\"bar\"}],\"carpet\":[{\"aaxis\":{\"endlinecolor\":\"#2a3f5f\",\"gridcolor\":\"white\",\"linecolor\":\"white\",\"minorgridcolor\":\"white\",\"startlinecolor\":\"#2a3f5f\"},\"baxis\":{\"endlinecolor\":\"#2a3f5f\",\"gridcolor\":\"white\",\"linecolor\":\"white\",\"minorgridcolor\":\"white\",\"startlinecolor\":\"#2a3f5f\"},\"type\":\"carpet\"}],\"choropleth\":[{\"colorbar\":{\"outlinewidth\":0,\"ticks\":\"\"},\"type\":\"choropleth\"}],\"contourcarpet\":[{\"colorbar\":{\"outlinewidth\":0,\"ticks\":\"\"},\"type\":\"contourcarpet\"}],\"contour\":[{\"colorbar\":{\"outlinewidth\":0,\"ticks\":\"\"},\"colorscale\":[[0.0,\"#0d0887\"],[0.1111111111111111,\"#46039f\"],[0.2222222222222222,\"#7201a8\"],[0.3333333333333333,\"#9c179e\"],[0.4444444444444444,\"#bd3786\"],[0.5555555555555556,\"#d8576b\"],[0.6666666666666666,\"#ed7953\"],[0.7777777777777778,\"#fb9f3a\"],[0.8888888888888888,\"#fdca26\"],[1.0,\"#f0f921\"]],\"type\":\"contour\"}],\"heatmapgl\":[{\"colorbar\":{\"outlinewidth\":0,\"ticks\":\"\"},\"colorscale\":[[0.0,\"#0d0887\"],[0.1111111111111111,\"#46039f\"],[0.2222222222222222,\"#7201a8\"],[0.3333333333333333,\"#9c179e\"],[0.4444444444444444,\"#bd3786\"],[0.5555555555555556,\"#d8576b\"],[0.6666666666666666,\"#ed7953\"],[0.7777777777777778,\"#fb9f3a\"],[0.8888888888888888,\"#fdca26\"],[1.0,\"#f0f921\"]],\"type\":\"heatmapgl\"}],\"heatmap\":[{\"colorbar\":{\"outlinewidth\":0,\"ticks\":\"\"},\"colorscale\":[[0.0,\"#0d0887\"],[0.1111111111111111,\"#46039f\"],[0.2222222222222222,\"#7201a8\"],[0.3333333333333333,\"#9c179e\"],[0.4444444444444444,\"#bd3786\"],[0.5555555555555556,\"#d8576b\"],[0.6666666666666666,\"#ed7953\"],[0.7777777777777778,\"#fb9f3a\"],[0.8888888888888888,\"#fdca26\"],[1.0,\"#f0f921\"]],\"type\":\"heatmap\"}],\"histogram2dcontour\":[{\"colorbar\":{\"outlinewidth\":0,\"ticks\":\"\"},\"colorscale\":[[0.0,\"#0d0887\"],[0.1111111111111111,\"#46039f\"],[0.2222222222222222,\"#7201a8\"],[0.3333333333333333,\"#9c179e\"],[0.4444444444444444,\"#bd3786\"],[0.5555555555555556,\"#d8576b\"],[0.6666666666666666,\"#ed7953\"],[0.7777777777777778,\"#fb9f3a\"],[0.8888888888888888,\"#fdca26\"],[1.0,\"#f0f921\"]],\"type\":\"histogram2dcontour\"}],\"histogram2d\":[{\"colorbar\":{\"outlinewidth\":0,\"ticks\":\"\"},\"colorscale\":[[0.0,\"#0d0887\"],[0.1111111111111111,\"#46039f\"],[0.2222222222222222,\"#7201a8\"],[0.3333333333333333,\"#9c179e\"],[0.4444444444444444,\"#bd3786\"],[0.5555555555555556,\"#d8576b\"],[0.6666666666666666,\"#ed7953\"],[0.7777777777777778,\"#fb9f3a\"],[0.8888888888888888,\"#fdca26\"],[1.0,\"#f0f921\"]],\"type\":\"histogram2d\"}],\"histogram\":[{\"marker\":{\"pattern\":{\"fillmode\":\"overlay\",\"size\":10,\"solidity\":0.2}},\"type\":\"histogram\"}],\"mesh3d\":[{\"colorbar\":{\"outlinewidth\":0,\"ticks\":\"\"},\"type\":\"mesh3d\"}],\"parcoords\":[{\"line\":{\"colorbar\":{\"outlinewidth\":0,\"ticks\":\"\"}},\"type\":\"parcoords\"}],\"pie\":[{\"automargin\":true,\"type\":\"pie\"}],\"scatter3d\":[{\"line\":{\"colorbar\":{\"outlinewidth\":0,\"ticks\":\"\"}},\"marker\":{\"colorbar\":{\"outlinewidth\":0,\"ticks\":\"\"}},\"type\":\"scatter3d\"}],\"scattercarpet\":[{\"marker\":{\"colorbar\":{\"outlinewidth\":0,\"ticks\":\"\"}},\"type\":\"scattercarpet\"}],\"scattergeo\":[{\"marker\":{\"colorbar\":{\"outlinewidth\":0,\"ticks\":\"\"}},\"type\":\"scattergeo\"}],\"scattergl\":[{\"marker\":{\"colorbar\":{\"outlinewidth\":0,\"ticks\":\"\"}},\"type\":\"scattergl\"}],\"scattermapbox\":[{\"marker\":{\"colorbar\":{\"outlinewidth\":0,\"ticks\":\"\"}},\"type\":\"scattermapbox\"}],\"scatterpolargl\":[{\"marker\":{\"colorbar\":{\"outlinewidth\":0,\"ticks\":\"\"}},\"type\":\"scatterpolargl\"}],\"scatterpolar\":[{\"marker\":{\"colorbar\":{\"outlinewidth\":0,\"ticks\":\"\"}},\"type\":\"scatterpolar\"}],\"scatter\":[{\"fillpattern\":{\"fillmode\":\"overlay\",\"size\":10,\"solidity\":0.2},\"type\":\"scatter\"}],\"scatterternary\":[{\"marker\":{\"colorbar\":{\"outlinewidth\":0,\"ticks\":\"\"}},\"type\":\"scatterternary\"}],\"surface\":[{\"colorbar\":{\"outlinewidth\":0,\"ticks\":\"\"},\"colorscale\":[[0.0,\"#0d0887\"],[0.1111111111111111,\"#46039f\"],[0.2222222222222222,\"#7201a8\"],[0.3333333333333333,\"#9c179e\"],[0.4444444444444444,\"#bd3786\"],[0.5555555555555556,\"#d8576b\"],[0.6666666666666666,\"#ed7953\"],[0.7777777777777778,\"#fb9f3a\"],[0.8888888888888888,\"#fdca26\"],[1.0,\"#f0f921\"]],\"type\":\"surface\"}],\"table\":[{\"cells\":{\"fill\":{\"color\":\"#EBF0F8\"},\"line\":{\"color\":\"white\"}},\"header\":{\"fill\":{\"color\":\"#C8D4E3\"},\"line\":{\"color\":\"white\"}},\"type\":\"table\"}]},\"layout\":{\"annotationdefaults\":{\"arrowcolor\":\"#2a3f5f\",\"arrowhead\":0,\"arrowwidth\":1},\"autotypenumbers\":\"strict\",\"coloraxis\":{\"colorbar\":{\"outlinewidth\":0,\"ticks\":\"\"}},\"colorscale\":{\"diverging\":[[0,\"#8e0152\"],[0.1,\"#c51b7d\"],[0.2,\"#de77ae\"],[0.3,\"#f1b6da\"],[0.4,\"#fde0ef\"],[0.5,\"#f7f7f7\"],[0.6,\"#e6f5d0\"],[0.7,\"#b8e186\"],[0.8,\"#7fbc41\"],[0.9,\"#4d9221\"],[1,\"#276419\"]],\"sequential\":[[0.0,\"#0d0887\"],[0.1111111111111111,\"#46039f\"],[0.2222222222222222,\"#7201a8\"],[0.3333333333333333,\"#9c179e\"],[0.4444444444444444,\"#bd3786\"],[0.5555555555555556,\"#d8576b\"],[0.6666666666666666,\"#ed7953\"],[0.7777777777777778,\"#fb9f3a\"],[0.8888888888888888,\"#fdca26\"],[1.0,\"#f0f921\"]],\"sequentialminus\":[[0.0,\"#0d0887\"],[0.1111111111111111,\"#46039f\"],[0.2222222222222222,\"#7201a8\"],[0.3333333333333333,\"#9c179e\"],[0.4444444444444444,\"#bd3786\"],[0.5555555555555556,\"#d8576b\"],[0.6666666666666666,\"#ed7953\"],[0.7777777777777778,\"#fb9f3a\"],[0.8888888888888888,\"#fdca26\"],[1.0,\"#f0f921\"]]},\"colorway\":[\"#636efa\",\"#EF553B\",\"#00cc96\",\"#ab63fa\",\"#FFA15A\",\"#19d3f3\",\"#FF6692\",\"#B6E880\",\"#FF97FF\",\"#FECB52\"],\"font\":{\"color\":\"#2a3f5f\"},\"geo\":{\"bgcolor\":\"white\",\"lakecolor\":\"white\",\"landcolor\":\"#E5ECF6\",\"showlakes\":true,\"showland\":true,\"subunitcolor\":\"white\"},\"hoverlabel\":{\"align\":\"left\"},\"hovermode\":\"closest\",\"mapbox\":{\"style\":\"light\"},\"paper_bgcolor\":\"white\",\"plot_bgcolor\":\"#E5ECF6\",\"polar\":{\"angularaxis\":{\"gridcolor\":\"white\",\"linecolor\":\"white\",\"ticks\":\"\"},\"bgcolor\":\"#E5ECF6\",\"radialaxis\":{\"gridcolor\":\"white\",\"linecolor\":\"white\",\"ticks\":\"\"}},\"scene\":{\"xaxis\":{\"backgroundcolor\":\"#E5ECF6\",\"gridcolor\":\"white\",\"gridwidth\":2,\"linecolor\":\"white\",\"showbackground\":true,\"ticks\":\"\",\"zerolinecolor\":\"white\"},\"yaxis\":{\"backgroundcolor\":\"#E5ECF6\",\"gridcolor\":\"white\",\"gridwidth\":2,\"linecolor\":\"white\",\"showbackground\":true,\"ticks\":\"\",\"zerolinecolor\":\"white\"},\"zaxis\":{\"backgroundcolor\":\"#E5ECF6\",\"gridcolor\":\"white\",\"gridwidth\":2,\"linecolor\":\"white\",\"showbackground\":true,\"ticks\":\"\",\"zerolinecolor\":\"white\"}},\"shapedefaults\":{\"line\":{\"color\":\"#2a3f5f\"}},\"ternary\":{\"aaxis\":{\"gridcolor\":\"white\",\"linecolor\":\"white\",\"ticks\":\"\"},\"baxis\":{\"gridcolor\":\"white\",\"linecolor\":\"white\",\"ticks\":\"\"},\"bgcolor\":\"#E5ECF6\",\"caxis\":{\"gridcolor\":\"white\",\"linecolor\":\"white\",\"ticks\":\"\"}},\"title\":{\"x\":0.05},\"xaxis\":{\"automargin\":true,\"gridcolor\":\"white\",\"linecolor\":\"white\",\"ticks\":\"\",\"title\":{\"standoff\":15},\"zerolinecolor\":\"white\",\"zerolinewidth\":2},\"yaxis\":{\"automargin\":true,\"gridcolor\":\"white\",\"linecolor\":\"white\",\"ticks\":\"\",\"title\":{\"standoff\":15},\"zerolinecolor\":\"white\",\"zerolinewidth\":2}}},\"title\":{\"font\":{\"color\":\"#4D5663\"},\"text\":\"Topic 0: Top 100 bigrams after removing stop words\"},\"xaxis\":{\"gridcolor\":\"#E1E5ED\",\"linecolor\":\"black\",\"showgrid\":true,\"tickfont\":{\"color\":\"#4D5663\"},\"title\":{\"font\":{\"color\":\"#4D5663\"},\"text\":\"\"},\"zerolinecolor\":\"#E1E5ED\"},\"yaxis\":{\"gridcolor\":\"#E1E5ED\",\"linecolor\":\"black\",\"showgrid\":true,\"tickfont\":{\"color\":\"#4D5663\"},\"title\":{\"font\":{\"color\":\"#4D5663\"},\"text\":\"Count\"},\"zerolinecolor\":\"#E1E5ED\"}},                        {\"showLink\": true, \"linkText\": \"Export to plot.ly\", \"plotlyServerURL\": \"https://plot.ly\", \"responsive\": true}                    ).then(function(){\n",
       "                            \n",
       "var gd = document.getElementById('0d532bdd-e498-4381-8017-e232e572c558');\n",
       "var x = new MutationObserver(function (mutations, observer) {{\n",
       "        var display = window.getComputedStyle(gd).display;\n",
       "        if (!display || display === 'none') {{\n",
       "            console.log([gd, 'removed!']);\n",
       "            Plotly.purge(gd);\n",
       "            observer.disconnect();\n",
       "        }}\n",
       "}});\n",
       "\n",
       "// Listen for the removal of the full notebook cells\n",
       "var notebookContainer = gd.closest('#notebook-container');\n",
       "if (notebookContainer) {{\n",
       "    x.observe(notebookContainer, {childList: true});\n",
       "}}\n",
       "\n",
       "// Listen for the clearing of the current output cell\n",
       "var outputEl = gd.closest('.output');\n",
       "if (outputEl) {{\n",
       "    x.observe(outputEl, {childList: true});\n",
       "}}\n",
       "\n",
       "                        })                };                });            </script>        </div>"
      ]
     },
     "metadata": {},
     "output_type": "display_data"
    }
   ],
   "source": [
    "plot_model(lda, plot = 'bigram')"
   ]
  },
  {
   "cell_type": "code",
   "execution_count": null,
   "id": "9b58524c",
   "metadata": {},
   "outputs": [],
   "source": []
  }
 ],
 "metadata": {
  "kernelspec": {
   "display_name": "Python 3 (ipykernel)",
   "language": "python",
   "name": "python3"
  },
  "language_info": {
   "codemirror_mode": {
    "name": "ipython",
    "version": 3
   },
   "file_extension": ".py",
   "mimetype": "text/x-python",
   "name": "python",
   "nbconvert_exporter": "python",
   "pygments_lexer": "ipython3",
   "version": "3.7.11"
  }
 },
 "nbformat": 4,
 "nbformat_minor": 5
}
